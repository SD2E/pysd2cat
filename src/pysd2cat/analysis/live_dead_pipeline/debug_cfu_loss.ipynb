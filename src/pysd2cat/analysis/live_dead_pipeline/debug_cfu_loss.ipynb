{
 "cells": [
  {
   "cell_type": "markdown",
   "metadata": {},
   "source": [
    "## Imports and Options"
   ]
  },
  {
   "cell_type": "code",
   "execution_count": 2,
   "metadata": {},
   "outputs": [],
   "source": [
    "import os\n",
    "import sys\n",
    "import time\n",
    "import numpy as np\n",
    "import pandas as pd\n",
    "import tensorflow as tf\n",
    "import keras\n",
    "import keras.backend as K\n",
    "import matplotlib.pyplot as plt\n",
    "from keras.optimizers import SGD, Adam\n",
    "from keras.models import Sequential\n",
    "from keras.regularizers import l1_l2\n",
    "from sklearn.metrics import accuracy_score\n",
    "from collections import OrderedDict, Counter\n",
    "from tensorflow.python.ops import gen_array_ops\n",
    "from keras.layers import Dense, Dropout, Flatten\n",
    "from names import Names as n"
   ]
  },
  {
   "cell_type": "code",
   "execution_count": 3,
   "metadata": {},
   "outputs": [],
   "source": [
    "pd.set_option('display.max_columns', 500)\n",
    "pd.set_option('display.width', 10000)\n",
    "pd.set_option('display.max_colwidth', None)"
   ]
  },
  {
   "cell_type": "code",
   "execution_count": 4,
   "metadata": {},
   "outputs": [],
   "source": [
    "col_idx = OrderedDict([(n.label, 0), (\"inducer_concentration\", 1), (\"timepoint\", 2), (\"percent_live\", 3)])\n",
    "closure_col_idx = OrderedDict([(\"inducer_concentration\", 0), (\"timepoint\", 1), (\"percent_live\", 2)])"
   ]
  },
  {
   "cell_type": "markdown",
   "metadata": {},
   "source": [
    "## Utility Functions"
   ]
  },
  {
   "cell_type": "code",
   "execution_count": 5,
   "metadata": {},
   "outputs": [],
   "source": [
    "def training_progress(fitted_model, metrics, num_plots, plot_val=None):\n",
    "    '''\n",
    "    A function for plotting the model history by showing the metric and loss throughout training\n",
    "    '''\n",
    "    plt.subplot(1, num_plots, 2)\n",
    "    plt.plot(fitted_model.history['loss'], label='train loss')\n",
    "    if plot_val is not None:\n",
    "        plt.plot(fitted_model.history['val_loss'], label='val loss')\n",
    "    plt.title('Loss')\n",
    "    plt.legend()\n",
    "\n",
    "    for i, metric in enumerate(metrics):\n",
    "        subplot_number = i + 3\n",
    "        plt.subplot(1, num_plots, subplot_number)\n",
    "        plt.plot(fitted_model.history[metric], label=str(metric))\n",
    "        if plot_val is not None:\n",
    "            plt.plot(fitted_model.history[f'val_{metric}'], label=f'val_{metric}')\n",
    "        plt.title(str(metric))\n",
    "        plt.legend()\n",
    "\n",
    "    plt.show()\n",
    "\n",
    "\n",
    "def plot_model_result(model, fitted_model, metrics, train, test, feature_cols, plot_val=None):\n",
    "    '''\n",
    "    plot the foe_probabilities of a model\n",
    "    plot the training history\n",
    "    show training and testing accuracy\n",
    "    '''\n",
    "    num_plots = len(metrics) + 2\n",
    "    probas = model.predict_proba(train[feature_cols])\n",
    "    plt.figure(figsize=(15, 5))\n",
    "    plt.subplot(1, num_plots, 1)\n",
    "    plt.hist(probas)\n",
    "    plt.xlabel('predict_proba')\n",
    "    training_progress(fitted_model, metrics, num_plots, plot_val)"
   ]
  },
  {
   "cell_type": "markdown",
   "metadata": {},
   "source": [
    "# Begin Debug"
   ]
  },
  {
   "cell_type": "markdown",
   "metadata": {},
   "source": [
    "## Prepare Data"
   ]
  },
  {
   "cell_type": "code",
   "execution_count": 6,
   "metadata": {
    "scrolled": true
   },
   "outputs": [
    {
     "name": "stdout",
     "output_type": "stream",
     "text": [
      "(259542, 10) \n",
      "\n",
      "80.0    1000\n",
      "0.0     1000\n",
      "Name: inducer_concentration, dtype: int64 \n",
      "\n",
      "0.0    1035\n",
      "1.0     965\n",
      "Name: label, dtype: int64 \n",
      "\n",
      "0.0      1000\n",
      "100.0    1000\n",
      "Name: percent_live, dtype: int64 \n",
      "\n"
     ]
    }
   ],
   "source": [
    "df = pd.read_csv(\"models/cfu_neural_network/df_for_testing.csv\")\n",
    "print(df.shape, \"\\n\")\n",
    "\n",
    "# df = df.loc[df[\"timepoint\"].isin([1.0])]\n",
    "# df = df.loc[df[\"inducer_concentration\"].isin([5.0])]\n",
    "\n",
    "# df = df.loc[df[n.timepoint].isin([6.0, 1.0])]\n",
    "# df = df.loc[df[n.inducer_concentration].isin([0.0, 80.0, 5.0])]\n",
    "\n",
    "df = df.loc[df[n.timepoint].isin([6.0])]\n",
    "df = df.loc[df[n.inducer_concentration].isin([0.0, 80.0,])]\n",
    "df = df.sample(frac=1)\n",
    "df1 = df[df[n.inducer_concentration]==0.0].sample(1000)\n",
    "df2 = df[df[n.inducer_concentration]==80.0].sample(1000)\n",
    "df = pd.concat([df1, df2])\n",
    "\n",
    "# changing the percent_live values to see if cfu_loss can nudge in the right direction.\n",
    "# can't use 0% and 100% because the bin_cross will already predict labels that match with that pretty well.\n",
    "# df.loc[df[n.percent_live] == 0.0, n.percent_live] = 30.0\n",
    "# df.loc[df[n.percent_live] == 100.0, n.percent_live] = 70.0\n",
    "\n",
    "\n",
    "print(df[n.inducer_concentration].value_counts(), \"\\n\")\n",
    "print(df[\"label\"].value_counts(), \"\\n\")\n",
    "print(df[n.percent_live].value_counts(), \"\\n\")\n",
    "\n",
    "\n",
    "features = n.morph_cols\n",
    "X = df[features]\n",
    "Y = df[col_idx.keys()]\n",
    "Y_labels = df[n.label]\n",
    "\n",
    "# Y_closure = df[n.label]\n",
    "# Z_closure = tf.convert_to_tensor(df[[n.inducer_concentration, n.timepoint, n.percent_live]])\n",
    "\n",
    "# print(Y[\"inducer_concentration\"].value_counts(), \"\\n\")\n",
    "# print(Y[\"timepoint\"].value_counts(), \"\\n\")\n",
    "# print(Y[\"percent_live\"].value_counts(), \"\\n\")"
   ]
  },
  {
   "cell_type": "markdown",
   "metadata": {},
   "source": [
    "## Version 0: Test bin_cross function only"
   ]
  },
  {
   "cell_type": "code",
   "execution_count": 32,
   "metadata": {},
   "outputs": [],
   "source": [
    "def bin_cross_v0(label_conds_cfus, y_pred):\n",
    "    y_pred = K.flatten(y_pred)\n",
    "    y_true = label_conds_cfus[:, col_idx[n.label]]\n",
    "    final_loss = tf.losses.binary_crossentropy(y_true=y_true, y_pred=y_pred)\n",
    "    return final_loss"
   ]
  },
  {
   "cell_type": "code",
   "execution_count": 33,
   "metadata": {},
   "outputs": [],
   "source": [
    "def labeling_booster_model_v0(input_shape=None, loss=bin_cross_v0):\n",
    "    model = Sequential()\n",
    "    model.add(Dropout(0.1, input_shape=(input_shape,)))\n",
    "    # wr = l1_l2(l2=0.02, l1=0)\n",
    "    wr = None\n",
    "    model.add(Dense(units=32, activation=\"relu\", kernel_regularizer=wr))\n",
    "    model.add(Dropout(0.3))\n",
    "    model.add(Dense(units=16, activation=\"relu\", kernel_regularizer=wr))\n",
    "    model.add(Dropout(0.1))\n",
    "    model.add(Dense(units=8, activation=\"relu\", kernel_regularizer=wr))\n",
    "    model.add(Dropout(0.1))\n",
    "    model.add(Dense(units=4, activation=\"relu\", kernel_regularizer=wr))\n",
    "    model.add(Dropout(0.1))\n",
    "    # wr = l1_l2(l2=0.02, l1=0)\n",
    "    model.add(Dense(units=1, activation='sigmoid', kernel_regularizer=wr))\n",
    "    model.add(Flatten())\n",
    "    model.compile(loss=loss, optimizer=Adam(lr=0.01),\n",
    "                  metrics=[loss], run_eagerly=True)\n",
    "    # TODO: figure out how to add accuracy to metrics. Not trivial due to 4D nature of our Y.\n",
    "    return model"
   ]
  },
  {
   "cell_type": "code",
   "execution_count": 37,
   "metadata": {
    "scrolled": false
   },
   "outputs": [
    {
     "name": "stdout",
     "output_type": "stream",
     "text": [
      "\n",
      "Model Boosting took 12.459909915924072 seconds\n",
      "\n",
      "Training Accuracy = 95.85%\n",
      "\n",
      "Counter({1: 1048, 0: 952})\n"
     ]
    },
    {
     "data": {
      "image/png": "[encoded data removed]",
      "text/plain": [
       "<Figure size 1080x360 with 3 Axes>"
      ]
     },
     "metadata": {
      "needs_background": "light"
     },
     "output_type": "display_data"
    }
   ],
   "source": [
    "# Set loss:\n",
    "loss = bin_cross_v0\n",
    "\n",
    "del model\n",
    "tf.compat.v1.reset_default_graph\n",
    "tf.keras.backend.clear_session()\n",
    "\n",
    "start_time = time.time()\n",
    "model = labeling_booster_model_v0(input_shape=len(features), loss=loss)\n",
    "\n",
    "fitted_model = model.fit(X, Y, epochs=14, batch_size=32, verbose=False, shuffle=True)\n",
    "predict_proba = model.predict(X)\n",
    "class_predictions = np.ndarray.flatten(predict_proba > 0.5).astype(\"int32\")\n",
    "training_accuracy = accuracy_score(y_true=Y[n.label], y_pred=class_predictions)\n",
    "print(\"\\nModel Boosting took {} seconds\".format(time.time() - start_time))\n",
    "print(\"\\nTraining Accuracy = {}%\\n\".format(round(100 * training_accuracy, 2)))\n",
    "print(Counter(class_predictions))\n",
    "\n",
    "plot_model_result(model=model, fitted_model=fitted_model,\n",
    "                  metrics=[x.__name__ for x in [loss]],\n",
    "                  train=df, test=df, feature_cols=features, plot_val=None)"
   ]
  },
  {
   "cell_type": "code",
   "execution_count": 36,
   "metadata": {},
   "outputs": [
    {
     "name": "stdout",
     "output_type": "stream",
     "text": [
      "\n",
      "Model Boosting took 12.055702924728394 seconds\n",
      "\n",
      "Training Accuracy = 95.95%\n",
      "\n",
      "Counter({1: 1046, 0: 954})\n"
     ]
    },
    {
     "data": {
      "image/png": "[encoded data removed]",
      "text/plain": [
       "<Figure size 1080x360 with 3 Axes>"
      ]
     },
     "metadata": {
      "needs_background": "light"
     },
     "output_type": "display_data"
    }
   ],
   "source": [
    "# Set loss:\n",
    "loss = \"binary_crossentropy\"\n",
    "\n",
    "del model\n",
    "tf.compat.v1.reset_default_graph\n",
    "tf.keras.backend.clear_session()\n",
    "\n",
    "start_time = time.time()\n",
    "model = labeling_booster_model_v0(input_shape=len(features), loss=loss)\n",
    "\n",
    "fitted_model = model.fit(X, Y_labels, epochs=14, batch_size=32, verbose=False, shuffle=True)\n",
    "predict_proba = model.predict(X)\n",
    "class_predictions = np.ndarray.flatten(predict_proba > 0.5).astype(\"int32\")\n",
    "training_accuracy = accuracy_score(y_true=Y[n.label], y_pred=class_predictions)\n",
    "print(\"\\nModel Boosting took {} seconds\".format(time.time() - start_time))\n",
    "print(\"\\nTraining Accuracy = {}%\\n\".format(round(100 * training_accuracy, 2)))\n",
    "print(Counter(class_predictions))\n",
    "\n",
    "plot_model_result(model=model, fitted_model=fitted_model,\n",
    "                  metrics=[loss],\n",
    "                  train=df, test=df, feature_cols=features, plot_val=None)"
   ]
  },
  {
   "cell_type": "code",
   "execution_count": null,
   "metadata": {},
   "outputs": [],
   "source": []
  },
  {
   "cell_type": "code",
   "execution_count": null,
   "metadata": {},
   "outputs": [],
   "source": []
  },
  {
   "cell_type": "markdown",
   "metadata": {},
   "source": [
    "## Version 1"
   ]
  },
  {
   "cell_type": "code",
   "execution_count": 19,
   "metadata": {},
   "outputs": [],
   "source": [
    "def cfu_loss_v1(label_conds_cfus, y_pred):\n",
    "    cfu_percent_live = label_conds_cfus[:, col_idx[\"percent_live\"]]\n",
    "#     print(\"cfu_percent_live shape: {}\".format(cfu_percent_live.shape))\n",
    "    cfu_percent_live = tf.expand_dims(cfu_percent_live, axis=1)\n",
    "#     print(\"cfu_percent_live shape: {}\".format(cfu_percent_live.shape))\n",
    "\n",
    "    condition_indices = [col_idx[\"inducer_concentration\"], col_idx[\"timepoint\"]]\n",
    "    conditions = tf.gather(label_conds_cfus, condition_indices, axis=1)\n",
    "#     print(\"condition_indices: {}\".format(condition_indices))\n",
    "#     print(\"conditions shape: {}\".format(conditions.shape))\n",
    "\n",
    "#     print(\"y_pred shape: {}\".format(y_pred.shape))\n",
    "    y_pred = tf.sigmoid((y_pred - 0.5) * 100)\n",
    "#     print(\"y_pred shape: {}\".format(y_pred.shape))\n",
    "\n",
    "    uniques, idx, count = gen_array_ops.unique_with_counts_v2(conditions, [0])\n",
    "#     print(\"uniques shape: {}\".format(uniques.shape))\n",
    "\n",
    "    num_unique = tf.size(count)\n",
    "    sums = tf.math.unsorted_segment_sum(data=y_pred, segment_ids=idx, num_segments=num_unique)\n",
    "#     print(\"sums shape: {}\".format(sums.shape))\n",
    "    lengths = tf.cast(count, tf.float32)\n",
    "#     print(\"lengths shape: {}\".format(lengths.shape))\n",
    "    pred_percents = 100.0 * tf.divide(sums, lengths)  # check if I need to do multiplication via backend function\n",
    "#     print(\"pred_percents shape: {}\".format(pred_percents.shape))\n",
    "\n",
    "    pred_percents_mean = tf.math.reduce_mean(pred_percents)\n",
    "    percents_live_mean = tf.math.reduce_mean(cfu_percent_live)\n",
    "#     print(\"pred_percents_mean shape: {}\".format(pred_percents_mean.shape))\n",
    "#     print(\"percents_live_mean shape: {}\".format(percents_live_mean.shape))\n",
    "    diff = pred_percents_mean - percents_live_mean  # TODO: check if need backend function\n",
    "#     print(\"diff:\\n{}\\n\".format(diff))\n",
    "    final = K.abs(diff / 100.0)\n",
    "#     print(\"abs(diff/100.0):\\n{}\\n\".format(final))\n",
    "#     print(\"-\"*50, \"\\n\")\n",
    "\n",
    "    return final"
   ]
  },
  {
   "cell_type": "code",
   "execution_count": 14,
   "metadata": {},
   "outputs": [],
   "source": [
    "def joint_loss_v1(label_conds_cfus, y_pred):\n",
    "    loss_bin_cross = bin_cross(label_conds_cfus=label_conds_cfus, y_pred=y_pred)\n",
    "    loss_cfu = cfu_loss(label_conds_cfus=label_conds_cfus, y_pred=y_pred)\n",
    "    # loss_cfu = cfu_loss_2(label_conds_cfus=label_conds_cfus, y_pred=y_pred)\n",
    "\n",
    "    return loss_bin_cross + 3 * loss_cfu\n",
    "    # return loss_bin_cross\n",
    "    # return loss_cfu"
   ]
  },
  {
   "cell_type": "code",
   "execution_count": null,
   "metadata": {},
   "outputs": [],
   "source": [
    "def labeling_booster_model_v1(input_shape=None, loss=joint_loss_v1):\n",
    "    model = Sequential()\n",
    "    model.add(Dropout(0.1, input_shape=(input_shape,)))\n",
    "    # wr = l1_l2(l2=0.02, l1=0)\n",
    "    wr = None\n",
    "    model.add(Dense(units=32, activation=\"relu\", kernel_regularizer=wr))\n",
    "    model.add(Dropout(0.3))\n",
    "    model.add(Dense(units=16, activation=\"relu\", kernel_regularizer=wr))\n",
    "    model.add(Dropout(0.1))\n",
    "    model.add(Dense(units=8, activation=\"relu\", kernel_regularizer=wr))\n",
    "    model.add(Dropout(0.1))\n",
    "    model.add(Dense(units=4, activation=\"relu\", kernel_regularizer=wr))\n",
    "    model.add(Dropout(0.1))\n",
    "    # wr = l1_l2(l2=0.02, l1=0)\n",
    "    model.add(Dense(units=1, activation='sigmoid', kernel_regularizer=wr))\n",
    "    model.add(Flatten())\n",
    "    model.compile(loss=loss, optimizer=\"Adam\",\n",
    "                  metrics=[loss], run_eagerly=True)\n",
    "    # TODO: figure out how to add accuracy to metrics. Not trivial due to 4D nature of our Y.\n",
    "    return model"
   ]
  },
  {
   "cell_type": "code",
   "execution_count": null,
   "metadata": {},
   "outputs": [],
   "source": [
    "# Set loss:\n",
    "loss = cfu_loss_v1\n",
    "\n",
    "del model\n",
    "tf.compat.v1.reset_default_graph\n",
    "tf.keras.backend.clear_session()\n",
    "\n",
    "# set model:\n",
    "model = labeling_booster_model_v1(input_shape=len(features), loss=loss)\n",
    "\n",
    "start_time = time.time()\n",
    "fitted_model = model.fit(X, Y, epochs=5, batch_size=16, verbose=True, shuffle=True)\n",
    "predict_proba = model.predict(X)\n",
    "class_predictions = np.ndarray.flatten(predict_proba > 0.5).astype(\"int32\")\n",
    "training_accuracy = accuracy_score(y_true=Y[n.label], y_pred=class_predictions)\n",
    "print(\"\\nModel Boosting took {} seconds\".format(time.time() - start_time))\n",
    "print(\"\\nTraining Accuracy = {}%\\n\".format(round(100 * training_accuracy, 2)))\n",
    "print(Counter(class_predictions), \"\\n\")\n",
    "\n",
    "plot_model_result(model=model, fitted_model=fitted_model,\n",
    "                  metrics=[x.__name__ for x in [loss]],\n",
    "                  train=df, test=df, feature_cols=features)"
   ]
  },
  {
   "cell_type": "markdown",
   "metadata": {},
   "source": [
    "## Version 2: Flattened shape of sums"
   ]
  },
  {
   "cell_type": "code",
   "execution_count": 18,
   "metadata": {},
   "outputs": [],
   "source": [
    "def cfu_loss_v2(label_conds_cfus, y_pred):\n",
    "    cfu_percent_live = label_conds_cfus[:, col_idx[\"percent_live\"]]\n",
    "    cfu_percent_live = tf.expand_dims(cfu_percent_live, axis=1)\n",
    "#     print(\"cfu_percent_live:\\n{}\\n\".format(cfu_percent_live))\n",
    "\n",
    "    condition_indices = [col_idx[\"inducer_concentration\"], col_idx[\"timepoint\"]]\n",
    "    conditions = tf.gather(label_conds_cfus, condition_indices, axis=1)\n",
    "#     print(\"conditions:\\n{}\\n\".format(conditions))\n",
    "\n",
    "#     print(\"y_pred:\\n{}\\n\".format(y_pred))\n",
    "    y_pred = tf.sigmoid((y_pred - 0.5) * 100)\n",
    "#     print(\"y_pred after sigmoid:\\n{}\\n\".format(y_pred))\n",
    "\n",
    "    uniques, idx, count = gen_array_ops.unique_with_counts_v2(conditions, [0])\n",
    "\n",
    "    num_unique = tf.size(count)\n",
    "    sums = tf.math.unsorted_segment_sum(data=y_pred, segment_ids=idx, num_segments=num_unique)\n",
    "    sums = K.flatten(sums)\n",
    "#     print(\"sums:\\n{}\\n\".format(sums))\n",
    "    lengths = tf.cast(count, tf.float32)\n",
    "#     print(\"lengths:\\n{}\\n\".format(lengths))\n",
    "    pred_percents = 100.0 * tf.divide(sums, lengths)\n",
    "#     print(\"pred_percents:\\n{}\\n\".format(pred_percents))\n",
    "\n",
    "    pred_percents_mean = tf.math.reduce_mean(pred_percents)\n",
    "    percents_live_mean = tf.math.reduce_mean(cfu_percent_live)\n",
    "#     print(\"pred_percents_mean:\\n{}\\n\".format(pred_percents_mean))\n",
    "#     print(\"percents_live_mean:\\n{}\\n\".format(percents_live_mean))\n",
    "    diff = pred_percents_mean - percents_live_mean\n",
    "#     print(\"diff:\\n{}\\n\".format(diff))\n",
    "    final = K.abs(diff / 100.0)\n",
    "#     print(\"abs(diff/100.0):\\n{}\\n\".format(final))\n",
    "#     print(\"-\"*50, \"\\n\")\n",
    "\n",
    "    return final"
   ]
  },
  {
   "cell_type": "code",
   "execution_count": null,
   "metadata": {},
   "outputs": [],
   "source": [
    "def joint_loss_v2(label_conds_cfus, y_pred):\n",
    "    loss_bin_cross = bin_cross_v0(label_conds_cfus=label_conds_cfus, y_pred=y_pred)\n",
    "    loss_cfu = cfu_loss_v2(label_conds_cfus=label_conds_cfus, y_pred=y_pred)\n",
    "    return loss_bin_cross + loss_cfu"
   ]
  },
  {
   "cell_type": "code",
   "execution_count": null,
   "metadata": {},
   "outputs": [],
   "source": [
    "def labeling_booster_model_v2(input_shape=None, loss=joint_loss_v1):\n",
    "    model = Sequential()\n",
    "    model.add(Dropout(0.1, input_shape=(input_shape,)))\n",
    "    # wr = l1_l2(l2=0.02, l1=0)\n",
    "    wr = None\n",
    "    model.add(Dense(units=32, activation=\"relu\", kernel_regularizer=wr))\n",
    "    model.add(Dropout(0.3))\n",
    "    model.add(Dense(units=16, activation=\"relu\", kernel_regularizer=wr))\n",
    "    model.add(Dropout(0.1))\n",
    "    model.add(Dense(units=8, activation=\"relu\", kernel_regularizer=wr))\n",
    "    model.add(Dropout(0.1))\n",
    "    model.add(Dense(units=4, activation=\"relu\", kernel_regularizer=wr))\n",
    "    model.add(Dropout(0.1))\n",
    "    # wr = l1_l2(l2=0.02, l1=0)\n",
    "    model.add(Dense(units=1, activation='sigmoid', kernel_regularizer=wr))\n",
    "    model.add(Flatten())\n",
    "    model.compile(loss=loss, optimizer=\"Adam\",\n",
    "                  metrics=[loss], run_eagerly=True)\n",
    "    # TODO: figure out how to add accuracy to metrics. Not trivial due to 4D nature of our Y.\n",
    "    return model"
   ]
  },
  {
   "cell_type": "code",
   "execution_count": null,
   "metadata": {
    "scrolled": true
   },
   "outputs": [],
   "source": [
    "# Set loss:\n",
    "loss = cfu_loss_v2\n",
    "\n",
    "del model\n",
    "tf.compat.v1.reset_default_graph\n",
    "tf.keras.backend.clear_session()\n",
    "\n",
    "# set model:\n",
    "model = labeling_booster_model_v2(input_shape=len(features), loss=loss)\n",
    "\n",
    "start_time = time.time()\n",
    "fitted_model = model.fit(X, Y, epochs=5, batch_size=8, verbose=True, shuffle=True)\n",
    "predict_proba = model.predict(X)\n",
    "class_predictions = np.ndarray.flatten(predict_proba > 0.5).astype(\"int32\")\n",
    "training_accuracy = accuracy_score(y_true=Y[n.label], y_pred=class_predictions)\n",
    "print(\"\\nModel Boosting took {} seconds\".format(time.time() - start_time))\n",
    "print(\"\\nTraining Accuracy = {}%\\n\".format(round(100 * training_accuracy, 2)))\n",
    "print(Counter(class_predictions), \"\\n\")\n",
    "\n",
    "plot_model_result(model=model, fitted_model=fitted_model,\n",
    "                  metrics=[x.__name__ for x in [loss]],\n",
    "                  train=df, test=df, feature_cols=features)"
   ]
  },
  {
   "cell_type": "code",
   "execution_count": null,
   "metadata": {},
   "outputs": [],
   "source": []
  },
  {
   "cell_type": "markdown",
   "metadata": {},
   "source": [
    "## Version 3: Simplified Loss and Fixed Issue with Absolute Value of Differences\n",
    "\n",
    "Description:\n",
    "- Thanks to Yi-Pei, we realized that there was an issue at the tail end of our CFU loss: percent_live predictions and cfu values were being meaned across conditions, and then the absolute difference was being taken. This is not what we want, instead we want the absolute difference to be taken between the percent_live predictions and cfu value in each condition, and then those absolute differences should be meaned. Initial implementation did not include absolute value, and so the code was written in the way it was because a difference of means is the same as a mean of differences. But that is not the case when absolute value is brought into account.\n",
    "- Removed extraneous multiplication and division by 100.\n",
    "- Replaced unsorted_segment_sum and division by length with unsorted_segment_mean for cleaner and more manageable code."
   ]
  },
  {
   "cell_type": "code",
   "execution_count": 46,
   "metadata": {},
   "outputs": [],
   "source": [
    "def cfu_loss_v3(label_conds_cfus, y_pred):\n",
    "    cfu_percent_live = label_conds_cfus[:, col_idx[\"percent_live\"]]\n",
    "    cfu_percent_live = cfu_percent_live / 100.0\n",
    "#     print(\"cfu_percent_live:\\n{}\\n\".format(cfu_percent_live))\n",
    "\n",
    "    condition_indices = [col_idx[\"inducer_concentration\"], col_idx[\"timepoint\"]]\n",
    "    conditions = tf.gather(label_conds_cfus, condition_indices, axis=1)\n",
    "#     print(\"conditions:\\n{}\\n\".format(conditions))\n",
    "\n",
    "    y_pred = K.flatten(y_pred)\n",
    "#     print(\"y_pred:\\n{}\\n\".format(y_pred))\n",
    "    y_pred = tf.sigmoid((y_pred - 0.5) * 100)\n",
    "#     print(\"y_pred after sigmoid:\\n{}\\n\".format(y_pred))\n",
    "\n",
    "    uniques, idx, count = gen_array_ops.unique_with_counts_v2(conditions, [0])\n",
    "\n",
    "    num_unique = tf.size(count)\n",
    "    pred_percents = tf.math.unsorted_segment_mean(data=y_pred, segment_ids=idx, num_segments=num_unique)\n",
    "#     print(\"pred_percents:\\n{}\\n\".format(pred_percents))\n",
    "    \n",
    "    cfu_percents = tf.math.unsorted_segment_mean(data=cfu_percent_live, segment_ids=idx, num_segments=num_unique)\n",
    "#     print(\"cfu_percents:\\n{}\\n\".format(cfu_percents))\n",
    "    \n",
    "    diff = tf.math.subtract(pred_percents, cfu_percents)\n",
    "#     print(\"diff:\\n{}\\n\".format(diff))\n",
    "    \n",
    "    abs_diff = K.abs(diff)\n",
    "#     print(\"abs_diff:\\n{}\\n\".format(abs_diff))\n",
    "\n",
    "    abs_diff_mean = tf.math.reduce_mean(abs_diff)\n",
    "#     print(\"abs_diff_mean:\\n{}\\n\".format(abs_diff_mean))\n",
    "#     print(\"-\"*50, \"\\n\")\n",
    "\n",
    "    return abs_diff_mean"
   ]
  },
  {
   "cell_type": "code",
   "execution_count": 47,
   "metadata": {},
   "outputs": [],
   "source": [
    "def labeling_booster_model_v3(input_shape=None, loss=joint_loss_v1):\n",
    "    model = Sequential()\n",
    "    model.add(Dropout(0.1, input_shape=(input_shape,)))\n",
    "    # wr = l1_l2(l2=0.02, l1=0)\n",
    "    wr = None\n",
    "    model.add(Dense(units=32, activation=\"relu\", kernel_regularizer=wr))\n",
    "    model.add(Dropout(0.3))\n",
    "    model.add(Dense(units=16, activation=\"relu\", kernel_regularizer=wr))\n",
    "    model.add(Dropout(0.1))\n",
    "    model.add(Dense(units=8, activation=\"relu\", kernel_regularizer=wr))\n",
    "    model.add(Dropout(0.1))\n",
    "    model.add(Dense(units=4, activation=\"relu\", kernel_regularizer=wr))\n",
    "    model.add(Dropout(0.1))\n",
    "    # wr = l1_l2(l2=0.02, l1=0)\n",
    "    model.add(Dense(units=1, activation='sigmoid', kernel_regularizer=wr))\n",
    "    model.add(Flatten())\n",
    "    model.compile(loss=loss, optimizer=Adam(lr=0.01),\n",
    "                  metrics=[loss], run_eagerly=True)\n",
    "    # TODO: figure out how to add accuracy to metrics. Not trivial due to 4D nature of our Y.\n",
    "    return model"
   ]
  },
  {
   "cell_type": "code",
   "execution_count": 51,
   "metadata": {
    "scrolled": false
   },
   "outputs": [
    {
     "name": "stdout",
     "output_type": "stream",
     "text": [
      "\n",
      "Model Boosting took 14.836790084838867 seconds\n",
      "\n",
      "Training Accuracy = 95.05%\n",
      "\n",
      "Counter({1: 1064, 0: 936})\n"
     ]
    },
    {
     "data": {
      "image/png": "[encoded data removed]",
      "text/plain": [
       "<Figure size 1080x360 with 3 Axes>"
      ]
     },
     "metadata": {
      "needs_background": "light"
     },
     "output_type": "display_data"
    },
    {
     "name": "stdout",
     "output_type": "stream",
     "text": [
      "                                 percent_live  nn_preds\n",
      "inducer_concentration timepoint                        \n",
      "0.0                   6.0               100.0      99.6\n",
      "80.0                  6.0                 0.0       6.8\n"
     ]
    }
   ],
   "source": [
    "# Set loss:\n",
    "loss = cfu_loss_v3\n",
    "\n",
    "del model\n",
    "tf.compat.v1.reset_default_graph\n",
    "tf.keras.backend.clear_session()\n",
    "\n",
    "# set model:\n",
    "model = labeling_booster_model_v3(input_shape=len(features), loss=loss)\n",
    "\n",
    "start_time = time.time()\n",
    "fitted_model = model.fit(X, Y, epochs=14, batch_size=32, verbose=False, shuffle=True)\n",
    "predict_proba = model.predict(X)\n",
    "class_predictions = np.ndarray.flatten(predict_proba > 0.5).astype(\"int32\")\n",
    "training_accuracy = accuracy_score(y_true=Y[n.label], y_pred=class_predictions)\n",
    "print(\"\\nModel Boosting took {} seconds\".format(time.time() - start_time))\n",
    "print(\"\\nTraining Accuracy = {}%\\n\".format(round(100 * training_accuracy, 2)))\n",
    "print(Counter(class_predictions))\n",
    "\n",
    "plot_model_result(model=model, fitted_model=fitted_model,\n",
    "                  metrics=[x.__name__ for x in [loss]],\n",
    "                  train=df, test=df, feature_cols=features)\n",
    "\n",
    "preds_and_labels = Y.copy()\n",
    "preds_and_labels.drop(columns=[n.label], inplace=True)\n",
    "preds_and_labels[\"nn_preds\"] = class_predictions * 100\n",
    "\n",
    "grouby_means = preds_and_labels.groupby([n.inducer_concentration, n.timepoint]).mean()\n",
    "print(grouby_means)"
   ]
  },
  {
   "cell_type": "code",
   "execution_count": 52,
   "metadata": {},
   "outputs": [],
   "source": [
    "# changing the percent_live values to see if cfu_loss can nudge in the right direction.\n",
    "# can't use 0% and 100% because the bin_cross will already predict labels that match with that pretty well.\n",
    "new_df = df.copy()\n",
    "original_percent_live = new_df[n.percent_live].copy()\n",
    "new_df.loc[new_df[n.percent_live] == 0.0, n.percent_live] = 90.0\n",
    "new_df.loc[new_df[n.percent_live] == 100.0, n.percent_live] = 10.0\n",
    "\n",
    "X_new = new_df[features]\n",
    "Y_new = new_df[col_idx.keys()]\n",
    "# display(new_df)"
   ]
  },
  {
   "cell_type": "code",
   "execution_count": 53,
   "metadata": {
    "scrolled": false
   },
   "outputs": [
    {
     "name": "stdout",
     "output_type": "stream",
     "text": [
      "\n",
      "Model Boosting took 14.579313278198242 seconds\n",
      "\n",
      "Training Accuracy = 4.25%\n",
      "\n",
      "Counter({0: 1050, 1: 950})\n"
     ]
    },
    {
     "data": {
      "image/png": "[encoded data removed]",
      "text/plain": [
       "<Figure size 1080x360 with 3 Axes>"
      ]
     },
     "metadata": {
      "needs_background": "light"
     },
     "output_type": "display_data"
    },
    {
     "name": "stdout",
     "output_type": "stream",
     "text": [
      "                                 original_percent_live  altered_percent_live  nn_preds\n",
      "inducer_concentration timepoint                                                       \n",
      "0.0                   6.0                        100.0                  10.0       0.4\n",
      "80.0                  6.0                          0.0                  90.0      94.6\n"
     ]
    }
   ],
   "source": [
    "# Set loss:\n",
    "loss = cfu_loss_v3\n",
    "\n",
    "del model\n",
    "tf.compat.v1.reset_default_graph\n",
    "tf.keras.backend.clear_session()\n",
    "\n",
    "# set model:\n",
    "model = labeling_booster_model_v3(input_shape=len(features), loss=loss)\n",
    "\n",
    "start_time = time.time()\n",
    "fitted_model = model.fit(X_new, Y_new, epochs=14, batch_size=32, verbose=False, shuffle=True)\n",
    "predict_proba = model.predict(X)\n",
    "class_predictions = np.ndarray.flatten(predict_proba > 0.5).astype(\"int32\")\n",
    "training_accuracy = accuracy_score(y_true=Y[n.label], y_pred=class_predictions)\n",
    "print(\"\\nModel Boosting took {} seconds\".format(time.time() - start_time))\n",
    "print(\"\\nTraining Accuracy = {}%\\n\".format(round(100 * training_accuracy, 2)))\n",
    "print(Counter(class_predictions))\n",
    "\n",
    "plot_model_result(model=model, fitted_model=fitted_model,\n",
    "                  metrics=[x.__name__ for x in [loss]],\n",
    "                  train=df, test=df, feature_cols=features)\n",
    "\n",
    "preds_and_labels = Y_new.copy()\n",
    "preds_and_labels.drop(columns=[n.label], inplace=True)\n",
    "preds_and_labels[\"nn_preds\"] = class_predictions * 100\n",
    "preds_and_labels.insert(2,\"original_percent_live\", original_percent_live)\n",
    "preds_and_labels.rename(columns={\"percent_live\":\"altered_percent_live\"}, inplace=True)\n",
    "\n",
    "grouby_means = preds_and_labels.groupby([n.inducer_concentration, n.timepoint]).mean()\n",
    "print(grouby_means)"
   ]
  },
  {
   "cell_type": "code",
   "execution_count": null,
   "metadata": {},
   "outputs": [],
   "source": []
  },
  {
   "cell_type": "code",
   "execution_count": null,
   "metadata": {},
   "outputs": [],
   "source": []
  },
  {
   "cell_type": "code",
   "execution_count": null,
   "metadata": {},
   "outputs": [],
   "source": []
  },
  {
   "cell_type": "code",
   "execution_count": null,
   "metadata": {},
   "outputs": [],
   "source": []
  },
  {
   "cell_type": "code",
   "execution_count": null,
   "metadata": {},
   "outputs": [],
   "source": []
  },
  {
   "cell_type": "code",
   "execution_count": null,
   "metadata": {},
   "outputs": [],
   "source": []
  },
  {
   "cell_type": "code",
   "execution_count": null,
   "metadata": {},
   "outputs": [],
   "source": []
  },
  {
   "cell_type": "code",
   "execution_count": null,
   "metadata": {},
   "outputs": [],
   "source": []
  },
  {
   "cell_type": "markdown",
   "metadata": {},
   "source": [
    "### Function closure: testing closure_loss"
   ]
  },
  {
   "cell_type": "code",
   "execution_count": null,
   "metadata": {},
   "outputs": [],
   "source": []
  },
  {
   "cell_type": "code",
   "execution_count": null,
   "metadata": {},
   "outputs": [],
   "source": [
    "def closure_booster_model(input_shape=None, loss=joint_loss):\n",
    "    model = Sequential()\n",
    "    i = Input((1,))\n",
    "    model.add(Dropout(0.1, input_shape=(input_shape,)))\n",
    "    # wr = l1_l2(l2=0.02, l1=0)\n",
    "    wr = None\n",
    "    model.add(Dense(units=32, activation=\"relu\", kernel_regularizer=wr))\n",
    "    model.add(Dropout(0.3))\n",
    "    model.add(Dense(units=16, activation=\"relu\", kernel_regularizer=wr))\n",
    "    model.add(Dropout(0.1))\n",
    "    model.add(Dense(units=8, activation=\"relu\", kernel_regularizer=wr))\n",
    "    model.add(Dropout(0.1))\n",
    "    model.add(Dense(units=4, activation=\"relu\", kernel_regularizer=wr))\n",
    "    model.add(Dropout(0.1))\n",
    "    # wr = l1_l2(l2=0.02, l1=0)\n",
    "    model.add(Dense(units=1, activation='sigmoid', kernel_regularizer=wr))\n",
    "    model.add(Flatten())\n",
    "    model.compile(loss=loss, optimizer=\"Adam\",\n",
    "                  metrics=[\"accuracy\"], run_eagerly=True)\n",
    "    # TODO: figure out how to add accuracy to metrics. Not trivial due to 4D nature of our Y.\n",
    "    return model"
   ]
  },
  {
   "cell_type": "code",
   "execution_count": null,
   "metadata": {},
   "outputs": [],
   "source": [
    "def closure_loss(conds_cfus):    \n",
    "    def loss(y_true, y_pred):\n",
    "        cfu_percent_live = conds_cfus[:, closure_col_idx[n.percent_live]]\n",
    "        cfu_percent_live = tf.expand_dims(cfu_percent_live, axis=1)\n",
    "\n",
    "        condition_indices = [closure_col_idx[n.inducer_concentration], closure_col_idx[n.timepoint]]\n",
    "        conditions = tf.gather(conds_cfus, condition_indices, axis=1)\n",
    "\n",
    "        y_pred = tf.sigmoid((y_pred - 0.5) * 1000)\n",
    "\n",
    "        uniques, idx, count = gen_array_ops.unique_with_counts_v2(conditions, [0])\n",
    "\n",
    "        num_unique = tf.size(count)\n",
    "        sums = tf.math.unsorted_segment_sum(data=y_pred, segment_ids=idx, num_segments=num_unique)\n",
    "        \n",
    "        lengths = tf.cast(count, tf.float32)\n",
    "        pred_percents = 100.0 * tf.divide(sums, lengths)\n",
    "\n",
    "        pred_percents_mean = tf.math.reduce_mean(pred_percents)\n",
    "        percents_live_mean = tf.math.reduce_mean(cfu_percent_live)\n",
    "        diff = pred_percents_mean - percents_live_mean\n",
    "        # print(pred_percents_mean, percents_live_mean, diff)\n",
    "\n",
    "        cfu_loss = K.abs(diff / 100.0)\n",
    "        \n",
    "        \n",
    "        return tf.losses.binary_crossentropy(y_true=y_true, y_pred=y_pred) + cfu_loss\n",
    "\n",
    "    return loss"
   ]
  },
  {
   "cell_type": "code",
   "execution_count": null,
   "metadata": {},
   "outputs": [],
   "source": [
    "start_time = time.time()\n",
    "model = closure_booster_model(input_shape=len(features), loss=closure_loss(Z_closure))\n",
    "\n",
    "fitted_model = model.fit(X, Y, epochs=25, batch_size=128, verbose=False, shuffle=True)\n",
    "predict_proba = model.predict(X)\n",
    "class_predictions = np.ndarray.flatten(predict_proba > 0.5).astype(\"int32\")\n",
    "training_accuracy = accuracy_score(y_true=Y[n.label], y_pred=class_predictions)\n",
    "print(\"\\nModel Boosting took {} seconds\".format(time.time() - start_time))\n",
    "print(\"\\nTraining Accuracy = {}%\\n\".format(round(100 * training_accuracy, 2)))\n",
    "print(Counter(class_predictions), \"\\n\")\n",
    "\n",
    "plot_model_result(model=model, fitted_model=fitted_model,\n",
    "                  metrics=[\"binary_crossentropy\", \"accuracy\"],\n",
    "                  train=df, test=df, feature_cols=features)"
   ]
  }
 ],
 "metadata": {
  "kernelspec": {
   "display_name": "Python [conda env:pysd2cat] *",
   "language": "python",
   "name": "conda-env-pysd2cat-py"
  },
  "language_info": {
   "codemirror_mode": {
    "name": "ipython",
    "version": 3
   },
   "file_extension": ".py",
   "mimetype": "text/x-python",
   "name": "python",
   "nbconvert_exporter": "python",
   "pygments_lexer": "ipython3",
   "version": "3.6.10"
  }
 },
 "nbformat": 4,
 "nbformat_minor": 4
}
