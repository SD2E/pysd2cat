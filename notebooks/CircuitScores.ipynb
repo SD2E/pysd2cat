{
 "cells": [
  {
   "cell_type": "code",
   "execution_count": 4,
   "metadata": {},
   "outputs": [],
   "source": [
    "import pandas as pd\n",
    "import os\n",
    "import numpy as np\n"
   ]
  },
  {
   "cell_type": "code",
   "execution_count": 5,
   "metadata": {},
   "outputs": [],
   "source": [
    "df = pd.read_csv(os.path.join(os.getcwd(), '../resources/accuracy_set.csv'), index_col=0, dtype={'input' : object, 'output': object})\n",
    "\n",
    "drop_columns = ['Unnamed: 0', 'SynBioHub URI', 'Unnamed: 0.1', 'calibration_id', 'experiment_id', 'filename', \n",
    "                'glycerol_plate_index',  'growth_media_1', 'growth_media_2',  \n",
    "                'inc_temp', 'inc_time_1', 'inc_time_2', 'input', 'lab', 'lab_id', 'media', 'od', \n",
    "                'od_cutoff', 'output', 'part_1_id', 'part_2_id', 'plate_id',  'replicate', 'source_container', \n",
    "                'strain_name', 'strain_circuit', 'well', 'post_well']\n",
    "od_df = pd.read_csv(os.path.join(os.getcwd(), '../resources/tx_od.csv')).rename(columns={'strain' : 'strain_name'}).drop(columns=drop_columns)\n",
    "df = df.merge(od_df, on='id', how='left')\n",
    "\n"
   ]
  },
  {
   "cell_type": "code",
   "execution_count": 16,
   "metadata": {},
   "outputs": [
    {
     "data": {
      "text/html": [
       "<div>\n",
       "<style scoped>\n",
       "    .dataframe tbody tr th:only-of-type {\n",
       "        vertical-align: middle;\n",
       "    }\n",
       "\n",
       "    .dataframe tbody tr th {\n",
       "        vertical-align: top;\n",
       "    }\n",
       "\n",
       "    .dataframe thead th {\n",
       "        text-align: right;\n",
       "    }\n",
       "</style>\n",
       "<table border=\"1\" class=\"dataframe\">\n",
       "  <thead>\n",
       "    <tr style=\"text-align: right;\">\n",
       "      <th></th>\n",
       "      <th>gate</th>\n",
       "      <th>robustness</th>\n",
       "    </tr>\n",
       "  </thead>\n",
       "  <tbody>\n",
       "    <tr>\n",
       "      <th>1</th>\n",
       "      <td>NAND</td>\n",
       "      <td>0.784127</td>\n",
       "    </tr>\n",
       "    <tr>\n",
       "      <th>3</th>\n",
       "      <td>OR</td>\n",
       "      <td>0.806068</td>\n",
       "    </tr>\n",
       "    <tr>\n",
       "      <th>2</th>\n",
       "      <td>NOR</td>\n",
       "      <td>0.811018</td>\n",
       "    </tr>\n",
       "    <tr>\n",
       "      <th>5</th>\n",
       "      <td>XOR</td>\n",
       "      <td>0.818948</td>\n",
       "    </tr>\n",
       "    <tr>\n",
       "      <th>4</th>\n",
       "      <td>XNOR</td>\n",
       "      <td>0.889020</td>\n",
       "    </tr>\n",
       "    <tr>\n",
       "      <th>0</th>\n",
       "      <td>AND</td>\n",
       "      <td>0.913390</td>\n",
       "    </tr>\n",
       "  </tbody>\n",
       "</table>\n",
       "</div>"
      ],
      "text/plain": [
       "   gate  robustness\n",
       "1  NAND    0.784127\n",
       "3    OR    0.806068\n",
       "2   NOR    0.811018\n",
       "5   XOR    0.818948\n",
       "4  XNOR    0.889020\n",
       "0   AND    0.913390"
      ]
     },
     "execution_count": 16,
     "metadata": {},
     "output_type": "execute_result"
    }
   ],
   "source": [
    "correctness_col='mean_correct_classifier_live'\n",
    "conditions=['inc_time_2', 'media', 'inc_temp', 'od']\n",
    "design=['gate', 'input']\n",
    "\n",
    "\n",
    "# Strain x condition scores is mean of samples for condition\n",
    "strain_score_df = df.groupby(conditions+design)[correctness_col].agg(np.mean).reset_index()\n",
    "\n",
    "# Circuit x condition score is mean of strains comprising the circuit\n",
    "circuit_score_df = strain_score_df.groupby(conditions+['gate']).agg(np.mean).reset_index()\n",
    "\n",
    "# Robustness is the std deviation of the score across all conditions\n",
    "circuit_robustness_df = circuit_score_df.groupby(['gate'])[correctness_col].agg(np.std).reset_index()\n",
    "circuit_robustness_df.loc[:, 'robustness'] = circuit_robustness_df.apply(lambda x: 1.0- x[correctness_col], axis=1)\n",
    "circuit_robustness_df = circuit_robustness_df.drop(columns=[correctness_col]).sort_values(by=['robustness'])\n",
    "circuit_robustness_df"
   ]
  },
  {
   "cell_type": "code",
   "execution_count": 11,
   "metadata": {},
   "outputs": [
    {
     "data": {
      "text/html": [
       "<div>\n",
       "<style scoped>\n",
       "    .dataframe tbody tr th:only-of-type {\n",
       "        vertical-align: middle;\n",
       "    }\n",
       "\n",
       "    .dataframe tbody tr th {\n",
       "        vertical-align: top;\n",
       "    }\n",
       "\n",
       "    .dataframe thead th {\n",
       "        text-align: right;\n",
       "    }\n",
       "</style>\n",
       "<table border=\"1\" class=\"dataframe\">\n",
       "  <thead>\n",
       "    <tr style=\"text-align: right;\">\n",
       "      <th></th>\n",
       "      <th>gate</th>\n",
       "      <th>input</th>\n",
       "      <th>robustness</th>\n",
       "    </tr>\n",
       "  </thead>\n",
       "  <tbody>\n",
       "    <tr>\n",
       "      <th>0</th>\n",
       "      <td>OR</td>\n",
       "      <td>00</td>\n",
       "      <td>0.943140</td>\n",
       "    </tr>\n",
       "    <tr>\n",
       "      <th>1</th>\n",
       "      <td>OR</td>\n",
       "      <td>01</td>\n",
       "      <td>0.823530</td>\n",
       "    </tr>\n",
       "    <tr>\n",
       "      <th>2</th>\n",
       "      <td>OR</td>\n",
       "      <td>10</td>\n",
       "      <td>0.947992</td>\n",
       "    </tr>\n",
       "    <tr>\n",
       "      <th>3</th>\n",
       "      <td>OR</td>\n",
       "      <td>11</td>\n",
       "      <td>0.860785</td>\n",
       "    </tr>\n",
       "  </tbody>\n",
       "</table>\n",
       "</div>"
      ],
      "text/plain": [
       "  gate input  robustness\n",
       "0   OR    00    0.943140\n",
       "1   OR    01    0.823530\n",
       "2   OR    10    0.947992\n",
       "3   OR    11    0.860785"
      ]
     },
     "execution_count": 11,
     "metadata": {},
     "output_type": "execute_result"
    }
   ],
   "source": [
    "# Strain Robustness\n",
    "correctness_col='mean_correct_classifier_live'\n",
    "conditions=['inc_time_2', 'media', 'inc_temp', 'od']\n",
    "design=['gate', 'input']\n",
    "\n",
    "\n",
    "# Strain x condition scores is mean of samples for condition\n",
    "strain_score_df = df.groupby(conditions+design)[correctness_col].agg(np.mean).reset_index()\n",
    "\n",
    "\n",
    "# Robustness is the std deviation of the score across all conditions\n",
    "strain_robustness_df = strain_score_df.groupby(design)[correctness_col].agg(np.std).reset_index()\n",
    "strain_robustness_df.loc[:, 'robustness'] = strain_robustness_df.apply(lambda x: 1.0- x[correctness_col], axis=1)\n",
    "strain_robustness_df = strain_robustness_df.drop(columns=[correctness_col]).sort_values(by=['gate', 'input'])\n",
    "strain_robustness_df.loc[strain_robustness_df['gate'] == 'OR'].reset_index().drop(columns=['index'])"
   ]
  }
 ],
 "metadata": {
  "kernelspec": {
   "display_name": "Python 3",
   "language": "python",
   "name": "python3"
  },
  "language_info": {
   "codemirror_mode": {
    "name": "ipython",
    "version": 3
   },
   "file_extension": ".py",
   "mimetype": "text/x-python",
   "name": "python",
   "nbconvert_exporter": "python",
   "pygments_lexer": "ipython3",
   "version": "3.6.4"
  }
 },
 "nbformat": 4,
 "nbformat_minor": 2
}
