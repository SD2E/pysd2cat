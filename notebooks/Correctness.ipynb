{
 "cells": [
  {
   "cell_type": "code",
   "execution_count": 60,
   "metadata": {
    "scrolled": true
   },
   "outputs": [
    {
     "name": "stdout",
     "output_type": "stream",
     "text": [
      "running develop\n",
      "Removing /home/jupyter/tacc-work/jupyter_packages/lib/python3.6/site-packages/pysd2cat.egg-link (link to src)\n",
      "Removing pysd2cat 0.1 from easy-install.pth file\n",
      "running develop\n",
      "running egg_info\n",
      "writing src/pysd2cat.egg-info/PKG-INFO\n",
      "writing dependency_links to src/pysd2cat.egg-info/dependency_links.txt\n",
      "writing requirements to src/pysd2cat.egg-info/requires.txt\n",
      "writing top-level names to src/pysd2cat.egg-info/top_level.txt\n",
      "reading manifest file 'src/pysd2cat.egg-info/SOURCES.txt'\n",
      "writing manifest file 'src/pysd2cat.egg-info/SOURCES.txt'\n",
      "running build_ext\n",
      "Creating /home/jupyter/tacc-work/jupyter_packages/lib/python3.6/site-packages/pysd2cat.egg-link (link to src)\n",
      "Adding pysd2cat 0.1 to easy-install.pth file\n",
      "\n",
      "Installed /home/jupyter/tacc-work/sd2nb/pysd2cat/src\n",
      "Processing dependencies for pysd2cat==0.1\n",
      "Searching for FlowCytometryTools==0.5.0\n",
      "Best match: FlowCytometryTools 0.5.0\n",
      "Adding FlowCytometryTools 0.5.0 to easy-install.pth file\n",
      "\n",
      "Using /home/jupyter/tacc-work/jupyter_packages/lib/python3.6/site-packages\n",
      "Searching for scikit-learn==0.20.3\n",
      "Best match: scikit-learn 0.20.3\n",
      "Adding scikit-learn 0.20.3 to easy-install.pth file\n",
      "\n",
      "Using /home/jupyter/tacc-work/jupyter_packages/lib/python3.6/site-packages\n",
      "Searching for pandas==0.24.2\n",
      "Best match: pandas 0.24.2\n",
      "Adding pandas 0.24.2 to easy-install.pth file\n",
      "\n",
      "Using /home/jupyter/tacc-work/jupyter_packages/lib/python3.6/site-packages\n",
      "Searching for pymongo==3.7.1\n",
      "Best match: pymongo 3.7.1\n",
      "Adding pymongo 3.7.1 to easy-install.pth file\n",
      "\n",
      "Using /home/jupyter/tacc-work/jupyter_packages/lib/python3.6/site-packages\n",
      "Searching for pytest-runner==4.2\n",
      "Best match: pytest-runner 4.2\n",
      "Processing pytest_runner-4.2-py3.6.egg\n",
      "pytest-runner 4.2 is already the active version in easy-install.pth\n",
      "\n",
      "Using /home/jupyter/tacc-work/jupyter_packages/lib/python3.6/site-packages/pytest_runner-4.2-py3.6.egg\n",
      "Searching for fcsparser==0.2.0\n",
      "Best match: fcsparser 0.2.0\n",
      "Adding fcsparser 0.2.0 to easy-install.pth file\n",
      "\n",
      "Using /home/jupyter/tacc-work/jupyter_packages/lib/python3.6/site-packages\n",
      "Searching for decorator==4.3.0\n",
      "Best match: decorator 4.3.0\n",
      "Adding decorator 4.3.0 to easy-install.pth file\n",
      "\n",
      "Using /opt/conda/lib/python3.6/site-packages\n",
      "Searching for setuptools==40.4.3\n",
      "Best match: setuptools 40.4.3\n",
      "Adding setuptools 40.4.3 to easy-install.pth file\n",
      "Installing easy_install script to /home/jupyter/tacc-work/jupyter_packages/bin\n",
      "\n",
      "Using /opt/conda/lib/python3.6/site-packages\n",
      "Searching for scipy==1.0.1\n",
      "Best match: scipy 1.0.1\n",
      "Adding scipy 1.0.1 to easy-install.pth file\n",
      "\n",
      "Using /opt/conda/lib/python3.6/site-packages\n",
      "Searching for numpy==1.14.6\n",
      "Best match: numpy 1.14.6\n",
      "Adding numpy 1.14.6 to easy-install.pth file\n",
      "\n",
      "Using /opt/conda/lib/python3.6/site-packages\n",
      "Searching for pytz==2018.5\n",
      "Best match: pytz 2018.5\n",
      "Adding pytz 2018.5 to easy-install.pth file\n",
      "\n",
      "Using /opt/conda/lib/python3.6/site-packages\n",
      "Searching for python-dateutil==2.7.3\n",
      "Best match: python-dateutil 2.7.3\n",
      "Adding python-dateutil 2.7.3 to easy-install.pth file\n",
      "\n",
      "Using /opt/conda/lib/python3.6/site-packages\n",
      "Searching for six==1.11.0\n",
      "Best match: six 1.11.0\n",
      "Adding six 1.11.0 to easy-install.pth file\n",
      "\n",
      "Using /opt/conda/lib/python3.6/site-packages\n",
      "Finished processing dependencies for pysd2cat==0.1\n",
      "The autoreload extension is already loaded. To reload it, use:\n",
      "  %reload_ext autoreload\n"
     ]
    }
   ],
   "source": [
    "import json\n",
    "import time\n",
    "import pandas as pd\n",
    "from os.path import expanduser\n",
    "import sys\n",
    "import os\n",
    "import numpy as np\n",
    "import glob\n",
    "\n",
    "#os.chdir('pysd2cat')\n",
    "#!{sys.executable} setup.py develop --user --uninstall\n",
    "#!{sys.executable} setup.py develop --user \n",
    "#os.chdir(os.pardir)\n",
    "\n",
    "from pysd2cat.analysis.correctness import compute_correctness_all, compute_correctness_harness_test, compute_correctness_noharness_test\n",
    "from pysd2cat.data import pipeline \n",
    "from pysd2cat.analysis.live_dead_analysis import add_live_dead_test_harness\n",
    "\n",
    "%load_ext autoreload\n",
    "%autoreload 2\n",
    "\n"
   ]
  },
  {
   "cell_type": "code",
   "execution_count": 40,
   "metadata": {},
   "outputs": [
    {
     "data": {
      "text/plain": [
       "['experiment.transcriptic.r1bbqkufj7wpz',\n",
       " 'experiment.transcriptic.r1c5va9wyf3mx_r1c63bjzu5ruy',\n",
       " 'experiment.transcriptic.r1c84xy5frkf3_r1c8ejr9kezva',\n",
       " 'experiment.transcriptic.r1ceuab227w5q_r1cf3jgv8pegg',\n",
       " 'experiment.transcriptic.r1cckyh56hjqj_r1ccpyjef2vca',\n",
       " 'experiment.transcriptic.r1bd6ma3q8btb',\n",
       " 'experiment.transcriptic.r1bsmggea748b_r1bsun4yb67e7',\n",
       " 'experiment.transcriptic.r1ce3pm76spw4_r1ceas4zgsdt5',\n",
       " 'experiment.transcriptic.r1bgtnn6nxy85',\n",
       " 'experiment.transcriptic.r1bsqh78n5jeq_r1bsxfcwtsbmt',\n",
       " 'experiment.transcriptic.r1cctw7qh3777_r1ccwxr4t3wb6',\n",
       " 'experiment.transcriptic.r1ch4db47m3f2_r1ch7x667aevf',\n",
       " 'experiment.transcriptic.r1cckyeq9r358_r1ccqgmy5ffcd',\n",
       " 'experiment.transcriptic.r1ccqfas8urfk_r1cctk2a3wbk5',\n",
       " 'experiment.transcriptic.r1bcfncn8xeys',\n",
       " 'experiment.transcriptic.r1bcc65suuqrj',\n",
       " 'experiment.transcriptic.r1cbut6a79n9t_r1cc34mkuvzeh',\n",
       " 'experiment.transcriptic.r1ch4dgexae9n_r1ch7tk8h4kye',\n",
       " 'experiment.transcriptic.r1c7cpt3djxuj_r1c7fex29q6t2',\n",
       " 'experiment.transcriptic.r1bfbfd7f8dn5',\n",
       " 'experiment.transcriptic.r1c7cpvfzqprk_r1c7fbvba55db',\n",
       " 'experiment.transcriptic.r1cbut2pdjtwv_r1cc6qzwcd4hx',\n",
       " 'experiment.transcriptic.r1bgu2eq6nhtf',\n",
       " 'experiment.transcriptic.r1cctubuxvmvs_r1cctubuxvmvs',\n",
       " 'experiment.transcriptic.r1ce3pjymvm3u_r1ceb3rgpe8gm',\n",
       " 'experiment.transcriptic.r1bd4arh2jwg6',\n",
       " 'experiment.transcriptic.r1bd7ft6uvjqx',\n",
       " 'experiment.transcriptic.r1cctw8wvwpbg_r1ccwteetw82v',\n",
       " 'experiment.transcriptic.r1cbut7g7x6pg_r1cc2xauy7qaa',\n",
       " 'experiment.transcriptic.r1c8yydkumrkr_r1c96xsxw79c9',\n",
       " 'experiment.transcriptic.r1c8xx94j94u7_r1c93ajvdzxz5',\n",
       " 'experiment.transcriptic.r1c9tpmcezpk2_r1c9wjnedp92f',\n",
       " 'experiment.transcriptic.r1cckyfwfae4d_r1ccq83ggacxc',\n",
       " 'experiment.transcriptic.r1c9pjzjs2c9k_r1c9wva2tpwj7',\n",
       " 'experiment.transcriptic.r1c5va879uaex_r1c639xp952g4',\n",
       " 'experiment.transcriptic.r1cbut3veu2z4_r1cc6efukqtxx',\n",
       " 'experiment.transcriptic.r1bg3dkexvk6w',\n",
       " 'experiment.transcriptic.r1cgbw9ww9g9h_r1cgjg8e8xeav',\n",
       " 'experiment.transcriptic.r1bsmgdayg2yq_r1bsu7tb7bsuk',\n",
       " 'experiment.transcriptic.r1bcbvzmzxszd',\n",
       " 'experiment.transcriptic.r1bekyu2gzwq2',\n",
       " 'experiment.transcriptic.r1c84xvquwxth_r1c8ek7vcmdxh',\n",
       " 'experiment.transcriptic.r1bd7uszstr6e',\n",
       " 'experiment.transcriptic.r1bdudsj7bma9',\n",
       " 'experiment.transcriptic.r1c5vab4q2yu9_r1c63c2e7z9hj',\n",
       " 'experiment.transcriptic.r1c8yx25rrtag_r1c96v2w8x5pq',\n",
       " 'experiment.transcriptic.r1bcf9kx568yz',\n",
       " 'experiment.transcriptic.r1ceuhqmu6c7w_r1cf6snbv99p8',\n",
       " 'experiment.transcriptic.r1ceuhrtvgyvd_r1cf6kx2a233e',\n",
       " 'experiment.transcriptic.r1c84xwx57y95_r1c8ejz8jfg9z',\n",
       " 'experiment.transcriptic.r1c7cpqp2k6cw_r1c7jn9syrr8s',\n",
       " 'experiment.transcriptic.r1bsqtgkytgmn_r1bsxqhkq5at9',\n",
       " 'experiment.transcriptic.r1cft9hhnhjdb_r1cfwgjmz247y',\n",
       " 'experiment.transcriptic.r1cgbw8qkp6z4_r1cgjpjx5ve76',\n",
       " 'experiment.transcriptic.r1bbktv6x4xke',\n",
       " 'experiment.transcriptic.r1ccqfbz332u8_r1cctaf8r32rc',\n",
       " 'experiment.transcriptic.r1ch4cyabaveb_r1chatnp3mxbp',\n",
       " 'experiment.transcriptic.r1c84y2j7n7bu_r1c8aw59wfxy8',\n",
       " 'experiment.transcriptic.r1bekjagxuef8',\n",
       " 'experiment.transcriptic.r1cdfr4bjcnrg_r1cdnuqex83dm',\n",
       " 'experiment.transcriptic.r1cgbw7hjvxgx_r1cgjxrexhd4j',\n",
       " 'experiment.transcriptic.r1c8yyg9gxbme_r1c96wn43pq45',\n",
       " 'experiment.transcriptic.r1ceuhu9enre5_r1cf33y4j6dyg',\n",
       " 'experiment.transcriptic.r1cfkpp2p3kjz_r1cftpr8wxqc7',\n",
       " 'experiment.transcriptic.r1c7cpu9nj2bu_r1c7fg23qkzph',\n",
       " 'experiment.transcriptic.r1bfawa87byfb',\n",
       " 'experiment.transcriptic.r1c84y3r9yqxb_r1c8auwvzbgt3',\n",
       " 'experiment.transcriptic.r1cdfsf4ezew3_r1cdjsyza79sr',\n",
       " 'experiment.transcriptic.r1cdhymqfs6b3_r1cdnzf4hbuz2',\n",
       " 'experiment.transcriptic.r1cdfr5gjs72s_r1cdk2gjusax6',\n",
       " 'experiment.transcriptic.r1ce3pndp353t_r1ce7xkybfnqd',\n",
       " 'experiment.transcriptic.r1c8xx6qe9eea_r1c93enbf48t7',\n",
       " 'experiment.transcriptic.r1bbm2c4eyvsp',\n",
       " 'experiment.transcriptic.r1bg3ssmxkzdt',\n",
       " 'experiment.transcriptic.r1bbq4mr76ngd',\n",
       " 'experiment.transcriptic.r1c7cppfr7yp6_r1c7jnv3pkbsj',\n",
       " 'experiment.transcriptic.r1c84xzc5dbuv_r1c8axrywctwb',\n",
       " 'experiment.transcriptic.r1cbut53kpf3n_r1cc3bn2s2aj8',\n",
       " 'experiment.transcriptic.r1ch4ct499u75_r1chb5z4ukuwy',\n",
       " 'experiment.transcriptic.r1btfnvt57bu7_r1btpq577ffhx',\n",
       " 'experiment.transcriptic.r1bdxrrmnryca',\n",
       " 'experiment.transcriptic.r1bdy2mdzu57w',\n",
       " 'experiment.transcriptic.r1btfp5k2edgn_r1btpym75nsdh',\n",
       " 'experiment.transcriptic.r1c8xx7we38vw_r1c93cukfcxqp',\n",
       " 'experiment.transcriptic.r1bduu9znjds4',\n",
       " 'experiment.transcriptic.r1cbuszfskzjt_r1cc6ws9c3dh4',\n",
       " 'experiment.transcriptic.r1c5vaeb8vbt9_r1c66mfpj7guh',\n",
       " 'experiment.transcriptic.r1c9tpk5zrbsk_r1c9wpbvjszxe',\n",
       " 'experiment.transcriptic.r1c5vac658fxn_r1c66qw595ydy',\n",
       " 'experiment.transcriptic.r1c7cprv7fe49_r1c7jmje3ebhc',\n",
       " 'experiment.transcriptic.r1cft9gbs55yn_r1cfwthkscwsk',\n",
       " 'experiment.transcriptic.r1c5vad8u7ve2_r1c66q7cru28u']"
      ]
     },
     "execution_count": 40,
     "metadata": {},
     "output_type": "execute_result"
    }
   ],
   "source": [
    "pipeline.get_experiment_ids()"
   ]
  },
  {
   "cell_type": "code",
   "execution_count": 54,
   "metadata": {},
   "outputs": [
    {
     "name": "stdout",
     "output_type": "stream",
     "text": [
      "Getting xplan dataframe for experiment...\n"
     ]
    },
    {
     "name": "stderr",
     "output_type": "stream",
     "text": [
      "/home/jupyter/tacc-work/jupyter_packages/lib/python3.6/site-packages/pandas/core/indexing.py:543: SettingWithCopyWarning: \n",
      "A value is trying to be set on a copy of a slice from a DataFrame.\n",
      "Try using .loc[row_indexer,col_indexer] = value instead\n",
      "\n",
      "See the caveats in the documentation: http://pandas.pydata.org/pandas-docs/stable/indexing.html#indexing-view-versus-copy\n",
      "  self.obj[item] = s\n"
     ]
    },
    {
     "name": "stdout",
     "output_type": "stream",
     "text": [
      "▼▼▼▼▼▼▼▼▼▼▼▼▼▼▼▼▼▼▼▼▼▼▼▼▼▼▼▼▼▼▼▼▼▼▼▼▼▼▼▼▼▼▼▼▼▼▼▼▼▼▼▼▼▼▼▼▼▼▼▼▼▼▼▼▼▼▼▼▼▼▼▼▼▼▼▼▼▼▼▼▼▼▼▼▼▼▼▼▼▼▼▼▼▼▼▼▼▼▼▼\n",
      "Starting run at time 21:08:47\n",
      "Normalizing training and testing splits...\n",
      "Starting Classification training...\n",
      "Training time was: 5.75 seconds\n",
      "Testing time was: 0.42 seconds\n",
      "Prediction time of untested data was: 50.54991054534912\n",
      "\n",
      "          Run ID        Date      Time                    Model Name Model Author  Accuracy  Balanced Accuracy  AUC Score  Average Precision  F1 Score  Precision  Recall Samples In Train Samples In Test                                                                                      Model Description Column Predicted Num Features Used Data and Split Description Normalized Num Features Normalized Feature Extraction Was Untested Data Predicted\n",
      "0  6dRW11Yzdg5NG  2019-05-29  21:08:47  random_forest_classification  Hamed        0.993     0.991              0.999      1.0                0.995     0.994      0.996   33351            8338            Random Forest: n_estimators=361, max_features=auto, criterion=entropy, min_samples_leaf=13, n_jobs=-1  class_label      12                yeast_live_dead_dataframe  True       12                      False              True                      \n",
      "\n",
      "Run finished at 21:10:56. Total run time = 129.02 seconds\n",
      "▲▲▲▲▲▲▲▲▲▲▲▲▲▲▲▲▲▲▲▲▲▲▲▲▲▲▲▲▲▲▲▲▲▲▲▲▲▲▲▲▲▲▲▲▲▲▲▲▲▲▲▲▲▲▲▲▲▲▲▲▲▲▲▲▲▲▲▲▲▲▲▲▲▲▲▲▲▲▲▲▲▲▲▲▲▲▲▲▲▲▲▲▲▲▲▲▲▲▲▲\n",
      "\n"
     ]
    }
   ],
   "source": [
    "## Get the data\n",
    "#ex_id = 'experiment.transcriptic.r1c5va879uaex_r1c639xp952g4'\n",
    "ex_id = 'experiment.transcriptic.r1c5vad8u7ve2_r1c66q7cru28u'\n",
    "samples = pipeline.get_experiment_samples(ex_id, 'FCS')\n",
    "sample_records = pipeline.get_metadata_dataframe(samples).drop_duplicates()\n",
    "df = pipeline.get_xplan_data_and_metadata_df(sample_records, '', max_records=30000)\n",
    "df = add_live_dead_test_harness(df)\n"
   ]
  },
  {
   "cell_type": "code",
   "execution_count": 86,
   "metadata": {},
   "outputs": [
    {
     "name": "stdout",
     "output_type": "stream",
     "text": [
      "            FSC_A      SSC_A    BL1_A     RL1_A     FSC_H      SSC_H   BL1_H    RL1_H   FSC_W   SSC_W  BL1_W  RL1_W  class_label\n",
      "96464   1048575.0  1048575.0  50709.0  497612.0  143548.0  1048575.0  788.0   64382.0  1023.0  1023.0  0.0    208.0  0          \n",
      "96465   100132.0   808091.0   74.0     15030.0   43464.0   419670.0   78.0    12429.0  67.0    146.0   0.0    15.0   0          \n",
      "96466   32897.0    163066.0  -4.0      25.0      29775.0   152832.0   64.0    42.0     29.0    47.0    0.0    0.0    0          \n",
      "96467   53908.0    223101.0   60.0     98.0      41272.0   175634.0   96.0    69.0     39.0    59.0    0.0    0.0    0          \n",
      "96468   62642.0    438119.0   19.0     4.0       50665.0   382702.0   84.0    130.0    40.0    90.0    0.0    0.0    0          \n",
      "96469   60639.0    287875.0   32.0     64.0      42749.0   206259.0   90.0    71.0     43.0    79.0    0.0    0.0    0          \n",
      "96470   41567.0    180704.0  -1.0      5.0       39391.0   174316.0   44.0    73.0     31.0    47.0    0.0    0.0    0          \n",
      "96471   115951.0   724636.0   140.0    281.0     44538.0   362956.0   90.0    123.0    72.0    157.0   0.0    0.0    0          \n",
      "96472   17442.0    88554.0   -35.0     87.0      16823.0   87091.0    58.0    100.0    19.0    38.0    0.0    0.0    0          \n",
      "96473   28909.0    123574.0  -15.0    -14.0      27811.0   121332.0   66.0    52.0     26.0    41.0    0.0    0.0    0          \n",
      "96474   40031.0    191136.0  -46.0     14.0      36139.0   179731.0   32.0    77.0     31.0    49.0    0.0    0.0    0          \n",
      "96475   24467.0    152828.0   9.0      44.0      24101.0   147555.0   34.0    62.0     25.0    45.0    0.0    0.0    0          \n",
      "96476   18619.0    157160.0   64.0     160.0     18632.0   156107.0   58.0    193.0    20.0    43.0    0.0    0.0    0          \n",
      "96477   14824.0    68620.0    26.0     107.0     14317.0   66882.0    65.0    99.0     16.0    35.0    0.0    0.0    0          \n",
      "96478   100215.0   606346.0   45.0     196.0     65511.0   349304.0   67.0    172.0    51.0    139.0   0.0    0.0    0          \n",
      "96479   52423.0    324779.0   14.0     21.0      37253.0   222804.0   39.0    101.0    41.0    96.0    0.0    0.0    0          \n",
      "96480   53531.0    210903.0  -53.0     63.0      42251.0   178235.0   54.0    71.0     38.0    54.0    0.0    0.0    0          \n",
      "96481   25732.0    221536.0   35.0     36.0      23472.0   214278.0   83.0    77.0     25.0    54.0    0.0    0.0    0          \n",
      "96482   21018.0    114024.0  -13.0     13.0      21044.0   112003.0   39.0    69.0     23.0    40.0    0.0    0.0    0          \n",
      "96483   41968.0    155583.0  -24.0     143.0     34020.0   131666.0   29.0    98.0     35.0    50.0    0.0    0.0    0          \n",
      "96484   47838.0    388206.0   9.0      77.0      36069.0   310398.0   28.0    57.0     39.0    91.0    0.0    0.0    0          \n",
      "96485   111032.0   705482.0  -56.0     131.0     39239.0   292198.0   41.0    135.0    79.0    152.0   0.0    0.0    0          \n",
      "96486   47394.0    193579.0   9.0      5.0       35339.0   149994.0   41.0    78.0     38.0    55.0    0.0    0.0    0          \n",
      "96487   58136.0    254414.0   90.0     40.0      42131.0   188650.0   81.0    92.0     41.0    70.0    0.0    0.0    0          \n",
      "96488   50237.0    212189.0   1.0     -50.0      37876.0   166928.0   67.0    50.0     39.0    57.0    0.0    0.0    0          \n",
      "96489   186598.0   1048575.0  51.0     168.0     96619.0   597590.0   84.0    152.0    77.0    195.0   0.0    0.0    0          \n",
      "96490   36765.0    137574.0   63.0     87.0      32803.0   126518.0   55.0    66.0     30.0    44.0    0.0    0.0    0          \n",
      "96491   34918.0    310797.0   30.0    -8.0       27826.0   269598.0   51.0    110.0    32.0    82.0    0.0    0.0    0          \n",
      "96492   43524.0    322111.0   28.0     70.0      31082.0   263955.0   83.0    98.0     38.0    89.0    0.0    0.0    0          \n",
      "96493   115454.0   694894.0   19.0     146.0     82763.0   469332.0   56.0    167.0    51.0    130.0   0.0    0.0    0          \n",
      "...          ...        ...    ...       ...         ...        ...    ...      ...     ...      ...   ...    ...   ..          \n",
      "210745  85284.0    1048575.0  2532.0   292.0     44599.0   731304.0   1124.0  279.0    59.0    133.0   0.0    0.0    1          \n",
      "210746  71372.0    733349.0   129.0   -14.0      43318.0   436898.0   97.0    110.0    50.0    117.0   0.0    0.0    1          \n",
      "210747  85761.0    636498.0   1828.0   224.0     43139.0   327279.0   798.0   170.0    58.0    134.0   0.0    0.0    1          \n",
      "210748  227471.0   1048575.0  6098.0   318.0     101843.0  936112.0   2680.0  294.0    84.0    212.0   0.0    0.0    1          \n",
      "210749  41174.0    211361.0   889.0    98.0      36244.0   191793.0   765.0   79.0     32.0    53.0    0.0    0.0    1          \n",
      "210750  99359.0    666959.0   2607.0   79.0      58978.0   338228.0   1347.0  116.0    55.0    140.0   0.0    0.0    1          \n",
      "210751  48834.0    280665.0   746.0    167.0     32175.0   194493.0   500.0   88.0     41.0    82.0    0.0    0.0    1          \n",
      "210752  45753.0    211858.0   575.0    87.0      33392.0   165635.0   417.0   62.0     39.0    58.0    0.0    0.0    1          \n",
      "210753  141163.0   1048575.0  3198.0   442.0     64513.0   749756.0   1692.0  210.0    67.0    172.0   0.0    0.0    1          \n",
      "210754  125597.0   891586.0   1793.0   197.0     72879.0   515250.0   1169.0  222.0    59.0    152.0   0.0    0.0    1          \n",
      "210755  233778.0   1048575.0  3823.0   444.0     120942.0  978793.0   1920.0  301.0    81.0    199.0   0.0    0.0    1          \n",
      "210756  10994.0    76211.0    83.0     188.0     10143.0   69697.0    90.0    156.0    4.0     39.0    0.0    0.0    1          \n",
      "210757  207769.0   1048575.0  5650.0   523.0     79896.0   1012070.0  2036.0  227.0    90.0    196.0   0.0    0.0    1          \n",
      "210758  168794.0   1048575.0  1007.0   523.0     57584.0   706379.0   558.0   247.0    82.0    188.0   0.0    0.0    1          \n",
      "210759  38739.0    375123.0  -5.0     -39.0      33921.0   336255.0   40.0    113.0    33.0    85.0    0.0    0.0    1          \n",
      "210760  185015.0   1048575.0  4272.0   430.0     63585.0   514495.0   1434.0  246.0    103.0   199.0   0.0    0.0    1          \n",
      "210761  49345.0    239686.0   659.0    50.0      35409.0   181785.0   463.0   80.0     40.0    64.0    0.0    0.0    1          \n",
      "210762  223507.0   1048575.0  4004.0   363.0     95660.0   534367.0   1103.0  207.0    102.0   211.0   0.0    0.0    1          \n",
      "210763  13071.0    285976.0  -25.0     508.0     12075.0   251073.0   57.0    488.0    12.0    78.0    0.0    0.0    1          \n",
      "210764  127640.0   911400.0   275.0    289.0     66322.0   406458.0   120.0   166.0    64.0    159.0   0.0    0.0    1          \n",
      "210765  46384.0    278331.0   979.0   -91.0      31285.0   201636.0   672.0   74.0     41.0    84.0    0.0    0.0    1          \n",
      "210766  176893.0   1048575.0  3567.0   340.0     102547.0  535609.0   1797.0  210.0    63.0    176.0   0.0    0.0    1          \n",
      "210767  116791.0   725573.0   2077.0   249.0     40704.0   310951.0   831.0   119.0    77.0    159.0   0.0    0.0    1          \n",
      "210768  63149.0    443667.0   1758.0   112.0     50644.0   379104.0   1444.0  146.0    40.0    100.0   0.0    0.0    1          \n",
      "210769  156352.0   1048575.0  983.0    198.0     88859.0   905402.0   594.0   216.0    65.0    176.0   0.0    0.0    1          \n",
      "210770  61382.0    341943.0   839.0    184.0     36756.0   223970.0   491.0   146.0    47.0    102.0   0.0    0.0    1          \n",
      "210771  68426.0    817255.0   2354.0   222.0     46181.0   582890.0   1545.0  162.0    47.0    110.0   0.0    0.0    1          \n",
      "210772  199433.0   1048575.0  5576.0   482.0     88292.0   765968.0   2917.0  308.0    83.0    200.0   0.0    0.0    1          \n",
      "210773  103476.0   983720.0   2335.0   337.0     50235.0   485069.0   1316.0  288.0    64.0    124.0   0.0    0.0    1          \n",
      "210774  184240.0   1048575.0  2948.0   330.0     50007.0   594684.0   962.0   189.0    106.0   202.0   0.0    0.0    1          \n",
      "\n",
      "[54311 rows x 13 columns]\n",
      "▼▼▼▼▼▼▼▼▼▼▼▼▼▼▼▼▼▼▼▼▼▼▼▼▼▼▼▼▼▼▼▼▼▼▼▼▼▼▼▼▼▼▼▼▼▼▼▼▼▼▼▼▼▼▼▼▼▼▼▼▼▼▼▼▼▼▼▼▼▼▼▼▼▼▼▼▼▼▼▼▼▼▼▼▼▼▼▼▼▼▼▼▼▼▼▼▼▼▼▼\n",
      "Starting run at time 13:16:31\n",
      "Normalizing training and testing splits...\n"
     ]
    },
    {
     "name": "stdout",
     "output_type": "stream",
     "text": [
      "Starting Classification training...\n",
      "Training time was: 7.06 seconds\n",
      "Testing time was: 0.95 seconds\n",
      "Prediction time of untested data was: 58.60746121406555\n",
      "\n",
      "          Run ID        Date      Time                    Model Name Model Author  Accuracy  Balanced Accuracy  AUC Score  Average Precision  F1 Score  Precision  Recall Samples In Train Samples In Test                                                                                      Model Description Column Predicted Num Features Used Data and Split Description Normalized Num Features Normalized Feature Extraction Was Untested Data Predicted\n",
      "0  QMlBapgdQkgw7  2019-05-31  13:16:31  random_forest_classification  Hamed        0.976     0.975              0.996      0.996              0.973     0.979      0.968   43448            10863           Random Forest: n_estimators=361, max_features=auto, criterion=entropy, min_samples_leaf=13, n_jobs=-1  class_label      12                circuit output prediction  True       12                      False              True                      \n",
      "\n",
      "Run finished at 13:19:02. Total run time = 150.55 seconds\n",
      "▲▲▲▲▲▲▲▲▲▲▲▲▲▲▲▲▲▲▲▲▲▲▲▲▲▲▲▲▲▲▲▲▲▲▲▲▲▲▲▲▲▲▲▲▲▲▲▲▲▲▲▲▲▲▲▲▲▲▲▲▲▲▲▲▲▲▲▲▲▲▲▲▲▲▲▲▲▲▲▲▲▲▲▲▲▲▲▲▲▲▲▲▲▲▲▲▲▲▲▲\n",
      "\n"
     ]
    },
    {
     "name": "stderr",
     "output_type": "stream",
     "text": [
      "/home/jupyter/tacc-work/jupyter_packages/lib/python3.6/site-packages/pandas/core/indexing.py:362: SettingWithCopyWarning: \n",
      "A value is trying to be set on a copy of a slice from a DataFrame.\n",
      "Try using .loc[row_indexer,col_indexer] = value instead\n",
      "\n",
      "See the caveats in the documentation: http://pandas.pydata.org/pandas-docs/stable/indexing.html#indexing-view-versus-copy\n",
      "  self.obj[key] = _infer_fill_value(value)\n",
      "/home/jupyter/tacc-work/jupyter_packages/lib/python3.6/site-packages/pandas/core/indexing.py:543: SettingWithCopyWarning: \n",
      "A value is trying to be set on a copy of a slice from a DataFrame.\n",
      "Try using .loc[row_indexer,col_indexer] = value instead\n",
      "\n",
      "See the caveats in the documentation: http://pandas.pydata.org/pandas-docs/stable/indexing.html#indexing-view-versus-copy\n",
      "  self.obj[item] = s\n"
     ]
    }
   ],
   "source": [
    "## Calculate different measures on data\n",
    "#correctness_df = compute_correctness_all(df, high_control='NOR 00 Control')\n",
    "correctness_df = compute_correctness_harness_test(df, high_control='NOR 00 Control')"
   ]
  },
  {
   "cell_type": "code",
   "execution_count": 87,
   "metadata": {},
   "outputs": [
    {
     "data": {
      "text/plain": [
       "1.000000    47\n",
       "0.000000    40\n",
       "0.220033    1 \n",
       "Name: mean_correct_classifier, dtype: int64"
      ]
     },
     "execution_count": 87,
     "metadata": {},
     "output_type": "execute_result"
    }
   ],
   "source": [
    "#df['strain_name'].value_counts()\n",
    "correctness_df['mean_correct_classifier'].value_counts()\n",
    "#np.mean(correctness_df.apply(lambda x: np.abs(x['mean_correct_classifier']- x['mean_correct_classifier_live']), axis=1))"
   ]
  },
  {
   "cell_type": "code",
   "execution_count": 72,
   "metadata": {},
   "outputs": [
    {
     "data": {
      "text/plain": [
       "Text(0, 0.5, 'threshold_live')"
      ]
     },
     "execution_count": 72,
     "metadata": {},
     "output_type": "execute_result"
    },
    {
     "data": {
      "image/png": "[encoded data removed]",
      "text/plain": [
       "<Figure size 432x288 with 1 Axes>"
      ]
     },
     "metadata": {
      "needs_background": "light"
     },
     "output_type": "display_data"
    }
   ],
   "source": [
    "%matplotlib inline\n",
    "import matplotlib.pyplot as plt\n",
    "\n",
    "ax = plt.axes()\n",
    "ax.scatter(correctness_df['mean_correct_threshold'], correctness_df['mean_correct_threshold_live'], alpha=0.5)\n",
    "ax.set_xlabel('threshold')\n",
    "ax.set_ylabel('threshold_live')\n",
    "\n"
   ]
  },
  {
   "cell_type": "code",
   "execution_count": 73,
   "metadata": {},
   "outputs": [
    {
     "data": {
      "text/plain": [
       "Text(0, 0.5, 'classifier_live')"
      ]
     },
     "execution_count": 73,
     "metadata": {},
     "output_type": "execute_result"
    },
    {
     "data": {
      "image/png": "[encoded data removed]",
      "text/plain": [
       "<Figure size 432x288 with 1 Axes>"
      ]
     },
     "metadata": {
      "needs_background": "light"
     },
     "output_type": "display_data"
    }
   ],
   "source": [
    "ax = plt.axes()\n",
    "ax.scatter(correctness_df['mean_correct_classifier'], correctness_df['mean_correct_classifier_live'], alpha=0.5)\n",
    "ax.set_xlabel('classifier')\n",
    "ax.set_ylabel('classifier_live')\n",
    "\n"
   ]
  },
  {
   "cell_type": "code",
   "execution_count": 74,
   "metadata": {},
   "outputs": [
    {
     "data": {
      "text/plain": [
       "Text(0, 0.5, 'classifier_live')"
      ]
     },
     "execution_count": 74,
     "metadata": {},
     "output_type": "execute_result"
    },
    {
     "data": {
      "image/png": "[encoded data removed]",
      "text/plain": [
       "<Figure size 432x288 with 1 Axes>"
      ]
     },
     "metadata": {
      "needs_background": "light"
     },
     "output_type": "display_data"
    }
   ],
   "source": [
    "ax = plt.axes()\n",
    "ax.scatter(correctness_df['mean_correct_threshold_live'], correctness_df['mean_correct_classifier_live'], alpha=0.5)\n",
    "ax.set_xlabel('threshold_live')\n",
    "ax.set_ylabel('classifier_live')\n",
    "\n"
   ]
  },
  {
   "cell_type": "code",
   "execution_count": 75,
   "metadata": {},
   "outputs": [
    {
     "data": {
      "text/plain": [
       "Text(0, 0.5, 'classifier')"
      ]
     },
     "execution_count": 75,
     "metadata": {},
     "output_type": "execute_result"
    },
    {
     "data": {
      "image/png": "[encoded data removed]",
      "text/plain": [
       "<Figure size 432x288 with 1 Axes>"
      ]
     },
     "metadata": {
      "needs_background": "light"
     },
     "output_type": "display_data"
    }
   ],
   "source": [
    "ax = plt.axes()\n",
    "ax.scatter(correctness_df['mean_correct_threshold'], correctness_df['mean_correct_classifier'], alpha=0.5)\n",
    "ax.set_xlabel('threshold')\n",
    "ax.set_ylabel('classifier')\n",
    "\n"
   ]
  }
 ],
 "metadata": {
  "kernelspec": {
   "display_name": "Python 3",
   "language": "python",
   "name": "python3"
  },
  "language_info": {
   "codemirror_mode": {
    "name": "ipython",
    "version": 3
   },
   "file_extension": ".py",
   "mimetype": "text/x-python",
   "name": "python",
   "nbconvert_exporter": "python",
   "pygments_lexer": "ipython3",
   "version": "3.6.6"
  }
 },
 "nbformat": 4,
 "nbformat_minor": 2
}
