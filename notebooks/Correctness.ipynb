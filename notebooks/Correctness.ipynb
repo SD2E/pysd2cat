{
 "cells": [
  {
   "cell_type": "code",
   "execution_count": 38,
   "metadata": {
    "scrolled": true
   },
   "outputs": [
    {
     "name": "stdout",
     "output_type": "stream",
     "text": [
      "The autoreload extension is already loaded. To reload it, use:\n",
      "  %reload_ext autoreload\n"
     ]
    }
   ],
   "source": [
    "import json\n",
    "import time\n",
    "import pandas as pd\n",
    "from os.path import expanduser\n",
    "import sys\n",
    "import os\n",
    "import numpy as np\n",
    "import glob\n",
    "\n",
    "#os.chdir('pysd2cat')\n",
    "#!{sys.executable} setup.py develop --user --uninstall\n",
    "#!{sys.executable} setup.py develop --user \n",
    "#os.chdir(os.pardir)\n",
    "\n",
    "from pysd2cat.analysis.correctness import compute_correctness_all, compute_correctness_with_classifier\n",
    "from pysd2cat.data import pipeline \n",
    "from pysd2cat.analysis.live_dead_analysis import add_live_dead_test_harness\n",
    "\n",
    "%load_ext autoreload\n",
    "%autoreload 2\n",
    "\n"
   ]
  },
  {
   "cell_type": "code",
   "execution_count": 2,
   "metadata": {},
   "outputs": [
    {
     "data": {
      "text/plain": [
       "['experiment.transcriptic.r1bcc65suuqrj',\n",
       " 'experiment.transcriptic.r1cbut3veu2z4_r1cc6efukqtxx',\n",
       " 'experiment.transcriptic.r1bd4arh2jwg6',\n",
       " 'experiment.transcriptic.r1bfbfd7f8dn5',\n",
       " 'experiment.transcriptic.r1cckyfwfae4d_r1ccq83ggacxc',\n",
       " 'experiment.transcriptic.r1cgbw7hjvxgx_r1cgjxrexhd4j',\n",
       " 'experiment.transcriptic.r1bd6ma3q8btb',\n",
       " 'experiment.transcriptic.r1ceuab227w5q_r1cf3jgv8pegg',\n",
       " 'experiment.transcriptic.r1cfkpp2p3kjz_r1cftpr8wxqc7',\n",
       " 'experiment.transcriptic.r1c84xwx57y95_r1c8ejz8jfg9z',\n",
       " 'experiment.transcriptic.r1cctubuxvmvs_r1cctubuxvmvs',\n",
       " 'experiment.transcriptic.r1c84xy5frkf3_r1c8ejr9kezva',\n",
       " 'experiment.transcriptic.r1bcfncn8xeys',\n",
       " 'experiment.transcriptic.r1bsqh78n5jeq_r1bsxfcwtsbmt',\n",
       " 'experiment.transcriptic.r1ceuhu9enre5_r1cf33y4j6dyg',\n",
       " 'experiment.transcriptic.r1c8xx6qe9eea_r1c93enbf48t7',\n",
       " 'experiment.transcriptic.r1c8xx94j94u7_r1c93ajvdzxz5',\n",
       " 'experiment.transcriptic.r1cctw8wvwpbg_r1ccwteetw82v',\n",
       " 'experiment.transcriptic.r1bg3ssmxkzdt',\n",
       " 'experiment.transcriptic.r1cbut7g7x6pg_r1cc2xauy7qaa',\n",
       " 'experiment.transcriptic.r1c7cpvfzqprk_r1c7fbvba55db',\n",
       " 'experiment.transcriptic.r1c8yx25rrtag_r1c96v2w8x5pq',\n",
       " 'experiment.transcriptic.r1bdxrrmnryca',\n",
       " 'experiment.transcriptic.r1ce3pm76spw4_r1ceas4zgsdt5',\n",
       " 'experiment.transcriptic.r1cbut53kpf3n_r1cc3bn2s2aj8',\n",
       " 'experiment.transcriptic.r1ceuhrtvgyvd_r1cf6kx2a233e',\n",
       " 'experiment.transcriptic.r1c9pjzjs2c9k_r1c9wva2tpwj7',\n",
       " 'experiment.transcriptic.r1ch4dgexae9n_r1ch7tk8h4kye',\n",
       " 'experiment.transcriptic.r1bsmggea748b_r1bsun4yb67e7',\n",
       " 'experiment.transcriptic.r1bduu9znjds4',\n",
       " 'experiment.transcriptic.r1bsqtgkytgmn_r1bsxqhkq5at9',\n",
       " 'experiment.transcriptic.r1c84y2j7n7bu_r1c8aw59wfxy8',\n",
       " 'experiment.transcriptic.r1c9tpk5zrbsk_r1c9wpbvjszxe',\n",
       " 'experiment.transcriptic.r1bg3dkexvk6w',\n",
       " 'experiment.transcriptic.r1ccqfas8urfk_r1cctk2a3wbk5',\n",
       " 'experiment.transcriptic.r1cdfr4bjcnrg_r1cdnuqex83dm',\n",
       " 'experiment.transcriptic.r1cbut6a79n9t_r1cc34mkuvzeh',\n",
       " 'experiment.transcriptic.r1ccqfbz332u8_r1cctaf8r32rc',\n",
       " 'experiment.transcriptic.r1ch4ct499u75_r1chb5z4ukuwy',\n",
       " 'experiment.transcriptic.r1bfawa87byfb',\n",
       " 'experiment.transcriptic.r1bd7ft6uvjqx',\n",
       " 'experiment.transcriptic.r1bbm2c4eyvsp',\n",
       " 'experiment.transcriptic.r1btfnvt57bu7_r1btpq577ffhx',\n",
       " 'experiment.transcriptic.r1c5va9wyf3mx_r1c63bjzu5ruy',\n",
       " 'experiment.transcriptic.r1bbktv6x4xke',\n",
       " 'experiment.transcriptic.r1cft9hhnhjdb_r1cfwgjmz247y',\n",
       " 'experiment.transcriptic.r1cdhymqfs6b3_r1cdnzf4hbuz2',\n",
       " 'experiment.transcriptic.r1c5vaeb8vbt9_r1c66mfpj7guh',\n",
       " 'experiment.transcriptic.r1c84y3r9yqxb_r1c8auwvzbgt3',\n",
       " 'experiment.transcriptic.r1bsmgdayg2yq_r1bsu7tb7bsuk',\n",
       " 'experiment.transcriptic.r1bd7uszstr6e',\n",
       " 'experiment.transcriptic.r1cdfr5gjs72s_r1cdk2gjusax6',\n",
       " 'experiment.transcriptic.r1bekjagxuef8',\n",
       " 'experiment.transcriptic.r1cctw7qh3777_r1ccwxr4t3wb6',\n",
       " 'experiment.transcriptic.r1ce3pjymvm3u_r1ceb3rgpe8gm',\n",
       " 'experiment.transcriptic.r1c7cppfr7yp6_r1c7jnv3pkbsj',\n",
       " 'experiment.transcriptic.r1bdy2mdzu57w',\n",
       " 'experiment.transcriptic.r1cbuszfskzjt_r1cc6ws9c3dh4',\n",
       " 'experiment.transcriptic.r1c7cpu9nj2bu_r1c7fg23qkzph',\n",
       " 'experiment.transcriptic.r1c5vac658fxn_r1c66qw595ydy',\n",
       " 'experiment.transcriptic.r1cft9gbs55yn_r1cfwthkscwsk',\n",
       " 'experiment.transcriptic.r1bbqkufj7wpz',\n",
       " 'experiment.transcriptic.r1c7cpqp2k6cw_r1c7jn9syrr8s',\n",
       " 'experiment.transcriptic.r1c8yyg9gxbme_r1c96wn43pq45',\n",
       " 'experiment.transcriptic.r1bcbvzmzxszd',\n",
       " 'experiment.transcriptic.r1bekyu2gzwq2',\n",
       " 'experiment.transcriptic.r1cbut2pdjtwv_r1cc6qzwcd4hx',\n",
       " 'experiment.transcriptic.r1ch4cyabaveb_r1chatnp3mxbp',\n",
       " 'experiment.transcriptic.r1bcf9kx568yz',\n",
       " 'experiment.transcriptic.r1bdudsj7bma9',\n",
       " 'experiment.transcriptic.r1c84xvquwxth_r1c8ek7vcmdxh',\n",
       " 'experiment.transcriptic.r1bgu2eq6nhtf',\n",
       " 'experiment.transcriptic.r1c5va879uaex_r1c639xp952g4',\n",
       " 'experiment.transcriptic.r1c5vad8u7ve2_r1c66q7cru28u',\n",
       " 'experiment.transcriptic.r1bbq4mr76ngd',\n",
       " 'experiment.transcriptic.r1btfp5k2edgn_r1btpym75nsdh',\n",
       " 'experiment.transcriptic.r1cckyeq9r358_r1ccqgmy5ffcd',\n",
       " 'experiment.transcriptic.r1bgtnn6nxy85',\n",
       " 'experiment.transcriptic.r1c8xx7we38vw_r1c93cukfcxqp',\n",
       " 'experiment.transcriptic.r1ch4db47m3f2_r1ch7x667aevf',\n",
       " 'experiment.transcriptic.r1ceuhqmu6c7w_r1cf6snbv99p8',\n",
       " 'experiment.transcriptic.r1c5vab4q2yu9_r1c63c2e7z9hj',\n",
       " 'experiment.transcriptic.r1cgbw8qkp6z4_r1cgjpjx5ve76',\n",
       " 'experiment.transcriptic.r1c8yydkumrkr_r1c96xsxw79c9',\n",
       " 'experiment.transcriptic.r1c84xzc5dbuv_r1c8axrywctwb',\n",
       " 'experiment.transcriptic.r1cgbw9ww9g9h_r1cgjg8e8xeav',\n",
       " 'experiment.transcriptic.r1c7cpt3djxuj_r1c7fex29q6t2',\n",
       " 'experiment.transcriptic.r1c9tpmcezpk2_r1c9wjnedp92f',\n",
       " 'experiment.transcriptic.r1cckyh56hjqj_r1ccpyjef2vca',\n",
       " 'experiment.transcriptic.r1c7cprv7fe49_r1c7jmje3ebhc',\n",
       " 'experiment.transcriptic.r1cdfsf4ezew3_r1cdjsyza79sr',\n",
       " 'experiment.transcriptic.r1ce3pndp353t_r1ce7xkybfnqd']"
      ]
     },
     "execution_count": 2,
     "metadata": {},
     "output_type": "execute_result"
    }
   ],
   "source": [
    "pipeline.get_experiment_ids()"
   ]
  },
  {
   "cell_type": "code",
   "execution_count": 45,
   "metadata": {},
   "outputs": [
    {
     "name": "stdout",
     "output_type": "stream",
     "text": [
      "Getting xplan dataframe for experiment...\n",
      "2764226\n",
      "▼▼▼▼▼▼▼▼▼▼▼▼▼▼▼▼▼▼▼▼▼▼▼▼▼▼▼▼▼▼▼▼▼▼▼▼▼▼▼▼▼▼▼▼▼▼▼▼▼▼▼▼▼▼▼▼▼▼▼▼▼▼▼▼▼▼▼▼▼▼▼▼▼▼▼▼▼▼▼▼▼▼▼▼▼▼▼▼▼▼▼▼▼▼▼▼▼▼▼▼\n",
      "Starting run at time 18:32:22\n",
      "Normalizing training and testing splits...\n",
      "Starting Classification training...\n",
      "Training time was: 1.14 seconds\n",
      "Testing time was: 0.42 seconds\n",
      "Prediction time of untested data was: 12.88457727432251\n",
      "\n",
      "          Run ID        Date      Time                    Model Name Model Author  Accuracy  Balanced Accuracy  AUC Score  Average Precision  F1 Score  Precision  Recall Samples In Train Samples In Test                                                                                      Model Description Column Predicted Num Features Used Data and Split Description Normalized Num Features Normalized Feature Extraction Was Untested Data Predicted\n",
      "0  5RLkAEyrQdNzb  2019-05-31  18:32:22  random_forest_classification  Hamed        0.994     0.991              0.999      1.0                0.996     0.994      0.997   33351            8338            Random Forest: n_estimators=361, max_features=auto, criterion=entropy, min_samples_leaf=13, n_jobs=-1  class_label      12                yeast_live_dead_dataframe  True       12                      False              True                      \n",
      "\n",
      "Run finished at 18:33:23. Total run time = 60.16 seconds\n",
      "▲▲▲▲▲▲▲▲▲▲▲▲▲▲▲▲▲▲▲▲▲▲▲▲▲▲▲▲▲▲▲▲▲▲▲▲▲▲▲▲▲▲▲▲▲▲▲▲▲▲▲▲▲▲▲▲▲▲▲▲▲▲▲▲▲▲▲▲▲▲▲▲▲▲▲▲▲▲▲▲▲▲▲▲▲▲▲▲▲▲▲▲▲▲▲▲▲▲▲▲\n",
      "\n",
      "2764226\n"
     ]
    }
   ],
   "source": [
    "## Get the data\n",
    "#ex_id = 'experiment.transcriptic.r1c5va879uaex_r1c639xp952g4'\n",
    "ex_id = 'experiment.transcriptic.r1c5vad8u7ve2_r1c66q7cru28u'\n",
    "samples = pipeline.get_experiment_samples(ex_id, 'FCS')\n",
    "sample_records = pipeline.get_metadata_dataframe(samples).drop_duplicates()\n",
    "df = pipeline.get_xplan_data_and_metadata_df(sample_records, '', max_records=30000)\n",
    "print(len(df))\n",
    "df = add_live_dead_test_harness(df)\n",
    "print(len(df))"
   ]
  },
  {
   "cell_type": "code",
   "execution_count": 46,
   "metadata": {},
   "outputs": [
    {
     "name": "stderr",
     "output_type": "stream",
     "text": [
      "/work/05202/dbryce/jupyter_packages/lib/python3.6/site-packages/pandas/core/indexing.py:543: SettingWithCopyWarning: \n",
      "A value is trying to be set on a copy of a slice from a DataFrame.\n",
      "Try using .loc[row_indexer,col_indexer] = value instead\n",
      "\n",
      "See the caveats in the documentation: http://pandas.pydata.org/pandas-docs/stable/indexing.html#indexing-view-versus-copy\n",
      "  self.obj[item] = s\n"
     ]
    },
    {
     "name": "stdout",
     "output_type": "stream",
     "text": [
      "MAE: 0.023105955997422444\n",
      "Predicting live...\n"
     ]
    },
    {
     "name": "stderr",
     "output_type": "stream",
     "text": [
      "/work/05202/dbryce/jupyter_packages/lib/python3.6/site-packages/pandas/core/indexing.py:362: SettingWithCopyWarning: \n",
      "A value is trying to be set on a copy of a slice from a DataFrame.\n",
      "Try using .loc[row_indexer,col_indexer] = value instead\n",
      "\n",
      "See the caveats in the documentation: http://pandas.pydata.org/pandas-docs/stable/indexing.html#indexing-view-versus-copy\n",
      "  self.obj[key] = _infer_fill_value(value)\n",
      "/work/05202/dbryce/jupyter_packages/lib/python3.6/site-packages/pandas/core/indexing.py:543: SettingWithCopyWarning: \n",
      "A value is trying to be set on a copy of a slice from a DataFrame.\n",
      "Try using .loc[row_indexer,col_indexer] = value instead\n",
      "\n",
      "See the caveats in the documentation: http://pandas.pydata.org/pandas-docs/stable/indexing.html#indexing-view-versus-copy\n",
      "  self.obj[item] = s\n"
     ]
    },
    {
     "name": "stdout",
     "output_type": "stream",
     "text": [
      "2764226\n",
      "▼▼▼▼▼▼▼▼▼▼▼▼▼▼▼▼▼▼▼▼▼▼▼▼▼▼▼▼▼▼▼▼▼▼▼▼▼▼▼▼▼▼▼▼▼▼▼▼▼▼▼▼▼▼▼▼▼▼▼▼▼▼▼▼▼▼▼▼▼▼▼▼▼▼▼▼▼▼▼▼▼▼▼▼▼▼▼▼▼▼▼▼▼▼▼▼▼▼▼▼\n",
      "Starting run at time 18:35:50\n",
      "Normalizing training and testing splits...\n",
      "Starting Classification training...\n",
      "Training time was: 1.46 seconds\n",
      "Testing time was: 0.42 seconds\n",
      "Prediction time of untested data was: 13.230252265930176\n",
      "\n",
      "          Run ID        Date      Time                    Model Name Model Author  Accuracy  Balanced Accuracy  AUC Score  Average Precision  F1 Score  Precision  Recall Samples In Train Samples In Test                                                                                      Model Description Column Predicted Num Features Used Data and Split Description Normalized Num Features Normalized Feature Extraction Was Untested Data Predicted\n",
      "0  5Z6DvVpo2JG7w  2019-05-31  18:35:50  random_forest_classification  Hamed        0.977     0.976              0.996      0.996              0.974     0.98       0.968   43448            10863           Random Forest: n_estimators=361, max_features=auto, criterion=entropy, min_samples_leaf=13, n_jobs=-1  class_label      12                circuit output prediction  True       12                      False              True                      \n",
      "\n",
      "Run finished at 18:36:48. Total run time = 58.02 seconds\n",
      "▲▲▲▲▲▲▲▲▲▲▲▲▲▲▲▲▲▲▲▲▲▲▲▲▲▲▲▲▲▲▲▲▲▲▲▲▲▲▲▲▲▲▲▲▲▲▲▲▲▲▲▲▲▲▲▲▲▲▲▲▲▲▲▲▲▲▲▲▲▲▲▲▲▲▲▲▲▲▲▲▲▲▲▲▲▲▲▲▲▲▲▲▲▲▲▲▲▲▲▲\n",
      "\n"
     ]
    },
    {
     "name": "stderr",
     "output_type": "stream",
     "text": [
      "/work/05202/dbryce/jupyter_packages/lib/python3.6/site-packages/pandas/core/indexing.py:362: SettingWithCopyWarning: \n",
      "A value is trying to be set on a copy of a slice from a DataFrame.\n",
      "Try using .loc[row_indexer,col_indexer] = value instead\n",
      "\n",
      "See the caveats in the documentation: http://pandas.pydata.org/pandas-docs/stable/indexing.html#indexing-view-versus-copy\n",
      "  self.obj[key] = _infer_fill_value(value)\n",
      "/work/05202/dbryce/jupyter_packages/lib/python3.6/site-packages/pandas/core/indexing.py:543: SettingWithCopyWarning: \n",
      "A value is trying to be set on a copy of a slice from a DataFrame.\n",
      "Try using .loc[row_indexer,col_indexer] = value instead\n",
      "\n",
      "See the caveats in the documentation: http://pandas.pydata.org/pandas-docs/stable/indexing.html#indexing-view-versus-copy\n",
      "  self.obj[item] = s\n"
     ]
    },
    {
     "name": "stdout",
     "output_type": "stream",
     "text": [
      "2764226\n"
     ]
    }
   ],
   "source": [
    "## Calculate different measures on data\n",
    "#correctness_df = compute_correctness_all(df, high_control='NOR 00 Control')\n",
    "correctness_df = compute_correctness_with_classifier(df, \n",
    "                                                high_control='NOR 00 Control', \n",
    "                                                use_harness=False)\n",
    "print(len(df))\n",
    "correctness_h_df = compute_correctness_with_classifier(df, \n",
    "                                                  high_control='NOR 00 Control', \n",
    "                                                  use_harness=True)\n",
    "print(len(df))"
   ]
  },
  {
   "cell_type": "code",
   "execution_count": 47,
   "metadata": {},
   "outputs": [
    {
     "data": {
      "text/plain": [
       "UWBF_XNOR_00               240000\n",
       "UWBF_XNOR_11               240000\n",
       "UWBF_XNOR_10               240000\n",
       "UWBF_XNOR_01               240000\n",
       "UWBF_NOR_11                120000\n",
       "UWBF_NAND_00               120000\n",
       "UWBF_NAND_01               120000\n",
       "UWBF_NOR_00                120000\n",
       "UWBF_NAND_11               120000\n",
       "UWBF_NOR_01                120000\n",
       "UWBF_NAND_10               120000\n",
       "UWBF_NOR_10                120000\n",
       "UWBF_OR_11                 60000 \n",
       "UWBF_AND_01                60000 \n",
       "UWBF_XOR_00                60000 \n",
       "UWBF_XOR_10                60000 \n",
       "UWBF_AND_10                60000 \n",
       "UWBF_AND_00                60000 \n",
       "UWBF_OR_01                 60000 \n",
       "UWBF_AND_11                60000 \n",
       "UWBF_XOR_11                60000 \n",
       "UWBF_OR_10                 60000 \n",
       "UWBF_XOR_01                60000 \n",
       "UWBF_OR_00                 51762 \n",
       "WT-Live-Control            30000 \n",
       "SpheroControl2             30000 \n",
       "beads_spherotech_pps_6K    30000 \n",
       "NOR 00 Control             24311 \n",
       "WT-Dead-Control            11689 \n",
       "SpheroControl1             6464  \n",
       "Name: strain_name, dtype: int64"
      ]
     },
     "execution_count": 47,
     "metadata": {},
     "output_type": "execute_result"
    }
   ],
   "source": [
    "df['strain_name'].value_counts()"
   ]
  },
  {
   "cell_type": "code",
   "execution_count": 50,
   "metadata": {},
   "outputs": [
    {
     "data": {
      "text/plain": [
       "0.973167    2\n",
       "0.977067    1\n",
       "0.979233    1\n",
       "0.830900    1\n",
       "0.999600    1\n",
       "0.948500    1\n",
       "0.913533    1\n",
       "0.998400    1\n",
       "0.482700    1\n",
       "0.969200    1\n",
       "0.969133    1\n",
       "0.955700    1\n",
       "0.994667    1\n",
       "0.826700    1\n",
       "0.868267    1\n",
       "0.759467    1\n",
       "0.575400    1\n",
       "0.980233    1\n",
       "0.417133    1\n",
       "0.984033    1\n",
       "0.754567    1\n",
       "0.979300    1\n",
       "0.425700    1\n",
       "0.938700    1\n",
       "0.984233    1\n",
       "0.970367    1\n",
       "0.954367    1\n",
       "0.539800    1\n",
       "0.567633    1\n",
       "0.820200    1\n",
       "           ..\n",
       "0.785800    1\n",
       "0.678633    1\n",
       "0.964300    1\n",
       "0.018933    1\n",
       "0.974833    1\n",
       "0.931867    1\n",
       "0.961033    1\n",
       "0.777967    1\n",
       "0.646900    1\n",
       "0.638633    1\n",
       "0.994100    1\n",
       "0.975633    1\n",
       "0.771033    1\n",
       "0.998533    1\n",
       "0.528833    1\n",
       "0.630267    1\n",
       "0.983233    1\n",
       "0.705967    1\n",
       "0.954333    1\n",
       "0.909800    1\n",
       "0.967767    1\n",
       "0.996900    1\n",
       "0.960333    1\n",
       "0.950000    1\n",
       "0.981533    1\n",
       "0.979033    1\n",
       "0.985700    1\n",
       "0.975767    1\n",
       "0.987400    1\n",
       "0.744500    1\n",
       "Name: mean_correct_classifier, Length: 87, dtype: int64"
      ]
     },
     "execution_count": 50,
     "metadata": {},
     "output_type": "execute_result"
    }
   ],
   "source": [
    "\n",
    "#df['strain_name'].value_counts()\n",
    "correctness_df['mean_correct_classifier'].value_counts()\n",
    "#np.mean(correctness_df.apply(lambda x: np.abs(x['mean_correct_classifier']- x['mean_correct_classifier_live']), axis=1))"
   ]
  },
  {
   "cell_type": "code",
   "execution_count": 15,
   "metadata": {},
   "outputs": [
    {
     "ename": "KeyError",
     "evalue": "'mean_correct_threshold'",
     "output_type": "error",
     "traceback": [
      "\u001b[0;31m---------------------------------------------------------------------------\u001b[0m",
      "\u001b[0;31mKeyError\u001b[0m                                  Traceback (most recent call last)",
      "\u001b[0;32m~_packages/lib/python3.6/site-packages/pandas/core/indexes/base.py\u001b[0m in \u001b[0;36mget_loc\u001b[0;34m(self, key, method, tolerance)\u001b[0m\n\u001b[1;32m   2656\u001b[0m             \u001b[0;32mtry\u001b[0m\u001b[0;34m:\u001b[0m\u001b[0;34m\u001b[0m\u001b[0m\n\u001b[0;32m-> 2657\u001b[0;31m                 \u001b[0;32mreturn\u001b[0m \u001b[0mself\u001b[0m\u001b[0;34m.\u001b[0m\u001b[0m_engine\u001b[0m\u001b[0;34m.\u001b[0m\u001b[0mget_loc\u001b[0m\u001b[0;34m(\u001b[0m\u001b[0mkey\u001b[0m\u001b[0;34m)\u001b[0m\u001b[0;34m\u001b[0m\u001b[0m\n\u001b[0m\u001b[1;32m   2658\u001b[0m             \u001b[0;32mexcept\u001b[0m \u001b[0mKeyError\u001b[0m\u001b[0;34m:\u001b[0m\u001b[0;34m\u001b[0m\u001b[0m\n",
      "\u001b[0;32mpandas/_libs/index.pyx\u001b[0m in \u001b[0;36mpandas._libs.index.IndexEngine.get_loc\u001b[0;34m()\u001b[0m\n",
      "\u001b[0;32mpandas/_libs/index.pyx\u001b[0m in \u001b[0;36mpandas._libs.index.IndexEngine.get_loc\u001b[0;34m()\u001b[0m\n",
      "\u001b[0;32mpandas/_libs/hashtable_class_helper.pxi\u001b[0m in \u001b[0;36mpandas._libs.hashtable.PyObjectHashTable.get_item\u001b[0;34m()\u001b[0m\n",
      "\u001b[0;32mpandas/_libs/hashtable_class_helper.pxi\u001b[0m in \u001b[0;36mpandas._libs.hashtable.PyObjectHashTable.get_item\u001b[0;34m()\u001b[0m\n",
      "\u001b[0;31mKeyError\u001b[0m: 'mean_correct_threshold'",
      "\nDuring handling of the above exception, another exception occurred:\n",
      "\u001b[0;31mKeyError\u001b[0m                                  Traceback (most recent call last)",
      "\u001b[0;32m<ipython-input-15-fb1772898e88>\u001b[0m in \u001b[0;36m<module>\u001b[0;34m\u001b[0m\n\u001b[1;32m      3\u001b[0m \u001b[0;34m\u001b[0m\u001b[0m\n\u001b[1;32m      4\u001b[0m \u001b[0max\u001b[0m \u001b[0;34m=\u001b[0m \u001b[0mplt\u001b[0m\u001b[0;34m.\u001b[0m\u001b[0maxes\u001b[0m\u001b[0;34m(\u001b[0m\u001b[0;34m)\u001b[0m\u001b[0;34m\u001b[0m\u001b[0m\n\u001b[0;32m----> 5\u001b[0;31m \u001b[0max\u001b[0m\u001b[0;34m.\u001b[0m\u001b[0mscatter\u001b[0m\u001b[0;34m(\u001b[0m\u001b[0mcorrectness_df\u001b[0m\u001b[0;34m[\u001b[0m\u001b[0;34m'mean_correct_threshold'\u001b[0m\u001b[0;34m]\u001b[0m\u001b[0;34m,\u001b[0m \u001b[0mcorrectness_df\u001b[0m\u001b[0;34m[\u001b[0m\u001b[0;34m'mean_correct_threshold_live'\u001b[0m\u001b[0;34m]\u001b[0m\u001b[0;34m,\u001b[0m \u001b[0malpha\u001b[0m\u001b[0;34m=\u001b[0m\u001b[0;36m0.5\u001b[0m\u001b[0;34m)\u001b[0m\u001b[0;34m\u001b[0m\u001b[0m\n\u001b[0m\u001b[1;32m      6\u001b[0m \u001b[0max\u001b[0m\u001b[0;34m.\u001b[0m\u001b[0mset_xlabel\u001b[0m\u001b[0;34m(\u001b[0m\u001b[0;34m'threshold'\u001b[0m\u001b[0;34m)\u001b[0m\u001b[0;34m\u001b[0m\u001b[0m\n\u001b[1;32m      7\u001b[0m \u001b[0max\u001b[0m\u001b[0;34m.\u001b[0m\u001b[0mset_ylabel\u001b[0m\u001b[0;34m(\u001b[0m\u001b[0;34m'threshold_live'\u001b[0m\u001b[0;34m)\u001b[0m\u001b[0;34m\u001b[0m\u001b[0m\n",
      "\u001b[0;32m~_packages/lib/python3.6/site-packages/pandas/core/frame.py\u001b[0m in \u001b[0;36m__getitem__\u001b[0;34m(self, key)\u001b[0m\n\u001b[1;32m   2925\u001b[0m             \u001b[0;32mif\u001b[0m \u001b[0mself\u001b[0m\u001b[0;34m.\u001b[0m\u001b[0mcolumns\u001b[0m\u001b[0;34m.\u001b[0m\u001b[0mnlevels\u001b[0m \u001b[0;34m>\u001b[0m \u001b[0;36m1\u001b[0m\u001b[0;34m:\u001b[0m\u001b[0;34m\u001b[0m\u001b[0m\n\u001b[1;32m   2926\u001b[0m                 \u001b[0;32mreturn\u001b[0m \u001b[0mself\u001b[0m\u001b[0;34m.\u001b[0m\u001b[0m_getitem_multilevel\u001b[0m\u001b[0;34m(\u001b[0m\u001b[0mkey\u001b[0m\u001b[0;34m)\u001b[0m\u001b[0;34m\u001b[0m\u001b[0m\n\u001b[0;32m-> 2927\u001b[0;31m             \u001b[0mindexer\u001b[0m \u001b[0;34m=\u001b[0m \u001b[0mself\u001b[0m\u001b[0;34m.\u001b[0m\u001b[0mcolumns\u001b[0m\u001b[0;34m.\u001b[0m\u001b[0mget_loc\u001b[0m\u001b[0;34m(\u001b[0m\u001b[0mkey\u001b[0m\u001b[0;34m)\u001b[0m\u001b[0;34m\u001b[0m\u001b[0m\n\u001b[0m\u001b[1;32m   2928\u001b[0m             \u001b[0;32mif\u001b[0m \u001b[0mis_integer\u001b[0m\u001b[0;34m(\u001b[0m\u001b[0mindexer\u001b[0m\u001b[0;34m)\u001b[0m\u001b[0;34m:\u001b[0m\u001b[0;34m\u001b[0m\u001b[0m\n\u001b[1;32m   2929\u001b[0m                 \u001b[0mindexer\u001b[0m \u001b[0;34m=\u001b[0m \u001b[0;34m[\u001b[0m\u001b[0mindexer\u001b[0m\u001b[0;34m]\u001b[0m\u001b[0;34m\u001b[0m\u001b[0m\n",
      "\u001b[0;32m~_packages/lib/python3.6/site-packages/pandas/core/indexes/base.py\u001b[0m in \u001b[0;36mget_loc\u001b[0;34m(self, key, method, tolerance)\u001b[0m\n\u001b[1;32m   2657\u001b[0m                 \u001b[0;32mreturn\u001b[0m \u001b[0mself\u001b[0m\u001b[0;34m.\u001b[0m\u001b[0m_engine\u001b[0m\u001b[0;34m.\u001b[0m\u001b[0mget_loc\u001b[0m\u001b[0;34m(\u001b[0m\u001b[0mkey\u001b[0m\u001b[0;34m)\u001b[0m\u001b[0;34m\u001b[0m\u001b[0m\n\u001b[1;32m   2658\u001b[0m             \u001b[0;32mexcept\u001b[0m \u001b[0mKeyError\u001b[0m\u001b[0;34m:\u001b[0m\u001b[0;34m\u001b[0m\u001b[0m\n\u001b[0;32m-> 2659\u001b[0;31m                 \u001b[0;32mreturn\u001b[0m \u001b[0mself\u001b[0m\u001b[0;34m.\u001b[0m\u001b[0m_engine\u001b[0m\u001b[0;34m.\u001b[0m\u001b[0mget_loc\u001b[0m\u001b[0;34m(\u001b[0m\u001b[0mself\u001b[0m\u001b[0;34m.\u001b[0m\u001b[0m_maybe_cast_indexer\u001b[0m\u001b[0;34m(\u001b[0m\u001b[0mkey\u001b[0m\u001b[0;34m)\u001b[0m\u001b[0;34m)\u001b[0m\u001b[0;34m\u001b[0m\u001b[0m\n\u001b[0m\u001b[1;32m   2660\u001b[0m         \u001b[0mindexer\u001b[0m \u001b[0;34m=\u001b[0m \u001b[0mself\u001b[0m\u001b[0;34m.\u001b[0m\u001b[0mget_indexer\u001b[0m\u001b[0;34m(\u001b[0m\u001b[0;34m[\u001b[0m\u001b[0mkey\u001b[0m\u001b[0;34m]\u001b[0m\u001b[0;34m,\u001b[0m \u001b[0mmethod\u001b[0m\u001b[0;34m=\u001b[0m\u001b[0mmethod\u001b[0m\u001b[0;34m,\u001b[0m \u001b[0mtolerance\u001b[0m\u001b[0;34m=\u001b[0m\u001b[0mtolerance\u001b[0m\u001b[0;34m)\u001b[0m\u001b[0;34m\u001b[0m\u001b[0m\n\u001b[1;32m   2661\u001b[0m         \u001b[0;32mif\u001b[0m \u001b[0mindexer\u001b[0m\u001b[0;34m.\u001b[0m\u001b[0mndim\u001b[0m \u001b[0;34m>\u001b[0m \u001b[0;36m1\u001b[0m \u001b[0;32mor\u001b[0m \u001b[0mindexer\u001b[0m\u001b[0;34m.\u001b[0m\u001b[0msize\u001b[0m \u001b[0;34m>\u001b[0m \u001b[0;36m1\u001b[0m\u001b[0;34m:\u001b[0m\u001b[0;34m\u001b[0m\u001b[0m\n",
      "\u001b[0;32mpandas/_libs/index.pyx\u001b[0m in \u001b[0;36mpandas._libs.index.IndexEngine.get_loc\u001b[0;34m()\u001b[0m\n",
      "\u001b[0;32mpandas/_libs/index.pyx\u001b[0m in \u001b[0;36mpandas._libs.index.IndexEngine.get_loc\u001b[0;34m()\u001b[0m\n",
      "\u001b[0;32mpandas/_libs/hashtable_class_helper.pxi\u001b[0m in \u001b[0;36mpandas._libs.hashtable.PyObjectHashTable.get_item\u001b[0;34m()\u001b[0m\n",
      "\u001b[0;32mpandas/_libs/hashtable_class_helper.pxi\u001b[0m in \u001b[0;36mpandas._libs.hashtable.PyObjectHashTable.get_item\u001b[0;34m()\u001b[0m\n",
      "\u001b[0;31mKeyError\u001b[0m: 'mean_correct_threshold'"
     ]
    },
    {
     "data": {
      "image/png": "[encoded data removed]",
      "text/plain": [
       "<Figure size 432x288 with 1 Axes>"
      ]
     },
     "metadata": {
      "needs_background": "light"
     },
     "output_type": "display_data"
    }
   ],
   "source": [
    "%matplotlib inline\n",
    "import matplotlib.pyplot as plt\n",
    "\n",
    "ax = plt.axes()\n",
    "ax.scatter(correctness_df['mean_correct_threshold'], correctness_df['mean_correct_threshold_live'], alpha=0.5)\n",
    "ax.set_xlabel('threshold')\n",
    "ax.set_ylabel('threshold_live')\n",
    "\n"
   ]
  },
  {
   "cell_type": "code",
   "execution_count": 7,
   "metadata": {},
   "outputs": [
    {
     "data": {
      "text/plain": [
       "Text(0, 0.5, 'classifier_live')"
      ]
     },
     "execution_count": 7,
     "metadata": {},
     "output_type": "execute_result"
    },
    {
     "data": {
      "image/png": "[encoded data removed]",
      "text/plain": [
       "<Figure size 432x288 with 1 Axes>"
      ]
     },
     "metadata": {
      "needs_background": "light"
     },
     "output_type": "display_data"
    }
   ],
   "source": [
    "ax = plt.axes()\n",
    "ax.scatter(correctness_df['mean_correct_classifier'], correctness_df['mean_correct_classifier_live'], alpha=0.5)\n",
    "ax.set_xlabel('classifier')\n",
    "ax.set_ylabel('classifier_live')\n",
    "\n"
   ]
  },
  {
   "cell_type": "code",
   "execution_count": 8,
   "metadata": {},
   "outputs": [
    {
     "data": {
      "text/plain": [
       "Text(0, 0.5, 'classifier_live')"
      ]
     },
     "execution_count": 8,
     "metadata": {},
     "output_type": "execute_result"
    },
    {
     "data": {
      "image/png": "[encoded data removed]",
      "text/plain": [
       "<Figure size 432x288 with 1 Axes>"
      ]
     },
     "metadata": {
      "needs_background": "light"
     },
     "output_type": "display_data"
    }
   ],
   "source": [
    "ax = plt.axes()\n",
    "ax.scatter(correctness_df['mean_correct_threshold_live'], correctness_df['mean_correct_classifier_live'], alpha=0.5)\n",
    "ax.set_xlabel('threshold_live')\n",
    "ax.set_ylabel('classifier_live')\n",
    "\n"
   ]
  },
  {
   "cell_type": "code",
   "execution_count": 9,
   "metadata": {},
   "outputs": [
    {
     "data": {
      "text/plain": [
       "Text(0, 0.5, 'classifier')"
      ]
     },
     "execution_count": 9,
     "metadata": {},
     "output_type": "execute_result"
    },
    {
     "data": {
      "image/png": "[encoded data removed]",
      "text/plain": [
       "<Figure size 432x288 with 1 Axes>"
      ]
     },
     "metadata": {
      "needs_background": "light"
     },
     "output_type": "display_data"
    }
   ],
   "source": [
    "ax = plt.axes()\n",
    "ax.scatter(correctness_df['mean_correct_threshold'], correctness_df['mean_correct_classifier'], alpha=0.5)\n",
    "ax.set_xlabel('threshold')\n",
    "ax.set_ylabel('classifier')\n",
    "\n"
   ]
  },
  {
   "cell_type": "code",
   "execution_count": 16,
   "metadata": {},
   "outputs": [
    {
     "data": {
      "text/plain": [
       "Text(0, 0.5, 'classifier')"
      ]
     },
     "execution_count": 16,
     "metadata": {},
     "output_type": "execute_result"
    },
    {
     "data": {
      "image/png": "[encoded data removed]",
      "text/plain": [
       "<Figure size 432x288 with 1 Axes>"
      ]
     },
     "metadata": {
      "needs_background": "light"
     },
     "output_type": "display_data"
    }
   ],
   "source": [
    "ax = plt.axes()\n",
    "ax.scatter(correctness_h_df['mean_correct_classifier'], correctness_df['mean_correct_classifier'], alpha=0.5)\n",
    "ax.set_xlabel('harness classifier')\n",
    "ax.set_ylabel('classifier')\n",
    "\n",
    "\n"
   ]
  },
  {
   "cell_type": "code",
   "execution_count": null,
   "metadata": {},
   "outputs": [],
   "source": []
  }
 ],
 "metadata": {
  "kernelspec": {
   "display_name": "Python 3",
   "language": "python",
   "name": "python3"
  },
  "language_info": {
   "codemirror_mode": {
    "name": "ipython",
    "version": 3
   },
   "file_extension": ".py",
   "mimetype": "text/x-python",
   "name": "python",
   "nbconvert_exporter": "python",
   "pygments_lexer": "ipython3",
   "version": "3.6.6"
  }
 },
 "nbformat": 4,
 "nbformat_minor": 2
}
