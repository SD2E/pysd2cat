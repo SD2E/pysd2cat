{
 "cells": [
  {
   "cell_type": "code",
   "execution_count": 1,
   "metadata": {},
   "outputs": [
    {
     "name": "stderr",
     "output_type": "stream",
     "text": [
      "/Users/danbryce/Documents/sift/xplan/external/xplan/xplan-to-autoprotocol-reactor/xplan-dev-env/xplan-dev-env/src/flowcytometrytools/FlowCytometryTools/core/docstring.py:56: MatplotlibDeprecationWarning: \n",
      "The dedent function was deprecated in Matplotlib 3.1 and will be removed in 3.3. Use inspect.cleandoc instead.\n",
      "  doc = dedent(doc)\n",
      "/Users/danbryce/Documents/sift/xplan/external/xplan/xplan-to-autoprotocol-reactor/xplan-dev-env/xplan-dev-env/src/flowcytometrytools/FlowCytometryTools/core/docstring.py:56: MatplotlibDeprecationWarning: \n",
      "The dedent function was deprecated in Matplotlib 3.1 and will be removed in 3.3. Use inspect.cleandoc instead.\n",
      "  doc = dedent(doc)\n",
      "/Users/danbryce/Documents/sift/xplan/external/xplan/xplan-to-autoprotocol-reactor/xplan-dev-env/xplan-dev-env/lib/python3.7/site-packages/sklearn/externals/joblib/__init__.py:15: DeprecationWarning: sklearn.externals.joblib is deprecated in 0.21 and will be removed in 0.23. Please import this functionality directly from joblib, which can be installed with: pip install joblib. If this warning is raised when loading pickled models, you may need to re-serialize those models with scikit-learn 0.21+.\n",
      "  warnings.warn(msg, category=DeprecationWarning)\n"
     ]
    }
   ],
   "source": [
    "import transcriptic \n",
    "from transcriptic import commands, Container\n",
    "from transcriptic.config import Connection\n",
    "from transcriptic.jupyter import objects\n",
    "import json\n",
    "from pysd2cat.data import tx_fcs\n",
    "from pysd2cat.data import pipeline\n",
    "from pysd2cat.analysis import biofab_live_dead_analysis as blda\n",
    "from pysd2cat.data import biofab_live_dead as bld\n",
    "\n",
    "\n",
    "from os.path import expanduser\n",
    "import requests\n",
    "import os\n",
    "import zipfile\n",
    "import shutil\n",
    "import fnmatch\n",
    "import glob\n",
    "import pandas as pd\n",
    "import ast\n",
    "\n",
    "%load_ext autoreload\n",
    "%reload_ext autoreload\n",
    "%autoreload 2\n",
    "\n",
    "\n",
    "\n",
    "\n",
    "#run_id='r1dd37mcxv5pf4'\n",
    "#run_id='r1dk8xp9dymm54' # Time series\n",
    "#run_id='r1dmsrursbqwuz'\n",
    "run_id = 'r1dnj926jr7q9g'\n",
    "\n",
    "aliquot_map_technique = {\n",
    "    'r1dd37mcxv5pf4' : \"titration1\",\n",
    "    'r1dk8xp9dymm54' : \"fifteen_zero\",\n",
    "    'r1dmsrursbqwuz' : \"10to80\",\n",
    "    'r1dnj926jr7q9g' : \"10to80_eth_wash\"\n",
    "}\n",
    "\n",
    "work_dir='data/transcriptic/'+run_id\n",
    "Connection.from_file(\"~/.transcriptic\")\n",
    "tx_config = json.load(open(os.path.join(expanduser(\"~\"), \".transcriptic\")))\n",
    "\n",
    "\n",
    "\n",
    "if not os.path.exists(work_dir):\n",
    "    os.makedirs(work_dir)"
   ]
  },
  {
   "cell_type": "code",
   "execution_count": 2,
   "metadata": {},
   "outputs": [],
   "source": [
    "import logging\n",
    "logger = logging.getLogger()\n",
    "fhandler = logging.FileHandler(filename='mylog.log', mode='a')\n",
    "formatter = logging.Formatter('%(asctime)s - %(name)s - %(levelname)s - %(message)s')\n",
    "fhandler.setFormatter(formatter)\n",
    "logger.addHandler(fhandler)\n",
    "logger.setLevel(logging.DEBUG)"
   ]
  },
  {
   "cell_type": "code",
   "execution_count": 10,
   "metadata": {},
   "outputs": [
    {
     "name": "stdout",
     "output_type": "stream",
     "text": [
      "Attempting to fetch 16 datasets...\n",
      "Getting data for container: Flow (Sytox) Plate 12\n",
      "Attempting to fetch 16 datasets...\n",
      "Getting data for container: Flow (Sytox) Plate 1\n",
      "Attempting to fetch 16 datasets...\n",
      "Getting data for container: Flow (Sytox) Plate 4\n",
      "Attempting to fetch 16 datasets...\n",
      "Getting data for container: Flow (Sytox) Plate 5\n",
      "Attempting to fetch 16 datasets...\n",
      "Getting data for container: Flow (Sytox) Plate 7\n",
      "Attempting to fetch 16 datasets...\n",
      "Getting data for container: Flow (Sytox) Plate 8\n",
      "Attempting to fetch 16 datasets...\n",
      "Getting data for container: Flow (Sytox) Plate 9\n",
      "Attempting to fetch 16 datasets...\n",
      "Getting data for container: Flow (Sytox) Plate 11\n",
      "Attempting to fetch 16 datasets...\n",
      "Getting data for container: Flow (Sytox) Plate 2\n",
      "Attempting to fetch 16 datasets...\n",
      "Getting data for container: Flow (Sytox) Plate 3\n",
      "Attempting to fetch 16 datasets...\n",
      "Getting data for container: Flow (Sytox) Plate 6\n",
      "Attempting to fetch 16 datasets...\n",
      "Getting data for container: Flow (Sytox) Plate 10\n",
      "Attempting to fetch 16 datasets...\n"
     ]
    }
   ],
   "source": [
    "flow_data, plate_properties = bld.write_flow_data_and_metadata(run_id, tx_config, aliquot_map_technique[run_id], work_dir=work_dir)"
   ]
  },
  {
   "cell_type": "code",
   "execution_count": 12,
   "metadata": {
    "scrolled": true
   },
   "outputs": [
    {
     "name": "stderr",
     "output_type": "stream",
     "text": [
      "/Users/danbryce/Documents/sift/xplan/external/xplan/xplan-to-autoprotocol-reactor/xplan-dev-env/xplan-dev-env/lib/python3.7/site-packages/IPython/core/interactiveshell.py:3249: DtypeWarning: Columns (6) have mixed types. Specify dtype option on import or set low_memory=False.\n",
      "  if (await self.run_code(code, result,  async_=asy)):\n"
     ]
    },
    {
     "name": "stdout",
     "output_type": "stream",
     "text": [
      "{'experiment_id': 'r1dmsrursbqwuz', 'random_state': 0, 'live_volume': 0.0, 'dead_volume': 140.0, 'stain': 'SYTOX Red Stain', 'time_point': '12'}\n",
      "{'experiment_id': 'r1dmsrursbqwuz', 'random_state': 0, 'live_volume': 0.0, 'dead_volume': 140.0, 'stain': nan, 'time_point': '12'}\n",
      "{'experiment_id': 'r1dmsrursbqwuz', 'random_state': 0, 'live_volume': 0.0, 'dead_volume': 210.0, 'stain': 'SYTOX Red Stain', 'time_point': '12'}\n",
      "{'experiment_id': 'r1dmsrursbqwuz', 'random_state': 0, 'live_volume': 0.0, 'dead_volume': 210.0, 'stain': nan, 'time_point': '12'}\n",
      "{'experiment_id': 'r1dmsrursbqwuz', 'random_state': 0, 'live_volume': 0.0, 'dead_volume': 280.0, 'stain': 'SYTOX Red Stain', 'time_point': '12'}\n",
      "{'experiment_id': 'r1dmsrursbqwuz', 'random_state': 0, 'live_volume': 0.0, 'dead_volume': 280.0, 'stain': nan, 'time_point': '12'}\n",
      "{'experiment_id': 'r1dmsrursbqwuz', 'random_state': 0, 'live_volume': 0.0, 'dead_volume': 1120.0, 'stain': 'SYTOX Red Stain', 'time_point': '12'}\n",
      "{'experiment_id': 'r1dmsrursbqwuz', 'random_state': 0, 'live_volume': 0.0, 'dead_volume': 1120.0, 'stain': nan, 'time_point': '12'}\n",
      "{'experiment_id': 'r1dmsrursbqwuz', 'random_state': 1, 'live_volume': 0.0, 'dead_volume': 140.0, 'stain': 'SYTOX Red Stain', 'time_point': '12'}\n",
      "{'experiment_id': 'r1dmsrursbqwuz', 'random_state': 1, 'live_volume': 0.0, 'dead_volume': 140.0, 'stain': nan, 'time_point': '12'}\n",
      "{'experiment_id': 'r1dmsrursbqwuz', 'random_state': 1, 'live_volume': 0.0, 'dead_volume': 210.0, 'stain': 'SYTOX Red Stain', 'time_point': '12'}\n",
      "{'experiment_id': 'r1dmsrursbqwuz', 'random_state': 1, 'live_volume': 0.0, 'dead_volume': 210.0, 'stain': nan, 'time_point': '12'}\n",
      "{'experiment_id': 'r1dmsrursbqwuz', 'random_state': 1, 'live_volume': 0.0, 'dead_volume': 280.0, 'stain': 'SYTOX Red Stain', 'time_point': '12'}\n",
      "{'experiment_id': 'r1dmsrursbqwuz', 'random_state': 1, 'live_volume': 0.0, 'dead_volume': 280.0, 'stain': nan, 'time_point': '12'}\n",
      "{'experiment_id': 'r1dmsrursbqwuz', 'random_state': 1, 'live_volume': 0.0, 'dead_volume': 1120.0, 'stain': 'SYTOX Red Stain', 'time_point': '12'}\n",
      "{'experiment_id': 'r1dmsrursbqwuz', 'random_state': 1, 'live_volume': 0.0, 'dead_volume': 1120.0, 'stain': nan, 'time_point': '12'}\n",
      "{'experiment_id': 'r1dmsrursbqwuz', 'random_state': 2, 'live_volume': 0.0, 'dead_volume': 140.0, 'stain': 'SYTOX Red Stain', 'time_point': '12'}\n",
      "{'experiment_id': 'r1dmsrursbqwuz', 'random_state': 2, 'live_volume': 0.0, 'dead_volume': 140.0, 'stain': nan, 'time_point': '12'}\n",
      "{'experiment_id': 'r1dmsrursbqwuz', 'random_state': 2, 'live_volume': 0.0, 'dead_volume': 210.0, 'stain': 'SYTOX Red Stain', 'time_point': '12'}\n",
      "{'experiment_id': 'r1dmsrursbqwuz', 'random_state': 2, 'live_volume': 0.0, 'dead_volume': 210.0, 'stain': nan, 'time_point': '12'}\n",
      "{'experiment_id': 'r1dmsrursbqwuz', 'random_state': 2, 'live_volume': 0.0, 'dead_volume': 280.0, 'stain': 'SYTOX Red Stain', 'time_point': '12'}\n",
      "{'experiment_id': 'r1dmsrursbqwuz', 'random_state': 2, 'live_volume': 0.0, 'dead_volume': 280.0, 'stain': nan, 'time_point': '12'}\n",
      "{'experiment_id': 'r1dmsrursbqwuz', 'random_state': 2, 'live_volume': 0.0, 'dead_volume': 1120.0, 'stain': 'SYTOX Red Stain', 'time_point': '12'}\n",
      "{'experiment_id': 'r1dmsrursbqwuz', 'random_state': 2, 'live_volume': 0.0, 'dead_volume': 1120.0, 'stain': nan, 'time_point': '12'}\n",
      "{'experiment_id': 'r1dmsrursbqwuz', 'random_state': 3, 'live_volume': 0.0, 'dead_volume': 140.0, 'stain': 'SYTOX Red Stain', 'time_point': '12'}\n",
      "{'experiment_id': 'r1dmsrursbqwuz', 'random_state': 3, 'live_volume': 0.0, 'dead_volume': 140.0, 'stain': nan, 'time_point': '12'}\n",
      "{'experiment_id': 'r1dmsrursbqwuz', 'random_state': 3, 'live_volume': 0.0, 'dead_volume': 210.0, 'stain': 'SYTOX Red Stain', 'time_point': '12'}\n",
      "{'experiment_id': 'r1dmsrursbqwuz', 'random_state': 3, 'live_volume': 0.0, 'dead_volume': 210.0, 'stain': nan, 'time_point': '12'}\n",
      "{'experiment_id': 'r1dmsrursbqwuz', 'random_state': 3, 'live_volume': 0.0, 'dead_volume': 280.0, 'stain': 'SYTOX Red Stain', 'time_point': '12'}\n",
      "{'experiment_id': 'r1dmsrursbqwuz', 'random_state': 3, 'live_volume': 0.0, 'dead_volume': 280.0, 'stain': nan, 'time_point': '12'}\n",
      "{'experiment_id': 'r1dmsrursbqwuz', 'random_state': 3, 'live_volume': 0.0, 'dead_volume': 1120.0, 'stain': 'SYTOX Red Stain', 'time_point': '12'}\n",
      "{'experiment_id': 'r1dmsrursbqwuz', 'random_state': 3, 'live_volume': 0.0, 'dead_volume': 1120.0, 'stain': nan, 'time_point': '12'}\n",
      "{'experiment_id': 'r1dmsrursbqwuz', 'random_state': 4, 'live_volume': 0.0, 'dead_volume': 140.0, 'stain': 'SYTOX Red Stain', 'time_point': '12'}\n",
      "{'experiment_id': 'r1dmsrursbqwuz', 'random_state': 4, 'live_volume': 0.0, 'dead_volume': 140.0, 'stain': nan, 'time_point': '12'}\n",
      "{'experiment_id': 'r1dmsrursbqwuz', 'random_state': 4, 'live_volume': 0.0, 'dead_volume': 210.0, 'stain': 'SYTOX Red Stain', 'time_point': '12'}\n",
      "{'experiment_id': 'r1dmsrursbqwuz', 'random_state': 4, 'live_volume': 0.0, 'dead_volume': 210.0, 'stain': nan, 'time_point': '12'}\n",
      "{'experiment_id': 'r1dmsrursbqwuz', 'random_state': 4, 'live_volume': 0.0, 'dead_volume': 280.0, 'stain': 'SYTOX Red Stain', 'time_point': '12'}\n",
      "{'experiment_id': 'r1dmsrursbqwuz', 'random_state': 4, 'live_volume': 0.0, 'dead_volume': 280.0, 'stain': nan, 'time_point': '12'}\n",
      "{'experiment_id': 'r1dmsrursbqwuz', 'random_state': 4, 'live_volume': 0.0, 'dead_volume': 1120.0, 'stain': 'SYTOX Red Stain', 'time_point': '12'}\n",
      "{'experiment_id': 'r1dmsrursbqwuz', 'random_state': 4, 'live_volume': 0.0, 'dead_volume': 1120.0, 'stain': nan, 'time_point': '12'}\n",
      "{'experiment_id': 'r1dmsrursbqwuz', 'random_state': 0, 'live_volume': 0.0, 'dead_volume': 140.0, 'stain': 'SYTOX Red Stain', 'time_point': '1'}\n",
      "{'experiment_id': 'r1dmsrursbqwuz', 'random_state': 0, 'live_volume': 0.0, 'dead_volume': 140.0, 'stain': nan, 'time_point': '1'}\n",
      "{'experiment_id': 'r1dmsrursbqwuz', 'random_state': 0, 'live_volume': 0.0, 'dead_volume': 210.0, 'stain': 'SYTOX Red Stain', 'time_point': '1'}\n",
      "{'experiment_id': 'r1dmsrursbqwuz', 'random_state': 0, 'live_volume': 0.0, 'dead_volume': 210.0, 'stain': nan, 'time_point': '1'}\n",
      "{'experiment_id': 'r1dmsrursbqwuz', 'random_state': 0, 'live_volume': 0.0, 'dead_volume': 280.0, 'stain': 'SYTOX Red Stain', 'time_point': '1'}\n",
      "{'experiment_id': 'r1dmsrursbqwuz', 'random_state': 0, 'live_volume': 0.0, 'dead_volume': 280.0, 'stain': nan, 'time_point': '1'}\n",
      "{'experiment_id': 'r1dmsrursbqwuz', 'random_state': 0, 'live_volume': 0.0, 'dead_volume': 1120.0, 'stain': 'SYTOX Red Stain', 'time_point': '1'}\n",
      "{'experiment_id': 'r1dmsrursbqwuz', 'random_state': 0, 'live_volume': 0.0, 'dead_volume': 1120.0, 'stain': nan, 'time_point': '1'}\n",
      "{'experiment_id': 'r1dmsrursbqwuz', 'random_state': 1, 'live_volume': 0.0, 'dead_volume': 140.0, 'stain': 'SYTOX Red Stain', 'time_point': '1'}\n",
      "{'experiment_id': 'r1dmsrursbqwuz', 'random_state': 1, 'live_volume': 0.0, 'dead_volume': 140.0, 'stain': nan, 'time_point': '1'}\n",
      "{'experiment_id': 'r1dmsrursbqwuz', 'random_state': 1, 'live_volume': 0.0, 'dead_volume': 210.0, 'stain': 'SYTOX Red Stain', 'time_point': '1'}\n",
      "{'experiment_id': 'r1dmsrursbqwuz', 'random_state': 1, 'live_volume': 0.0, 'dead_volume': 210.0, 'stain': nan, 'time_point': '1'}\n",
      "{'experiment_id': 'r1dmsrursbqwuz', 'random_state': 1, 'live_volume': 0.0, 'dead_volume': 280.0, 'stain': 'SYTOX Red Stain', 'time_point': '1'}\n",
      "{'experiment_id': 'r1dmsrursbqwuz', 'random_state': 1, 'live_volume': 0.0, 'dead_volume': 280.0, 'stain': nan, 'time_point': '1'}\n",
      "{'experiment_id': 'r1dmsrursbqwuz', 'random_state': 1, 'live_volume': 0.0, 'dead_volume': 1120.0, 'stain': 'SYTOX Red Stain', 'time_point': '1'}\n",
      "{'experiment_id': 'r1dmsrursbqwuz', 'random_state': 1, 'live_volume': 0.0, 'dead_volume': 1120.0, 'stain': nan, 'time_point': '1'}\n",
      "{'experiment_id': 'r1dmsrursbqwuz', 'random_state': 2, 'live_volume': 0.0, 'dead_volume': 140.0, 'stain': 'SYTOX Red Stain', 'time_point': '1'}\n",
      "{'experiment_id': 'r1dmsrursbqwuz', 'random_state': 2, 'live_volume': 0.0, 'dead_volume': 140.0, 'stain': nan, 'time_point': '1'}\n",
      "{'experiment_id': 'r1dmsrursbqwuz', 'random_state': 2, 'live_volume': 0.0, 'dead_volume': 210.0, 'stain': 'SYTOX Red Stain', 'time_point': '1'}\n",
      "{'experiment_id': 'r1dmsrursbqwuz', 'random_state': 2, 'live_volume': 0.0, 'dead_volume': 210.0, 'stain': nan, 'time_point': '1'}\n"
     ]
    },
    {
     "name": "stdout",
     "output_type": "stream",
     "text": [
      "{'experiment_id': 'r1dmsrursbqwuz', 'random_state': 2, 'live_volume': 0.0, 'dead_volume': 280.0, 'stain': 'SYTOX Red Stain', 'time_point': '1'}\n",
      "{'experiment_id': 'r1dmsrursbqwuz', 'random_state': 2, 'live_volume': 0.0, 'dead_volume': 280.0, 'stain': nan, 'time_point': '1'}\n",
      "{'experiment_id': 'r1dmsrursbqwuz', 'random_state': 2, 'live_volume': 0.0, 'dead_volume': 1120.0, 'stain': 'SYTOX Red Stain', 'time_point': '1'}\n",
      "{'experiment_id': 'r1dmsrursbqwuz', 'random_state': 2, 'live_volume': 0.0, 'dead_volume': 1120.0, 'stain': nan, 'time_point': '1'}\n",
      "{'experiment_id': 'r1dmsrursbqwuz', 'random_state': 3, 'live_volume': 0.0, 'dead_volume': 140.0, 'stain': 'SYTOX Red Stain', 'time_point': '1'}\n",
      "{'experiment_id': 'r1dmsrursbqwuz', 'random_state': 3, 'live_volume': 0.0, 'dead_volume': 140.0, 'stain': nan, 'time_point': '1'}\n",
      "{'experiment_id': 'r1dmsrursbqwuz', 'random_state': 3, 'live_volume': 0.0, 'dead_volume': 210.0, 'stain': 'SYTOX Red Stain', 'time_point': '1'}\n",
      "{'experiment_id': 'r1dmsrursbqwuz', 'random_state': 3, 'live_volume': 0.0, 'dead_volume': 210.0, 'stain': nan, 'time_point': '1'}\n",
      "{'experiment_id': 'r1dmsrursbqwuz', 'random_state': 3, 'live_volume': 0.0, 'dead_volume': 280.0, 'stain': 'SYTOX Red Stain', 'time_point': '1'}\n",
      "{'experiment_id': 'r1dmsrursbqwuz', 'random_state': 3, 'live_volume': 0.0, 'dead_volume': 280.0, 'stain': nan, 'time_point': '1'}\n",
      "{'experiment_id': 'r1dmsrursbqwuz', 'random_state': 3, 'live_volume': 0.0, 'dead_volume': 1120.0, 'stain': 'SYTOX Red Stain', 'time_point': '1'}\n",
      "{'experiment_id': 'r1dmsrursbqwuz', 'random_state': 3, 'live_volume': 0.0, 'dead_volume': 1120.0, 'stain': nan, 'time_point': '1'}\n",
      "{'experiment_id': 'r1dmsrursbqwuz', 'random_state': 4, 'live_volume': 0.0, 'dead_volume': 140.0, 'stain': 'SYTOX Red Stain', 'time_point': '1'}\n",
      "{'experiment_id': 'r1dmsrursbqwuz', 'random_state': 4, 'live_volume': 0.0, 'dead_volume': 140.0, 'stain': nan, 'time_point': '1'}\n",
      "{'experiment_id': 'r1dmsrursbqwuz', 'random_state': 4, 'live_volume': 0.0, 'dead_volume': 210.0, 'stain': 'SYTOX Red Stain', 'time_point': '1'}\n",
      "{'experiment_id': 'r1dmsrursbqwuz', 'random_state': 4, 'live_volume': 0.0, 'dead_volume': 210.0, 'stain': nan, 'time_point': '1'}\n",
      "{'experiment_id': 'r1dmsrursbqwuz', 'random_state': 4, 'live_volume': 0.0, 'dead_volume': 280.0, 'stain': 'SYTOX Red Stain', 'time_point': '1'}\n",
      "{'experiment_id': 'r1dmsrursbqwuz', 'random_state': 4, 'live_volume': 0.0, 'dead_volume': 280.0, 'stain': nan, 'time_point': '1'}\n",
      "{'experiment_id': 'r1dmsrursbqwuz', 'random_state': 4, 'live_volume': 0.0, 'dead_volume': 1120.0, 'stain': 'SYTOX Red Stain', 'time_point': '1'}\n",
      "{'experiment_id': 'r1dmsrursbqwuz', 'random_state': 4, 'live_volume': 0.0, 'dead_volume': 1120.0, 'stain': nan, 'time_point': '1'}\n",
      "{'experiment_id': 'r1dmsrursbqwuz', 'random_state': 0, 'live_volume': 0.0, 'dead_volume': 1120.0, 'stain': nan, 'time_point': '4'}\n",
      "{'experiment_id': 'r1dmsrursbqwuz', 'random_state': 0, 'live_volume': 0.0, 'dead_volume': 1120.0, 'stain': 'SYTOX Red Stain', 'time_point': '4'}\n",
      "{'experiment_id': 'r1dmsrursbqwuz', 'random_state': 0, 'live_volume': 0.0, 'dead_volume': 280.0, 'stain': nan, 'time_point': '4'}\n",
      "{'experiment_id': 'r1dmsrursbqwuz', 'random_state': 0, 'live_volume': 0.0, 'dead_volume': 280.0, 'stain': 'SYTOX Red Stain', 'time_point': '4'}\n",
      "{'experiment_id': 'r1dmsrursbqwuz', 'random_state': 0, 'live_volume': 0.0, 'dead_volume': 210.0, 'stain': nan, 'time_point': '4'}\n",
      "{'experiment_id': 'r1dmsrursbqwuz', 'random_state': 0, 'live_volume': 0.0, 'dead_volume': 210.0, 'stain': 'SYTOX Red Stain', 'time_point': '4'}\n",
      "{'experiment_id': 'r1dmsrursbqwuz', 'random_state': 0, 'live_volume': 0.0, 'dead_volume': 140.0, 'stain': nan, 'time_point': '4'}\n",
      "{'experiment_id': 'r1dmsrursbqwuz', 'random_state': 0, 'live_volume': 0.0, 'dead_volume': 140.0, 'stain': 'SYTOX Red Stain', 'time_point': '4'}\n",
      "{'experiment_id': 'r1dmsrursbqwuz', 'random_state': 1, 'live_volume': 0.0, 'dead_volume': 1120.0, 'stain': nan, 'time_point': '4'}\n",
      "{'experiment_id': 'r1dmsrursbqwuz', 'random_state': 1, 'live_volume': 0.0, 'dead_volume': 1120.0, 'stain': 'SYTOX Red Stain', 'time_point': '4'}\n",
      "{'experiment_id': 'r1dmsrursbqwuz', 'random_state': 1, 'live_volume': 0.0, 'dead_volume': 280.0, 'stain': nan, 'time_point': '4'}\n",
      "{'experiment_id': 'r1dmsrursbqwuz', 'random_state': 1, 'live_volume': 0.0, 'dead_volume': 280.0, 'stain': 'SYTOX Red Stain', 'time_point': '4'}\n",
      "{'experiment_id': 'r1dmsrursbqwuz', 'random_state': 1, 'live_volume': 0.0, 'dead_volume': 210.0, 'stain': nan, 'time_point': '4'}\n",
      "{'experiment_id': 'r1dmsrursbqwuz', 'random_state': 1, 'live_volume': 0.0, 'dead_volume': 210.0, 'stain': 'SYTOX Red Stain', 'time_point': '4'}\n",
      "{'experiment_id': 'r1dmsrursbqwuz', 'random_state': 1, 'live_volume': 0.0, 'dead_volume': 140.0, 'stain': nan, 'time_point': '4'}\n",
      "{'experiment_id': 'r1dmsrursbqwuz', 'random_state': 1, 'live_volume': 0.0, 'dead_volume': 140.0, 'stain': 'SYTOX Red Stain', 'time_point': '4'}\n",
      "{'experiment_id': 'r1dmsrursbqwuz', 'random_state': 2, 'live_volume': 0.0, 'dead_volume': 1120.0, 'stain': nan, 'time_point': '4'}\n",
      "{'experiment_id': 'r1dmsrursbqwuz', 'random_state': 2, 'live_volume': 0.0, 'dead_volume': 1120.0, 'stain': 'SYTOX Red Stain', 'time_point': '4'}\n",
      "{'experiment_id': 'r1dmsrursbqwuz', 'random_state': 2, 'live_volume': 0.0, 'dead_volume': 280.0, 'stain': nan, 'time_point': '4'}\n",
      "{'experiment_id': 'r1dmsrursbqwuz', 'random_state': 2, 'live_volume': 0.0, 'dead_volume': 280.0, 'stain': 'SYTOX Red Stain', 'time_point': '4'}\n",
      "{'experiment_id': 'r1dmsrursbqwuz', 'random_state': 2, 'live_volume': 0.0, 'dead_volume': 210.0, 'stain': nan, 'time_point': '4'}\n",
      "{'experiment_id': 'r1dmsrursbqwuz', 'random_state': 2, 'live_volume': 0.0, 'dead_volume': 210.0, 'stain': 'SYTOX Red Stain', 'time_point': '4'}\n",
      "{'experiment_id': 'r1dmsrursbqwuz', 'random_state': 2, 'live_volume': 0.0, 'dead_volume': 140.0, 'stain': nan, 'time_point': '4'}\n",
      "{'experiment_id': 'r1dmsrursbqwuz', 'random_state': 2, 'live_volume': 0.0, 'dead_volume': 140.0, 'stain': 'SYTOX Red Stain', 'time_point': '4'}\n",
      "{'experiment_id': 'r1dmsrursbqwuz', 'random_state': 3, 'live_volume': 0.0, 'dead_volume': 1120.0, 'stain': nan, 'time_point': '4'}\n",
      "{'experiment_id': 'r1dmsrursbqwuz', 'random_state': 3, 'live_volume': 0.0, 'dead_volume': 1120.0, 'stain': 'SYTOX Red Stain', 'time_point': '4'}\n",
      "{'experiment_id': 'r1dmsrursbqwuz', 'random_state': 3, 'live_volume': 0.0, 'dead_volume': 280.0, 'stain': nan, 'time_point': '4'}\n",
      "{'experiment_id': 'r1dmsrursbqwuz', 'random_state': 3, 'live_volume': 0.0, 'dead_volume': 280.0, 'stain': 'SYTOX Red Stain', 'time_point': '4'}\n",
      "{'experiment_id': 'r1dmsrursbqwuz', 'random_state': 3, 'live_volume': 0.0, 'dead_volume': 210.0, 'stain': nan, 'time_point': '4'}\n",
      "{'experiment_id': 'r1dmsrursbqwuz', 'random_state': 3, 'live_volume': 0.0, 'dead_volume': 210.0, 'stain': 'SYTOX Red Stain', 'time_point': '4'}\n",
      "{'experiment_id': 'r1dmsrursbqwuz', 'random_state': 3, 'live_volume': 0.0, 'dead_volume': 140.0, 'stain': nan, 'time_point': '4'}\n",
      "{'experiment_id': 'r1dmsrursbqwuz', 'random_state': 3, 'live_volume': 0.0, 'dead_volume': 140.0, 'stain': 'SYTOX Red Stain', 'time_point': '4'}\n",
      "{'experiment_id': 'r1dmsrursbqwuz', 'random_state': 4, 'live_volume': 0.0, 'dead_volume': 1120.0, 'stain': nan, 'time_point': '4'}\n",
      "{'experiment_id': 'r1dmsrursbqwuz', 'random_state': 4, 'live_volume': 0.0, 'dead_volume': 1120.0, 'stain': 'SYTOX Red Stain', 'time_point': '4'}\n",
      "{'experiment_id': 'r1dmsrursbqwuz', 'random_state': 4, 'live_volume': 0.0, 'dead_volume': 280.0, 'stain': nan, 'time_point': '4'}\n",
      "{'experiment_id': 'r1dmsrursbqwuz', 'random_state': 4, 'live_volume': 0.0, 'dead_volume': 280.0, 'stain': 'SYTOX Red Stain', 'time_point': '4'}\n",
      "{'experiment_id': 'r1dmsrursbqwuz', 'random_state': 4, 'live_volume': 0.0, 'dead_volume': 210.0, 'stain': nan, 'time_point': '4'}\n",
      "{'experiment_id': 'r1dmsrursbqwuz', 'random_state': 4, 'live_volume': 0.0, 'dead_volume': 210.0, 'stain': 'SYTOX Red Stain', 'time_point': '4'}\n",
      "{'experiment_id': 'r1dmsrursbqwuz', 'random_state': 4, 'live_volume': 0.0, 'dead_volume': 140.0, 'stain': nan, 'time_point': '4'}\n",
      "{'experiment_id': 'r1dmsrursbqwuz', 'random_state': 4, 'live_volume': 0.0, 'dead_volume': 140.0, 'stain': 'SYTOX Red Stain', 'time_point': '4'}\n"
     ]
    },
    {
     "name": "stdout",
     "output_type": "stream",
     "text": [
      "{'experiment_id': 'r1dmsrursbqwuz', 'random_state': 0, 'live_volume': 0.0, 'dead_volume': 280.0, 'stain': nan, 'time_point': '5'}\n",
      "{'experiment_id': 'r1dmsrursbqwuz', 'random_state': 0, 'live_volume': 0.0, 'dead_volume': 280.0, 'stain': 'SYTOX Red Stain', 'time_point': '5'}\n",
      "{'experiment_id': 'r1dmsrursbqwuz', 'random_state': 0, 'live_volume': 0.0, 'dead_volume': 1120.0, 'stain': nan, 'time_point': '5'}\n",
      "{'experiment_id': 'r1dmsrursbqwuz', 'random_state': 0, 'live_volume': 0.0, 'dead_volume': 1120.0, 'stain': 'SYTOX Red Stain', 'time_point': '5'}\n",
      "{'experiment_id': 'r1dmsrursbqwuz', 'random_state': 0, 'live_volume': 0.0, 'dead_volume': 210.0, 'stain': nan, 'time_point': '5'}\n",
      "{'experiment_id': 'r1dmsrursbqwuz', 'random_state': 0, 'live_volume': 0.0, 'dead_volume': 210.0, 'stain': 'SYTOX Red Stain', 'time_point': '5'}\n",
      "{'experiment_id': 'r1dmsrursbqwuz', 'random_state': 0, 'live_volume': 0.0, 'dead_volume': 140.0, 'stain': nan, 'time_point': '5'}\n",
      "{'experiment_id': 'r1dmsrursbqwuz', 'random_state': 0, 'live_volume': 0.0, 'dead_volume': 140.0, 'stain': 'SYTOX Red Stain', 'time_point': '5'}\n",
      "{'experiment_id': 'r1dmsrursbqwuz', 'random_state': 1, 'live_volume': 0.0, 'dead_volume': 280.0, 'stain': nan, 'time_point': '5'}\n",
      "{'experiment_id': 'r1dmsrursbqwuz', 'random_state': 1, 'live_volume': 0.0, 'dead_volume': 280.0, 'stain': 'SYTOX Red Stain', 'time_point': '5'}\n",
      "{'experiment_id': 'r1dmsrursbqwuz', 'random_state': 1, 'live_volume': 0.0, 'dead_volume': 1120.0, 'stain': nan, 'time_point': '5'}\n",
      "{'experiment_id': 'r1dmsrursbqwuz', 'random_state': 1, 'live_volume': 0.0, 'dead_volume': 1120.0, 'stain': 'SYTOX Red Stain', 'time_point': '5'}\n",
      "{'experiment_id': 'r1dmsrursbqwuz', 'random_state': 1, 'live_volume': 0.0, 'dead_volume': 210.0, 'stain': nan, 'time_point': '5'}\n",
      "{'experiment_id': 'r1dmsrursbqwuz', 'random_state': 1, 'live_volume': 0.0, 'dead_volume': 210.0, 'stain': 'SYTOX Red Stain', 'time_point': '5'}\n",
      "{'experiment_id': 'r1dmsrursbqwuz', 'random_state': 1, 'live_volume': 0.0, 'dead_volume': 140.0, 'stain': nan, 'time_point': '5'}\n",
      "{'experiment_id': 'r1dmsrursbqwuz', 'random_state': 1, 'live_volume': 0.0, 'dead_volume': 140.0, 'stain': 'SYTOX Red Stain', 'time_point': '5'}\n",
      "{'experiment_id': 'r1dmsrursbqwuz', 'random_state': 2, 'live_volume': 0.0, 'dead_volume': 280.0, 'stain': nan, 'time_point': '5'}\n",
      "{'experiment_id': 'r1dmsrursbqwuz', 'random_state': 2, 'live_volume': 0.0, 'dead_volume': 280.0, 'stain': 'SYTOX Red Stain', 'time_point': '5'}\n",
      "{'experiment_id': 'r1dmsrursbqwuz', 'random_state': 2, 'live_volume': 0.0, 'dead_volume': 1120.0, 'stain': nan, 'time_point': '5'}\n",
      "{'experiment_id': 'r1dmsrursbqwuz', 'random_state': 2, 'live_volume': 0.0, 'dead_volume': 1120.0, 'stain': 'SYTOX Red Stain', 'time_point': '5'}\n",
      "{'experiment_id': 'r1dmsrursbqwuz', 'random_state': 2, 'live_volume': 0.0, 'dead_volume': 210.0, 'stain': nan, 'time_point': '5'}\n",
      "{'experiment_id': 'r1dmsrursbqwuz', 'random_state': 2, 'live_volume': 0.0, 'dead_volume': 210.0, 'stain': 'SYTOX Red Stain', 'time_point': '5'}\n",
      "{'experiment_id': 'r1dmsrursbqwuz', 'random_state': 2, 'live_volume': 0.0, 'dead_volume': 140.0, 'stain': nan, 'time_point': '5'}\n",
      "{'experiment_id': 'r1dmsrursbqwuz', 'random_state': 2, 'live_volume': 0.0, 'dead_volume': 140.0, 'stain': 'SYTOX Red Stain', 'time_point': '5'}\n",
      "{'experiment_id': 'r1dmsrursbqwuz', 'random_state': 3, 'live_volume': 0.0, 'dead_volume': 280.0, 'stain': nan, 'time_point': '5'}\n",
      "{'experiment_id': 'r1dmsrursbqwuz', 'random_state': 3, 'live_volume': 0.0, 'dead_volume': 280.0, 'stain': 'SYTOX Red Stain', 'time_point': '5'}\n",
      "{'experiment_id': 'r1dmsrursbqwuz', 'random_state': 3, 'live_volume': 0.0, 'dead_volume': 1120.0, 'stain': nan, 'time_point': '5'}\n",
      "{'experiment_id': 'r1dmsrursbqwuz', 'random_state': 3, 'live_volume': 0.0, 'dead_volume': 1120.0, 'stain': 'SYTOX Red Stain', 'time_point': '5'}\n",
      "{'experiment_id': 'r1dmsrursbqwuz', 'random_state': 3, 'live_volume': 0.0, 'dead_volume': 210.0, 'stain': nan, 'time_point': '5'}\n",
      "{'experiment_id': 'r1dmsrursbqwuz', 'random_state': 3, 'live_volume': 0.0, 'dead_volume': 210.0, 'stain': 'SYTOX Red Stain', 'time_point': '5'}\n",
      "{'experiment_id': 'r1dmsrursbqwuz', 'random_state': 3, 'live_volume': 0.0, 'dead_volume': 140.0, 'stain': nan, 'time_point': '5'}\n",
      "{'experiment_id': 'r1dmsrursbqwuz', 'random_state': 3, 'live_volume': 0.0, 'dead_volume': 140.0, 'stain': 'SYTOX Red Stain', 'time_point': '5'}\n",
      "{'experiment_id': 'r1dmsrursbqwuz', 'random_state': 4, 'live_volume': 0.0, 'dead_volume': 280.0, 'stain': nan, 'time_point': '5'}\n",
      "{'experiment_id': 'r1dmsrursbqwuz', 'random_state': 4, 'live_volume': 0.0, 'dead_volume': 280.0, 'stain': 'SYTOX Red Stain', 'time_point': '5'}\n",
      "{'experiment_id': 'r1dmsrursbqwuz', 'random_state': 4, 'live_volume': 0.0, 'dead_volume': 1120.0, 'stain': nan, 'time_point': '5'}\n",
      "{'experiment_id': 'r1dmsrursbqwuz', 'random_state': 4, 'live_volume': 0.0, 'dead_volume': 1120.0, 'stain': 'SYTOX Red Stain', 'time_point': '5'}\n",
      "{'experiment_id': 'r1dmsrursbqwuz', 'random_state': 4, 'live_volume': 0.0, 'dead_volume': 210.0, 'stain': nan, 'time_point': '5'}\n",
      "{'experiment_id': 'r1dmsrursbqwuz', 'random_state': 4, 'live_volume': 0.0, 'dead_volume': 210.0, 'stain': 'SYTOX Red Stain', 'time_point': '5'}\n",
      "{'experiment_id': 'r1dmsrursbqwuz', 'random_state': 4, 'live_volume': 0.0, 'dead_volume': 140.0, 'stain': nan, 'time_point': '5'}\n",
      "{'experiment_id': 'r1dmsrursbqwuz', 'random_state': 4, 'live_volume': 0.0, 'dead_volume': 140.0, 'stain': 'SYTOX Red Stain', 'time_point': '5'}\n",
      "{'experiment_id': 'r1dmsrursbqwuz', 'random_state': 0, 'live_volume': 0.0, 'dead_volume': 210.0, 'stain': nan, 'time_point': '7'}\n",
      "{'experiment_id': 'r1dmsrursbqwuz', 'random_state': 0, 'live_volume': 0.0, 'dead_volume': 210.0, 'stain': 'SYTOX Red Stain', 'time_point': '7'}\n",
      "{'experiment_id': 'r1dmsrursbqwuz', 'random_state': 0, 'live_volume': 0.0, 'dead_volume': 1120.0, 'stain': nan, 'time_point': '7'}\n",
      "{'experiment_id': 'r1dmsrursbqwuz', 'random_state': 0, 'live_volume': 0.0, 'dead_volume': 1120.0, 'stain': 'SYTOX Red Stain', 'time_point': '7'}\n",
      "{'experiment_id': 'r1dmsrursbqwuz', 'random_state': 0, 'live_volume': 0.0, 'dead_volume': 280.0, 'stain': nan, 'time_point': '7'}\n",
      "{'experiment_id': 'r1dmsrursbqwuz', 'random_state': 0, 'live_volume': 0.0, 'dead_volume': 280.0, 'stain': 'SYTOX Red Stain', 'time_point': '7'}\n",
      "{'experiment_id': 'r1dmsrursbqwuz', 'random_state': 0, 'live_volume': 0.0, 'dead_volume': 140.0, 'stain': nan, 'time_point': '7'}\n",
      "{'experiment_id': 'r1dmsrursbqwuz', 'random_state': 0, 'live_volume': 0.0, 'dead_volume': 140.0, 'stain': 'SYTOX Red Stain', 'time_point': '7'}\n",
      "{'experiment_id': 'r1dmsrursbqwuz', 'random_state': 1, 'live_volume': 0.0, 'dead_volume': 210.0, 'stain': nan, 'time_point': '7'}\n",
      "{'experiment_id': 'r1dmsrursbqwuz', 'random_state': 1, 'live_volume': 0.0, 'dead_volume': 210.0, 'stain': 'SYTOX Red Stain', 'time_point': '7'}\n",
      "{'experiment_id': 'r1dmsrursbqwuz', 'random_state': 1, 'live_volume': 0.0, 'dead_volume': 1120.0, 'stain': nan, 'time_point': '7'}\n",
      "{'experiment_id': 'r1dmsrursbqwuz', 'random_state': 1, 'live_volume': 0.0, 'dead_volume': 1120.0, 'stain': 'SYTOX Red Stain', 'time_point': '7'}\n",
      "{'experiment_id': 'r1dmsrursbqwuz', 'random_state': 1, 'live_volume': 0.0, 'dead_volume': 280.0, 'stain': nan, 'time_point': '7'}\n",
      "{'experiment_id': 'r1dmsrursbqwuz', 'random_state': 1, 'live_volume': 0.0, 'dead_volume': 280.0, 'stain': 'SYTOX Red Stain', 'time_point': '7'}\n",
      "{'experiment_id': 'r1dmsrursbqwuz', 'random_state': 1, 'live_volume': 0.0, 'dead_volume': 140.0, 'stain': nan, 'time_point': '7'}\n",
      "{'experiment_id': 'r1dmsrursbqwuz', 'random_state': 1, 'live_volume': 0.0, 'dead_volume': 140.0, 'stain': 'SYTOX Red Stain', 'time_point': '7'}\n",
      "{'experiment_id': 'r1dmsrursbqwuz', 'random_state': 2, 'live_volume': 0.0, 'dead_volume': 210.0, 'stain': nan, 'time_point': '7'}\n",
      "{'experiment_id': 'r1dmsrursbqwuz', 'random_state': 2, 'live_volume': 0.0, 'dead_volume': 210.0, 'stain': 'SYTOX Red Stain', 'time_point': '7'}\n",
      "{'experiment_id': 'r1dmsrursbqwuz', 'random_state': 2, 'live_volume': 0.0, 'dead_volume': 1120.0, 'stain': nan, 'time_point': '7'}\n",
      "{'experiment_id': 'r1dmsrursbqwuz', 'random_state': 2, 'live_volume': 0.0, 'dead_volume': 1120.0, 'stain': 'SYTOX Red Stain', 'time_point': '7'}\n"
     ]
    },
    {
     "name": "stdout",
     "output_type": "stream",
     "text": [
      "{'experiment_id': 'r1dmsrursbqwuz', 'random_state': 2, 'live_volume': 0.0, 'dead_volume': 280.0, 'stain': nan, 'time_point': '7'}\n",
      "{'experiment_id': 'r1dmsrursbqwuz', 'random_state': 2, 'live_volume': 0.0, 'dead_volume': 280.0, 'stain': 'SYTOX Red Stain', 'time_point': '7'}\n",
      "{'experiment_id': 'r1dmsrursbqwuz', 'random_state': 2, 'live_volume': 0.0, 'dead_volume': 140.0, 'stain': nan, 'time_point': '7'}\n",
      "{'experiment_id': 'r1dmsrursbqwuz', 'random_state': 2, 'live_volume': 0.0, 'dead_volume': 140.0, 'stain': 'SYTOX Red Stain', 'time_point': '7'}\n",
      "{'experiment_id': 'r1dmsrursbqwuz', 'random_state': 3, 'live_volume': 0.0, 'dead_volume': 210.0, 'stain': nan, 'time_point': '7'}\n",
      "{'experiment_id': 'r1dmsrursbqwuz', 'random_state': 3, 'live_volume': 0.0, 'dead_volume': 210.0, 'stain': 'SYTOX Red Stain', 'time_point': '7'}\n",
      "{'experiment_id': 'r1dmsrursbqwuz', 'random_state': 3, 'live_volume': 0.0, 'dead_volume': 1120.0, 'stain': nan, 'time_point': '7'}\n",
      "{'experiment_id': 'r1dmsrursbqwuz', 'random_state': 3, 'live_volume': 0.0, 'dead_volume': 1120.0, 'stain': 'SYTOX Red Stain', 'time_point': '7'}\n",
      "{'experiment_id': 'r1dmsrursbqwuz', 'random_state': 3, 'live_volume': 0.0, 'dead_volume': 280.0, 'stain': nan, 'time_point': '7'}\n",
      "{'experiment_id': 'r1dmsrursbqwuz', 'random_state': 3, 'live_volume': 0.0, 'dead_volume': 280.0, 'stain': 'SYTOX Red Stain', 'time_point': '7'}\n",
      "{'experiment_id': 'r1dmsrursbqwuz', 'random_state': 3, 'live_volume': 0.0, 'dead_volume': 140.0, 'stain': nan, 'time_point': '7'}\n",
      "{'experiment_id': 'r1dmsrursbqwuz', 'random_state': 3, 'live_volume': 0.0, 'dead_volume': 140.0, 'stain': 'SYTOX Red Stain', 'time_point': '7'}\n",
      "{'experiment_id': 'r1dmsrursbqwuz', 'random_state': 4, 'live_volume': 0.0, 'dead_volume': 210.0, 'stain': nan, 'time_point': '7'}\n",
      "{'experiment_id': 'r1dmsrursbqwuz', 'random_state': 4, 'live_volume': 0.0, 'dead_volume': 210.0, 'stain': 'SYTOX Red Stain', 'time_point': '7'}\n",
      "{'experiment_id': 'r1dmsrursbqwuz', 'random_state': 4, 'live_volume': 0.0, 'dead_volume': 1120.0, 'stain': nan, 'time_point': '7'}\n",
      "{'experiment_id': 'r1dmsrursbqwuz', 'random_state': 4, 'live_volume': 0.0, 'dead_volume': 1120.0, 'stain': 'SYTOX Red Stain', 'time_point': '7'}\n",
      "{'experiment_id': 'r1dmsrursbqwuz', 'random_state': 4, 'live_volume': 0.0, 'dead_volume': 280.0, 'stain': nan, 'time_point': '7'}\n",
      "{'experiment_id': 'r1dmsrursbqwuz', 'random_state': 4, 'live_volume': 0.0, 'dead_volume': 280.0, 'stain': 'SYTOX Red Stain', 'time_point': '7'}\n",
      "{'experiment_id': 'r1dmsrursbqwuz', 'random_state': 4, 'live_volume': 0.0, 'dead_volume': 140.0, 'stain': nan, 'time_point': '7'}\n",
      "{'experiment_id': 'r1dmsrursbqwuz', 'random_state': 4, 'live_volume': 0.0, 'dead_volume': 140.0, 'stain': 'SYTOX Red Stain', 'time_point': '7'}\n",
      "{'experiment_id': 'r1dmsrursbqwuz', 'random_state': 0, 'live_volume': 0.0, 'dead_volume': 140.0, 'stain': 'SYTOX Red Stain', 'time_point': '8'}\n",
      "{'experiment_id': 'r1dmsrursbqwuz', 'random_state': 0, 'live_volume': 0.0, 'dead_volume': 140.0, 'stain': nan, 'time_point': '8'}\n",
      "{'experiment_id': 'r1dmsrursbqwuz', 'random_state': 0, 'live_volume': 0.0, 'dead_volume': 280.0, 'stain': 'SYTOX Red Stain', 'time_point': '8'}\n",
      "{'experiment_id': 'r1dmsrursbqwuz', 'random_state': 0, 'live_volume': 0.0, 'dead_volume': 280.0, 'stain': nan, 'time_point': '8'}\n",
      "{'experiment_id': 'r1dmsrursbqwuz', 'random_state': 0, 'live_volume': 0.0, 'dead_volume': 210.0, 'stain': 'SYTOX Red Stain', 'time_point': '8'}\n",
      "{'experiment_id': 'r1dmsrursbqwuz', 'random_state': 0, 'live_volume': 0.0, 'dead_volume': 210.0, 'stain': nan, 'time_point': '8'}\n",
      "{'experiment_id': 'r1dmsrursbqwuz', 'random_state': 0, 'live_volume': 0.0, 'dead_volume': 1120.0, 'stain': 'SYTOX Red Stain', 'time_point': '8'}\n",
      "{'experiment_id': 'r1dmsrursbqwuz', 'random_state': 0, 'live_volume': 0.0, 'dead_volume': 1120.0, 'stain': nan, 'time_point': '8'}\n",
      "{'experiment_id': 'r1dmsrursbqwuz', 'random_state': 1, 'live_volume': 0.0, 'dead_volume': 140.0, 'stain': 'SYTOX Red Stain', 'time_point': '8'}\n",
      "{'experiment_id': 'r1dmsrursbqwuz', 'random_state': 1, 'live_volume': 0.0, 'dead_volume': 140.0, 'stain': nan, 'time_point': '8'}\n",
      "{'experiment_id': 'r1dmsrursbqwuz', 'random_state': 1, 'live_volume': 0.0, 'dead_volume': 280.0, 'stain': 'SYTOX Red Stain', 'time_point': '8'}\n",
      "{'experiment_id': 'r1dmsrursbqwuz', 'random_state': 1, 'live_volume': 0.0, 'dead_volume': 280.0, 'stain': nan, 'time_point': '8'}\n",
      "{'experiment_id': 'r1dmsrursbqwuz', 'random_state': 1, 'live_volume': 0.0, 'dead_volume': 210.0, 'stain': 'SYTOX Red Stain', 'time_point': '8'}\n",
      "{'experiment_id': 'r1dmsrursbqwuz', 'random_state': 1, 'live_volume': 0.0, 'dead_volume': 210.0, 'stain': nan, 'time_point': '8'}\n",
      "{'experiment_id': 'r1dmsrursbqwuz', 'random_state': 1, 'live_volume': 0.0, 'dead_volume': 1120.0, 'stain': 'SYTOX Red Stain', 'time_point': '8'}\n",
      "{'experiment_id': 'r1dmsrursbqwuz', 'random_state': 1, 'live_volume': 0.0, 'dead_volume': 1120.0, 'stain': nan, 'time_point': '8'}\n",
      "{'experiment_id': 'r1dmsrursbqwuz', 'random_state': 2, 'live_volume': 0.0, 'dead_volume': 140.0, 'stain': 'SYTOX Red Stain', 'time_point': '8'}\n",
      "{'experiment_id': 'r1dmsrursbqwuz', 'random_state': 2, 'live_volume': 0.0, 'dead_volume': 140.0, 'stain': nan, 'time_point': '8'}\n",
      "{'experiment_id': 'r1dmsrursbqwuz', 'random_state': 2, 'live_volume': 0.0, 'dead_volume': 280.0, 'stain': 'SYTOX Red Stain', 'time_point': '8'}\n",
      "{'experiment_id': 'r1dmsrursbqwuz', 'random_state': 2, 'live_volume': 0.0, 'dead_volume': 280.0, 'stain': nan, 'time_point': '8'}\n",
      "{'experiment_id': 'r1dmsrursbqwuz', 'random_state': 2, 'live_volume': 0.0, 'dead_volume': 210.0, 'stain': 'SYTOX Red Stain', 'time_point': '8'}\n",
      "{'experiment_id': 'r1dmsrursbqwuz', 'random_state': 2, 'live_volume': 0.0, 'dead_volume': 210.0, 'stain': nan, 'time_point': '8'}\n",
      "{'experiment_id': 'r1dmsrursbqwuz', 'random_state': 2, 'live_volume': 0.0, 'dead_volume': 1120.0, 'stain': 'SYTOX Red Stain', 'time_point': '8'}\n",
      "{'experiment_id': 'r1dmsrursbqwuz', 'random_state': 2, 'live_volume': 0.0, 'dead_volume': 1120.0, 'stain': nan, 'time_point': '8'}\n",
      "{'experiment_id': 'r1dmsrursbqwuz', 'random_state': 3, 'live_volume': 0.0, 'dead_volume': 140.0, 'stain': 'SYTOX Red Stain', 'time_point': '8'}\n",
      "{'experiment_id': 'r1dmsrursbqwuz', 'random_state': 3, 'live_volume': 0.0, 'dead_volume': 140.0, 'stain': nan, 'time_point': '8'}\n",
      "{'experiment_id': 'r1dmsrursbqwuz', 'random_state': 3, 'live_volume': 0.0, 'dead_volume': 280.0, 'stain': 'SYTOX Red Stain', 'time_point': '8'}\n",
      "{'experiment_id': 'r1dmsrursbqwuz', 'random_state': 3, 'live_volume': 0.0, 'dead_volume': 280.0, 'stain': nan, 'time_point': '8'}\n",
      "{'experiment_id': 'r1dmsrursbqwuz', 'random_state': 3, 'live_volume': 0.0, 'dead_volume': 210.0, 'stain': 'SYTOX Red Stain', 'time_point': '8'}\n",
      "{'experiment_id': 'r1dmsrursbqwuz', 'random_state': 3, 'live_volume': 0.0, 'dead_volume': 210.0, 'stain': nan, 'time_point': '8'}\n",
      "{'experiment_id': 'r1dmsrursbqwuz', 'random_state': 3, 'live_volume': 0.0, 'dead_volume': 1120.0, 'stain': 'SYTOX Red Stain', 'time_point': '8'}\n",
      "{'experiment_id': 'r1dmsrursbqwuz', 'random_state': 3, 'live_volume': 0.0, 'dead_volume': 1120.0, 'stain': nan, 'time_point': '8'}\n",
      "{'experiment_id': 'r1dmsrursbqwuz', 'random_state': 4, 'live_volume': 0.0, 'dead_volume': 140.0, 'stain': 'SYTOX Red Stain', 'time_point': '8'}\n",
      "{'experiment_id': 'r1dmsrursbqwuz', 'random_state': 4, 'live_volume': 0.0, 'dead_volume': 140.0, 'stain': nan, 'time_point': '8'}\n",
      "{'experiment_id': 'r1dmsrursbqwuz', 'random_state': 4, 'live_volume': 0.0, 'dead_volume': 280.0, 'stain': 'SYTOX Red Stain', 'time_point': '8'}\n",
      "{'experiment_id': 'r1dmsrursbqwuz', 'random_state': 4, 'live_volume': 0.0, 'dead_volume': 280.0, 'stain': nan, 'time_point': '8'}\n",
      "{'experiment_id': 'r1dmsrursbqwuz', 'random_state': 4, 'live_volume': 0.0, 'dead_volume': 210.0, 'stain': 'SYTOX Red Stain', 'time_point': '8'}\n",
      "{'experiment_id': 'r1dmsrursbqwuz', 'random_state': 4, 'live_volume': 0.0, 'dead_volume': 210.0, 'stain': nan, 'time_point': '8'}\n",
      "{'experiment_id': 'r1dmsrursbqwuz', 'random_state': 4, 'live_volume': 0.0, 'dead_volume': 1120.0, 'stain': 'SYTOX Red Stain', 'time_point': '8'}\n",
      "{'experiment_id': 'r1dmsrursbqwuz', 'random_state': 4, 'live_volume': 0.0, 'dead_volume': 1120.0, 'stain': nan, 'time_point': '8'}\n"
     ]
    },
    {
     "name": "stdout",
     "output_type": "stream",
     "text": [
      "{'experiment_id': 'r1dmsrursbqwuz', 'random_state': 0, 'live_volume': 0.0, 'dead_volume': 140.0, 'stain': 'SYTOX Red Stain', 'time_point': '9'}\n",
      "{'experiment_id': 'r1dmsrursbqwuz', 'random_state': 0, 'live_volume': 0.0, 'dead_volume': 140.0, 'stain': nan, 'time_point': '9'}\n",
      "{'experiment_id': 'r1dmsrursbqwuz', 'random_state': 0, 'live_volume': 0.0, 'dead_volume': 280.0, 'stain': 'SYTOX Red Stain', 'time_point': '9'}\n",
      "{'experiment_id': 'r1dmsrursbqwuz', 'random_state': 0, 'live_volume': 0.0, 'dead_volume': 280.0, 'stain': nan, 'time_point': '9'}\n",
      "{'experiment_id': 'r1dmsrursbqwuz', 'random_state': 0, 'live_volume': 0.0, 'dead_volume': 210.0, 'stain': 'SYTOX Red Stain', 'time_point': '9'}\n",
      "{'experiment_id': 'r1dmsrursbqwuz', 'random_state': 0, 'live_volume': 0.0, 'dead_volume': 210.0, 'stain': nan, 'time_point': '9'}\n",
      "{'experiment_id': 'r1dmsrursbqwuz', 'random_state': 0, 'live_volume': 0.0, 'dead_volume': 1120.0, 'stain': 'SYTOX Red Stain', 'time_point': '9'}\n",
      "{'experiment_id': 'r1dmsrursbqwuz', 'random_state': 0, 'live_volume': 0.0, 'dead_volume': 1120.0, 'stain': nan, 'time_point': '9'}\n",
      "{'experiment_id': 'r1dmsrursbqwuz', 'random_state': 1, 'live_volume': 0.0, 'dead_volume': 140.0, 'stain': 'SYTOX Red Stain', 'time_point': '9'}\n",
      "{'experiment_id': 'r1dmsrursbqwuz', 'random_state': 1, 'live_volume': 0.0, 'dead_volume': 140.0, 'stain': nan, 'time_point': '9'}\n",
      "{'experiment_id': 'r1dmsrursbqwuz', 'random_state': 1, 'live_volume': 0.0, 'dead_volume': 280.0, 'stain': 'SYTOX Red Stain', 'time_point': '9'}\n",
      "{'experiment_id': 'r1dmsrursbqwuz', 'random_state': 1, 'live_volume': 0.0, 'dead_volume': 280.0, 'stain': nan, 'time_point': '9'}\n",
      "{'experiment_id': 'r1dmsrursbqwuz', 'random_state': 1, 'live_volume': 0.0, 'dead_volume': 210.0, 'stain': 'SYTOX Red Stain', 'time_point': '9'}\n",
      "{'experiment_id': 'r1dmsrursbqwuz', 'random_state': 1, 'live_volume': 0.0, 'dead_volume': 210.0, 'stain': nan, 'time_point': '9'}\n",
      "{'experiment_id': 'r1dmsrursbqwuz', 'random_state': 1, 'live_volume': 0.0, 'dead_volume': 1120.0, 'stain': 'SYTOX Red Stain', 'time_point': '9'}\n",
      "{'experiment_id': 'r1dmsrursbqwuz', 'random_state': 1, 'live_volume': 0.0, 'dead_volume': 1120.0, 'stain': nan, 'time_point': '9'}\n",
      "{'experiment_id': 'r1dmsrursbqwuz', 'random_state': 2, 'live_volume': 0.0, 'dead_volume': 140.0, 'stain': 'SYTOX Red Stain', 'time_point': '9'}\n",
      "{'experiment_id': 'r1dmsrursbqwuz', 'random_state': 2, 'live_volume': 0.0, 'dead_volume': 140.0, 'stain': nan, 'time_point': '9'}\n",
      "{'experiment_id': 'r1dmsrursbqwuz', 'random_state': 2, 'live_volume': 0.0, 'dead_volume': 280.0, 'stain': 'SYTOX Red Stain', 'time_point': '9'}\n",
      "{'experiment_id': 'r1dmsrursbqwuz', 'random_state': 2, 'live_volume': 0.0, 'dead_volume': 280.0, 'stain': nan, 'time_point': '9'}\n",
      "{'experiment_id': 'r1dmsrursbqwuz', 'random_state': 2, 'live_volume': 0.0, 'dead_volume': 210.0, 'stain': 'SYTOX Red Stain', 'time_point': '9'}\n",
      "{'experiment_id': 'r1dmsrursbqwuz', 'random_state': 2, 'live_volume': 0.0, 'dead_volume': 210.0, 'stain': nan, 'time_point': '9'}\n",
      "{'experiment_id': 'r1dmsrursbqwuz', 'random_state': 2, 'live_volume': 0.0, 'dead_volume': 1120.0, 'stain': 'SYTOX Red Stain', 'time_point': '9'}\n",
      "{'experiment_id': 'r1dmsrursbqwuz', 'random_state': 2, 'live_volume': 0.0, 'dead_volume': 1120.0, 'stain': nan, 'time_point': '9'}\n",
      "{'experiment_id': 'r1dmsrursbqwuz', 'random_state': 3, 'live_volume': 0.0, 'dead_volume': 140.0, 'stain': 'SYTOX Red Stain', 'time_point': '9'}\n",
      "{'experiment_id': 'r1dmsrursbqwuz', 'random_state': 3, 'live_volume': 0.0, 'dead_volume': 140.0, 'stain': nan, 'time_point': '9'}\n",
      "{'experiment_id': 'r1dmsrursbqwuz', 'random_state': 3, 'live_volume': 0.0, 'dead_volume': 280.0, 'stain': 'SYTOX Red Stain', 'time_point': '9'}\n",
      "{'experiment_id': 'r1dmsrursbqwuz', 'random_state': 3, 'live_volume': 0.0, 'dead_volume': 280.0, 'stain': nan, 'time_point': '9'}\n",
      "{'experiment_id': 'r1dmsrursbqwuz', 'random_state': 3, 'live_volume': 0.0, 'dead_volume': 210.0, 'stain': 'SYTOX Red Stain', 'time_point': '9'}\n",
      "{'experiment_id': 'r1dmsrursbqwuz', 'random_state': 3, 'live_volume': 0.0, 'dead_volume': 210.0, 'stain': nan, 'time_point': '9'}\n",
      "{'experiment_id': 'r1dmsrursbqwuz', 'random_state': 3, 'live_volume': 0.0, 'dead_volume': 1120.0, 'stain': 'SYTOX Red Stain', 'time_point': '9'}\n",
      "{'experiment_id': 'r1dmsrursbqwuz', 'random_state': 3, 'live_volume': 0.0, 'dead_volume': 1120.0, 'stain': nan, 'time_point': '9'}\n",
      "{'experiment_id': 'r1dmsrursbqwuz', 'random_state': 4, 'live_volume': 0.0, 'dead_volume': 140.0, 'stain': 'SYTOX Red Stain', 'time_point': '9'}\n"
     ]
    },
    {
     "ename": "KeyboardInterrupt",
     "evalue": "",
     "output_type": "error",
     "traceback": [
      "\u001b[0;31m---------------------------------------------------------------------------\u001b[0m",
      "\u001b[0;31mKeyboardInterrupt\u001b[0m                         Traceback (most recent call last)",
      "\u001b[0;32m<ipython-input-12-20c3a9f3eb1b>\u001b[0m in \u001b[0;36m<module>\u001b[0;34m\u001b[0m\n\u001b[1;32m     11\u001b[0m                                       \u001b[0;34m'SSC-H'\u001b[0m\u001b[0;34m,\u001b[0m \u001b[0;34m'BL1-H'\u001b[0m\u001b[0;34m,\u001b[0m \u001b[0;34m'RL1-H'\u001b[0m\u001b[0;34m,\u001b[0m \u001b[0;34m'FSC-W'\u001b[0m\u001b[0;34m,\u001b[0m \u001b[0;34m'SSC-W'\u001b[0m\u001b[0;34m,\u001b[0m\u001b[0;34m\u001b[0m\u001b[0m\n\u001b[1;32m     12\u001b[0m                                       'BL1-W', 'RL1-W'],\n\u001b[0;32m---> 13\u001b[0;31m                            time_point=time_point)\n\u001b[0m\u001b[1;32m     14\u001b[0m \u001b[0;34m\u001b[0m\u001b[0m\n",
      "\u001b[0;32m~/Documents/sift/xplan/external/xplan/xplan-to-autoprotocol-reactor/xplan-dev-env/pysd2cat/src/pysd2cat/analysis/biofab_live_dead_analysis.py\u001b[0m in \u001b[0;36mtrain_models_for_stats\u001b[0;34m(experiment_df, out_dir, data_dir, fcs_columns, dead_volumes, live_volume, strain_column_name, time_point)\u001b[0m\n\u001b[1;32m     39\u001b[0m                 \u001b[0mprint\u001b[0m\u001b[0;34m(\u001b[0m\u001b[0mdescription\u001b[0m\u001b[0;34m)\u001b[0m\u001b[0;34m\u001b[0m\u001b[0m\n\u001b[1;32m     40\u001b[0m \u001b[0;34m\u001b[0m\u001b[0m\n\u001b[0;32m---> 41\u001b[0;31m                 \u001b[0;32mif\u001b[0m \u001b[0;32mnot\u001b[0m \u001b[0mleader_board_case_exists\u001b[0m\u001b[0;34m(\u001b[0m\u001b[0mout_dir\u001b[0m\u001b[0;34m,\u001b[0m \u001b[0mstr\u001b[0m\u001b[0;34m(\u001b[0m\u001b[0mdescription\u001b[0m\u001b[0;34m)\u001b[0m\u001b[0;34m)\u001b[0m\u001b[0;34m:\u001b[0m\u001b[0;34m\u001b[0m\u001b[0m\n\u001b[0m\u001b[1;32m     42\u001b[0m                     lda.add_live_dead_test_harness(df, \n\u001b[1;32m     43\u001b[0m                                                \u001b[0mstrain_column_name\u001b[0m\u001b[0;34m,\u001b[0m\u001b[0;34m\u001b[0m\u001b[0m\n",
      "\u001b[0;32m~/Documents/sift/xplan/external/xplan/xplan-to-autoprotocol-reactor/xplan-dev-env/pysd2cat/src/pysd2cat/analysis/biofab_live_dead_analysis.py\u001b[0m in \u001b[0;36mleader_board_case_exists\u001b[0;34m(out_dir, description)\u001b[0m\n\u001b[1;32m    199\u001b[0m \u001b[0;34m\u001b[0m\u001b[0m\n\u001b[1;32m    200\u001b[0m \u001b[0;32mdef\u001b[0m \u001b[0mleader_board_case_exists\u001b[0m\u001b[0;34m(\u001b[0m\u001b[0mout_dir\u001b[0m\u001b[0;34m,\u001b[0m \u001b[0mdescription\u001b[0m\u001b[0;34m)\u001b[0m\u001b[0;34m:\u001b[0m\u001b[0;34m\u001b[0m\u001b[0m\n\u001b[0;32m--> 201\u001b[0;31m     \u001b[0mleader_board_df\u001b[0m \u001b[0;34m=\u001b[0m \u001b[0mget_leader_board_df\u001b[0m\u001b[0;34m(\u001b[0m\u001b[0mout_dir\u001b[0m\u001b[0;34m,\u001b[0m \u001b[0mexpand_description\u001b[0m\u001b[0;34m=\u001b[0m\u001b[0;32mFalse\u001b[0m\u001b[0;34m)\u001b[0m\u001b[0;34m\u001b[0m\u001b[0m\n\u001b[0m\u001b[1;32m    202\u001b[0m     \u001b[0;32mreturn\u001b[0m \u001b[0mlen\u001b[0m\u001b[0;34m(\u001b[0m\u001b[0mleader_board_df\u001b[0m\u001b[0;34m.\u001b[0m\u001b[0mloc\u001b[0m\u001b[0;34m[\u001b[0m\u001b[0mleader_board_df\u001b[0m\u001b[0;34m[\u001b[0m\u001b[0;34m'Data and Split Description'\u001b[0m\u001b[0;34m]\u001b[0m \u001b[0;34m==\u001b[0m \u001b[0mdescription\u001b[0m\u001b[0;34m]\u001b[0m\u001b[0;34m)\u001b[0m \u001b[0;34m>\u001b[0m \u001b[0;36m0\u001b[0m\u001b[0;34m\u001b[0m\u001b[0m\n",
      "\u001b[0;32m~/Documents/sift/xplan/external/xplan/xplan-to-autoprotocol-reactor/xplan-dev-env/pysd2cat/src/pysd2cat/analysis/biofab_live_dead_analysis.py\u001b[0m in \u001b[0;36mget_leader_board_df\u001b[0;34m(out_dir, expand_description)\u001b[0m\n\u001b[1;32m    180\u001b[0m \u001b[0;32mdef\u001b[0m \u001b[0mget_leader_board_df\u001b[0m\u001b[0;34m(\u001b[0m\u001b[0mout_dir\u001b[0m\u001b[0;34m,\u001b[0m \u001b[0mexpand_description\u001b[0m\u001b[0;34m=\u001b[0m\u001b[0;32mTrue\u001b[0m\u001b[0;34m)\u001b[0m\u001b[0;34m:\u001b[0m\u001b[0;34m\u001b[0m\u001b[0m\n\u001b[1;32m    181\u001b[0m     \u001b[0mleader_board_path\u001b[0m\u001b[0;34m=\u001b[0m\u001b[0mos\u001b[0m\u001b[0;34m.\u001b[0m\u001b[0mpath\u001b[0m\u001b[0;34m.\u001b[0m\u001b[0mjoin\u001b[0m\u001b[0;34m(\u001b[0m\u001b[0mout_dir\u001b[0m\u001b[0;34m,\u001b[0m \u001b[0;34m'test_harness_results/custom_classification_leaderboard.html'\u001b[0m\u001b[0;34m)\u001b[0m\u001b[0;34m\u001b[0m\u001b[0m\n\u001b[0;32m--> 182\u001b[0;31m     \u001b[0mleader_board\u001b[0m \u001b[0;34m=\u001b[0m \u001b[0mpd\u001b[0m\u001b[0;34m.\u001b[0m\u001b[0mread_html\u001b[0m\u001b[0;34m(\u001b[0m\u001b[0mleader_board_path\u001b[0m\u001b[0;34m)\u001b[0m\u001b[0;34m[\u001b[0m\u001b[0;36m0\u001b[0m\u001b[0;34m]\u001b[0m\u001b[0;34m\u001b[0m\u001b[0m\n\u001b[0m\u001b[1;32m    183\u001b[0m     \u001b[0mleader_board\u001b[0m \u001b[0;34m=\u001b[0m \u001b[0mleader_board\u001b[0m\u001b[0;34m.\u001b[0m\u001b[0msort_values\u001b[0m\u001b[0;34m(\u001b[0m\u001b[0mby\u001b[0m\u001b[0;34m=\u001b[0m\u001b[0;34m[\u001b[0m\u001b[0;34m'Date'\u001b[0m\u001b[0;34m,\u001b[0m \u001b[0;34m'Time'\u001b[0m\u001b[0;34m]\u001b[0m\u001b[0;34m,\u001b[0m \u001b[0mascending\u001b[0m\u001b[0;34m=\u001b[0m\u001b[0;32mTrue\u001b[0m\u001b[0;34m)\u001b[0m\u001b[0;34m\u001b[0m\u001b[0m\n\u001b[1;32m    184\u001b[0m \u001b[0;34m\u001b[0m\u001b[0m\n",
      "\u001b[0;32m~/Documents/sift/xplan/external/xplan/xplan-to-autoprotocol-reactor/xplan-dev-env/xplan-dev-env/lib/python3.7/site-packages/pandas/io/html.py\u001b[0m in \u001b[0;36mread_html\u001b[0;34m(io, match, flavor, header, index_col, skiprows, attrs, parse_dates, thousands, encoding, decimal, converters, na_values, keep_default_na, displayed_only)\u001b[0m\n\u001b[1;32m   1103\u001b[0m         \u001b[0mna_values\u001b[0m\u001b[0;34m=\u001b[0m\u001b[0mna_values\u001b[0m\u001b[0;34m,\u001b[0m\u001b[0;34m\u001b[0m\u001b[0m\n\u001b[1;32m   1104\u001b[0m         \u001b[0mkeep_default_na\u001b[0m\u001b[0;34m=\u001b[0m\u001b[0mkeep_default_na\u001b[0m\u001b[0;34m,\u001b[0m\u001b[0;34m\u001b[0m\u001b[0m\n\u001b[0;32m-> 1105\u001b[0;31m         \u001b[0mdisplayed_only\u001b[0m\u001b[0;34m=\u001b[0m\u001b[0mdisplayed_only\u001b[0m\u001b[0;34m,\u001b[0m\u001b[0;34m\u001b[0m\u001b[0m\n\u001b[0m\u001b[1;32m   1106\u001b[0m     )\n",
      "\u001b[0;32m~/Documents/sift/xplan/external/xplan/xplan-to-autoprotocol-reactor/xplan-dev-env/xplan-dev-env/lib/python3.7/site-packages/pandas/io/html.py\u001b[0m in \u001b[0;36m_parse\u001b[0;34m(flavor, io, match, attrs, encoding, displayed_only, **kwargs)\u001b[0m\n\u001b[1;32m    913\u001b[0m \u001b[0;34m\u001b[0m\u001b[0m\n\u001b[1;32m    914\u001b[0m     \u001b[0mret\u001b[0m \u001b[0;34m=\u001b[0m \u001b[0;34m[\u001b[0m\u001b[0;34m]\u001b[0m\u001b[0;34m\u001b[0m\u001b[0m\n\u001b[0;32m--> 915\u001b[0;31m     \u001b[0;32mfor\u001b[0m \u001b[0mtable\u001b[0m \u001b[0;32min\u001b[0m \u001b[0mtables\u001b[0m\u001b[0;34m:\u001b[0m\u001b[0;34m\u001b[0m\u001b[0m\n\u001b[0m\u001b[1;32m    916\u001b[0m         \u001b[0;32mtry\u001b[0m\u001b[0;34m:\u001b[0m\u001b[0;34m\u001b[0m\u001b[0m\n\u001b[1;32m    917\u001b[0m             \u001b[0mret\u001b[0m\u001b[0;34m.\u001b[0m\u001b[0mappend\u001b[0m\u001b[0;34m(\u001b[0m\u001b[0m_data_to_frame\u001b[0m\u001b[0;34m(\u001b[0m\u001b[0mdata\u001b[0m\u001b[0;34m=\u001b[0m\u001b[0mtable\u001b[0m\u001b[0;34m,\u001b[0m \u001b[0;34m**\u001b[0m\u001b[0mkwargs\u001b[0m\u001b[0;34m)\u001b[0m\u001b[0;34m)\u001b[0m\u001b[0;34m\u001b[0m\u001b[0m\n",
      "\u001b[0;32m~/Documents/sift/xplan/external/xplan/xplan-to-autoprotocol-reactor/xplan-dev-env/xplan-dev-env/lib/python3.7/site-packages/pandas/io/html.py\u001b[0m in \u001b[0;36m<genexpr>\u001b[0;34m(.0)\u001b[0m\n\u001b[1;32m    211\u001b[0m         \"\"\"\n\u001b[1;32m    212\u001b[0m         \u001b[0mtables\u001b[0m \u001b[0;34m=\u001b[0m \u001b[0mself\u001b[0m\u001b[0;34m.\u001b[0m\u001b[0m_parse_tables\u001b[0m\u001b[0;34m(\u001b[0m\u001b[0mself\u001b[0m\u001b[0;34m.\u001b[0m\u001b[0m_build_doc\u001b[0m\u001b[0;34m(\u001b[0m\u001b[0;34m)\u001b[0m\u001b[0;34m,\u001b[0m \u001b[0mself\u001b[0m\u001b[0;34m.\u001b[0m\u001b[0mmatch\u001b[0m\u001b[0;34m,\u001b[0m \u001b[0mself\u001b[0m\u001b[0;34m.\u001b[0m\u001b[0mattrs\u001b[0m\u001b[0;34m)\u001b[0m\u001b[0;34m\u001b[0m\u001b[0m\n\u001b[0;32m--> 213\u001b[0;31m         \u001b[0;32mreturn\u001b[0m \u001b[0;34m(\u001b[0m\u001b[0mself\u001b[0m\u001b[0;34m.\u001b[0m\u001b[0m_parse_thead_tbody_tfoot\u001b[0m\u001b[0;34m(\u001b[0m\u001b[0mtable\u001b[0m\u001b[0;34m)\u001b[0m \u001b[0;32mfor\u001b[0m \u001b[0mtable\u001b[0m \u001b[0;32min\u001b[0m \u001b[0mtables\u001b[0m\u001b[0;34m)\u001b[0m\u001b[0;34m\u001b[0m\u001b[0m\n\u001b[0m\u001b[1;32m    214\u001b[0m \u001b[0;34m\u001b[0m\u001b[0m\n\u001b[1;32m    215\u001b[0m     \u001b[0;32mdef\u001b[0m \u001b[0m_attr_getter\u001b[0m\u001b[0;34m(\u001b[0m\u001b[0mself\u001b[0m\u001b[0;34m,\u001b[0m \u001b[0mobj\u001b[0m\u001b[0;34m,\u001b[0m \u001b[0mattr\u001b[0m\u001b[0;34m)\u001b[0m\u001b[0;34m:\u001b[0m\u001b[0;34m\u001b[0m\u001b[0m\n",
      "\u001b[0;32m~/Documents/sift/xplan/external/xplan/xplan-to-autoprotocol-reactor/xplan-dev-env/xplan-dev-env/lib/python3.7/site-packages/pandas/io/html.py\u001b[0m in \u001b[0;36m_parse_thead_tbody_tfoot\u001b[0;34m(self, table_html)\u001b[0m\n\u001b[1;32m    410\u001b[0m \u001b[0;34m\u001b[0m\u001b[0m\n\u001b[1;32m    411\u001b[0m         \u001b[0mheader\u001b[0m \u001b[0;34m=\u001b[0m \u001b[0mself\u001b[0m\u001b[0;34m.\u001b[0m\u001b[0m_expand_colspan_rowspan\u001b[0m\u001b[0;34m(\u001b[0m\u001b[0mheader_rows\u001b[0m\u001b[0;34m)\u001b[0m\u001b[0;34m\u001b[0m\u001b[0m\n\u001b[0;32m--> 412\u001b[0;31m         \u001b[0mbody\u001b[0m \u001b[0;34m=\u001b[0m \u001b[0mself\u001b[0m\u001b[0;34m.\u001b[0m\u001b[0m_expand_colspan_rowspan\u001b[0m\u001b[0;34m(\u001b[0m\u001b[0mbody_rows\u001b[0m\u001b[0;34m)\u001b[0m\u001b[0;34m\u001b[0m\u001b[0m\n\u001b[0m\u001b[1;32m    413\u001b[0m         \u001b[0mfooter\u001b[0m \u001b[0;34m=\u001b[0m \u001b[0mself\u001b[0m\u001b[0;34m.\u001b[0m\u001b[0m_expand_colspan_rowspan\u001b[0m\u001b[0;34m(\u001b[0m\u001b[0mfooter_rows\u001b[0m\u001b[0;34m)\u001b[0m\u001b[0;34m\u001b[0m\u001b[0m\n\u001b[1;32m    414\u001b[0m \u001b[0;34m\u001b[0m\u001b[0m\n",
      "\u001b[0;32m~/Documents/sift/xplan/external/xplan/xplan-to-autoprotocol-reactor/xplan-dev-env/xplan-dev-env/lib/python3.7/site-packages/pandas/io/html.py\u001b[0m in \u001b[0;36m_expand_colspan_rowspan\u001b[0;34m(self, rows)\u001b[0m\n\u001b[1;32m    455\u001b[0m \u001b[0;34m\u001b[0m\u001b[0m\n\u001b[1;32m    456\u001b[0m                 \u001b[0;31m# Append the text from this <td>, colspan times\u001b[0m\u001b[0;34m\u001b[0m\u001b[0;34m\u001b[0m\u001b[0m\n\u001b[0;32m--> 457\u001b[0;31m                 \u001b[0mtext\u001b[0m \u001b[0;34m=\u001b[0m \u001b[0m_remove_whitespace\u001b[0m\u001b[0;34m(\u001b[0m\u001b[0mself\u001b[0m\u001b[0;34m.\u001b[0m\u001b[0m_text_getter\u001b[0m\u001b[0;34m(\u001b[0m\u001b[0mtd\u001b[0m\u001b[0;34m)\u001b[0m\u001b[0;34m)\u001b[0m\u001b[0;34m\u001b[0m\u001b[0m\n\u001b[0m\u001b[1;32m    458\u001b[0m                 \u001b[0mrowspan\u001b[0m \u001b[0;34m=\u001b[0m \u001b[0mint\u001b[0m\u001b[0;34m(\u001b[0m\u001b[0mself\u001b[0m\u001b[0;34m.\u001b[0m\u001b[0m_attr_getter\u001b[0m\u001b[0;34m(\u001b[0m\u001b[0mtd\u001b[0m\u001b[0;34m,\u001b[0m \u001b[0;34m\"rowspan\"\u001b[0m\u001b[0;34m)\u001b[0m \u001b[0;32mor\u001b[0m \u001b[0;36m1\u001b[0m\u001b[0;34m)\u001b[0m\u001b[0;34m\u001b[0m\u001b[0m\n\u001b[1;32m    459\u001b[0m                 \u001b[0mcolspan\u001b[0m \u001b[0;34m=\u001b[0m \u001b[0mint\u001b[0m\u001b[0;34m(\u001b[0m\u001b[0mself\u001b[0m\u001b[0;34m.\u001b[0m\u001b[0m_attr_getter\u001b[0m\u001b[0;34m(\u001b[0m\u001b[0mtd\u001b[0m\u001b[0;34m,\u001b[0m \u001b[0;34m\"colspan\"\u001b[0m\u001b[0;34m)\u001b[0m \u001b[0;32mor\u001b[0m \u001b[0;36m1\u001b[0m\u001b[0;34m)\u001b[0m\u001b[0;34m\u001b[0m\u001b[0m\n",
      "\u001b[0;32m~/Documents/sift/xplan/external/xplan/xplan-to-autoprotocol-reactor/xplan-dev-env/xplan-dev-env/lib/python3.7/site-packages/pandas/io/html.py\u001b[0m in \u001b[0;36m_text_getter\u001b[0;34m(self, obj)\u001b[0m\n\u001b[1;32m    644\u001b[0m \u001b[0;34m\u001b[0m\u001b[0m\n\u001b[1;32m    645\u001b[0m     \u001b[0;32mdef\u001b[0m \u001b[0m_text_getter\u001b[0m\u001b[0;34m(\u001b[0m\u001b[0mself\u001b[0m\u001b[0;34m,\u001b[0m \u001b[0mobj\u001b[0m\u001b[0;34m)\u001b[0m\u001b[0;34m:\u001b[0m\u001b[0;34m\u001b[0m\u001b[0m\n\u001b[0;32m--> 646\u001b[0;31m         \u001b[0;32mreturn\u001b[0m \u001b[0mobj\u001b[0m\u001b[0;34m.\u001b[0m\u001b[0mtext_content\u001b[0m\u001b[0;34m(\u001b[0m\u001b[0;34m)\u001b[0m\u001b[0;34m\u001b[0m\u001b[0m\n\u001b[0m\u001b[1;32m    647\u001b[0m \u001b[0;34m\u001b[0m\u001b[0m\n\u001b[1;32m    648\u001b[0m     \u001b[0;32mdef\u001b[0m \u001b[0m_parse_td\u001b[0m\u001b[0;34m(\u001b[0m\u001b[0mself\u001b[0m\u001b[0;34m,\u001b[0m \u001b[0mrow\u001b[0m\u001b[0;34m)\u001b[0m\u001b[0;34m:\u001b[0m\u001b[0;34m\u001b[0m\u001b[0m\n",
      "\u001b[0;32m~/Documents/sift/xplan/external/xplan/xplan-to-autoprotocol-reactor/xplan-dev-env/xplan-dev-env/lib/python3.7/site-packages/lxml/html/__init__.py\u001b[0m in \u001b[0;36mtext_content\u001b[0;34m(self)\u001b[0m\n\u001b[1;32m    417\u001b[0m         \u001b[0mReturn\u001b[0m \u001b[0mthe\u001b[0m \u001b[0mtext\u001b[0m \u001b[0mcontent\u001b[0m \u001b[0mof\u001b[0m \u001b[0mthe\u001b[0m \u001b[0mtag\u001b[0m \u001b[0;34m(\u001b[0m\u001b[0;32mand\u001b[0m \u001b[0mthe\u001b[0m \u001b[0mtext\u001b[0m \u001b[0;32min\u001b[0m \u001b[0many\u001b[0m \u001b[0mchildren\u001b[0m\u001b[0;34m)\u001b[0m\u001b[0;34m.\u001b[0m\u001b[0;34m\u001b[0m\u001b[0m\n\u001b[1;32m    418\u001b[0m         \"\"\"\n\u001b[0;32m--> 419\u001b[0;31m         \u001b[0;32mreturn\u001b[0m \u001b[0m_collect_string_content\u001b[0m\u001b[0;34m(\u001b[0m\u001b[0mself\u001b[0m\u001b[0;34m)\u001b[0m\u001b[0;34m\u001b[0m\u001b[0m\n\u001b[0m\u001b[1;32m    420\u001b[0m \u001b[0;34m\u001b[0m\u001b[0m\n\u001b[1;32m    421\u001b[0m     \u001b[0;32mdef\u001b[0m \u001b[0mcssselect\u001b[0m\u001b[0;34m(\u001b[0m\u001b[0mself\u001b[0m\u001b[0;34m,\u001b[0m \u001b[0mexpr\u001b[0m\u001b[0;34m,\u001b[0m \u001b[0mtranslator\u001b[0m\u001b[0;34m=\u001b[0m\u001b[0;34m'html'\u001b[0m\u001b[0;34m)\u001b[0m\u001b[0;34m:\u001b[0m\u001b[0;34m\u001b[0m\u001b[0m\n",
      "\u001b[0;32msrc/lxml/xpath.pxi\u001b[0m in \u001b[0;36mlxml.etree.XPath.__call__\u001b[0;34m()\u001b[0m\n",
      "\u001b[0;32msrc/lxml/xpath.pxi\u001b[0m in \u001b[0;36mlxml.etree._XPathEvaluatorBase._handle_result\u001b[0;34m()\u001b[0m\n",
      "\u001b[0;32msrc/lxml/extensions.pxi\u001b[0m in \u001b[0;36mlxml.etree._unwrapXPathObject\u001b[0;34m()\u001b[0m\n",
      "\u001b[0;32msrc/lxml/extensions.pxi\u001b[0m in \u001b[0;36mlxml.etree._elementStringResultFactory\u001b[0;34m()\u001b[0m\n",
      "\u001b[0;31mKeyboardInterrupt\u001b[0m: "
     ]
    }
   ],
   "source": [
    "for p in plate_properties:\n",
    "    df = bld.get_container_data(work_dir, p['container'])\n",
    "    time_point = flow_data.loc[flow_data['container_name'] == p['container']]['time_point'].iloc[0]\n",
    "    dead_volumes = list(df.kill_volume.dropna().unique())\n",
    "    dead_volumes.remove(0.0)\n",
    "    #print(dead_volumes)\n",
    "    blda.train_models_for_stats(df, \n",
    "                            data_dir=work_dir, \n",
    "                            dead_volumes=dead_volumes,\n",
    "                            fcs_columns=['FSC-A', 'SSC-A', 'BL1-A', 'RL1-A', 'FSC-H', \n",
    "                                      'SSC-H', 'BL1-H', 'RL1-H', 'FSC-W', 'SSC-W',\n",
    "                                      'BL1-W', 'RL1-W'],\n",
    "                           time_point=time_point)\n",
    "\n"
   ]
  },
  {
   "cell_type": "code",
   "execution_count": 15,
   "metadata": {},
   "outputs": [
    {
     "name": "stdout",
     "output_type": "stream",
     "text": [
      "output_col: live\n",
      "SYTOX Red Stain\n",
      "{'experiment_id': 'r1dmsrursbqwuz', 'random_state': 0, 'live_volume': 0, 'dead_volume': 1120.0, 'stain': 'SYTOX Red Stain', 'prediction': True, 'time_point': '12'}\n",
      "data_columns: ['Unnamed: 0', 'checksum', 'filename', 'kill', 'kill_volume', 'stain', 'well', 'experiment_id', 'Time', 'FSC-A', 'SSC-A', 'BL1-A', 'RL1-A', 'FSC-H', 'SSC-H', 'BL1-H', 'RL1-H', 'FSC-W', 'SSC-W', 'BL1-W', 'RL1-W']\n"
     ]
    },
    {
     "name": "stderr",
     "output_type": "stream",
     "text": [
      "/Users/danbryce/Documents/sift/xplan/external/xplan/xplan-to-autoprotocol-reactor/xplan-dev-env/xplan-dev-env/lib/python3.7/site-packages/pandas/core/indexing.py:480: SettingWithCopyWarning: \n",
      "A value is trying to be set on a copy of a slice from a DataFrame.\n",
      "Try using .loc[row_indexer,col_indexer] = value instead\n",
      "\n",
      "See the caveats in the documentation: http://pandas.pydata.org/pandas-docs/stable/user_guide/indexing.html#returning-a-view-versus-a-copy\n",
      "  self.obj[item] = s\n"
     ]
    },
    {
     "name": "stdout",
     "output_type": "stream",
     "text": [
      "['FSC-A', 'SSC-A', 'BL1-A', 'RL1-A', 'FSC-H', 'SSC-H', 'BL1-H', 'RL1-H', 'FSC-W', 'SSC-W', 'BL1-W', 'RL1-W']\n"
     ]
    },
    {
     "name": "stderr",
     "output_type": "stream",
     "text": [
      "/Users/danbryce/Documents/sift/xplan/external/xplan/xplan-to-autoprotocol-reactor/xplan-dev-env/xplan-dev-env/lib/python3.7/site-packages/pandas/core/indexing.py:362: SettingWithCopyWarning: \n",
      "A value is trying to be set on a copy of a slice from a DataFrame.\n",
      "Try using .loc[row_indexer,col_indexer] = value instead\n",
      "\n",
      "See the caveats in the documentation: http://pandas.pydata.org/pandas-docs/stable/user_guide/indexing.html#returning-a-view-versus-a-copy\n",
      "  self.obj[key] = _infer_fill_value(value)\n"
     ]
    },
    {
     "name": "stdout",
     "output_type": "stream",
     "text": [
      "\n",
      "<harness.test_harness_class.TestHarness object at 0x12b2fe668>\n",
      "----------------------------------------------------------------------------------------------------\n",
      "Starting run at time 15:45:42\n",
      "Normalizing training and testing splits...\n",
      "Starting Classification training...\n",
      "Training time was: 45.93 seconds\n",
      "Testing time was: 0.76 seconds\n",
      "Prediction time of untested data was: 11.92351508140564\n",
      "\n",
      "          Run ID        Date      Time                    Model Name Model Author Num Classes  Accuracy  Balanced Accuracy  AUC Score  Average Precision  F1 Score  Precision  Recall Samples In Train Samples In Test                                                                                      Model Description Column Predicted Num Features Used                                                                                                                                           Data and Split Description Normalized Num Features Normalized Feature Extraction Was Untested Data Predicted\n",
      "0  6dL9DkeaOmlAW  2019-10-04  15:45:42  random_forest_classification  Hamed        2           0.998     0.998              1.0        1.0                0.998     0.998      0.998   187250           46813           Random Forest: n_estimators=361, max_features=auto, criterion=entropy, min_samples_leaf=13, n_jobs=-1  class_label      12                {'experiment_id': 'r1dmsrursbqwuz', 'random_state': 0, 'live_volume': 0, 'dead_volume': 1120.0, 'stain': 'SYTOX Red Stain', 'prediction': True, 'time_point': '12'}  True       12                      False              True                      \n",
      "\n",
      "Run finished at 15:46:48. Total run time = 65.92 seconds\n",
      "^^^^^^^^^^^^^^^^^^^^^^^^^^^^^^^^^^^^^^^^^^^^^^^^^^^^^^^^^^^^^^^^^^^^^^^^^^^^^^^^^^^^^^^^^^^^^^^^^^^^\n",
      "\n",
      "\n",
      "\n",
      "\n",
      "output_col: live\n",
      "nan\n",
      "{'experiment_id': 'r1dmsrursbqwuz', 'random_state': 0, 'live_volume': 0, 'dead_volume': 1120.0, 'stain': nan, 'prediction': True, 'time_point': '12'}\n",
      "data_columns: ['Unnamed: 0', 'checksum', 'filename', 'kill', 'kill_volume', 'stain', 'well', 'experiment_id', 'Time', 'FSC-A', 'SSC-A', 'BL1-A', 'RL1-A', 'FSC-H', 'SSC-H', 'BL1-H', 'RL1-H', 'FSC-W', 'SSC-W', 'BL1-W', 'RL1-W']\n"
     ]
    },
    {
     "name": "stderr",
     "output_type": "stream",
     "text": [
      "/Users/danbryce/Documents/sift/xplan/external/xplan/xplan-to-autoprotocol-reactor/xplan-dev-env/xplan-dev-env/lib/python3.7/site-packages/pandas/core/indexing.py:480: SettingWithCopyWarning: \n",
      "A value is trying to be set on a copy of a slice from a DataFrame.\n",
      "Try using .loc[row_indexer,col_indexer] = value instead\n",
      "\n",
      "See the caveats in the documentation: http://pandas.pydata.org/pandas-docs/stable/user_guide/indexing.html#returning-a-view-versus-a-copy\n",
      "  self.obj[item] = s\n"
     ]
    },
    {
     "name": "stdout",
     "output_type": "stream",
     "text": [
      "['FSC-A', 'SSC-A', 'BL1-A', 'RL1-A', 'FSC-H', 'SSC-H', 'BL1-H', 'RL1-H', 'FSC-W', 'SSC-W', 'BL1-W', 'RL1-W']\n"
     ]
    },
    {
     "name": "stderr",
     "output_type": "stream",
     "text": [
      "/Users/danbryce/Documents/sift/xplan/external/xplan/xplan-to-autoprotocol-reactor/xplan-dev-env/xplan-dev-env/lib/python3.7/site-packages/pandas/core/indexing.py:362: SettingWithCopyWarning: \n",
      "A value is trying to be set on a copy of a slice from a DataFrame.\n",
      "Try using .loc[row_indexer,col_indexer] = value instead\n",
      "\n",
      "See the caveats in the documentation: http://pandas.pydata.org/pandas-docs/stable/user_guide/indexing.html#returning-a-view-versus-a-copy\n",
      "  self.obj[key] = _infer_fill_value(value)\n"
     ]
    },
    {
     "name": "stdout",
     "output_type": "stream",
     "text": [
      "\n",
      "<harness.test_harness_class.TestHarness object at 0x12e44da90>\n",
      "----------------------------------------------------------------------------------------------------\n",
      "Starting run at time 15:46:55\n",
      "Normalizing training and testing splits...\n",
      "Starting Classification training...\n",
      "Training time was: 33.81 seconds\n",
      "Testing time was: 0.64 seconds\n",
      "Prediction time of untested data was: 10.062743663787842\n",
      "\n",
      "          Run ID        Date      Time                    Model Name Model Author Num Classes  Accuracy  Balanced Accuracy  AUC Score  Average Precision  F1 Score  Precision  Recall Samples In Train Samples In Test                                                                                      Model Description Column Predicted Num Features Used                                                                                                                             Data and Split Description Normalized Num Features Normalized Feature Extraction Was Untested Data Predicted\n",
      "0  52vPXLXpvGaEb  2019-10-04  15:46:55  random_forest_classification  Hamed        2           0.998     0.998              1.0        1.0                0.998     0.998      0.998   152980           38246           Random Forest: n_estimators=361, max_features=auto, criterion=entropy, min_samples_leaf=13, n_jobs=-1  class_label      12                {'experiment_id': 'r1dmsrursbqwuz', 'random_state': 0, 'live_volume': 0, 'dead_volume': 1120.0, 'stain': nan, 'prediction': True, 'time_point': '12'}  True       12                      False              True                      \n",
      "\n",
      "Run finished at 15:47:47. Total run time = 51.87 seconds\n",
      "^^^^^^^^^^^^^^^^^^^^^^^^^^^^^^^^^^^^^^^^^^^^^^^^^^^^^^^^^^^^^^^^^^^^^^^^^^^^^^^^^^^^^^^^^^^^^^^^^^^^\n",
      "\n",
      "\n",
      "\n",
      "\n",
      "output_col: live\n"
     ]
    },
    {
     "name": "stderr",
     "output_type": "stream",
     "text": [
      "/Users/danbryce/Documents/sift/xplan/external/xplan/xplan-to-autoprotocol-reactor/xplan-dev-env/xplan-dev-env/lib/python3.7/site-packages/IPython/core/interactiveshell.py:3249: DtypeWarning: Columns (5) have mixed types. Specify dtype option on import or set low_memory=False.\n",
      "  if (await self.run_code(code, result,  async_=asy)):\n"
     ]
    },
    {
     "name": "stdout",
     "output_type": "stream",
     "text": [
      "output_col: live\n",
      "SYTOX Red Stain\n",
      "{'experiment_id': 'r1dmsrursbqwuz', 'random_state': 0, 'live_volume': 0, 'dead_volume': 1120.0, 'stain': 'SYTOX Red Stain', 'prediction': True, 'time_point': '1'}\n",
      "data_columns: ['Unnamed: 0', 'checksum', 'filename', 'kill', 'kill_volume', 'stain', 'well', 'experiment_id', 'Time', 'FSC-A', 'SSC-A', 'BL1-A', 'RL1-A', 'FSC-H', 'SSC-H', 'BL1-H', 'RL1-H', 'FSC-W', 'SSC-W', 'BL1-W', 'RL1-W']\n"
     ]
    },
    {
     "name": "stderr",
     "output_type": "stream",
     "text": [
      "/Users/danbryce/Documents/sift/xplan/external/xplan/xplan-to-autoprotocol-reactor/xplan-dev-env/xplan-dev-env/lib/python3.7/site-packages/pandas/core/indexing.py:480: SettingWithCopyWarning: \n",
      "A value is trying to be set on a copy of a slice from a DataFrame.\n",
      "Try using .loc[row_indexer,col_indexer] = value instead\n",
      "\n",
      "See the caveats in the documentation: http://pandas.pydata.org/pandas-docs/stable/user_guide/indexing.html#returning-a-view-versus-a-copy\n",
      "  self.obj[item] = s\n"
     ]
    },
    {
     "name": "stdout",
     "output_type": "stream",
     "text": [
      "['FSC-A', 'SSC-A', 'BL1-A', 'RL1-A', 'FSC-H', 'SSC-H', 'BL1-H', 'RL1-H', 'FSC-W', 'SSC-W', 'BL1-W', 'RL1-W']\n"
     ]
    },
    {
     "name": "stderr",
     "output_type": "stream",
     "text": [
      "/Users/danbryce/Documents/sift/xplan/external/xplan/xplan-to-autoprotocol-reactor/xplan-dev-env/xplan-dev-env/lib/python3.7/site-packages/pandas/core/indexing.py:362: SettingWithCopyWarning: \n",
      "A value is trying to be set on a copy of a slice from a DataFrame.\n",
      "Try using .loc[row_indexer,col_indexer] = value instead\n",
      "\n",
      "See the caveats in the documentation: http://pandas.pydata.org/pandas-docs/stable/user_guide/indexing.html#returning-a-view-versus-a-copy\n",
      "  self.obj[key] = _infer_fill_value(value)\n"
     ]
    },
    {
     "name": "stdout",
     "output_type": "stream",
     "text": [
      "\n",
      "<harness.test_harness_class.TestHarness object at 0x1b15900b8>\n",
      "----------------------------------------------------------------------------------------------------\n",
      "Starting run at time 15:48:34\n",
      "Normalizing training and testing splits...\n",
      "Starting Classification training...\n",
      "Training time was: 49.67 seconds\n",
      "Testing time was: 1.07 seconds\n",
      "Prediction time of untested data was: 11.832204818725586\n",
      "\n",
      "          Run ID        Date      Time                    Model Name Model Author Num Classes  Accuracy  Balanced Accuracy  AUC Score  Average Precision  F1 Score  Precision  Recall Samples In Train Samples In Test                                                                                      Model Description Column Predicted Num Features Used                                                                                                                                          Data and Split Description Normalized Num Features Normalized Feature Extraction Was Untested Data Predicted\n",
      "0  EMMwjRVVzjQ7A  2019-10-04  15:48:34  random_forest_classification  Hamed        2           0.998     0.998              1.0        1.0                0.998     0.998      0.998   187250           46813           Random Forest: n_estimators=361, max_features=auto, criterion=entropy, min_samples_leaf=13, n_jobs=-1  class_label      12                {'experiment_id': 'r1dmsrursbqwuz', 'random_state': 0, 'live_volume': 0, 'dead_volume': 1120.0, 'stain': 'SYTOX Red Stain', 'prediction': True, 'time_point': '1'}  True       12                      False              True                      \n",
      "\n",
      "Run finished at 15:49:45. Total run time = 71.05 seconds\n",
      "^^^^^^^^^^^^^^^^^^^^^^^^^^^^^^^^^^^^^^^^^^^^^^^^^^^^^^^^^^^^^^^^^^^^^^^^^^^^^^^^^^^^^^^^^^^^^^^^^^^^\n",
      "\n",
      "\n",
      "\n",
      "\n",
      "output_col: live\n",
      "nan\n",
      "{'experiment_id': 'r1dmsrursbqwuz', 'random_state': 0, 'live_volume': 0, 'dead_volume': 1120.0, 'stain': nan, 'prediction': True, 'time_point': '1'}\n",
      "data_columns: ['Unnamed: 0', 'checksum', 'filename', 'kill', 'kill_volume', 'stain', 'well', 'experiment_id', 'Time', 'FSC-A', 'SSC-A', 'BL1-A', 'RL1-A', 'FSC-H', 'SSC-H', 'BL1-H', 'RL1-H', 'FSC-W', 'SSC-W', 'BL1-W', 'RL1-W']\n"
     ]
    },
    {
     "name": "stderr",
     "output_type": "stream",
     "text": [
      "/Users/danbryce/Documents/sift/xplan/external/xplan/xplan-to-autoprotocol-reactor/xplan-dev-env/xplan-dev-env/lib/python3.7/site-packages/pandas/core/indexing.py:480: SettingWithCopyWarning: \n",
      "A value is trying to be set on a copy of a slice from a DataFrame.\n",
      "Try using .loc[row_indexer,col_indexer] = value instead\n",
      "\n",
      "See the caveats in the documentation: http://pandas.pydata.org/pandas-docs/stable/user_guide/indexing.html#returning-a-view-versus-a-copy\n",
      "  self.obj[item] = s\n"
     ]
    },
    {
     "name": "stdout",
     "output_type": "stream",
     "text": [
      "['FSC-A', 'SSC-A', 'BL1-A', 'RL1-A', 'FSC-H', 'SSC-H', 'BL1-H', 'RL1-H', 'FSC-W', 'SSC-W', 'BL1-W', 'RL1-W']\n"
     ]
    },
    {
     "name": "stderr",
     "output_type": "stream",
     "text": [
      "/Users/danbryce/Documents/sift/xplan/external/xplan/xplan-to-autoprotocol-reactor/xplan-dev-env/xplan-dev-env/lib/python3.7/site-packages/pandas/core/indexing.py:362: SettingWithCopyWarning: \n",
      "A value is trying to be set on a copy of a slice from a DataFrame.\n",
      "Try using .loc[row_indexer,col_indexer] = value instead\n",
      "\n",
      "See the caveats in the documentation: http://pandas.pydata.org/pandas-docs/stable/user_guide/indexing.html#returning-a-view-versus-a-copy\n",
      "  self.obj[key] = _infer_fill_value(value)\n"
     ]
    },
    {
     "name": "stdout",
     "output_type": "stream",
     "text": [
      "\n",
      "<harness.test_harness_class.TestHarness object at 0x1b1591080>\n",
      "----------------------------------------------------------------------------------------------------\n",
      "Starting run at time 15:49:53\n",
      "Normalizing training and testing splits...\n",
      "Starting Classification training...\n",
      "Training time was: 36.33 seconds\n",
      "Testing time was: 0.86 seconds\n",
      "Prediction time of untested data was: 11.957029104232788\n",
      "\n",
      "          Run ID        Date      Time                    Model Name Model Author Num Classes  Accuracy  Balanced Accuracy  AUC Score  Average Precision  F1 Score  Precision  Recall Samples In Train Samples In Test                                                                                      Model Description Column Predicted Num Features Used                                                                                                                            Data and Split Description Normalized Num Features Normalized Feature Extraction Was Untested Data Predicted\n",
      "0  azVymDvpaqDwd  2019-10-04  15:49:53  random_forest_classification  Hamed        2           0.998     0.998              1.0        1.0                0.998     0.998      0.998   152980           38246           Random Forest: n_estimators=361, max_features=auto, criterion=entropy, min_samples_leaf=13, n_jobs=-1  class_label      12                {'experiment_id': 'r1dmsrursbqwuz', 'random_state': 0, 'live_volume': 0, 'dead_volume': 1120.0, 'stain': nan, 'prediction': True, 'time_point': '1'}  True       12                      False              True                      \n",
      "\n",
      "Run finished at 15:50:52. Total run time = 59.56 seconds\n",
      "^^^^^^^^^^^^^^^^^^^^^^^^^^^^^^^^^^^^^^^^^^^^^^^^^^^^^^^^^^^^^^^^^^^^^^^^^^^^^^^^^^^^^^^^^^^^^^^^^^^^\n",
      "\n",
      "\n",
      "\n",
      "\n",
      "output_col: live\n"
     ]
    },
    {
     "name": "stderr",
     "output_type": "stream",
     "text": [
      "/Users/danbryce/Documents/sift/xplan/external/xplan/xplan-to-autoprotocol-reactor/xplan-dev-env/xplan-dev-env/lib/python3.7/site-packages/IPython/core/interactiveshell.py:3249: DtypeWarning: Columns (5) have mixed types. Specify dtype option on import or set low_memory=False.\n",
      "  if (await self.run_code(code, result,  async_=asy)):\n"
     ]
    },
    {
     "name": "stdout",
     "output_type": "stream",
     "text": [
      "output_col: live\n",
      "nan\n",
      "{'experiment_id': 'r1dmsrursbqwuz', 'random_state': 0, 'live_volume': 0, 'dead_volume': 1120.0, 'stain': nan, 'prediction': True, 'time_point': '4'}\n",
      "data_columns: ['Unnamed: 0', 'checksum', 'filename', 'kill', 'kill_volume', 'stain', 'well', 'experiment_id', 'Time', 'FSC-A', 'SSC-A', 'BL1-A', 'RL1-A', 'FSC-H', 'SSC-H', 'BL1-H', 'RL1-H', 'FSC-W', 'SSC-W', 'BL1-W', 'RL1-W']\n"
     ]
    },
    {
     "name": "stderr",
     "output_type": "stream",
     "text": [
      "/Users/danbryce/Documents/sift/xplan/external/xplan/xplan-to-autoprotocol-reactor/xplan-dev-env/xplan-dev-env/lib/python3.7/site-packages/pandas/core/indexing.py:480: SettingWithCopyWarning: \n",
      "A value is trying to be set on a copy of a slice from a DataFrame.\n",
      "Try using .loc[row_indexer,col_indexer] = value instead\n",
      "\n",
      "See the caveats in the documentation: http://pandas.pydata.org/pandas-docs/stable/user_guide/indexing.html#returning-a-view-versus-a-copy\n",
      "  self.obj[item] = s\n"
     ]
    },
    {
     "name": "stdout",
     "output_type": "stream",
     "text": [
      "['FSC-A', 'SSC-A', 'BL1-A', 'RL1-A', 'FSC-H', 'SSC-H', 'BL1-H', 'RL1-H', 'FSC-W', 'SSC-W', 'BL1-W', 'RL1-W']\n"
     ]
    },
    {
     "name": "stderr",
     "output_type": "stream",
     "text": [
      "/Users/danbryce/Documents/sift/xplan/external/xplan/xplan-to-autoprotocol-reactor/xplan-dev-env/xplan-dev-env/lib/python3.7/site-packages/pandas/core/indexing.py:362: SettingWithCopyWarning: \n",
      "A value is trying to be set on a copy of a slice from a DataFrame.\n",
      "Try using .loc[row_indexer,col_indexer] = value instead\n",
      "\n",
      "See the caveats in the documentation: http://pandas.pydata.org/pandas-docs/stable/user_guide/indexing.html#returning-a-view-versus-a-copy\n",
      "  self.obj[key] = _infer_fill_value(value)\n"
     ]
    },
    {
     "name": "stdout",
     "output_type": "stream",
     "text": [
      "\n",
      "<harness.test_harness_class.TestHarness object at 0x18d5841d0>\n",
      "----------------------------------------------------------------------------------------------------\n",
      "Starting run at time 15:51:37\n",
      "Normalizing training and testing splits...\n",
      "Starting Classification training...\n",
      "Training time was: 10.41 seconds\n",
      "Testing time was: 0.74 seconds\n",
      "Prediction time of untested data was: 9.247972249984741\n",
      "\n",
      "          Run ID        Date      Time                    Model Name Model Author Num Classes  Accuracy  Balanced Accuracy  AUC Score  Average Precision  F1 Score  Precision  Recall Samples In Train Samples In Test                                                                                      Model Description Column Predicted Num Features Used                                                                                                                            Data and Split Description Normalized Num Features Normalized Feature Extraction Was Untested Data Predicted\n",
      "0  aWoJNL5GLapqb  2019-10-04  15:51:37  random_forest_classification  Hamed        2           0.994     0.99               1.0        0.997              0.972     0.96       0.984   106722           26681           Random Forest: n_estimators=361, max_features=auto, criterion=entropy, min_samples_leaf=13, n_jobs=-1  class_label      12                {'experiment_id': 'r1dmsrursbqwuz', 'random_state': 0, 'live_volume': 0, 'dead_volume': 1120.0, 'stain': nan, 'prediction': True, 'time_point': '4'}  True       12                      False              True                      \n",
      "\n",
      "Run finished at 15:52:04. Total run time = 27.31 seconds\n",
      "^^^^^^^^^^^^^^^^^^^^^^^^^^^^^^^^^^^^^^^^^^^^^^^^^^^^^^^^^^^^^^^^^^^^^^^^^^^^^^^^^^^^^^^^^^^^^^^^^^^^\n",
      "\n",
      "\n",
      "\n",
      "\n",
      "output_col: live\n",
      "SYTOX Red Stain\n",
      "{'experiment_id': 'r1dmsrursbqwuz', 'random_state': 0, 'live_volume': 0, 'dead_volume': 1120.0, 'stain': 'SYTOX Red Stain', 'prediction': True, 'time_point': '4'}\n",
      "data_columns: ['Unnamed: 0', 'checksum', 'filename', 'kill', 'kill_volume', 'stain', 'well', 'experiment_id', 'Time', 'FSC-A', 'SSC-A', 'BL1-A', 'RL1-A', 'FSC-H', 'SSC-H', 'BL1-H', 'RL1-H', 'FSC-W', 'SSC-W', 'BL1-W', 'RL1-W']\n"
     ]
    },
    {
     "name": "stderr",
     "output_type": "stream",
     "text": [
      "/Users/danbryce/Documents/sift/xplan/external/xplan/xplan-to-autoprotocol-reactor/xplan-dev-env/xplan-dev-env/lib/python3.7/site-packages/pandas/core/indexing.py:480: SettingWithCopyWarning: \n",
      "A value is trying to be set on a copy of a slice from a DataFrame.\n",
      "Try using .loc[row_indexer,col_indexer] = value instead\n",
      "\n",
      "See the caveats in the documentation: http://pandas.pydata.org/pandas-docs/stable/user_guide/indexing.html#returning-a-view-versus-a-copy\n",
      "  self.obj[item] = s\n"
     ]
    },
    {
     "name": "stdout",
     "output_type": "stream",
     "text": [
      "['FSC-A', 'SSC-A', 'BL1-A', 'RL1-A', 'FSC-H', 'SSC-H', 'BL1-H', 'RL1-H', 'FSC-W', 'SSC-W', 'BL1-W', 'RL1-W']\n"
     ]
    },
    {
     "name": "stderr",
     "output_type": "stream",
     "text": [
      "/Users/danbryce/Documents/sift/xplan/external/xplan/xplan-to-autoprotocol-reactor/xplan-dev-env/xplan-dev-env/lib/python3.7/site-packages/pandas/core/indexing.py:362: SettingWithCopyWarning: \n",
      "A value is trying to be set on a copy of a slice from a DataFrame.\n",
      "Try using .loc[row_indexer,col_indexer] = value instead\n",
      "\n",
      "See the caveats in the documentation: http://pandas.pydata.org/pandas-docs/stable/user_guide/indexing.html#returning-a-view-versus-a-copy\n",
      "  self.obj[key] = _infer_fill_value(value)\n"
     ]
    },
    {
     "name": "stdout",
     "output_type": "stream",
     "text": [
      "\n",
      "<harness.test_harness_class.TestHarness object at 0x18d584358>\n",
      "----------------------------------------------------------------------------------------------------\n",
      "Starting run at time 15:52:12\n",
      "Normalizing training and testing splits...\n",
      "Starting Classification training...\n",
      "Training time was: 33.21 seconds\n",
      "Testing time was: 0.66 seconds\n",
      "Prediction time of untested data was: 11.990102052688599\n",
      "\n",
      "          Run ID        Date      Time                    Model Name Model Author Num Classes  Accuracy  Balanced Accuracy  AUC Score  Average Precision  F1 Score  Precision  Recall Samples In Train Samples In Test                                                                                      Model Description Column Predicted Num Features Used                                                                                                                                          Data and Split Description Normalized Num Features Normalized Feature Extraction Was Untested Data Predicted\n",
      "0  aYVNyw1rBLRQV  2019-10-04  15:52:12  random_forest_classification  Hamed        2           0.999     0.999              1.0        1.0                0.999     0.999      0.998   170668           42668           Random Forest: n_estimators=361, max_features=auto, criterion=entropy, min_samples_leaf=13, n_jobs=-1  class_label      12                {'experiment_id': 'r1dmsrursbqwuz', 'random_state': 0, 'live_volume': 0, 'dead_volume': 1120.0, 'stain': 'SYTOX Red Stain', 'prediction': True, 'time_point': '4'}  True       12                      False              True                      \n",
      "\n",
      "Run finished at 15:53:06. Total run time = 54.01 seconds\n",
      "^^^^^^^^^^^^^^^^^^^^^^^^^^^^^^^^^^^^^^^^^^^^^^^^^^^^^^^^^^^^^^^^^^^^^^^^^^^^^^^^^^^^^^^^^^^^^^^^^^^^\n",
      "\n",
      "\n",
      "\n",
      "\n",
      "output_col: live\n"
     ]
    },
    {
     "name": "stderr",
     "output_type": "stream",
     "text": [
      "/Users/danbryce/Documents/sift/xplan/external/xplan/xplan-to-autoprotocol-reactor/xplan-dev-env/xplan-dev-env/lib/python3.7/site-packages/IPython/core/interactiveshell.py:3249: DtypeWarning: Columns (5) have mixed types. Specify dtype option on import or set low_memory=False.\n",
      "  if (await self.run_code(code, result,  async_=asy)):\n"
     ]
    },
    {
     "name": "stdout",
     "output_type": "stream",
     "text": [
      "output_col: live\n",
      "nan\n",
      "{'experiment_id': 'r1dmsrursbqwuz', 'random_state': 0, 'live_volume': 0, 'dead_volume': 1120.0, 'stain': nan, 'prediction': True, 'time_point': '5'}\n",
      "data_columns: ['Unnamed: 0', 'checksum', 'filename', 'kill', 'kill_volume', 'stain', 'well', 'experiment_id', 'Time', 'FSC-A', 'SSC-A', 'BL1-A', 'RL1-A', 'FSC-H', 'SSC-H', 'BL1-H', 'RL1-H', 'FSC-W', 'SSC-W', 'BL1-W', 'RL1-W']\n"
     ]
    },
    {
     "name": "stderr",
     "output_type": "stream",
     "text": [
      "/Users/danbryce/Documents/sift/xplan/external/xplan/xplan-to-autoprotocol-reactor/xplan-dev-env/xplan-dev-env/lib/python3.7/site-packages/pandas/core/indexing.py:480: SettingWithCopyWarning: \n",
      "A value is trying to be set on a copy of a slice from a DataFrame.\n",
      "Try using .loc[row_indexer,col_indexer] = value instead\n",
      "\n",
      "See the caveats in the documentation: http://pandas.pydata.org/pandas-docs/stable/user_guide/indexing.html#returning-a-view-versus-a-copy\n",
      "  self.obj[item] = s\n"
     ]
    },
    {
     "name": "stdout",
     "output_type": "stream",
     "text": [
      "['FSC-A', 'SSC-A', 'BL1-A', 'RL1-A', 'FSC-H', 'SSC-H', 'BL1-H', 'RL1-H', 'FSC-W', 'SSC-W', 'BL1-W', 'RL1-W']\n"
     ]
    },
    {
     "name": "stderr",
     "output_type": "stream",
     "text": [
      "/Users/danbryce/Documents/sift/xplan/external/xplan/xplan-to-autoprotocol-reactor/xplan-dev-env/xplan-dev-env/lib/python3.7/site-packages/pandas/core/indexing.py:362: SettingWithCopyWarning: \n",
      "A value is trying to be set on a copy of a slice from a DataFrame.\n",
      "Try using .loc[row_indexer,col_indexer] = value instead\n",
      "\n",
      "See the caveats in the documentation: http://pandas.pydata.org/pandas-docs/stable/user_guide/indexing.html#returning-a-view-versus-a-copy\n",
      "  self.obj[key] = _infer_fill_value(value)\n"
     ]
    },
    {
     "name": "stdout",
     "output_type": "stream",
     "text": [
      "\n",
      "<harness.test_harness_class.TestHarness object at 0x1cde2de10>\n",
      "----------------------------------------------------------------------------------------------------\n",
      "Starting run at time 15:53:48\n",
      "Normalizing training and testing splits...\n",
      "Starting Classification training...\n",
      "Training time was: 13.64 seconds\n",
      "Testing time was: 0.54 seconds\n",
      "Prediction time of untested data was: 10.917396068572998\n",
      "\n",
      "         Run ID        Date      Time                    Model Name Model Author Num Classes  Accuracy  Balanced Accuracy  AUC Score  Average Precision  F1 Score  Precision  Recall Samples In Train Samples In Test                                                                                      Model Description Column Predicted Num Features Used                                                                                                                            Data and Split Description Normalized Num Features Normalized Feature Extraction Was Untested Data Predicted\n",
      "0  5A8wGLDPY58M  2019-10-04  15:53:48  random_forest_classification  Hamed        2           0.997     0.994              1.0        0.999              0.99      0.989      0.99    77790            19448           Random Forest: n_estimators=361, max_features=auto, criterion=entropy, min_samples_leaf=13, n_jobs=-1  class_label      12                {'experiment_id': 'r1dmsrursbqwuz', 'random_state': 0, 'live_volume': 0, 'dead_volume': 1120.0, 'stain': nan, 'prediction': True, 'time_point': '5'}  True       12                      False              True                      \n",
      "\n",
      "Run finished at 15:54:20. Total run time = 32.15 seconds\n",
      "^^^^^^^^^^^^^^^^^^^^^^^^^^^^^^^^^^^^^^^^^^^^^^^^^^^^^^^^^^^^^^^^^^^^^^^^^^^^^^^^^^^^^^^^^^^^^^^^^^^^\n",
      "\n",
      "\n",
      "\n",
      "\n",
      "output_col: live\n",
      "SYTOX Red Stain\n",
      "{'experiment_id': 'r1dmsrursbqwuz', 'random_state': 0, 'live_volume': 0, 'dead_volume': 1120.0, 'stain': 'SYTOX Red Stain', 'prediction': True, 'time_point': '5'}\n",
      "data_columns: ['Unnamed: 0', 'checksum', 'filename', 'kill', 'kill_volume', 'stain', 'well', 'experiment_id', 'Time', 'FSC-A', 'SSC-A', 'BL1-A', 'RL1-A', 'FSC-H', 'SSC-H', 'BL1-H', 'RL1-H', 'FSC-W', 'SSC-W', 'BL1-W', 'RL1-W']\n"
     ]
    },
    {
     "name": "stderr",
     "output_type": "stream",
     "text": [
      "/Users/danbryce/Documents/sift/xplan/external/xplan/xplan-to-autoprotocol-reactor/xplan-dev-env/xplan-dev-env/lib/python3.7/site-packages/pandas/core/indexing.py:480: SettingWithCopyWarning: \n",
      "A value is trying to be set on a copy of a slice from a DataFrame.\n",
      "Try using .loc[row_indexer,col_indexer] = value instead\n",
      "\n",
      "See the caveats in the documentation: http://pandas.pydata.org/pandas-docs/stable/user_guide/indexing.html#returning-a-view-versus-a-copy\n",
      "  self.obj[item] = s\n"
     ]
    },
    {
     "name": "stdout",
     "output_type": "stream",
     "text": [
      "['FSC-A', 'SSC-A', 'BL1-A', 'RL1-A', 'FSC-H', 'SSC-H', 'BL1-H', 'RL1-H', 'FSC-W', 'SSC-W', 'BL1-W', 'RL1-W']\n"
     ]
    },
    {
     "name": "stderr",
     "output_type": "stream",
     "text": [
      "/Users/danbryce/Documents/sift/xplan/external/xplan/xplan-to-autoprotocol-reactor/xplan-dev-env/xplan-dev-env/lib/python3.7/site-packages/pandas/core/indexing.py:362: SettingWithCopyWarning: \n",
      "A value is trying to be set on a copy of a slice from a DataFrame.\n",
      "Try using .loc[row_indexer,col_indexer] = value instead\n",
      "\n",
      "See the caveats in the documentation: http://pandas.pydata.org/pandas-docs/stable/user_guide/indexing.html#returning-a-view-versus-a-copy\n",
      "  self.obj[key] = _infer_fill_value(value)\n"
     ]
    },
    {
     "name": "stdout",
     "output_type": "stream",
     "text": [
      "\n",
      "<harness.test_harness_class.TestHarness object at 0x21e5be1d0>\n",
      "----------------------------------------------------------------------------------------------------\n",
      "Starting run at time 15:54:28\n",
      "Normalizing training and testing splits...\n",
      "Starting Classification training...\n",
      "Training time was: 33.82 seconds\n",
      "Testing time was: 0.86 seconds\n",
      "Prediction time of untested data was: 10.286362171173096\n",
      "\n",
      "          Run ID        Date      Time                    Model Name Model Author Num Classes  Accuracy  Balanced Accuracy  AUC Score  Average Precision  F1 Score  Precision  Recall Samples In Train Samples In Test                                                                                      Model Description Column Predicted Num Features Used                                                                                                                                          Data and Split Description Normalized Num Features Normalized Feature Extraction Was Untested Data Predicted\n",
      "0  EQ1qjYkrPqq9A  2019-10-04  15:54:28  random_forest_classification  Hamed        2           0.997     0.997              1.0        1.0                0.997     0.998      0.996   152783           38196           Random Forest: n_estimators=361, max_features=auto, criterion=entropy, min_samples_leaf=13, n_jobs=-1  class_label      12                {'experiment_id': 'r1dmsrursbqwuz', 'random_state': 0, 'live_volume': 0, 'dead_volume': 1120.0, 'stain': 'SYTOX Red Stain', 'prediction': True, 'time_point': '5'}  True       12                      False              True                      \n",
      "\n",
      "Run finished at 15:55:20. Total run time = 52.26 seconds\n",
      "^^^^^^^^^^^^^^^^^^^^^^^^^^^^^^^^^^^^^^^^^^^^^^^^^^^^^^^^^^^^^^^^^^^^^^^^^^^^^^^^^^^^^^^^^^^^^^^^^^^^\n",
      "\n",
      "\n",
      "\n",
      "\n",
      "output_col: live\n"
     ]
    },
    {
     "name": "stderr",
     "output_type": "stream",
     "text": [
      "/Users/danbryce/Documents/sift/xplan/external/xplan/xplan-to-autoprotocol-reactor/xplan-dev-env/xplan-dev-env/lib/python3.7/site-packages/IPython/core/interactiveshell.py:3249: DtypeWarning: Columns (5) have mixed types. Specify dtype option on import or set low_memory=False.\n",
      "  if (await self.run_code(code, result,  async_=asy)):\n"
     ]
    },
    {
     "name": "stdout",
     "output_type": "stream",
     "text": [
      "output_col: live\n",
      "nan\n",
      "{'experiment_id': 'r1dmsrursbqwuz', 'random_state': 0, 'live_volume': 0, 'dead_volume': 1120.0, 'stain': nan, 'prediction': True, 'time_point': '7'}\n",
      "data_columns: ['Unnamed: 0', 'checksum', 'filename', 'kill', 'kill_volume', 'stain', 'well', 'experiment_id', 'Time', 'FSC-A', 'SSC-A', 'BL1-A', 'RL1-A', 'FSC-H', 'SSC-H', 'BL1-H', 'RL1-H', 'FSC-W', 'SSC-W', 'BL1-W', 'RL1-W']\n"
     ]
    },
    {
     "name": "stderr",
     "output_type": "stream",
     "text": [
      "/Users/danbryce/Documents/sift/xplan/external/xplan/xplan-to-autoprotocol-reactor/xplan-dev-env/xplan-dev-env/lib/python3.7/site-packages/pandas/core/indexing.py:480: SettingWithCopyWarning: \n",
      "A value is trying to be set on a copy of a slice from a DataFrame.\n",
      "Try using .loc[row_indexer,col_indexer] = value instead\n",
      "\n",
      "See the caveats in the documentation: http://pandas.pydata.org/pandas-docs/stable/user_guide/indexing.html#returning-a-view-versus-a-copy\n",
      "  self.obj[item] = s\n"
     ]
    },
    {
     "name": "stdout",
     "output_type": "stream",
     "text": [
      "['FSC-A', 'SSC-A', 'BL1-A', 'RL1-A', 'FSC-H', 'SSC-H', 'BL1-H', 'RL1-H', 'FSC-W', 'SSC-W', 'BL1-W', 'RL1-W']\n"
     ]
    },
    {
     "name": "stderr",
     "output_type": "stream",
     "text": [
      "/Users/danbryce/Documents/sift/xplan/external/xplan/xplan-to-autoprotocol-reactor/xplan-dev-env/xplan-dev-env/lib/python3.7/site-packages/pandas/core/indexing.py:362: SettingWithCopyWarning: \n",
      "A value is trying to be set on a copy of a slice from a DataFrame.\n",
      "Try using .loc[row_indexer,col_indexer] = value instead\n",
      "\n",
      "See the caveats in the documentation: http://pandas.pydata.org/pandas-docs/stable/user_guide/indexing.html#returning-a-view-versus-a-copy\n",
      "  self.obj[key] = _infer_fill_value(value)\n"
     ]
    },
    {
     "name": "stdout",
     "output_type": "stream",
     "text": [
      "\n",
      "<harness.test_harness_class.TestHarness object at 0x24666eb70>\n",
      "----------------------------------------------------------------------------------------------------\n",
      "Starting run at time 15:55:58\n",
      "Normalizing training and testing splits...\n",
      "Starting Classification training...\n",
      "Training time was: 18.89 seconds\n",
      "Testing time was: 0.75 seconds\n",
      "Prediction time of untested data was: 11.748023986816406\n",
      "\n",
      "          Run ID        Date      Time                    Model Name Model Author Num Classes  Accuracy  Balanced Accuracy  AUC Score  Average Precision  F1 Score  Precision  Recall Samples In Train Samples In Test                                                                                      Model Description Column Predicted Num Features Used                                                                                                                            Data and Split Description Normalized Num Features Normalized Feature Extraction Was Untested Data Predicted\n",
      "0  55Lqkrm6Mp65G  2019-10-04  15:55:58  random_forest_classification  Hamed        2           0.997     0.996              1.0        1.0                0.995     0.996      0.993   110109           27528           Random Forest: n_estimators=361, max_features=auto, criterion=entropy, min_samples_leaf=13, n_jobs=-1  class_label      12                {'experiment_id': 'r1dmsrursbqwuz', 'random_state': 0, 'live_volume': 0, 'dead_volume': 1120.0, 'stain': nan, 'prediction': True, 'time_point': '7'}  True       12                      False              True                      \n",
      "\n",
      "Run finished at 15:56:37. Total run time = 39.08 seconds\n",
      "^^^^^^^^^^^^^^^^^^^^^^^^^^^^^^^^^^^^^^^^^^^^^^^^^^^^^^^^^^^^^^^^^^^^^^^^^^^^^^^^^^^^^^^^^^^^^^^^^^^^\n",
      "\n",
      "\n",
      "\n",
      "\n",
      "output_col: live\n",
      "SYTOX Red Stain\n",
      "{'experiment_id': 'r1dmsrursbqwuz', 'random_state': 0, 'live_volume': 0, 'dead_volume': 1120.0, 'stain': 'SYTOX Red Stain', 'prediction': True, 'time_point': '7'}\n",
      "data_columns: ['Unnamed: 0', 'checksum', 'filename', 'kill', 'kill_volume', 'stain', 'well', 'experiment_id', 'Time', 'FSC-A', 'SSC-A', 'BL1-A', 'RL1-A', 'FSC-H', 'SSC-H', 'BL1-H', 'RL1-H', 'FSC-W', 'SSC-W', 'BL1-W', 'RL1-W']\n"
     ]
    },
    {
     "name": "stderr",
     "output_type": "stream",
     "text": [
      "/Users/danbryce/Documents/sift/xplan/external/xplan/xplan-to-autoprotocol-reactor/xplan-dev-env/xplan-dev-env/lib/python3.7/site-packages/pandas/core/indexing.py:480: SettingWithCopyWarning: \n",
      "A value is trying to be set on a copy of a slice from a DataFrame.\n",
      "Try using .loc[row_indexer,col_indexer] = value instead\n",
      "\n",
      "See the caveats in the documentation: http://pandas.pydata.org/pandas-docs/stable/user_guide/indexing.html#returning-a-view-versus-a-copy\n",
      "  self.obj[item] = s\n"
     ]
    },
    {
     "name": "stdout",
     "output_type": "stream",
     "text": [
      "['FSC-A', 'SSC-A', 'BL1-A', 'RL1-A', 'FSC-H', 'SSC-H', 'BL1-H', 'RL1-H', 'FSC-W', 'SSC-W', 'BL1-W', 'RL1-W']\n"
     ]
    },
    {
     "name": "stderr",
     "output_type": "stream",
     "text": [
      "/Users/danbryce/Documents/sift/xplan/external/xplan/xplan-to-autoprotocol-reactor/xplan-dev-env/xplan-dev-env/lib/python3.7/site-packages/pandas/core/indexing.py:362: SettingWithCopyWarning: \n",
      "A value is trying to be set on a copy of a slice from a DataFrame.\n",
      "Try using .loc[row_indexer,col_indexer] = value instead\n",
      "\n",
      "See the caveats in the documentation: http://pandas.pydata.org/pandas-docs/stable/user_guide/indexing.html#returning-a-view-versus-a-copy\n",
      "  self.obj[key] = _infer_fill_value(value)\n"
     ]
    },
    {
     "name": "stdout",
     "output_type": "stream",
     "text": [
      "\n",
      "<harness.test_harness_class.TestHarness object at 0x24666eac8>\n",
      "----------------------------------------------------------------------------------------------------\n",
      "Starting run at time 15:56:47\n",
      "Normalizing training and testing splits...\n",
      "Starting Classification training...\n",
      "Training time was: 40.15 seconds\n",
      "Testing time was: 0.86 seconds\n",
      "Prediction time of untested data was: 11.637897968292236\n",
      "\n",
      "          Run ID        Date      Time                    Model Name Model Author Num Classes  Accuracy  Balanced Accuracy  AUC Score  Average Precision  F1 Score  Precision  Recall Samples In Train Samples In Test                                                                                      Model Description Column Predicted Num Features Used                                                                                                                                          Data and Split Description Normalized Num Features Normalized Feature Extraction Was Untested Data Predicted\n",
      "0  QR1lZQo29ewrk  2019-10-04  15:56:47  random_forest_classification  Hamed        2           0.996     0.996              1.0        1.0                0.996     0.997      0.995   176279           44070           Random Forest: n_estimators=361, max_features=auto, criterion=entropy, min_samples_leaf=13, n_jobs=-1  class_label      12                {'experiment_id': 'r1dmsrursbqwuz', 'random_state': 0, 'live_volume': 0, 'dead_volume': 1120.0, 'stain': 'SYTOX Red Stain', 'prediction': True, 'time_point': '7'}  True       12                      False              True                      \n",
      "\n",
      "Run finished at 15:57:48. Total run time = 60.98 seconds\n",
      "^^^^^^^^^^^^^^^^^^^^^^^^^^^^^^^^^^^^^^^^^^^^^^^^^^^^^^^^^^^^^^^^^^^^^^^^^^^^^^^^^^^^^^^^^^^^^^^^^^^^\n",
      "\n",
      "\n",
      "\n",
      "\n",
      "output_col: live\n"
     ]
    },
    {
     "name": "stderr",
     "output_type": "stream",
     "text": [
      "/Users/danbryce/Documents/sift/xplan/external/xplan/xplan-to-autoprotocol-reactor/xplan-dev-env/xplan-dev-env/lib/python3.7/site-packages/IPython/core/interactiveshell.py:3249: DtypeWarning: Columns (5) have mixed types. Specify dtype option on import or set low_memory=False.\n",
      "  if (await self.run_code(code, result,  async_=asy)):\n"
     ]
    },
    {
     "name": "stdout",
     "output_type": "stream",
     "text": [
      "output_col: live\n",
      "SYTOX Red Stain\n",
      "{'experiment_id': 'r1dmsrursbqwuz', 'random_state': 0, 'live_volume': 0, 'dead_volume': 1120.0, 'stain': 'SYTOX Red Stain', 'prediction': True, 'time_point': '8'}\n",
      "data_columns: ['Unnamed: 0', 'checksum', 'filename', 'kill', 'kill_volume', 'stain', 'well', 'experiment_id', 'Time', 'FSC-A', 'SSC-A', 'BL1-A', 'RL1-A', 'FSC-H', 'SSC-H', 'BL1-H', 'RL1-H', 'FSC-W', 'SSC-W', 'BL1-W', 'RL1-W']\n"
     ]
    },
    {
     "name": "stderr",
     "output_type": "stream",
     "text": [
      "/Users/danbryce/Documents/sift/xplan/external/xplan/xplan-to-autoprotocol-reactor/xplan-dev-env/xplan-dev-env/lib/python3.7/site-packages/pandas/core/indexing.py:480: SettingWithCopyWarning: \n",
      "A value is trying to be set on a copy of a slice from a DataFrame.\n",
      "Try using .loc[row_indexer,col_indexer] = value instead\n",
      "\n",
      "See the caveats in the documentation: http://pandas.pydata.org/pandas-docs/stable/user_guide/indexing.html#returning-a-view-versus-a-copy\n",
      "  self.obj[item] = s\n"
     ]
    },
    {
     "name": "stdout",
     "output_type": "stream",
     "text": [
      "['FSC-A', 'SSC-A', 'BL1-A', 'RL1-A', 'FSC-H', 'SSC-H', 'BL1-H', 'RL1-H', 'FSC-W', 'SSC-W', 'BL1-W', 'RL1-W']\n"
     ]
    },
    {
     "name": "stderr",
     "output_type": "stream",
     "text": [
      "/Users/danbryce/Documents/sift/xplan/external/xplan/xplan-to-autoprotocol-reactor/xplan-dev-env/xplan-dev-env/lib/python3.7/site-packages/pandas/core/indexing.py:362: SettingWithCopyWarning: \n",
      "A value is trying to be set on a copy of a slice from a DataFrame.\n",
      "Try using .loc[row_indexer,col_indexer] = value instead\n",
      "\n",
      "See the caveats in the documentation: http://pandas.pydata.org/pandas-docs/stable/user_guide/indexing.html#returning-a-view-versus-a-copy\n",
      "  self.obj[key] = _infer_fill_value(value)\n"
     ]
    },
    {
     "name": "stdout",
     "output_type": "stream",
     "text": [
      "\n",
      "<harness.test_harness_class.TestHarness object at 0x2f926add8>\n",
      "----------------------------------------------------------------------------------------------------\n",
      "Starting run at time 15:58:29\n",
      "Normalizing training and testing splits...\n",
      "Starting Classification training...\n",
      "Training time was: 51.65 seconds\n",
      "Testing time was: 1.07 seconds\n",
      "Prediction time of untested data was: 13.716655969619751\n",
      "\n",
      "          Run ID        Date      Time                    Model Name Model Author Num Classes  Accuracy  Balanced Accuracy  AUC Score  Average Precision  F1 Score  Precision  Recall Samples In Train Samples In Test                                                                                      Model Description Column Predicted Num Features Used                                                                                                                                          Data and Split Description Normalized Num Features Normalized Feature Extraction Was Untested Data Predicted\n",
      "0  59J18Le1YN5MG  2019-10-04  15:58:29  random_forest_classification  Hamed        2           0.996     0.996              1.0        1.0                0.996     0.996      0.996   175403           43851           Random Forest: n_estimators=361, max_features=auto, criterion=entropy, min_samples_leaf=13, n_jobs=-1  class_label      12                {'experiment_id': 'r1dmsrursbqwuz', 'random_state': 0, 'live_volume': 0, 'dead_volume': 1120.0, 'stain': 'SYTOX Red Stain', 'prediction': True, 'time_point': '8'}  True       12                      False              True                      \n",
      "\n",
      "Run finished at 15:59:44. Total run time = 74.91 seconds\n",
      "^^^^^^^^^^^^^^^^^^^^^^^^^^^^^^^^^^^^^^^^^^^^^^^^^^^^^^^^^^^^^^^^^^^^^^^^^^^^^^^^^^^^^^^^^^^^^^^^^^^^\n",
      "\n",
      "\n",
      "\n",
      "\n",
      "output_col: live\n",
      "nan\n",
      "{'experiment_id': 'r1dmsrursbqwuz', 'random_state': 0, 'live_volume': 0, 'dead_volume': 1120.0, 'stain': nan, 'prediction': True, 'time_point': '8'}\n",
      "data_columns: ['Unnamed: 0', 'checksum', 'filename', 'kill', 'kill_volume', 'stain', 'well', 'experiment_id', 'Time', 'FSC-A', 'SSC-A', 'BL1-A', 'RL1-A', 'FSC-H', 'SSC-H', 'BL1-H', 'RL1-H', 'FSC-W', 'SSC-W', 'BL1-W', 'RL1-W']\n"
     ]
    },
    {
     "name": "stderr",
     "output_type": "stream",
     "text": [
      "/Users/danbryce/Documents/sift/xplan/external/xplan/xplan-to-autoprotocol-reactor/xplan-dev-env/xplan-dev-env/lib/python3.7/site-packages/pandas/core/indexing.py:480: SettingWithCopyWarning: \n",
      "A value is trying to be set on a copy of a slice from a DataFrame.\n",
      "Try using .loc[row_indexer,col_indexer] = value instead\n",
      "\n",
      "See the caveats in the documentation: http://pandas.pydata.org/pandas-docs/stable/user_guide/indexing.html#returning-a-view-versus-a-copy\n",
      "  self.obj[item] = s\n"
     ]
    },
    {
     "name": "stdout",
     "output_type": "stream",
     "text": [
      "['FSC-A', 'SSC-A', 'BL1-A', 'RL1-A', 'FSC-H', 'SSC-H', 'BL1-H', 'RL1-H', 'FSC-W', 'SSC-W', 'BL1-W', 'RL1-W']\n"
     ]
    },
    {
     "name": "stderr",
     "output_type": "stream",
     "text": [
      "/Users/danbryce/Documents/sift/xplan/external/xplan/xplan-to-autoprotocol-reactor/xplan-dev-env/xplan-dev-env/lib/python3.7/site-packages/pandas/core/indexing.py:362: SettingWithCopyWarning: \n",
      "A value is trying to be set on a copy of a slice from a DataFrame.\n",
      "Try using .loc[row_indexer,col_indexer] = value instead\n",
      "\n",
      "See the caveats in the documentation: http://pandas.pydata.org/pandas-docs/stable/user_guide/indexing.html#returning-a-view-versus-a-copy\n",
      "  self.obj[key] = _infer_fill_value(value)\n"
     ]
    },
    {
     "name": "stdout",
     "output_type": "stream",
     "text": [
      "\n",
      "<harness.test_harness_class.TestHarness object at 0x21e7190b8>\n",
      "----------------------------------------------------------------------------------------------------\n",
      "Starting run at time 15:59:50\n",
      "Normalizing training and testing splits...\n",
      "Starting Classification training...\n",
      "Training time was: 22.71 seconds\n",
      "Testing time was: 0.65 seconds\n",
      "Prediction time of untested data was: 8.722136735916138\n",
      "\n",
      "          Run ID        Date      Time                    Model Name Model Author Num Classes  Accuracy  Balanced Accuracy  AUC Score  Average Precision  F1 Score  Precision  Recall Samples In Train Samples In Test                                                                                      Model Description Column Predicted Num Features Used                                                                                                                            Data and Split Description Normalized Num Features Normalized Feature Extraction Was Untested Data Predicted\n",
      "0  5MPBbPboZEdP5  2019-10-04  15:59:50  random_forest_classification  Hamed        2           0.996     0.996              1.0        1.0                0.996     0.997      0.994   123216           30804           Random Forest: n_estimators=361, max_features=auto, criterion=entropy, min_samples_leaf=13, n_jobs=-1  class_label      12                {'experiment_id': 'r1dmsrursbqwuz', 'random_state': 0, 'live_volume': 0, 'dead_volume': 1120.0, 'stain': nan, 'prediction': True, 'time_point': '8'}  True       12                      False              True                      \n",
      "\n",
      "Run finished at 16:00:29. Total run time = 38.35 seconds\n",
      "^^^^^^^^^^^^^^^^^^^^^^^^^^^^^^^^^^^^^^^^^^^^^^^^^^^^^^^^^^^^^^^^^^^^^^^^^^^^^^^^^^^^^^^^^^^^^^^^^^^^\n",
      "\n",
      "\n",
      "\n",
      "\n",
      "output_col: live\n"
     ]
    },
    {
     "name": "stderr",
     "output_type": "stream",
     "text": [
      "/Users/danbryce/Documents/sift/xplan/external/xplan/xplan-to-autoprotocol-reactor/xplan-dev-env/xplan-dev-env/lib/python3.7/site-packages/IPython/core/interactiveshell.py:3249: DtypeWarning: Columns (5) have mixed types. Specify dtype option on import or set low_memory=False.\n",
      "  if (await self.run_code(code, result,  async_=asy)):\n"
     ]
    },
    {
     "name": "stdout",
     "output_type": "stream",
     "text": [
      "output_col: live\n",
      "SYTOX Red Stain\n",
      "{'experiment_id': 'r1dmsrursbqwuz', 'random_state': 0, 'live_volume': 0, 'dead_volume': 1120.0, 'stain': 'SYTOX Red Stain', 'prediction': True, 'time_point': '9'}\n",
      "data_columns: ['Unnamed: 0', 'checksum', 'filename', 'kill', 'kill_volume', 'stain', 'well', 'experiment_id', 'Time', 'FSC-A', 'SSC-A', 'BL1-A', 'RL1-A', 'FSC-H', 'SSC-H', 'BL1-H', 'RL1-H', 'FSC-W', 'SSC-W', 'BL1-W', 'RL1-W']\n"
     ]
    },
    {
     "name": "stderr",
     "output_type": "stream",
     "text": [
      "/Users/danbryce/Documents/sift/xplan/external/xplan/xplan-to-autoprotocol-reactor/xplan-dev-env/xplan-dev-env/lib/python3.7/site-packages/pandas/core/indexing.py:480: SettingWithCopyWarning: \n",
      "A value is trying to be set on a copy of a slice from a DataFrame.\n",
      "Try using .loc[row_indexer,col_indexer] = value instead\n",
      "\n",
      "See the caveats in the documentation: http://pandas.pydata.org/pandas-docs/stable/user_guide/indexing.html#returning-a-view-versus-a-copy\n",
      "  self.obj[item] = s\n"
     ]
    },
    {
     "name": "stdout",
     "output_type": "stream",
     "text": [
      "['FSC-A', 'SSC-A', 'BL1-A', 'RL1-A', 'FSC-H', 'SSC-H', 'BL1-H', 'RL1-H', 'FSC-W', 'SSC-W', 'BL1-W', 'RL1-W']\n"
     ]
    },
    {
     "name": "stderr",
     "output_type": "stream",
     "text": [
      "/Users/danbryce/Documents/sift/xplan/external/xplan/xplan-to-autoprotocol-reactor/xplan-dev-env/xplan-dev-env/lib/python3.7/site-packages/pandas/core/indexing.py:362: SettingWithCopyWarning: \n",
      "A value is trying to be set on a copy of a slice from a DataFrame.\n",
      "Try using .loc[row_indexer,col_indexer] = value instead\n",
      "\n",
      "See the caveats in the documentation: http://pandas.pydata.org/pandas-docs/stable/user_guide/indexing.html#returning-a-view-versus-a-copy\n",
      "  self.obj[key] = _infer_fill_value(value)\n"
     ]
    },
    {
     "name": "stdout",
     "output_type": "stream",
     "text": [
      "\n",
      "<harness.test_harness_class.TestHarness object at 0x39d011400>\n",
      "----------------------------------------------------------------------------------------------------\n",
      "Starting run at time 16:01:06\n",
      "Normalizing training and testing splits...\n",
      "Starting Classification training...\n",
      "Training time was: 38.49 seconds\n",
      "Testing time was: 1.06 seconds\n",
      "Prediction time of untested data was: 10.83742380142212\n",
      "\n",
      "          Run ID        Date      Time                    Model Name Model Author Num Classes  Accuracy  Balanced Accuracy  AUC Score  Average Precision  F1 Score  Precision  Recall Samples In Train Samples In Test                                                                                      Model Description Column Predicted Num Features Used                                                                                                                                          Data and Split Description Normalized Num Features Normalized Feature Extraction Was Untested Data Predicted\n",
      "0  QoPWDPrkr32PP  2019-10-04  16:01:06  random_forest_classification  Hamed        2           0.997     0.997              1.0        1.0                0.997     0.997      0.997   179501           44876           Random Forest: n_estimators=361, max_features=auto, criterion=entropy, min_samples_leaf=13, n_jobs=-1  class_label      12                {'experiment_id': 'r1dmsrursbqwuz', 'random_state': 0, 'live_volume': 0, 'dead_volume': 1120.0, 'stain': 'SYTOX Red Stain', 'prediction': True, 'time_point': '9'}  True       12                      False              True                      \n",
      "\n",
      "Run finished at 16:02:04. Total run time = 57.77 seconds\n",
      "^^^^^^^^^^^^^^^^^^^^^^^^^^^^^^^^^^^^^^^^^^^^^^^^^^^^^^^^^^^^^^^^^^^^^^^^^^^^^^^^^^^^^^^^^^^^^^^^^^^^\n",
      "\n",
      "\n",
      "\n",
      "\n",
      "output_col: live\n",
      "nan\n",
      "{'experiment_id': 'r1dmsrursbqwuz', 'random_state': 0, 'live_volume': 0, 'dead_volume': 1120.0, 'stain': nan, 'prediction': True, 'time_point': '9'}\n",
      "data_columns: ['Unnamed: 0', 'checksum', 'filename', 'kill', 'kill_volume', 'stain', 'well', 'experiment_id', 'Time', 'FSC-A', 'SSC-A', 'BL1-A', 'RL1-A', 'FSC-H', 'SSC-H', 'BL1-H', 'RL1-H', 'FSC-W', 'SSC-W', 'BL1-W', 'RL1-W']\n"
     ]
    },
    {
     "name": "stderr",
     "output_type": "stream",
     "text": [
      "/Users/danbryce/Documents/sift/xplan/external/xplan/xplan-to-autoprotocol-reactor/xplan-dev-env/xplan-dev-env/lib/python3.7/site-packages/pandas/core/indexing.py:480: SettingWithCopyWarning: \n",
      "A value is trying to be set on a copy of a slice from a DataFrame.\n",
      "Try using .loc[row_indexer,col_indexer] = value instead\n",
      "\n",
      "See the caveats in the documentation: http://pandas.pydata.org/pandas-docs/stable/user_guide/indexing.html#returning-a-view-versus-a-copy\n",
      "  self.obj[item] = s\n"
     ]
    },
    {
     "name": "stdout",
     "output_type": "stream",
     "text": [
      "['FSC-A', 'SSC-A', 'BL1-A', 'RL1-A', 'FSC-H', 'SSC-H', 'BL1-H', 'RL1-H', 'FSC-W', 'SSC-W', 'BL1-W', 'RL1-W']\n"
     ]
    },
    {
     "name": "stderr",
     "output_type": "stream",
     "text": [
      "/Users/danbryce/Documents/sift/xplan/external/xplan/xplan-to-autoprotocol-reactor/xplan-dev-env/xplan-dev-env/lib/python3.7/site-packages/pandas/core/indexing.py:362: SettingWithCopyWarning: \n",
      "A value is trying to be set on a copy of a slice from a DataFrame.\n",
      "Try using .loc[row_indexer,col_indexer] = value instead\n",
      "\n",
      "See the caveats in the documentation: http://pandas.pydata.org/pandas-docs/stable/user_guide/indexing.html#returning-a-view-versus-a-copy\n",
      "  self.obj[key] = _infer_fill_value(value)\n"
     ]
    },
    {
     "name": "stdout",
     "output_type": "stream",
     "text": [
      "\n",
      "<harness.test_harness_class.TestHarness object at 0x39d011128>\n",
      "----------------------------------------------------------------------------------------------------\n",
      "Starting run at time 16:02:11\n",
      "Normalizing training and testing splits...\n",
      "Starting Classification training...\n",
      "Training time was: 25.21 seconds\n",
      "Testing time was: 0.65 seconds\n",
      "Prediction time of untested data was: 8.934257745742798\n",
      "\n",
      "          Run ID        Date      Time                    Model Name Model Author Num Classes  Accuracy  Balanced Accuracy  AUC Score  Average Precision  F1 Score  Precision  Recall Samples In Train Samples In Test                                                                                      Model Description Column Predicted Num Features Used                                                                                                                            Data and Split Description Normalized Num Features Normalized Feature Extraction Was Untested Data Predicted\n",
      "0  EmlOgvk3WOaGJ  2019-10-04  16:02:11  random_forest_classification  Hamed        2           0.998     0.998              1.0        1.0                0.997     0.998      0.997   144785           36197           Random Forest: n_estimators=361, max_features=auto, criterion=entropy, min_samples_leaf=13, n_jobs=-1  class_label      12                {'experiment_id': 'r1dmsrursbqwuz', 'random_state': 0, 'live_volume': 0, 'dead_volume': 1120.0, 'stain': nan, 'prediction': True, 'time_point': '9'}  True       12                      False              True                      \n",
      "\n",
      "Run finished at 16:02:53. Total run time = 42.20 seconds\n",
      "^^^^^^^^^^^^^^^^^^^^^^^^^^^^^^^^^^^^^^^^^^^^^^^^^^^^^^^^^^^^^^^^^^^^^^^^^^^^^^^^^^^^^^^^^^^^^^^^^^^^\n",
      "\n",
      "\n",
      "\n",
      "\n",
      "output_col: live\n"
     ]
    },
    {
     "name": "stderr",
     "output_type": "stream",
     "text": [
      "/Users/danbryce/Documents/sift/xplan/external/xplan/xplan-to-autoprotocol-reactor/xplan-dev-env/xplan-dev-env/lib/python3.7/site-packages/IPython/core/interactiveshell.py:3249: DtypeWarning: Columns (5) have mixed types. Specify dtype option on import or set low_memory=False.\n",
      "  if (await self.run_code(code, result,  async_=asy)):\n"
     ]
    },
    {
     "name": "stdout",
     "output_type": "stream",
     "text": [
      "output_col: live\n",
      "nan\n",
      "{'experiment_id': 'r1dmsrursbqwuz', 'random_state': 0, 'live_volume': 0, 'dead_volume': 1120.0, 'stain': nan, 'prediction': True, 'time_point': '11'}\n",
      "data_columns: ['Unnamed: 0', 'checksum', 'filename', 'kill', 'kill_volume', 'stain', 'well', 'experiment_id', 'Time', 'FSC-A', 'SSC-A', 'BL1-A', 'RL1-A', 'FSC-H', 'SSC-H', 'BL1-H', 'RL1-H', 'FSC-W', 'SSC-W', 'BL1-W', 'RL1-W']\n"
     ]
    },
    {
     "name": "stderr",
     "output_type": "stream",
     "text": [
      "/Users/danbryce/Documents/sift/xplan/external/xplan/xplan-to-autoprotocol-reactor/xplan-dev-env/xplan-dev-env/lib/python3.7/site-packages/pandas/core/indexing.py:480: SettingWithCopyWarning: \n",
      "A value is trying to be set on a copy of a slice from a DataFrame.\n",
      "Try using .loc[row_indexer,col_indexer] = value instead\n",
      "\n",
      "See the caveats in the documentation: http://pandas.pydata.org/pandas-docs/stable/user_guide/indexing.html#returning-a-view-versus-a-copy\n",
      "  self.obj[item] = s\n"
     ]
    },
    {
     "name": "stdout",
     "output_type": "stream",
     "text": [
      "['FSC-A', 'SSC-A', 'BL1-A', 'RL1-A', 'FSC-H', 'SSC-H', 'BL1-H', 'RL1-H', 'FSC-W', 'SSC-W', 'BL1-W', 'RL1-W']\n"
     ]
    },
    {
     "name": "stderr",
     "output_type": "stream",
     "text": [
      "/Users/danbryce/Documents/sift/xplan/external/xplan/xplan-to-autoprotocol-reactor/xplan-dev-env/xplan-dev-env/lib/python3.7/site-packages/pandas/core/indexing.py:362: SettingWithCopyWarning: \n",
      "A value is trying to be set on a copy of a slice from a DataFrame.\n",
      "Try using .loc[row_indexer,col_indexer] = value instead\n",
      "\n",
      "See the caveats in the documentation: http://pandas.pydata.org/pandas-docs/stable/user_guide/indexing.html#returning-a-view-versus-a-copy\n",
      "  self.obj[key] = _infer_fill_value(value)\n"
     ]
    },
    {
     "name": "stdout",
     "output_type": "stream",
     "text": [
      "\n",
      "<harness.test_harness_class.TestHarness object at 0x439a3ba20>\n",
      "----------------------------------------------------------------------------------------------------\n",
      "Starting run at time 16:03:38\n",
      "Normalizing training and testing splits...\n",
      "Starting Classification training...\n",
      "Training time was: 27.45 seconds\n",
      "Testing time was: 0.65 seconds\n",
      "Prediction time of untested data was: 9.033454656600952\n",
      "\n",
      "          Run ID        Date      Time                    Model Name Model Author Num Classes  Accuracy  Balanced Accuracy  AUC Score  Average Precision  F1 Score  Precision  Recall Samples In Train Samples In Test                                                                                      Model Description Column Predicted Num Features Used                                                                                                                             Data and Split Description Normalized Num Features Normalized Feature Extraction Was Untested Data Predicted\n",
      "0  5RDAv2kAQy3l5  2019-10-04  16:03:38  random_forest_classification  Hamed        2           0.997     0.997              1.0        1.0                0.997     0.999      0.996   152644           38162           Random Forest: n_estimators=361, max_features=auto, criterion=entropy, min_samples_leaf=13, n_jobs=-1  class_label      12                {'experiment_id': 'r1dmsrursbqwuz', 'random_state': 0, 'live_volume': 0, 'dead_volume': 1120.0, 'stain': nan, 'prediction': True, 'time_point': '11'}  True       12                      False              True                      \n",
      "\n",
      "Run finished at 16:04:21. Total run time = 43.61 seconds\n",
      "^^^^^^^^^^^^^^^^^^^^^^^^^^^^^^^^^^^^^^^^^^^^^^^^^^^^^^^^^^^^^^^^^^^^^^^^^^^^^^^^^^^^^^^^^^^^^^^^^^^^\n",
      "\n",
      "\n",
      "\n",
      "\n",
      "output_col: live\n",
      "SYTOX Red Stain\n",
      "{'experiment_id': 'r1dmsrursbqwuz', 'random_state': 0, 'live_volume': 0, 'dead_volume': 1120.0, 'stain': 'SYTOX Red Stain', 'prediction': True, 'time_point': '11'}\n",
      "data_columns: ['Unnamed: 0', 'checksum', 'filename', 'kill', 'kill_volume', 'stain', 'well', 'experiment_id', 'Time', 'FSC-A', 'SSC-A', 'BL1-A', 'RL1-A', 'FSC-H', 'SSC-H', 'BL1-H', 'RL1-H', 'FSC-W', 'SSC-W', 'BL1-W', 'RL1-W']\n"
     ]
    },
    {
     "name": "stderr",
     "output_type": "stream",
     "text": [
      "/Users/danbryce/Documents/sift/xplan/external/xplan/xplan-to-autoprotocol-reactor/xplan-dev-env/xplan-dev-env/lib/python3.7/site-packages/pandas/core/indexing.py:480: SettingWithCopyWarning: \n",
      "A value is trying to be set on a copy of a slice from a DataFrame.\n",
      "Try using .loc[row_indexer,col_indexer] = value instead\n",
      "\n",
      "See the caveats in the documentation: http://pandas.pydata.org/pandas-docs/stable/user_guide/indexing.html#returning-a-view-versus-a-copy\n",
      "  self.obj[item] = s\n"
     ]
    },
    {
     "name": "stdout",
     "output_type": "stream",
     "text": [
      "['FSC-A', 'SSC-A', 'BL1-A', 'RL1-A', 'FSC-H', 'SSC-H', 'BL1-H', 'RL1-H', 'FSC-W', 'SSC-W', 'BL1-W', 'RL1-W']\n"
     ]
    },
    {
     "name": "stderr",
     "output_type": "stream",
     "text": [
      "/Users/danbryce/Documents/sift/xplan/external/xplan/xplan-to-autoprotocol-reactor/xplan-dev-env/xplan-dev-env/lib/python3.7/site-packages/pandas/core/indexing.py:362: SettingWithCopyWarning: \n",
      "A value is trying to be set on a copy of a slice from a DataFrame.\n",
      "Try using .loc[row_indexer,col_indexer] = value instead\n",
      "\n",
      "See the caveats in the documentation: http://pandas.pydata.org/pandas-docs/stable/user_guide/indexing.html#returning-a-view-versus-a-copy\n",
      "  self.obj[key] = _infer_fill_value(value)\n"
     ]
    },
    {
     "name": "stdout",
     "output_type": "stream",
     "text": [
      "\n",
      "<harness.test_harness_class.TestHarness object at 0x2148c3d30>\n",
      "----------------------------------------------------------------------------------------------------\n",
      "Starting run at time 16:04:28\n",
      "Normalizing training and testing splits...\n",
      "Starting Classification training...\n",
      "Training time was: 37.99 seconds\n",
      "Testing time was: 0.85 seconds\n",
      "Prediction time of untested data was: 9.698435068130493\n",
      "\n",
      "          Run ID        Date      Time                    Model Name Model Author Num Classes  Accuracy  Balanced Accuracy  AUC Score  Average Precision  F1 Score  Precision  Recall Samples In Train Samples In Test                                                                                      Model Description Column Predicted Num Features Used                                                                                                                                           Data and Split Description Normalized Num Features Normalized Feature Extraction Was Untested Data Predicted\n",
      "0  EN7Me6JvJV9EA  2019-10-04  16:04:28  random_forest_classification  Hamed        2           0.997     0.997              1.0        1.0                0.997     0.997      0.997   187052           46764           Random Forest: n_estimators=361, max_features=auto, criterion=entropy, min_samples_leaf=13, n_jobs=-1  class_label      12                {'experiment_id': 'r1dmsrursbqwuz', 'random_state': 0, 'live_volume': 0, 'dead_volume': 1120.0, 'stain': 'SYTOX Red Stain', 'prediction': True, 'time_point': '11'}  True       12                      False              True                      \n",
      "\n",
      "Run finished at 16:05:24. Total run time = 55.34 seconds\n",
      "^^^^^^^^^^^^^^^^^^^^^^^^^^^^^^^^^^^^^^^^^^^^^^^^^^^^^^^^^^^^^^^^^^^^^^^^^^^^^^^^^^^^^^^^^^^^^^^^^^^^\n",
      "\n",
      "\n",
      "\n",
      "\n",
      "output_col: live\n"
     ]
    },
    {
     "name": "stderr",
     "output_type": "stream",
     "text": [
      "/Users/danbryce/Documents/sift/xplan/external/xplan/xplan-to-autoprotocol-reactor/xplan-dev-env/xplan-dev-env/lib/python3.7/site-packages/IPython/core/interactiveshell.py:3249: DtypeWarning: Columns (5) have mixed types. Specify dtype option on import or set low_memory=False.\n",
      "  if (await self.run_code(code, result,  async_=asy)):\n"
     ]
    },
    {
     "name": "stdout",
     "output_type": "stream",
     "text": [
      "output_col: live\n",
      "nan\n",
      "{'experiment_id': 'r1dmsrursbqwuz', 'random_state': 0, 'live_volume': 0, 'dead_volume': 1120.0, 'stain': nan, 'prediction': True, 'time_point': '2'}\n",
      "data_columns: ['Unnamed: 0', 'checksum', 'filename', 'kill', 'kill_volume', 'stain', 'well', 'experiment_id', 'Time', 'FSC-A', 'SSC-A', 'BL1-A', 'RL1-A', 'FSC-H', 'SSC-H', 'BL1-H', 'RL1-H', 'FSC-W', 'SSC-W', 'BL1-W', 'RL1-W']\n"
     ]
    },
    {
     "name": "stderr",
     "output_type": "stream",
     "text": [
      "/Users/danbryce/Documents/sift/xplan/external/xplan/xplan-to-autoprotocol-reactor/xplan-dev-env/xplan-dev-env/lib/python3.7/site-packages/pandas/core/indexing.py:480: SettingWithCopyWarning: \n",
      "A value is trying to be set on a copy of a slice from a DataFrame.\n",
      "Try using .loc[row_indexer,col_indexer] = value instead\n",
      "\n",
      "See the caveats in the documentation: http://pandas.pydata.org/pandas-docs/stable/user_guide/indexing.html#returning-a-view-versus-a-copy\n",
      "  self.obj[item] = s\n"
     ]
    },
    {
     "name": "stdout",
     "output_type": "stream",
     "text": [
      "['FSC-A', 'SSC-A', 'BL1-A', 'RL1-A', 'FSC-H', 'SSC-H', 'BL1-H', 'RL1-H', 'FSC-W', 'SSC-W', 'BL1-W', 'RL1-W']\n",
      "\n",
      "<harness.test_harness_class.TestHarness object at 0x1386eeb70>\n"
     ]
    },
    {
     "name": "stderr",
     "output_type": "stream",
     "text": [
      "/Users/danbryce/Documents/sift/xplan/external/xplan/xplan-to-autoprotocol-reactor/xplan-dev-env/xplan-dev-env/lib/python3.7/site-packages/pandas/core/indexing.py:362: SettingWithCopyWarning: \n",
      "A value is trying to be set on a copy of a slice from a DataFrame.\n",
      "Try using .loc[row_indexer,col_indexer] = value instead\n",
      "\n",
      "See the caveats in the documentation: http://pandas.pydata.org/pandas-docs/stable/user_guide/indexing.html#returning-a-view-versus-a-copy\n",
      "  self.obj[key] = _infer_fill_value(value)\n"
     ]
    },
    {
     "name": "stdout",
     "output_type": "stream",
     "text": [
      "----------------------------------------------------------------------------------------------------\n",
      "Starting run at time 16:05:59\n",
      "Normalizing training and testing splits...\n",
      "Starting Classification training...\n",
      "Training time was: 14.67 seconds\n",
      "Testing time was: 0.63 seconds\n",
      "Prediction time of untested data was: 8.9564208984375\n",
      "\n",
      "          Run ID        Date      Time                    Model Name Model Author Num Classes  Accuracy  Balanced Accuracy  AUC Score  Average Precision  F1 Score  Precision  Recall Samples In Train Samples In Test                                                                                      Model Description Column Predicted Num Features Used                                                                                                                            Data and Split Description Normalized Num Features Normalized Feature Extraction Was Untested Data Predicted\n",
      "0  59j3VpAV61avr  2019-10-04  16:05:59  random_forest_classification  Hamed        2           0.981     0.976              0.995      0.97               0.905     0.848      0.969   100319           25080           Random Forest: n_estimators=361, max_features=auto, criterion=entropy, min_samples_leaf=13, n_jobs=-1  class_label      12                {'experiment_id': 'r1dmsrursbqwuz', 'random_state': 0, 'live_volume': 0, 'dead_volume': 1120.0, 'stain': nan, 'prediction': True, 'time_point': '2'}  True       12                      False              True                      \n",
      "\n",
      "Run finished at 16:06:28. Total run time = 29.80 seconds\n",
      "^^^^^^^^^^^^^^^^^^^^^^^^^^^^^^^^^^^^^^^^^^^^^^^^^^^^^^^^^^^^^^^^^^^^^^^^^^^^^^^^^^^^^^^^^^^^^^^^^^^^\n",
      "\n",
      "\n",
      "\n",
      "\n",
      "output_col: live\n",
      "SYTOX Red Stain\n",
      "{'experiment_id': 'r1dmsrursbqwuz', 'random_state': 0, 'live_volume': 0, 'dead_volume': 1120.0, 'stain': 'SYTOX Red Stain', 'prediction': True, 'time_point': '2'}\n",
      "data_columns: ['Unnamed: 0', 'checksum', 'filename', 'kill', 'kill_volume', 'stain', 'well', 'experiment_id', 'Time', 'FSC-A', 'SSC-A', 'BL1-A', 'RL1-A', 'FSC-H', 'SSC-H', 'BL1-H', 'RL1-H', 'FSC-W', 'SSC-W', 'BL1-W', 'RL1-W']\n"
     ]
    },
    {
     "name": "stderr",
     "output_type": "stream",
     "text": [
      "/Users/danbryce/Documents/sift/xplan/external/xplan/xplan-to-autoprotocol-reactor/xplan-dev-env/xplan-dev-env/lib/python3.7/site-packages/pandas/core/indexing.py:480: SettingWithCopyWarning: \n",
      "A value is trying to be set on a copy of a slice from a DataFrame.\n",
      "Try using .loc[row_indexer,col_indexer] = value instead\n",
      "\n",
      "See the caveats in the documentation: http://pandas.pydata.org/pandas-docs/stable/user_guide/indexing.html#returning-a-view-versus-a-copy\n",
      "  self.obj[item] = s\n"
     ]
    },
    {
     "name": "stdout",
     "output_type": "stream",
     "text": [
      "['FSC-A', 'SSC-A', 'BL1-A', 'RL1-A', 'FSC-H', 'SSC-H', 'BL1-H', 'RL1-H', 'FSC-W', 'SSC-W', 'BL1-W', 'RL1-W']\n"
     ]
    },
    {
     "name": "stderr",
     "output_type": "stream",
     "text": [
      "/Users/danbryce/Documents/sift/xplan/external/xplan/xplan-to-autoprotocol-reactor/xplan-dev-env/xplan-dev-env/lib/python3.7/site-packages/pandas/core/indexing.py:362: SettingWithCopyWarning: \n",
      "A value is trying to be set on a copy of a slice from a DataFrame.\n",
      "Try using .loc[row_indexer,col_indexer] = value instead\n",
      "\n",
      "See the caveats in the documentation: http://pandas.pydata.org/pandas-docs/stable/user_guide/indexing.html#returning-a-view-versus-a-copy\n",
      "  self.obj[key] = _infer_fill_value(value)\n"
     ]
    },
    {
     "name": "stdout",
     "output_type": "stream",
     "text": [
      "\n",
      "<harness.test_harness_class.TestHarness object at 0x1386d2f98>\n",
      "----------------------------------------------------------------------------------------------------\n",
      "Starting run at time 16:06:35\n",
      "Normalizing training and testing splits...\n",
      "Starting Classification training...\n",
      "Training time was: 29.73 seconds\n",
      "Testing time was: 0.75 seconds\n",
      "Prediction time of untested data was: 8.376100063323975\n",
      "\n",
      "          Run ID        Date      Time                    Model Name Model Author Num Classes  Accuracy  Balanced Accuracy  AUC Score  Average Precision  F1 Score  Precision  Recall Samples In Train Samples In Test                                                                                      Model Description Column Predicted Num Features Used                                                                                                                                          Data and Split Description Normalized Num Features Normalized Feature Extraction Was Untested Data Predicted\n",
      "0  QPMZXkLVgNdwr  2019-10-04  16:06:35  random_forest_classification  Hamed        2           0.996     0.996              1.0        1.0                0.996     0.997      0.994   170214           42554           Random Forest: n_estimators=361, max_features=auto, criterion=entropy, min_samples_leaf=13, n_jobs=-1  class_label      12                {'experiment_id': 'r1dmsrursbqwuz', 'random_state': 0, 'live_volume': 0, 'dead_volume': 1120.0, 'stain': 'SYTOX Red Stain', 'prediction': True, 'time_point': '2'}  True       12                      False              True                      \n",
      "\n",
      "Run finished at 16:07:21. Total run time = 45.33 seconds\n",
      "^^^^^^^^^^^^^^^^^^^^^^^^^^^^^^^^^^^^^^^^^^^^^^^^^^^^^^^^^^^^^^^^^^^^^^^^^^^^^^^^^^^^^^^^^^^^^^^^^^^^\n",
      "\n",
      "\n",
      "\n",
      "\n",
      "output_col: live\n"
     ]
    },
    {
     "name": "stderr",
     "output_type": "stream",
     "text": [
      "/Users/danbryce/Documents/sift/xplan/external/xplan/xplan-to-autoprotocol-reactor/xplan-dev-env/xplan-dev-env/lib/python3.7/site-packages/IPython/core/interactiveshell.py:3249: DtypeWarning: Columns (5) have mixed types. Specify dtype option on import or set low_memory=False.\n",
      "  if (await self.run_code(code, result,  async_=asy)):\n"
     ]
    },
    {
     "name": "stdout",
     "output_type": "stream",
     "text": [
      "output_col: live\n",
      "SYTOX Red Stain\n",
      "{'experiment_id': 'r1dmsrursbqwuz', 'random_state': 0, 'live_volume': 0, 'dead_volume': 1120.0, 'stain': 'SYTOX Red Stain', 'prediction': True, 'time_point': '3'}\n",
      "data_columns: ['Unnamed: 0', 'checksum', 'filename', 'kill', 'kill_volume', 'stain', 'well', 'experiment_id', 'Time', 'FSC-A', 'SSC-A', 'BL1-A', 'RL1-A', 'FSC-H', 'SSC-H', 'BL1-H', 'RL1-H', 'FSC-W', 'SSC-W', 'BL1-W', 'RL1-W']\n"
     ]
    },
    {
     "name": "stderr",
     "output_type": "stream",
     "text": [
      "/Users/danbryce/Documents/sift/xplan/external/xplan/xplan-to-autoprotocol-reactor/xplan-dev-env/xplan-dev-env/lib/python3.7/site-packages/pandas/core/indexing.py:480: SettingWithCopyWarning: \n",
      "A value is trying to be set on a copy of a slice from a DataFrame.\n",
      "Try using .loc[row_indexer,col_indexer] = value instead\n",
      "\n",
      "See the caveats in the documentation: http://pandas.pydata.org/pandas-docs/stable/user_guide/indexing.html#returning-a-view-versus-a-copy\n",
      "  self.obj[item] = s\n"
     ]
    },
    {
     "name": "stdout",
     "output_type": "stream",
     "text": [
      "['FSC-A', 'SSC-A', 'BL1-A', 'RL1-A', 'FSC-H', 'SSC-H', 'BL1-H', 'RL1-H', 'FSC-W', 'SSC-W', 'BL1-W', 'RL1-W']\n"
     ]
    },
    {
     "name": "stderr",
     "output_type": "stream",
     "text": [
      "/Users/danbryce/Documents/sift/xplan/external/xplan/xplan-to-autoprotocol-reactor/xplan-dev-env/xplan-dev-env/lib/python3.7/site-packages/pandas/core/indexing.py:362: SettingWithCopyWarning: \n",
      "A value is trying to be set on a copy of a slice from a DataFrame.\n",
      "Try using .loc[row_indexer,col_indexer] = value instead\n",
      "\n",
      "See the caveats in the documentation: http://pandas.pydata.org/pandas-docs/stable/user_guide/indexing.html#returning-a-view-versus-a-copy\n",
      "  self.obj[key] = _infer_fill_value(value)\n"
     ]
    },
    {
     "name": "stdout",
     "output_type": "stream",
     "text": [
      "\n",
      "<harness.test_harness_class.TestHarness object at 0x1938c4e10>\n",
      "----------------------------------------------------------------------------------------------------\n",
      "Starting run at time 16:07:54\n",
      "Normalizing training and testing splits...\n",
      "Starting Classification training...\n",
      "Training time was: 26.57 seconds\n",
      "Testing time was: 0.75 seconds\n",
      "Prediction time of untested data was: 8.290111064910889\n",
      "\n",
      "         Run ID        Date      Time                    Model Name Model Author Num Classes  Accuracy  Balanced Accuracy  AUC Score  Average Precision  F1 Score  Precision  Recall Samples In Train Samples In Test                                                                                      Model Description Column Predicted Num Features Used                                                                                                                                          Data and Split Description Normalized Num Features Normalized Feature Extraction Was Untested Data Predicted\n",
      "0  6m8g12VlLDQW  2019-10-04  16:07:54  random_forest_classification  Hamed        2           0.998     0.997              1.0        1.0                0.997     0.997      0.997   169991           42498           Random Forest: n_estimators=361, max_features=auto, criterion=entropy, min_samples_leaf=13, n_jobs=-1  class_label      12                {'experiment_id': 'r1dmsrursbqwuz', 'random_state': 0, 'live_volume': 0, 'dead_volume': 1120.0, 'stain': 'SYTOX Red Stain', 'prediction': True, 'time_point': '3'}  True       12                      False              True                      \n",
      "\n",
      "Run finished at 16:08:37. Total run time = 42.17 seconds\n",
      "^^^^^^^^^^^^^^^^^^^^^^^^^^^^^^^^^^^^^^^^^^^^^^^^^^^^^^^^^^^^^^^^^^^^^^^^^^^^^^^^^^^^^^^^^^^^^^^^^^^^\n",
      "\n",
      "\n",
      "\n",
      "\n",
      "output_col: live\n",
      "nan\n",
      "{'experiment_id': 'r1dmsrursbqwuz', 'random_state': 0, 'live_volume': 0, 'dead_volume': 1120.0, 'stain': nan, 'prediction': True, 'time_point': '3'}\n",
      "data_columns: ['Unnamed: 0', 'checksum', 'filename', 'kill', 'kill_volume', 'stain', 'well', 'experiment_id', 'Time', 'FSC-A', 'SSC-A', 'BL1-A', 'RL1-A', 'FSC-H', 'SSC-H', 'BL1-H', 'RL1-H', 'FSC-W', 'SSC-W', 'BL1-W', 'RL1-W']\n"
     ]
    },
    {
     "name": "stderr",
     "output_type": "stream",
     "text": [
      "/Users/danbryce/Documents/sift/xplan/external/xplan/xplan-to-autoprotocol-reactor/xplan-dev-env/xplan-dev-env/lib/python3.7/site-packages/pandas/core/indexing.py:480: SettingWithCopyWarning: \n",
      "A value is trying to be set on a copy of a slice from a DataFrame.\n",
      "Try using .loc[row_indexer,col_indexer] = value instead\n",
      "\n",
      "See the caveats in the documentation: http://pandas.pydata.org/pandas-docs/stable/user_guide/indexing.html#returning-a-view-versus-a-copy\n",
      "  self.obj[item] = s\n"
     ]
    },
    {
     "name": "stdout",
     "output_type": "stream",
     "text": [
      "['FSC-A', 'SSC-A', 'BL1-A', 'RL1-A', 'FSC-H', 'SSC-H', 'BL1-H', 'RL1-H', 'FSC-W', 'SSC-W', 'BL1-W', 'RL1-W']\n"
     ]
    },
    {
     "name": "stderr",
     "output_type": "stream",
     "text": [
      "/Users/danbryce/Documents/sift/xplan/external/xplan/xplan-to-autoprotocol-reactor/xplan-dev-env/xplan-dev-env/lib/python3.7/site-packages/pandas/core/indexing.py:362: SettingWithCopyWarning: \n",
      "A value is trying to be set on a copy of a slice from a DataFrame.\n",
      "Try using .loc[row_indexer,col_indexer] = value instead\n",
      "\n",
      "See the caveats in the documentation: http://pandas.pydata.org/pandas-docs/stable/user_guide/indexing.html#returning-a-view-versus-a-copy\n",
      "  self.obj[key] = _infer_fill_value(value)\n"
     ]
    },
    {
     "name": "stdout",
     "output_type": "stream",
     "text": [
      "\n",
      "<harness.test_harness_class.TestHarness object at 0x1938c4fd0>\n",
      "----------------------------------------------------------------------------------------------------\n",
      "Starting run at time 16:08:42\n",
      "Normalizing training and testing splits...\n",
      "Starting Classification training...\n",
      "Training time was: 13.16 seconds\n",
      "Testing time was: 0.66 seconds\n",
      "Prediction time of untested data was: 8.981534004211426\n",
      "\n",
      "          Run ID        Date      Time                    Model Name Model Author Num Classes  Accuracy  Balanced Accuracy  AUC Score  Average Precision  F1 Score  Precision  Recall Samples In Train Samples In Test                                                                                      Model Description Column Predicted Num Features Used                                                                                                                            Data and Split Description Normalized Num Features Normalized Feature Extraction Was Untested Data Predicted\n",
      "0  a3pz1ok7YJdmd  2019-10-04  16:08:42  random_forest_classification  Hamed        2           0.979     0.972              0.995      0.975              0.897     0.838      0.965   106148           26538           Random Forest: n_estimators=361, max_features=auto, criterion=entropy, min_samples_leaf=13, n_jobs=-1  class_label      12                {'experiment_id': 'r1dmsrursbqwuz', 'random_state': 0, 'live_volume': 0, 'dead_volume': 1120.0, 'stain': nan, 'prediction': True, 'time_point': '3'}  True       12                      False              True                      \n",
      "\n",
      "Run finished at 16:09:11. Total run time = 28.80 seconds\n",
      "^^^^^^^^^^^^^^^^^^^^^^^^^^^^^^^^^^^^^^^^^^^^^^^^^^^^^^^^^^^^^^^^^^^^^^^^^^^^^^^^^^^^^^^^^^^^^^^^^^^^\n",
      "\n",
      "\n",
      "\n",
      "\n",
      "output_col: live\n"
     ]
    },
    {
     "name": "stderr",
     "output_type": "stream",
     "text": [
      "/Users/danbryce/Documents/sift/xplan/external/xplan/xplan-to-autoprotocol-reactor/xplan-dev-env/xplan-dev-env/lib/python3.7/site-packages/IPython/core/interactiveshell.py:3249: DtypeWarning: Columns (5) have mixed types. Specify dtype option on import or set low_memory=False.\n",
      "  if (await self.run_code(code, result,  async_=asy)):\n"
     ]
    },
    {
     "name": "stdout",
     "output_type": "stream",
     "text": [
      "output_col: live\n",
      "nan\n",
      "{'experiment_id': 'r1dmsrursbqwuz', 'random_state': 0, 'live_volume': 0, 'dead_volume': 1120.0, 'stain': nan, 'prediction': True, 'time_point': '6'}\n",
      "data_columns: ['Unnamed: 0', 'checksum', 'filename', 'kill', 'kill_volume', 'stain', 'well', 'experiment_id', 'Time', 'FSC-A', 'SSC-A', 'BL1-A', 'RL1-A', 'FSC-H', 'SSC-H', 'BL1-H', 'RL1-H', 'FSC-W', 'SSC-W', 'BL1-W', 'RL1-W']\n"
     ]
    },
    {
     "name": "stderr",
     "output_type": "stream",
     "text": [
      "/Users/danbryce/Documents/sift/xplan/external/xplan/xplan-to-autoprotocol-reactor/xplan-dev-env/xplan-dev-env/lib/python3.7/site-packages/pandas/core/indexing.py:480: SettingWithCopyWarning: \n",
      "A value is trying to be set on a copy of a slice from a DataFrame.\n",
      "Try using .loc[row_indexer,col_indexer] = value instead\n",
      "\n",
      "See the caveats in the documentation: http://pandas.pydata.org/pandas-docs/stable/user_guide/indexing.html#returning-a-view-versus-a-copy\n",
      "  self.obj[item] = s\n"
     ]
    },
    {
     "name": "stdout",
     "output_type": "stream",
     "text": [
      "['FSC-A', 'SSC-A', 'BL1-A', 'RL1-A', 'FSC-H', 'SSC-H', 'BL1-H', 'RL1-H', 'FSC-W', 'SSC-W', 'BL1-W', 'RL1-W']\n",
      "\n",
      "<harness.test_harness_class.TestHarness object at 0x289c02898>\n"
     ]
    },
    {
     "name": "stderr",
     "output_type": "stream",
     "text": [
      "/Users/danbryce/Documents/sift/xplan/external/xplan/xplan-to-autoprotocol-reactor/xplan-dev-env/xplan-dev-env/lib/python3.7/site-packages/pandas/core/indexing.py:362: SettingWithCopyWarning: \n",
      "A value is trying to be set on a copy of a slice from a DataFrame.\n",
      "Try using .loc[row_indexer,col_indexer] = value instead\n",
      "\n",
      "See the caveats in the documentation: http://pandas.pydata.org/pandas-docs/stable/user_guide/indexing.html#returning-a-view-versus-a-copy\n",
      "  self.obj[key] = _infer_fill_value(value)\n"
     ]
    },
    {
     "name": "stdout",
     "output_type": "stream",
     "text": [
      "----------------------------------------------------------------------------------------------------\n",
      "Starting run at time 16:09:43\n",
      "Normalizing training and testing splits...\n",
      "Starting Classification training...\n",
      "Training time was: 8.58 seconds\n",
      "Testing time was: 0.44 seconds\n",
      "Prediction time of untested data was: 6.819263219833374\n",
      "\n",
      "          Run ID        Date      Time                    Model Name Model Author Num Classes  Accuracy  Balanced Accuracy  AUC Score  Average Precision  F1 Score  Precision  Recall Samples In Train Samples In Test                                                                                      Model Description Column Predicted Num Features Used                                                                                                                            Data and Split Description Normalized Num Features Normalized Feature Extraction Was Untested Data Predicted\n",
      "0  5W3VJ3Zbyja5M  2019-10-04  16:09:43  random_forest_classification  Hamed        2           0.999     0.997              1.0        1.0                0.996     0.997      0.995   87008            21752           Random Forest: n_estimators=361, max_features=auto, criterion=entropy, min_samples_leaf=13, n_jobs=-1  class_label      12                {'experiment_id': 'r1dmsrursbqwuz', 'random_state': 0, 'live_volume': 0, 'dead_volume': 1120.0, 'stain': nan, 'prediction': True, 'time_point': '6'}  True       12                      False              True                      \n",
      "\n",
      "Run finished at 16:10:04. Total run time = 21.24 seconds\n",
      "^^^^^^^^^^^^^^^^^^^^^^^^^^^^^^^^^^^^^^^^^^^^^^^^^^^^^^^^^^^^^^^^^^^^^^^^^^^^^^^^^^^^^^^^^^^^^^^^^^^^\n",
      "\n",
      "\n",
      "\n",
      "\n",
      "output_col: live\n",
      "SYTOX Red Stain\n",
      "{'experiment_id': 'r1dmsrursbqwuz', 'random_state': 0, 'live_volume': 0, 'dead_volume': 1120.0, 'stain': 'SYTOX Red Stain', 'prediction': True, 'time_point': '6'}\n",
      "data_columns: ['Unnamed: 0', 'checksum', 'filename', 'kill', 'kill_volume', 'stain', 'well', 'experiment_id', 'Time', 'FSC-A', 'SSC-A', 'BL1-A', 'RL1-A', 'FSC-H', 'SSC-H', 'BL1-H', 'RL1-H', 'FSC-W', 'SSC-W', 'BL1-W', 'RL1-W']\n"
     ]
    },
    {
     "name": "stderr",
     "output_type": "stream",
     "text": [
      "/Users/danbryce/Documents/sift/xplan/external/xplan/xplan-to-autoprotocol-reactor/xplan-dev-env/xplan-dev-env/lib/python3.7/site-packages/pandas/core/indexing.py:480: SettingWithCopyWarning: \n",
      "A value is trying to be set on a copy of a slice from a DataFrame.\n",
      "Try using .loc[row_indexer,col_indexer] = value instead\n",
      "\n",
      "See the caveats in the documentation: http://pandas.pydata.org/pandas-docs/stable/user_guide/indexing.html#returning-a-view-versus-a-copy\n",
      "  self.obj[item] = s\n"
     ]
    },
    {
     "name": "stdout",
     "output_type": "stream",
     "text": [
      "['FSC-A', 'SSC-A', 'BL1-A', 'RL1-A', 'FSC-H', 'SSC-H', 'BL1-H', 'RL1-H', 'FSC-W', 'SSC-W', 'BL1-W', 'RL1-W']\n"
     ]
    },
    {
     "name": "stderr",
     "output_type": "stream",
     "text": [
      "/Users/danbryce/Documents/sift/xplan/external/xplan/xplan-to-autoprotocol-reactor/xplan-dev-env/xplan-dev-env/lib/python3.7/site-packages/pandas/core/indexing.py:362: SettingWithCopyWarning: \n",
      "A value is trying to be set on a copy of a slice from a DataFrame.\n",
      "Try using .loc[row_indexer,col_indexer] = value instead\n",
      "\n",
      "See the caveats in the documentation: http://pandas.pydata.org/pandas-docs/stable/user_guide/indexing.html#returning-a-view-versus-a-copy\n",
      "  self.obj[key] = _infer_fill_value(value)\n"
     ]
    },
    {
     "name": "stdout",
     "output_type": "stream",
     "text": [
      "\n",
      "<harness.test_harness_class.TestHarness object at 0x21ce3eef0>\n",
      "----------------------------------------------------------------------------------------------------\n",
      "Starting run at time 16:10:11\n",
      "Normalizing training and testing splits...\n",
      "Starting Classification training...\n",
      "Training time was: 27.20 seconds\n",
      "Testing time was: 0.67 seconds\n",
      "Prediction time of untested data was: 8.297639846801758\n",
      "\n",
      "          Run ID        Date      Time                    Model Name Model Author Num Classes  Accuracy  Balanced Accuracy  AUC Score  Average Precision  F1 Score  Precision  Recall Samples In Train Samples In Test                                                                                      Model Description Column Predicted Num Features Used                                                                                                                                          Data and Split Description Normalized Num Features Normalized Feature Extraction Was Untested Data Predicted\n",
      "0  Q7vEp9qEAVQB9  2019-10-04  16:10:11  random_forest_classification  Hamed        2           0.997     0.997              1.0        1.0                0.997     0.998      0.995   160202           40051           Random Forest: n_estimators=361, max_features=auto, criterion=entropy, min_samples_leaf=13, n_jobs=-1  class_label      12                {'experiment_id': 'r1dmsrursbqwuz', 'random_state': 0, 'live_volume': 0, 'dead_volume': 1120.0, 'stain': 'SYTOX Red Stain', 'prediction': True, 'time_point': '6'}  True       12                      False              True                      \n",
      "\n",
      "Run finished at 16:10:53. Total run time = 42.54 seconds\n",
      "^^^^^^^^^^^^^^^^^^^^^^^^^^^^^^^^^^^^^^^^^^^^^^^^^^^^^^^^^^^^^^^^^^^^^^^^^^^^^^^^^^^^^^^^^^^^^^^^^^^^\n",
      "\n",
      "\n",
      "\n",
      "\n",
      "output_col: live\n"
     ]
    },
    {
     "name": "stderr",
     "output_type": "stream",
     "text": [
      "/Users/danbryce/Documents/sift/xplan/external/xplan/xplan-to-autoprotocol-reactor/xplan-dev-env/xplan-dev-env/lib/python3.7/site-packages/IPython/core/interactiveshell.py:3249: DtypeWarning: Columns (5) have mixed types. Specify dtype option on import or set low_memory=False.\n",
      "  if (await self.run_code(code, result,  async_=asy)):\n"
     ]
    },
    {
     "name": "stdout",
     "output_type": "stream",
     "text": [
      "output_col: live\n",
      "nan\n",
      "{'experiment_id': 'r1dmsrursbqwuz', 'random_state': 0, 'live_volume': 0, 'dead_volume': 1120.0, 'stain': nan, 'prediction': True, 'time_point': '10'}\n",
      "data_columns: ['Unnamed: 0', 'checksum', 'filename', 'kill', 'kill_volume', 'stain', 'well', 'experiment_id', 'Time', 'FSC-A', 'SSC-A', 'BL1-A', 'RL1-A', 'FSC-H', 'SSC-H', 'BL1-H', 'RL1-H', 'FSC-W', 'SSC-W', 'BL1-W', 'RL1-W']\n"
     ]
    },
    {
     "name": "stderr",
     "output_type": "stream",
     "text": [
      "/Users/danbryce/Documents/sift/xplan/external/xplan/xplan-to-autoprotocol-reactor/xplan-dev-env/xplan-dev-env/lib/python3.7/site-packages/pandas/core/indexing.py:480: SettingWithCopyWarning: \n",
      "A value is trying to be set on a copy of a slice from a DataFrame.\n",
      "Try using .loc[row_indexer,col_indexer] = value instead\n",
      "\n",
      "See the caveats in the documentation: http://pandas.pydata.org/pandas-docs/stable/user_guide/indexing.html#returning-a-view-versus-a-copy\n",
      "  self.obj[item] = s\n"
     ]
    },
    {
     "name": "stdout",
     "output_type": "stream",
     "text": [
      "['FSC-A', 'SSC-A', 'BL1-A', 'RL1-A', 'FSC-H', 'SSC-H', 'BL1-H', 'RL1-H', 'FSC-W', 'SSC-W', 'BL1-W', 'RL1-W']\n"
     ]
    },
    {
     "name": "stderr",
     "output_type": "stream",
     "text": [
      "/Users/danbryce/Documents/sift/xplan/external/xplan/xplan-to-autoprotocol-reactor/xplan-dev-env/xplan-dev-env/lib/python3.7/site-packages/pandas/core/indexing.py:362: SettingWithCopyWarning: \n",
      "A value is trying to be set on a copy of a slice from a DataFrame.\n",
      "Try using .loc[row_indexer,col_indexer] = value instead\n",
      "\n",
      "See the caveats in the documentation: http://pandas.pydata.org/pandas-docs/stable/user_guide/indexing.html#returning-a-view-versus-a-copy\n",
      "  self.obj[key] = _infer_fill_value(value)\n"
     ]
    },
    {
     "name": "stdout",
     "output_type": "stream",
     "text": [
      "\n",
      "<harness.test_harness_class.TestHarness object at 0x28eb5eeb8>\n",
      "----------------------------------------------------------------------------------------------------\n",
      "Starting run at time 16:11:27\n",
      "Normalizing training and testing splits...\n",
      "Starting Classification training...\n",
      "Training time was: 24.10 seconds\n",
      "Testing time was: 0.68 seconds\n",
      "Prediction time of untested data was: 8.76300573348999\n",
      "\n",
      "          Run ID        Date      Time                    Model Name Model Author Num Classes  Accuracy  Balanced Accuracy  AUC Score  Average Precision  F1 Score  Precision  Recall Samples In Train Samples In Test                                                                                      Model Description Column Predicted Num Features Used                                                                                                                             Data and Split Description Normalized Num Features Normalized Feature Extraction Was Untested Data Predicted\n",
      "0  6D2PPrvl5DedW  2019-10-04  16:11:27  random_forest_classification  Hamed        2           0.997     0.997              1.0        1.0                0.997     0.997      0.997   141017           35255           Random Forest: n_estimators=361, max_features=auto, criterion=entropy, min_samples_leaf=13, n_jobs=-1  class_label      12                {'experiment_id': 'r1dmsrursbqwuz', 'random_state': 0, 'live_volume': 0, 'dead_volume': 1120.0, 'stain': nan, 'prediction': True, 'time_point': '10'}  True       12                      False              True                      \n",
      "\n",
      "Run finished at 16:12:07. Total run time = 40.47 seconds\n",
      "^^^^^^^^^^^^^^^^^^^^^^^^^^^^^^^^^^^^^^^^^^^^^^^^^^^^^^^^^^^^^^^^^^^^^^^^^^^^^^^^^^^^^^^^^^^^^^^^^^^^\n",
      "\n",
      "\n",
      "\n",
      "\n",
      "output_col: live\n",
      "SYTOX Red Stain\n",
      "{'experiment_id': 'r1dmsrursbqwuz', 'random_state': 0, 'live_volume': 0, 'dead_volume': 1120.0, 'stain': 'SYTOX Red Stain', 'prediction': True, 'time_point': '10'}\n",
      "data_columns: ['Unnamed: 0', 'checksum', 'filename', 'kill', 'kill_volume', 'stain', 'well', 'experiment_id', 'Time', 'FSC-A', 'SSC-A', 'BL1-A', 'RL1-A', 'FSC-H', 'SSC-H', 'BL1-H', 'RL1-H', 'FSC-W', 'SSC-W', 'BL1-W', 'RL1-W']\n"
     ]
    },
    {
     "name": "stderr",
     "output_type": "stream",
     "text": [
      "/Users/danbryce/Documents/sift/xplan/external/xplan/xplan-to-autoprotocol-reactor/xplan-dev-env/xplan-dev-env/lib/python3.7/site-packages/pandas/core/indexing.py:480: SettingWithCopyWarning: \n",
      "A value is trying to be set on a copy of a slice from a DataFrame.\n",
      "Try using .loc[row_indexer,col_indexer] = value instead\n",
      "\n",
      "See the caveats in the documentation: http://pandas.pydata.org/pandas-docs/stable/user_guide/indexing.html#returning-a-view-versus-a-copy\n",
      "  self.obj[item] = s\n"
     ]
    },
    {
     "name": "stdout",
     "output_type": "stream",
     "text": [
      "['FSC-A', 'SSC-A', 'BL1-A', 'RL1-A', 'FSC-H', 'SSC-H', 'BL1-H', 'RL1-H', 'FSC-W', 'SSC-W', 'BL1-W', 'RL1-W']\n"
     ]
    },
    {
     "name": "stderr",
     "output_type": "stream",
     "text": [
      "/Users/danbryce/Documents/sift/xplan/external/xplan/xplan-to-autoprotocol-reactor/xplan-dev-env/xplan-dev-env/lib/python3.7/site-packages/pandas/core/indexing.py:362: SettingWithCopyWarning: \n",
      "A value is trying to be set on a copy of a slice from a DataFrame.\n",
      "Try using .loc[row_indexer,col_indexer] = value instead\n",
      "\n",
      "See the caveats in the documentation: http://pandas.pydata.org/pandas-docs/stable/user_guide/indexing.html#returning-a-view-versus-a-copy\n",
      "  self.obj[key] = _infer_fill_value(value)\n"
     ]
    },
    {
     "name": "stdout",
     "output_type": "stream",
     "text": [
      "\n",
      "<harness.test_harness_class.TestHarness object at 0x28eb5ee10>\n",
      "----------------------------------------------------------------------------------------------------\n",
      "Starting run at time 16:12:14\n",
      "Normalizing training and testing splits...\n",
      "Starting Classification training...\n",
      "Training time was: 34.15 seconds\n",
      "Testing time was: 0.87 seconds\n",
      "Prediction time of untested data was: 8.81847882270813\n",
      "\n",
      "          Run ID        Date      Time                    Model Name Model Author Num Classes  Accuracy  Balanced Accuracy  AUC Score  Average Precision  F1 Score  Precision  Recall Samples In Train Samples In Test                                                                                      Model Description Column Predicted Num Features Used                                                                                                                                           Data and Split Description Normalized Num Features Normalized Feature Extraction Was Untested Data Predicted\n",
      "0  Q9r5Xy6W6Nxxe  2019-10-04  16:12:14  random_forest_classification  Hamed        2           0.997     0.997              1.0        1.0                0.997     0.998      0.997   176896           44224           Random Forest: n_estimators=361, max_features=auto, criterion=entropy, min_samples_leaf=13, n_jobs=-1  class_label      12                {'experiment_id': 'r1dmsrursbqwuz', 'random_state': 0, 'live_volume': 0, 'dead_volume': 1120.0, 'stain': 'SYTOX Red Stain', 'prediction': True, 'time_point': '10'}  True       12                      False              True                      \n",
      "\n",
      "Run finished at 16:13:05. Total run time = 50.61 seconds\n",
      "^^^^^^^^^^^^^^^^^^^^^^^^^^^^^^^^^^^^^^^^^^^^^^^^^^^^^^^^^^^^^^^^^^^^^^^^^^^^^^^^^^^^^^^^^^^^^^^^^^^^\n",
      "\n",
      "\n",
      "\n",
      "\n",
      "output_col: live\n"
     ]
    }
   ],
   "source": [
    "## Use last time point to predict live/dead for earlier time points\n",
    "\n",
    "last_time = flow_data.loc[flow_data['time_point'].astype(int).idxmax()]\n",
    "last_plate = [p for p in plate_properties if p['container'] == last_time['container_name']][0]\n",
    "classifier_df = get_container_data(work_dir, last_plate['container'])\n",
    "for p in plate_properties:\n",
    "    df = get_container_data(work_dir, p['container'])\n",
    "    time_point = flow_data.loc[flow_data['container_name'] == p['container']]['time_point'].iloc[0]\n",
    "    dead_volumes = list(df.kill_volume.dropna().unique())\n",
    "    dead_volumes.remove(0.0)\n",
    "\n",
    "    pred_df = blda.train_models_for_prediction(classifier_df,\n",
    "                                               df, \n",
    "                                               data_dir=work_dir,\n",
    "                                 fcs_columns=['FSC-A', 'SSC-A', 'BL1-A', 'RL1-A', 'FSC-H', \n",
    "                                      'SSC-H', 'BL1-H', 'RL1-H', 'FSC-W', 'SSC-W',\n",
    "                                      'BL1-W', 'RL1-W'],\n",
    "                                               dead_strain_name=max(dead_volumes),\n",
    "                                           combine_stains=False,\n",
    "                                          overwrite=True,\n",
    "                                          output_col = 'live',\n",
    "                                              time_point=time_point)\n",
    "    out_file = os.path.join(get_container_work_dir(work_dir, p['container']), 'data.csv')\n",
    "    pred_df.to_csv(out_file)\n",
    "\n"
   ]
  },
  {
   "cell_type": "code",
   "execution_count": 64,
   "metadata": {
    "scrolled": true
   },
   "outputs": [
    {
     "name": "stdout",
     "output_type": "stream",
     "text": [
      "{'experiment_id': 'r1dd37mcxv5pf4', 'random_state': 0, 'live_volume': 0.0, 'dead_volume': 980.0, 'stain': 'SYTOX Red Stain'}\n",
      "{'experiment_id': 'r1dd37mcxv5pf4', 'random_state': 0, 'live_volume': 0.0, 'dead_volume': 980.0, 'stain': None}\n",
      "data_columns: ['Container Type', 'Control', 'Culture_Volume', 'Media', 'Replicate', 'Storage (C)', 'Strain', 'checksum', 'filename', 'kill', 'kill_volume', 'plate_id', 'source', 'stain', 'well', 'experiment_id', 'Time', 'FSC-A', 'SSC-A', 'BL1-A', 'RL1-A', 'FSC-H', 'SSC-H', 'BL1-H', 'RL1-H', 'FSC-W', 'SSC-W', 'BL1-W', 'RL1-W']\n"
     ]
    },
    {
     "name": "stderr",
     "output_type": "stream",
     "text": [
      "/Users/danbryce/Documents/sift/xplan/external/xplan/xplan-to-autoprotocol-reactor/xplan-dev-env/xplan-dev-env/lib/python3.7/site-packages/pandas/core/indexing.py:480: SettingWithCopyWarning: \n",
      "A value is trying to be set on a copy of a slice from a DataFrame.\n",
      "Try using .loc[row_indexer,col_indexer] = value instead\n",
      "\n",
      "See the caveats in the documentation: http://pandas.pydata.org/pandas-docs/stable/user_guide/indexing.html#returning-a-view-versus-a-copy\n",
      "  self.obj[item] = s\n"
     ]
    },
    {
     "name": "stdout",
     "output_type": "stream",
     "text": [
      "['FSC-A', 'SSC-A', 'BL1-A', 'RL1-A', 'FSC-H', 'SSC-H', 'BL1-H', 'RL1-H', 'FSC-W', 'SSC-W', 'BL1-W', 'RL1-W']\n",
      "\n",
      "<harness.test_harness_class.TestHarness object at 0x15b7ebef0>\n"
     ]
    },
    {
     "name": "stderr",
     "output_type": "stream",
     "text": [
      "/Users/danbryce/Documents/sift/xplan/external/xplan/xplan-to-autoprotocol-reactor/xplan-dev-env/xplan-dev-env/lib/python3.7/site-packages/pandas/core/indexing.py:362: SettingWithCopyWarning: \n",
      "A value is trying to be set on a copy of a slice from a DataFrame.\n",
      "Try using .loc[row_indexer,col_indexer] = value instead\n",
      "\n",
      "See the caveats in the documentation: http://pandas.pydata.org/pandas-docs/stable/user_guide/indexing.html#returning-a-view-versus-a-copy\n",
      "  self.obj[key] = _infer_fill_value(value)\n"
     ]
    },
    {
     "name": "stdout",
     "output_type": "stream",
     "text": [
      "HI\n",
      "----------------------------------------------------------------------------------------------------\n",
      "Starting run at time 22:31:18\n",
      "Normalizing training and testing splits...\n",
      "Starting Classification training...\n",
      "Training time was: 40.89 seconds\n",
      "Testing time was: 0.64 seconds\n",
      "\n",
      "          Run ID        Date      Time                    Model Name Model Author Num Classes  Accuracy  Balanced Accuracy  AUC Score  Average Precision  F1 Score  Precision  Recall Samples In Train Samples In Test                                                                                      Model Description Column Predicted Num Features Used                                                                                       Data and Split Description Normalized Num Features Normalized Feature Extraction Was Untested Data Predicted\n",
      "0  QgDA8YOg58WPP  2019-07-28  22:31:18  random_forest_classification  Hamed        2           0.994     0.994              1.0        1.0                0.994     0.993      0.996   192000           48000           Random Forest: n_estimators=361, max_features=auto, criterion=entropy, min_samples_leaf=13, n_jobs=-1  class_label      12                {'experiment_id': 'r1dd37mcxv5pf4', 'random_state': 0, 'live_volume': 0.0, 'dead_volume': 980.0, 'stain': None}  True       12                      False              False                     \n",
      "\n",
      "Run finished at 22:32:02. Total run time = 43.25 seconds\n",
      "^^^^^^^^^^^^^^^^^^^^^^^^^^^^^^^^^^^^^^^^^^^^^^^^^^^^^^^^^^^^^^^^^^^^^^^^^^^^^^^^^^^^^^^^^^^^^^^^^^^^\n",
      "\n",
      "\n",
      "\n",
      "\n",
      "HI\n",
      "{'experiment_id': 'r1dd37mcxv5pf4', 'random_state': 0, 'live_volume': 0.0, 'dead_volume': 570.0, 'stain': 'SYTOX Red Stain'}\n",
      "data_columns: ['Container Type', 'Control', 'Culture_Volume', 'Media', 'Replicate', 'Storage (C)', 'Strain', 'checksum', 'filename', 'kill', 'kill_volume', 'plate_id', 'source', 'stain', 'well', 'experiment_id', 'Time', 'FSC-A', 'SSC-A', 'BL1-A', 'RL1-A', 'FSC-H', 'SSC-H', 'BL1-H', 'RL1-H', 'FSC-W', 'SSC-W', 'BL1-W', 'RL1-W']\n"
     ]
    },
    {
     "name": "stderr",
     "output_type": "stream",
     "text": [
      "/Users/danbryce/Documents/sift/xplan/external/xplan/xplan-to-autoprotocol-reactor/xplan-dev-env/xplan-dev-env/lib/python3.7/site-packages/pandas/core/indexing.py:480: SettingWithCopyWarning: \n",
      "A value is trying to be set on a copy of a slice from a DataFrame.\n",
      "Try using .loc[row_indexer,col_indexer] = value instead\n",
      "\n",
      "See the caveats in the documentation: http://pandas.pydata.org/pandas-docs/stable/user_guide/indexing.html#returning-a-view-versus-a-copy\n",
      "  self.obj[item] = s\n"
     ]
    },
    {
     "name": "stdout",
     "output_type": "stream",
     "text": [
      "['FSC-A', 'SSC-A', 'BL1-A', 'RL1-A', 'FSC-H', 'SSC-H', 'BL1-H', 'RL1-H', 'FSC-W', 'SSC-W', 'BL1-W', 'RL1-W']\n",
      "\n",
      "<harness.test_harness_class.TestHarness object at 0x1417a1a58>\n"
     ]
    },
    {
     "name": "stderr",
     "output_type": "stream",
     "text": [
      "/Users/danbryce/Documents/sift/xplan/external/xplan/xplan-to-autoprotocol-reactor/xplan-dev-env/xplan-dev-env/lib/python3.7/site-packages/pandas/core/indexing.py:362: SettingWithCopyWarning: \n",
      "A value is trying to be set on a copy of a slice from a DataFrame.\n",
      "Try using .loc[row_indexer,col_indexer] = value instead\n",
      "\n",
      "See the caveats in the documentation: http://pandas.pydata.org/pandas-docs/stable/user_guide/indexing.html#returning-a-view-versus-a-copy\n",
      "  self.obj[key] = _infer_fill_value(value)\n"
     ]
    },
    {
     "name": "stdout",
     "output_type": "stream",
     "text": [
      "HI\n",
      "----------------------------------------------------------------------------------------------------\n",
      "Starting run at time 22:32:08\n",
      "Normalizing training and testing splits...\n",
      "Starting Classification training...\n",
      "Training time was: 37.54 seconds\n",
      "Testing time was: 0.65 seconds\n",
      "\n",
      "         Run ID        Date      Time                    Model Name Model Author Num Classes  Accuracy  Balanced Accuracy  AUC Score  Average Precision  F1 Score  Precision  Recall Samples In Train Samples In Test                                                                                      Model Description Column Predicted Num Features Used                                                                                                    Data and Split Description Normalized Num Features Normalized Feature Extraction Was Untested Data Predicted\n",
      "0  ED9mX65zBJQY  2019-07-28  22:32:08  random_forest_classification  Hamed        2           0.997     0.997              1.0        1.0                0.997     0.999      0.996   192000           48000           Random Forest: n_estimators=361, max_features=auto, criterion=entropy, min_samples_leaf=13, n_jobs=-1  class_label      12                {'experiment_id': 'r1dd37mcxv5pf4', 'random_state': 0, 'live_volume': 0.0, 'dead_volume': 570.0, 'stain': 'SYTOX Red Stain'}  True       12                      False              False                     \n",
      "\n",
      "Run finished at 22:32:48. Total run time = 40.04 seconds\n",
      "^^^^^^^^^^^^^^^^^^^^^^^^^^^^^^^^^^^^^^^^^^^^^^^^^^^^^^^^^^^^^^^^^^^^^^^^^^^^^^^^^^^^^^^^^^^^^^^^^^^^\n",
      "\n",
      "\n",
      "\n",
      "\n",
      "HI\n",
      "{'experiment_id': 'r1dd37mcxv5pf4', 'random_state': 0, 'live_volume': 0.0, 'dead_volume': 570.0, 'stain': None}\n",
      "data_columns: ['Container Type', 'Control', 'Culture_Volume', 'Media', 'Replicate', 'Storage (C)', 'Strain', 'checksum', 'filename', 'kill', 'kill_volume', 'plate_id', 'source', 'stain', 'well', 'experiment_id', 'Time', 'FSC-A', 'SSC-A', 'BL1-A', 'RL1-A', 'FSC-H', 'SSC-H', 'BL1-H', 'RL1-H', 'FSC-W', 'SSC-W', 'BL1-W', 'RL1-W']\n"
     ]
    },
    {
     "name": "stderr",
     "output_type": "stream",
     "text": [
      "/Users/danbryce/Documents/sift/xplan/external/xplan/xplan-to-autoprotocol-reactor/xplan-dev-env/xplan-dev-env/lib/python3.7/site-packages/pandas/core/indexing.py:480: SettingWithCopyWarning: \n",
      "A value is trying to be set on a copy of a slice from a DataFrame.\n",
      "Try using .loc[row_indexer,col_indexer] = value instead\n",
      "\n",
      "See the caveats in the documentation: http://pandas.pydata.org/pandas-docs/stable/user_guide/indexing.html#returning-a-view-versus-a-copy\n",
      "  self.obj[item] = s\n"
     ]
    },
    {
     "name": "stdout",
     "output_type": "stream",
     "text": [
      "['FSC-A', 'SSC-A', 'BL1-A', 'RL1-A', 'FSC-H', 'SSC-H', 'BL1-H', 'RL1-H', 'FSC-W', 'SSC-W', 'BL1-W', 'RL1-W']\n",
      "\n",
      "<harness.test_harness_class.TestHarness object at 0x13dcbf0b8>\n"
     ]
    },
    {
     "name": "stderr",
     "output_type": "stream",
     "text": [
      "/Users/danbryce/Documents/sift/xplan/external/xplan/xplan-to-autoprotocol-reactor/xplan-dev-env/xplan-dev-env/lib/python3.7/site-packages/pandas/core/indexing.py:362: SettingWithCopyWarning: \n",
      "A value is trying to be set on a copy of a slice from a DataFrame.\n",
      "Try using .loc[row_indexer,col_indexer] = value instead\n",
      "\n",
      "See the caveats in the documentation: http://pandas.pydata.org/pandas-docs/stable/user_guide/indexing.html#returning-a-view-versus-a-copy\n",
      "  self.obj[key] = _infer_fill_value(value)\n"
     ]
    },
    {
     "name": "stdout",
     "output_type": "stream",
     "text": [
      "HI\n",
      "----------------------------------------------------------------------------------------------------\n",
      "Starting run at time 22:32:54\n",
      "Normalizing training and testing splits...\n",
      "Starting Classification training...\n",
      "Training time was: 46.54 seconds\n",
      "Testing time was: 0.95 seconds\n",
      "\n",
      "          Run ID        Date      Time                    Model Name Model Author Num Classes  Accuracy  Balanced Accuracy  AUC Score  Average Precision  F1 Score  Precision  Recall Samples In Train Samples In Test                                                                                      Model Description Column Predicted Num Features Used                                                                                       Data and Split Description Normalized Num Features Normalized Feature Extraction Was Untested Data Predicted\n",
      "0  a3Z6vg3ej76Ok  2019-07-28  22:32:54  random_forest_classification  Hamed        2           0.977     0.977              0.997      0.996              0.978     0.972      0.984   183965           45992           Random Forest: n_estimators=361, max_features=auto, criterion=entropy, min_samples_leaf=13, n_jobs=-1  class_label      12                {'experiment_id': 'r1dd37mcxv5pf4', 'random_state': 0, 'live_volume': 0.0, 'dead_volume': 570.0, 'stain': None}  True       12                      False              False                     \n",
      "\n",
      "Run finished at 22:33:43. Total run time = 49.21 seconds\n",
      "^^^^^^^^^^^^^^^^^^^^^^^^^^^^^^^^^^^^^^^^^^^^^^^^^^^^^^^^^^^^^^^^^^^^^^^^^^^^^^^^^^^^^^^^^^^^^^^^^^^^\n",
      "\n",
      "\n",
      "\n",
      "\n",
      "HI\n",
      "{'experiment_id': 'r1dd37mcxv5pf4', 'random_state': 0, 'live_volume': 0.0, 'dead_volume': 370.0, 'stain': 'SYTOX Red Stain'}\n",
      "data_columns: ['Container Type', 'Control', 'Culture_Volume', 'Media', 'Replicate', 'Storage (C)', 'Strain', 'checksum', 'filename', 'kill', 'kill_volume', 'plate_id', 'source', 'stain', 'well', 'experiment_id', 'Time', 'FSC-A', 'SSC-A', 'BL1-A', 'RL1-A', 'FSC-H', 'SSC-H', 'BL1-H', 'RL1-H', 'FSC-W', 'SSC-W', 'BL1-W', 'RL1-W']\n"
     ]
    },
    {
     "name": "stderr",
     "output_type": "stream",
     "text": [
      "/Users/danbryce/Documents/sift/xplan/external/xplan/xplan-to-autoprotocol-reactor/xplan-dev-env/xplan-dev-env/lib/python3.7/site-packages/pandas/core/indexing.py:480: SettingWithCopyWarning: \n",
      "A value is trying to be set on a copy of a slice from a DataFrame.\n",
      "Try using .loc[row_indexer,col_indexer] = value instead\n",
      "\n",
      "See the caveats in the documentation: http://pandas.pydata.org/pandas-docs/stable/user_guide/indexing.html#returning-a-view-versus-a-copy\n",
      "  self.obj[item] = s\n"
     ]
    },
    {
     "name": "stdout",
     "output_type": "stream",
     "text": [
      "['FSC-A', 'SSC-A', 'BL1-A', 'RL1-A', 'FSC-H', 'SSC-H', 'BL1-H', 'RL1-H', 'FSC-W', 'SSC-W', 'BL1-W', 'RL1-W']\n",
      "\n",
      "<harness.test_harness_class.TestHarness object at 0x12c301940>\n"
     ]
    },
    {
     "name": "stderr",
     "output_type": "stream",
     "text": [
      "/Users/danbryce/Documents/sift/xplan/external/xplan/xplan-to-autoprotocol-reactor/xplan-dev-env/xplan-dev-env/lib/python3.7/site-packages/pandas/core/indexing.py:362: SettingWithCopyWarning: \n",
      "A value is trying to be set on a copy of a slice from a DataFrame.\n",
      "Try using .loc[row_indexer,col_indexer] = value instead\n",
      "\n",
      "See the caveats in the documentation: http://pandas.pydata.org/pandas-docs/stable/user_guide/indexing.html#returning-a-view-versus-a-copy\n",
      "  self.obj[key] = _infer_fill_value(value)\n"
     ]
    },
    {
     "name": "stdout",
     "output_type": "stream",
     "text": [
      "HI\n",
      "----------------------------------------------------------------------------------------------------\n",
      "Starting run at time 22:33:49\n",
      "Normalizing training and testing splits...\n",
      "Starting Classification training...\n",
      "Training time was: 33.14 seconds\n",
      "Testing time was: 0.64 seconds\n",
      "\n",
      "          Run ID        Date      Time                    Model Name Model Author Num Classes  Accuracy  Balanced Accuracy  AUC Score  Average Precision  F1 Score  Precision  Recall Samples In Train Samples In Test                                                                                      Model Description Column Predicted Num Features Used                                                                                                    Data and Split Description Normalized Num Features Normalized Feature Extraction Was Untested Data Predicted\n",
      "0  QMD3Q6GY6Rmm3  2019-07-28  22:33:49  random_forest_classification  Hamed        2           0.997     0.997              1.0        1.0                0.997     0.999      0.996   175331           43833           Random Forest: n_estimators=361, max_features=auto, criterion=entropy, min_samples_leaf=13, n_jobs=-1  class_label      12                {'experiment_id': 'r1dd37mcxv5pf4', 'random_state': 0, 'live_volume': 0.0, 'dead_volume': 370.0, 'stain': 'SYTOX Red Stain'}  True       12                      False              False                     \n",
      "\n",
      "Run finished at 22:34:24. Total run time = 35.48 seconds\n",
      "^^^^^^^^^^^^^^^^^^^^^^^^^^^^^^^^^^^^^^^^^^^^^^^^^^^^^^^^^^^^^^^^^^^^^^^^^^^^^^^^^^^^^^^^^^^^^^^^^^^^\n",
      "\n",
      "\n",
      "\n",
      "\n",
      "HI\n",
      "{'experiment_id': 'r1dd37mcxv5pf4', 'random_state': 0, 'live_volume': 0.0, 'dead_volume': 370.0, 'stain': None}\n",
      "data_columns: ['Container Type', 'Control', 'Culture_Volume', 'Media', 'Replicate', 'Storage (C)', 'Strain', 'checksum', 'filename', 'kill', 'kill_volume', 'plate_id', 'source', 'stain', 'well', 'experiment_id', 'Time', 'FSC-A', 'SSC-A', 'BL1-A', 'RL1-A', 'FSC-H', 'SSC-H', 'BL1-H', 'RL1-H', 'FSC-W', 'SSC-W', 'BL1-W', 'RL1-W']\n"
     ]
    },
    {
     "name": "stderr",
     "output_type": "stream",
     "text": [
      "/Users/danbryce/Documents/sift/xplan/external/xplan/xplan-to-autoprotocol-reactor/xplan-dev-env/xplan-dev-env/lib/python3.7/site-packages/pandas/core/indexing.py:480: SettingWithCopyWarning: \n",
      "A value is trying to be set on a copy of a slice from a DataFrame.\n",
      "Try using .loc[row_indexer,col_indexer] = value instead\n",
      "\n",
      "See the caveats in the documentation: http://pandas.pydata.org/pandas-docs/stable/user_guide/indexing.html#returning-a-view-versus-a-copy\n",
      "  self.obj[item] = s\n"
     ]
    },
    {
     "name": "stdout",
     "output_type": "stream",
     "text": [
      "['FSC-A', 'SSC-A', 'BL1-A', 'RL1-A', 'FSC-H', 'SSC-H', 'BL1-H', 'RL1-H', 'FSC-W', 'SSC-W', 'BL1-W', 'RL1-W']\n",
      "\n",
      "<harness.test_harness_class.TestHarness object at 0x12cc502e8>\n"
     ]
    },
    {
     "name": "stderr",
     "output_type": "stream",
     "text": [
      "/Users/danbryce/Documents/sift/xplan/external/xplan/xplan-to-autoprotocol-reactor/xplan-dev-env/xplan-dev-env/lib/python3.7/site-packages/pandas/core/indexing.py:362: SettingWithCopyWarning: \n",
      "A value is trying to be set on a copy of a slice from a DataFrame.\n",
      "Try using .loc[row_indexer,col_indexer] = value instead\n",
      "\n",
      "See the caveats in the documentation: http://pandas.pydata.org/pandas-docs/stable/user_guide/indexing.html#returning-a-view-versus-a-copy\n",
      "  self.obj[key] = _infer_fill_value(value)\n"
     ]
    },
    {
     "name": "stdout",
     "output_type": "stream",
     "text": [
      "HI\n",
      "----------------------------------------------------------------------------------------------------\n",
      "Starting run at time 22:34:30\n",
      "Normalizing training and testing splits...\n",
      "Starting Classification training...\n",
      "Training time was: 38.48 seconds\n",
      "Testing time was: 0.95 seconds\n",
      "\n",
      "          Run ID        Date      Time                    Model Name Model Author Num Classes  Accuracy  Balanced Accuracy  AUC Score  Average Precision  F1 Score  Precision  Recall Samples In Train Samples In Test                                                                                      Model Description Column Predicted Num Features Used                                                                                       Data and Split Description Normalized Num Features Normalized Feature Extraction Was Untested Data Predicted\n",
      "0  ERYLOwqPo8Eg8  2019-07-28  22:34:30  random_forest_classification  Hamed        2           0.975     0.973              0.994      0.994              0.978     0.974      0.982   166786           41697           Random Forest: n_estimators=361, max_features=auto, criterion=entropy, min_samples_leaf=13, n_jobs=-1  class_label      12                {'experiment_id': 'r1dd37mcxv5pf4', 'random_state': 0, 'live_volume': 0.0, 'dead_volume': 370.0, 'stain': None}  True       12                      False              False                     \n",
      "\n",
      "Run finished at 22:35:11. Total run time = 40.96 seconds\n",
      "^^^^^^^^^^^^^^^^^^^^^^^^^^^^^^^^^^^^^^^^^^^^^^^^^^^^^^^^^^^^^^^^^^^^^^^^^^^^^^^^^^^^^^^^^^^^^^^^^^^^\n",
      "\n",
      "\n",
      "\n",
      "\n",
      "HI\n",
      "{'experiment_id': 'r1dd37mcxv5pf4', 'random_state': 0, 'live_volume': 0.0, 'dead_volume': 250.0, 'stain': 'SYTOX Red Stain'}\n",
      "data_columns: ['Container Type', 'Control', 'Culture_Volume', 'Media', 'Replicate', 'Storage (C)', 'Strain', 'checksum', 'filename', 'kill', 'kill_volume', 'plate_id', 'source', 'stain', 'well', 'experiment_id', 'Time', 'FSC-A', 'SSC-A', 'BL1-A', 'RL1-A', 'FSC-H', 'SSC-H', 'BL1-H', 'RL1-H', 'FSC-W', 'SSC-W', 'BL1-W', 'RL1-W']\n"
     ]
    },
    {
     "name": "stderr",
     "output_type": "stream",
     "text": [
      "/Users/danbryce/Documents/sift/xplan/external/xplan/xplan-to-autoprotocol-reactor/xplan-dev-env/xplan-dev-env/lib/python3.7/site-packages/pandas/core/indexing.py:480: SettingWithCopyWarning: \n",
      "A value is trying to be set on a copy of a slice from a DataFrame.\n",
      "Try using .loc[row_indexer,col_indexer] = value instead\n",
      "\n",
      "See the caveats in the documentation: http://pandas.pydata.org/pandas-docs/stable/user_guide/indexing.html#returning-a-view-versus-a-copy\n",
      "  self.obj[item] = s\n"
     ]
    },
    {
     "name": "stdout",
     "output_type": "stream",
     "text": [
      "['FSC-A', 'SSC-A', 'BL1-A', 'RL1-A', 'FSC-H', 'SSC-H', 'BL1-H', 'RL1-H', 'FSC-W', 'SSC-W', 'BL1-W', 'RL1-W']\n",
      "\n",
      "<harness.test_harness_class.TestHarness object at 0x175fa16a0>\n"
     ]
    },
    {
     "name": "stderr",
     "output_type": "stream",
     "text": [
      "/Users/danbryce/Documents/sift/xplan/external/xplan/xplan-to-autoprotocol-reactor/xplan-dev-env/xplan-dev-env/lib/python3.7/site-packages/pandas/core/indexing.py:362: SettingWithCopyWarning: \n",
      "A value is trying to be set on a copy of a slice from a DataFrame.\n",
      "Try using .loc[row_indexer,col_indexer] = value instead\n",
      "\n",
      "See the caveats in the documentation: http://pandas.pydata.org/pandas-docs/stable/user_guide/indexing.html#returning-a-view-versus-a-copy\n",
      "  self.obj[key] = _infer_fill_value(value)\n"
     ]
    },
    {
     "name": "stdout",
     "output_type": "stream",
     "text": [
      "HI\n",
      "----------------------------------------------------------------------------------------------------\n",
      "Starting run at time 22:35:16\n",
      "Normalizing training and testing splits...\n",
      "Starting Classification training...\n",
      "Training time was: 26.82 seconds\n",
      "Testing time was: 0.65 seconds\n",
      "\n",
      "          Run ID        Date      Time                    Model Name Model Author Num Classes  Accuracy  Balanced Accuracy  AUC Score  Average Precision  F1 Score  Precision  Recall Samples In Train Samples In Test                                                                                      Model Description Column Predicted Num Features Used                                                                                                    Data and Split Description Normalized Num Features Normalized Feature Extraction Was Untested Data Predicted\n",
      "0  6pQlRWWzzAzyl  2019-07-28  22:35:16  random_forest_classification  Hamed        2           0.997     0.997              1.0        1.0                0.997     1.0        0.995   147452           36864           Random Forest: n_estimators=361, max_features=auto, criterion=entropy, min_samples_leaf=13, n_jobs=-1  class_label      12                {'experiment_id': 'r1dd37mcxv5pf4', 'random_state': 0, 'live_volume': 0.0, 'dead_volume': 250.0, 'stain': 'SYTOX Red Stain'}  True       12                      False              False                     \n",
      "\n",
      "Run finished at 22:35:44. Total run time = 28.87 seconds\n",
      "^^^^^^^^^^^^^^^^^^^^^^^^^^^^^^^^^^^^^^^^^^^^^^^^^^^^^^^^^^^^^^^^^^^^^^^^^^^^^^^^^^^^^^^^^^^^^^^^^^^^\n",
      "\n",
      "\n",
      "\n",
      "\n",
      "HI\n",
      "{'experiment_id': 'r1dd37mcxv5pf4', 'random_state': 0, 'live_volume': 0.0, 'dead_volume': 250.0, 'stain': None}\n",
      "data_columns: ['Container Type', 'Control', 'Culture_Volume', 'Media', 'Replicate', 'Storage (C)', 'Strain', 'checksum', 'filename', 'kill', 'kill_volume', 'plate_id', 'source', 'stain', 'well', 'experiment_id', 'Time', 'FSC-A', 'SSC-A', 'BL1-A', 'RL1-A', 'FSC-H', 'SSC-H', 'BL1-H', 'RL1-H', 'FSC-W', 'SSC-W', 'BL1-W', 'RL1-W']\n"
     ]
    },
    {
     "name": "stderr",
     "output_type": "stream",
     "text": [
      "/Users/danbryce/Documents/sift/xplan/external/xplan/xplan-to-autoprotocol-reactor/xplan-dev-env/xplan-dev-env/lib/python3.7/site-packages/pandas/core/indexing.py:480: SettingWithCopyWarning: \n",
      "A value is trying to be set on a copy of a slice from a DataFrame.\n",
      "Try using .loc[row_indexer,col_indexer] = value instead\n",
      "\n",
      "See the caveats in the documentation: http://pandas.pydata.org/pandas-docs/stable/user_guide/indexing.html#returning-a-view-versus-a-copy\n",
      "  self.obj[item] = s\n"
     ]
    },
    {
     "name": "stdout",
     "output_type": "stream",
     "text": [
      "['FSC-A', 'SSC-A', 'BL1-A', 'RL1-A', 'FSC-H', 'SSC-H', 'BL1-H', 'RL1-H', 'FSC-W', 'SSC-W', 'BL1-W', 'RL1-W']\n",
      "\n",
      "<harness.test_harness_class.TestHarness object at 0x12c301b00>\n"
     ]
    },
    {
     "name": "stderr",
     "output_type": "stream",
     "text": [
      "/Users/danbryce/Documents/sift/xplan/external/xplan/xplan-to-autoprotocol-reactor/xplan-dev-env/xplan-dev-env/lib/python3.7/site-packages/pandas/core/indexing.py:362: SettingWithCopyWarning: \n",
      "A value is trying to be set on a copy of a slice from a DataFrame.\n",
      "Try using .loc[row_indexer,col_indexer] = value instead\n",
      "\n",
      "See the caveats in the documentation: http://pandas.pydata.org/pandas-docs/stable/user_guide/indexing.html#returning-a-view-versus-a-copy\n",
      "  self.obj[key] = _infer_fill_value(value)\n"
     ]
    },
    {
     "name": "stdout",
     "output_type": "stream",
     "text": [
      "HI\n",
      "----------------------------------------------------------------------------------------------------\n",
      "Starting run at time 22:35:49\n",
      "Normalizing training and testing splits...\n",
      "Starting Classification training...\n",
      "Training time was: 32.84 seconds\n",
      "Testing time was: 0.84 seconds\n",
      "\n",
      "          Run ID        Date      Time                    Model Name Model Author Num Classes  Accuracy  Balanced Accuracy  AUC Score  Average Precision  F1 Score  Precision  Recall Samples In Train Samples In Test                                                                                      Model Description Column Predicted Num Features Used                                                                                       Data and Split Description Normalized Num Features Normalized Feature Extraction Was Untested Data Predicted\n",
      "0  QOJQMVM8AJbek  2019-07-28  22:35:49  random_forest_classification  Hamed        2           0.962     0.958              0.991      0.995              0.972     0.974      0.969   142361           35591           Random Forest: n_estimators=361, max_features=auto, criterion=entropy, min_samples_leaf=13, n_jobs=-1  class_label      12                {'experiment_id': 'r1dd37mcxv5pf4', 'random_state': 0, 'live_volume': 0.0, 'dead_volume': 250.0, 'stain': None}  True       12                      False              False                     \n",
      "\n",
      "Run finished at 22:36:24. Total run time = 35.25 seconds\n",
      "^^^^^^^^^^^^^^^^^^^^^^^^^^^^^^^^^^^^^^^^^^^^^^^^^^^^^^^^^^^^^^^^^^^^^^^^^^^^^^^^^^^^^^^^^^^^^^^^^^^^\n",
      "\n",
      "\n",
      "\n",
      "\n",
      "HI\n",
      "{'experiment_id': 'r1dd37mcxv5pf4', 'random_state': 0, 'live_volume': 0.0, 'dead_volume': 170.0, 'stain': 'SYTOX Red Stain'}\n",
      "data_columns: ['Container Type', 'Control', 'Culture_Volume', 'Media', 'Replicate', 'Storage (C)', 'Strain', 'checksum', 'filename', 'kill', 'kill_volume', 'plate_id', 'source', 'stain', 'well', 'experiment_id', 'Time', 'FSC-A', 'SSC-A', 'BL1-A', 'RL1-A', 'FSC-H', 'SSC-H', 'BL1-H', 'RL1-H', 'FSC-W', 'SSC-W', 'BL1-W', 'RL1-W']\n"
     ]
    },
    {
     "name": "stderr",
     "output_type": "stream",
     "text": [
      "/Users/danbryce/Documents/sift/xplan/external/xplan/xplan-to-autoprotocol-reactor/xplan-dev-env/xplan-dev-env/lib/python3.7/site-packages/pandas/core/indexing.py:480: SettingWithCopyWarning: \n",
      "A value is trying to be set on a copy of a slice from a DataFrame.\n",
      "Try using .loc[row_indexer,col_indexer] = value instead\n",
      "\n",
      "See the caveats in the documentation: http://pandas.pydata.org/pandas-docs/stable/user_guide/indexing.html#returning-a-view-versus-a-copy\n",
      "  self.obj[item] = s\n"
     ]
    },
    {
     "name": "stdout",
     "output_type": "stream",
     "text": [
      "['FSC-A', 'SSC-A', 'BL1-A', 'RL1-A', 'FSC-H', 'SSC-H', 'BL1-H', 'RL1-H', 'FSC-W', 'SSC-W', 'BL1-W', 'RL1-W']\n",
      "\n",
      "<harness.test_harness_class.TestHarness object at 0x1b1c41cc0>\n"
     ]
    },
    {
     "name": "stderr",
     "output_type": "stream",
     "text": [
      "/Users/danbryce/Documents/sift/xplan/external/xplan/xplan-to-autoprotocol-reactor/xplan-dev-env/xplan-dev-env/lib/python3.7/site-packages/pandas/core/indexing.py:362: SettingWithCopyWarning: \n",
      "A value is trying to be set on a copy of a slice from a DataFrame.\n",
      "Try using .loc[row_indexer,col_indexer] = value instead\n",
      "\n",
      "See the caveats in the documentation: http://pandas.pydata.org/pandas-docs/stable/user_guide/indexing.html#returning-a-view-versus-a-copy\n",
      "  self.obj[key] = _infer_fill_value(value)\n"
     ]
    },
    {
     "name": "stdout",
     "output_type": "stream",
     "text": [
      "HI\n",
      "----------------------------------------------------------------------------------------------------\n",
      "Starting run at time 22:36:30\n",
      "Normalizing training and testing splits...\n",
      "Starting Classification training...\n",
      "Training time was: 44.92 seconds\n",
      "Testing time was: 0.86 seconds\n",
      "\n",
      "          Run ID        Date      Time                    Model Name Model Author Num Classes  Accuracy  Balanced Accuracy  AUC Score  Average Precision  F1 Score  Precision  Recall Samples In Train Samples In Test                                                                                      Model Description Column Predicted Num Features Used                                                                                                    Data and Split Description Normalized Num Features Normalized Feature Extraction Was Untested Data Predicted\n",
      "0  6aZAq8MdMBde3  2019-07-28  22:36:30  random_forest_classification  Hamed        2           0.997     0.997              0.999      0.999              0.997     0.999      0.995   192000           48000           Random Forest: n_estimators=361, max_features=auto, criterion=entropy, min_samples_leaf=13, n_jobs=-1  class_label      12                {'experiment_id': 'r1dd37mcxv5pf4', 'random_state': 0, 'live_volume': 0.0, 'dead_volume': 170.0, 'stain': 'SYTOX Red Stain'}  True       12                      False              False                     \n",
      "\n",
      "Run finished at 22:37:18. Total run time = 47.50 seconds\n",
      "^^^^^^^^^^^^^^^^^^^^^^^^^^^^^^^^^^^^^^^^^^^^^^^^^^^^^^^^^^^^^^^^^^^^^^^^^^^^^^^^^^^^^^^^^^^^^^^^^^^^\n",
      "\n",
      "\n",
      "\n",
      "\n",
      "HI\n",
      "{'experiment_id': 'r1dd37mcxv5pf4', 'random_state': 0, 'live_volume': 0.0, 'dead_volume': 170.0, 'stain': None}\n",
      "data_columns: ['Container Type', 'Control', 'Culture_Volume', 'Media', 'Replicate', 'Storage (C)', 'Strain', 'checksum', 'filename', 'kill', 'kill_volume', 'plate_id', 'source', 'stain', 'well', 'experiment_id', 'Time', 'FSC-A', 'SSC-A', 'BL1-A', 'RL1-A', 'FSC-H', 'SSC-H', 'BL1-H', 'RL1-H', 'FSC-W', 'SSC-W', 'BL1-W', 'RL1-W']\n"
     ]
    },
    {
     "name": "stderr",
     "output_type": "stream",
     "text": [
      "/Users/danbryce/Documents/sift/xplan/external/xplan/xplan-to-autoprotocol-reactor/xplan-dev-env/xplan-dev-env/lib/python3.7/site-packages/pandas/core/indexing.py:480: SettingWithCopyWarning: \n",
      "A value is trying to be set on a copy of a slice from a DataFrame.\n",
      "Try using .loc[row_indexer,col_indexer] = value instead\n",
      "\n",
      "See the caveats in the documentation: http://pandas.pydata.org/pandas-docs/stable/user_guide/indexing.html#returning-a-view-versus-a-copy\n",
      "  self.obj[item] = s\n"
     ]
    },
    {
     "name": "stdout",
     "output_type": "stream",
     "text": [
      "['FSC-A', 'SSC-A', 'BL1-A', 'RL1-A', 'FSC-H', 'SSC-H', 'BL1-H', 'RL1-H', 'FSC-W', 'SSC-W', 'BL1-W', 'RL1-W']\n",
      "\n",
      "<harness.test_harness_class.TestHarness object at 0x181547780>\n"
     ]
    },
    {
     "name": "stderr",
     "output_type": "stream",
     "text": [
      "/Users/danbryce/Documents/sift/xplan/external/xplan/xplan-to-autoprotocol-reactor/xplan-dev-env/xplan-dev-env/lib/python3.7/site-packages/pandas/core/indexing.py:362: SettingWithCopyWarning: \n",
      "A value is trying to be set on a copy of a slice from a DataFrame.\n",
      "Try using .loc[row_indexer,col_indexer] = value instead\n",
      "\n",
      "See the caveats in the documentation: http://pandas.pydata.org/pandas-docs/stable/user_guide/indexing.html#returning-a-view-versus-a-copy\n",
      "  self.obj[key] = _infer_fill_value(value)\n"
     ]
    },
    {
     "name": "stdout",
     "output_type": "stream",
     "text": [
      "HI\n",
      "----------------------------------------------------------------------------------------------------\n",
      "Starting run at time 22:37:24\n",
      "Normalizing training and testing splits...\n",
      "Starting Classification training...\n",
      "Training time was: 45.67 seconds\n",
      "Testing time was: 1.29 seconds\n",
      "\n",
      "          Run ID        Date      Time                    Model Name Model Author Num Classes  Accuracy  Balanced Accuracy  AUC Score  Average Precision  F1 Score  Precision  Recall Samples In Train Samples In Test                                                                                      Model Description Column Predicted Num Features Used                                                                                       Data and Split Description Normalized Num Features Normalized Feature Extraction Was Untested Data Predicted\n",
      "0  aYYBBo7beV1Vo  2019-07-28  22:37:24  random_forest_classification  Hamed        2           0.919     0.919              0.974      0.972              0.92      0.911      0.929   192000           48000           Random Forest: n_estimators=361, max_features=auto, criterion=entropy, min_samples_leaf=13, n_jobs=-1  class_label      12                {'experiment_id': 'r1dd37mcxv5pf4', 'random_state': 0, 'live_volume': 0.0, 'dead_volume': 170.0, 'stain': None}  True       12                      False              False                     \n",
      "\n",
      "Run finished at 22:38:13. Total run time = 48.73 seconds\n",
      "^^^^^^^^^^^^^^^^^^^^^^^^^^^^^^^^^^^^^^^^^^^^^^^^^^^^^^^^^^^^^^^^^^^^^^^^^^^^^^^^^^^^^^^^^^^^^^^^^^^^\n",
      "\n",
      "\n",
      "\n",
      "\n",
      "HI\n",
      "{'experiment_id': 'r1dd37mcxv5pf4', 'random_state': 0, 'live_volume': 0.0, 'dead_volume': 105.0, 'stain': 'SYTOX Red Stain'}\n",
      "data_columns: ['Container Type', 'Control', 'Culture_Volume', 'Media', 'Replicate', 'Storage (C)', 'Strain', 'checksum', 'filename', 'kill', 'kill_volume', 'plate_id', 'source', 'stain', 'well', 'experiment_id', 'Time', 'FSC-A', 'SSC-A', 'BL1-A', 'RL1-A', 'FSC-H', 'SSC-H', 'BL1-H', 'RL1-H', 'FSC-W', 'SSC-W', 'BL1-W', 'RL1-W']\n"
     ]
    },
    {
     "name": "stderr",
     "output_type": "stream",
     "text": [
      "/Users/danbryce/Documents/sift/xplan/external/xplan/xplan-to-autoprotocol-reactor/xplan-dev-env/xplan-dev-env/lib/python3.7/site-packages/pandas/core/indexing.py:480: SettingWithCopyWarning: \n",
      "A value is trying to be set on a copy of a slice from a DataFrame.\n",
      "Try using .loc[row_indexer,col_indexer] = value instead\n",
      "\n",
      "See the caveats in the documentation: http://pandas.pydata.org/pandas-docs/stable/user_guide/indexing.html#returning-a-view-versus-a-copy\n",
      "  self.obj[item] = s\n"
     ]
    },
    {
     "name": "stdout",
     "output_type": "stream",
     "text": [
      "['FSC-A', 'SSC-A', 'BL1-A', 'RL1-A', 'FSC-H', 'SSC-H', 'BL1-H', 'RL1-H', 'FSC-W', 'SSC-W', 'BL1-W', 'RL1-W']\n",
      "\n",
      "<harness.test_harness_class.TestHarness object at 0x1759880b8>\n"
     ]
    },
    {
     "name": "stderr",
     "output_type": "stream",
     "text": [
      "/Users/danbryce/Documents/sift/xplan/external/xplan/xplan-to-autoprotocol-reactor/xplan-dev-env/xplan-dev-env/lib/python3.7/site-packages/pandas/core/indexing.py:362: SettingWithCopyWarning: \n",
      "A value is trying to be set on a copy of a slice from a DataFrame.\n",
      "Try using .loc[row_indexer,col_indexer] = value instead\n",
      "\n",
      "See the caveats in the documentation: http://pandas.pydata.org/pandas-docs/stable/user_guide/indexing.html#returning-a-view-versus-a-copy\n",
      "  self.obj[key] = _infer_fill_value(value)\n"
     ]
    },
    {
     "name": "stdout",
     "output_type": "stream",
     "text": [
      "HI\n",
      "----------------------------------------------------------------------------------------------------\n",
      "Starting run at time 22:38:19\n",
      "Normalizing training and testing splits...\n",
      "Starting Classification training...\n",
      "Training time was: 36.47 seconds\n",
      "Testing time was: 0.67 seconds\n",
      "\n",
      "          Run ID        Date      Time                    Model Name Model Author Num Classes  Accuracy  Balanced Accuracy  AUC Score  Average Precision  F1 Score  Precision  Recall Samples In Train Samples In Test                                                                                      Model Description Column Predicted Num Features Used                                                                                                    Data and Split Description Normalized Num Features Normalized Feature Extraction Was Untested Data Predicted\n",
      "0  6d7y8B8BDNJGG  2019-07-28  22:38:19  random_forest_classification  Hamed        2           0.998     0.998              0.999      1.0                0.998     0.999      0.996   192000           48000           Random Forest: n_estimators=361, max_features=auto, criterion=entropy, min_samples_leaf=13, n_jobs=-1  class_label      12                {'experiment_id': 'r1dd37mcxv5pf4', 'random_state': 0, 'live_volume': 0.0, 'dead_volume': 105.0, 'stain': 'SYTOX Red Stain'}  True       12                      False              False                     \n",
      "\n",
      "Run finished at 22:38:58. Total run time = 39.06 seconds\n",
      "^^^^^^^^^^^^^^^^^^^^^^^^^^^^^^^^^^^^^^^^^^^^^^^^^^^^^^^^^^^^^^^^^^^^^^^^^^^^^^^^^^^^^^^^^^^^^^^^^^^^\n",
      "\n",
      "\n",
      "\n",
      "\n",
      "HI\n",
      "{'experiment_id': 'r1dd37mcxv5pf4', 'random_state': 0, 'live_volume': 0.0, 'dead_volume': 105.0, 'stain': None}\n",
      "data_columns: ['Container Type', 'Control', 'Culture_Volume', 'Media', 'Replicate', 'Storage (C)', 'Strain', 'checksum', 'filename', 'kill', 'kill_volume', 'plate_id', 'source', 'stain', 'well', 'experiment_id', 'Time', 'FSC-A', 'SSC-A', 'BL1-A', 'RL1-A', 'FSC-H', 'SSC-H', 'BL1-H', 'RL1-H', 'FSC-W', 'SSC-W', 'BL1-W', 'RL1-W']\n"
     ]
    },
    {
     "name": "stderr",
     "output_type": "stream",
     "text": [
      "/Users/danbryce/Documents/sift/xplan/external/xplan/xplan-to-autoprotocol-reactor/xplan-dev-env/xplan-dev-env/lib/python3.7/site-packages/pandas/core/indexing.py:480: SettingWithCopyWarning: \n",
      "A value is trying to be set on a copy of a slice from a DataFrame.\n",
      "Try using .loc[row_indexer,col_indexer] = value instead\n",
      "\n",
      "See the caveats in the documentation: http://pandas.pydata.org/pandas-docs/stable/user_guide/indexing.html#returning-a-view-versus-a-copy\n",
      "  self.obj[item] = s\n"
     ]
    },
    {
     "name": "stdout",
     "output_type": "stream",
     "text": [
      "['FSC-A', 'SSC-A', 'BL1-A', 'RL1-A', 'FSC-H', 'SSC-H', 'BL1-H', 'RL1-H', 'FSC-W', 'SSC-W', 'BL1-W', 'RL1-W']\n",
      "\n",
      "<harness.test_harness_class.TestHarness object at 0x1ce80dac8>\n"
     ]
    },
    {
     "name": "stderr",
     "output_type": "stream",
     "text": [
      "/Users/danbryce/Documents/sift/xplan/external/xplan/xplan-to-autoprotocol-reactor/xplan-dev-env/xplan-dev-env/lib/python3.7/site-packages/pandas/core/indexing.py:362: SettingWithCopyWarning: \n",
      "A value is trying to be set on a copy of a slice from a DataFrame.\n",
      "Try using .loc[row_indexer,col_indexer] = value instead\n",
      "\n",
      "See the caveats in the documentation: http://pandas.pydata.org/pandas-docs/stable/user_guide/indexing.html#returning-a-view-versus-a-copy\n",
      "  self.obj[key] = _infer_fill_value(value)\n"
     ]
    },
    {
     "name": "stdout",
     "output_type": "stream",
     "text": [
      "HI\n",
      "----------------------------------------------------------------------------------------------------\n",
      "Starting run at time 22:39:04\n",
      "Normalizing training and testing splits...\n",
      "Starting Classification training...\n",
      "Training time was: 44.66 seconds\n",
      "Testing time was: 1.09 seconds\n",
      "\n",
      "         Run ID        Date      Time                    Model Name Model Author Num Classes  Accuracy  Balanced Accuracy  AUC Score  Average Precision  F1 Score  Precision  Recall Samples In Train Samples In Test                                                                                      Model Description Column Predicted Num Features Used                                                                                       Data and Split Description Normalized Num Features Normalized Feature Extraction Was Untested Data Predicted\n",
      "0  Qb1wQg5Y2Oxe  2019-07-28  22:39:04  random_forest_classification  Hamed        2           0.938     0.938              0.984      0.982              0.939     0.928      0.95    192000           48000           Random Forest: n_estimators=361, max_features=auto, criterion=entropy, min_samples_leaf=13, n_jobs=-1  class_label      12                {'experiment_id': 'r1dd37mcxv5pf4', 'random_state': 0, 'live_volume': 0.0, 'dead_volume': 105.0, 'stain': None}  True       12                      False              False                     \n",
      "\n",
      "Run finished at 22:39:51. Total run time = 47.48 seconds\n",
      "^^^^^^^^^^^^^^^^^^^^^^^^^^^^^^^^^^^^^^^^^^^^^^^^^^^^^^^^^^^^^^^^^^^^^^^^^^^^^^^^^^^^^^^^^^^^^^^^^^^^\n",
      "\n",
      "\n",
      "\n",
      "\n",
      "HI\n",
      "{'experiment_id': 'r1dd37mcxv5pf4', 'random_state': 0, 'live_volume': 0.0, 'dead_volume': 64.0, 'stain': 'SYTOX Red Stain'}\n",
      "data_columns: ['Container Type', 'Control', 'Culture_Volume', 'Media', 'Replicate', 'Storage (C)', 'Strain', 'checksum', 'filename', 'kill', 'kill_volume', 'plate_id', 'source', 'stain', 'well', 'experiment_id', 'Time', 'FSC-A', 'SSC-A', 'BL1-A', 'RL1-A', 'FSC-H', 'SSC-H', 'BL1-H', 'RL1-H', 'FSC-W', 'SSC-W', 'BL1-W', 'RL1-W']\n"
     ]
    },
    {
     "name": "stderr",
     "output_type": "stream",
     "text": [
      "/Users/danbryce/Documents/sift/xplan/external/xplan/xplan-to-autoprotocol-reactor/xplan-dev-env/xplan-dev-env/lib/python3.7/site-packages/pandas/core/indexing.py:480: SettingWithCopyWarning: \n",
      "A value is trying to be set on a copy of a slice from a DataFrame.\n",
      "Try using .loc[row_indexer,col_indexer] = value instead\n",
      "\n",
      "See the caveats in the documentation: http://pandas.pydata.org/pandas-docs/stable/user_guide/indexing.html#returning-a-view-versus-a-copy\n",
      "  self.obj[item] = s\n"
     ]
    },
    {
     "name": "stdout",
     "output_type": "stream",
     "text": [
      "['FSC-A', 'SSC-A', 'BL1-A', 'RL1-A', 'FSC-H', 'SSC-H', 'BL1-H', 'RL1-H', 'FSC-W', 'SSC-W', 'BL1-W', 'RL1-W']\n",
      "\n",
      "<harness.test_harness_class.TestHarness object at 0x189949160>\n"
     ]
    },
    {
     "name": "stderr",
     "output_type": "stream",
     "text": [
      "/Users/danbryce/Documents/sift/xplan/external/xplan/xplan-to-autoprotocol-reactor/xplan-dev-env/xplan-dev-env/lib/python3.7/site-packages/pandas/core/indexing.py:362: SettingWithCopyWarning: \n",
      "A value is trying to be set on a copy of a slice from a DataFrame.\n",
      "Try using .loc[row_indexer,col_indexer] = value instead\n",
      "\n",
      "See the caveats in the documentation: http://pandas.pydata.org/pandas-docs/stable/user_guide/indexing.html#returning-a-view-versus-a-copy\n",
      "  self.obj[key] = _infer_fill_value(value)\n"
     ]
    },
    {
     "name": "stdout",
     "output_type": "stream",
     "text": [
      "HI\n",
      "----------------------------------------------------------------------------------------------------\n",
      "Starting run at time 22:39:57\n",
      "Normalizing training and testing splits...\n",
      "Starting Classification training...\n",
      "Training time was: 49.26 seconds\n",
      "Testing time was: 1.39 seconds\n",
      "\n",
      "          Run ID        Date      Time                    Model Name Model Author Num Classes  Accuracy  Balanced Accuracy  AUC Score  Average Precision  F1 Score  Precision  Recall Samples In Train Samples In Test                                                                                      Model Description Column Predicted Num Features Used                                                                                                   Data and Split Description Normalized Num Features Normalized Feature Extraction Was Untested Data Predicted\n",
      "0  QW1zQlA1EX8PP  2019-07-28  22:39:57  random_forest_classification  Hamed        2           0.856     0.856              0.925      0.906              0.864     0.816      0.919   192000           48000           Random Forest: n_estimators=361, max_features=auto, criterion=entropy, min_samples_leaf=13, n_jobs=-1  class_label      12                {'experiment_id': 'r1dd37mcxv5pf4', 'random_state': 0, 'live_volume': 0.0, 'dead_volume': 64.0, 'stain': 'SYTOX Red Stain'}  True       12                      False              False                     \n",
      "\n",
      "Run finished at 22:40:50. Total run time = 52.38 seconds\n",
      "^^^^^^^^^^^^^^^^^^^^^^^^^^^^^^^^^^^^^^^^^^^^^^^^^^^^^^^^^^^^^^^^^^^^^^^^^^^^^^^^^^^^^^^^^^^^^^^^^^^^\n",
      "\n",
      "\n",
      "\n",
      "\n",
      "HI\n",
      "{'experiment_id': 'r1dd37mcxv5pf4', 'random_state': 0, 'live_volume': 0.0, 'dead_volume': 64.0, 'stain': None}\n",
      "data_columns: ['Container Type', 'Control', 'Culture_Volume', 'Media', 'Replicate', 'Storage (C)', 'Strain', 'checksum', 'filename', 'kill', 'kill_volume', 'plate_id', 'source', 'stain', 'well', 'experiment_id', 'Time', 'FSC-A', 'SSC-A', 'BL1-A', 'RL1-A', 'FSC-H', 'SSC-H', 'BL1-H', 'RL1-H', 'FSC-W', 'SSC-W', 'BL1-W', 'RL1-W']\n"
     ]
    },
    {
     "name": "stderr",
     "output_type": "stream",
     "text": [
      "/Users/danbryce/Documents/sift/xplan/external/xplan/xplan-to-autoprotocol-reactor/xplan-dev-env/xplan-dev-env/lib/python3.7/site-packages/pandas/core/indexing.py:480: SettingWithCopyWarning: \n",
      "A value is trying to be set on a copy of a slice from a DataFrame.\n",
      "Try using .loc[row_indexer,col_indexer] = value instead\n",
      "\n",
      "See the caveats in the documentation: http://pandas.pydata.org/pandas-docs/stable/user_guide/indexing.html#returning-a-view-versus-a-copy\n",
      "  self.obj[item] = s\n"
     ]
    },
    {
     "name": "stdout",
     "output_type": "stream",
     "text": [
      "['FSC-A', 'SSC-A', 'BL1-A', 'RL1-A', 'FSC-H', 'SSC-H', 'BL1-H', 'RL1-H', 'FSC-W', 'SSC-W', 'BL1-W', 'RL1-W']\n",
      "\n",
      "<harness.test_harness_class.TestHarness object at 0x15ba19198>\n"
     ]
    },
    {
     "name": "stderr",
     "output_type": "stream",
     "text": [
      "/Users/danbryce/Documents/sift/xplan/external/xplan/xplan-to-autoprotocol-reactor/xplan-dev-env/xplan-dev-env/lib/python3.7/site-packages/pandas/core/indexing.py:362: SettingWithCopyWarning: \n",
      "A value is trying to be set on a copy of a slice from a DataFrame.\n",
      "Try using .loc[row_indexer,col_indexer] = value instead\n",
      "\n",
      "See the caveats in the documentation: http://pandas.pydata.org/pandas-docs/stable/user_guide/indexing.html#returning-a-view-versus-a-copy\n",
      "  self.obj[key] = _infer_fill_value(value)\n"
     ]
    },
    {
     "name": "stdout",
     "output_type": "stream",
     "text": [
      "HI\n",
      "----------------------------------------------------------------------------------------------------\n",
      "Starting run at time 22:40:56\n",
      "Normalizing training and testing splits...\n",
      "Starting Classification training...\n",
      "Training time was: 45.34 seconds\n",
      "Testing time was: 1.29 seconds\n",
      "\n",
      "          Run ID        Date      Time                    Model Name Model Author Num Classes  Accuracy  Balanced Accuracy  AUC Score  Average Precision  F1 Score  Precision  Recall Samples In Train Samples In Test                                                                                      Model Description Column Predicted Num Features Used                                                                                      Data and Split Description Normalized Num Features Normalized Feature Extraction Was Untested Data Predicted\n",
      "0  aMw2X6No7e16d  2019-07-28  22:40:56  random_forest_classification  Hamed        2           0.795     0.795              0.876      0.86               0.805     0.767      0.846   192000           48000           Random Forest: n_estimators=361, max_features=auto, criterion=entropy, min_samples_leaf=13, n_jobs=-1  class_label      12                {'experiment_id': 'r1dd37mcxv5pf4', 'random_state': 0, 'live_volume': 0.0, 'dead_volume': 64.0, 'stain': None}  True       12                      False              False                     \n",
      "\n",
      "Run finished at 22:41:45. Total run time = 48.65 seconds\n",
      "^^^^^^^^^^^^^^^^^^^^^^^^^^^^^^^^^^^^^^^^^^^^^^^^^^^^^^^^^^^^^^^^^^^^^^^^^^^^^^^^^^^^^^^^^^^^^^^^^^^^\n",
      "\n",
      "\n",
      "\n",
      "\n",
      "HI\n",
      "{'experiment_id': 'r1dd37mcxv5pf4', 'random_state': 0, 'live_volume': 0.0, 'dead_volume': 29, 'stain': 'SYTOX Red Stain'}\n",
      "data_columns: ['Container Type', 'Control', 'Culture_Volume', 'Media', 'Replicate', 'Storage (C)', 'Strain', 'checksum', 'filename', 'kill', 'kill_volume', 'plate_id', 'source', 'stain', 'well', 'experiment_id', 'Time', 'FSC-A', 'SSC-A', 'BL1-A', 'RL1-A', 'FSC-H', 'SSC-H', 'BL1-H', 'RL1-H', 'FSC-W', 'SSC-W', 'BL1-W', 'RL1-W']\n"
     ]
    },
    {
     "name": "stderr",
     "output_type": "stream",
     "text": [
      "/Users/danbryce/Documents/sift/xplan/external/xplan/xplan-to-autoprotocol-reactor/xplan-dev-env/xplan-dev-env/lib/python3.7/site-packages/pandas/core/indexing.py:480: SettingWithCopyWarning: \n",
      "A value is trying to be set on a copy of a slice from a DataFrame.\n",
      "Try using .loc[row_indexer,col_indexer] = value instead\n",
      "\n",
      "See the caveats in the documentation: http://pandas.pydata.org/pandas-docs/stable/user_guide/indexing.html#returning-a-view-versus-a-copy\n",
      "  self.obj[item] = s\n"
     ]
    },
    {
     "name": "stdout",
     "output_type": "stream",
     "text": [
      "['FSC-A', 'SSC-A', 'BL1-A', 'RL1-A', 'FSC-H', 'SSC-H', 'BL1-H', 'RL1-H', 'FSC-W', 'SSC-W', 'BL1-W', 'RL1-W']\n",
      "\n",
      "<harness.test_harness_class.TestHarness object at 0x1d2c9c4a8>\n"
     ]
    },
    {
     "name": "stderr",
     "output_type": "stream",
     "text": [
      "/Users/danbryce/Documents/sift/xplan/external/xplan/xplan-to-autoprotocol-reactor/xplan-dev-env/xplan-dev-env/lib/python3.7/site-packages/pandas/core/indexing.py:362: SettingWithCopyWarning: \n",
      "A value is trying to be set on a copy of a slice from a DataFrame.\n",
      "Try using .loc[row_indexer,col_indexer] = value instead\n",
      "\n",
      "See the caveats in the documentation: http://pandas.pydata.org/pandas-docs/stable/user_guide/indexing.html#returning-a-view-versus-a-copy\n",
      "  self.obj[key] = _infer_fill_value(value)\n"
     ]
    },
    {
     "name": "stdout",
     "output_type": "stream",
     "text": [
      "HI\n",
      "----------------------------------------------------------------------------------------------------\n",
      "Starting run at time 22:41:51\n",
      "Normalizing training and testing splits...\n",
      "Starting Classification training...\n",
      "Training time was: 59.11 seconds\n",
      "Testing time was: 1.72 seconds\n",
      "\n",
      "          Run ID        Date      Time                    Model Name Model Author Num Classes  Accuracy  Balanced Accuracy  AUC Score  Average Precision  F1 Score  Precision  Recall Samples In Train Samples In Test                                                                                      Model Description Column Predicted Num Features Used                                                                                                 Data and Split Description Normalized Num Features Normalized Feature Extraction Was Untested Data Predicted\n",
      "0  agQdGbxB5XoGw  2019-07-28  22:41:51  random_forest_classification  Hamed        2           0.647     0.647              0.708      0.674              0.672     0.628      0.724   192000           48000           Random Forest: n_estimators=361, max_features=auto, criterion=entropy, min_samples_leaf=13, n_jobs=-1  class_label      12                {'experiment_id': 'r1dd37mcxv5pf4', 'random_state': 0, 'live_volume': 0.0, 'dead_volume': 29, 'stain': 'SYTOX Red Stain'}  True       12                      False              False                     \n",
      "\n",
      "Run finished at 22:42:54. Total run time = 62.58 seconds\n",
      "^^^^^^^^^^^^^^^^^^^^^^^^^^^^^^^^^^^^^^^^^^^^^^^^^^^^^^^^^^^^^^^^^^^^^^^^^^^^^^^^^^^^^^^^^^^^^^^^^^^^\n",
      "\n",
      "\n",
      "\n",
      "\n",
      "HI\n",
      "{'experiment_id': 'r1dd37mcxv5pf4', 'random_state': 0, 'live_volume': 0.0, 'dead_volume': 29, 'stain': None}\n",
      "data_columns: ['Container Type', 'Control', 'Culture_Volume', 'Media', 'Replicate', 'Storage (C)', 'Strain', 'checksum', 'filename', 'kill', 'kill_volume', 'plate_id', 'source', 'stain', 'well', 'experiment_id', 'Time', 'FSC-A', 'SSC-A', 'BL1-A', 'RL1-A', 'FSC-H', 'SSC-H', 'BL1-H', 'RL1-H', 'FSC-W', 'SSC-W', 'BL1-W', 'RL1-W']\n"
     ]
    },
    {
     "name": "stderr",
     "output_type": "stream",
     "text": [
      "/Users/danbryce/Documents/sift/xplan/external/xplan/xplan-to-autoprotocol-reactor/xplan-dev-env/xplan-dev-env/lib/python3.7/site-packages/pandas/core/indexing.py:480: SettingWithCopyWarning: \n",
      "A value is trying to be set on a copy of a slice from a DataFrame.\n",
      "Try using .loc[row_indexer,col_indexer] = value instead\n",
      "\n",
      "See the caveats in the documentation: http://pandas.pydata.org/pandas-docs/stable/user_guide/indexing.html#returning-a-view-versus-a-copy\n",
      "  self.obj[item] = s\n"
     ]
    },
    {
     "name": "stdout",
     "output_type": "stream",
     "text": [
      "['FSC-A', 'SSC-A', 'BL1-A', 'RL1-A', 'FSC-H', 'SSC-H', 'BL1-H', 'RL1-H', 'FSC-W', 'SSC-W', 'BL1-W', 'RL1-W']\n",
      "\n",
      "<harness.test_harness_class.TestHarness object at 0x1d25497f0>\n"
     ]
    },
    {
     "name": "stderr",
     "output_type": "stream",
     "text": [
      "/Users/danbryce/Documents/sift/xplan/external/xplan/xplan-to-autoprotocol-reactor/xplan-dev-env/xplan-dev-env/lib/python3.7/site-packages/pandas/core/indexing.py:362: SettingWithCopyWarning: \n",
      "A value is trying to be set on a copy of a slice from a DataFrame.\n",
      "Try using .loc[row_indexer,col_indexer] = value instead\n",
      "\n",
      "See the caveats in the documentation: http://pandas.pydata.org/pandas-docs/stable/user_guide/indexing.html#returning-a-view-versus-a-copy\n",
      "  self.obj[key] = _infer_fill_value(value)\n"
     ]
    },
    {
     "name": "stdout",
     "output_type": "stream",
     "text": [
      "HI\n",
      "----------------------------------------------------------------------------------------------------\n",
      "Starting run at time 22:43:00\n",
      "Normalizing training and testing splits...\n",
      "Starting Classification training...\n",
      "Training time was: 47.32 seconds\n",
      "Testing time was: 1.59 seconds\n",
      "\n",
      "          Run ID        Date      Time                    Model Name Model Author Num Classes  Accuracy  Balanced Accuracy  AUC Score  Average Precision  F1 Score  Precision  Recall Samples In Train Samples In Test                                                                                      Model Description Column Predicted Num Features Used                                                                                    Data and Split Description Normalized Num Features Normalized Feature Extraction Was Untested Data Predicted\n",
      "0  ENV8g573z5AEx  2019-07-28  22:43:00  random_forest_classification  Hamed        2           0.638     0.638              0.691      0.674              0.639     0.637      0.642   192000           48000           Random Forest: n_estimators=361, max_features=auto, criterion=entropy, min_samples_leaf=13, n_jobs=-1  class_label      12                {'experiment_id': 'r1dd37mcxv5pf4', 'random_state': 0, 'live_volume': 0.0, 'dead_volume': 29, 'stain': None}  True       12                      False              False                     \n",
      "\n",
      "Run finished at 22:43:50. Total run time = 50.58 seconds\n",
      "^^^^^^^^^^^^^^^^^^^^^^^^^^^^^^^^^^^^^^^^^^^^^^^^^^^^^^^^^^^^^^^^^^^^^^^^^^^^^^^^^^^^^^^^^^^^^^^^^^^^\n",
      "\n",
      "\n",
      "\n",
      "\n",
      "HI\n",
      "{'experiment_id': 'r1dd37mcxv5pf4', 'random_state': 1, 'live_volume': 0.0, 'dead_volume': 980.0, 'stain': 'SYTOX Red Stain'}\n",
      "data_columns: ['Container Type', 'Control', 'Culture_Volume', 'Media', 'Replicate', 'Storage (C)', 'Strain', 'checksum', 'filename', 'kill', 'kill_volume', 'plate_id', 'source', 'stain', 'well', 'experiment_id', 'Time', 'FSC-A', 'SSC-A', 'BL1-A', 'RL1-A', 'FSC-H', 'SSC-H', 'BL1-H', 'RL1-H', 'FSC-W', 'SSC-W', 'BL1-W', 'RL1-W']\n"
     ]
    },
    {
     "name": "stderr",
     "output_type": "stream",
     "text": [
      "/Users/danbryce/Documents/sift/xplan/external/xplan/xplan-to-autoprotocol-reactor/xplan-dev-env/xplan-dev-env/lib/python3.7/site-packages/pandas/core/indexing.py:480: SettingWithCopyWarning: \n",
      "A value is trying to be set on a copy of a slice from a DataFrame.\n",
      "Try using .loc[row_indexer,col_indexer] = value instead\n",
      "\n",
      "See the caveats in the documentation: http://pandas.pydata.org/pandas-docs/stable/user_guide/indexing.html#returning-a-view-versus-a-copy\n",
      "  self.obj[item] = s\n"
     ]
    },
    {
     "name": "stdout",
     "output_type": "stream",
     "text": [
      "['FSC-A', 'SSC-A', 'BL1-A', 'RL1-A', 'FSC-H', 'SSC-H', 'BL1-H', 'RL1-H', 'FSC-W', 'SSC-W', 'BL1-W', 'RL1-W']\n",
      "\n",
      "<harness.test_harness_class.TestHarness object at 0x1d2549a58>\n"
     ]
    },
    {
     "name": "stderr",
     "output_type": "stream",
     "text": [
      "/Users/danbryce/Documents/sift/xplan/external/xplan/xplan-to-autoprotocol-reactor/xplan-dev-env/xplan-dev-env/lib/python3.7/site-packages/pandas/core/indexing.py:362: SettingWithCopyWarning: \n",
      "A value is trying to be set on a copy of a slice from a DataFrame.\n",
      "Try using .loc[row_indexer,col_indexer] = value instead\n",
      "\n",
      "See the caveats in the documentation: http://pandas.pydata.org/pandas-docs/stable/user_guide/indexing.html#returning-a-view-versus-a-copy\n",
      "  self.obj[key] = _infer_fill_value(value)\n"
     ]
    },
    {
     "name": "stdout",
     "output_type": "stream",
     "text": [
      "HI\n",
      "----------------------------------------------------------------------------------------------------\n",
      "Starting run at time 22:43:56\n",
      "Normalizing training and testing splits...\n",
      "Starting Classification training...\n",
      "Training time was: 31.76 seconds\n",
      "Testing time was: 0.67 seconds\n",
      "\n",
      "          Run ID        Date      Time                    Model Name Model Author Num Classes  Accuracy  Balanced Accuracy  AUC Score  Average Precision  F1 Score  Precision  Recall Samples In Train Samples In Test                                                                                      Model Description Column Predicted Num Features Used                                                                                                    Data and Split Description Normalized Num Features Normalized Feature Extraction Was Untested Data Predicted\n",
      "0  E6DGzPYyyzzaz  2019-07-28  22:43:56  random_forest_classification  Hamed        2           0.998     0.998              1.0        1.0                0.998     0.998      0.998   192000           48000           Random Forest: n_estimators=361, max_features=auto, criterion=entropy, min_samples_leaf=13, n_jobs=-1  class_label      12                {'experiment_id': 'r1dd37mcxv5pf4', 'random_state': 1, 'live_volume': 0.0, 'dead_volume': 980.0, 'stain': 'SYTOX Red Stain'}  True       12                      False              False                     \n",
      "\n",
      "Run finished at 22:44:31. Total run time = 34.42 seconds\n",
      "^^^^^^^^^^^^^^^^^^^^^^^^^^^^^^^^^^^^^^^^^^^^^^^^^^^^^^^^^^^^^^^^^^^^^^^^^^^^^^^^^^^^^^^^^^^^^^^^^^^^\n",
      "\n",
      "\n",
      "\n",
      "\n",
      "HI\n",
      "{'experiment_id': 'r1dd37mcxv5pf4', 'random_state': 1, 'live_volume': 0.0, 'dead_volume': 980.0, 'stain': None}\n",
      "data_columns: ['Container Type', 'Control', 'Culture_Volume', 'Media', 'Replicate', 'Storage (C)', 'Strain', 'checksum', 'filename', 'kill', 'kill_volume', 'plate_id', 'source', 'stain', 'well', 'experiment_id', 'Time', 'FSC-A', 'SSC-A', 'BL1-A', 'RL1-A', 'FSC-H', 'SSC-H', 'BL1-H', 'RL1-H', 'FSC-W', 'SSC-W', 'BL1-W', 'RL1-W']\n"
     ]
    },
    {
     "name": "stderr",
     "output_type": "stream",
     "text": [
      "/Users/danbryce/Documents/sift/xplan/external/xplan/xplan-to-autoprotocol-reactor/xplan-dev-env/xplan-dev-env/lib/python3.7/site-packages/pandas/core/indexing.py:480: SettingWithCopyWarning: \n",
      "A value is trying to be set on a copy of a slice from a DataFrame.\n",
      "Try using .loc[row_indexer,col_indexer] = value instead\n",
      "\n",
      "See the caveats in the documentation: http://pandas.pydata.org/pandas-docs/stable/user_guide/indexing.html#returning-a-view-versus-a-copy\n",
      "  self.obj[item] = s\n"
     ]
    },
    {
     "name": "stdout",
     "output_type": "stream",
     "text": [
      "['FSC-A', 'SSC-A', 'BL1-A', 'RL1-A', 'FSC-H', 'SSC-H', 'BL1-H', 'RL1-H', 'FSC-W', 'SSC-W', 'BL1-W', 'RL1-W']\n",
      "\n",
      "<harness.test_harness_class.TestHarness object at 0x1d6ecd978>\n"
     ]
    },
    {
     "name": "stderr",
     "output_type": "stream",
     "text": [
      "/Users/danbryce/Documents/sift/xplan/external/xplan/xplan-to-autoprotocol-reactor/xplan-dev-env/xplan-dev-env/lib/python3.7/site-packages/pandas/core/indexing.py:362: SettingWithCopyWarning: \n",
      "A value is trying to be set on a copy of a slice from a DataFrame.\n",
      "Try using .loc[row_indexer,col_indexer] = value instead\n",
      "\n",
      "See the caveats in the documentation: http://pandas.pydata.org/pandas-docs/stable/user_guide/indexing.html#returning-a-view-versus-a-copy\n",
      "  self.obj[key] = _infer_fill_value(value)\n"
     ]
    },
    {
     "name": "stdout",
     "output_type": "stream",
     "text": [
      "HI\n",
      "----------------------------------------------------------------------------------------------------\n",
      "Starting run at time 22:44:37\n",
      "Normalizing training and testing splits...\n",
      "Starting Classification training...\n",
      "Training time was: 36.04 seconds\n",
      "Testing time was: 0.67 seconds\n",
      "\n",
      "          Run ID        Date      Time                    Model Name Model Author Num Classes  Accuracy  Balanced Accuracy  AUC Score  Average Precision  F1 Score  Precision  Recall Samples In Train Samples In Test                                                                                      Model Description Column Predicted Num Features Used                                                                                       Data and Split Description Normalized Num Features Normalized Feature Extraction Was Untested Data Predicted\n",
      "0  5O3pEm6Mp3eYG  2019-07-28  22:44:37  random_forest_classification  Hamed        2           0.994     0.994              1.0        1.0                0.994     0.992      0.996   192000           48000           Random Forest: n_estimators=361, max_features=auto, criterion=entropy, min_samples_leaf=13, n_jobs=-1  class_label      12                {'experiment_id': 'r1dd37mcxv5pf4', 'random_state': 1, 'live_volume': 0.0, 'dead_volume': 980.0, 'stain': None}  True       12                      False              False                     \n",
      "\n",
      "Run finished at 22:45:15. Total run time = 38.44 seconds\n",
      "^^^^^^^^^^^^^^^^^^^^^^^^^^^^^^^^^^^^^^^^^^^^^^^^^^^^^^^^^^^^^^^^^^^^^^^^^^^^^^^^^^^^^^^^^^^^^^^^^^^^\n",
      "\n",
      "\n",
      "\n",
      "\n",
      "HI\n",
      "{'experiment_id': 'r1dd37mcxv5pf4', 'random_state': 1, 'live_volume': 0.0, 'dead_volume': 570.0, 'stain': 'SYTOX Red Stain'}\n",
      "data_columns: ['Container Type', 'Control', 'Culture_Volume', 'Media', 'Replicate', 'Storage (C)', 'Strain', 'checksum', 'filename', 'kill', 'kill_volume', 'plate_id', 'source', 'stain', 'well', 'experiment_id', 'Time', 'FSC-A', 'SSC-A', 'BL1-A', 'RL1-A', 'FSC-H', 'SSC-H', 'BL1-H', 'RL1-H', 'FSC-W', 'SSC-W', 'BL1-W', 'RL1-W']\n"
     ]
    },
    {
     "name": "stderr",
     "output_type": "stream",
     "text": [
      "/Users/danbryce/Documents/sift/xplan/external/xplan/xplan-to-autoprotocol-reactor/xplan-dev-env/xplan-dev-env/lib/python3.7/site-packages/pandas/core/indexing.py:480: SettingWithCopyWarning: \n",
      "A value is trying to be set on a copy of a slice from a DataFrame.\n",
      "Try using .loc[row_indexer,col_indexer] = value instead\n",
      "\n",
      "See the caveats in the documentation: http://pandas.pydata.org/pandas-docs/stable/user_guide/indexing.html#returning-a-view-versus-a-copy\n",
      "  self.obj[item] = s\n"
     ]
    },
    {
     "name": "stdout",
     "output_type": "stream",
     "text": [
      "['FSC-A', 'SSC-A', 'BL1-A', 'RL1-A', 'FSC-H', 'SSC-H', 'BL1-H', 'RL1-H', 'FSC-W', 'SSC-W', 'BL1-W', 'RL1-W']\n",
      "\n",
      "<harness.test_harness_class.TestHarness object at 0x18a18c978>\n"
     ]
    },
    {
     "name": "stderr",
     "output_type": "stream",
     "text": [
      "/Users/danbryce/Documents/sift/xplan/external/xplan/xplan-to-autoprotocol-reactor/xplan-dev-env/xplan-dev-env/lib/python3.7/site-packages/pandas/core/indexing.py:362: SettingWithCopyWarning: \n",
      "A value is trying to be set on a copy of a slice from a DataFrame.\n",
      "Try using .loc[row_indexer,col_indexer] = value instead\n",
      "\n",
      "See the caveats in the documentation: http://pandas.pydata.org/pandas-docs/stable/user_guide/indexing.html#returning-a-view-versus-a-copy\n",
      "  self.obj[key] = _infer_fill_value(value)\n"
     ]
    },
    {
     "name": "stdout",
     "output_type": "stream",
     "text": [
      "HI\n",
      "----------------------------------------------------------------------------------------------------\n",
      "Starting run at time 22:45:21\n",
      "Normalizing training and testing splits...\n",
      "Starting Classification training...\n",
      "Training time was: 33.18 seconds\n",
      "Testing time was: 0.67 seconds\n",
      "\n",
      "          Run ID        Date      Time                    Model Name Model Author Num Classes  Accuracy  Balanced Accuracy  AUC Score  Average Precision  F1 Score  Precision  Recall Samples In Train Samples In Test                                                                                      Model Description Column Predicted Num Features Used                                                                                                    Data and Split Description Normalized Num Features Normalized Feature Extraction Was Untested Data Predicted\n",
      "0  aAOo1562Oydqw  2019-07-28  22:45:21  random_forest_classification  Hamed        2           0.998     0.998              1.0        1.0                0.998     0.999      0.996   192000           48000           Random Forest: n_estimators=361, max_features=auto, criterion=entropy, min_samples_leaf=13, n_jobs=-1  class_label      12                {'experiment_id': 'r1dd37mcxv5pf4', 'random_state': 1, 'live_volume': 0.0, 'dead_volume': 570.0, 'stain': 'SYTOX Red Stain'}  True       12                      False              False                     \n",
      "\n",
      "Run finished at 22:45:57. Total run time = 35.57 seconds\n",
      "^^^^^^^^^^^^^^^^^^^^^^^^^^^^^^^^^^^^^^^^^^^^^^^^^^^^^^^^^^^^^^^^^^^^^^^^^^^^^^^^^^^^^^^^^^^^^^^^^^^^\n",
      "\n",
      "\n",
      "\n",
      "\n",
      "HI\n",
      "{'experiment_id': 'r1dd37mcxv5pf4', 'random_state': 1, 'live_volume': 0.0, 'dead_volume': 570.0, 'stain': None}\n",
      "data_columns: ['Container Type', 'Control', 'Culture_Volume', 'Media', 'Replicate', 'Storage (C)', 'Strain', 'checksum', 'filename', 'kill', 'kill_volume', 'plate_id', 'source', 'stain', 'well', 'experiment_id', 'Time', 'FSC-A', 'SSC-A', 'BL1-A', 'RL1-A', 'FSC-H', 'SSC-H', 'BL1-H', 'RL1-H', 'FSC-W', 'SSC-W', 'BL1-W', 'RL1-W']\n"
     ]
    },
    {
     "name": "stderr",
     "output_type": "stream",
     "text": [
      "/Users/danbryce/Documents/sift/xplan/external/xplan/xplan-to-autoprotocol-reactor/xplan-dev-env/xplan-dev-env/lib/python3.7/site-packages/pandas/core/indexing.py:480: SettingWithCopyWarning: \n",
      "A value is trying to be set on a copy of a slice from a DataFrame.\n",
      "Try using .loc[row_indexer,col_indexer] = value instead\n",
      "\n",
      "See the caveats in the documentation: http://pandas.pydata.org/pandas-docs/stable/user_guide/indexing.html#returning-a-view-versus-a-copy\n",
      "  self.obj[item] = s\n"
     ]
    },
    {
     "name": "stdout",
     "output_type": "stream",
     "text": [
      "['FSC-A', 'SSC-A', 'BL1-A', 'RL1-A', 'FSC-H', 'SSC-H', 'BL1-H', 'RL1-H', 'FSC-W', 'SSC-W', 'BL1-W', 'RL1-W']\n",
      "\n",
      "<harness.test_harness_class.TestHarness object at 0x182145f28>\n"
     ]
    },
    {
     "name": "stderr",
     "output_type": "stream",
     "text": [
      "/Users/danbryce/Documents/sift/xplan/external/xplan/xplan-to-autoprotocol-reactor/xplan-dev-env/xplan-dev-env/lib/python3.7/site-packages/pandas/core/indexing.py:362: SettingWithCopyWarning: \n",
      "A value is trying to be set on a copy of a slice from a DataFrame.\n",
      "Try using .loc[row_indexer,col_indexer] = value instead\n",
      "\n",
      "See the caveats in the documentation: http://pandas.pydata.org/pandas-docs/stable/user_guide/indexing.html#returning-a-view-versus-a-copy\n",
      "  self.obj[key] = _infer_fill_value(value)\n"
     ]
    },
    {
     "name": "stdout",
     "output_type": "stream",
     "text": [
      "HI\n",
      "----------------------------------------------------------------------------------------------------\n",
      "Starting run at time 22:46:03\n",
      "Normalizing training and testing splits...\n",
      "Starting Classification training...\n",
      "Training time was: 42.19 seconds\n",
      "Testing time was: 1.05 seconds\n",
      "\n",
      "         Run ID        Date      Time                    Model Name Model Author Num Classes  Accuracy  Balanced Accuracy  AUC Score  Average Precision  F1 Score  Precision  Recall Samples In Train Samples In Test                                                                                      Model Description Column Predicted Num Features Used                                                                                       Data and Split Description Normalized Num Features Normalized Feature Extraction Was Untested Data Predicted\n",
      "0  aPk7M3yOapRo  2019-07-28  22:46:03  random_forest_classification  Hamed        2           0.978     0.977              0.997      0.997              0.979     0.974      0.984   183965           45992           Random Forest: n_estimators=361, max_features=auto, criterion=entropy, min_samples_leaf=13, n_jobs=-1  class_label      12                {'experiment_id': 'r1dd37mcxv5pf4', 'random_state': 1, 'live_volume': 0.0, 'dead_volume': 570.0, 'stain': None}  True       12                      False              False                     \n",
      "\n",
      "Run finished at 22:46:48. Total run time = 44.85 seconds\n",
      "^^^^^^^^^^^^^^^^^^^^^^^^^^^^^^^^^^^^^^^^^^^^^^^^^^^^^^^^^^^^^^^^^^^^^^^^^^^^^^^^^^^^^^^^^^^^^^^^^^^^\n",
      "\n",
      "\n",
      "\n",
      "\n",
      "HI\n",
      "{'experiment_id': 'r1dd37mcxv5pf4', 'random_state': 1, 'live_volume': 0.0, 'dead_volume': 370.0, 'stain': 'SYTOX Red Stain'}\n"
     ]
    },
    {
     "name": "stderr",
     "output_type": "stream",
     "text": [
      "/Users/danbryce/Documents/sift/xplan/external/xplan/xplan-to-autoprotocol-reactor/xplan-dev-env/xplan-dev-env/lib/python3.7/site-packages/pandas/core/indexing.py:480: SettingWithCopyWarning: \n",
      "A value is trying to be set on a copy of a slice from a DataFrame.\n",
      "Try using .loc[row_indexer,col_indexer] = value instead\n",
      "\n",
      "See the caveats in the documentation: http://pandas.pydata.org/pandas-docs/stable/user_guide/indexing.html#returning-a-view-versus-a-copy\n",
      "  self.obj[item] = s\n"
     ]
    },
    {
     "name": "stdout",
     "output_type": "stream",
     "text": [
      "data_columns: ['Container Type', 'Control', 'Culture_Volume', 'Media', 'Replicate', 'Storage (C)', 'Strain', 'checksum', 'filename', 'kill', 'kill_volume', 'plate_id', 'source', 'stain', 'well', 'experiment_id', 'Time', 'FSC-A', 'SSC-A', 'BL1-A', 'RL1-A', 'FSC-H', 'SSC-H', 'BL1-H', 'RL1-H', 'FSC-W', 'SSC-W', 'BL1-W', 'RL1-W']\n",
      "['FSC-A', 'SSC-A', 'BL1-A', 'RL1-A', 'FSC-H', 'SSC-H', 'BL1-H', 'RL1-H', 'FSC-W', 'SSC-W', 'BL1-W', 'RL1-W']\n",
      "\n",
      "<harness.test_harness_class.TestHarness object at 0x15b9d6dd8>\n"
     ]
    },
    {
     "name": "stderr",
     "output_type": "stream",
     "text": [
      "/Users/danbryce/Documents/sift/xplan/external/xplan/xplan-to-autoprotocol-reactor/xplan-dev-env/xplan-dev-env/lib/python3.7/site-packages/pandas/core/indexing.py:362: SettingWithCopyWarning: \n",
      "A value is trying to be set on a copy of a slice from a DataFrame.\n",
      "Try using .loc[row_indexer,col_indexer] = value instead\n",
      "\n",
      "See the caveats in the documentation: http://pandas.pydata.org/pandas-docs/stable/user_guide/indexing.html#returning-a-view-versus-a-copy\n",
      "  self.obj[key] = _infer_fill_value(value)\n"
     ]
    },
    {
     "name": "stdout",
     "output_type": "stream",
     "text": [
      "HI\n",
      "----------------------------------------------------------------------------------------------------\n",
      "Starting run at time 22:46:53\n",
      "Normalizing training and testing splits...\n",
      "Starting Classification training...\n",
      "Training time was: 27.66 seconds\n",
      "Testing time was: 0.66 seconds\n",
      "\n",
      "          Run ID        Date      Time                    Model Name Model Author Num Classes  Accuracy  Balanced Accuracy  AUC Score  Average Precision  F1 Score  Precision  Recall Samples In Train Samples In Test                                                                                      Model Description Column Predicted Num Features Used                                                                                                    Data and Split Description Normalized Num Features Normalized Feature Extraction Was Untested Data Predicted\n",
      "0  aLvOdbZAMDzjV  2019-07-28  22:46:53  random_forest_classification  Hamed        2           0.997     0.997              1.0        1.0                0.997     0.999      0.996   175331           43833           Random Forest: n_estimators=361, max_features=auto, criterion=entropy, min_samples_leaf=13, n_jobs=-1  class_label      12                {'experiment_id': 'r1dd37mcxv5pf4', 'random_state': 1, 'live_volume': 0.0, 'dead_volume': 370.0, 'stain': 'SYTOX Red Stain'}  True       12                      False              False                     \n",
      "\n",
      "Run finished at 22:47:23. Total run time = 29.87 seconds\n",
      "^^^^^^^^^^^^^^^^^^^^^^^^^^^^^^^^^^^^^^^^^^^^^^^^^^^^^^^^^^^^^^^^^^^^^^^^^^^^^^^^^^^^^^^^^^^^^^^^^^^^\n",
      "\n",
      "\n",
      "\n",
      "\n",
      "HI\n",
      "{'experiment_id': 'r1dd37mcxv5pf4', 'random_state': 1, 'live_volume': 0.0, 'dead_volume': 370.0, 'stain': None}\n",
      "data_columns: ['Container Type', 'Control', 'Culture_Volume', 'Media', 'Replicate', 'Storage (C)', 'Strain', 'checksum', 'filename', 'kill', 'kill_volume', 'plate_id', 'source', 'stain', 'well', 'experiment_id', 'Time', 'FSC-A', 'SSC-A', 'BL1-A', 'RL1-A', 'FSC-H', 'SSC-H', 'BL1-H', 'RL1-H', 'FSC-W', 'SSC-W', 'BL1-W', 'RL1-W']\n"
     ]
    },
    {
     "name": "stderr",
     "output_type": "stream",
     "text": [
      "/Users/danbryce/Documents/sift/xplan/external/xplan/xplan-to-autoprotocol-reactor/xplan-dev-env/xplan-dev-env/lib/python3.7/site-packages/pandas/core/indexing.py:480: SettingWithCopyWarning: \n",
      "A value is trying to be set on a copy of a slice from a DataFrame.\n",
      "Try using .loc[row_indexer,col_indexer] = value instead\n",
      "\n",
      "See the caveats in the documentation: http://pandas.pydata.org/pandas-docs/stable/user_guide/indexing.html#returning-a-view-versus-a-copy\n",
      "  self.obj[item] = s\n"
     ]
    },
    {
     "name": "stdout",
     "output_type": "stream",
     "text": [
      "['FSC-A', 'SSC-A', 'BL1-A', 'RL1-A', 'FSC-H', 'SSC-H', 'BL1-H', 'RL1-H', 'FSC-W', 'SSC-W', 'BL1-W', 'RL1-W']\n",
      "\n",
      "<harness.test_harness_class.TestHarness object at 0x19d8f1240>\n"
     ]
    },
    {
     "name": "stderr",
     "output_type": "stream",
     "text": [
      "/Users/danbryce/Documents/sift/xplan/external/xplan/xplan-to-autoprotocol-reactor/xplan-dev-env/xplan-dev-env/lib/python3.7/site-packages/pandas/core/indexing.py:362: SettingWithCopyWarning: \n",
      "A value is trying to be set on a copy of a slice from a DataFrame.\n",
      "Try using .loc[row_indexer,col_indexer] = value instead\n",
      "\n",
      "See the caveats in the documentation: http://pandas.pydata.org/pandas-docs/stable/user_guide/indexing.html#returning-a-view-versus-a-copy\n",
      "  self.obj[key] = _infer_fill_value(value)\n"
     ]
    },
    {
     "name": "stdout",
     "output_type": "stream",
     "text": [
      "HI\n",
      "----------------------------------------------------------------------------------------------------\n",
      "Starting run at time 22:47:28\n",
      "Normalizing training and testing splits...\n",
      "Starting Classification training...\n",
      "Training time was: 38.98 seconds\n",
      "Testing time was: 0.87 seconds\n",
      "\n",
      "          Run ID        Date      Time                    Model Name Model Author Num Classes  Accuracy  Balanced Accuracy  AUC Score  Average Precision  F1 Score  Precision  Recall Samples In Train Samples In Test                                                                                      Model Description Column Predicted Num Features Used                                                                                       Data and Split Description Normalized Num Features Normalized Feature Extraction Was Untested Data Predicted\n",
      "0  Qza5oqLGYZdv1  2019-07-28  22:47:28  random_forest_classification  Hamed        2           0.974     0.972              0.995      0.996              0.977     0.974      0.98    166786           41697           Random Forest: n_estimators=361, max_features=auto, criterion=entropy, min_samples_leaf=13, n_jobs=-1  class_label      12                {'experiment_id': 'r1dd37mcxv5pf4', 'random_state': 1, 'live_volume': 0.0, 'dead_volume': 370.0, 'stain': None}  True       12                      False              False                     \n",
      "\n",
      "Run finished at 22:48:10. Total run time = 41.40 seconds\n",
      "^^^^^^^^^^^^^^^^^^^^^^^^^^^^^^^^^^^^^^^^^^^^^^^^^^^^^^^^^^^^^^^^^^^^^^^^^^^^^^^^^^^^^^^^^^^^^^^^^^^^\n",
      "\n",
      "\n",
      "\n",
      "\n",
      "HI\n",
      "{'experiment_id': 'r1dd37mcxv5pf4', 'random_state': 1, 'live_volume': 0.0, 'dead_volume': 250.0, 'stain': 'SYTOX Red Stain'}\n",
      "data_columns: ['Container Type', 'Control', 'Culture_Volume', 'Media', 'Replicate', 'Storage (C)', 'Strain', 'checksum', 'filename', 'kill', 'kill_volume', 'plate_id', 'source', 'stain', 'well', 'experiment_id', 'Time', 'FSC-A', 'SSC-A', 'BL1-A', 'RL1-A', 'FSC-H', 'SSC-H', 'BL1-H', 'RL1-H', 'FSC-W', 'SSC-W', 'BL1-W', 'RL1-W']\n"
     ]
    },
    {
     "name": "stderr",
     "output_type": "stream",
     "text": [
      "/Users/danbryce/Documents/sift/xplan/external/xplan/xplan-to-autoprotocol-reactor/xplan-dev-env/xplan-dev-env/lib/python3.7/site-packages/pandas/core/indexing.py:480: SettingWithCopyWarning: \n",
      "A value is trying to be set on a copy of a slice from a DataFrame.\n",
      "Try using .loc[row_indexer,col_indexer] = value instead\n",
      "\n",
      "See the caveats in the documentation: http://pandas.pydata.org/pandas-docs/stable/user_guide/indexing.html#returning-a-view-versus-a-copy\n",
      "  self.obj[item] = s\n"
     ]
    },
    {
     "name": "stdout",
     "output_type": "stream",
     "text": [
      "['FSC-A', 'SSC-A', 'BL1-A', 'RL1-A', 'FSC-H', 'SSC-H', 'BL1-H', 'RL1-H', 'FSC-W', 'SSC-W', 'BL1-W', 'RL1-W']\n",
      "\n",
      "<harness.test_harness_class.TestHarness object at 0x1d6eb0e10>\n"
     ]
    },
    {
     "name": "stderr",
     "output_type": "stream",
     "text": [
      "/Users/danbryce/Documents/sift/xplan/external/xplan/xplan-to-autoprotocol-reactor/xplan-dev-env/xplan-dev-env/lib/python3.7/site-packages/pandas/core/indexing.py:362: SettingWithCopyWarning: \n",
      "A value is trying to be set on a copy of a slice from a DataFrame.\n",
      "Try using .loc[row_indexer,col_indexer] = value instead\n",
      "\n",
      "See the caveats in the documentation: http://pandas.pydata.org/pandas-docs/stable/user_guide/indexing.html#returning-a-view-versus-a-copy\n",
      "  self.obj[key] = _infer_fill_value(value)\n"
     ]
    },
    {
     "name": "stdout",
     "output_type": "stream",
     "text": [
      "HI\n",
      "----------------------------------------------------------------------------------------------------\n",
      "Starting run at time 22:48:14\n",
      "Normalizing training and testing splits...\n",
      "Starting Classification training...\n",
      "Training time was: 24.83 seconds\n",
      "Testing time was: 0.55 seconds\n",
      "\n",
      "          Run ID        Date      Time                    Model Name Model Author Num Classes  Accuracy  Balanced Accuracy  AUC Score  Average Precision  F1 Score  Precision  Recall Samples In Train Samples In Test                                                                                      Model Description Column Predicted Num Features Used                                                                                                    Data and Split Description Normalized Num Features Normalized Feature Extraction Was Untested Data Predicted\n",
      "0  5WlXyaxqRyAZN  2019-07-28  22:48:14  random_forest_classification  Hamed        2           0.996     0.997              1.0        1.0                0.997     1.0        0.995   147452           36864           Random Forest: n_estimators=361, max_features=auto, criterion=entropy, min_samples_leaf=13, n_jobs=-1  class_label      12                {'experiment_id': 'r1dd37mcxv5pf4', 'random_state': 1, 'live_volume': 0.0, 'dead_volume': 250.0, 'stain': 'SYTOX Red Stain'}  True       12                      False              False                     \n",
      "\n",
      "Run finished at 22:48:41. Total run time = 26.78 seconds\n",
      "^^^^^^^^^^^^^^^^^^^^^^^^^^^^^^^^^^^^^^^^^^^^^^^^^^^^^^^^^^^^^^^^^^^^^^^^^^^^^^^^^^^^^^^^^^^^^^^^^^^^\n",
      "\n",
      "\n",
      "\n",
      "\n",
      "HI\n",
      "{'experiment_id': 'r1dd37mcxv5pf4', 'random_state': 1, 'live_volume': 0.0, 'dead_volume': 250.0, 'stain': None}\n",
      "data_columns: ['Container Type', 'Control', 'Culture_Volume', 'Media', 'Replicate', 'Storage (C)', 'Strain', 'checksum', 'filename', 'kill', 'kill_volume', 'plate_id', 'source', 'stain', 'well', 'experiment_id', 'Time', 'FSC-A', 'SSC-A', 'BL1-A', 'RL1-A', 'FSC-H', 'SSC-H', 'BL1-H', 'RL1-H', 'FSC-W', 'SSC-W', 'BL1-W', 'RL1-W']\n"
     ]
    },
    {
     "name": "stderr",
     "output_type": "stream",
     "text": [
      "/Users/danbryce/Documents/sift/xplan/external/xplan/xplan-to-autoprotocol-reactor/xplan-dev-env/xplan-dev-env/lib/python3.7/site-packages/pandas/core/indexing.py:480: SettingWithCopyWarning: \n",
      "A value is trying to be set on a copy of a slice from a DataFrame.\n",
      "Try using .loc[row_indexer,col_indexer] = value instead\n",
      "\n",
      "See the caveats in the documentation: http://pandas.pydata.org/pandas-docs/stable/user_guide/indexing.html#returning-a-view-versus-a-copy\n",
      "  self.obj[item] = s\n"
     ]
    },
    {
     "name": "stdout",
     "output_type": "stream",
     "text": [
      "['FSC-A', 'SSC-A', 'BL1-A', 'RL1-A', 'FSC-H', 'SSC-H', 'BL1-H', 'RL1-H', 'FSC-W', 'SSC-W', 'BL1-W', 'RL1-W']\n",
      "\n",
      "<harness.test_harness_class.TestHarness object at 0x18a399c18>\n"
     ]
    },
    {
     "name": "stderr",
     "output_type": "stream",
     "text": [
      "/Users/danbryce/Documents/sift/xplan/external/xplan/xplan-to-autoprotocol-reactor/xplan-dev-env/xplan-dev-env/lib/python3.7/site-packages/pandas/core/indexing.py:362: SettingWithCopyWarning: \n",
      "A value is trying to be set on a copy of a slice from a DataFrame.\n",
      "Try using .loc[row_indexer,col_indexer] = value instead\n",
      "\n",
      "See the caveats in the documentation: http://pandas.pydata.org/pandas-docs/stable/user_guide/indexing.html#returning-a-view-versus-a-copy\n",
      "  self.obj[key] = _infer_fill_value(value)\n"
     ]
    },
    {
     "name": "stdout",
     "output_type": "stream",
     "text": [
      "HI\n",
      "----------------------------------------------------------------------------------------------------\n",
      "Starting run at time 22:48:45\n",
      "Normalizing training and testing splits...\n",
      "Starting Classification training...\n",
      "Training time was: 31.41 seconds\n",
      "Testing time was: 0.85 seconds\n",
      "\n",
      "          Run ID        Date      Time                    Model Name Model Author Num Classes  Accuracy  Balanced Accuracy  AUC Score  Average Precision  F1 Score  Precision  Recall Samples In Train Samples In Test                                                                                      Model Description Column Predicted Num Features Used                                                                                       Data and Split Description Normalized Num Features Normalized Feature Extraction Was Untested Data Predicted\n",
      "0  ab59BdOe659Pb  2019-07-28  22:48:45  random_forest_classification  Hamed        2           0.96      0.957              0.991      0.995              0.971     0.975      0.966   142361           35591           Random Forest: n_estimators=361, max_features=auto, criterion=entropy, min_samples_leaf=13, n_jobs=-1  class_label      12                {'experiment_id': 'r1dd37mcxv5pf4', 'random_state': 1, 'live_volume': 0.0, 'dead_volume': 250.0, 'stain': None}  True       12                      False              False                     \n",
      "\n",
      "Run finished at 22:49:19. Total run time = 33.68 seconds\n",
      "^^^^^^^^^^^^^^^^^^^^^^^^^^^^^^^^^^^^^^^^^^^^^^^^^^^^^^^^^^^^^^^^^^^^^^^^^^^^^^^^^^^^^^^^^^^^^^^^^^^^\n",
      "\n",
      "\n",
      "\n",
      "\n",
      "HI\n",
      "{'experiment_id': 'r1dd37mcxv5pf4', 'random_state': 1, 'live_volume': 0.0, 'dead_volume': 170.0, 'stain': 'SYTOX Red Stain'}\n",
      "data_columns: ['Container Type', 'Control', 'Culture_Volume', 'Media', 'Replicate', 'Storage (C)', 'Strain', 'checksum', 'filename', 'kill', 'kill_volume', 'plate_id', 'source', 'stain', 'well', 'experiment_id', 'Time', 'FSC-A', 'SSC-A', 'BL1-A', 'RL1-A', 'FSC-H', 'SSC-H', 'BL1-H', 'RL1-H', 'FSC-W', 'SSC-W', 'BL1-W', 'RL1-W']\n"
     ]
    },
    {
     "name": "stderr",
     "output_type": "stream",
     "text": [
      "/Users/danbryce/Documents/sift/xplan/external/xplan/xplan-to-autoprotocol-reactor/xplan-dev-env/xplan-dev-env/lib/python3.7/site-packages/pandas/core/indexing.py:480: SettingWithCopyWarning: \n",
      "A value is trying to be set on a copy of a slice from a DataFrame.\n",
      "Try using .loc[row_indexer,col_indexer] = value instead\n",
      "\n",
      "See the caveats in the documentation: http://pandas.pydata.org/pandas-docs/stable/user_guide/indexing.html#returning-a-view-versus-a-copy\n",
      "  self.obj[item] = s\n"
     ]
    },
    {
     "name": "stdout",
     "output_type": "stream",
     "text": [
      "['FSC-A', 'SSC-A', 'BL1-A', 'RL1-A', 'FSC-H', 'SSC-H', 'BL1-H', 'RL1-H', 'FSC-W', 'SSC-W', 'BL1-W', 'RL1-W']\n",
      "\n",
      "<harness.test_harness_class.TestHarness object at 0x1821a06d8>\n"
     ]
    },
    {
     "name": "stderr",
     "output_type": "stream",
     "text": [
      "/Users/danbryce/Documents/sift/xplan/external/xplan/xplan-to-autoprotocol-reactor/xplan-dev-env/xplan-dev-env/lib/python3.7/site-packages/pandas/core/indexing.py:362: SettingWithCopyWarning: \n",
      "A value is trying to be set on a copy of a slice from a DataFrame.\n",
      "Try using .loc[row_indexer,col_indexer] = value instead\n",
      "\n",
      "See the caveats in the documentation: http://pandas.pydata.org/pandas-docs/stable/user_guide/indexing.html#returning-a-view-versus-a-copy\n",
      "  self.obj[key] = _infer_fill_value(value)\n"
     ]
    },
    {
     "name": "stdout",
     "output_type": "stream",
     "text": [
      "HI\n",
      "----------------------------------------------------------------------------------------------------\n",
      "Starting run at time 22:49:25\n",
      "Normalizing training and testing splits...\n",
      "Starting Classification training...\n",
      "Training time was: 42.21 seconds\n",
      "Testing time was: 0.77 seconds\n",
      "\n",
      "          Run ID        Date      Time                    Model Name Model Author Num Classes  Accuracy  Balanced Accuracy  AUC Score  Average Precision  F1 Score  Precision  Recall Samples In Train Samples In Test                                                                                      Model Description Column Predicted Num Features Used                                                                                                    Data and Split Description Normalized Num Features Normalized Feature Extraction Was Untested Data Predicted\n",
      "0  EWobN8pAr85RJ  2019-07-28  22:49:25  random_forest_classification  Hamed        2           0.997     0.997              1.0        0.999              0.997     0.998      0.995   192000           48000           Random Forest: n_estimators=361, max_features=auto, criterion=entropy, min_samples_leaf=13, n_jobs=-1  class_label      12                {'experiment_id': 'r1dd37mcxv5pf4', 'random_state': 1, 'live_volume': 0.0, 'dead_volume': 170.0, 'stain': 'SYTOX Red Stain'}  True       12                      False              False                     \n",
      "\n",
      "Run finished at 22:50:10. Total run time = 44.64 seconds\n",
      "^^^^^^^^^^^^^^^^^^^^^^^^^^^^^^^^^^^^^^^^^^^^^^^^^^^^^^^^^^^^^^^^^^^^^^^^^^^^^^^^^^^^^^^^^^^^^^^^^^^^\n",
      "\n",
      "\n",
      "\n",
      "\n",
      "HI\n",
      "{'experiment_id': 'r1dd37mcxv5pf4', 'random_state': 1, 'live_volume': 0.0, 'dead_volume': 170.0, 'stain': None}\n",
      "data_columns: ['Container Type', 'Control', 'Culture_Volume', 'Media', 'Replicate', 'Storage (C)', 'Strain', 'checksum', 'filename', 'kill', 'kill_volume', 'plate_id', 'source', 'stain', 'well', 'experiment_id', 'Time', 'FSC-A', 'SSC-A', 'BL1-A', 'RL1-A', 'FSC-H', 'SSC-H', 'BL1-H', 'RL1-H', 'FSC-W', 'SSC-W', 'BL1-W', 'RL1-W']\n"
     ]
    },
    {
     "name": "stderr",
     "output_type": "stream",
     "text": [
      "/Users/danbryce/Documents/sift/xplan/external/xplan/xplan-to-autoprotocol-reactor/xplan-dev-env/xplan-dev-env/lib/python3.7/site-packages/pandas/core/indexing.py:480: SettingWithCopyWarning: \n",
      "A value is trying to be set on a copy of a slice from a DataFrame.\n",
      "Try using .loc[row_indexer,col_indexer] = value instead\n",
      "\n",
      "See the caveats in the documentation: http://pandas.pydata.org/pandas-docs/stable/user_guide/indexing.html#returning-a-view-versus-a-copy\n",
      "  self.obj[item] = s\n"
     ]
    },
    {
     "name": "stdout",
     "output_type": "stream",
     "text": [
      "['FSC-A', 'SSC-A', 'BL1-A', 'RL1-A', 'FSC-H', 'SSC-H', 'BL1-H', 'RL1-H', 'FSC-W', 'SSC-W', 'BL1-W', 'RL1-W']\n",
      "\n",
      "<harness.test_harness_class.TestHarness object at 0x19d8e8080>\n"
     ]
    },
    {
     "name": "stderr",
     "output_type": "stream",
     "text": [
      "/Users/danbryce/Documents/sift/xplan/external/xplan/xplan-to-autoprotocol-reactor/xplan-dev-env/xplan-dev-env/lib/python3.7/site-packages/pandas/core/indexing.py:362: SettingWithCopyWarning: \n",
      "A value is trying to be set on a copy of a slice from a DataFrame.\n",
      "Try using .loc[row_indexer,col_indexer] = value instead\n",
      "\n",
      "See the caveats in the documentation: http://pandas.pydata.org/pandas-docs/stable/user_guide/indexing.html#returning-a-view-versus-a-copy\n",
      "  self.obj[key] = _infer_fill_value(value)\n"
     ]
    },
    {
     "name": "stdout",
     "output_type": "stream",
     "text": [
      "HI\n",
      "----------------------------------------------------------------------------------------------------\n",
      "Starting run at time 22:50:16\n",
      "Normalizing training and testing splits...\n",
      "Starting Classification training...\n",
      "Training time was: 43.18 seconds\n",
      "Testing time was: 1.30 seconds\n",
      "\n",
      "          Run ID        Date      Time                    Model Name Model Author Num Classes  Accuracy  Balanced Accuracy  AUC Score  Average Precision  F1 Score  Precision  Recall Samples In Train Samples In Test                                                                                      Model Description Column Predicted Num Features Used                                                                                       Data and Split Description Normalized Num Features Normalized Feature Extraction Was Untested Data Predicted\n",
      "0  5rp7xR8wp35qb  2019-07-28  22:50:16  random_forest_classification  Hamed        2           0.918     0.918              0.973      0.971              0.919     0.91       0.928   192000           48000           Random Forest: n_estimators=361, max_features=auto, criterion=entropy, min_samples_leaf=13, n_jobs=-1  class_label      12                {'experiment_id': 'r1dd37mcxv5pf4', 'random_state': 1, 'live_volume': 0.0, 'dead_volume': 170.0, 'stain': None}  True       12                      False              False                     \n",
      "\n",
      "Run finished at 22:51:02. Total run time = 46.19 seconds\n",
      "^^^^^^^^^^^^^^^^^^^^^^^^^^^^^^^^^^^^^^^^^^^^^^^^^^^^^^^^^^^^^^^^^^^^^^^^^^^^^^^^^^^^^^^^^^^^^^^^^^^^\n",
      "\n",
      "\n",
      "\n",
      "\n",
      "HI\n",
      "{'experiment_id': 'r1dd37mcxv5pf4', 'random_state': 1, 'live_volume': 0.0, 'dead_volume': 105.0, 'stain': 'SYTOX Red Stain'}\n",
      "data_columns: ['Container Type', 'Control', 'Culture_Volume', 'Media', 'Replicate', 'Storage (C)', 'Strain', 'checksum', 'filename', 'kill', 'kill_volume', 'plate_id', 'source', 'stain', 'well', 'experiment_id', 'Time', 'FSC-A', 'SSC-A', 'BL1-A', 'RL1-A', 'FSC-H', 'SSC-H', 'BL1-H', 'RL1-H', 'FSC-W', 'SSC-W', 'BL1-W', 'RL1-W']\n"
     ]
    },
    {
     "name": "stderr",
     "output_type": "stream",
     "text": [
      "/Users/danbryce/Documents/sift/xplan/external/xplan/xplan-to-autoprotocol-reactor/xplan-dev-env/xplan-dev-env/lib/python3.7/site-packages/pandas/core/indexing.py:480: SettingWithCopyWarning: \n",
      "A value is trying to be set on a copy of a slice from a DataFrame.\n",
      "Try using .loc[row_indexer,col_indexer] = value instead\n",
      "\n",
      "See the caveats in the documentation: http://pandas.pydata.org/pandas-docs/stable/user_guide/indexing.html#returning-a-view-versus-a-copy\n",
      "  self.obj[item] = s\n"
     ]
    },
    {
     "name": "stdout",
     "output_type": "stream",
     "text": [
      "['FSC-A', 'SSC-A', 'BL1-A', 'RL1-A', 'FSC-H', 'SSC-H', 'BL1-H', 'RL1-H', 'FSC-W', 'SSC-W', 'BL1-W', 'RL1-W']\n",
      "\n",
      "<harness.test_harness_class.TestHarness object at 0x1e564fb70>\n"
     ]
    },
    {
     "name": "stderr",
     "output_type": "stream",
     "text": [
      "/Users/danbryce/Documents/sift/xplan/external/xplan/xplan-to-autoprotocol-reactor/xplan-dev-env/xplan-dev-env/lib/python3.7/site-packages/pandas/core/indexing.py:362: SettingWithCopyWarning: \n",
      "A value is trying to be set on a copy of a slice from a DataFrame.\n",
      "Try using .loc[row_indexer,col_indexer] = value instead\n",
      "\n",
      "See the caveats in the documentation: http://pandas.pydata.org/pandas-docs/stable/user_guide/indexing.html#returning-a-view-versus-a-copy\n",
      "  self.obj[key] = _infer_fill_value(value)\n"
     ]
    },
    {
     "name": "stdout",
     "output_type": "stream",
     "text": [
      "HI\n",
      "----------------------------------------------------------------------------------------------------\n",
      "Starting run at time 22:51:08\n",
      "Normalizing training and testing splits...\n",
      "Starting Classification training...\n",
      "Training time was: 36.41 seconds\n",
      "Testing time was: 0.67 seconds\n",
      "\n",
      "          Run ID        Date      Time                    Model Name Model Author Num Classes  Accuracy  Balanced Accuracy  AUC Score  Average Precision  F1 Score  Precision  Recall Samples In Train Samples In Test                                                                                      Model Description Column Predicted Num Features Used                                                                                                    Data and Split Description Normalized Num Features Normalized Feature Extraction Was Untested Data Predicted\n",
      "0  ErY5lgEWjd77z  2019-07-28  22:51:08  random_forest_classification  Hamed        2           0.998     0.998              1.0        1.0                0.998     0.999      0.996   192000           48000           Random Forest: n_estimators=361, max_features=auto, criterion=entropy, min_samples_leaf=13, n_jobs=-1  class_label      12                {'experiment_id': 'r1dd37mcxv5pf4', 'random_state': 1, 'live_volume': 0.0, 'dead_volume': 105.0, 'stain': 'SYTOX Red Stain'}  True       12                      False              False                     \n",
      "\n",
      "Run finished at 22:51:47. Total run time = 38.75 seconds\n",
      "^^^^^^^^^^^^^^^^^^^^^^^^^^^^^^^^^^^^^^^^^^^^^^^^^^^^^^^^^^^^^^^^^^^^^^^^^^^^^^^^^^^^^^^^^^^^^^^^^^^^\n",
      "\n",
      "\n",
      "\n",
      "\n",
      "HI\n",
      "{'experiment_id': 'r1dd37mcxv5pf4', 'random_state': 1, 'live_volume': 0.0, 'dead_volume': 105.0, 'stain': None}\n",
      "data_columns: ['Container Type', 'Control', 'Culture_Volume', 'Media', 'Replicate', 'Storage (C)', 'Strain', 'checksum', 'filename', 'kill', 'kill_volume', 'plate_id', 'source', 'stain', 'well', 'experiment_id', 'Time', 'FSC-A', 'SSC-A', 'BL1-A', 'RL1-A', 'FSC-H', 'SSC-H', 'BL1-H', 'RL1-H', 'FSC-W', 'SSC-W', 'BL1-W', 'RL1-W']\n"
     ]
    },
    {
     "name": "stderr",
     "output_type": "stream",
     "text": [
      "/Users/danbryce/Documents/sift/xplan/external/xplan/xplan-to-autoprotocol-reactor/xplan-dev-env/xplan-dev-env/lib/python3.7/site-packages/pandas/core/indexing.py:480: SettingWithCopyWarning: \n",
      "A value is trying to be set on a copy of a slice from a DataFrame.\n",
      "Try using .loc[row_indexer,col_indexer] = value instead\n",
      "\n",
      "See the caveats in the documentation: http://pandas.pydata.org/pandas-docs/stable/user_guide/indexing.html#returning-a-view-versus-a-copy\n",
      "  self.obj[item] = s\n"
     ]
    },
    {
     "name": "stdout",
     "output_type": "stream",
     "text": [
      "['FSC-A', 'SSC-A', 'BL1-A', 'RL1-A', 'FSC-H', 'SSC-H', 'BL1-H', 'RL1-H', 'FSC-W', 'SSC-W', 'BL1-W', 'RL1-W']\n",
      "\n",
      "<harness.test_harness_class.TestHarness object at 0x203d73470>\n"
     ]
    },
    {
     "name": "stderr",
     "output_type": "stream",
     "text": [
      "/Users/danbryce/Documents/sift/xplan/external/xplan/xplan-to-autoprotocol-reactor/xplan-dev-env/xplan-dev-env/lib/python3.7/site-packages/pandas/core/indexing.py:362: SettingWithCopyWarning: \n",
      "A value is trying to be set on a copy of a slice from a DataFrame.\n",
      "Try using .loc[row_indexer,col_indexer] = value instead\n",
      "\n",
      "See the caveats in the documentation: http://pandas.pydata.org/pandas-docs/stable/user_guide/indexing.html#returning-a-view-versus-a-copy\n",
      "  self.obj[key] = _infer_fill_value(value)\n"
     ]
    },
    {
     "name": "stdout",
     "output_type": "stream",
     "text": [
      "HI\n",
      "----------------------------------------------------------------------------------------------------\n",
      "Starting run at time 22:51:53\n",
      "Normalizing training and testing splits...\n",
      "Starting Classification training...\n",
      "Training time was: 41.05 seconds\n",
      "Testing time was: 1.07 seconds\n",
      "\n",
      "          Run ID        Date      Time                    Model Name Model Author Num Classes  Accuracy  Balanced Accuracy  AUC Score  Average Precision  F1 Score  Precision  Recall Samples In Train Samples In Test                                                                                      Model Description Column Predicted Num Features Used                                                                                       Data and Split Description Normalized Num Features Normalized Feature Extraction Was Untested Data Predicted\n",
      "0  6bRZxRZWkOJXW  2019-07-28  22:51:53  random_forest_classification  Hamed        2           0.936     0.936              0.983      0.982              0.937     0.924      0.95    192000           48000           Random Forest: n_estimators=361, max_features=auto, criterion=entropy, min_samples_leaf=13, n_jobs=-1  class_label      12                {'experiment_id': 'r1dd37mcxv5pf4', 'random_state': 1, 'live_volume': 0.0, 'dead_volume': 105.0, 'stain': None}  True       12                      False              False                     \n",
      "\n",
      "Run finished at 22:52:36. Total run time = 43.75 seconds\n",
      "^^^^^^^^^^^^^^^^^^^^^^^^^^^^^^^^^^^^^^^^^^^^^^^^^^^^^^^^^^^^^^^^^^^^^^^^^^^^^^^^^^^^^^^^^^^^^^^^^^^^\n",
      "\n",
      "\n",
      "\n",
      "\n",
      "HI\n",
      "{'experiment_id': 'r1dd37mcxv5pf4', 'random_state': 1, 'live_volume': 0.0, 'dead_volume': 64.0, 'stain': 'SYTOX Red Stain'}\n",
      "data_columns: ['Container Type', 'Control', 'Culture_Volume', 'Media', 'Replicate', 'Storage (C)', 'Strain', 'checksum', 'filename', 'kill', 'kill_volume', 'plate_id', 'source', 'stain', 'well', 'experiment_id', 'Time', 'FSC-A', 'SSC-A', 'BL1-A', 'RL1-A', 'FSC-H', 'SSC-H', 'BL1-H', 'RL1-H', 'FSC-W', 'SSC-W', 'BL1-W', 'RL1-W']\n"
     ]
    },
    {
     "name": "stderr",
     "output_type": "stream",
     "text": [
      "/Users/danbryce/Documents/sift/xplan/external/xplan/xplan-to-autoprotocol-reactor/xplan-dev-env/xplan-dev-env/lib/python3.7/site-packages/pandas/core/indexing.py:480: SettingWithCopyWarning: \n",
      "A value is trying to be set on a copy of a slice from a DataFrame.\n",
      "Try using .loc[row_indexer,col_indexer] = value instead\n",
      "\n",
      "See the caveats in the documentation: http://pandas.pydata.org/pandas-docs/stable/user_guide/indexing.html#returning-a-view-versus-a-copy\n",
      "  self.obj[item] = s\n"
     ]
    },
    {
     "name": "stdout",
     "output_type": "stream",
     "text": [
      "['FSC-A', 'SSC-A', 'BL1-A', 'RL1-A', 'FSC-H', 'SSC-H', 'BL1-H', 'RL1-H', 'FSC-W', 'SSC-W', 'BL1-W', 'RL1-W']\n",
      "\n",
      "<harness.test_harness_class.TestHarness object at 0x19da248d0>\n"
     ]
    },
    {
     "name": "stderr",
     "output_type": "stream",
     "text": [
      "/Users/danbryce/Documents/sift/xplan/external/xplan/xplan-to-autoprotocol-reactor/xplan-dev-env/xplan-dev-env/lib/python3.7/site-packages/pandas/core/indexing.py:362: SettingWithCopyWarning: \n",
      "A value is trying to be set on a copy of a slice from a DataFrame.\n",
      "Try using .loc[row_indexer,col_indexer] = value instead\n",
      "\n",
      "See the caveats in the documentation: http://pandas.pydata.org/pandas-docs/stable/user_guide/indexing.html#returning-a-view-versus-a-copy\n",
      "  self.obj[key] = _infer_fill_value(value)\n"
     ]
    },
    {
     "name": "stdout",
     "output_type": "stream",
     "text": [
      "HI\n",
      "----------------------------------------------------------------------------------------------------\n",
      "Starting run at time 22:52:42\n",
      "Normalizing training and testing splits...\n",
      "Starting Classification training...\n",
      "Training time was: 47.55 seconds\n",
      "Testing time was: 1.28 seconds\n",
      "\n",
      "          Run ID        Date      Time                    Model Name Model Author Num Classes  Accuracy  Balanced Accuracy  AUC Score  Average Precision  F1 Score  Precision  Recall Samples In Train Samples In Test                                                                                      Model Description Column Predicted Num Features Used                                                                                                   Data and Split Description Normalized Num Features Normalized Feature Extraction Was Untested Data Predicted\n",
      "0  Qgve9m768OQR7  2019-07-28  22:52:42  random_forest_classification  Hamed        2           0.856     0.856              0.926      0.908              0.864     0.82       0.912   192000           48000           Random Forest: n_estimators=361, max_features=auto, criterion=entropy, min_samples_leaf=13, n_jobs=-1  class_label      12                {'experiment_id': 'r1dd37mcxv5pf4', 'random_state': 1, 'live_volume': 0.0, 'dead_volume': 64.0, 'stain': 'SYTOX Red Stain'}  True       12                      False              False                     \n",
      "\n",
      "Run finished at 22:53:33. Total run time = 50.61 seconds\n",
      "^^^^^^^^^^^^^^^^^^^^^^^^^^^^^^^^^^^^^^^^^^^^^^^^^^^^^^^^^^^^^^^^^^^^^^^^^^^^^^^^^^^^^^^^^^^^^^^^^^^^\n",
      "\n",
      "\n",
      "\n",
      "\n",
      "HI\n",
      "{'experiment_id': 'r1dd37mcxv5pf4', 'random_state': 1, 'live_volume': 0.0, 'dead_volume': 64.0, 'stain': None}\n"
     ]
    },
    {
     "name": "stderr",
     "output_type": "stream",
     "text": [
      "/Users/danbryce/Documents/sift/xplan/external/xplan/xplan-to-autoprotocol-reactor/xplan-dev-env/xplan-dev-env/lib/python3.7/site-packages/pandas/core/indexing.py:480: SettingWithCopyWarning: \n",
      "A value is trying to be set on a copy of a slice from a DataFrame.\n",
      "Try using .loc[row_indexer,col_indexer] = value instead\n",
      "\n",
      "See the caveats in the documentation: http://pandas.pydata.org/pandas-docs/stable/user_guide/indexing.html#returning-a-view-versus-a-copy\n",
      "  self.obj[item] = s\n"
     ]
    },
    {
     "name": "stdout",
     "output_type": "stream",
     "text": [
      "data_columns: ['Container Type', 'Control', 'Culture_Volume', 'Media', 'Replicate', 'Storage (C)', 'Strain', 'checksum', 'filename', 'kill', 'kill_volume', 'plate_id', 'source', 'stain', 'well', 'experiment_id', 'Time', 'FSC-A', 'SSC-A', 'BL1-A', 'RL1-A', 'FSC-H', 'SSC-H', 'BL1-H', 'RL1-H', 'FSC-W', 'SSC-W', 'BL1-W', 'RL1-W']\n",
      "['FSC-A', 'SSC-A', 'BL1-A', 'RL1-A', 'FSC-H', 'SSC-H', 'BL1-H', 'RL1-H', 'FSC-W', 'SSC-W', 'BL1-W', 'RL1-W']\n",
      "\n",
      "<harness.test_harness_class.TestHarness object at 0x1817e18d0>\n"
     ]
    },
    {
     "name": "stderr",
     "output_type": "stream",
     "text": [
      "/Users/danbryce/Documents/sift/xplan/external/xplan/xplan-to-autoprotocol-reactor/xplan-dev-env/xplan-dev-env/lib/python3.7/site-packages/pandas/core/indexing.py:362: SettingWithCopyWarning: \n",
      "A value is trying to be set on a copy of a slice from a DataFrame.\n",
      "Try using .loc[row_indexer,col_indexer] = value instead\n",
      "\n",
      "See the caveats in the documentation: http://pandas.pydata.org/pandas-docs/stable/user_guide/indexing.html#returning-a-view-versus-a-copy\n",
      "  self.obj[key] = _infer_fill_value(value)\n"
     ]
    },
    {
     "name": "stdout",
     "output_type": "stream",
     "text": [
      "HI\n",
      "----------------------------------------------------------------------------------------------------\n",
      "Starting run at time 22:53:39\n",
      "Normalizing training and testing splits...\n",
      "Starting Classification training...\n",
      "Training time was: 43.51 seconds\n",
      "Testing time was: 1.30 seconds\n",
      "\n",
      "          Run ID        Date      Time                    Model Name Model Author Num Classes  Accuracy  Balanced Accuracy  AUC Score  Average Precision  F1 Score  Precision  Recall Samples In Train Samples In Test                                                                                      Model Description Column Predicted Num Features Used                                                                                      Data and Split Description Normalized Num Features Normalized Feature Extraction Was Untested Data Predicted\n",
      "0  QoWayr61rrRND  2019-07-28  22:53:39  random_forest_classification  Hamed        2           0.795     0.795              0.875      0.858              0.805     0.766      0.848   192000           48000           Random Forest: n_estimators=361, max_features=auto, criterion=entropy, min_samples_leaf=13, n_jobs=-1  class_label      12                {'experiment_id': 'r1dd37mcxv5pf4', 'random_state': 1, 'live_volume': 0.0, 'dead_volume': 64.0, 'stain': None}  True       12                      False              False                     \n",
      "\n",
      "Run finished at 22:54:26. Total run time = 46.52 seconds\n",
      "^^^^^^^^^^^^^^^^^^^^^^^^^^^^^^^^^^^^^^^^^^^^^^^^^^^^^^^^^^^^^^^^^^^^^^^^^^^^^^^^^^^^^^^^^^^^^^^^^^^^\n",
      "\n",
      "\n",
      "\n",
      "\n",
      "HI\n",
      "{'experiment_id': 'r1dd37mcxv5pf4', 'random_state': 1, 'live_volume': 0.0, 'dead_volume': 29, 'stain': 'SYTOX Red Stain'}\n",
      "data_columns: ['Container Type', 'Control', 'Culture_Volume', 'Media', 'Replicate', 'Storage (C)', 'Strain', 'checksum', 'filename', 'kill', 'kill_volume', 'plate_id', 'source', 'stain', 'well', 'experiment_id', 'Time', 'FSC-A', 'SSC-A', 'BL1-A', 'RL1-A', 'FSC-H', 'SSC-H', 'BL1-H', 'RL1-H', 'FSC-W', 'SSC-W', 'BL1-W', 'RL1-W']\n"
     ]
    },
    {
     "name": "stderr",
     "output_type": "stream",
     "text": [
      "/Users/danbryce/Documents/sift/xplan/external/xplan/xplan-to-autoprotocol-reactor/xplan-dev-env/xplan-dev-env/lib/python3.7/site-packages/pandas/core/indexing.py:480: SettingWithCopyWarning: \n",
      "A value is trying to be set on a copy of a slice from a DataFrame.\n",
      "Try using .loc[row_indexer,col_indexer] = value instead\n",
      "\n",
      "See the caveats in the documentation: http://pandas.pydata.org/pandas-docs/stable/user_guide/indexing.html#returning-a-view-versus-a-copy\n",
      "  self.obj[item] = s\n"
     ]
    },
    {
     "name": "stdout",
     "output_type": "stream",
     "text": [
      "['FSC-A', 'SSC-A', 'BL1-A', 'RL1-A', 'FSC-H', 'SSC-H', 'BL1-H', 'RL1-H', 'FSC-W', 'SSC-W', 'BL1-W', 'RL1-W']\n",
      "\n",
      "<harness.test_harness_class.TestHarness object at 0x181d95c50>\n"
     ]
    },
    {
     "name": "stderr",
     "output_type": "stream",
     "text": [
      "/Users/danbryce/Documents/sift/xplan/external/xplan/xplan-to-autoprotocol-reactor/xplan-dev-env/xplan-dev-env/lib/python3.7/site-packages/pandas/core/indexing.py:362: SettingWithCopyWarning: \n",
      "A value is trying to be set on a copy of a slice from a DataFrame.\n",
      "Try using .loc[row_indexer,col_indexer] = value instead\n",
      "\n",
      "See the caveats in the documentation: http://pandas.pydata.org/pandas-docs/stable/user_guide/indexing.html#returning-a-view-versus-a-copy\n",
      "  self.obj[key] = _infer_fill_value(value)\n"
     ]
    },
    {
     "name": "stdout",
     "output_type": "stream",
     "text": [
      "HI\n",
      "----------------------------------------------------------------------------------------------------\n",
      "Starting run at time 22:54:32\n",
      "Normalizing training and testing splits...\n",
      "Starting Classification training...\n",
      "Training time was: 53.83 seconds\n",
      "Testing time was: 1.58 seconds\n",
      "\n",
      "          Run ID        Date      Time                    Model Name Model Author Num Classes  Accuracy  Balanced Accuracy  AUC Score  Average Precision  F1 Score  Precision  Recall Samples In Train Samples In Test                                                                                      Model Description Column Predicted Num Features Used                                                                                                 Data and Split Description Normalized Num Features Normalized Feature Extraction Was Untested Data Predicted\n",
      "0  EQAxyAAR7mWLM  2019-07-28  22:54:32  random_forest_classification  Hamed        2           0.648     0.648              0.709      0.675              0.673     0.628      0.725   192000           48000           Random Forest: n_estimators=361, max_features=auto, criterion=entropy, min_samples_leaf=13, n_jobs=-1  class_label      12                {'experiment_id': 'r1dd37mcxv5pf4', 'random_state': 1, 'live_volume': 0.0, 'dead_volume': 29, 'stain': 'SYTOX Red Stain'}  True       12                      False              False                     \n",
      "\n",
      "Run finished at 22:55:29. Total run time = 57.08 seconds\n",
      "^^^^^^^^^^^^^^^^^^^^^^^^^^^^^^^^^^^^^^^^^^^^^^^^^^^^^^^^^^^^^^^^^^^^^^^^^^^^^^^^^^^^^^^^^^^^^^^^^^^^\n",
      "\n",
      "\n",
      "\n",
      "\n",
      "HI\n",
      "{'experiment_id': 'r1dd37mcxv5pf4', 'random_state': 1, 'live_volume': 0.0, 'dead_volume': 29, 'stain': None}\n",
      "data_columns: ['Container Type', 'Control', 'Culture_Volume', 'Media', 'Replicate', 'Storage (C)', 'Strain', 'checksum', 'filename', 'kill', 'kill_volume', 'plate_id', 'source', 'stain', 'well', 'experiment_id', 'Time', 'FSC-A', 'SSC-A', 'BL1-A', 'RL1-A', 'FSC-H', 'SSC-H', 'BL1-H', 'RL1-H', 'FSC-W', 'SSC-W', 'BL1-W', 'RL1-W']\n"
     ]
    },
    {
     "name": "stderr",
     "output_type": "stream",
     "text": [
      "/Users/danbryce/Documents/sift/xplan/external/xplan/xplan-to-autoprotocol-reactor/xplan-dev-env/xplan-dev-env/lib/python3.7/site-packages/pandas/core/indexing.py:480: SettingWithCopyWarning: \n",
      "A value is trying to be set on a copy of a slice from a DataFrame.\n",
      "Try using .loc[row_indexer,col_indexer] = value instead\n",
      "\n",
      "See the caveats in the documentation: http://pandas.pydata.org/pandas-docs/stable/user_guide/indexing.html#returning-a-view-versus-a-copy\n",
      "  self.obj[item] = s\n"
     ]
    },
    {
     "name": "stdout",
     "output_type": "stream",
     "text": [
      "['FSC-A', 'SSC-A', 'BL1-A', 'RL1-A', 'FSC-H', 'SSC-H', 'BL1-H', 'RL1-H', 'FSC-W', 'SSC-W', 'BL1-W', 'RL1-W']\n",
      "\n",
      "<harness.test_harness_class.TestHarness object at 0x181d97f28>\n"
     ]
    },
    {
     "name": "stderr",
     "output_type": "stream",
     "text": [
      "/Users/danbryce/Documents/sift/xplan/external/xplan/xplan-to-autoprotocol-reactor/xplan-dev-env/xplan-dev-env/lib/python3.7/site-packages/pandas/core/indexing.py:362: SettingWithCopyWarning: \n",
      "A value is trying to be set on a copy of a slice from a DataFrame.\n",
      "Try using .loc[row_indexer,col_indexer] = value instead\n",
      "\n",
      "See the caveats in the documentation: http://pandas.pydata.org/pandas-docs/stable/user_guide/indexing.html#returning-a-view-versus-a-copy\n",
      "  self.obj[key] = _infer_fill_value(value)\n"
     ]
    },
    {
     "name": "stdout",
     "output_type": "stream",
     "text": [
      "HI\n",
      "----------------------------------------------------------------------------------------------------\n",
      "Starting run at time 22:55:35\n",
      "Normalizing training and testing splits...\n",
      "Starting Classification training...\n",
      "Training time was: 47.24 seconds\n",
      "Testing time was: 1.49 seconds\n",
      "\n",
      "          Run ID        Date      Time                    Model Name Model Author Num Classes  Accuracy  Balanced Accuracy  AUC Score  Average Precision  F1 Score  Precision  Recall Samples In Train Samples In Test                                                                                      Model Description Column Predicted Num Features Used                                                                                    Data and Split Description Normalized Num Features Normalized Feature Extraction Was Untested Data Predicted\n",
      "0  6qlaX1vrdlqEY  2019-07-28  22:55:35  random_forest_classification  Hamed        2           0.634     0.634              0.687      0.672              0.637     0.631      0.644   192000           48000           Random Forest: n_estimators=361, max_features=auto, criterion=entropy, min_samples_leaf=13, n_jobs=-1  class_label      12                {'experiment_id': 'r1dd37mcxv5pf4', 'random_state': 1, 'live_volume': 0.0, 'dead_volume': 29, 'stain': None}  True       12                      False              False                     \n",
      "\n",
      "Run finished at 22:56:26. Total run time = 50.50 seconds\n",
      "^^^^^^^^^^^^^^^^^^^^^^^^^^^^^^^^^^^^^^^^^^^^^^^^^^^^^^^^^^^^^^^^^^^^^^^^^^^^^^^^^^^^^^^^^^^^^^^^^^^^\n",
      "\n",
      "\n",
      "\n",
      "\n",
      "HI\n",
      "{'experiment_id': 'r1dd37mcxv5pf4', 'random_state': 2, 'live_volume': 0.0, 'dead_volume': 980.0, 'stain': 'SYTOX Red Stain'}\n",
      "data_columns: ['Container Type', 'Control', 'Culture_Volume', 'Media', 'Replicate', 'Storage (C)', 'Strain', 'checksum', 'filename', 'kill', 'kill_volume', 'plate_id', 'source', 'stain', 'well', 'experiment_id', 'Time', 'FSC-A', 'SSC-A', 'BL1-A', 'RL1-A', 'FSC-H', 'SSC-H', 'BL1-H', 'RL1-H', 'FSC-W', 'SSC-W', 'BL1-W', 'RL1-W']\n"
     ]
    },
    {
     "name": "stderr",
     "output_type": "stream",
     "text": [
      "/Users/danbryce/Documents/sift/xplan/external/xplan/xplan-to-autoprotocol-reactor/xplan-dev-env/xplan-dev-env/lib/python3.7/site-packages/pandas/core/indexing.py:480: SettingWithCopyWarning: \n",
      "A value is trying to be set on a copy of a slice from a DataFrame.\n",
      "Try using .loc[row_indexer,col_indexer] = value instead\n",
      "\n",
      "See the caveats in the documentation: http://pandas.pydata.org/pandas-docs/stable/user_guide/indexing.html#returning-a-view-versus-a-copy\n",
      "  self.obj[item] = s\n"
     ]
    },
    {
     "name": "stdout",
     "output_type": "stream",
     "text": [
      "['FSC-A', 'SSC-A', 'BL1-A', 'RL1-A', 'FSC-H', 'SSC-H', 'BL1-H', 'RL1-H', 'FSC-W', 'SSC-W', 'BL1-W', 'RL1-W']\n",
      "\n",
      "<harness.test_harness_class.TestHarness object at 0x17a172278>\n"
     ]
    },
    {
     "name": "stderr",
     "output_type": "stream",
     "text": [
      "/Users/danbryce/Documents/sift/xplan/external/xplan/xplan-to-autoprotocol-reactor/xplan-dev-env/xplan-dev-env/lib/python3.7/site-packages/pandas/core/indexing.py:362: SettingWithCopyWarning: \n",
      "A value is trying to be set on a copy of a slice from a DataFrame.\n",
      "Try using .loc[row_indexer,col_indexer] = value instead\n",
      "\n",
      "See the caveats in the documentation: http://pandas.pydata.org/pandas-docs/stable/user_guide/indexing.html#returning-a-view-versus-a-copy\n",
      "  self.obj[key] = _infer_fill_value(value)\n"
     ]
    },
    {
     "name": "stdout",
     "output_type": "stream",
     "text": [
      "HI\n",
      "----------------------------------------------------------------------------------------------------\n",
      "Starting run at time 22:56:31\n",
      "Normalizing training and testing splits...\n",
      "Starting Classification training...\n",
      "Training time was: 31.03 seconds\n",
      "Testing time was: 0.68 seconds\n",
      "\n",
      "          Run ID        Date      Time                    Model Name Model Author Num Classes  Accuracy  Balanced Accuracy  AUC Score  Average Precision  F1 Score  Precision  Recall Samples In Train Samples In Test                                                                                      Model Description Column Predicted Num Features Used                                                                                                    Data and Split Description Normalized Num Features Normalized Feature Extraction Was Untested Data Predicted\n",
      "0  5poMzPyykqYky  2019-07-28  22:56:31  random_forest_classification  Hamed        2           0.998     0.998              1.0        1.0                0.998     0.998      0.998   192000           48000           Random Forest: n_estimators=361, max_features=auto, criterion=entropy, min_samples_leaf=13, n_jobs=-1  class_label      12                {'experiment_id': 'r1dd37mcxv5pf4', 'random_state': 2, 'live_volume': 0.0, 'dead_volume': 980.0, 'stain': 'SYTOX Red Stain'}  True       12                      False              False                     \n",
      "\n",
      "Run finished at 22:57:05. Total run time = 33.43 seconds\n",
      "^^^^^^^^^^^^^^^^^^^^^^^^^^^^^^^^^^^^^^^^^^^^^^^^^^^^^^^^^^^^^^^^^^^^^^^^^^^^^^^^^^^^^^^^^^^^^^^^^^^^\n",
      "\n",
      "\n",
      "\n",
      "\n",
      "HI\n",
      "{'experiment_id': 'r1dd37mcxv5pf4', 'random_state': 2, 'live_volume': 0.0, 'dead_volume': 980.0, 'stain': None}\n",
      "data_columns: ['Container Type', 'Control', 'Culture_Volume', 'Media', 'Replicate', 'Storage (C)', 'Strain', 'checksum', 'filename', 'kill', 'kill_volume', 'plate_id', 'source', 'stain', 'well', 'experiment_id', 'Time', 'FSC-A', 'SSC-A', 'BL1-A', 'RL1-A', 'FSC-H', 'SSC-H', 'BL1-H', 'RL1-H', 'FSC-W', 'SSC-W', 'BL1-W', 'RL1-W']\n"
     ]
    },
    {
     "name": "stderr",
     "output_type": "stream",
     "text": [
      "/Users/danbryce/Documents/sift/xplan/external/xplan/xplan-to-autoprotocol-reactor/xplan-dev-env/xplan-dev-env/lib/python3.7/site-packages/pandas/core/indexing.py:480: SettingWithCopyWarning: \n",
      "A value is trying to be set on a copy of a slice from a DataFrame.\n",
      "Try using .loc[row_indexer,col_indexer] = value instead\n",
      "\n",
      "See the caveats in the documentation: http://pandas.pydata.org/pandas-docs/stable/user_guide/indexing.html#returning-a-view-versus-a-copy\n",
      "  self.obj[item] = s\n"
     ]
    },
    {
     "name": "stdout",
     "output_type": "stream",
     "text": [
      "['FSC-A', 'SSC-A', 'BL1-A', 'RL1-A', 'FSC-H', 'SSC-H', 'BL1-H', 'RL1-H', 'FSC-W', 'SSC-W', 'BL1-W', 'RL1-W']\n",
      "\n",
      "<harness.test_harness_class.TestHarness object at 0x1c9faf2b0>\n"
     ]
    },
    {
     "name": "stderr",
     "output_type": "stream",
     "text": [
      "/Users/danbryce/Documents/sift/xplan/external/xplan/xplan-to-autoprotocol-reactor/xplan-dev-env/xplan-dev-env/lib/python3.7/site-packages/pandas/core/indexing.py:362: SettingWithCopyWarning: \n",
      "A value is trying to be set on a copy of a slice from a DataFrame.\n",
      "Try using .loc[row_indexer,col_indexer] = value instead\n",
      "\n",
      "See the caveats in the documentation: http://pandas.pydata.org/pandas-docs/stable/user_guide/indexing.html#returning-a-view-versus-a-copy\n",
      "  self.obj[key] = _infer_fill_value(value)\n"
     ]
    },
    {
     "name": "stdout",
     "output_type": "stream",
     "text": [
      "HI\n",
      "----------------------------------------------------------------------------------------------------\n",
      "Starting run at time 22:57:11\n",
      "Normalizing training and testing splits...\n",
      "Starting Classification training...\n",
      "Training time was: 35.37 seconds\n",
      "Testing time was: 0.67 seconds\n",
      "\n",
      "          Run ID        Date      Time                    Model Name Model Author Num Classes  Accuracy  Balanced Accuracy  AUC Score  Average Precision  F1 Score  Precision  Recall Samples In Train Samples In Test                                                                                      Model Description Column Predicted Num Features Used                                                                                       Data and Split Description Normalized Num Features Normalized Feature Extraction Was Untested Data Predicted\n",
      "0  ENqbYVoGj223Y  2019-07-28  22:57:11  random_forest_classification  Hamed        2           0.995     0.995              1.0        1.0                0.995     0.993      0.997   192000           48000           Random Forest: n_estimators=361, max_features=auto, criterion=entropy, min_samples_leaf=13, n_jobs=-1  class_label      12                {'experiment_id': 'r1dd37mcxv5pf4', 'random_state': 2, 'live_volume': 0.0, 'dead_volume': 980.0, 'stain': None}  True       12                      False              False                     \n",
      "\n",
      "Run finished at 22:57:49. Total run time = 37.77 seconds\n",
      "^^^^^^^^^^^^^^^^^^^^^^^^^^^^^^^^^^^^^^^^^^^^^^^^^^^^^^^^^^^^^^^^^^^^^^^^^^^^^^^^^^^^^^^^^^^^^^^^^^^^\n",
      "\n",
      "\n",
      "\n",
      "\n",
      "HI\n",
      "{'experiment_id': 'r1dd37mcxv5pf4', 'random_state': 2, 'live_volume': 0.0, 'dead_volume': 570.0, 'stain': 'SYTOX Red Stain'}\n",
      "data_columns: ['Container Type', 'Control', 'Culture_Volume', 'Media', 'Replicate', 'Storage (C)', 'Strain', 'checksum', 'filename', 'kill', 'kill_volume', 'plate_id', 'source', 'stain', 'well', 'experiment_id', 'Time', 'FSC-A', 'SSC-A', 'BL1-A', 'RL1-A', 'FSC-H', 'SSC-H', 'BL1-H', 'RL1-H', 'FSC-W', 'SSC-W', 'BL1-W', 'RL1-W']\n"
     ]
    },
    {
     "name": "stderr",
     "output_type": "stream",
     "text": [
      "/Users/danbryce/Documents/sift/xplan/external/xplan/xplan-to-autoprotocol-reactor/xplan-dev-env/xplan-dev-env/lib/python3.7/site-packages/pandas/core/indexing.py:480: SettingWithCopyWarning: \n",
      "A value is trying to be set on a copy of a slice from a DataFrame.\n",
      "Try using .loc[row_indexer,col_indexer] = value instead\n",
      "\n",
      "See the caveats in the documentation: http://pandas.pydata.org/pandas-docs/stable/user_guide/indexing.html#returning-a-view-versus-a-copy\n",
      "  self.obj[item] = s\n"
     ]
    },
    {
     "name": "stdout",
     "output_type": "stream",
     "text": [
      "['FSC-A', 'SSC-A', 'BL1-A', 'RL1-A', 'FSC-H', 'SSC-H', 'BL1-H', 'RL1-H', 'FSC-W', 'SSC-W', 'BL1-W', 'RL1-W']\n",
      "\n",
      "<harness.test_harness_class.TestHarness object at 0x1d2792f28>\n"
     ]
    },
    {
     "name": "stderr",
     "output_type": "stream",
     "text": [
      "/Users/danbryce/Documents/sift/xplan/external/xplan/xplan-to-autoprotocol-reactor/xplan-dev-env/xplan-dev-env/lib/python3.7/site-packages/pandas/core/indexing.py:362: SettingWithCopyWarning: \n",
      "A value is trying to be set on a copy of a slice from a DataFrame.\n",
      "Try using .loc[row_indexer,col_indexer] = value instead\n",
      "\n",
      "See the caveats in the documentation: http://pandas.pydata.org/pandas-docs/stable/user_guide/indexing.html#returning-a-view-versus-a-copy\n",
      "  self.obj[key] = _infer_fill_value(value)\n"
     ]
    },
    {
     "name": "stdout",
     "output_type": "stream",
     "text": [
      "HI\n",
      "----------------------------------------------------------------------------------------------------\n",
      "Starting run at time 22:57:55\n",
      "Normalizing training and testing splits...\n",
      "Starting Classification training...\n",
      "Training time was: 30.60 seconds\n",
      "Testing time was: 0.66 seconds\n",
      "\n",
      "          Run ID        Date      Time                    Model Name Model Author Num Classes  Accuracy  Balanced Accuracy  AUC Score  Average Precision  F1 Score  Precision  Recall Samples In Train Samples In Test                                                                                      Model Description Column Predicted Num Features Used                                                                                                    Data and Split Description Normalized Num Features Normalized Feature Extraction Was Untested Data Predicted\n",
      "0  QyyMNg3VVroj7  2019-07-28  22:57:55  random_forest_classification  Hamed        2           0.998     0.998              1.0        1.0                0.998     0.999      0.996   192000           48000           Random Forest: n_estimators=361, max_features=auto, criterion=entropy, min_samples_leaf=13, n_jobs=-1  class_label      12                {'experiment_id': 'r1dd37mcxv5pf4', 'random_state': 2, 'live_volume': 0.0, 'dead_volume': 570.0, 'stain': 'SYTOX Red Stain'}  True       12                      False              False                     \n",
      "\n",
      "Run finished at 22:58:28. Total run time = 32.98 seconds\n",
      "^^^^^^^^^^^^^^^^^^^^^^^^^^^^^^^^^^^^^^^^^^^^^^^^^^^^^^^^^^^^^^^^^^^^^^^^^^^^^^^^^^^^^^^^^^^^^^^^^^^^\n",
      "\n",
      "\n",
      "\n",
      "\n",
      "HI\n",
      "{'experiment_id': 'r1dd37mcxv5pf4', 'random_state': 2, 'live_volume': 0.0, 'dead_volume': 570.0, 'stain': None}\n",
      "data_columns: ['Container Type', 'Control', 'Culture_Volume', 'Media', 'Replicate', 'Storage (C)', 'Strain', 'checksum', 'filename', 'kill', 'kill_volume', 'plate_id', 'source', 'stain', 'well', 'experiment_id', 'Time', 'FSC-A', 'SSC-A', 'BL1-A', 'RL1-A', 'FSC-H', 'SSC-H', 'BL1-H', 'RL1-H', 'FSC-W', 'SSC-W', 'BL1-W', 'RL1-W']\n"
     ]
    },
    {
     "name": "stderr",
     "output_type": "stream",
     "text": [
      "/Users/danbryce/Documents/sift/xplan/external/xplan/xplan-to-autoprotocol-reactor/xplan-dev-env/xplan-dev-env/lib/python3.7/site-packages/pandas/core/indexing.py:480: SettingWithCopyWarning: \n",
      "A value is trying to be set on a copy of a slice from a DataFrame.\n",
      "Try using .loc[row_indexer,col_indexer] = value instead\n",
      "\n",
      "See the caveats in the documentation: http://pandas.pydata.org/pandas-docs/stable/user_guide/indexing.html#returning-a-view-versus-a-copy\n",
      "  self.obj[item] = s\n"
     ]
    },
    {
     "name": "stdout",
     "output_type": "stream",
     "text": [
      "['FSC-A', 'SSC-A', 'BL1-A', 'RL1-A', 'FSC-H', 'SSC-H', 'BL1-H', 'RL1-H', 'FSC-W', 'SSC-W', 'BL1-W', 'RL1-W']\n",
      "\n",
      "<harness.test_harness_class.TestHarness object at 0x1db3fff28>\n"
     ]
    },
    {
     "name": "stderr",
     "output_type": "stream",
     "text": [
      "/Users/danbryce/Documents/sift/xplan/external/xplan/xplan-to-autoprotocol-reactor/xplan-dev-env/xplan-dev-env/lib/python3.7/site-packages/pandas/core/indexing.py:362: SettingWithCopyWarning: \n",
      "A value is trying to be set on a copy of a slice from a DataFrame.\n",
      "Try using .loc[row_indexer,col_indexer] = value instead\n",
      "\n",
      "See the caveats in the documentation: http://pandas.pydata.org/pandas-docs/stable/user_guide/indexing.html#returning-a-view-versus-a-copy\n",
      "  self.obj[key] = _infer_fill_value(value)\n"
     ]
    },
    {
     "name": "stdout",
     "output_type": "stream",
     "text": [
      "HI\n",
      "----------------------------------------------------------------------------------------------------\n",
      "Starting run at time 22:58:33\n",
      "Normalizing training and testing splits...\n",
      "Starting Classification training...\n",
      "Training time was: 41.11 seconds\n",
      "Testing time was: 0.88 seconds\n",
      "\n",
      "          Run ID        Date      Time                    Model Name Model Author Num Classes  Accuracy  Balanced Accuracy  AUC Score  Average Precision  F1 Score  Precision  Recall Samples In Train Samples In Test                                                                                      Model Description Column Predicted Num Features Used                                                                                       Data and Split Description Normalized Num Features Normalized Feature Extraction Was Untested Data Predicted\n",
      "0  59XApja8Y2Elw  2019-07-28  22:58:33  random_forest_classification  Hamed        2           0.978     0.978              0.997      0.997              0.979     0.973      0.986   183965           45992           Random Forest: n_estimators=361, max_features=auto, criterion=entropy, min_samples_leaf=13, n_jobs=-1  class_label      12                {'experiment_id': 'r1dd37mcxv5pf4', 'random_state': 2, 'live_volume': 0.0, 'dead_volume': 570.0, 'stain': None}  True       12                      False              False                     \n",
      "\n",
      "Run finished at 22:59:17. Total run time = 43.62 seconds\n",
      "^^^^^^^^^^^^^^^^^^^^^^^^^^^^^^^^^^^^^^^^^^^^^^^^^^^^^^^^^^^^^^^^^^^^^^^^^^^^^^^^^^^^^^^^^^^^^^^^^^^^\n",
      "\n",
      "\n",
      "\n",
      "\n",
      "HI\n",
      "{'experiment_id': 'r1dd37mcxv5pf4', 'random_state': 2, 'live_volume': 0.0, 'dead_volume': 370.0, 'stain': 'SYTOX Red Stain'}\n",
      "data_columns: ['Container Type', 'Control', 'Culture_Volume', 'Media', 'Replicate', 'Storage (C)', 'Strain', 'checksum', 'filename', 'kill', 'kill_volume', 'plate_id', 'source', 'stain', 'well', 'experiment_id', 'Time', 'FSC-A', 'SSC-A', 'BL1-A', 'RL1-A', 'FSC-H', 'SSC-H', 'BL1-H', 'RL1-H', 'FSC-W', 'SSC-W', 'BL1-W', 'RL1-W']\n"
     ]
    },
    {
     "name": "stderr",
     "output_type": "stream",
     "text": [
      "/Users/danbryce/Documents/sift/xplan/external/xplan/xplan-to-autoprotocol-reactor/xplan-dev-env/xplan-dev-env/lib/python3.7/site-packages/pandas/core/indexing.py:480: SettingWithCopyWarning: \n",
      "A value is trying to be set on a copy of a slice from a DataFrame.\n",
      "Try using .loc[row_indexer,col_indexer] = value instead\n",
      "\n",
      "See the caveats in the documentation: http://pandas.pydata.org/pandas-docs/stable/user_guide/indexing.html#returning-a-view-versus-a-copy\n",
      "  self.obj[item] = s\n"
     ]
    },
    {
     "name": "stdout",
     "output_type": "stream",
     "text": [
      "['FSC-A', 'SSC-A', 'BL1-A', 'RL1-A', 'FSC-H', 'SSC-H', 'BL1-H', 'RL1-H', 'FSC-W', 'SSC-W', 'BL1-W', 'RL1-W']\n",
      "\n",
      "<harness.test_harness_class.TestHarness object at 0x19d8f8fd0>\n"
     ]
    },
    {
     "name": "stderr",
     "output_type": "stream",
     "text": [
      "/Users/danbryce/Documents/sift/xplan/external/xplan/xplan-to-autoprotocol-reactor/xplan-dev-env/xplan-dev-env/lib/python3.7/site-packages/pandas/core/indexing.py:362: SettingWithCopyWarning: \n",
      "A value is trying to be set on a copy of a slice from a DataFrame.\n",
      "Try using .loc[row_indexer,col_indexer] = value instead\n",
      "\n",
      "See the caveats in the documentation: http://pandas.pydata.org/pandas-docs/stable/user_guide/indexing.html#returning-a-view-versus-a-copy\n",
      "  self.obj[key] = _infer_fill_value(value)\n"
     ]
    },
    {
     "name": "stdout",
     "output_type": "stream",
     "text": [
      "HI\n",
      "----------------------------------------------------------------------------------------------------\n",
      "Starting run at time 22:59:23\n",
      "Normalizing training and testing splits...\n",
      "Starting Classification training...\n",
      "Training time was: 26.16 seconds\n",
      "Testing time was: 0.66 seconds\n",
      "\n",
      "          Run ID        Date      Time                    Model Name Model Author Num Classes  Accuracy  Balanced Accuracy  AUC Score  Average Precision  F1 Score  Precision  Recall Samples In Train Samples In Test                                                                                      Model Description Column Predicted Num Features Used                                                                                                    Data and Split Description Normalized Num Features Normalized Feature Extraction Was Untested Data Predicted\n",
      "0  5MQEX7B7EaNzb  2019-07-28  22:59:23  random_forest_classification  Hamed        2           0.997     0.998              1.0        1.0                0.998     0.999      0.996   175331           43833           Random Forest: n_estimators=361, max_features=auto, criterion=entropy, min_samples_leaf=13, n_jobs=-1  class_label      12                {'experiment_id': 'r1dd37mcxv5pf4', 'random_state': 2, 'live_volume': 0.0, 'dead_volume': 370.0, 'stain': 'SYTOX Red Stain'}  True       12                      False              False                     \n",
      "\n",
      "Run finished at 22:59:51. Total run time = 28.36 seconds\n",
      "^^^^^^^^^^^^^^^^^^^^^^^^^^^^^^^^^^^^^^^^^^^^^^^^^^^^^^^^^^^^^^^^^^^^^^^^^^^^^^^^^^^^^^^^^^^^^^^^^^^^\n",
      "\n",
      "\n",
      "\n",
      "\n",
      "HI\n",
      "{'experiment_id': 'r1dd37mcxv5pf4', 'random_state': 2, 'live_volume': 0.0, 'dead_volume': 370.0, 'stain': None}\n",
      "data_columns: ['Container Type', 'Control', 'Culture_Volume', 'Media', 'Replicate', 'Storage (C)', 'Strain', 'checksum', 'filename', 'kill', 'kill_volume', 'plate_id', 'source', 'stain', 'well', 'experiment_id', 'Time', 'FSC-A', 'SSC-A', 'BL1-A', 'RL1-A', 'FSC-H', 'SSC-H', 'BL1-H', 'RL1-H', 'FSC-W', 'SSC-W', 'BL1-W', 'RL1-W']\n"
     ]
    },
    {
     "name": "stderr",
     "output_type": "stream",
     "text": [
      "/Users/danbryce/Documents/sift/xplan/external/xplan/xplan-to-autoprotocol-reactor/xplan-dev-env/xplan-dev-env/lib/python3.7/site-packages/pandas/core/indexing.py:480: SettingWithCopyWarning: \n",
      "A value is trying to be set on a copy of a slice from a DataFrame.\n",
      "Try using .loc[row_indexer,col_indexer] = value instead\n",
      "\n",
      "See the caveats in the documentation: http://pandas.pydata.org/pandas-docs/stable/user_guide/indexing.html#returning-a-view-versus-a-copy\n",
      "  self.obj[item] = s\n"
     ]
    },
    {
     "name": "stdout",
     "output_type": "stream",
     "text": [
      "['FSC-A', 'SSC-A', 'BL1-A', 'RL1-A', 'FSC-H', 'SSC-H', 'BL1-H', 'RL1-H', 'FSC-W', 'SSC-W', 'BL1-W', 'RL1-W']\n",
      "\n",
      "<harness.test_harness_class.TestHarness object at 0x1d6eb00b8>\n"
     ]
    },
    {
     "name": "stderr",
     "output_type": "stream",
     "text": [
      "/Users/danbryce/Documents/sift/xplan/external/xplan/xplan-to-autoprotocol-reactor/xplan-dev-env/xplan-dev-env/lib/python3.7/site-packages/pandas/core/indexing.py:362: SettingWithCopyWarning: \n",
      "A value is trying to be set on a copy of a slice from a DataFrame.\n",
      "Try using .loc[row_indexer,col_indexer] = value instead\n",
      "\n",
      "See the caveats in the documentation: http://pandas.pydata.org/pandas-docs/stable/user_guide/indexing.html#returning-a-view-versus-a-copy\n",
      "  self.obj[key] = _infer_fill_value(value)\n"
     ]
    },
    {
     "name": "stdout",
     "output_type": "stream",
     "text": [
      "HI\n",
      "----------------------------------------------------------------------------------------------------\n",
      "Starting run at time 22:59:56\n",
      "Normalizing training and testing splits...\n",
      "Starting Classification training...\n",
      "Training time was: 37.35 seconds\n",
      "Testing time was: 0.87 seconds\n",
      "\n",
      "          Run ID        Date      Time                    Model Name Model Author Num Classes  Accuracy  Balanced Accuracy  AUC Score  Average Precision  F1 Score  Precision  Recall Samples In Train Samples In Test                                                                                      Model Description Column Predicted Num Features Used                                                                                       Data and Split Description Normalized Num Features Normalized Feature Extraction Was Untested Data Predicted\n",
      "0  aAk2DZzgReXWw  2019-07-28  22:59:56  random_forest_classification  Hamed        2           0.972     0.97               0.995      0.995              0.976     0.971      0.98    166786           41697           Random Forest: n_estimators=361, max_features=auto, criterion=entropy, min_samples_leaf=13, n_jobs=-1  class_label      12                {'experiment_id': 'r1dd37mcxv5pf4', 'random_state': 2, 'live_volume': 0.0, 'dead_volume': 370.0, 'stain': None}  True       12                      False              False                     \n",
      "\n",
      "Run finished at 23:00:36. Total run time = 39.78 seconds\n",
      "^^^^^^^^^^^^^^^^^^^^^^^^^^^^^^^^^^^^^^^^^^^^^^^^^^^^^^^^^^^^^^^^^^^^^^^^^^^^^^^^^^^^^^^^^^^^^^^^^^^^\n",
      "\n",
      "\n",
      "\n",
      "\n",
      "HI\n",
      "{'experiment_id': 'r1dd37mcxv5pf4', 'random_state': 2, 'live_volume': 0.0, 'dead_volume': 250.0, 'stain': 'SYTOX Red Stain'}\n",
      "data_columns: ['Container Type', 'Control', 'Culture_Volume', 'Media', 'Replicate', 'Storage (C)', 'Strain', 'checksum', 'filename', 'kill', 'kill_volume', 'plate_id', 'source', 'stain', 'well', 'experiment_id', 'Time', 'FSC-A', 'SSC-A', 'BL1-A', 'RL1-A', 'FSC-H', 'SSC-H', 'BL1-H', 'RL1-H', 'FSC-W', 'SSC-W', 'BL1-W', 'RL1-W']\n"
     ]
    },
    {
     "name": "stderr",
     "output_type": "stream",
     "text": [
      "/Users/danbryce/Documents/sift/xplan/external/xplan/xplan-to-autoprotocol-reactor/xplan-dev-env/xplan-dev-env/lib/python3.7/site-packages/pandas/core/indexing.py:480: SettingWithCopyWarning: \n",
      "A value is trying to be set on a copy of a slice from a DataFrame.\n",
      "Try using .loc[row_indexer,col_indexer] = value instead\n",
      "\n",
      "See the caveats in the documentation: http://pandas.pydata.org/pandas-docs/stable/user_guide/indexing.html#returning-a-view-versus-a-copy\n",
      "  self.obj[item] = s\n"
     ]
    },
    {
     "name": "stdout",
     "output_type": "stream",
     "text": [
      "['FSC-A', 'SSC-A', 'BL1-A', 'RL1-A', 'FSC-H', 'SSC-H', 'BL1-H', 'RL1-H', 'FSC-W', 'SSC-W', 'BL1-W', 'RL1-W']\n",
      "\n",
      "<harness.test_harness_class.TestHarness object at 0x273c58eb8>\n"
     ]
    },
    {
     "name": "stderr",
     "output_type": "stream",
     "text": [
      "/Users/danbryce/Documents/sift/xplan/external/xplan/xplan-to-autoprotocol-reactor/xplan-dev-env/xplan-dev-env/lib/python3.7/site-packages/pandas/core/indexing.py:362: SettingWithCopyWarning: \n",
      "A value is trying to be set on a copy of a slice from a DataFrame.\n",
      "Try using .loc[row_indexer,col_indexer] = value instead\n",
      "\n",
      "See the caveats in the documentation: http://pandas.pydata.org/pandas-docs/stable/user_guide/indexing.html#returning-a-view-versus-a-copy\n",
      "  self.obj[key] = _infer_fill_value(value)\n"
     ]
    },
    {
     "name": "stdout",
     "output_type": "stream",
     "text": [
      "HI\n",
      "----------------------------------------------------------------------------------------------------\n",
      "Starting run at time 23:00:41\n",
      "Normalizing training and testing splits...\n",
      "Starting Classification training...\n",
      "Training time was: 26.14 seconds\n",
      "Testing time was: 0.56 seconds\n",
      "\n",
      "         Run ID        Date      Time                    Model Name Model Author Num Classes  Accuracy  Balanced Accuracy  AUC Score  Average Precision  F1 Score  Precision  Recall Samples In Train Samples In Test                                                                                      Model Description Column Predicted Num Features Used                                                                                                    Data and Split Description Normalized Num Features Normalized Feature Extraction Was Untested Data Predicted\n",
      "0  aBGbAX2yomYm  2019-07-28  23:00:41  random_forest_classification  Hamed        2           0.997     0.997              1.0        1.0                0.998     0.999      0.996   147452           36864           Random Forest: n_estimators=361, max_features=auto, criterion=entropy, min_samples_leaf=13, n_jobs=-1  class_label      12                {'experiment_id': 'r1dd37mcxv5pf4', 'random_state': 2, 'live_volume': 0.0, 'dead_volume': 250.0, 'stain': 'SYTOX Red Stain'}  True       12                      False              False                     \n",
      "\n",
      "Run finished at 23:01:09. Total run time = 28.13 seconds\n",
      "^^^^^^^^^^^^^^^^^^^^^^^^^^^^^^^^^^^^^^^^^^^^^^^^^^^^^^^^^^^^^^^^^^^^^^^^^^^^^^^^^^^^^^^^^^^^^^^^^^^^\n",
      "\n",
      "\n",
      "\n",
      "\n",
      "HI\n",
      "{'experiment_id': 'r1dd37mcxv5pf4', 'random_state': 2, 'live_volume': 0.0, 'dead_volume': 250.0, 'stain': None}\n",
      "data_columns: ['Container Type', 'Control', 'Culture_Volume', 'Media', 'Replicate', 'Storage (C)', 'Strain', 'checksum', 'filename', 'kill', 'kill_volume', 'plate_id', 'source', 'stain', 'well', 'experiment_id', 'Time', 'FSC-A', 'SSC-A', 'BL1-A', 'RL1-A', 'FSC-H', 'SSC-H', 'BL1-H', 'RL1-H', 'FSC-W', 'SSC-W', 'BL1-W', 'RL1-W']\n"
     ]
    },
    {
     "name": "stderr",
     "output_type": "stream",
     "text": [
      "/Users/danbryce/Documents/sift/xplan/external/xplan/xplan-to-autoprotocol-reactor/xplan-dev-env/xplan-dev-env/lib/python3.7/site-packages/pandas/core/indexing.py:480: SettingWithCopyWarning: \n",
      "A value is trying to be set on a copy of a slice from a DataFrame.\n",
      "Try using .loc[row_indexer,col_indexer] = value instead\n",
      "\n",
      "See the caveats in the documentation: http://pandas.pydata.org/pandas-docs/stable/user_guide/indexing.html#returning-a-view-versus-a-copy\n",
      "  self.obj[item] = s\n"
     ]
    },
    {
     "name": "stdout",
     "output_type": "stream",
     "text": [
      "['FSC-A', 'SSC-A', 'BL1-A', 'RL1-A', 'FSC-H', 'SSC-H', 'BL1-H', 'RL1-H', 'FSC-W', 'SSC-W', 'BL1-W', 'RL1-W']\n",
      "\n",
      "<harness.test_harness_class.TestHarness object at 0x1c97cdbe0>\n"
     ]
    },
    {
     "name": "stderr",
     "output_type": "stream",
     "text": [
      "/Users/danbryce/Documents/sift/xplan/external/xplan/xplan-to-autoprotocol-reactor/xplan-dev-env/xplan-dev-env/lib/python3.7/site-packages/pandas/core/indexing.py:362: SettingWithCopyWarning: \n",
      "A value is trying to be set on a copy of a slice from a DataFrame.\n",
      "Try using .loc[row_indexer,col_indexer] = value instead\n",
      "\n",
      "See the caveats in the documentation: http://pandas.pydata.org/pandas-docs/stable/user_guide/indexing.html#returning-a-view-versus-a-copy\n",
      "  self.obj[key] = _infer_fill_value(value)\n"
     ]
    },
    {
     "name": "stdout",
     "output_type": "stream",
     "text": [
      "HI\n",
      "----------------------------------------------------------------------------------------------------\n",
      "Starting run at time 23:01:13\n",
      "Normalizing training and testing splits...\n",
      "Starting Classification training...\n",
      "Training time was: 30.24 seconds\n",
      "Testing time was: 0.86 seconds\n",
      "\n",
      "          Run ID        Date      Time                    Model Name Model Author Num Classes  Accuracy  Balanced Accuracy  AUC Score  Average Precision  F1 Score  Precision  Recall Samples In Train Samples In Test                                                                                      Model Description Column Predicted Num Features Used                                                                                       Data and Split Description Normalized Num Features Normalized Feature Extraction Was Untested Data Predicted\n",
      "0  Qoe77yYpWBg1k  2019-07-28  23:01:13  random_forest_classification  Hamed        2           0.961     0.958              0.991      0.995              0.971     0.974      0.968   142361           35591           Random Forest: n_estimators=361, max_features=auto, criterion=entropy, min_samples_leaf=13, n_jobs=-1  class_label      12                {'experiment_id': 'r1dd37mcxv5pf4', 'random_state': 2, 'live_volume': 0.0, 'dead_volume': 250.0, 'stain': None}  True       12                      False              False                     \n",
      "\n",
      "Run finished at 23:01:46. Total run time = 32.48 seconds\n",
      "^^^^^^^^^^^^^^^^^^^^^^^^^^^^^^^^^^^^^^^^^^^^^^^^^^^^^^^^^^^^^^^^^^^^^^^^^^^^^^^^^^^^^^^^^^^^^^^^^^^^\n",
      "\n",
      "\n",
      "\n",
      "\n",
      "HI\n",
      "{'experiment_id': 'r1dd37mcxv5pf4', 'random_state': 2, 'live_volume': 0.0, 'dead_volume': 170.0, 'stain': 'SYTOX Red Stain'}\n",
      "data_columns: ['Container Type', 'Control', 'Culture_Volume', 'Media', 'Replicate', 'Storage (C)', 'Strain', 'checksum', 'filename', 'kill', 'kill_volume', 'plate_id', 'source', 'stain', 'well', 'experiment_id', 'Time', 'FSC-A', 'SSC-A', 'BL1-A', 'RL1-A', 'FSC-H', 'SSC-H', 'BL1-H', 'RL1-H', 'FSC-W', 'SSC-W', 'BL1-W', 'RL1-W']\n"
     ]
    },
    {
     "name": "stderr",
     "output_type": "stream",
     "text": [
      "/Users/danbryce/Documents/sift/xplan/external/xplan/xplan-to-autoprotocol-reactor/xplan-dev-env/xplan-dev-env/lib/python3.7/site-packages/pandas/core/indexing.py:480: SettingWithCopyWarning: \n",
      "A value is trying to be set on a copy of a slice from a DataFrame.\n",
      "Try using .loc[row_indexer,col_indexer] = value instead\n",
      "\n",
      "See the caveats in the documentation: http://pandas.pydata.org/pandas-docs/stable/user_guide/indexing.html#returning-a-view-versus-a-copy\n",
      "  self.obj[item] = s\n"
     ]
    },
    {
     "name": "stdout",
     "output_type": "stream",
     "text": [
      "['FSC-A', 'SSC-A', 'BL1-A', 'RL1-A', 'FSC-H', 'SSC-H', 'BL1-H', 'RL1-H', 'FSC-W', 'SSC-W', 'BL1-W', 'RL1-W']\n",
      "\n",
      "<harness.test_harness_class.TestHarness object at 0x223fdea58>\n"
     ]
    },
    {
     "name": "stderr",
     "output_type": "stream",
     "text": [
      "/Users/danbryce/Documents/sift/xplan/external/xplan/xplan-to-autoprotocol-reactor/xplan-dev-env/xplan-dev-env/lib/python3.7/site-packages/pandas/core/indexing.py:362: SettingWithCopyWarning: \n",
      "A value is trying to be set on a copy of a slice from a DataFrame.\n",
      "Try using .loc[row_indexer,col_indexer] = value instead\n",
      "\n",
      "See the caveats in the documentation: http://pandas.pydata.org/pandas-docs/stable/user_guide/indexing.html#returning-a-view-versus-a-copy\n",
      "  self.obj[key] = _infer_fill_value(value)\n"
     ]
    },
    {
     "name": "stdout",
     "output_type": "stream",
     "text": [
      "HI\n",
      "----------------------------------------------------------------------------------------------------\n",
      "Starting run at time 23:01:52\n",
      "Normalizing training and testing splits...\n",
      "Starting Classification training...\n",
      "Training time was: 43.51 seconds\n",
      "Testing time was: 0.88 seconds\n",
      "\n",
      "          Run ID        Date      Time                    Model Name Model Author Num Classes  Accuracy  Balanced Accuracy  AUC Score  Average Precision  F1 Score  Precision  Recall Samples In Train Samples In Test                                                                                      Model Description Column Predicted Num Features Used                                                                                                    Data and Split Description Normalized Num Features Normalized Feature Extraction Was Untested Data Predicted\n",
      "0  66dg1Q59Qqqz3  2019-07-28  23:01:52  random_forest_classification  Hamed        2           0.997     0.997              1.0        1.0                0.997     0.999      0.996   192000           48000           Random Forest: n_estimators=361, max_features=auto, criterion=entropy, min_samples_leaf=13, n_jobs=-1  class_label      12                {'experiment_id': 'r1dd37mcxv5pf4', 'random_state': 2, 'live_volume': 0.0, 'dead_volume': 170.0, 'stain': 'SYTOX Red Stain'}  True       12                      False              False                     \n",
      "\n",
      "Run finished at 23:02:38. Total run time = 46.14 seconds\n",
      "^^^^^^^^^^^^^^^^^^^^^^^^^^^^^^^^^^^^^^^^^^^^^^^^^^^^^^^^^^^^^^^^^^^^^^^^^^^^^^^^^^^^^^^^^^^^^^^^^^^^\n",
      "\n",
      "\n",
      "\n",
      "\n",
      "HI\n",
      "{'experiment_id': 'r1dd37mcxv5pf4', 'random_state': 2, 'live_volume': 0.0, 'dead_volume': 170.0, 'stain': None}\n",
      "data_columns: ['Container Type', 'Control', 'Culture_Volume', 'Media', 'Replicate', 'Storage (C)', 'Strain', 'checksum', 'filename', 'kill', 'kill_volume', 'plate_id', 'source', 'stain', 'well', 'experiment_id', 'Time', 'FSC-A', 'SSC-A', 'BL1-A', 'RL1-A', 'FSC-H', 'SSC-H', 'BL1-H', 'RL1-H', 'FSC-W', 'SSC-W', 'BL1-W', 'RL1-W']\n"
     ]
    },
    {
     "name": "stderr",
     "output_type": "stream",
     "text": [
      "/Users/danbryce/Documents/sift/xplan/external/xplan/xplan-to-autoprotocol-reactor/xplan-dev-env/xplan-dev-env/lib/python3.7/site-packages/pandas/core/indexing.py:480: SettingWithCopyWarning: \n",
      "A value is trying to be set on a copy of a slice from a DataFrame.\n",
      "Try using .loc[row_indexer,col_indexer] = value instead\n",
      "\n",
      "See the caveats in the documentation: http://pandas.pydata.org/pandas-docs/stable/user_guide/indexing.html#returning-a-view-versus-a-copy\n",
      "  self.obj[item] = s\n"
     ]
    },
    {
     "name": "stdout",
     "output_type": "stream",
     "text": [
      "['FSC-A', 'SSC-A', 'BL1-A', 'RL1-A', 'FSC-H', 'SSC-H', 'BL1-H', 'RL1-H', 'FSC-W', 'SSC-W', 'BL1-W', 'RL1-W']\n",
      "\n",
      "<harness.test_harness_class.TestHarness object at 0x3b18baf60>\n"
     ]
    },
    {
     "name": "stderr",
     "output_type": "stream",
     "text": [
      "/Users/danbryce/Documents/sift/xplan/external/xplan/xplan-to-autoprotocol-reactor/xplan-dev-env/xplan-dev-env/lib/python3.7/site-packages/pandas/core/indexing.py:362: SettingWithCopyWarning: \n",
      "A value is trying to be set on a copy of a slice from a DataFrame.\n",
      "Try using .loc[row_indexer,col_indexer] = value instead\n",
      "\n",
      "See the caveats in the documentation: http://pandas.pydata.org/pandas-docs/stable/user_guide/indexing.html#returning-a-view-versus-a-copy\n",
      "  self.obj[key] = _infer_fill_value(value)\n"
     ]
    },
    {
     "name": "stdout",
     "output_type": "stream",
     "text": [
      "HI\n",
      "----------------------------------------------------------------------------------------------------\n",
      "Starting run at time 23:02:44\n",
      "Normalizing training and testing splits...\n",
      "Starting Classification training...\n",
      "Training time was: 45.97 seconds\n",
      "Testing time was: 1.29 seconds\n",
      "\n",
      "          Run ID        Date      Time                    Model Name Model Author Num Classes  Accuracy  Balanced Accuracy  AUC Score  Average Precision  F1 Score  Precision  Recall Samples In Train Samples In Test                                                                                      Model Description Column Predicted Num Features Used                                                                                       Data and Split Description Normalized Num Features Normalized Feature Extraction Was Untested Data Predicted\n",
      "0  ab7YvvpRm65xB  2019-07-28  23:02:44  random_forest_classification  Hamed        2           0.918     0.918              0.973      0.971              0.919     0.909      0.93    192000           48000           Random Forest: n_estimators=361, max_features=auto, criterion=entropy, min_samples_leaf=13, n_jobs=-1  class_label      12                {'experiment_id': 'r1dd37mcxv5pf4', 'random_state': 2, 'live_volume': 0.0, 'dead_volume': 170.0, 'stain': None}  True       12                      False              False                     \n",
      "\n",
      "Run finished at 23:03:33. Total run time = 49.04 seconds\n",
      "^^^^^^^^^^^^^^^^^^^^^^^^^^^^^^^^^^^^^^^^^^^^^^^^^^^^^^^^^^^^^^^^^^^^^^^^^^^^^^^^^^^^^^^^^^^^^^^^^^^^\n",
      "\n",
      "\n",
      "\n",
      "\n",
      "HI\n",
      "{'experiment_id': 'r1dd37mcxv5pf4', 'random_state': 2, 'live_volume': 0.0, 'dead_volume': 105.0, 'stain': 'SYTOX Red Stain'}\n",
      "data_columns: ['Container Type', 'Control', 'Culture_Volume', 'Media', 'Replicate', 'Storage (C)', 'Strain', 'checksum', 'filename', 'kill', 'kill_volume', 'plate_id', 'source', 'stain', 'well', 'experiment_id', 'Time', 'FSC-A', 'SSC-A', 'BL1-A', 'RL1-A', 'FSC-H', 'SSC-H', 'BL1-H', 'RL1-H', 'FSC-W', 'SSC-W', 'BL1-W', 'RL1-W']\n"
     ]
    },
    {
     "name": "stderr",
     "output_type": "stream",
     "text": [
      "/Users/danbryce/Documents/sift/xplan/external/xplan/xplan-to-autoprotocol-reactor/xplan-dev-env/xplan-dev-env/lib/python3.7/site-packages/pandas/core/indexing.py:480: SettingWithCopyWarning: \n",
      "A value is trying to be set on a copy of a slice from a DataFrame.\n",
      "Try using .loc[row_indexer,col_indexer] = value instead\n",
      "\n",
      "See the caveats in the documentation: http://pandas.pydata.org/pandas-docs/stable/user_guide/indexing.html#returning-a-view-versus-a-copy\n",
      "  self.obj[item] = s\n"
     ]
    },
    {
     "name": "stdout",
     "output_type": "stream",
     "text": [
      "['FSC-A', 'SSC-A', 'BL1-A', 'RL1-A', 'FSC-H', 'SSC-H', 'BL1-H', 'RL1-H', 'FSC-W', 'SSC-W', 'BL1-W', 'RL1-W']\n",
      "\n",
      "<harness.test_harness_class.TestHarness object at 0x30896e198>\n"
     ]
    },
    {
     "name": "stderr",
     "output_type": "stream",
     "text": [
      "/Users/danbryce/Documents/sift/xplan/external/xplan/xplan-to-autoprotocol-reactor/xplan-dev-env/xplan-dev-env/lib/python3.7/site-packages/pandas/core/indexing.py:362: SettingWithCopyWarning: \n",
      "A value is trying to be set on a copy of a slice from a DataFrame.\n",
      "Try using .loc[row_indexer,col_indexer] = value instead\n",
      "\n",
      "See the caveats in the documentation: http://pandas.pydata.org/pandas-docs/stable/user_guide/indexing.html#returning-a-view-versus-a-copy\n",
      "  self.obj[key] = _infer_fill_value(value)\n"
     ]
    },
    {
     "name": "stdout",
     "output_type": "stream",
     "text": [
      "HI\n",
      "----------------------------------------------------------------------------------------------------\n",
      "Starting run at time 23:03:39\n",
      "Normalizing training and testing splits...\n",
      "Starting Classification training...\n",
      "Training time was: 34.23 seconds\n",
      "Testing time was: 0.66 seconds\n",
      "\n",
      "          Run ID        Date      Time                    Model Name Model Author Num Classes  Accuracy  Balanced Accuracy  AUC Score  Average Precision  F1 Score  Precision  Recall Samples In Train Samples In Test                                                                                      Model Description Column Predicted Num Features Used                                                                                                    Data and Split Description Normalized Num Features Normalized Feature Extraction Was Untested Data Predicted\n",
      "0  6ppzvEgMm6XD3  2019-07-28  23:03:39  random_forest_classification  Hamed        2           0.998     0.998              1.0        1.0                0.998     0.999      0.997   192000           48000           Random Forest: n_estimators=361, max_features=auto, criterion=entropy, min_samples_leaf=13, n_jobs=-1  class_label      12                {'experiment_id': 'r1dd37mcxv5pf4', 'random_state': 2, 'live_volume': 0.0, 'dead_volume': 105.0, 'stain': 'SYTOX Red Stain'}  True       12                      False              False                     \n",
      "\n",
      "Run finished at 23:04:16. Total run time = 36.51 seconds\n",
      "^^^^^^^^^^^^^^^^^^^^^^^^^^^^^^^^^^^^^^^^^^^^^^^^^^^^^^^^^^^^^^^^^^^^^^^^^^^^^^^^^^^^^^^^^^^^^^^^^^^^\n",
      "\n",
      "\n",
      "\n",
      "\n",
      "HI\n",
      "{'experiment_id': 'r1dd37mcxv5pf4', 'random_state': 2, 'live_volume': 0.0, 'dead_volume': 105.0, 'stain': None}\n",
      "data_columns: ['Container Type', 'Control', 'Culture_Volume', 'Media', 'Replicate', 'Storage (C)', 'Strain', 'checksum', 'filename', 'kill', 'kill_volume', 'plate_id', 'source', 'stain', 'well', 'experiment_id', 'Time', 'FSC-A', 'SSC-A', 'BL1-A', 'RL1-A', 'FSC-H', 'SSC-H', 'BL1-H', 'RL1-H', 'FSC-W', 'SSC-W', 'BL1-W', 'RL1-W']\n"
     ]
    },
    {
     "name": "stderr",
     "output_type": "stream",
     "text": [
      "/Users/danbryce/Documents/sift/xplan/external/xplan/xplan-to-autoprotocol-reactor/xplan-dev-env/xplan-dev-env/lib/python3.7/site-packages/pandas/core/indexing.py:480: SettingWithCopyWarning: \n",
      "A value is trying to be set on a copy of a slice from a DataFrame.\n",
      "Try using .loc[row_indexer,col_indexer] = value instead\n",
      "\n",
      "See the caveats in the documentation: http://pandas.pydata.org/pandas-docs/stable/user_guide/indexing.html#returning-a-view-versus-a-copy\n",
      "  self.obj[item] = s\n"
     ]
    },
    {
     "name": "stdout",
     "output_type": "stream",
     "text": [
      "['FSC-A', 'SSC-A', 'BL1-A', 'RL1-A', 'FSC-H', 'SSC-H', 'BL1-H', 'RL1-H', 'FSC-W', 'SSC-W', 'BL1-W', 'RL1-W']\n",
      "\n",
      "<harness.test_harness_class.TestHarness object at 0x325de3630>\n"
     ]
    },
    {
     "name": "stderr",
     "output_type": "stream",
     "text": [
      "/Users/danbryce/Documents/sift/xplan/external/xplan/xplan-to-autoprotocol-reactor/xplan-dev-env/xplan-dev-env/lib/python3.7/site-packages/pandas/core/indexing.py:362: SettingWithCopyWarning: \n",
      "A value is trying to be set on a copy of a slice from a DataFrame.\n",
      "Try using .loc[row_indexer,col_indexer] = value instead\n",
      "\n",
      "See the caveats in the documentation: http://pandas.pydata.org/pandas-docs/stable/user_guide/indexing.html#returning-a-view-versus-a-copy\n",
      "  self.obj[key] = _infer_fill_value(value)\n"
     ]
    },
    {
     "name": "stdout",
     "output_type": "stream",
     "text": [
      "HI\n",
      "----------------------------------------------------------------------------------------------------\n",
      "Starting run at time 23:04:22\n",
      "Normalizing training and testing splits...\n",
      "Starting Classification training...\n",
      "Training time was: 42.74 seconds\n",
      "Testing time was: 1.08 seconds\n",
      "\n",
      "          Run ID        Date      Time                    Model Name Model Author Num Classes  Accuracy  Balanced Accuracy  AUC Score  Average Precision  F1 Score  Precision  Recall Samples In Train Samples In Test                                                                                      Model Description Column Predicted Num Features Used                                                                                       Data and Split Description Normalized Num Features Normalized Feature Extraction Was Untested Data Predicted\n",
      "0  6DQz8GmBbXJEY  2019-07-28  23:04:22  random_forest_classification  Hamed        2           0.937     0.937              0.984      0.982              0.938     0.925      0.951   192000           48000           Random Forest: n_estimators=361, max_features=auto, criterion=entropy, min_samples_leaf=13, n_jobs=-1  class_label      12                {'experiment_id': 'r1dd37mcxv5pf4', 'random_state': 2, 'live_volume': 0.0, 'dead_volume': 105.0, 'stain': None}  True       12                      False              False                     \n",
      "\n",
      "Run finished at 23:05:13. Total run time = 50.98 seconds\n",
      "^^^^^^^^^^^^^^^^^^^^^^^^^^^^^^^^^^^^^^^^^^^^^^^^^^^^^^^^^^^^^^^^^^^^^^^^^^^^^^^^^^^^^^^^^^^^^^^^^^^^\n",
      "\n",
      "\n",
      "\n",
      "\n",
      "HI\n",
      "{'experiment_id': 'r1dd37mcxv5pf4', 'random_state': 2, 'live_volume': 0.0, 'dead_volume': 64.0, 'stain': 'SYTOX Red Stain'}\n",
      "data_columns: ['Container Type', 'Control', 'Culture_Volume', 'Media', 'Replicate', 'Storage (C)', 'Strain', 'checksum', 'filename', 'kill', 'kill_volume', 'plate_id', 'source', 'stain', 'well', 'experiment_id', 'Time', 'FSC-A', 'SSC-A', 'BL1-A', 'RL1-A', 'FSC-H', 'SSC-H', 'BL1-H', 'RL1-H', 'FSC-W', 'SSC-W', 'BL1-W', 'RL1-W']\n"
     ]
    },
    {
     "name": "stderr",
     "output_type": "stream",
     "text": [
      "/Users/danbryce/Documents/sift/xplan/external/xplan/xplan-to-autoprotocol-reactor/xplan-dev-env/xplan-dev-env/lib/python3.7/site-packages/pandas/core/indexing.py:480: SettingWithCopyWarning: \n",
      "A value is trying to be set on a copy of a slice from a DataFrame.\n",
      "Try using .loc[row_indexer,col_indexer] = value instead\n",
      "\n",
      "See the caveats in the documentation: http://pandas.pydata.org/pandas-docs/stable/user_guide/indexing.html#returning-a-view-versus-a-copy\n",
      "  self.obj[item] = s\n"
     ]
    },
    {
     "name": "stdout",
     "output_type": "stream",
     "text": [
      "['FSC-A', 'SSC-A', 'BL1-A', 'RL1-A', 'FSC-H', 'SSC-H', 'BL1-H', 'RL1-H', 'FSC-W', 'SSC-W', 'BL1-W', 'RL1-W']\n",
      "\n",
      "<harness.test_harness_class.TestHarness object at 0x325dd8ac8>\n"
     ]
    },
    {
     "name": "stderr",
     "output_type": "stream",
     "text": [
      "/Users/danbryce/Documents/sift/xplan/external/xplan/xplan-to-autoprotocol-reactor/xplan-dev-env/xplan-dev-env/lib/python3.7/site-packages/pandas/core/indexing.py:362: SettingWithCopyWarning: \n",
      "A value is trying to be set on a copy of a slice from a DataFrame.\n",
      "Try using .loc[row_indexer,col_indexer] = value instead\n",
      "\n",
      "See the caveats in the documentation: http://pandas.pydata.org/pandas-docs/stable/user_guide/indexing.html#returning-a-view-versus-a-copy\n",
      "  self.obj[key] = _infer_fill_value(value)\n"
     ]
    },
    {
     "name": "stdout",
     "output_type": "stream",
     "text": [
      "HI\n",
      "----------------------------------------------------------------------------------------------------\n",
      "Starting run at time 23:05:19\n",
      "Normalizing training and testing splits...\n",
      "Starting Classification training...\n",
      "Training time was: 47.26 seconds\n",
      "Testing time was: 1.28 seconds\n",
      "\n",
      "          Run ID        Date      Time                    Model Name Model Author Num Classes  Accuracy  Balanced Accuracy  AUC Score  Average Precision  F1 Score  Precision  Recall Samples In Train Samples In Test                                                                                      Model Description Column Predicted Num Features Used                                                                                                   Data and Split Description Normalized Num Features Normalized Feature Extraction Was Untested Data Predicted\n",
      "0  6aBverGr7OpyJ  2019-07-28  23:05:19  random_forest_classification  Hamed        2           0.858     0.858              0.926      0.907              0.866     0.82       0.918   192000           48000           Random Forest: n_estimators=361, max_features=auto, criterion=entropy, min_samples_leaf=13, n_jobs=-1  class_label      12                {'experiment_id': 'r1dd37mcxv5pf4', 'random_state': 2, 'live_volume': 0.0, 'dead_volume': 64.0, 'stain': 'SYTOX Red Stain'}  True       12                      False              False                     \n",
      "\n",
      "Run finished at 23:06:09. Total run time = 50.21 seconds\n",
      "^^^^^^^^^^^^^^^^^^^^^^^^^^^^^^^^^^^^^^^^^^^^^^^^^^^^^^^^^^^^^^^^^^^^^^^^^^^^^^^^^^^^^^^^^^^^^^^^^^^^\n",
      "\n",
      "\n",
      "\n",
      "\n",
      "HI\n",
      "{'experiment_id': 'r1dd37mcxv5pf4', 'random_state': 2, 'live_volume': 0.0, 'dead_volume': 64.0, 'stain': None}\n",
      "data_columns: ['Container Type', 'Control', 'Culture_Volume', 'Media', 'Replicate', 'Storage (C)', 'Strain', 'checksum', 'filename', 'kill', 'kill_volume', 'plate_id', 'source', 'stain', 'well', 'experiment_id', 'Time', 'FSC-A', 'SSC-A', 'BL1-A', 'RL1-A', 'FSC-H', 'SSC-H', 'BL1-H', 'RL1-H', 'FSC-W', 'SSC-W', 'BL1-W', 'RL1-W']\n"
     ]
    },
    {
     "name": "stderr",
     "output_type": "stream",
     "text": [
      "/Users/danbryce/Documents/sift/xplan/external/xplan/xplan-to-autoprotocol-reactor/xplan-dev-env/xplan-dev-env/lib/python3.7/site-packages/pandas/core/indexing.py:480: SettingWithCopyWarning: \n",
      "A value is trying to be set on a copy of a slice from a DataFrame.\n",
      "Try using .loc[row_indexer,col_indexer] = value instead\n",
      "\n",
      "See the caveats in the documentation: http://pandas.pydata.org/pandas-docs/stable/user_guide/indexing.html#returning-a-view-versus-a-copy\n",
      "  self.obj[item] = s\n"
     ]
    },
    {
     "name": "stdout",
     "output_type": "stream",
     "text": [
      "['FSC-A', 'SSC-A', 'BL1-A', 'RL1-A', 'FSC-H', 'SSC-H', 'BL1-H', 'RL1-H', 'FSC-W', 'SSC-W', 'BL1-W', 'RL1-W']\n",
      "\n",
      "<harness.test_harness_class.TestHarness object at 0x11faa4320>\n"
     ]
    },
    {
     "name": "stderr",
     "output_type": "stream",
     "text": [
      "/Users/danbryce/Documents/sift/xplan/external/xplan/xplan-to-autoprotocol-reactor/xplan-dev-env/xplan-dev-env/lib/python3.7/site-packages/pandas/core/indexing.py:362: SettingWithCopyWarning: \n",
      "A value is trying to be set on a copy of a slice from a DataFrame.\n",
      "Try using .loc[row_indexer,col_indexer] = value instead\n",
      "\n",
      "See the caveats in the documentation: http://pandas.pydata.org/pandas-docs/stable/user_guide/indexing.html#returning-a-view-versus-a-copy\n",
      "  self.obj[key] = _infer_fill_value(value)\n"
     ]
    },
    {
     "name": "stdout",
     "output_type": "stream",
     "text": [
      "HI\n",
      "----------------------------------------------------------------------------------------------------\n",
      "Starting run at time 23:06:15\n",
      "Normalizing training and testing splits...\n",
      "Starting Classification training...\n",
      "Training time was: 42.94 seconds\n",
      "Testing time was: 1.28 seconds\n",
      "\n",
      "          Run ID        Date      Time                    Model Name Model Author Num Classes  Accuracy  Balanced Accuracy  AUC Score  Average Precision  F1 Score  Precision  Recall Samples In Train Samples In Test                                                                                      Model Description Column Predicted Num Features Used                                                                                      Data and Split Description Normalized Num Features Normalized Feature Extraction Was Untested Data Predicted\n",
      "0  Q6V8pRPEYZpao  2019-07-28  23:06:15  random_forest_classification  Hamed        2           0.795     0.795              0.876      0.861              0.805     0.766      0.848   192000           48000           Random Forest: n_estimators=361, max_features=auto, criterion=entropy, min_samples_leaf=13, n_jobs=-1  class_label      12                {'experiment_id': 'r1dd37mcxv5pf4', 'random_state': 2, 'live_volume': 0.0, 'dead_volume': 64.0, 'stain': None}  True       12                      False              False                     \n",
      "\n",
      "Run finished at 23:07:00. Total run time = 45.90 seconds\n",
      "^^^^^^^^^^^^^^^^^^^^^^^^^^^^^^^^^^^^^^^^^^^^^^^^^^^^^^^^^^^^^^^^^^^^^^^^^^^^^^^^^^^^^^^^^^^^^^^^^^^^\n",
      "\n",
      "\n",
      "\n",
      "\n",
      "HI\n",
      "{'experiment_id': 'r1dd37mcxv5pf4', 'random_state': 2, 'live_volume': 0.0, 'dead_volume': 29, 'stain': 'SYTOX Red Stain'}\n",
      "data_columns: ['Container Type', 'Control', 'Culture_Volume', 'Media', 'Replicate', 'Storage (C)', 'Strain', 'checksum', 'filename', 'kill', 'kill_volume', 'plate_id', 'source', 'stain', 'well', 'experiment_id', 'Time', 'FSC-A', 'SSC-A', 'BL1-A', 'RL1-A', 'FSC-H', 'SSC-H', 'BL1-H', 'RL1-H', 'FSC-W', 'SSC-W', 'BL1-W', 'RL1-W']\n"
     ]
    },
    {
     "name": "stderr",
     "output_type": "stream",
     "text": [
      "/Users/danbryce/Documents/sift/xplan/external/xplan/xplan-to-autoprotocol-reactor/xplan-dev-env/xplan-dev-env/lib/python3.7/site-packages/pandas/core/indexing.py:480: SettingWithCopyWarning: \n",
      "A value is trying to be set on a copy of a slice from a DataFrame.\n",
      "Try using .loc[row_indexer,col_indexer] = value instead\n",
      "\n",
      "See the caveats in the documentation: http://pandas.pydata.org/pandas-docs/stable/user_guide/indexing.html#returning-a-view-versus-a-copy\n",
      "  self.obj[item] = s\n"
     ]
    },
    {
     "name": "stdout",
     "output_type": "stream",
     "text": [
      "['FSC-A', 'SSC-A', 'BL1-A', 'RL1-A', 'FSC-H', 'SSC-H', 'BL1-H', 'RL1-H', 'FSC-W', 'SSC-W', 'BL1-W', 'RL1-W']\n",
      "\n",
      "<harness.test_harness_class.TestHarness object at 0x15d73a438>\n"
     ]
    },
    {
     "name": "stderr",
     "output_type": "stream",
     "text": [
      "/Users/danbryce/Documents/sift/xplan/external/xplan/xplan-to-autoprotocol-reactor/xplan-dev-env/xplan-dev-env/lib/python3.7/site-packages/pandas/core/indexing.py:362: SettingWithCopyWarning: \n",
      "A value is trying to be set on a copy of a slice from a DataFrame.\n",
      "Try using .loc[row_indexer,col_indexer] = value instead\n",
      "\n",
      "See the caveats in the documentation: http://pandas.pydata.org/pandas-docs/stable/user_guide/indexing.html#returning-a-view-versus-a-copy\n",
      "  self.obj[key] = _infer_fill_value(value)\n"
     ]
    },
    {
     "name": "stdout",
     "output_type": "stream",
     "text": [
      "HI\n",
      "----------------------------------------------------------------------------------------------------\n",
      "Starting run at time 23:07:06\n",
      "Normalizing training and testing splits...\n",
      "Starting Classification training...\n",
      "Training time was: 59.55 seconds\n",
      "Testing time was: 1.67 seconds\n",
      "\n",
      "          Run ID        Date      Time                    Model Name Model Author Num Classes  Accuracy  Balanced Accuracy  AUC Score  Average Precision  F1 Score  Precision  Recall Samples In Train Samples In Test                                                                                      Model Description Column Predicted Num Features Used                                                                                                 Data and Split Description Normalized Num Features Normalized Feature Extraction Was Untested Data Predicted\n",
      "0  Epl3Eww2lWw8e  2019-07-28  23:07:06  random_forest_classification  Hamed        2           0.649     0.649              0.711      0.678              0.674     0.629      0.726   192000           48000           Random Forest: n_estimators=361, max_features=auto, criterion=entropy, min_samples_leaf=13, n_jobs=-1  class_label      12                {'experiment_id': 'r1dd37mcxv5pf4', 'random_state': 2, 'live_volume': 0.0, 'dead_volume': 29, 'stain': 'SYTOX Red Stain'}  True       12                      False              False                     \n",
      "\n",
      "Run finished at 23:08:09. Total run time = 63.01 seconds\n",
      "^^^^^^^^^^^^^^^^^^^^^^^^^^^^^^^^^^^^^^^^^^^^^^^^^^^^^^^^^^^^^^^^^^^^^^^^^^^^^^^^^^^^^^^^^^^^^^^^^^^^\n",
      "\n",
      "\n",
      "\n",
      "\n",
      "HI\n",
      "{'experiment_id': 'r1dd37mcxv5pf4', 'random_state': 2, 'live_volume': 0.0, 'dead_volume': 29, 'stain': None}\n",
      "data_columns: ['Container Type', 'Control', 'Culture_Volume', 'Media', 'Replicate', 'Storage (C)', 'Strain', 'checksum', 'filename', 'kill', 'kill_volume', 'plate_id', 'source', 'stain', 'well', 'experiment_id', 'Time', 'FSC-A', 'SSC-A', 'BL1-A', 'RL1-A', 'FSC-H', 'SSC-H', 'BL1-H', 'RL1-H', 'FSC-W', 'SSC-W', 'BL1-W', 'RL1-W']\n"
     ]
    },
    {
     "name": "stderr",
     "output_type": "stream",
     "text": [
      "/Users/danbryce/Documents/sift/xplan/external/xplan/xplan-to-autoprotocol-reactor/xplan-dev-env/xplan-dev-env/lib/python3.7/site-packages/pandas/core/indexing.py:480: SettingWithCopyWarning: \n",
      "A value is trying to be set on a copy of a slice from a DataFrame.\n",
      "Try using .loc[row_indexer,col_indexer] = value instead\n",
      "\n",
      "See the caveats in the documentation: http://pandas.pydata.org/pandas-docs/stable/user_guide/indexing.html#returning-a-view-versus-a-copy\n",
      "  self.obj[item] = s\n"
     ]
    },
    {
     "name": "stdout",
     "output_type": "stream",
     "text": [
      "['FSC-A', 'SSC-A', 'BL1-A', 'RL1-A', 'FSC-H', 'SSC-H', 'BL1-H', 'RL1-H', 'FSC-W', 'SSC-W', 'BL1-W', 'RL1-W']\n",
      "\n",
      "<harness.test_harness_class.TestHarness object at 0x12b9c8b00>\n"
     ]
    },
    {
     "name": "stderr",
     "output_type": "stream",
     "text": [
      "/Users/danbryce/Documents/sift/xplan/external/xplan/xplan-to-autoprotocol-reactor/xplan-dev-env/xplan-dev-env/lib/python3.7/site-packages/pandas/core/indexing.py:362: SettingWithCopyWarning: \n",
      "A value is trying to be set on a copy of a slice from a DataFrame.\n",
      "Try using .loc[row_indexer,col_indexer] = value instead\n",
      "\n",
      "See the caveats in the documentation: http://pandas.pydata.org/pandas-docs/stable/user_guide/indexing.html#returning-a-view-versus-a-copy\n",
      "  self.obj[key] = _infer_fill_value(value)\n"
     ]
    },
    {
     "name": "stdout",
     "output_type": "stream",
     "text": [
      "HI\n",
      "----------------------------------------------------------------------------------------------------\n",
      "Starting run at time 23:08:16\n",
      "Normalizing training and testing splits...\n",
      "Starting Classification training...\n",
      "Training time was: 52.60 seconds\n",
      "Testing time was: 1.47 seconds\n",
      "\n",
      "          Run ID        Date      Time                    Model Name Model Author Num Classes  Accuracy  Balanced Accuracy  AUC Score  Average Precision  F1 Score  Precision  Recall Samples In Train Samples In Test                                                                                      Model Description Column Predicted Num Features Used                                                                                    Data and Split Description Normalized Num Features Normalized Feature Extraction Was Untested Data Predicted\n",
      "0  52gx7AQj7895G  2019-07-28  23:08:16  random_forest_classification  Hamed        2           0.634     0.634              0.685      0.669              0.637     0.632      0.642   192000           48000           Random Forest: n_estimators=361, max_features=auto, criterion=entropy, min_samples_leaf=13, n_jobs=-1  class_label      12                {'experiment_id': 'r1dd37mcxv5pf4', 'random_state': 2, 'live_volume': 0.0, 'dead_volume': 29, 'stain': None}  True       12                      False              False                     \n",
      "\n",
      "Run finished at 23:09:12. Total run time = 56.11 seconds\n",
      "^^^^^^^^^^^^^^^^^^^^^^^^^^^^^^^^^^^^^^^^^^^^^^^^^^^^^^^^^^^^^^^^^^^^^^^^^^^^^^^^^^^^^^^^^^^^^^^^^^^^\n",
      "\n",
      "\n",
      "\n",
      "\n",
      "HI\n",
      "{'experiment_id': 'r1dd37mcxv5pf4', 'random_state': 3, 'live_volume': 0.0, 'dead_volume': 980.0, 'stain': 'SYTOX Red Stain'}\n",
      "data_columns: ['Container Type', 'Control', 'Culture_Volume', 'Media', 'Replicate', 'Storage (C)', 'Strain', 'checksum', 'filename', 'kill', 'kill_volume', 'plate_id', 'source', 'stain', 'well', 'experiment_id', 'Time', 'FSC-A', 'SSC-A', 'BL1-A', 'RL1-A', 'FSC-H', 'SSC-H', 'BL1-H', 'RL1-H', 'FSC-W', 'SSC-W', 'BL1-W', 'RL1-W']\n"
     ]
    },
    {
     "name": "stderr",
     "output_type": "stream",
     "text": [
      "/Users/danbryce/Documents/sift/xplan/external/xplan/xplan-to-autoprotocol-reactor/xplan-dev-env/xplan-dev-env/lib/python3.7/site-packages/pandas/core/indexing.py:480: SettingWithCopyWarning: \n",
      "A value is trying to be set on a copy of a slice from a DataFrame.\n",
      "Try using .loc[row_indexer,col_indexer] = value instead\n",
      "\n",
      "See the caveats in the documentation: http://pandas.pydata.org/pandas-docs/stable/user_guide/indexing.html#returning-a-view-versus-a-copy\n",
      "  self.obj[item] = s\n"
     ]
    },
    {
     "name": "stdout",
     "output_type": "stream",
     "text": [
      "['FSC-A', 'SSC-A', 'BL1-A', 'RL1-A', 'FSC-H', 'SSC-H', 'BL1-H', 'RL1-H', 'FSC-W', 'SSC-W', 'BL1-W', 'RL1-W']\n",
      "\n",
      "<harness.test_harness_class.TestHarness object at 0x13d9690f0>\n"
     ]
    },
    {
     "name": "stderr",
     "output_type": "stream",
     "text": [
      "/Users/danbryce/Documents/sift/xplan/external/xplan/xplan-to-autoprotocol-reactor/xplan-dev-env/xplan-dev-env/lib/python3.7/site-packages/pandas/core/indexing.py:362: SettingWithCopyWarning: \n",
      "A value is trying to be set on a copy of a slice from a DataFrame.\n",
      "Try using .loc[row_indexer,col_indexer] = value instead\n",
      "\n",
      "See the caveats in the documentation: http://pandas.pydata.org/pandas-docs/stable/user_guide/indexing.html#returning-a-view-versus-a-copy\n",
      "  self.obj[key] = _infer_fill_value(value)\n"
     ]
    },
    {
     "name": "stdout",
     "output_type": "stream",
     "text": [
      "HI\n",
      "----------------------------------------------------------------------------------------------------\n",
      "Starting run at time 23:09:18\n",
      "Normalizing training and testing splits...\n",
      "Starting Classification training...\n",
      "Training time was: 36.76 seconds\n",
      "Testing time was: 0.65 seconds\n",
      "\n",
      "          Run ID        Date      Time                    Model Name Model Author Num Classes  Accuracy  Balanced Accuracy  AUC Score  Average Precision  F1 Score  Precision  Recall Samples In Train Samples In Test                                                                                      Model Description Column Predicted Num Features Used                                                                                                    Data and Split Description Normalized Num Features Normalized Feature Extraction Was Untested Data Predicted\n",
      "0  66e9PdGOa6BYO  2019-07-28  23:09:18  random_forest_classification  Hamed        2           0.998     0.998              1.0        1.0                0.998     0.999      0.998   192000           48000           Random Forest: n_estimators=361, max_features=auto, criterion=entropy, min_samples_leaf=13, n_jobs=-1  class_label      12                {'experiment_id': 'r1dd37mcxv5pf4', 'random_state': 3, 'live_volume': 0.0, 'dead_volume': 980.0, 'stain': 'SYTOX Red Stain'}  True       12                      False              False                     \n",
      "\n",
      "Run finished at 23:09:58. Total run time = 39.20 seconds\n",
      "^^^^^^^^^^^^^^^^^^^^^^^^^^^^^^^^^^^^^^^^^^^^^^^^^^^^^^^^^^^^^^^^^^^^^^^^^^^^^^^^^^^^^^^^^^^^^^^^^^^^\n",
      "\n",
      "\n",
      "\n",
      "\n",
      "HI\n",
      "{'experiment_id': 'r1dd37mcxv5pf4', 'random_state': 3, 'live_volume': 0.0, 'dead_volume': 980.0, 'stain': None}\n",
      "data_columns: ['Container Type', 'Control', 'Culture_Volume', 'Media', 'Replicate', 'Storage (C)', 'Strain', 'checksum', 'filename', 'kill', 'kill_volume', 'plate_id', 'source', 'stain', 'well', 'experiment_id', 'Time', 'FSC-A', 'SSC-A', 'BL1-A', 'RL1-A', 'FSC-H', 'SSC-H', 'BL1-H', 'RL1-H', 'FSC-W', 'SSC-W', 'BL1-W', 'RL1-W']\n"
     ]
    },
    {
     "name": "stderr",
     "output_type": "stream",
     "text": [
      "/Users/danbryce/Documents/sift/xplan/external/xplan/xplan-to-autoprotocol-reactor/xplan-dev-env/xplan-dev-env/lib/python3.7/site-packages/pandas/core/indexing.py:480: SettingWithCopyWarning: \n",
      "A value is trying to be set on a copy of a slice from a DataFrame.\n",
      "Try using .loc[row_indexer,col_indexer] = value instead\n",
      "\n",
      "See the caveats in the documentation: http://pandas.pydata.org/pandas-docs/stable/user_guide/indexing.html#returning-a-view-versus-a-copy\n",
      "  self.obj[item] = s\n"
     ]
    },
    {
     "name": "stdout",
     "output_type": "stream",
     "text": [
      "['FSC-A', 'SSC-A', 'BL1-A', 'RL1-A', 'FSC-H', 'SSC-H', 'BL1-H', 'RL1-H', 'FSC-W', 'SSC-W', 'BL1-W', 'RL1-W']\n",
      "\n",
      "<harness.test_harness_class.TestHarness object at 0x1e5a250b8>\n"
     ]
    },
    {
     "name": "stderr",
     "output_type": "stream",
     "text": [
      "/Users/danbryce/Documents/sift/xplan/external/xplan/xplan-to-autoprotocol-reactor/xplan-dev-env/xplan-dev-env/lib/python3.7/site-packages/pandas/core/indexing.py:362: SettingWithCopyWarning: \n",
      "A value is trying to be set on a copy of a slice from a DataFrame.\n",
      "Try using .loc[row_indexer,col_indexer] = value instead\n",
      "\n",
      "See the caveats in the documentation: http://pandas.pydata.org/pandas-docs/stable/user_guide/indexing.html#returning-a-view-versus-a-copy\n",
      "  self.obj[key] = _infer_fill_value(value)\n"
     ]
    },
    {
     "name": "stdout",
     "output_type": "stream",
     "text": [
      "HI\n",
      "----------------------------------------------------------------------------------------------------\n",
      "Starting run at time 23:10:04\n",
      "Normalizing training and testing splits...\n",
      "Starting Classification training...\n",
      "Training time was: 37.95 seconds\n",
      "Testing time was: 0.76 seconds\n",
      "\n",
      "          Run ID        Date      Time                    Model Name Model Author Num Classes  Accuracy  Balanced Accuracy  AUC Score  Average Precision  F1 Score  Precision  Recall Samples In Train Samples In Test                                                                                      Model Description Column Predicted Num Features Used                                                                                       Data and Split Description Normalized Num Features Normalized Feature Extraction Was Untested Data Predicted\n",
      "0  6qyrLeNAkOwv3  2019-07-28  23:10:04  random_forest_classification  Hamed        2           0.995     0.995              1.0        1.0                0.995     0.992      0.997   192000           48000           Random Forest: n_estimators=361, max_features=auto, criterion=entropy, min_samples_leaf=13, n_jobs=-1  class_label      12                {'experiment_id': 'r1dd37mcxv5pf4', 'random_state': 3, 'live_volume': 0.0, 'dead_volume': 980.0, 'stain': None}  True       12                      False              False                     \n",
      "\n",
      "Run finished at 23:10:44. Total run time = 40.36 seconds\n",
      "^^^^^^^^^^^^^^^^^^^^^^^^^^^^^^^^^^^^^^^^^^^^^^^^^^^^^^^^^^^^^^^^^^^^^^^^^^^^^^^^^^^^^^^^^^^^^^^^^^^^\n",
      "\n",
      "\n",
      "\n",
      "\n",
      "HI\n",
      "{'experiment_id': 'r1dd37mcxv5pf4', 'random_state': 3, 'live_volume': 0.0, 'dead_volume': 570.0, 'stain': 'SYTOX Red Stain'}\n",
      "data_columns: ['Container Type', 'Control', 'Culture_Volume', 'Media', 'Replicate', 'Storage (C)', 'Strain', 'checksum', 'filename', 'kill', 'kill_volume', 'plate_id', 'source', 'stain', 'well', 'experiment_id', 'Time', 'FSC-A', 'SSC-A', 'BL1-A', 'RL1-A', 'FSC-H', 'SSC-H', 'BL1-H', 'RL1-H', 'FSC-W', 'SSC-W', 'BL1-W', 'RL1-W']\n"
     ]
    },
    {
     "name": "stderr",
     "output_type": "stream",
     "text": [
      "/Users/danbryce/Documents/sift/xplan/external/xplan/xplan-to-autoprotocol-reactor/xplan-dev-env/xplan-dev-env/lib/python3.7/site-packages/pandas/core/indexing.py:480: SettingWithCopyWarning: \n",
      "A value is trying to be set on a copy of a slice from a DataFrame.\n",
      "Try using .loc[row_indexer,col_indexer] = value instead\n",
      "\n",
      "See the caveats in the documentation: http://pandas.pydata.org/pandas-docs/stable/user_guide/indexing.html#returning-a-view-versus-a-copy\n",
      "  self.obj[item] = s\n"
     ]
    },
    {
     "name": "stdout",
     "output_type": "stream",
     "text": [
      "['FSC-A', 'SSC-A', 'BL1-A', 'RL1-A', 'FSC-H', 'SSC-H', 'BL1-H', 'RL1-H', 'FSC-W', 'SSC-W', 'BL1-W', 'RL1-W']\n",
      "\n",
      "<harness.test_harness_class.TestHarness object at 0x15e746ba8>\n"
     ]
    },
    {
     "name": "stderr",
     "output_type": "stream",
     "text": [
      "/Users/danbryce/Documents/sift/xplan/external/xplan/xplan-to-autoprotocol-reactor/xplan-dev-env/xplan-dev-env/lib/python3.7/site-packages/pandas/core/indexing.py:362: SettingWithCopyWarning: \n",
      "A value is trying to be set on a copy of a slice from a DataFrame.\n",
      "Try using .loc[row_indexer,col_indexer] = value instead\n",
      "\n",
      "See the caveats in the documentation: http://pandas.pydata.org/pandas-docs/stable/user_guide/indexing.html#returning-a-view-versus-a-copy\n",
      "  self.obj[key] = _infer_fill_value(value)\n"
     ]
    },
    {
     "name": "stdout",
     "output_type": "stream",
     "text": [
      "HI\n",
      "----------------------------------------------------------------------------------------------------\n",
      "Starting run at time 23:10:51\n",
      "Normalizing training and testing splits...\n",
      "Starting Classification training...\n",
      "Training time was: 36.10 seconds\n",
      "Testing time was: 0.75 seconds\n",
      "\n",
      "          Run ID        Date      Time                    Model Name Model Author Num Classes  Accuracy  Balanced Accuracy  AUC Score  Average Precision  F1 Score  Precision  Recall Samples In Train Samples In Test                                                                                      Model Description Column Predicted Num Features Used                                                                                                    Data and Split Description Normalized Num Features Normalized Feature Extraction Was Untested Data Predicted\n",
      "0  EW6V1eWP2aVQ1  2019-07-28  23:10:51  random_forest_classification  Hamed        2           0.997     0.997              1.0        1.0                0.997     0.999      0.996   192000           48000           Random Forest: n_estimators=361, max_features=auto, criterion=entropy, min_samples_leaf=13, n_jobs=-1  class_label      12                {'experiment_id': 'r1dd37mcxv5pf4', 'random_state': 3, 'live_volume': 0.0, 'dead_volume': 570.0, 'stain': 'SYTOX Red Stain'}  True       12                      False              False                     \n",
      "\n",
      "Run finished at 23:11:30. Total run time = 38.80 seconds\n",
      "^^^^^^^^^^^^^^^^^^^^^^^^^^^^^^^^^^^^^^^^^^^^^^^^^^^^^^^^^^^^^^^^^^^^^^^^^^^^^^^^^^^^^^^^^^^^^^^^^^^^\n",
      "\n",
      "\n",
      "\n",
      "\n",
      "HI\n",
      "{'experiment_id': 'r1dd37mcxv5pf4', 'random_state': 3, 'live_volume': 0.0, 'dead_volume': 570.0, 'stain': None}\n",
      "data_columns: ['Container Type', 'Control', 'Culture_Volume', 'Media', 'Replicate', 'Storage (C)', 'Strain', 'checksum', 'filename', 'kill', 'kill_volume', 'plate_id', 'source', 'stain', 'well', 'experiment_id', 'Time', 'FSC-A', 'SSC-A', 'BL1-A', 'RL1-A', 'FSC-H', 'SSC-H', 'BL1-H', 'RL1-H', 'FSC-W', 'SSC-W', 'BL1-W', 'RL1-W']\n"
     ]
    },
    {
     "name": "stderr",
     "output_type": "stream",
     "text": [
      "/Users/danbryce/Documents/sift/xplan/external/xplan/xplan-to-autoprotocol-reactor/xplan-dev-env/xplan-dev-env/lib/python3.7/site-packages/pandas/core/indexing.py:480: SettingWithCopyWarning: \n",
      "A value is trying to be set on a copy of a slice from a DataFrame.\n",
      "Try using .loc[row_indexer,col_indexer] = value instead\n",
      "\n",
      "See the caveats in the documentation: http://pandas.pydata.org/pandas-docs/stable/user_guide/indexing.html#returning-a-view-versus-a-copy\n",
      "  self.obj[item] = s\n"
     ]
    },
    {
     "name": "stdout",
     "output_type": "stream",
     "text": [
      "['FSC-A', 'SSC-A', 'BL1-A', 'RL1-A', 'FSC-H', 'SSC-H', 'BL1-H', 'RL1-H', 'FSC-W', 'SSC-W', 'BL1-W', 'RL1-W']\n",
      "\n",
      "<harness.test_harness_class.TestHarness object at 0x143682400>\n"
     ]
    },
    {
     "name": "stderr",
     "output_type": "stream",
     "text": [
      "/Users/danbryce/Documents/sift/xplan/external/xplan/xplan-to-autoprotocol-reactor/xplan-dev-env/xplan-dev-env/lib/python3.7/site-packages/pandas/core/indexing.py:362: SettingWithCopyWarning: \n",
      "A value is trying to be set on a copy of a slice from a DataFrame.\n",
      "Try using .loc[row_indexer,col_indexer] = value instead\n",
      "\n",
      "See the caveats in the documentation: http://pandas.pydata.org/pandas-docs/stable/user_guide/indexing.html#returning-a-view-versus-a-copy\n",
      "  self.obj[key] = _infer_fill_value(value)\n"
     ]
    },
    {
     "name": "stdout",
     "output_type": "stream",
     "text": [
      "HI\n",
      "----------------------------------------------------------------------------------------------------\n",
      "Starting run at time 23:11:36\n",
      "Normalizing training and testing splits...\n",
      "Starting Classification training...\n",
      "Training time was: 46.78 seconds\n",
      "Testing time was: 0.85 seconds\n",
      "\n",
      "          Run ID        Date      Time                    Model Name Model Author Num Classes  Accuracy  Balanced Accuracy  AUC Score  Average Precision  F1 Score  Precision  Recall Samples In Train Samples In Test                                                                                      Model Description Column Predicted Num Features Used                                                                                       Data and Split Description Normalized Num Features Normalized Feature Extraction Was Untested Data Predicted\n",
      "0  6DrO8RbMLXgXw  2019-07-28  23:11:36  random_forest_classification  Hamed        2           0.978     0.978              0.997      0.997              0.979     0.974      0.985   183965           45992           Random Forest: n_estimators=361, max_features=auto, criterion=entropy, min_samples_leaf=13, n_jobs=-1  class_label      12                {'experiment_id': 'r1dd37mcxv5pf4', 'random_state': 3, 'live_volume': 0.0, 'dead_volume': 570.0, 'stain': None}  True       12                      False              False                     \n",
      "\n",
      "Run finished at 23:12:25. Total run time = 49.27 seconds\n",
      "^^^^^^^^^^^^^^^^^^^^^^^^^^^^^^^^^^^^^^^^^^^^^^^^^^^^^^^^^^^^^^^^^^^^^^^^^^^^^^^^^^^^^^^^^^^^^^^^^^^^\n",
      "\n",
      "\n",
      "\n",
      "\n",
      "HI\n",
      "{'experiment_id': 'r1dd37mcxv5pf4', 'random_state': 3, 'live_volume': 0.0, 'dead_volume': 370.0, 'stain': 'SYTOX Red Stain'}\n",
      "data_columns: ['Container Type', 'Control', 'Culture_Volume', 'Media', 'Replicate', 'Storage (C)', 'Strain', 'checksum', 'filename', 'kill', 'kill_volume', 'plate_id', 'source', 'stain', 'well', 'experiment_id', 'Time', 'FSC-A', 'SSC-A', 'BL1-A', 'RL1-A', 'FSC-H', 'SSC-H', 'BL1-H', 'RL1-H', 'FSC-W', 'SSC-W', 'BL1-W', 'RL1-W']\n"
     ]
    },
    {
     "name": "stderr",
     "output_type": "stream",
     "text": [
      "/Users/danbryce/Documents/sift/xplan/external/xplan/xplan-to-autoprotocol-reactor/xplan-dev-env/xplan-dev-env/lib/python3.7/site-packages/pandas/core/indexing.py:480: SettingWithCopyWarning: \n",
      "A value is trying to be set on a copy of a slice from a DataFrame.\n",
      "Try using .loc[row_indexer,col_indexer] = value instead\n",
      "\n",
      "See the caveats in the documentation: http://pandas.pydata.org/pandas-docs/stable/user_guide/indexing.html#returning-a-view-versus-a-copy\n",
      "  self.obj[item] = s\n"
     ]
    },
    {
     "name": "stdout",
     "output_type": "stream",
     "text": [
      "['FSC-A', 'SSC-A', 'BL1-A', 'RL1-A', 'FSC-H', 'SSC-H', 'BL1-H', 'RL1-H', 'FSC-W', 'SSC-W', 'BL1-W', 'RL1-W']\n",
      "\n",
      "<harness.test_harness_class.TestHarness object at 0x1e5a4c630>\n"
     ]
    },
    {
     "name": "stderr",
     "output_type": "stream",
     "text": [
      "/Users/danbryce/Documents/sift/xplan/external/xplan/xplan-to-autoprotocol-reactor/xplan-dev-env/xplan-dev-env/lib/python3.7/site-packages/pandas/core/indexing.py:362: SettingWithCopyWarning: \n",
      "A value is trying to be set on a copy of a slice from a DataFrame.\n",
      "Try using .loc[row_indexer,col_indexer] = value instead\n",
      "\n",
      "See the caveats in the documentation: http://pandas.pydata.org/pandas-docs/stable/user_guide/indexing.html#returning-a-view-versus-a-copy\n",
      "  self.obj[key] = _infer_fill_value(value)\n"
     ]
    },
    {
     "name": "stdout",
     "output_type": "stream",
     "text": [
      "HI\n",
      "----------------------------------------------------------------------------------------------------\n",
      "Starting run at time 23:12:31\n",
      "Normalizing training and testing splits...\n",
      "Starting Classification training...\n",
      "Training time was: 30.20 seconds\n",
      "Testing time was: 0.64 seconds\n",
      "\n",
      "          Run ID        Date      Time                    Model Name Model Author Num Classes  Accuracy  Balanced Accuracy  AUC Score  Average Precision  F1 Score  Precision  Recall Samples In Train Samples In Test                                                                                      Model Description Column Predicted Num Features Used                                                                                                    Data and Split Description Normalized Num Features Normalized Feature Extraction Was Untested Data Predicted\n",
      "0  5ow3MyzYQ93db  2019-07-28  23:12:31  random_forest_classification  Hamed        2           0.997     0.997              1.0        1.0                0.997     0.999      0.996   175331           43833           Random Forest: n_estimators=361, max_features=auto, criterion=entropy, min_samples_leaf=13, n_jobs=-1  class_label      12                {'experiment_id': 'r1dd37mcxv5pf4', 'random_state': 3, 'live_volume': 0.0, 'dead_volume': 370.0, 'stain': 'SYTOX Red Stain'}  True       12                      False              False                     \n",
      "\n",
      "Run finished at 23:13:04. Total run time = 32.44 seconds\n",
      "^^^^^^^^^^^^^^^^^^^^^^^^^^^^^^^^^^^^^^^^^^^^^^^^^^^^^^^^^^^^^^^^^^^^^^^^^^^^^^^^^^^^^^^^^^^^^^^^^^^^\n",
      "\n",
      "\n",
      "\n",
      "\n",
      "HI\n",
      "{'experiment_id': 'r1dd37mcxv5pf4', 'random_state': 3, 'live_volume': 0.0, 'dead_volume': 370.0, 'stain': None}\n",
      "data_columns: ['Container Type', 'Control', 'Culture_Volume', 'Media', 'Replicate', 'Storage (C)', 'Strain', 'checksum', 'filename', 'kill', 'kill_volume', 'plate_id', 'source', 'stain', 'well', 'experiment_id', 'Time', 'FSC-A', 'SSC-A', 'BL1-A', 'RL1-A', 'FSC-H', 'SSC-H', 'BL1-H', 'RL1-H', 'FSC-W', 'SSC-W', 'BL1-W', 'RL1-W']\n"
     ]
    },
    {
     "name": "stderr",
     "output_type": "stream",
     "text": [
      "/Users/danbryce/Documents/sift/xplan/external/xplan/xplan-to-autoprotocol-reactor/xplan-dev-env/xplan-dev-env/lib/python3.7/site-packages/pandas/core/indexing.py:480: SettingWithCopyWarning: \n",
      "A value is trying to be set on a copy of a slice from a DataFrame.\n",
      "Try using .loc[row_indexer,col_indexer] = value instead\n",
      "\n",
      "See the caveats in the documentation: http://pandas.pydata.org/pandas-docs/stable/user_guide/indexing.html#returning-a-view-versus-a-copy\n",
      "  self.obj[item] = s\n"
     ]
    },
    {
     "name": "stdout",
     "output_type": "stream",
     "text": [
      "['FSC-A', 'SSC-A', 'BL1-A', 'RL1-A', 'FSC-H', 'SSC-H', 'BL1-H', 'RL1-H', 'FSC-W', 'SSC-W', 'BL1-W', 'RL1-W']\n",
      "\n",
      "<harness.test_harness_class.TestHarness object at 0x1348bbeb8>\n"
     ]
    },
    {
     "name": "stderr",
     "output_type": "stream",
     "text": [
      "/Users/danbryce/Documents/sift/xplan/external/xplan/xplan-to-autoprotocol-reactor/xplan-dev-env/xplan-dev-env/lib/python3.7/site-packages/pandas/core/indexing.py:362: SettingWithCopyWarning: \n",
      "A value is trying to be set on a copy of a slice from a DataFrame.\n",
      "Try using .loc[row_indexer,col_indexer] = value instead\n",
      "\n",
      "See the caveats in the documentation: http://pandas.pydata.org/pandas-docs/stable/user_guide/indexing.html#returning-a-view-versus-a-copy\n",
      "  self.obj[key] = _infer_fill_value(value)\n"
     ]
    },
    {
     "name": "stdout",
     "output_type": "stream",
     "text": [
      "HI\n",
      "----------------------------------------------------------------------------------------------------\n",
      "Starting run at time 23:13:09\n",
      "Normalizing training and testing splits...\n",
      "Starting Classification training...\n",
      "Training time was: 43.65 seconds\n",
      "Testing time was: 0.84 seconds\n",
      "\n",
      "          Run ID        Date      Time                    Model Name Model Author Num Classes  Accuracy  Balanced Accuracy  AUC Score  Average Precision  F1 Score  Precision  Recall Samples In Train Samples In Test                                                                                      Model Description Column Predicted Num Features Used                                                                                       Data and Split Description Normalized Num Features Normalized Feature Extraction Was Untested Data Predicted\n",
      "0  Q69agapZpVqPk  2019-07-28  23:13:09  random_forest_classification  Hamed        2           0.973     0.972              0.995      0.995              0.976     0.973      0.98    166786           41697           Random Forest: n_estimators=361, max_features=auto, criterion=entropy, min_samples_leaf=13, n_jobs=-1  class_label      12                {'experiment_id': 'r1dd37mcxv5pf4', 'random_state': 3, 'live_volume': 0.0, 'dead_volume': 370.0, 'stain': None}  True       12                      False              False                     \n",
      "\n",
      "Run finished at 23:13:55. Total run time = 46.44 seconds\n",
      "^^^^^^^^^^^^^^^^^^^^^^^^^^^^^^^^^^^^^^^^^^^^^^^^^^^^^^^^^^^^^^^^^^^^^^^^^^^^^^^^^^^^^^^^^^^^^^^^^^^^\n",
      "\n",
      "\n",
      "\n",
      "\n",
      "HI\n",
      "{'experiment_id': 'r1dd37mcxv5pf4', 'random_state': 3, 'live_volume': 0.0, 'dead_volume': 250.0, 'stain': 'SYTOX Red Stain'}\n",
      "data_columns: ['Container Type', 'Control', 'Culture_Volume', 'Media', 'Replicate', 'Storage (C)', 'Strain', 'checksum', 'filename', 'kill', 'kill_volume', 'plate_id', 'source', 'stain', 'well', 'experiment_id', 'Time', 'FSC-A', 'SSC-A', 'BL1-A', 'RL1-A', 'FSC-H', 'SSC-H', 'BL1-H', 'RL1-H', 'FSC-W', 'SSC-W', 'BL1-W', 'RL1-W']\n"
     ]
    },
    {
     "name": "stderr",
     "output_type": "stream",
     "text": [
      "/Users/danbryce/Documents/sift/xplan/external/xplan/xplan-to-autoprotocol-reactor/xplan-dev-env/xplan-dev-env/lib/python3.7/site-packages/pandas/core/indexing.py:480: SettingWithCopyWarning: \n",
      "A value is trying to be set on a copy of a slice from a DataFrame.\n",
      "Try using .loc[row_indexer,col_indexer] = value instead\n",
      "\n",
      "See the caveats in the documentation: http://pandas.pydata.org/pandas-docs/stable/user_guide/indexing.html#returning-a-view-versus-a-copy\n",
      "  self.obj[item] = s\n"
     ]
    },
    {
     "name": "stdout",
     "output_type": "stream",
     "text": [
      "['FSC-A', 'SSC-A', 'BL1-A', 'RL1-A', 'FSC-H', 'SSC-H', 'BL1-H', 'RL1-H', 'FSC-W', 'SSC-W', 'BL1-W', 'RL1-W']\n",
      "\n",
      "<harness.test_harness_class.TestHarness object at 0x17b5dfe48>\n"
     ]
    },
    {
     "name": "stderr",
     "output_type": "stream",
     "text": [
      "/Users/danbryce/Documents/sift/xplan/external/xplan/xplan-to-autoprotocol-reactor/xplan-dev-env/xplan-dev-env/lib/python3.7/site-packages/pandas/core/indexing.py:362: SettingWithCopyWarning: \n",
      "A value is trying to be set on a copy of a slice from a DataFrame.\n",
      "Try using .loc[row_indexer,col_indexer] = value instead\n",
      "\n",
      "See the caveats in the documentation: http://pandas.pydata.org/pandas-docs/stable/user_guide/indexing.html#returning-a-view-versus-a-copy\n",
      "  self.obj[key] = _infer_fill_value(value)\n"
     ]
    },
    {
     "name": "stdout",
     "output_type": "stream",
     "text": [
      "HI\n",
      "----------------------------------------------------------------------------------------------------\n",
      "Starting run at time 23:14:00\n",
      "Normalizing training and testing splits...\n",
      "Starting Classification training...\n",
      "Training time was: 31.00 seconds\n",
      "Testing time was: 0.65 seconds\n",
      "\n",
      "          Run ID        Date      Time                    Model Name Model Author Num Classes  Accuracy  Balanced Accuracy  AUC Score  Average Precision  F1 Score  Precision  Recall Samples In Train Samples In Test                                                                                      Model Description Column Predicted Num Features Used                                                                                                    Data and Split Description Normalized Num Features Normalized Feature Extraction Was Untested Data Predicted\n",
      "0  6dWx3wL2xlelG  2019-07-28  23:14:00  random_forest_classification  Hamed        2           0.996     0.997              1.0        1.0                0.997     1.0        0.995   147452           36864           Random Forest: n_estimators=361, max_features=auto, criterion=entropy, min_samples_leaf=13, n_jobs=-1  class_label      12                {'experiment_id': 'r1dd37mcxv5pf4', 'random_state': 3, 'live_volume': 0.0, 'dead_volume': 250.0, 'stain': 'SYTOX Red Stain'}  True       12                      False              False                     \n",
      "\n",
      "Run finished at 23:14:33. Total run time = 33.04 seconds\n",
      "^^^^^^^^^^^^^^^^^^^^^^^^^^^^^^^^^^^^^^^^^^^^^^^^^^^^^^^^^^^^^^^^^^^^^^^^^^^^^^^^^^^^^^^^^^^^^^^^^^^^\n",
      "\n",
      "\n",
      "\n",
      "\n",
      "HI\n",
      "{'experiment_id': 'r1dd37mcxv5pf4', 'random_state': 3, 'live_volume': 0.0, 'dead_volume': 250.0, 'stain': None}\n",
      "data_columns: ['Container Type', 'Control', 'Culture_Volume', 'Media', 'Replicate', 'Storage (C)', 'Strain', 'checksum', 'filename', 'kill', 'kill_volume', 'plate_id', 'source', 'stain', 'well', 'experiment_id', 'Time', 'FSC-A', 'SSC-A', 'BL1-A', 'RL1-A', 'FSC-H', 'SSC-H', 'BL1-H', 'RL1-H', 'FSC-W', 'SSC-W', 'BL1-W', 'RL1-W']\n"
     ]
    },
    {
     "name": "stderr",
     "output_type": "stream",
     "text": [
      "/Users/danbryce/Documents/sift/xplan/external/xplan/xplan-to-autoprotocol-reactor/xplan-dev-env/xplan-dev-env/lib/python3.7/site-packages/pandas/core/indexing.py:480: SettingWithCopyWarning: \n",
      "A value is trying to be set on a copy of a slice from a DataFrame.\n",
      "Try using .loc[row_indexer,col_indexer] = value instead\n",
      "\n",
      "See the caveats in the documentation: http://pandas.pydata.org/pandas-docs/stable/user_guide/indexing.html#returning-a-view-versus-a-copy\n",
      "  self.obj[item] = s\n"
     ]
    },
    {
     "name": "stdout",
     "output_type": "stream",
     "text": [
      "['FSC-A', 'SSC-A', 'BL1-A', 'RL1-A', 'FSC-H', 'SSC-H', 'BL1-H', 'RL1-H', 'FSC-W', 'SSC-W', 'BL1-W', 'RL1-W']\n",
      "\n",
      "<harness.test_harness_class.TestHarness object at 0x13d972cc0>\n"
     ]
    },
    {
     "name": "stderr",
     "output_type": "stream",
     "text": [
      "/Users/danbryce/Documents/sift/xplan/external/xplan/xplan-to-autoprotocol-reactor/xplan-dev-env/xplan-dev-env/lib/python3.7/site-packages/pandas/core/indexing.py:362: SettingWithCopyWarning: \n",
      "A value is trying to be set on a copy of a slice from a DataFrame.\n",
      "Try using .loc[row_indexer,col_indexer] = value instead\n",
      "\n",
      "See the caveats in the documentation: http://pandas.pydata.org/pandas-docs/stable/user_guide/indexing.html#returning-a-view-versus-a-copy\n",
      "  self.obj[key] = _infer_fill_value(value)\n"
     ]
    },
    {
     "name": "stdout",
     "output_type": "stream",
     "text": [
      "HI\n",
      "----------------------------------------------------------------------------------------------------\n",
      "Starting run at time 23:14:39\n",
      "Normalizing training and testing splits...\n",
      "Starting Classification training...\n",
      "Training time was: 38.64 seconds\n",
      "Testing time was: 0.84 seconds\n",
      "\n",
      "         Run ID        Date      Time                    Model Name Model Author Num Classes  Accuracy  Balanced Accuracy  AUC Score  Average Precision  F1 Score  Precision  Recall Samples In Train Samples In Test                                                                                      Model Description Column Predicted Num Features Used                                                                                       Data and Split Description Normalized Num Features Normalized Feature Extraction Was Untested Data Predicted\n",
      "0  6WpleXWNmRoq  2019-07-28  23:14:39  random_forest_classification  Hamed        2           0.962     0.957              0.99       0.994              0.971     0.973      0.97    142361           35591           Random Forest: n_estimators=361, max_features=auto, criterion=entropy, min_samples_leaf=13, n_jobs=-1  class_label      12                {'experiment_id': 'r1dd37mcxv5pf4', 'random_state': 3, 'live_volume': 0.0, 'dead_volume': 250.0, 'stain': None}  True       12                      False              False                     \n",
      "\n",
      "Run finished at 23:15:20. Total run time = 41.03 seconds\n",
      "^^^^^^^^^^^^^^^^^^^^^^^^^^^^^^^^^^^^^^^^^^^^^^^^^^^^^^^^^^^^^^^^^^^^^^^^^^^^^^^^^^^^^^^^^^^^^^^^^^^^\n",
      "\n",
      "\n",
      "\n",
      "\n",
      "HI\n",
      "{'experiment_id': 'r1dd37mcxv5pf4', 'random_state': 3, 'live_volume': 0.0, 'dead_volume': 170.0, 'stain': 'SYTOX Red Stain'}\n",
      "data_columns: ['Container Type', 'Control', 'Culture_Volume', 'Media', 'Replicate', 'Storage (C)', 'Strain', 'checksum', 'filename', 'kill', 'kill_volume', 'plate_id', 'source', 'stain', 'well', 'experiment_id', 'Time', 'FSC-A', 'SSC-A', 'BL1-A', 'RL1-A', 'FSC-H', 'SSC-H', 'BL1-H', 'RL1-H', 'FSC-W', 'SSC-W', 'BL1-W', 'RL1-W']\n"
     ]
    },
    {
     "name": "stderr",
     "output_type": "stream",
     "text": [
      "/Users/danbryce/Documents/sift/xplan/external/xplan/xplan-to-autoprotocol-reactor/xplan-dev-env/xplan-dev-env/lib/python3.7/site-packages/pandas/core/indexing.py:480: SettingWithCopyWarning: \n",
      "A value is trying to be set on a copy of a slice from a DataFrame.\n",
      "Try using .loc[row_indexer,col_indexer] = value instead\n",
      "\n",
      "See the caveats in the documentation: http://pandas.pydata.org/pandas-docs/stable/user_guide/indexing.html#returning-a-view-versus-a-copy\n",
      "  self.obj[item] = s\n"
     ]
    },
    {
     "name": "stdout",
     "output_type": "stream",
     "text": [
      "['FSC-A', 'SSC-A', 'BL1-A', 'RL1-A', 'FSC-H', 'SSC-H', 'BL1-H', 'RL1-H', 'FSC-W', 'SSC-W', 'BL1-W', 'RL1-W']\n",
      "\n",
      "<harness.test_harness_class.TestHarness object at 0x32e4a9710>\n"
     ]
    },
    {
     "name": "stderr",
     "output_type": "stream",
     "text": [
      "/Users/danbryce/Documents/sift/xplan/external/xplan/xplan-to-autoprotocol-reactor/xplan-dev-env/xplan-dev-env/lib/python3.7/site-packages/pandas/core/indexing.py:362: SettingWithCopyWarning: \n",
      "A value is trying to be set on a copy of a slice from a DataFrame.\n",
      "Try using .loc[row_indexer,col_indexer] = value instead\n",
      "\n",
      "See the caveats in the documentation: http://pandas.pydata.org/pandas-docs/stable/user_guide/indexing.html#returning-a-view-versus-a-copy\n",
      "  self.obj[key] = _infer_fill_value(value)\n"
     ]
    },
    {
     "name": "stdout",
     "output_type": "stream",
     "text": [
      "HI\n",
      "----------------------------------------------------------------------------------------------------\n",
      "Starting run at time 23:15:26\n",
      "Normalizing training and testing splits...\n",
      "Starting Classification training...\n",
      "Training time was: 47.49 seconds\n",
      "Testing time was: 0.99 seconds\n",
      "\n",
      "          Run ID        Date      Time                    Model Name Model Author Num Classes  Accuracy  Balanced Accuracy  AUC Score  Average Precision  F1 Score  Precision  Recall Samples In Train Samples In Test                                                                                      Model Description Column Predicted Num Features Used                                                                                                    Data and Split Description Normalized Num Features Normalized Feature Extraction Was Untested Data Predicted\n",
      "0  6W53bXkN6vOlO  2019-07-28  23:15:26  random_forest_classification  Hamed        2           0.997     0.997              0.999      0.999              0.997     0.999      0.995   192000           48000           Random Forest: n_estimators=361, max_features=auto, criterion=entropy, min_samples_leaf=13, n_jobs=-1  class_label      12                {'experiment_id': 'r1dd37mcxv5pf4', 'random_state': 3, 'live_volume': 0.0, 'dead_volume': 170.0, 'stain': 'SYTOX Red Stain'}  True       12                      False              False                     \n",
      "\n",
      "Run finished at 23:16:17. Total run time = 50.31 seconds\n",
      "^^^^^^^^^^^^^^^^^^^^^^^^^^^^^^^^^^^^^^^^^^^^^^^^^^^^^^^^^^^^^^^^^^^^^^^^^^^^^^^^^^^^^^^^^^^^^^^^^^^^\n",
      "\n",
      "\n",
      "\n",
      "\n",
      "HI\n",
      "{'experiment_id': 'r1dd37mcxv5pf4', 'random_state': 3, 'live_volume': 0.0, 'dead_volume': 170.0, 'stain': None}\n",
      "data_columns: ['Container Type', 'Control', 'Culture_Volume', 'Media', 'Replicate', 'Storage (C)', 'Strain', 'checksum', 'filename', 'kill', 'kill_volume', 'plate_id', 'source', 'stain', 'well', 'experiment_id', 'Time', 'FSC-A', 'SSC-A', 'BL1-A', 'RL1-A', 'FSC-H', 'SSC-H', 'BL1-H', 'RL1-H', 'FSC-W', 'SSC-W', 'BL1-W', 'RL1-W']\n"
     ]
    },
    {
     "name": "stderr",
     "output_type": "stream",
     "text": [
      "/Users/danbryce/Documents/sift/xplan/external/xplan/xplan-to-autoprotocol-reactor/xplan-dev-env/xplan-dev-env/lib/python3.7/site-packages/pandas/core/indexing.py:480: SettingWithCopyWarning: \n",
      "A value is trying to be set on a copy of a slice from a DataFrame.\n",
      "Try using .loc[row_indexer,col_indexer] = value instead\n",
      "\n",
      "See the caveats in the documentation: http://pandas.pydata.org/pandas-docs/stable/user_guide/indexing.html#returning-a-view-versus-a-copy\n",
      "  self.obj[item] = s\n"
     ]
    },
    {
     "name": "stdout",
     "output_type": "stream",
     "text": [
      "['FSC-A', 'SSC-A', 'BL1-A', 'RL1-A', 'FSC-H', 'SSC-H', 'BL1-H', 'RL1-H', 'FSC-W', 'SSC-W', 'BL1-W', 'RL1-W']\n",
      "\n",
      "<harness.test_harness_class.TestHarness object at 0x1b1a33a58>\n"
     ]
    },
    {
     "name": "stderr",
     "output_type": "stream",
     "text": [
      "/Users/danbryce/Documents/sift/xplan/external/xplan/xplan-to-autoprotocol-reactor/xplan-dev-env/xplan-dev-env/lib/python3.7/site-packages/pandas/core/indexing.py:362: SettingWithCopyWarning: \n",
      "A value is trying to be set on a copy of a slice from a DataFrame.\n",
      "Try using .loc[row_indexer,col_indexer] = value instead\n",
      "\n",
      "See the caveats in the documentation: http://pandas.pydata.org/pandas-docs/stable/user_guide/indexing.html#returning-a-view-versus-a-copy\n",
      "  self.obj[key] = _infer_fill_value(value)\n"
     ]
    },
    {
     "name": "stdout",
     "output_type": "stream",
     "text": [
      "HI\n",
      "----------------------------------------------------------------------------------------------------\n",
      "Starting run at time 23:16:23\n",
      "Normalizing training and testing splits...\n",
      "Starting Classification training...\n",
      "Training time was: 50.99 seconds\n",
      "Testing time was: 1.26 seconds\n",
      "\n",
      "          Run ID        Date      Time                    Model Name Model Author Num Classes  Accuracy  Balanced Accuracy  AUC Score  Average Precision  F1 Score  Precision  Recall Samples In Train Samples In Test                                                                                      Model Description Column Predicted Num Features Used                                                                                       Data and Split Description Normalized Num Features Normalized Feature Extraction Was Untested Data Predicted\n",
      "0  66M2JPDkdqroN  2019-07-28  23:16:23  random_forest_classification  Hamed        2           0.92      0.92               0.974      0.972              0.921     0.911      0.93    192000           48000           Random Forest: n_estimators=361, max_features=auto, criterion=entropy, min_samples_leaf=13, n_jobs=-1  class_label      12                {'experiment_id': 'r1dd37mcxv5pf4', 'random_state': 3, 'live_volume': 0.0, 'dead_volume': 170.0, 'stain': None}  True       12                      False              False                     \n",
      "\n",
      "Run finished at 23:17:17. Total run time = 54.07 seconds\n",
      "^^^^^^^^^^^^^^^^^^^^^^^^^^^^^^^^^^^^^^^^^^^^^^^^^^^^^^^^^^^^^^^^^^^^^^^^^^^^^^^^^^^^^^^^^^^^^^^^^^^^\n",
      "\n",
      "\n",
      "\n",
      "\n",
      "HI\n",
      "{'experiment_id': 'r1dd37mcxv5pf4', 'random_state': 3, 'live_volume': 0.0, 'dead_volume': 105.0, 'stain': 'SYTOX Red Stain'}\n",
      "data_columns: ['Container Type', 'Control', 'Culture_Volume', 'Media', 'Replicate', 'Storage (C)', 'Strain', 'checksum', 'filename', 'kill', 'kill_volume', 'plate_id', 'source', 'stain', 'well', 'experiment_id', 'Time', 'FSC-A', 'SSC-A', 'BL1-A', 'RL1-A', 'FSC-H', 'SSC-H', 'BL1-H', 'RL1-H', 'FSC-W', 'SSC-W', 'BL1-W', 'RL1-W']\n"
     ]
    },
    {
     "name": "stderr",
     "output_type": "stream",
     "text": [
      "/Users/danbryce/Documents/sift/xplan/external/xplan/xplan-to-autoprotocol-reactor/xplan-dev-env/xplan-dev-env/lib/python3.7/site-packages/pandas/core/indexing.py:480: SettingWithCopyWarning: \n",
      "A value is trying to be set on a copy of a slice from a DataFrame.\n",
      "Try using .loc[row_indexer,col_indexer] = value instead\n",
      "\n",
      "See the caveats in the documentation: http://pandas.pydata.org/pandas-docs/stable/user_guide/indexing.html#returning-a-view-versus-a-copy\n",
      "  self.obj[item] = s\n"
     ]
    },
    {
     "name": "stdout",
     "output_type": "stream",
     "text": [
      "['FSC-A', 'SSC-A', 'BL1-A', 'RL1-A', 'FSC-H', 'SSC-H', 'BL1-H', 'RL1-H', 'FSC-W', 'SSC-W', 'BL1-W', 'RL1-W']\n",
      "\n",
      "<harness.test_harness_class.TestHarness object at 0x19d7edf28>\n"
     ]
    },
    {
     "name": "stderr",
     "output_type": "stream",
     "text": [
      "/Users/danbryce/Documents/sift/xplan/external/xplan/xplan-to-autoprotocol-reactor/xplan-dev-env/xplan-dev-env/lib/python3.7/site-packages/pandas/core/indexing.py:362: SettingWithCopyWarning: \n",
      "A value is trying to be set on a copy of a slice from a DataFrame.\n",
      "Try using .loc[row_indexer,col_indexer] = value instead\n",
      "\n",
      "See the caveats in the documentation: http://pandas.pydata.org/pandas-docs/stable/user_guide/indexing.html#returning-a-view-versus-a-copy\n",
      "  self.obj[key] = _infer_fill_value(value)\n"
     ]
    },
    {
     "name": "stdout",
     "output_type": "stream",
     "text": [
      "HI\n",
      "----------------------------------------------------------------------------------------------------\n",
      "Starting run at time 23:17:24\n",
      "Normalizing training and testing splits...\n",
      "Starting Classification training...\n",
      "Training time was: 39.44 seconds\n",
      "Testing time was: 0.75 seconds\n",
      "\n",
      "          Run ID        Date      Time                    Model Name Model Author Num Classes  Accuracy  Balanced Accuracy  AUC Score  Average Precision  F1 Score  Precision  Recall Samples In Train Samples In Test                                                                                      Model Description Column Predicted Num Features Used                                                                                                    Data and Split Description Normalized Num Features Normalized Feature Extraction Was Untested Data Predicted\n",
      "0  Q7dXjl7AP6jrk  2019-07-28  23:17:24  random_forest_classification  Hamed        2           0.997     0.997              0.999      0.999              0.997     0.999      0.996   192000           48000           Random Forest: n_estimators=361, max_features=auto, criterion=entropy, min_samples_leaf=13, n_jobs=-1  class_label      12                {'experiment_id': 'r1dd37mcxv5pf4', 'random_state': 3, 'live_volume': 0.0, 'dead_volume': 105.0, 'stain': 'SYTOX Red Stain'}  True       12                      False              False                     \n",
      "\n",
      "Run finished at 23:18:06. Total run time = 42.06 seconds\n",
      "^^^^^^^^^^^^^^^^^^^^^^^^^^^^^^^^^^^^^^^^^^^^^^^^^^^^^^^^^^^^^^^^^^^^^^^^^^^^^^^^^^^^^^^^^^^^^^^^^^^^\n",
      "\n",
      "\n",
      "\n",
      "\n",
      "HI\n",
      "{'experiment_id': 'r1dd37mcxv5pf4', 'random_state': 3, 'live_volume': 0.0, 'dead_volume': 105.0, 'stain': None}\n",
      "data_columns: ['Container Type', 'Control', 'Culture_Volume', 'Media', 'Replicate', 'Storage (C)', 'Strain', 'checksum', 'filename', 'kill', 'kill_volume', 'plate_id', 'source', 'stain', 'well', 'experiment_id', 'Time', 'FSC-A', 'SSC-A', 'BL1-A', 'RL1-A', 'FSC-H', 'SSC-H', 'BL1-H', 'RL1-H', 'FSC-W', 'SSC-W', 'BL1-W', 'RL1-W']\n"
     ]
    },
    {
     "name": "stderr",
     "output_type": "stream",
     "text": [
      "/Users/danbryce/Documents/sift/xplan/external/xplan/xplan-to-autoprotocol-reactor/xplan-dev-env/xplan-dev-env/lib/python3.7/site-packages/pandas/core/indexing.py:480: SettingWithCopyWarning: \n",
      "A value is trying to be set on a copy of a slice from a DataFrame.\n",
      "Try using .loc[row_indexer,col_indexer] = value instead\n",
      "\n",
      "See the caveats in the documentation: http://pandas.pydata.org/pandas-docs/stable/user_guide/indexing.html#returning-a-view-versus-a-copy\n",
      "  self.obj[item] = s\n"
     ]
    },
    {
     "name": "stdout",
     "output_type": "stream",
     "text": [
      "['FSC-A', 'SSC-A', 'BL1-A', 'RL1-A', 'FSC-H', 'SSC-H', 'BL1-H', 'RL1-H', 'FSC-W', 'SSC-W', 'BL1-W', 'RL1-W']\n"
     ]
    },
    {
     "name": "stderr",
     "output_type": "stream",
     "text": [
      "/Users/danbryce/Documents/sift/xplan/external/xplan/xplan-to-autoprotocol-reactor/xplan-dev-env/xplan-dev-env/lib/python3.7/site-packages/pandas/core/indexing.py:362: SettingWithCopyWarning: \n",
      "A value is trying to be set on a copy of a slice from a DataFrame.\n",
      "Try using .loc[row_indexer,col_indexer] = value instead\n",
      "\n",
      "See the caveats in the documentation: http://pandas.pydata.org/pandas-docs/stable/user_guide/indexing.html#returning-a-view-versus-a-copy\n",
      "  self.obj[key] = _infer_fill_value(value)\n"
     ]
    },
    {
     "name": "stdout",
     "output_type": "stream",
     "text": [
      "\n",
      "<harness.test_harness_class.TestHarness object at 0x1591b3898>\n",
      "HI\n",
      "----------------------------------------------------------------------------------------------------\n",
      "Starting run at time 23:18:13\n",
      "Normalizing training and testing splits...\n",
      "Starting Classification training...\n",
      "Training time was: 48.62 seconds\n",
      "Testing time was: 1.68 seconds\n",
      "\n",
      "          Run ID        Date      Time                    Model Name Model Author Num Classes  Accuracy  Balanced Accuracy  AUC Score  Average Precision  F1 Score  Precision  Recall Samples In Train Samples In Test                                                                                      Model Description Column Predicted Num Features Used                                                                                       Data and Split Description Normalized Num Features Normalized Feature Extraction Was Untested Data Predicted\n",
      "0  5pg8Z3pRMV6a8  2019-07-28  23:18:13  random_forest_classification  Hamed        2           0.938     0.938              0.984      0.982              0.939     0.928      0.95    192000           48000           Random Forest: n_estimators=361, max_features=auto, criterion=entropy, min_samples_leaf=13, n_jobs=-1  class_label      12                {'experiment_id': 'r1dd37mcxv5pf4', 'random_state': 3, 'live_volume': 0.0, 'dead_volume': 105.0, 'stain': None}  True       12                      False              False                     \n",
      "\n",
      "Run finished at 23:19:05. Total run time = 52.14 seconds\n",
      "^^^^^^^^^^^^^^^^^^^^^^^^^^^^^^^^^^^^^^^^^^^^^^^^^^^^^^^^^^^^^^^^^^^^^^^^^^^^^^^^^^^^^^^^^^^^^^^^^^^^\n",
      "\n",
      "\n",
      "\n",
      "\n",
      "HI\n",
      "{'experiment_id': 'r1dd37mcxv5pf4', 'random_state': 3, 'live_volume': 0.0, 'dead_volume': 64.0, 'stain': 'SYTOX Red Stain'}\n",
      "data_columns: ['Container Type', 'Control', 'Culture_Volume', 'Media', 'Replicate', 'Storage (C)', 'Strain', 'checksum', 'filename', 'kill', 'kill_volume', 'plate_id', 'source', 'stain', 'well', 'experiment_id', 'Time', 'FSC-A', 'SSC-A', 'BL1-A', 'RL1-A', 'FSC-H', 'SSC-H', 'BL1-H', 'RL1-H', 'FSC-W', 'SSC-W', 'BL1-W', 'RL1-W']\n"
     ]
    },
    {
     "name": "stderr",
     "output_type": "stream",
     "text": [
      "/Users/danbryce/Documents/sift/xplan/external/xplan/xplan-to-autoprotocol-reactor/xplan-dev-env/xplan-dev-env/lib/python3.7/site-packages/pandas/core/indexing.py:480: SettingWithCopyWarning: \n",
      "A value is trying to be set on a copy of a slice from a DataFrame.\n",
      "Try using .loc[row_indexer,col_indexer] = value instead\n",
      "\n",
      "See the caveats in the documentation: http://pandas.pydata.org/pandas-docs/stable/user_guide/indexing.html#returning-a-view-versus-a-copy\n",
      "  self.obj[item] = s\n"
     ]
    },
    {
     "name": "stdout",
     "output_type": "stream",
     "text": [
      "['FSC-A', 'SSC-A', 'BL1-A', 'RL1-A', 'FSC-H', 'SSC-H', 'BL1-H', 'RL1-H', 'FSC-W', 'SSC-W', 'BL1-W', 'RL1-W']\n",
      "\n",
      "<harness.test_harness_class.TestHarness object at 0x1bed13f60>\n"
     ]
    },
    {
     "name": "stderr",
     "output_type": "stream",
     "text": [
      "/Users/danbryce/Documents/sift/xplan/external/xplan/xplan-to-autoprotocol-reactor/xplan-dev-env/xplan-dev-env/lib/python3.7/site-packages/pandas/core/indexing.py:362: SettingWithCopyWarning: \n",
      "A value is trying to be set on a copy of a slice from a DataFrame.\n",
      "Try using .loc[row_indexer,col_indexer] = value instead\n",
      "\n",
      "See the caveats in the documentation: http://pandas.pydata.org/pandas-docs/stable/user_guide/indexing.html#returning-a-view-versus-a-copy\n",
      "  self.obj[key] = _infer_fill_value(value)\n"
     ]
    },
    {
     "name": "stdout",
     "output_type": "stream",
     "text": [
      "HI\n",
      "----------------------------------------------------------------------------------------------------\n",
      "Starting run at time 23:19:11\n",
      "Normalizing training and testing splits...\n",
      "Starting Classification training...\n",
      "Training time was: 54.51 seconds\n",
      "Testing time was: 1.48 seconds\n",
      "\n",
      "          Run ID        Date      Time                    Model Name Model Author Num Classes  Accuracy  Balanced Accuracy  AUC Score  Average Precision  F1 Score  Precision  Recall Samples In Train Samples In Test                                                                                      Model Description Column Predicted Num Features Used                                                                                                   Data and Split Description Normalized Num Features Normalized Feature Extraction Was Untested Data Predicted\n",
      "0  EzbLWmWpojXOP  2019-07-28  23:19:11  random_forest_classification  Hamed        2           0.857     0.857              0.926      0.908              0.865     0.819      0.916   192000           48000           Random Forest: n_estimators=361, max_features=auto, criterion=entropy, min_samples_leaf=13, n_jobs=-1  class_label      12                {'experiment_id': 'r1dd37mcxv5pf4', 'random_state': 3, 'live_volume': 0.0, 'dead_volume': 64.0, 'stain': 'SYTOX Red Stain'}  True       12                      False              False                     \n",
      "\n",
      "Run finished at 23:20:09. Total run time = 57.88 seconds\n",
      "^^^^^^^^^^^^^^^^^^^^^^^^^^^^^^^^^^^^^^^^^^^^^^^^^^^^^^^^^^^^^^^^^^^^^^^^^^^^^^^^^^^^^^^^^^^^^^^^^^^^\n",
      "\n",
      "\n",
      "\n",
      "\n",
      "HI\n",
      "{'experiment_id': 'r1dd37mcxv5pf4', 'random_state': 3, 'live_volume': 0.0, 'dead_volume': 64.0, 'stain': None}\n",
      "data_columns: ['Container Type', 'Control', 'Culture_Volume', 'Media', 'Replicate', 'Storage (C)', 'Strain', 'checksum', 'filename', 'kill', 'kill_volume', 'plate_id', 'source', 'stain', 'well', 'experiment_id', 'Time', 'FSC-A', 'SSC-A', 'BL1-A', 'RL1-A', 'FSC-H', 'SSC-H', 'BL1-H', 'RL1-H', 'FSC-W', 'SSC-W', 'BL1-W', 'RL1-W']\n"
     ]
    },
    {
     "name": "stderr",
     "output_type": "stream",
     "text": [
      "/Users/danbryce/Documents/sift/xplan/external/xplan/xplan-to-autoprotocol-reactor/xplan-dev-env/xplan-dev-env/lib/python3.7/site-packages/pandas/core/indexing.py:480: SettingWithCopyWarning: \n",
      "A value is trying to be set on a copy of a slice from a DataFrame.\n",
      "Try using .loc[row_indexer,col_indexer] = value instead\n",
      "\n",
      "See the caveats in the documentation: http://pandas.pydata.org/pandas-docs/stable/user_guide/indexing.html#returning-a-view-versus-a-copy\n",
      "  self.obj[item] = s\n"
     ]
    },
    {
     "name": "stdout",
     "output_type": "stream",
     "text": [
      "['FSC-A', 'SSC-A', 'BL1-A', 'RL1-A', 'FSC-H', 'SSC-H', 'BL1-H', 'RL1-H', 'FSC-W', 'SSC-W', 'BL1-W', 'RL1-W']\n",
      "\n",
      "<harness.test_harness_class.TestHarness object at 0x2f499d588>\n"
     ]
    },
    {
     "name": "stderr",
     "output_type": "stream",
     "text": [
      "/Users/danbryce/Documents/sift/xplan/external/xplan/xplan-to-autoprotocol-reactor/xplan-dev-env/xplan-dev-env/lib/python3.7/site-packages/pandas/core/indexing.py:362: SettingWithCopyWarning: \n",
      "A value is trying to be set on a copy of a slice from a DataFrame.\n",
      "Try using .loc[row_indexer,col_indexer] = value instead\n",
      "\n",
      "See the caveats in the documentation: http://pandas.pydata.org/pandas-docs/stable/user_guide/indexing.html#returning-a-view-versus-a-copy\n",
      "  self.obj[key] = _infer_fill_value(value)\n"
     ]
    },
    {
     "name": "stdout",
     "output_type": "stream",
     "text": [
      "HI\n",
      "----------------------------------------------------------------------------------------------------\n",
      "Starting run at time 23:20:16\n",
      "Normalizing training and testing splits...\n",
      "Starting Classification training...\n",
      "Training time was: 49.56 seconds\n",
      "Testing time was: 1.89 seconds\n",
      "\n",
      "          Run ID        Date      Time                    Model Name Model Author Num Classes  Accuracy  Balanced Accuracy  AUC Score  Average Precision  F1 Score  Precision  Recall Samples In Train Samples In Test                                                                                      Model Description Column Predicted Num Features Used                                                                                      Data and Split Description Normalized Num Features Normalized Feature Extraction Was Untested Data Predicted\n",
      "0  6bgoYN9Vl2ejw  2019-07-28  23:20:16  random_forest_classification  Hamed        2           0.794     0.794              0.874      0.858              0.804     0.764      0.849   192000           48000           Random Forest: n_estimators=361, max_features=auto, criterion=entropy, min_samples_leaf=13, n_jobs=-1  class_label      12                {'experiment_id': 'r1dd37mcxv5pf4', 'random_state': 3, 'live_volume': 0.0, 'dead_volume': 64.0, 'stain': None}  True       12                      False              False                     \n",
      "\n",
      "Run finished at 23:21:09. Total run time = 53.30 seconds\n",
      "^^^^^^^^^^^^^^^^^^^^^^^^^^^^^^^^^^^^^^^^^^^^^^^^^^^^^^^^^^^^^^^^^^^^^^^^^^^^^^^^^^^^^^^^^^^^^^^^^^^^\n",
      "\n",
      "\n",
      "\n",
      "\n",
      "HI\n",
      "{'experiment_id': 'r1dd37mcxv5pf4', 'random_state': 3, 'live_volume': 0.0, 'dead_volume': 29, 'stain': 'SYTOX Red Stain'}\n",
      "data_columns: ['Container Type', 'Control', 'Culture_Volume', 'Media', 'Replicate', 'Storage (C)', 'Strain', 'checksum', 'filename', 'kill', 'kill_volume', 'plate_id', 'source', 'stain', 'well', 'experiment_id', 'Time', 'FSC-A', 'SSC-A', 'BL1-A', 'RL1-A', 'FSC-H', 'SSC-H', 'BL1-H', 'RL1-H', 'FSC-W', 'SSC-W', 'BL1-W', 'RL1-W']\n"
     ]
    },
    {
     "name": "stderr",
     "output_type": "stream",
     "text": [
      "/Users/danbryce/Documents/sift/xplan/external/xplan/xplan-to-autoprotocol-reactor/xplan-dev-env/xplan-dev-env/lib/python3.7/site-packages/pandas/core/indexing.py:480: SettingWithCopyWarning: \n",
      "A value is trying to be set on a copy of a slice from a DataFrame.\n",
      "Try using .loc[row_indexer,col_indexer] = value instead\n",
      "\n",
      "See the caveats in the documentation: http://pandas.pydata.org/pandas-docs/stable/user_guide/indexing.html#returning-a-view-versus-a-copy\n",
      "  self.obj[item] = s\n"
     ]
    },
    {
     "name": "stdout",
     "output_type": "stream",
     "text": [
      "['FSC-A', 'SSC-A', 'BL1-A', 'RL1-A', 'FSC-H', 'SSC-H', 'BL1-H', 'RL1-H', 'FSC-W', 'SSC-W', 'BL1-W', 'RL1-W']\n",
      "\n",
      "<harness.test_harness_class.TestHarness object at 0x1ba4bfba8>\n"
     ]
    },
    {
     "name": "stderr",
     "output_type": "stream",
     "text": [
      "/Users/danbryce/Documents/sift/xplan/external/xplan/xplan-to-autoprotocol-reactor/xplan-dev-env/xplan-dev-env/lib/python3.7/site-packages/pandas/core/indexing.py:362: SettingWithCopyWarning: \n",
      "A value is trying to be set on a copy of a slice from a DataFrame.\n",
      "Try using .loc[row_indexer,col_indexer] = value instead\n",
      "\n",
      "See the caveats in the documentation: http://pandas.pydata.org/pandas-docs/stable/user_guide/indexing.html#returning-a-view-versus-a-copy\n",
      "  self.obj[key] = _infer_fill_value(value)\n"
     ]
    },
    {
     "name": "stdout",
     "output_type": "stream",
     "text": [
      "HI\n",
      "----------------------------------------------------------------------------------------------------\n",
      "Starting run at time 23:21:15\n",
      "Normalizing training and testing splits...\n",
      "Starting Classification training...\n",
      "Training time was: 65.87 seconds\n",
      "Testing time was: 1.77 seconds\n",
      "\n",
      "          Run ID        Date      Time                    Model Name Model Author Num Classes  Accuracy  Balanced Accuracy  AUC Score  Average Precision  F1 Score  Precision  Recall Samples In Train Samples In Test                                                                                      Model Description Column Predicted Num Features Used                                                                                                 Data and Split Description Normalized Num Features Normalized Feature Extraction Was Untested Data Predicted\n",
      "0  Ep6qyyDvpXpZ8  2019-07-28  23:21:15  random_forest_classification  Hamed        2           0.65      0.65               0.71       0.677              0.674     0.63       0.725   192000           48000           Random Forest: n_estimators=361, max_features=auto, criterion=entropy, min_samples_leaf=13, n_jobs=-1  class_label      12                {'experiment_id': 'r1dd37mcxv5pf4', 'random_state': 3, 'live_volume': 0.0, 'dead_volume': 29, 'stain': 'SYTOX Red Stain'}  True       12                      False              False                     \n",
      "\n",
      "Run finished at 23:22:25. Total run time = 69.56 seconds\n",
      "^^^^^^^^^^^^^^^^^^^^^^^^^^^^^^^^^^^^^^^^^^^^^^^^^^^^^^^^^^^^^^^^^^^^^^^^^^^^^^^^^^^^^^^^^^^^^^^^^^^^\n",
      "\n",
      "\n",
      "\n",
      "\n",
      "HI\n",
      "{'experiment_id': 'r1dd37mcxv5pf4', 'random_state': 3, 'live_volume': 0.0, 'dead_volume': 29, 'stain': None}\n",
      "data_columns: ['Container Type', 'Control', 'Culture_Volume', 'Media', 'Replicate', 'Storage (C)', 'Strain', 'checksum', 'filename', 'kill', 'kill_volume', 'plate_id', 'source', 'stain', 'well', 'experiment_id', 'Time', 'FSC-A', 'SSC-A', 'BL1-A', 'RL1-A', 'FSC-H', 'SSC-H', 'BL1-H', 'RL1-H', 'FSC-W', 'SSC-W', 'BL1-W', 'RL1-W']\n"
     ]
    },
    {
     "name": "stderr",
     "output_type": "stream",
     "text": [
      "/Users/danbryce/Documents/sift/xplan/external/xplan/xplan-to-autoprotocol-reactor/xplan-dev-env/xplan-dev-env/lib/python3.7/site-packages/pandas/core/indexing.py:480: SettingWithCopyWarning: \n",
      "A value is trying to be set on a copy of a slice from a DataFrame.\n",
      "Try using .loc[row_indexer,col_indexer] = value instead\n",
      "\n",
      "See the caveats in the documentation: http://pandas.pydata.org/pandas-docs/stable/user_guide/indexing.html#returning-a-view-versus-a-copy\n",
      "  self.obj[item] = s\n"
     ]
    },
    {
     "name": "stdout",
     "output_type": "stream",
     "text": [
      "['FSC-A', 'SSC-A', 'BL1-A', 'RL1-A', 'FSC-H', 'SSC-H', 'BL1-H', 'RL1-H', 'FSC-W', 'SSC-W', 'BL1-W', 'RL1-W']\n",
      "\n",
      "<harness.test_harness_class.TestHarness object at 0x19d23bef0>\n"
     ]
    },
    {
     "name": "stderr",
     "output_type": "stream",
     "text": [
      "/Users/danbryce/Documents/sift/xplan/external/xplan/xplan-to-autoprotocol-reactor/xplan-dev-env/xplan-dev-env/lib/python3.7/site-packages/pandas/core/indexing.py:362: SettingWithCopyWarning: \n",
      "A value is trying to be set on a copy of a slice from a DataFrame.\n",
      "Try using .loc[row_indexer,col_indexer] = value instead\n",
      "\n",
      "See the caveats in the documentation: http://pandas.pydata.org/pandas-docs/stable/user_guide/indexing.html#returning-a-view-versus-a-copy\n",
      "  self.obj[key] = _infer_fill_value(value)\n"
     ]
    },
    {
     "name": "stdout",
     "output_type": "stream",
     "text": [
      "HI\n",
      "----------------------------------------------------------------------------------------------------\n",
      "Starting run at time 23:22:31\n",
      "Normalizing training and testing splits...\n",
      "Starting Classification training...\n",
      "Training time was: 54.80 seconds\n",
      "Testing time was: 1.57 seconds\n",
      "\n",
      "          Run ID        Date      Time                    Model Name Model Author Num Classes  Accuracy  Balanced Accuracy  AUC Score  Average Precision  F1 Score  Precision  Recall Samples In Train Samples In Test                                                                                      Model Description Column Predicted Num Features Used                                                                                    Data and Split Description Normalized Num Features Normalized Feature Extraction Was Untested Data Predicted\n",
      "0  QoNwakJdPk2ok  2019-07-28  23:22:31  random_forest_classification  Hamed        2           0.634     0.634              0.688      0.672              0.637     0.632      0.642   192000           48000           Random Forest: n_estimators=361, max_features=auto, criterion=entropy, min_samples_leaf=13, n_jobs=-1  class_label      12                {'experiment_id': 'r1dd37mcxv5pf4', 'random_state': 3, 'live_volume': 0.0, 'dead_volume': 29, 'stain': None}  True       12                      False              False                     \n",
      "\n",
      "Run finished at 23:23:29. Total run time = 58.17 seconds\n",
      "^^^^^^^^^^^^^^^^^^^^^^^^^^^^^^^^^^^^^^^^^^^^^^^^^^^^^^^^^^^^^^^^^^^^^^^^^^^^^^^^^^^^^^^^^^^^^^^^^^^^\n",
      "\n",
      "\n",
      "\n",
      "\n",
      "HI\n",
      "{'experiment_id': 'r1dd37mcxv5pf4', 'random_state': 4, 'live_volume': 0.0, 'dead_volume': 980.0, 'stain': 'SYTOX Red Stain'}\n",
      "data_columns: ['Container Type', 'Control', 'Culture_Volume', 'Media', 'Replicate', 'Storage (C)', 'Strain', 'checksum', 'filename', 'kill', 'kill_volume', 'plate_id', 'source', 'stain', 'well', 'experiment_id', 'Time', 'FSC-A', 'SSC-A', 'BL1-A', 'RL1-A', 'FSC-H', 'SSC-H', 'BL1-H', 'RL1-H', 'FSC-W', 'SSC-W', 'BL1-W', 'RL1-W']\n"
     ]
    },
    {
     "name": "stderr",
     "output_type": "stream",
     "text": [
      "/Users/danbryce/Documents/sift/xplan/external/xplan/xplan-to-autoprotocol-reactor/xplan-dev-env/xplan-dev-env/lib/python3.7/site-packages/pandas/core/indexing.py:480: SettingWithCopyWarning: \n",
      "A value is trying to be set on a copy of a slice from a DataFrame.\n",
      "Try using .loc[row_indexer,col_indexer] = value instead\n",
      "\n",
      "See the caveats in the documentation: http://pandas.pydata.org/pandas-docs/stable/user_guide/indexing.html#returning-a-view-versus-a-copy\n",
      "  self.obj[item] = s\n"
     ]
    },
    {
     "name": "stdout",
     "output_type": "stream",
     "text": [
      "['FSC-A', 'SSC-A', 'BL1-A', 'RL1-A', 'FSC-H', 'SSC-H', 'BL1-H', 'RL1-H', 'FSC-W', 'SSC-W', 'BL1-W', 'RL1-W']\n",
      "\n",
      "<harness.test_harness_class.TestHarness object at 0x1ba266a90>\n"
     ]
    },
    {
     "name": "stderr",
     "output_type": "stream",
     "text": [
      "/Users/danbryce/Documents/sift/xplan/external/xplan/xplan-to-autoprotocol-reactor/xplan-dev-env/xplan-dev-env/lib/python3.7/site-packages/pandas/core/indexing.py:362: SettingWithCopyWarning: \n",
      "A value is trying to be set on a copy of a slice from a DataFrame.\n",
      "Try using .loc[row_indexer,col_indexer] = value instead\n",
      "\n",
      "See the caveats in the documentation: http://pandas.pydata.org/pandas-docs/stable/user_guide/indexing.html#returning-a-view-versus-a-copy\n",
      "  self.obj[key] = _infer_fill_value(value)\n"
     ]
    },
    {
     "name": "stdout",
     "output_type": "stream",
     "text": [
      "HI\n",
      "----------------------------------------------------------------------------------------------------\n",
      "Starting run at time 23:23:36\n",
      "Normalizing training and testing splits...\n",
      "Starting Classification training...\n",
      "Training time was: 33.75 seconds\n",
      "Testing time was: 0.65 seconds\n",
      "\n",
      "          Run ID        Date      Time                    Model Name Model Author Num Classes  Accuracy  Balanced Accuracy  AUC Score  Average Precision  F1 Score  Precision  Recall Samples In Train Samples In Test                                                                                      Model Description Column Predicted Num Features Used                                                                                                    Data and Split Description Normalized Num Features Normalized Feature Extraction Was Untested Data Predicted\n",
      "0  Em36JaYo3PBqx  2019-07-28  23:23:36  random_forest_classification  Hamed        2           0.999     0.999              1.0        1.0                0.999     0.999      0.998   192000           48000           Random Forest: n_estimators=361, max_features=auto, criterion=entropy, min_samples_leaf=13, n_jobs=-1  class_label      12                {'experiment_id': 'r1dd37mcxv5pf4', 'random_state': 4, 'live_volume': 0.0, 'dead_volume': 980.0, 'stain': 'SYTOX Red Stain'}  True       12                      False              False                     \n",
      "\n",
      "Run finished at 23:24:12. Total run time = 36.13 seconds\n",
      "^^^^^^^^^^^^^^^^^^^^^^^^^^^^^^^^^^^^^^^^^^^^^^^^^^^^^^^^^^^^^^^^^^^^^^^^^^^^^^^^^^^^^^^^^^^^^^^^^^^^\n",
      "\n",
      "\n",
      "\n",
      "\n",
      "HI\n",
      "{'experiment_id': 'r1dd37mcxv5pf4', 'random_state': 4, 'live_volume': 0.0, 'dead_volume': 980.0, 'stain': None}\n",
      "data_columns: ['Container Type', 'Control', 'Culture_Volume', 'Media', 'Replicate', 'Storage (C)', 'Strain', 'checksum', 'filename', 'kill', 'kill_volume', 'plate_id', 'source', 'stain', 'well', 'experiment_id', 'Time', 'FSC-A', 'SSC-A', 'BL1-A', 'RL1-A', 'FSC-H', 'SSC-H', 'BL1-H', 'RL1-H', 'FSC-W', 'SSC-W', 'BL1-W', 'RL1-W']\n"
     ]
    },
    {
     "name": "stderr",
     "output_type": "stream",
     "text": [
      "/Users/danbryce/Documents/sift/xplan/external/xplan/xplan-to-autoprotocol-reactor/xplan-dev-env/xplan-dev-env/lib/python3.7/site-packages/pandas/core/indexing.py:480: SettingWithCopyWarning: \n",
      "A value is trying to be set on a copy of a slice from a DataFrame.\n",
      "Try using .loc[row_indexer,col_indexer] = value instead\n",
      "\n",
      "See the caveats in the documentation: http://pandas.pydata.org/pandas-docs/stable/user_guide/indexing.html#returning-a-view-versus-a-copy\n",
      "  self.obj[item] = s\n"
     ]
    },
    {
     "name": "stdout",
     "output_type": "stream",
     "text": [
      "['FSC-A', 'SSC-A', 'BL1-A', 'RL1-A', 'FSC-H', 'SSC-H', 'BL1-H', 'RL1-H', 'FSC-W', 'SSC-W', 'BL1-W', 'RL1-W']\n",
      "\n",
      "<harness.test_harness_class.TestHarness object at 0x172975f28>\n"
     ]
    },
    {
     "name": "stderr",
     "output_type": "stream",
     "text": [
      "/Users/danbryce/Documents/sift/xplan/external/xplan/xplan-to-autoprotocol-reactor/xplan-dev-env/xplan-dev-env/lib/python3.7/site-packages/pandas/core/indexing.py:362: SettingWithCopyWarning: \n",
      "A value is trying to be set on a copy of a slice from a DataFrame.\n",
      "Try using .loc[row_indexer,col_indexer] = value instead\n",
      "\n",
      "See the caveats in the documentation: http://pandas.pydata.org/pandas-docs/stable/user_guide/indexing.html#returning-a-view-versus-a-copy\n",
      "  self.obj[key] = _infer_fill_value(value)\n"
     ]
    },
    {
     "name": "stdout",
     "output_type": "stream",
     "text": [
      "HI\n",
      "----------------------------------------------------------------------------------------------------\n",
      "Starting run at time 23:24:18\n",
      "Normalizing training and testing splits...\n",
      "Starting Classification training...\n",
      "Training time was: 38.14 seconds\n",
      "Testing time was: 0.66 seconds\n",
      "\n",
      "          Run ID        Date      Time                    Model Name Model Author Num Classes  Accuracy  Balanced Accuracy  AUC Score  Average Precision  F1 Score  Precision  Recall Samples In Train Samples In Test                                                                                      Model Description Column Predicted Num Features Used                                                                                       Data and Split Description Normalized Num Features Normalized Feature Extraction Was Untested Data Predicted\n",
      "0  EMEJv3yE8gk7x  2019-07-28  23:24:18  random_forest_classification  Hamed        2           0.994     0.994              1.0        1.0                0.994     0.993      0.996   192000           48000           Random Forest: n_estimators=361, max_features=auto, criterion=entropy, min_samples_leaf=13, n_jobs=-1  class_label      12                {'experiment_id': 'r1dd37mcxv5pf4', 'random_state': 4, 'live_volume': 0.0, 'dead_volume': 980.0, 'stain': None}  True       12                      False              False                     \n",
      "\n",
      "Run finished at 23:24:58. Total run time = 40.53 seconds\n",
      "^^^^^^^^^^^^^^^^^^^^^^^^^^^^^^^^^^^^^^^^^^^^^^^^^^^^^^^^^^^^^^^^^^^^^^^^^^^^^^^^^^^^^^^^^^^^^^^^^^^^\n",
      "\n",
      "\n",
      "\n",
      "\n",
      "HI\n",
      "{'experiment_id': 'r1dd37mcxv5pf4', 'random_state': 4, 'live_volume': 0.0, 'dead_volume': 570.0, 'stain': 'SYTOX Red Stain'}\n",
      "data_columns: ['Container Type', 'Control', 'Culture_Volume', 'Media', 'Replicate', 'Storage (C)', 'Strain', 'checksum', 'filename', 'kill', 'kill_volume', 'plate_id', 'source', 'stain', 'well', 'experiment_id', 'Time', 'FSC-A', 'SSC-A', 'BL1-A', 'RL1-A', 'FSC-H', 'SSC-H', 'BL1-H', 'RL1-H', 'FSC-W', 'SSC-W', 'BL1-W', 'RL1-W']\n"
     ]
    },
    {
     "name": "stderr",
     "output_type": "stream",
     "text": [
      "/Users/danbryce/Documents/sift/xplan/external/xplan/xplan-to-autoprotocol-reactor/xplan-dev-env/xplan-dev-env/lib/python3.7/site-packages/pandas/core/indexing.py:480: SettingWithCopyWarning: \n",
      "A value is trying to be set on a copy of a slice from a DataFrame.\n",
      "Try using .loc[row_indexer,col_indexer] = value instead\n",
      "\n",
      "See the caveats in the documentation: http://pandas.pydata.org/pandas-docs/stable/user_guide/indexing.html#returning-a-view-versus-a-copy\n",
      "  self.obj[item] = s\n"
     ]
    },
    {
     "name": "stdout",
     "output_type": "stream",
     "text": [
      "['FSC-A', 'SSC-A', 'BL1-A', 'RL1-A', 'FSC-H', 'SSC-H', 'BL1-H', 'RL1-H', 'FSC-W', 'SSC-W', 'BL1-W', 'RL1-W']\n",
      "\n",
      "<harness.test_harness_class.TestHarness object at 0x19cf4cc18>\n"
     ]
    },
    {
     "name": "stderr",
     "output_type": "stream",
     "text": [
      "/Users/danbryce/Documents/sift/xplan/external/xplan/xplan-to-autoprotocol-reactor/xplan-dev-env/xplan-dev-env/lib/python3.7/site-packages/pandas/core/indexing.py:362: SettingWithCopyWarning: \n",
      "A value is trying to be set on a copy of a slice from a DataFrame.\n",
      "Try using .loc[row_indexer,col_indexer] = value instead\n",
      "\n",
      "See the caveats in the documentation: http://pandas.pydata.org/pandas-docs/stable/user_guide/indexing.html#returning-a-view-versus-a-copy\n",
      "  self.obj[key] = _infer_fill_value(value)\n"
     ]
    },
    {
     "name": "stdout",
     "output_type": "stream",
     "text": [
      "HI\n",
      "----------------------------------------------------------------------------------------------------\n",
      "Starting run at time 23:25:04\n",
      "Normalizing training and testing splits...\n",
      "Starting Classification training...\n",
      "Training time was: 34.94 seconds\n",
      "Testing time was: 0.65 seconds\n",
      "\n",
      "          Run ID        Date      Time                    Model Name Model Author Num Classes  Accuracy  Balanced Accuracy  AUC Score  Average Precision  F1 Score  Precision  Recall Samples In Train Samples In Test                                                                                      Model Description Column Predicted Num Features Used                                                                                                    Data and Split Description Normalized Num Features Normalized Feature Extraction Was Untested Data Predicted\n",
      "0  QRWEVEPypXNxe  2019-07-28  23:25:04  random_forest_classification  Hamed        2           0.997     0.997              1.0        1.0                0.997     0.999      0.995   192000           48000           Random Forest: n_estimators=361, max_features=auto, criterion=entropy, min_samples_leaf=13, n_jobs=-1  class_label      12                {'experiment_id': 'r1dd37mcxv5pf4', 'random_state': 4, 'live_volume': 0.0, 'dead_volume': 570.0, 'stain': 'SYTOX Red Stain'}  True       12                      False              False                     \n",
      "\n",
      "Run finished at 23:25:42. Total run time = 37.36 seconds\n",
      "^^^^^^^^^^^^^^^^^^^^^^^^^^^^^^^^^^^^^^^^^^^^^^^^^^^^^^^^^^^^^^^^^^^^^^^^^^^^^^^^^^^^^^^^^^^^^^^^^^^^\n",
      "\n",
      "\n",
      "\n",
      "\n",
      "HI\n",
      "{'experiment_id': 'r1dd37mcxv5pf4', 'random_state': 4, 'live_volume': 0.0, 'dead_volume': 570.0, 'stain': None}\n",
      "data_columns: ['Container Type', 'Control', 'Culture_Volume', 'Media', 'Replicate', 'Storage (C)', 'Strain', 'checksum', 'filename', 'kill', 'kill_volume', 'plate_id', 'source', 'stain', 'well', 'experiment_id', 'Time', 'FSC-A', 'SSC-A', 'BL1-A', 'RL1-A', 'FSC-H', 'SSC-H', 'BL1-H', 'RL1-H', 'FSC-W', 'SSC-W', 'BL1-W', 'RL1-W']\n"
     ]
    },
    {
     "name": "stderr",
     "output_type": "stream",
     "text": [
      "/Users/danbryce/Documents/sift/xplan/external/xplan/xplan-to-autoprotocol-reactor/xplan-dev-env/xplan-dev-env/lib/python3.7/site-packages/pandas/core/indexing.py:480: SettingWithCopyWarning: \n",
      "A value is trying to be set on a copy of a slice from a DataFrame.\n",
      "Try using .loc[row_indexer,col_indexer] = value instead\n",
      "\n",
      "See the caveats in the documentation: http://pandas.pydata.org/pandas-docs/stable/user_guide/indexing.html#returning-a-view-versus-a-copy\n",
      "  self.obj[item] = s\n"
     ]
    },
    {
     "name": "stdout",
     "output_type": "stream",
     "text": [
      "['FSC-A', 'SSC-A', 'BL1-A', 'RL1-A', 'FSC-H', 'SSC-H', 'BL1-H', 'RL1-H', 'FSC-W', 'SSC-W', 'BL1-W', 'RL1-W']\n",
      "\n",
      "<harness.test_harness_class.TestHarness object at 0x142c09208>\n"
     ]
    },
    {
     "name": "stderr",
     "output_type": "stream",
     "text": [
      "/Users/danbryce/Documents/sift/xplan/external/xplan/xplan-to-autoprotocol-reactor/xplan-dev-env/xplan-dev-env/lib/python3.7/site-packages/pandas/core/indexing.py:362: SettingWithCopyWarning: \n",
      "A value is trying to be set on a copy of a slice from a DataFrame.\n",
      "Try using .loc[row_indexer,col_indexer] = value instead\n",
      "\n",
      "See the caveats in the documentation: http://pandas.pydata.org/pandas-docs/stable/user_guide/indexing.html#returning-a-view-versus-a-copy\n",
      "  self.obj[key] = _infer_fill_value(value)\n"
     ]
    },
    {
     "name": "stdout",
     "output_type": "stream",
     "text": [
      "HI\n",
      "----------------------------------------------------------------------------------------------------\n",
      "Starting run at time 23:25:48\n",
      "Normalizing training and testing splits...\n",
      "Starting Classification training...\n",
      "Training time was: 45.65 seconds\n",
      "Testing time was: 0.87 seconds\n",
      "\n",
      "          Run ID        Date      Time                    Model Name Model Author Num Classes  Accuracy  Balanced Accuracy  AUC Score  Average Precision  F1 Score  Precision  Recall Samples In Train Samples In Test                                                                                      Model Description Column Predicted Num Features Used                                                                                       Data and Split Description Normalized Num Features Normalized Feature Extraction Was Untested Data Predicted\n",
      "0  QOZPZJ1wNYPbe  2019-07-28  23:25:48  random_forest_classification  Hamed        2           0.977     0.977              0.997      0.997              0.978     0.972      0.984   183965           45992           Random Forest: n_estimators=361, max_features=auto, criterion=entropy, min_samples_leaf=13, n_jobs=-1  class_label      12                {'experiment_id': 'r1dd37mcxv5pf4', 'random_state': 4, 'live_volume': 0.0, 'dead_volume': 570.0, 'stain': None}  True       12                      False              False                     \n",
      "\n",
      "Run finished at 23:26:36. Total run time = 48.24 seconds\n",
      "^^^^^^^^^^^^^^^^^^^^^^^^^^^^^^^^^^^^^^^^^^^^^^^^^^^^^^^^^^^^^^^^^^^^^^^^^^^^^^^^^^^^^^^^^^^^^^^^^^^^\n",
      "\n",
      "\n",
      "\n",
      "\n",
      "HI\n",
      "{'experiment_id': 'r1dd37mcxv5pf4', 'random_state': 4, 'live_volume': 0.0, 'dead_volume': 370.0, 'stain': 'SYTOX Red Stain'}\n",
      "data_columns: ['Container Type', 'Control', 'Culture_Volume', 'Media', 'Replicate', 'Storage (C)', 'Strain', 'checksum', 'filename', 'kill', 'kill_volume', 'plate_id', 'source', 'stain', 'well', 'experiment_id', 'Time', 'FSC-A', 'SSC-A', 'BL1-A', 'RL1-A', 'FSC-H', 'SSC-H', 'BL1-H', 'RL1-H', 'FSC-W', 'SSC-W', 'BL1-W', 'RL1-W']\n"
     ]
    },
    {
     "name": "stderr",
     "output_type": "stream",
     "text": [
      "/Users/danbryce/Documents/sift/xplan/external/xplan/xplan-to-autoprotocol-reactor/xplan-dev-env/xplan-dev-env/lib/python3.7/site-packages/pandas/core/indexing.py:480: SettingWithCopyWarning: \n",
      "A value is trying to be set on a copy of a slice from a DataFrame.\n",
      "Try using .loc[row_indexer,col_indexer] = value instead\n",
      "\n",
      "See the caveats in the documentation: http://pandas.pydata.org/pandas-docs/stable/user_guide/indexing.html#returning-a-view-versus-a-copy\n",
      "  self.obj[item] = s\n"
     ]
    },
    {
     "name": "stdout",
     "output_type": "stream",
     "text": [
      "['FSC-A', 'SSC-A', 'BL1-A', 'RL1-A', 'FSC-H', 'SSC-H', 'BL1-H', 'RL1-H', 'FSC-W', 'SSC-W', 'BL1-W', 'RL1-W']\n",
      "\n",
      "<harness.test_harness_class.TestHarness object at 0x29d40aeb8>\n"
     ]
    },
    {
     "name": "stderr",
     "output_type": "stream",
     "text": [
      "/Users/danbryce/Documents/sift/xplan/external/xplan/xplan-to-autoprotocol-reactor/xplan-dev-env/xplan-dev-env/lib/python3.7/site-packages/pandas/core/indexing.py:362: SettingWithCopyWarning: \n",
      "A value is trying to be set on a copy of a slice from a DataFrame.\n",
      "Try using .loc[row_indexer,col_indexer] = value instead\n",
      "\n",
      "See the caveats in the documentation: http://pandas.pydata.org/pandas-docs/stable/user_guide/indexing.html#returning-a-view-versus-a-copy\n",
      "  self.obj[key] = _infer_fill_value(value)\n"
     ]
    },
    {
     "name": "stdout",
     "output_type": "stream",
     "text": [
      "HI\n",
      "----------------------------------------------------------------------------------------------------\n",
      "Starting run at time 23:26:42\n",
      "Normalizing training and testing splits...\n",
      "Starting Classification training...\n",
      "Training time was: 29.07 seconds\n",
      "Testing time was: 0.65 seconds\n",
      "\n",
      "          Run ID        Date      Time                    Model Name Model Author Num Classes  Accuracy  Balanced Accuracy  AUC Score  Average Precision  F1 Score  Precision  Recall Samples In Train Samples In Test                                                                                      Model Description Column Predicted Num Features Used                                                                                                    Data and Split Description Normalized Num Features Normalized Feature Extraction Was Untested Data Predicted\n",
      "0  QyN3J5legvYgo  2019-07-28  23:26:42  random_forest_classification  Hamed        2           0.997     0.997              1.0        1.0                0.997     0.999      0.996   175331           43833           Random Forest: n_estimators=361, max_features=auto, criterion=entropy, min_samples_leaf=13, n_jobs=-1  class_label      12                {'experiment_id': 'r1dd37mcxv5pf4', 'random_state': 4, 'live_volume': 0.0, 'dead_volume': 370.0, 'stain': 'SYTOX Red Stain'}  True       12                      False              False                     \n",
      "\n",
      "Run finished at 23:27:13. Total run time = 31.36 seconds\n",
      "^^^^^^^^^^^^^^^^^^^^^^^^^^^^^^^^^^^^^^^^^^^^^^^^^^^^^^^^^^^^^^^^^^^^^^^^^^^^^^^^^^^^^^^^^^^^^^^^^^^^\n",
      "\n",
      "\n",
      "\n",
      "\n",
      "HI\n",
      "{'experiment_id': 'r1dd37mcxv5pf4', 'random_state': 4, 'live_volume': 0.0, 'dead_volume': 370.0, 'stain': None}\n",
      "data_columns: ['Container Type', 'Control', 'Culture_Volume', 'Media', 'Replicate', 'Storage (C)', 'Strain', 'checksum', 'filename', 'kill', 'kill_volume', 'plate_id', 'source', 'stain', 'well', 'experiment_id', 'Time', 'FSC-A', 'SSC-A', 'BL1-A', 'RL1-A', 'FSC-H', 'SSC-H', 'BL1-H', 'RL1-H', 'FSC-W', 'SSC-W', 'BL1-W', 'RL1-W']\n"
     ]
    },
    {
     "name": "stderr",
     "output_type": "stream",
     "text": [
      "/Users/danbryce/Documents/sift/xplan/external/xplan/xplan-to-autoprotocol-reactor/xplan-dev-env/xplan-dev-env/lib/python3.7/site-packages/pandas/core/indexing.py:480: SettingWithCopyWarning: \n",
      "A value is trying to be set on a copy of a slice from a DataFrame.\n",
      "Try using .loc[row_indexer,col_indexer] = value instead\n",
      "\n",
      "See the caveats in the documentation: http://pandas.pydata.org/pandas-docs/stable/user_guide/indexing.html#returning-a-view-versus-a-copy\n",
      "  self.obj[item] = s\n"
     ]
    },
    {
     "name": "stdout",
     "output_type": "stream",
     "text": [
      "['FSC-A', 'SSC-A', 'BL1-A', 'RL1-A', 'FSC-H', 'SSC-H', 'BL1-H', 'RL1-H', 'FSC-W', 'SSC-W', 'BL1-W', 'RL1-W']\n",
      "\n",
      "<harness.test_harness_class.TestHarness object at 0x292124b38>\n"
     ]
    },
    {
     "name": "stderr",
     "output_type": "stream",
     "text": [
      "/Users/danbryce/Documents/sift/xplan/external/xplan/xplan-to-autoprotocol-reactor/xplan-dev-env/xplan-dev-env/lib/python3.7/site-packages/pandas/core/indexing.py:362: SettingWithCopyWarning: \n",
      "A value is trying to be set on a copy of a slice from a DataFrame.\n",
      "Try using .loc[row_indexer,col_indexer] = value instead\n",
      "\n",
      "See the caveats in the documentation: http://pandas.pydata.org/pandas-docs/stable/user_guide/indexing.html#returning-a-view-versus-a-copy\n",
      "  self.obj[key] = _infer_fill_value(value)\n"
     ]
    },
    {
     "name": "stdout",
     "output_type": "stream",
     "text": [
      "HI\n",
      "----------------------------------------------------------------------------------------------------\n",
      "Starting run at time 23:27:19\n",
      "Normalizing training and testing splits...\n",
      "Starting Classification training...\n",
      "Training time was: 42.38 seconds\n",
      "Testing time was: 0.95 seconds\n",
      "\n",
      "          Run ID        Date      Time                    Model Name Model Author Num Classes  Accuracy  Balanced Accuracy  AUC Score  Average Precision  F1 Score  Precision  Recall Samples In Train Samples In Test                                                                                      Model Description Column Predicted Num Features Used                                                                                       Data and Split Description Normalized Num Features Normalized Feature Extraction Was Untested Data Predicted\n",
      "0  aWxBvxe3WXBqw  2019-07-28  23:27:19  random_forest_classification  Hamed        2           0.973     0.971              0.995      0.995              0.976     0.972      0.98    166786           41697           Random Forest: n_estimators=361, max_features=auto, criterion=entropy, min_samples_leaf=13, n_jobs=-1  class_label      12                {'experiment_id': 'r1dd37mcxv5pf4', 'random_state': 4, 'live_volume': 0.0, 'dead_volume': 370.0, 'stain': None}  True       12                      False              False                     \n",
      "\n",
      "Run finished at 23:28:04. Total run time = 45.26 seconds\n",
      "^^^^^^^^^^^^^^^^^^^^^^^^^^^^^^^^^^^^^^^^^^^^^^^^^^^^^^^^^^^^^^^^^^^^^^^^^^^^^^^^^^^^^^^^^^^^^^^^^^^^\n",
      "\n",
      "\n",
      "\n",
      "\n",
      "HI\n",
      "{'experiment_id': 'r1dd37mcxv5pf4', 'random_state': 4, 'live_volume': 0.0, 'dead_volume': 250.0, 'stain': 'SYTOX Red Stain'}\n",
      "data_columns: ['Container Type', 'Control', 'Culture_Volume', 'Media', 'Replicate', 'Storage (C)', 'Strain', 'checksum', 'filename', 'kill', 'kill_volume', 'plate_id', 'source', 'stain', 'well', 'experiment_id', 'Time', 'FSC-A', 'SSC-A', 'BL1-A', 'RL1-A', 'FSC-H', 'SSC-H', 'BL1-H', 'RL1-H', 'FSC-W', 'SSC-W', 'BL1-W', 'RL1-W']\n"
     ]
    },
    {
     "name": "stderr",
     "output_type": "stream",
     "text": [
      "/Users/danbryce/Documents/sift/xplan/external/xplan/xplan-to-autoprotocol-reactor/xplan-dev-env/xplan-dev-env/lib/python3.7/site-packages/pandas/core/indexing.py:480: SettingWithCopyWarning: \n",
      "A value is trying to be set on a copy of a slice from a DataFrame.\n",
      "Try using .loc[row_indexer,col_indexer] = value instead\n",
      "\n",
      "See the caveats in the documentation: http://pandas.pydata.org/pandas-docs/stable/user_guide/indexing.html#returning-a-view-versus-a-copy\n",
      "  self.obj[item] = s\n"
     ]
    },
    {
     "name": "stdout",
     "output_type": "stream",
     "text": [
      "['FSC-A', 'SSC-A', 'BL1-A', 'RL1-A', 'FSC-H', 'SSC-H', 'BL1-H', 'RL1-H', 'FSC-W', 'SSC-W', 'BL1-W', 'RL1-W']\n",
      "\n",
      "<harness.test_harness_class.TestHarness object at 0x29b0915c0>\n"
     ]
    },
    {
     "name": "stderr",
     "output_type": "stream",
     "text": [
      "/Users/danbryce/Documents/sift/xplan/external/xplan/xplan-to-autoprotocol-reactor/xplan-dev-env/xplan-dev-env/lib/python3.7/site-packages/pandas/core/indexing.py:362: SettingWithCopyWarning: \n",
      "A value is trying to be set on a copy of a slice from a DataFrame.\n",
      "Try using .loc[row_indexer,col_indexer] = value instead\n",
      "\n",
      "See the caveats in the documentation: http://pandas.pydata.org/pandas-docs/stable/user_guide/indexing.html#returning-a-view-versus-a-copy\n",
      "  self.obj[key] = _infer_fill_value(value)\n"
     ]
    },
    {
     "name": "stdout",
     "output_type": "stream",
     "text": [
      "HI\n",
      "----------------------------------------------------------------------------------------------------\n",
      "Starting run at time 23:28:09\n",
      "Normalizing training and testing splits...\n",
      "Starting Classification training...\n",
      "Training time was: 28.71 seconds\n",
      "Testing time was: 0.64 seconds\n",
      "\n",
      "          Run ID        Date      Time                    Model Name Model Author Num Classes  Accuracy  Balanced Accuracy  AUC Score  Average Precision  F1 Score  Precision  Recall Samples In Train Samples In Test                                                                                      Model Description Column Predicted Num Features Used                                                                                                    Data and Split Description Normalized Num Features Normalized Feature Extraction Was Untested Data Predicted\n",
      "0  QPkdbWm2EWYl3  2019-07-28  23:28:09  random_forest_classification  Hamed        2           0.996     0.997              1.0        1.0                0.997     0.999      0.995   147452           36864           Random Forest: n_estimators=361, max_features=auto, criterion=entropy, min_samples_leaf=13, n_jobs=-1  class_label      12                {'experiment_id': 'r1dd37mcxv5pf4', 'random_state': 4, 'live_volume': 0.0, 'dead_volume': 250.0, 'stain': 'SYTOX Red Stain'}  True       12                      False              False                     \n",
      "\n",
      "Run finished at 23:28:40. Total run time = 30.77 seconds\n",
      "^^^^^^^^^^^^^^^^^^^^^^^^^^^^^^^^^^^^^^^^^^^^^^^^^^^^^^^^^^^^^^^^^^^^^^^^^^^^^^^^^^^^^^^^^^^^^^^^^^^^\n",
      "\n",
      "\n",
      "\n",
      "\n",
      "HI\n",
      "{'experiment_id': 'r1dd37mcxv5pf4', 'random_state': 4, 'live_volume': 0.0, 'dead_volume': 250.0, 'stain': None}\n",
      "data_columns: ['Container Type', 'Control', 'Culture_Volume', 'Media', 'Replicate', 'Storage (C)', 'Strain', 'checksum', 'filename', 'kill', 'kill_volume', 'plate_id', 'source', 'stain', 'well', 'experiment_id', 'Time', 'FSC-A', 'SSC-A', 'BL1-A', 'RL1-A', 'FSC-H', 'SSC-H', 'BL1-H', 'RL1-H', 'FSC-W', 'SSC-W', 'BL1-W', 'RL1-W']\n"
     ]
    },
    {
     "name": "stderr",
     "output_type": "stream",
     "text": [
      "/Users/danbryce/Documents/sift/xplan/external/xplan/xplan-to-autoprotocol-reactor/xplan-dev-env/xplan-dev-env/lib/python3.7/site-packages/pandas/core/indexing.py:480: SettingWithCopyWarning: \n",
      "A value is trying to be set on a copy of a slice from a DataFrame.\n",
      "Try using .loc[row_indexer,col_indexer] = value instead\n",
      "\n",
      "See the caveats in the documentation: http://pandas.pydata.org/pandas-docs/stable/user_guide/indexing.html#returning-a-view-versus-a-copy\n",
      "  self.obj[item] = s\n"
     ]
    },
    {
     "name": "stdout",
     "output_type": "stream",
     "text": [
      "['FSC-A', 'SSC-A', 'BL1-A', 'RL1-A', 'FSC-H', 'SSC-H', 'BL1-H', 'RL1-H', 'FSC-W', 'SSC-W', 'BL1-W', 'RL1-W']\n",
      "\n",
      "<harness.test_harness_class.TestHarness object at 0x2915f1390>\n"
     ]
    },
    {
     "name": "stderr",
     "output_type": "stream",
     "text": [
      "/Users/danbryce/Documents/sift/xplan/external/xplan/xplan-to-autoprotocol-reactor/xplan-dev-env/xplan-dev-env/lib/python3.7/site-packages/pandas/core/indexing.py:362: SettingWithCopyWarning: \n",
      "A value is trying to be set on a copy of a slice from a DataFrame.\n",
      "Try using .loc[row_indexer,col_indexer] = value instead\n",
      "\n",
      "See the caveats in the documentation: http://pandas.pydata.org/pandas-docs/stable/user_guide/indexing.html#returning-a-view-versus-a-copy\n",
      "  self.obj[key] = _infer_fill_value(value)\n"
     ]
    },
    {
     "name": "stdout",
     "output_type": "stream",
     "text": [
      "HI\n",
      "----------------------------------------------------------------------------------------------------\n",
      "Starting run at time 23:28:44\n",
      "Normalizing training and testing splits...\n",
      "Starting Classification training...\n",
      "Training time was: 39.46 seconds\n",
      "Testing time was: 0.83 seconds\n",
      "\n",
      "          Run ID        Date      Time                    Model Name Model Author Num Classes  Accuracy  Balanced Accuracy  AUC Score  Average Precision  F1 Score  Precision  Recall Samples In Train Samples In Test                                                                                      Model Description Column Predicted Num Features Used                                                                                       Data and Split Description Normalized Num Features Normalized Feature Extraction Was Untested Data Predicted\n",
      "0  EpAL7mZ21z9g8  2019-07-28  23:28:44  random_forest_classification  Hamed        2           0.963     0.959              0.991      0.995              0.972     0.975      0.969   142361           35591           Random Forest: n_estimators=361, max_features=auto, criterion=entropy, min_samples_leaf=13, n_jobs=-1  class_label      12                {'experiment_id': 'r1dd37mcxv5pf4', 'random_state': 4, 'live_volume': 0.0, 'dead_volume': 250.0, 'stain': None}  True       12                      False              False                     \n",
      "\n",
      "Run finished at 23:29:26. Total run time = 41.79 seconds\n",
      "^^^^^^^^^^^^^^^^^^^^^^^^^^^^^^^^^^^^^^^^^^^^^^^^^^^^^^^^^^^^^^^^^^^^^^^^^^^^^^^^^^^^^^^^^^^^^^^^^^^^\n",
      "\n",
      "\n",
      "\n",
      "\n",
      "HI\n",
      "{'experiment_id': 'r1dd37mcxv5pf4', 'random_state': 4, 'live_volume': 0.0, 'dead_volume': 170.0, 'stain': 'SYTOX Red Stain'}\n",
      "data_columns: ['Container Type', 'Control', 'Culture_Volume', 'Media', 'Replicate', 'Storage (C)', 'Strain', 'checksum', 'filename', 'kill', 'kill_volume', 'plate_id', 'source', 'stain', 'well', 'experiment_id', 'Time', 'FSC-A', 'SSC-A', 'BL1-A', 'RL1-A', 'FSC-H', 'SSC-H', 'BL1-H', 'RL1-H', 'FSC-W', 'SSC-W', 'BL1-W', 'RL1-W']\n"
     ]
    },
    {
     "name": "stderr",
     "output_type": "stream",
     "text": [
      "/Users/danbryce/Documents/sift/xplan/external/xplan/xplan-to-autoprotocol-reactor/xplan-dev-env/xplan-dev-env/lib/python3.7/site-packages/pandas/core/indexing.py:480: SettingWithCopyWarning: \n",
      "A value is trying to be set on a copy of a slice from a DataFrame.\n",
      "Try using .loc[row_indexer,col_indexer] = value instead\n",
      "\n",
      "See the caveats in the documentation: http://pandas.pydata.org/pandas-docs/stable/user_guide/indexing.html#returning-a-view-versus-a-copy\n",
      "  self.obj[item] = s\n"
     ]
    },
    {
     "name": "stdout",
     "output_type": "stream",
     "text": [
      "['FSC-A', 'SSC-A', 'BL1-A', 'RL1-A', 'FSC-H', 'SSC-H', 'BL1-H', 'RL1-H', 'FSC-W', 'SSC-W', 'BL1-W', 'RL1-W']\n",
      "\n",
      "<harness.test_harness_class.TestHarness object at 0x2a34aaf98>\n"
     ]
    },
    {
     "name": "stderr",
     "output_type": "stream",
     "text": [
      "/Users/danbryce/Documents/sift/xplan/external/xplan/xplan-to-autoprotocol-reactor/xplan-dev-env/xplan-dev-env/lib/python3.7/site-packages/pandas/core/indexing.py:362: SettingWithCopyWarning: \n",
      "A value is trying to be set on a copy of a slice from a DataFrame.\n",
      "Try using .loc[row_indexer,col_indexer] = value instead\n",
      "\n",
      "See the caveats in the documentation: http://pandas.pydata.org/pandas-docs/stable/user_guide/indexing.html#returning-a-view-versus-a-copy\n",
      "  self.obj[key] = _infer_fill_value(value)\n"
     ]
    },
    {
     "name": "stdout",
     "output_type": "stream",
     "text": [
      "HI\n",
      "----------------------------------------------------------------------------------------------------\n",
      "Starting run at time 23:29:33\n",
      "Normalizing training and testing splits...\n",
      "Starting Classification training...\n",
      "Training time was: 51.84 seconds\n",
      "Testing time was: 0.84 seconds\n",
      "\n",
      "          Run ID        Date      Time                    Model Name Model Author Num Classes  Accuracy  Balanced Accuracy  AUC Score  Average Precision  F1 Score  Precision  Recall Samples In Train Samples In Test                                                                                      Model Description Column Predicted Num Features Used                                                                                                    Data and Split Description Normalized Num Features Normalized Feature Extraction Was Untested Data Predicted\n",
      "0  EYaRMq85okBQ1  2019-07-28  23:29:33  random_forest_classification  Hamed        2           0.997     0.997              1.0        0.999              0.997     0.999      0.995   192000           48000           Random Forest: n_estimators=361, max_features=auto, criterion=entropy, min_samples_leaf=13, n_jobs=-1  class_label      12                {'experiment_id': 'r1dd37mcxv5pf4', 'random_state': 4, 'live_volume': 0.0, 'dead_volume': 170.0, 'stain': 'SYTOX Red Stain'}  True       12                      False              False                     \n",
      "\n",
      "Run finished at 23:30:28. Total run time = 54.83 seconds\n",
      "^^^^^^^^^^^^^^^^^^^^^^^^^^^^^^^^^^^^^^^^^^^^^^^^^^^^^^^^^^^^^^^^^^^^^^^^^^^^^^^^^^^^^^^^^^^^^^^^^^^^\n",
      "\n",
      "\n",
      "\n",
      "\n",
      "HI\n",
      "{'experiment_id': 'r1dd37mcxv5pf4', 'random_state': 4, 'live_volume': 0.0, 'dead_volume': 170.0, 'stain': None}\n",
      "data_columns: ['Container Type', 'Control', 'Culture_Volume', 'Media', 'Replicate', 'Storage (C)', 'Strain', 'checksum', 'filename', 'kill', 'kill_volume', 'plate_id', 'source', 'stain', 'well', 'experiment_id', 'Time', 'FSC-A', 'SSC-A', 'BL1-A', 'RL1-A', 'FSC-H', 'SSC-H', 'BL1-H', 'RL1-H', 'FSC-W', 'SSC-W', 'BL1-W', 'RL1-W']\n"
     ]
    },
    {
     "name": "stderr",
     "output_type": "stream",
     "text": [
      "/Users/danbryce/Documents/sift/xplan/external/xplan/xplan-to-autoprotocol-reactor/xplan-dev-env/xplan-dev-env/lib/python3.7/site-packages/pandas/core/indexing.py:480: SettingWithCopyWarning: \n",
      "A value is trying to be set on a copy of a slice from a DataFrame.\n",
      "Try using .loc[row_indexer,col_indexer] = value instead\n",
      "\n",
      "See the caveats in the documentation: http://pandas.pydata.org/pandas-docs/stable/user_guide/indexing.html#returning-a-view-versus-a-copy\n",
      "  self.obj[item] = s\n"
     ]
    },
    {
     "name": "stdout",
     "output_type": "stream",
     "text": [
      "['FSC-A', 'SSC-A', 'BL1-A', 'RL1-A', 'FSC-H', 'SSC-H', 'BL1-H', 'RL1-H', 'FSC-W', 'SSC-W', 'BL1-W', 'RL1-W']\n",
      "\n",
      "<harness.test_harness_class.TestHarness object at 0x1348d7710>\n"
     ]
    },
    {
     "name": "stderr",
     "output_type": "stream",
     "text": [
      "/Users/danbryce/Documents/sift/xplan/external/xplan/xplan-to-autoprotocol-reactor/xplan-dev-env/xplan-dev-env/lib/python3.7/site-packages/pandas/core/indexing.py:362: SettingWithCopyWarning: \n",
      "A value is trying to be set on a copy of a slice from a DataFrame.\n",
      "Try using .loc[row_indexer,col_indexer] = value instead\n",
      "\n",
      "See the caveats in the documentation: http://pandas.pydata.org/pandas-docs/stable/user_guide/indexing.html#returning-a-view-versus-a-copy\n",
      "  self.obj[key] = _infer_fill_value(value)\n"
     ]
    },
    {
     "name": "stdout",
     "output_type": "stream",
     "text": [
      "HI\n",
      "----------------------------------------------------------------------------------------------------\n",
      "Starting run at time 23:30:34\n",
      "Normalizing training and testing splits...\n",
      "Starting Classification training...\n",
      "Training time was: 52.43 seconds\n",
      "Testing time was: 1.26 seconds\n",
      "\n",
      "          Run ID        Date      Time                    Model Name Model Author Num Classes  Accuracy  Balanced Accuracy  AUC Score  Average Precision  F1 Score  Precision  Recall Samples In Train Samples In Test                                                                                      Model Description Column Predicted Num Features Used                                                                                       Data and Split Description Normalized Num Features Normalized Feature Extraction Was Untested Data Predicted\n",
      "0  66voL3j7V2VZl  2019-07-28  23:30:34  random_forest_classification  Hamed        2           0.921     0.921              0.974      0.971              0.921     0.911      0.933   192000           48000           Random Forest: n_estimators=361, max_features=auto, criterion=entropy, min_samples_leaf=13, n_jobs=-1  class_label      12                {'experiment_id': 'r1dd37mcxv5pf4', 'random_state': 4, 'live_volume': 0.0, 'dead_volume': 170.0, 'stain': None}  True       12                      False              False                     \n",
      "\n",
      "Run finished at 23:31:30. Total run time = 55.55 seconds\n",
      "^^^^^^^^^^^^^^^^^^^^^^^^^^^^^^^^^^^^^^^^^^^^^^^^^^^^^^^^^^^^^^^^^^^^^^^^^^^^^^^^^^^^^^^^^^^^^^^^^^^^\n",
      "\n",
      "\n",
      "\n",
      "\n",
      "HI\n",
      "{'experiment_id': 'r1dd37mcxv5pf4', 'random_state': 4, 'live_volume': 0.0, 'dead_volume': 105.0, 'stain': 'SYTOX Red Stain'}\n",
      "data_columns: ['Container Type', 'Control', 'Culture_Volume', 'Media', 'Replicate', 'Storage (C)', 'Strain', 'checksum', 'filename', 'kill', 'kill_volume', 'plate_id', 'source', 'stain', 'well', 'experiment_id', 'Time', 'FSC-A', 'SSC-A', 'BL1-A', 'RL1-A', 'FSC-H', 'SSC-H', 'BL1-H', 'RL1-H', 'FSC-W', 'SSC-W', 'BL1-W', 'RL1-W']\n"
     ]
    },
    {
     "name": "stderr",
     "output_type": "stream",
     "text": [
      "/Users/danbryce/Documents/sift/xplan/external/xplan/xplan-to-autoprotocol-reactor/xplan-dev-env/xplan-dev-env/lib/python3.7/site-packages/pandas/core/indexing.py:480: SettingWithCopyWarning: \n",
      "A value is trying to be set on a copy of a slice from a DataFrame.\n",
      "Try using .loc[row_indexer,col_indexer] = value instead\n",
      "\n",
      "See the caveats in the documentation: http://pandas.pydata.org/pandas-docs/stable/user_guide/indexing.html#returning-a-view-versus-a-copy\n",
      "  self.obj[item] = s\n"
     ]
    },
    {
     "name": "stdout",
     "output_type": "stream",
     "text": [
      "['FSC-A', 'SSC-A', 'BL1-A', 'RL1-A', 'FSC-H', 'SSC-H', 'BL1-H', 'RL1-H', 'FSC-W', 'SSC-W', 'BL1-W', 'RL1-W']\n",
      "\n",
      "<harness.test_harness_class.TestHarness object at 0x2bab7de80>\n"
     ]
    },
    {
     "name": "stderr",
     "output_type": "stream",
     "text": [
      "/Users/danbryce/Documents/sift/xplan/external/xplan/xplan-to-autoprotocol-reactor/xplan-dev-env/xplan-dev-env/lib/python3.7/site-packages/pandas/core/indexing.py:362: SettingWithCopyWarning: \n",
      "A value is trying to be set on a copy of a slice from a DataFrame.\n",
      "Try using .loc[row_indexer,col_indexer] = value instead\n",
      "\n",
      "See the caveats in the documentation: http://pandas.pydata.org/pandas-docs/stable/user_guide/indexing.html#returning-a-view-versus-a-copy\n",
      "  self.obj[key] = _infer_fill_value(value)\n"
     ]
    },
    {
     "name": "stdout",
     "output_type": "stream",
     "text": [
      "HI\n",
      "----------------------------------------------------------------------------------------------------\n",
      "Starting run at time 23:31:36\n",
      "Normalizing training and testing splits...\n",
      "Starting Classification training...\n",
      "Training time was: 43.47 seconds\n",
      "Testing time was: 0.75 seconds\n",
      "\n",
      "          Run ID        Date      Time                    Model Name Model Author Num Classes  Accuracy  Balanced Accuracy  AUC Score  Average Precision  F1 Score  Precision  Recall Samples In Train Samples In Test                                                                                      Model Description Column Predicted Num Features Used                                                                                                    Data and Split Description Normalized Num Features Normalized Feature Extraction Was Untested Data Predicted\n",
      "0  ab2QBY1JQNO1V  2019-07-28  23:31:36  random_forest_classification  Hamed        2           0.997     0.997              1.0        1.0                0.997     0.999      0.996   192000           48000           Random Forest: n_estimators=361, max_features=auto, criterion=entropy, min_samples_leaf=13, n_jobs=-1  class_label      12                {'experiment_id': 'r1dd37mcxv5pf4', 'random_state': 4, 'live_volume': 0.0, 'dead_volume': 105.0, 'stain': 'SYTOX Red Stain'}  True       12                      False              False                     \n",
      "\n",
      "Run finished at 23:32:22. Total run time = 46.01 seconds\n",
      "^^^^^^^^^^^^^^^^^^^^^^^^^^^^^^^^^^^^^^^^^^^^^^^^^^^^^^^^^^^^^^^^^^^^^^^^^^^^^^^^^^^^^^^^^^^^^^^^^^^^\n",
      "\n",
      "\n",
      "\n",
      "\n",
      "HI\n",
      "{'experiment_id': 'r1dd37mcxv5pf4', 'random_state': 4, 'live_volume': 0.0, 'dead_volume': 105.0, 'stain': None}\n",
      "data_columns: ['Container Type', 'Control', 'Culture_Volume', 'Media', 'Replicate', 'Storage (C)', 'Strain', 'checksum', 'filename', 'kill', 'kill_volume', 'plate_id', 'source', 'stain', 'well', 'experiment_id', 'Time', 'FSC-A', 'SSC-A', 'BL1-A', 'RL1-A', 'FSC-H', 'SSC-H', 'BL1-H', 'RL1-H', 'FSC-W', 'SSC-W', 'BL1-W', 'RL1-W']\n"
     ]
    },
    {
     "name": "stderr",
     "output_type": "stream",
     "text": [
      "/Users/danbryce/Documents/sift/xplan/external/xplan/xplan-to-autoprotocol-reactor/xplan-dev-env/xplan-dev-env/lib/python3.7/site-packages/pandas/core/indexing.py:480: SettingWithCopyWarning: \n",
      "A value is trying to be set on a copy of a slice from a DataFrame.\n",
      "Try using .loc[row_indexer,col_indexer] = value instead\n",
      "\n",
      "See the caveats in the documentation: http://pandas.pydata.org/pandas-docs/stable/user_guide/indexing.html#returning-a-view-versus-a-copy\n",
      "  self.obj[item] = s\n"
     ]
    },
    {
     "name": "stdout",
     "output_type": "stream",
     "text": [
      "['FSC-A', 'SSC-A', 'BL1-A', 'RL1-A', 'FSC-H', 'SSC-H', 'BL1-H', 'RL1-H', 'FSC-W', 'SSC-W', 'BL1-W', 'RL1-W']\n"
     ]
    },
    {
     "name": "stderr",
     "output_type": "stream",
     "text": [
      "/Users/danbryce/Documents/sift/xplan/external/xplan/xplan-to-autoprotocol-reactor/xplan-dev-env/xplan-dev-env/lib/python3.7/site-packages/pandas/core/indexing.py:362: SettingWithCopyWarning: \n",
      "A value is trying to be set on a copy of a slice from a DataFrame.\n",
      "Try using .loc[row_indexer,col_indexer] = value instead\n",
      "\n",
      "See the caveats in the documentation: http://pandas.pydata.org/pandas-docs/stable/user_guide/indexing.html#returning-a-view-versus-a-copy\n",
      "  self.obj[key] = _infer_fill_value(value)\n"
     ]
    },
    {
     "name": "stdout",
     "output_type": "stream",
     "text": [
      "\n",
      "<harness.test_harness_class.TestHarness object at 0x142bf2e48>\n",
      "HI\n",
      "----------------------------------------------------------------------------------------------------\n",
      "Starting run at time 23:32:28\n",
      "Normalizing training and testing splits...\n",
      "Starting Classification training...\n",
      "Training time was: 52.80 seconds\n",
      "Testing time was: 1.26 seconds\n",
      "\n",
      "          Run ID        Date      Time                    Model Name Model Author Num Classes  Accuracy  Balanced Accuracy  AUC Score  Average Precision  F1 Score  Precision  Recall Samples In Train Samples In Test                                                                                      Model Description Column Predicted Num Features Used                                                                                       Data and Split Description Normalized Num Features Normalized Feature Extraction Was Untested Data Predicted\n",
      "0  6pJ2yr61D5lrw  2019-07-28  23:32:28  random_forest_classification  Hamed        2           0.94      0.94               0.984      0.982              0.941     0.928      0.954   192000           48000           Random Forest: n_estimators=361, max_features=auto, criterion=entropy, min_samples_leaf=13, n_jobs=-1  class_label      12                {'experiment_id': 'r1dd37mcxv5pf4', 'random_state': 4, 'live_volume': 0.0, 'dead_volume': 105.0, 'stain': None}  True       12                      False              False                     \n",
      "\n",
      "Run finished at 23:33:24. Total run time = 55.89 seconds\n",
      "^^^^^^^^^^^^^^^^^^^^^^^^^^^^^^^^^^^^^^^^^^^^^^^^^^^^^^^^^^^^^^^^^^^^^^^^^^^^^^^^^^^^^^^^^^^^^^^^^^^^\n",
      "\n",
      "\n",
      "\n",
      "\n",
      "HI\n",
      "{'experiment_id': 'r1dd37mcxv5pf4', 'random_state': 4, 'live_volume': 0.0, 'dead_volume': 64.0, 'stain': 'SYTOX Red Stain'}\n",
      "data_columns: ['Container Type', 'Control', 'Culture_Volume', 'Media', 'Replicate', 'Storage (C)', 'Strain', 'checksum', 'filename', 'kill', 'kill_volume', 'plate_id', 'source', 'stain', 'well', 'experiment_id', 'Time', 'FSC-A', 'SSC-A', 'BL1-A', 'RL1-A', 'FSC-H', 'SSC-H', 'BL1-H', 'RL1-H', 'FSC-W', 'SSC-W', 'BL1-W', 'RL1-W']\n"
     ]
    },
    {
     "name": "stderr",
     "output_type": "stream",
     "text": [
      "/Users/danbryce/Documents/sift/xplan/external/xplan/xplan-to-autoprotocol-reactor/xplan-dev-env/xplan-dev-env/lib/python3.7/site-packages/pandas/core/indexing.py:480: SettingWithCopyWarning: \n",
      "A value is trying to be set on a copy of a slice from a DataFrame.\n",
      "Try using .loc[row_indexer,col_indexer] = value instead\n",
      "\n",
      "See the caveats in the documentation: http://pandas.pydata.org/pandas-docs/stable/user_guide/indexing.html#returning-a-view-versus-a-copy\n",
      "  self.obj[item] = s\n"
     ]
    },
    {
     "name": "stdout",
     "output_type": "stream",
     "text": [
      "['FSC-A', 'SSC-A', 'BL1-A', 'RL1-A', 'FSC-H', 'SSC-H', 'BL1-H', 'RL1-H', 'FSC-W', 'SSC-W', 'BL1-W', 'RL1-W']\n",
      "\n",
      "<harness.test_harness_class.TestHarness object at 0x2c5793fd0>\n"
     ]
    },
    {
     "name": "stderr",
     "output_type": "stream",
     "text": [
      "/Users/danbryce/Documents/sift/xplan/external/xplan/xplan-to-autoprotocol-reactor/xplan-dev-env/xplan-dev-env/lib/python3.7/site-packages/pandas/core/indexing.py:362: SettingWithCopyWarning: \n",
      "A value is trying to be set on a copy of a slice from a DataFrame.\n",
      "Try using .loc[row_indexer,col_indexer] = value instead\n",
      "\n",
      "See the caveats in the documentation: http://pandas.pydata.org/pandas-docs/stable/user_guide/indexing.html#returning-a-view-versus-a-copy\n",
      "  self.obj[key] = _infer_fill_value(value)\n"
     ]
    },
    {
     "name": "stdout",
     "output_type": "stream",
     "text": [
      "HI\n",
      "----------------------------------------------------------------------------------------------------\n",
      "Starting run at time 23:33:31\n",
      "Normalizing training and testing splits...\n",
      "Starting Classification training...\n",
      "Training time was: 60.44 seconds\n",
      "Testing time was: 1.46 seconds\n",
      "\n",
      "          Run ID        Date      Time                    Model Name Model Author Num Classes  Accuracy  Balanced Accuracy  AUC Score  Average Precision  F1 Score  Precision  Recall Samples In Train Samples In Test                                                                                      Model Description Column Predicted Num Features Used                                                                                                   Data and Split Description Normalized Num Features Normalized Feature Extraction Was Untested Data Predicted\n",
      "0  amqkx9g3W6vLd  2019-07-28  23:33:31  random_forest_classification  Hamed        2           0.856     0.856              0.926      0.908              0.864     0.819      0.915   192000           48000           Random Forest: n_estimators=361, max_features=auto, criterion=entropy, min_samples_leaf=13, n_jobs=-1  class_label      12                {'experiment_id': 'r1dd37mcxv5pf4', 'random_state': 4, 'live_volume': 0.0, 'dead_volume': 64.0, 'stain': 'SYTOX Red Stain'}  True       12                      False              False                     \n",
      "\n",
      "Run finished at 23:34:34. Total run time = 63.82 seconds\n",
      "^^^^^^^^^^^^^^^^^^^^^^^^^^^^^^^^^^^^^^^^^^^^^^^^^^^^^^^^^^^^^^^^^^^^^^^^^^^^^^^^^^^^^^^^^^^^^^^^^^^^\n",
      "\n",
      "\n",
      "\n",
      "\n",
      "HI\n",
      "{'experiment_id': 'r1dd37mcxv5pf4', 'random_state': 4, 'live_volume': 0.0, 'dead_volume': 64.0, 'stain': None}\n",
      "data_columns: ['Container Type', 'Control', 'Culture_Volume', 'Media', 'Replicate', 'Storage (C)', 'Strain', 'checksum', 'filename', 'kill', 'kill_volume', 'plate_id', 'source', 'stain', 'well', 'experiment_id', 'Time', 'FSC-A', 'SSC-A', 'BL1-A', 'RL1-A', 'FSC-H', 'SSC-H', 'BL1-H', 'RL1-H', 'FSC-W', 'SSC-W', 'BL1-W', 'RL1-W']\n"
     ]
    },
    {
     "name": "stderr",
     "output_type": "stream",
     "text": [
      "/Users/danbryce/Documents/sift/xplan/external/xplan/xplan-to-autoprotocol-reactor/xplan-dev-env/xplan-dev-env/lib/python3.7/site-packages/pandas/core/indexing.py:480: SettingWithCopyWarning: \n",
      "A value is trying to be set on a copy of a slice from a DataFrame.\n",
      "Try using .loc[row_indexer,col_indexer] = value instead\n",
      "\n",
      "See the caveats in the documentation: http://pandas.pydata.org/pandas-docs/stable/user_guide/indexing.html#returning-a-view-versus-a-copy\n",
      "  self.obj[item] = s\n"
     ]
    },
    {
     "name": "stdout",
     "output_type": "stream",
     "text": [
      "['FSC-A', 'SSC-A', 'BL1-A', 'RL1-A', 'FSC-H', 'SSC-H', 'BL1-H', 'RL1-H', 'FSC-W', 'SSC-W', 'BL1-W', 'RL1-W']\n",
      "\n",
      "<harness.test_harness_class.TestHarness object at 0x2c543bef0>\n"
     ]
    },
    {
     "name": "stderr",
     "output_type": "stream",
     "text": [
      "/Users/danbryce/Documents/sift/xplan/external/xplan/xplan-to-autoprotocol-reactor/xplan-dev-env/xplan-dev-env/lib/python3.7/site-packages/pandas/core/indexing.py:362: SettingWithCopyWarning: \n",
      "A value is trying to be set on a copy of a slice from a DataFrame.\n",
      "Try using .loc[row_indexer,col_indexer] = value instead\n",
      "\n",
      "See the caveats in the documentation: http://pandas.pydata.org/pandas-docs/stable/user_guide/indexing.html#returning-a-view-versus-a-copy\n",
      "  self.obj[key] = _infer_fill_value(value)\n"
     ]
    },
    {
     "name": "stdout",
     "output_type": "stream",
     "text": [
      "HI\n",
      "----------------------------------------------------------------------------------------------------\n",
      "Starting run at time 23:34:41\n",
      "Normalizing training and testing splits...\n",
      "Starting Classification training...\n",
      "Training time was: 49.88 seconds\n",
      "Testing time was: 1.46 seconds\n",
      "\n",
      "          Run ID        Date      Time                    Model Name Model Author Num Classes  Accuracy  Balanced Accuracy  AUC Score  Average Precision  F1 Score  Precision  Recall Samples In Train Samples In Test                                                                                      Model Description Column Predicted Num Features Used                                                                                      Data and Split Description Normalized Num Features Normalized Feature Extraction Was Untested Data Predicted\n",
      "0  5OZ1Q58pyDN7w  2019-07-28  23:34:41  random_forest_classification  Hamed        2           0.797     0.797              0.877      0.861              0.808     0.768      0.851   192000           48000           Random Forest: n_estimators=361, max_features=auto, criterion=entropy, min_samples_leaf=13, n_jobs=-1  class_label      12                {'experiment_id': 'r1dd37mcxv5pf4', 'random_state': 4, 'live_volume': 0.0, 'dead_volume': 64.0, 'stain': None}  True       12                      False              False                     \n",
      "\n",
      "Run finished at 23:35:34. Total run time = 53.19 seconds\n",
      "^^^^^^^^^^^^^^^^^^^^^^^^^^^^^^^^^^^^^^^^^^^^^^^^^^^^^^^^^^^^^^^^^^^^^^^^^^^^^^^^^^^^^^^^^^^^^^^^^^^^\n",
      "\n",
      "\n",
      "\n",
      "\n",
      "HI\n",
      "{'experiment_id': 'r1dd37mcxv5pf4', 'random_state': 4, 'live_volume': 0.0, 'dead_volume': 29, 'stain': 'SYTOX Red Stain'}\n",
      "data_columns: ['Container Type', 'Control', 'Culture_Volume', 'Media', 'Replicate', 'Storage (C)', 'Strain', 'checksum', 'filename', 'kill', 'kill_volume', 'plate_id', 'source', 'stain', 'well', 'experiment_id', 'Time', 'FSC-A', 'SSC-A', 'BL1-A', 'RL1-A', 'FSC-H', 'SSC-H', 'BL1-H', 'RL1-H', 'FSC-W', 'SSC-W', 'BL1-W', 'RL1-W']\n"
     ]
    },
    {
     "name": "stderr",
     "output_type": "stream",
     "text": [
      "/Users/danbryce/Documents/sift/xplan/external/xplan/xplan-to-autoprotocol-reactor/xplan-dev-env/xplan-dev-env/lib/python3.7/site-packages/pandas/core/indexing.py:480: SettingWithCopyWarning: \n",
      "A value is trying to be set on a copy of a slice from a DataFrame.\n",
      "Try using .loc[row_indexer,col_indexer] = value instead\n",
      "\n",
      "See the caveats in the documentation: http://pandas.pydata.org/pandas-docs/stable/user_guide/indexing.html#returning-a-view-versus-a-copy\n",
      "  self.obj[item] = s\n"
     ]
    },
    {
     "name": "stdout",
     "output_type": "stream",
     "text": [
      "['FSC-A', 'SSC-A', 'BL1-A', 'RL1-A', 'FSC-H', 'SSC-H', 'BL1-H', 'RL1-H', 'FSC-W', 'SSC-W', 'BL1-W', 'RL1-W']\n",
      "\n",
      "<harness.test_harness_class.TestHarness object at 0x2ee11a748>\n"
     ]
    },
    {
     "name": "stderr",
     "output_type": "stream",
     "text": [
      "/Users/danbryce/Documents/sift/xplan/external/xplan/xplan-to-autoprotocol-reactor/xplan-dev-env/xplan-dev-env/lib/python3.7/site-packages/pandas/core/indexing.py:362: SettingWithCopyWarning: \n",
      "A value is trying to be set on a copy of a slice from a DataFrame.\n",
      "Try using .loc[row_indexer,col_indexer] = value instead\n",
      "\n",
      "See the caveats in the documentation: http://pandas.pydata.org/pandas-docs/stable/user_guide/indexing.html#returning-a-view-versus-a-copy\n",
      "  self.obj[key] = _infer_fill_value(value)\n"
     ]
    },
    {
     "name": "stdout",
     "output_type": "stream",
     "text": [
      "HI\n",
      "----------------------------------------------------------------------------------------------------\n",
      "Starting run at time 23:35:41\n",
      "Normalizing training and testing splits...\n",
      "Starting Classification training...\n",
      "Training time was: 62.62 seconds\n",
      "Testing time was: 1.57 seconds\n",
      "\n",
      "          Run ID        Date      Time                    Model Name Model Author Num Classes  Accuracy  Balanced Accuracy  AUC Score  Average Precision  F1 Score  Precision  Recall Samples In Train Samples In Test                                                                                      Model Description Column Predicted Num Features Used                                                                                                 Data and Split Description Normalized Num Features Normalized Feature Extraction Was Untested Data Predicted\n",
      "0  5ZyJ9Xak7e2xw  2019-07-28  23:35:41  random_forest_classification  Hamed        2           0.647     0.647              0.709      0.677              0.673     0.627      0.726   192000           48000           Random Forest: n_estimators=361, max_features=auto, criterion=entropy, min_samples_leaf=13, n_jobs=-1  class_label      12                {'experiment_id': 'r1dd37mcxv5pf4', 'random_state': 4, 'live_volume': 0.0, 'dead_volume': 29, 'stain': 'SYTOX Red Stain'}  True       12                      False              False                     \n",
      "\n",
      "Run finished at 23:36:47. Total run time = 65.97 seconds\n",
      "^^^^^^^^^^^^^^^^^^^^^^^^^^^^^^^^^^^^^^^^^^^^^^^^^^^^^^^^^^^^^^^^^^^^^^^^^^^^^^^^^^^^^^^^^^^^^^^^^^^^\n",
      "\n",
      "\n",
      "\n",
      "\n",
      "HI\n",
      "{'experiment_id': 'r1dd37mcxv5pf4', 'random_state': 4, 'live_volume': 0.0, 'dead_volume': 29, 'stain': None}\n",
      "data_columns: ['Container Type', 'Control', 'Culture_Volume', 'Media', 'Replicate', 'Storage (C)', 'Strain', 'checksum', 'filename', 'kill', 'kill_volume', 'plate_id', 'source', 'stain', 'well', 'experiment_id', 'Time', 'FSC-A', 'SSC-A', 'BL1-A', 'RL1-A', 'FSC-H', 'SSC-H', 'BL1-H', 'RL1-H', 'FSC-W', 'SSC-W', 'BL1-W', 'RL1-W']\n"
     ]
    },
    {
     "name": "stderr",
     "output_type": "stream",
     "text": [
      "/Users/danbryce/Documents/sift/xplan/external/xplan/xplan-to-autoprotocol-reactor/xplan-dev-env/xplan-dev-env/lib/python3.7/site-packages/pandas/core/indexing.py:480: SettingWithCopyWarning: \n",
      "A value is trying to be set on a copy of a slice from a DataFrame.\n",
      "Try using .loc[row_indexer,col_indexer] = value instead\n",
      "\n",
      "See the caveats in the documentation: http://pandas.pydata.org/pandas-docs/stable/user_guide/indexing.html#returning-a-view-versus-a-copy\n",
      "  self.obj[item] = s\n"
     ]
    },
    {
     "name": "stdout",
     "output_type": "stream",
     "text": [
      "['FSC-A', 'SSC-A', 'BL1-A', 'RL1-A', 'FSC-H', 'SSC-H', 'BL1-H', 'RL1-H', 'FSC-W', 'SSC-W', 'BL1-W', 'RL1-W']\n",
      "\n",
      "<harness.test_harness_class.TestHarness object at 0x31d7ba278>\n"
     ]
    },
    {
     "name": "stderr",
     "output_type": "stream",
     "text": [
      "/Users/danbryce/Documents/sift/xplan/external/xplan/xplan-to-autoprotocol-reactor/xplan-dev-env/xplan-dev-env/lib/python3.7/site-packages/pandas/core/indexing.py:362: SettingWithCopyWarning: \n",
      "A value is trying to be set on a copy of a slice from a DataFrame.\n",
      "Try using .loc[row_indexer,col_indexer] = value instead\n",
      "\n",
      "See the caveats in the documentation: http://pandas.pydata.org/pandas-docs/stable/user_guide/indexing.html#returning-a-view-versus-a-copy\n",
      "  self.obj[key] = _infer_fill_value(value)\n"
     ]
    },
    {
     "name": "stdout",
     "output_type": "stream",
     "text": [
      "HI\n",
      "----------------------------------------------------------------------------------------------------\n",
      "Starting run at time 23:36:53\n",
      "Normalizing training and testing splits...\n",
      "Starting Classification training...\n",
      "Training time was: 52.32 seconds\n",
      "Testing time was: 1.77 seconds\n",
      "\n",
      "          Run ID        Date      Time                    Model Name Model Author Num Classes  Accuracy  Balanced Accuracy  AUC Score  Average Precision  F1 Score  Precision  Recall Samples In Train Samples In Test                                                                                      Model Description Column Predicted Num Features Used                                                                                    Data and Split Description Normalized Num Features Normalized Feature Extraction Was Untested Data Predicted\n",
      "0  52LjE9Q3LRJMM  2019-07-28  23:36:53  random_forest_classification  Hamed        2           0.638     0.638              0.691      0.673              0.64      0.637      0.643   192000           48000           Random Forest: n_estimators=361, max_features=auto, criterion=entropy, min_samples_leaf=13, n_jobs=-1  class_label      12                {'experiment_id': 'r1dd37mcxv5pf4', 'random_state': 4, 'live_volume': 0.0, 'dead_volume': 29, 'stain': None}  True       12                      False              False                     \n",
      "\n",
      "Run finished at 23:37:49. Total run time = 55.99 seconds\n",
      "^^^^^^^^^^^^^^^^^^^^^^^^^^^^^^^^^^^^^^^^^^^^^^^^^^^^^^^^^^^^^^^^^^^^^^^^^^^^^^^^^^^^^^^^^^^^^^^^^^^^\n",
      "\n",
      "\n",
      "\n",
      "\n",
      "HI\n"
     ]
    }
   ],
   "source": [
    "# Single time point and Eth titration\n",
    "blda.train_models_for_stats(df, \n",
    "                            data_dir=work_dir, \n",
    "                            fcs_columns=['FSC-A', 'SSC-A', 'BL1-A', 'RL1-A', 'FSC-H', \n",
    "                                      'SSC-H', 'BL1-H', 'RL1-H', 'FSC-W', 'SSC-W',\n",
    "                                      'BL1-W', 'RL1-W'])\n"
   ]
  },
  {
   "cell_type": "code",
   "execution_count": 112,
   "metadata": {},
   "outputs": [
    {
     "name": "stdout",
     "output_type": "stream",
     "text": [
      "SYTOX Red Stain\n",
      "{'experiment_id': 'r1dd37mcxv5pf4', 'random_state': 0, 'live_volume': 0, 'dead_volume': 980.0, 'stain': 'SYTOX Red Stain', 'prediction': True}\n",
      "data_columns: ['Container Type', 'Control', 'Culture_Volume', 'Media', 'Replicate', 'Storage (C)', 'Strain', 'checksum', 'filename', 'kill', 'kill_volume', 'plate_id', 'source', 'stain', 'well', 'experiment_id', 'Time', 'FSC-A', 'SSC-A', 'BL1-A', 'RL1-A', 'FSC-H', 'SSC-H', 'BL1-H', 'RL1-H', 'FSC-W', 'SSC-W', 'BL1-W', 'RL1-W']\n"
     ]
    },
    {
     "name": "stderr",
     "output_type": "stream",
     "text": [
      "/Users/danbryce/Documents/sift/xplan/external/xplan/xplan-to-autoprotocol-reactor/xplan-dev-env/xplan-dev-env/lib/python3.7/site-packages/pandas/core/indexing.py:480: SettingWithCopyWarning: \n",
      "A value is trying to be set on a copy of a slice from a DataFrame.\n",
      "Try using .loc[row_indexer,col_indexer] = value instead\n",
      "\n",
      "See the caveats in the documentation: http://pandas.pydata.org/pandas-docs/stable/user_guide/indexing.html#returning-a-view-versus-a-copy\n",
      "  self.obj[item] = s\n"
     ]
    },
    {
     "name": "stdout",
     "output_type": "stream",
     "text": [
      "['FSC-A', 'SSC-A', 'BL1-A', 'RL1-A', 'FSC-H', 'SSC-H', 'BL1-H', 'RL1-H', 'FSC-W', 'SSC-W', 'BL1-W', 'RL1-W']\n",
      "\n",
      "<harness.test_harness_class.TestHarness object at 0x1c09a25c0>\n"
     ]
    },
    {
     "name": "stderr",
     "output_type": "stream",
     "text": [
      "/Users/danbryce/Documents/sift/xplan/external/xplan/xplan-to-autoprotocol-reactor/xplan-dev-env/xplan-dev-env/lib/python3.7/site-packages/pandas/core/indexing.py:362: SettingWithCopyWarning: \n",
      "A value is trying to be set on a copy of a slice from a DataFrame.\n",
      "Try using .loc[row_indexer,col_indexer] = value instead\n",
      "\n",
      "See the caveats in the documentation: http://pandas.pydata.org/pandas-docs/stable/user_guide/indexing.html#returning-a-view-versus-a-copy\n",
      "  self.obj[key] = _infer_fill_value(value)\n"
     ]
    },
    {
     "name": "stdout",
     "output_type": "stream",
     "text": [
      "----------------------------------------------------------------------------------------------------\n",
      "Starting run at time 14:03:08\n",
      "Normalizing training and testing splits...\n",
      "Starting Classification training...\n",
      "Training time was: 41.69 seconds\n",
      "Testing time was: 0.75 seconds\n",
      "Prediction time of untested data was: 16.60473394393921\n",
      "\n",
      "          Run ID        Date      Time                    Model Name Model Author Num Classes  Accuracy  Balanced Accuracy  AUC Score  Average Precision  F1 Score  Precision  Recall Samples In Train Samples In Test                                                                                      Model Description Column Predicted Num Features Used                                                                                                                      Data and Split Description Normalized Num Features Normalized Feature Extraction Was Untested Data Predicted\n",
      "0  5W3jAjw9ez6zr  2019-07-30  14:03:08  random_forest_classification  Hamed        2           0.998     0.998              1.0        1.0                0.998     0.999      0.998   192000           48000           Random Forest: n_estimators=361, max_features=auto, criterion=entropy, min_samples_leaf=13, n_jobs=-1  class_label      12                {'experiment_id': 'r1dd37mcxv5pf4', 'random_state': 0, 'live_volume': 0, 'dead_volume': 980.0, 'stain': 'SYTOX Red Stain', 'prediction': True}  True       12                      False              True                      \n",
      "\n",
      "Run finished at 14:04:20. Total run time = 71.48 seconds\n",
      "^^^^^^^^^^^^^^^^^^^^^^^^^^^^^^^^^^^^^^^^^^^^^^^^^^^^^^^^^^^^^^^^^^^^^^^^^^^^^^^^^^^^^^^^^^^^^^^^^^^^\n",
      "\n",
      "\n",
      "\n",
      "\n",
      "output_col: live\n",
      "None\n",
      "{'experiment_id': 'r1dd37mcxv5pf4', 'random_state': 0, 'live_volume': 0, 'dead_volume': 980.0, 'stain': None, 'prediction': True}\n",
      "data_columns: ['Container Type', 'Control', 'Culture_Volume', 'Media', 'Replicate', 'Storage (C)', 'Strain', 'checksum', 'filename', 'kill', 'kill_volume', 'plate_id', 'source', 'stain', 'well', 'experiment_id', 'Time', 'FSC-A', 'SSC-A', 'BL1-A', 'RL1-A', 'FSC-H', 'SSC-H', 'BL1-H', 'RL1-H', 'FSC-W', 'SSC-W', 'BL1-W', 'RL1-W']\n"
     ]
    },
    {
     "name": "stderr",
     "output_type": "stream",
     "text": [
      "/Users/danbryce/Documents/sift/xplan/external/xplan/xplan-to-autoprotocol-reactor/xplan-dev-env/xplan-dev-env/lib/python3.7/site-packages/pandas/core/indexing.py:480: SettingWithCopyWarning: \n",
      "A value is trying to be set on a copy of a slice from a DataFrame.\n",
      "Try using .loc[row_indexer,col_indexer] = value instead\n",
      "\n",
      "See the caveats in the documentation: http://pandas.pydata.org/pandas-docs/stable/user_guide/indexing.html#returning-a-view-versus-a-copy\n",
      "  self.obj[item] = s\n"
     ]
    },
    {
     "name": "stdout",
     "output_type": "stream",
     "text": [
      "['FSC-A', 'SSC-A', 'BL1-A', 'RL1-A', 'FSC-H', 'SSC-H', 'BL1-H', 'RL1-H', 'FSC-W', 'SSC-W', 'BL1-W', 'RL1-W']\n",
      "\n",
      "<harness.test_harness_class.TestHarness object at 0x339257c50>\n"
     ]
    },
    {
     "name": "stderr",
     "output_type": "stream",
     "text": [
      "/Users/danbryce/Documents/sift/xplan/external/xplan/xplan-to-autoprotocol-reactor/xplan-dev-env/xplan-dev-env/lib/python3.7/site-packages/pandas/core/indexing.py:362: SettingWithCopyWarning: \n",
      "A value is trying to be set on a copy of a slice from a DataFrame.\n",
      "Try using .loc[row_indexer,col_indexer] = value instead\n",
      "\n",
      "See the caveats in the documentation: http://pandas.pydata.org/pandas-docs/stable/user_guide/indexing.html#returning-a-view-versus-a-copy\n",
      "  self.obj[key] = _infer_fill_value(value)\n"
     ]
    },
    {
     "name": "stdout",
     "output_type": "stream",
     "text": [
      "----------------------------------------------------------------------------------------------------\n",
      "Starting run at time 14:04:30\n",
      "Normalizing training and testing splits...\n",
      "Starting Classification training...\n",
      "Training time was: 45.57 seconds\n",
      "Testing time was: 0.85 seconds\n",
      "Prediction time of untested data was: 16.545056104660034\n",
      "\n",
      "          Run ID        Date      Time                    Model Name Model Author Num Classes  Accuracy  Balanced Accuracy  AUC Score  Average Precision  F1 Score  Precision  Recall Samples In Train Samples In Test                                                                                      Model Description Column Predicted Num Features Used                                                                                                         Data and Split Description Normalized Num Features Normalized Feature Extraction Was Untested Data Predicted\n",
      "0  EWoyeqNla8WWM  2019-07-30  14:04:30  random_forest_classification  Hamed        2           0.994     0.994              1.0        1.0                0.994     0.993      0.996   192000           48000           Random Forest: n_estimators=361, max_features=auto, criterion=entropy, min_samples_leaf=13, n_jobs=-1  class_label      12                {'experiment_id': 'r1dd37mcxv5pf4', 'random_state': 0, 'live_volume': 0, 'dead_volume': 980.0, 'stain': None, 'prediction': True}  True       12                      False              True                      \n",
      "\n",
      "Run finished at 14:05:44. Total run time = 74.49 seconds\n",
      "^^^^^^^^^^^^^^^^^^^^^^^^^^^^^^^^^^^^^^^^^^^^^^^^^^^^^^^^^^^^^^^^^^^^^^^^^^^^^^^^^^^^^^^^^^^^^^^^^^^^\n",
      "\n",
      "\n",
      "\n",
      "\n",
      "output_col: live\n"
     ]
    }
   ],
   "source": [
    "df = pd.read_csv(os.path.join(work_dir, 'data.csv'), index_col=0)\n",
    "\n",
    "pred_df = blda.train_models_for_prediction(df, data_dir=work_dir,\n",
    "                                 fcs_columns=['FSC-A', 'SSC-A', 'BL1-A', 'RL1-A', 'FSC-H', \n",
    "                                      'SSC-H', 'BL1-H', 'RL1-H', 'FSC-W', 'SSC-W',\n",
    "                                      'BL1-W', 'RL1-W'],\n",
    "                                           combine_stains=False,\n",
    "                                          overwrite=True,\n",
    "                                          output_col = 'live')\n",
    "pred_df.to_csv(os.path.join(work_dir, 'data.csv'))"
   ]
  },
  {
   "cell_type": "code",
   "execution_count": 116,
   "metadata": {},
   "outputs": [
    {
     "name": "stderr",
     "output_type": "stream",
     "text": [
      "/Users/danbryce/Documents/sift/xplan/external/xplan/xplan-to-autoprotocol-reactor/xplan-dev-env/xplan-dev-env/lib/python3.7/site-packages/IPython/core/interactiveshell.py:3057: DtypeWarning: Columns (1,2,3,4,5,6,7,10,13,14) have mixed types. Specify dtype option on import or set low_memory=False.\n",
      "  interactivity=interactivity, compiler=compiler, result=result)\n",
      "/Users/danbryce/Documents/sift/xplan/external/xplan/xplan-to-autoprotocol-reactor/xplan-dev-env/xplan-dev-env/lib/python3.7/site-packages/numpy/lib/arraysetops.py:569: FutureWarning: elementwise comparison failed; returning scalar instead, but in the future will perform elementwise comparison\n",
      "  mask |= (ar1 == a)\n"
     ]
    },
    {
     "name": "stdout",
     "output_type": "stream",
     "text": [
      "SYTOX Red Stain\n",
      "{'experiment_id': 'r1dd37mcxv5pf4', 'random_state': 0, 'live_volume': 0, 'dead_volume': 980.0, 'stain': 'SYTOX Red Stain', 'prediction': True, 'channels': ['SSC-A', 'SSC-H', 'SSC-W']}\n",
      "data_columns: ['Container Type', 'Control', 'Culture_Volume', 'Media', 'Replicate', 'Storage (C)', 'Strain', 'checksum', 'filename', 'kill', 'kill_volume', 'plate_id', 'source', 'stain', 'well', 'experiment_id', 'Time', 'FSC-A', 'SSC-A', 'BL1-A', 'RL1-A', 'FSC-H', 'SSC-H', 'BL1-H', 'RL1-H', 'FSC-W', 'SSC-W', 'BL1-W', 'RL1-W', 'index', 'live']\n"
     ]
    },
    {
     "name": "stderr",
     "output_type": "stream",
     "text": [
      "/Users/danbryce/Documents/sift/xplan/external/xplan/xplan-to-autoprotocol-reactor/xplan-dev-env/xplan-dev-env/lib/python3.7/site-packages/pandas/core/indexing.py:480: SettingWithCopyWarning: \n",
      "A value is trying to be set on a copy of a slice from a DataFrame.\n",
      "Try using .loc[row_indexer,col_indexer] = value instead\n",
      "\n",
      "See the caveats in the documentation: http://pandas.pydata.org/pandas-docs/stable/user_guide/indexing.html#returning-a-view-versus-a-copy\n",
      "  self.obj[item] = s\n"
     ]
    },
    {
     "name": "stdout",
     "output_type": "stream",
     "text": [
      "['SSC-A', 'SSC-H', 'SSC-W']\n",
      "\n",
      "<harness.test_harness_class.TestHarness object at 0x11f74c860>\n",
      "----------------------------------------------------------------------------------------------------\n",
      "Starting run at time 14:10:11\n",
      "Normalizing training and testing splits...\n",
      "Starting Classification training...\n",
      "Training time was: 27.55 seconds\n",
      "Testing time was: 0.84 seconds\n",
      "Prediction time of untested data was: 17.089905261993408\n",
      "\n",
      "          Run ID        Date      Time                    Model Name Model Author Num Classes  Accuracy  Balanced Accuracy  AUC Score  Average Precision  F1 Score  Precision  Recall Samples In Train Samples In Test                                                                                      Model Description Column Predicted Num Features Used                                                                                                                                                               Data and Split Description Normalized Num Features Normalized Feature Extraction Was Untested Data Predicted\n",
      "0  6gD7RVbGQPB6N  2019-07-30  14:10:11  random_forest_classification  Hamed        2           0.989     0.989              0.998      0.997              0.989     0.983      0.995   192000           48000           Random Forest: n_estimators=361, max_features=auto, criterion=entropy, min_samples_leaf=13, n_jobs=-1  class_label      3                 {'experiment_id': 'r1dd37mcxv5pf4', 'random_state': 0, 'live_volume': 0, 'dead_volume': 980.0, 'stain': 'SYTOX Red Stain', 'prediction': True, 'channels': ['SSC-A', 'SSC-H', 'SSC-W']}  True       3                       False              True                      \n",
      "\n",
      "Run finished at 14:11:06. Total run time = 55.35 seconds\n",
      "^^^^^^^^^^^^^^^^^^^^^^^^^^^^^^^^^^^^^^^^^^^^^^^^^^^^^^^^^^^^^^^^^^^^^^^^^^^^^^^^^^^^^^^^^^^^^^^^^^^^\n",
      "\n",
      "\n",
      "\n",
      "\n",
      "output_col: live_ss\n",
      "nan\n",
      "{'experiment_id': 'r1dd37mcxv5pf4', 'random_state': 0, 'live_volume': 0, 'dead_volume': 980.0, 'stain': nan, 'prediction': True, 'channels': ['SSC-A', 'SSC-H', 'SSC-W']}\n",
      "data_columns: ['Container Type', 'Control', 'Culture_Volume', 'Media', 'Replicate', 'Storage (C)', 'Strain', 'checksum', 'filename', 'kill', 'kill_volume', 'plate_id', 'source', 'stain', 'well', 'experiment_id', 'Time', 'FSC-A', 'SSC-A', 'BL1-A', 'RL1-A', 'FSC-H', 'SSC-H', 'BL1-H', 'RL1-H', 'FSC-W', 'SSC-W', 'BL1-W', 'RL1-W', 'index', 'live']\n"
     ]
    },
    {
     "name": "stderr",
     "output_type": "stream",
     "text": [
      "/Users/danbryce/Documents/sift/xplan/external/xplan/xplan-to-autoprotocol-reactor/xplan-dev-env/xplan-dev-env/lib/python3.7/site-packages/pandas/core/indexing.py:480: SettingWithCopyWarning: \n",
      "A value is trying to be set on a copy of a slice from a DataFrame.\n",
      "Try using .loc[row_indexer,col_indexer] = value instead\n",
      "\n",
      "See the caveats in the documentation: http://pandas.pydata.org/pandas-docs/stable/user_guide/indexing.html#returning-a-view-versus-a-copy\n",
      "  self.obj[item] = s\n"
     ]
    },
    {
     "name": "stdout",
     "output_type": "stream",
     "text": [
      "['SSC-A', 'SSC-H', 'SSC-W']\n",
      "\n",
      "<harness.test_harness_class.TestHarness object at 0x32a949a58>\n",
      "----------------------------------------------------------------------------------------------------\n",
      "Starting run at time 14:11:17\n",
      "Normalizing training and testing splits...\n",
      "Starting Classification training...\n",
      "Training time was: 28.10 seconds\n",
      "Testing time was: 1.36 seconds\n",
      "Prediction time of untested data was: 21.104886054992676\n",
      "\n",
      "          Run ID        Date      Time                    Model Name Model Author Num Classes  Accuracy  Balanced Accuracy  AUC Score  Average Precision  F1 Score  Precision  Recall Samples In Train Samples In Test                                                                                      Model Description Column Predicted Num Features Used                                                                                                                                                 Data and Split Description Normalized Num Features Normalized Feature Extraction Was Untested Data Predicted\n",
      "0  5RvNyJBOeZwrM  2019-07-30  14:11:17  random_forest_classification  Hamed        2           0.985     0.985              0.997      0.996              0.985     0.979      0.992   192000           48000           Random Forest: n_estimators=361, max_features=auto, criterion=entropy, min_samples_leaf=13, n_jobs=-1  class_label      3                 {'experiment_id': 'r1dd37mcxv5pf4', 'random_state': 0, 'live_volume': 0, 'dead_volume': 980.0, 'stain': nan, 'prediction': True, 'channels': ['SSC-A', 'SSC-H', 'SSC-W']}  True       3                       False              True                      \n",
      "\n",
      "Run finished at 14:12:18. Total run time = 60.34 seconds\n",
      "^^^^^^^^^^^^^^^^^^^^^^^^^^^^^^^^^^^^^^^^^^^^^^^^^^^^^^^^^^^^^^^^^^^^^^^^^^^^^^^^^^^^^^^^^^^^^^^^^^^^\n",
      "\n",
      "\n",
      "\n",
      "\n",
      "output_col: live_ss\n"
     ]
    }
   ],
   "source": [
    "# Train on just side scatter\n",
    "df = pd.read_csv(os.path.join(work_dir, 'data.csv'), index_col=0)\n",
    "pred_df = blda.train_models_for_prediction(df, data_dir=work_dir,\n",
    "                                 fcs_columns=[ 'SSC-A','SSC-H', 'SSC-W'],\n",
    "                                           combine_stains=False,\n",
    "                                          overwrite=True,\n",
    "                                          additional_description={\n",
    "                                              'channels' : [ 'SSC-A','SSC-H', 'SSC-W']\n",
    "                                          },\n",
    "                                          output_col = 'live_ss')\n",
    "pred_df.to_csv(os.path.join(work_dir, 'data.csv'))"
   ]
  }
 ],
 "metadata": {
  "kernelspec": {
   "display_name": "xplan-dev-env",
   "language": "python",
   "name": "xplan-dev-env"
  },
  "language_info": {
   "codemirror_mode": {
    "name": "ipython",
    "version": 3
   },
   "file_extension": ".py",
   "mimetype": "text/x-python",
   "name": "python",
   "nbconvert_exporter": "python",
   "pygments_lexer": "ipython3",
   "version": "3.7.0"
  }
 },
 "nbformat": 4,
 "nbformat_minor": 2
}
