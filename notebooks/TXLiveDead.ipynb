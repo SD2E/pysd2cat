{
 "cells": [
  {
   "cell_type": "code",
   "execution_count": 47,
   "metadata": {},
   "outputs": [],
   "source": [
    "import transcriptic \n",
    "from transcriptic import commands, Container\n",
    "from transcriptic.config import Connection\n",
    "from transcriptic.jupyter import objects\n",
    "import json\n",
    "from pysd2cat.data import tx_od\n",
    "from os.path import expanduser\n",
    "import requests\n",
    "import os\n",
    "import zipfile\n",
    "import shutil\n",
    "import fnmatch\n",
    "import glob\n",
    "\n",
    "\n",
    "\n",
    "run_id='r1dd37mcxv5pf4'\n",
    "work_dir='data/transcriptic'\n",
    "\n",
    "if not os.path.exists(work_dir):\n",
    "    os.makedirs(work_dir)"
   ]
  },
  {
   "cell_type": "code",
   "execution_count": 21,
   "metadata": {},
   "outputs": [
    {
     "name": "stdout",
     "output_type": "stream",
     "text": [
      "Attempting to fetch 7 datasets...\n"
     ]
    },
    {
     "name": "stderr",
     "output_type": "stream",
     "text": [
      "/Users/danbryce/Documents/sift/xplan/external/xplan/xplan-to-autoprotocol-reactor/xplan-dev-env/xplan-dev-env/lib/python3.7/site-packages/transcriptic/jupyter/objects.py:437: UserWarning: Missing key 'container' when initializing dataset\n",
      "  warnings.warn(\"Missing key {} when initializing dataset\".format(e))\n"
     ]
    }
   ],
   "source": [
    "Connection.from_file(\"~/.transcriptic\")\n",
    "r = tx_od.get_tx_run(run_id)\n",
    "data = r.data"
   ]
  },
  {
   "cell_type": "code",
   "execution_count": 22,
   "metadata": {},
   "outputs": [
    {
     "data": {
      "text/html": [
       "<div>\n",
       "<style scoped>\n",
       "    .dataframe tbody tr th:only-of-type {\n",
       "        vertical-align: middle;\n",
       "    }\n",
       "\n",
       "    .dataframe tbody tr th {\n",
       "        vertical-align: top;\n",
       "    }\n",
       "\n",
       "    .dataframe thead th {\n",
       "        text-align: right;\n",
       "    }\n",
       "</style>\n",
       "<table border=\"1\" class=\"dataframe\">\n",
       "  <thead>\n",
       "    <tr style=\"text-align: right;\">\n",
       "      <th></th>\n",
       "      <th>Name</th>\n",
       "      <th>DataType</th>\n",
       "      <th>Operation</th>\n",
       "      <th>AnalysisTool</th>\n",
       "      <th>Datasets</th>\n",
       "    </tr>\n",
       "  </thead>\n",
       "  <tbody>\n",
       "    <tr>\n",
       "      <th>0</th>\n",
       "      <td>FLUOR-0.0 hour</td>\n",
       "      <td>platereader</td>\n",
       "      <td>fluorescence</td>\n",
       "      <td>None</td>\n",
       "      <td>&lt;transcriptic.jupyter.objects.Dataset object a...</td>\n",
       "    </tr>\n",
       "    <tr>\n",
       "      <th>1</th>\n",
       "      <td>OD-0.0 hour</td>\n",
       "      <td>platereader</td>\n",
       "      <td>absorbance</td>\n",
       "      <td>None</td>\n",
       "      <td>&lt;transcriptic.jupyter.objects.Dataset object a...</td>\n",
       "    </tr>\n",
       "    <tr>\n",
       "      <th>2</th>\n",
       "      <td>FLUOR-1.0 hour</td>\n",
       "      <td>platereader</td>\n",
       "      <td>fluorescence</td>\n",
       "      <td>None</td>\n",
       "      <td>&lt;transcriptic.jupyter.objects.Dataset object a...</td>\n",
       "    </tr>\n",
       "    <tr>\n",
       "      <th>3</th>\n",
       "      <td>OD-1.0 hour</td>\n",
       "      <td>platereader</td>\n",
       "      <td>absorbance</td>\n",
       "      <td>None</td>\n",
       "      <td>&lt;transcriptic.jupyter.objects.Dataset object a...</td>\n",
       "    </tr>\n",
       "    <tr>\n",
       "      <th>4</th>\n",
       "      <td>Flow (Sytox) Plate 1_1.0 hour</td>\n",
       "      <td>file</td>\n",
       "      <td>flow_analyze</td>\n",
       "      <td>None</td>\n",
       "      <td>&lt;transcriptic.jupyter.objects.Dataset object a...</td>\n",
       "    </tr>\n",
       "    <tr>\n",
       "      <th>5</th>\n",
       "      <td>OD-post-inoculation-read</td>\n",
       "      <td>platereader</td>\n",
       "      <td>absorbance</td>\n",
       "      <td>None</td>\n",
       "      <td>&lt;transcriptic.jupyter.objects.Dataset object a...</td>\n",
       "    </tr>\n",
       "    <tr>\n",
       "      <th>6</th>\n",
       "      <td>FLUOR-post-inoculation-read</td>\n",
       "      <td>platereader</td>\n",
       "      <td>fluorescence</td>\n",
       "      <td>None</td>\n",
       "      <td>&lt;transcriptic.jupyter.objects.Dataset object a...</td>\n",
       "    </tr>\n",
       "  </tbody>\n",
       "</table>\n",
       "</div>"
      ],
      "text/plain": [
       "                            Name     DataType     Operation AnalysisTool  \\\n",
       "0                 FLUOR-0.0 hour  platereader  fluorescence         None   \n",
       "1                    OD-0.0 hour  platereader    absorbance         None   \n",
       "2                 FLUOR-1.0 hour  platereader  fluorescence         None   \n",
       "3                    OD-1.0 hour  platereader    absorbance         None   \n",
       "4  Flow (Sytox) Plate 1_1.0 hour         file  flow_analyze         None   \n",
       "5       OD-post-inoculation-read  platereader    absorbance         None   \n",
       "6    FLUOR-post-inoculation-read  platereader  fluorescence         None   \n",
       "\n",
       "                                            Datasets  \n",
       "0  <transcriptic.jupyter.objects.Dataset object a...  \n",
       "1  <transcriptic.jupyter.objects.Dataset object a...  \n",
       "2  <transcriptic.jupyter.objects.Dataset object a...  \n",
       "3  <transcriptic.jupyter.objects.Dataset object a...  \n",
       "4  <transcriptic.jupyter.objects.Dataset object a...  \n",
       "5  <transcriptic.jupyter.objects.Dataset object a...  \n",
       "6  <transcriptic.jupyter.objects.Dataset object a...  "
      ]
     },
     "execution_count": 22,
     "metadata": {},
     "output_type": "execute_result"
    }
   ],
   "source": [
    "data"
   ]
  },
  {
   "cell_type": "code",
   "execution_count": 49,
   "metadata": {},
   "outputs": [
    {
     "name": "stdout",
     "output_type": "stream",
     "text": [
      "Requesting Data from: https://secure.transcriptic.com/upload/url_for?key=uploads/9fcf842f-3e37-4b27-8906-d85a18d2326e/20190725_Cell_Death.zip\n",
      "Writing data to: data/transcriptic/fcs.zip\n",
      "Response: <Response [200]>\n"
     ]
    }
   ],
   "source": [
    "dataset = data.loc[data['Operation'] == 'flow_analyze']['Datasets'].values[0]\n",
    "key = dataset.attributes[\"attachments\"][0]['key']\n",
    "tx_config = json.load(open(os.path.join(expanduser(\"~\"), \".transcriptic\")))\n",
    "headers = {'X-User-Email': tx_config['email'], 'X-User-Token': tx_config['token']}\n",
    "response = requests.get(\"https://secure.transcriptic.com/upload/url_for?key=\"+ key, headers=headers)\n",
    "print(\"Requesting Data from: \" + \"https://secure.transcriptic.com/upload/url_for?key=\"+ key)\n",
    "zip_path = os.path.join(work_dir, 'fcs.zip')\n",
    "unzip_path = os.path.join(work_dir, 'fcs')\n",
    "unzip_tmp_path = os.path.join(work_dir, 'fcs_tmp')\n",
    "with open(zip_path, 'wb') as f:\n",
    "    print(\"Writing data to: \" + zip_path)\n",
    "    print(\"Response: \" + str(response))\n",
    "    f.write(response.content)\n",
    "zip_ref = zipfile.ZipFile(zip_path, 'r')\n",
    "zip_ref.extractall(unzip_tmp_path)\n",
    "zip_ref.close()\n",
    "\n",
    "# Search for the fcs files\n",
    "matches = []\n",
    "for root, dirnames, filenames in os.walk(unzip_tmp_path):\n",
    "    for filename in fnmatch.filter(filenames, '*.fcs'):\n",
    "        matches.append((os.path.join(root, filename), filename))\n",
    "\n",
    "if not os.path.exists(unzip_path):\n",
    "    os.makedirs(unzip_path)\n",
    "\n",
    "# Move all fcs files to a directory with a known name\n",
    "for full_path, filename in matches:\n",
    "    shutil.move(full_path, os.path.join(unzip_path, filename))\n",
    "\n",
    "shutil.rmtree(unzip_tmp_path)\n",
    "os.remove(zip_path)"
   ]
  }
 ],
 "metadata": {
  "kernelspec": {
   "display_name": "Python 3",
   "language": "python",
   "name": "python3"
  },
  "language_info": {
   "codemirror_mode": {
    "name": "ipython",
    "version": 3
   },
   "file_extension": ".py",
   "mimetype": "text/x-python",
   "name": "python",
   "nbconvert_exporter": "python",
   "pygments_lexer": "ipython3",
   "version": "3.7.0"
  }
 },
 "nbformat": 4,
 "nbformat_minor": 2
}
