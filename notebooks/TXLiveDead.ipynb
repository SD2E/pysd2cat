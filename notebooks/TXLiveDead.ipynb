{
 "cells": [
  {
   "cell_type": "code",
   "execution_count": 60,
   "metadata": {},
   "outputs": [
    {
     "name": "stdout",
     "output_type": "stream",
     "text": [
      "The autoreload extension is already loaded. To reload it, use:\n",
      "  %reload_ext autoreload\n"
     ]
    },
    {
     "name": "stderr",
     "output_type": "stream",
     "text": [
      "/Users/danbryce/Documents/sift/xplan/external/xplan/xplan-to-autoprotocol-reactor/xplan-dev-env/xplan-dev-env/lib/python3.7/site-packages/sklearn/externals/joblib/__init__.py:15: DeprecationWarning: sklearn.externals.joblib is deprecated in 0.21 and will be removed in 0.23. Please import this functionality directly from joblib, which can be installed with: pip install joblib. If this warning is raised when loading pickled models, you may need to re-serialize those models with scikit-learn 0.21+.\n",
      "  warnings.warn(msg, category=DeprecationWarning)\n"
     ]
    }
   ],
   "source": [
    "import transcriptic \n",
    "from transcriptic import commands, Container\n",
    "from transcriptic.config import Connection\n",
    "from transcriptic.jupyter import objects\n",
    "import json\n",
    "from pysd2cat.data import tx_fcs\n",
    "from pysd2cat.data import pipeline\n",
    "from pysd2cat.analysis import biofab_live_dead_analysis as blda\n",
    "\n",
    "from os.path import expanduser\n",
    "import requests\n",
    "import os\n",
    "import zipfile\n",
    "import shutil\n",
    "import fnmatch\n",
    "import glob\n",
    "import pandas as pd\n",
    "import ast\n",
    "\n",
    "%load_ext autoreload\n",
    "%reload_ext autoreload\n",
    "%autoreload 2\n",
    "\n",
    "\n",
    "\n",
    "run_id='r1dd37mcxv5pf4'\n",
    "work_dir='data/transcriptic'\n",
    "Connection.from_file(\"~/.transcriptic\")\n",
    "tx_config = json.load(open(os.path.join(expanduser(\"~\"), \".transcriptic\")))\n",
    "transcriptic_email = tx_config['email']\n",
    "transcriptic_token = tx_config['token']\n",
    "\n",
    "\n",
    "\n",
    "if not os.path.exists(work_dir):\n",
    "    os.makedirs(work_dir)"
   ]
  },
  {
   "cell_type": "code",
   "execution_count": 11,
   "metadata": {},
   "outputs": [],
   "source": [
    "def get_flow_plate_properties(run_id, transcriptic_email, transcriptic_token, work_dir, download_data=False):\n",
    "    file_info = tx_fcs.create_fcs_manifest_and_get_files(run_id, \n",
    "                                                         transcriptic_email, \n",
    "                                                         transcriptic_token,\n",
    "                                                         fcs_path=work_dir, \n",
    "                                                         download_zip=False,\n",
    "                                                         container_name=\"Flow (Sytox) Plate 1\"\n",
    "                                                         )\n",
    "    #Flow plate didn't have the properties, so need to get them from another plate\n",
    "    inoc_plate_info = tx_fcs.get_plate_well_properties(tx_fcs.get_tx_run(run_id), container_name=\"Inoculation Plate\")\n",
    "    for well_id, info in file_info.items():\n",
    "        info['properties'] = inoc_plate_info[well_id.upper()]\n",
    "    return file_info"
   ]
  },
  {
   "cell_type": "code",
   "execution_count": 12,
   "metadata": {},
   "outputs": [
    {
     "name": "stdout",
     "output_type": "stream",
     "text": [
      "Attempting to fetch 7 datasets...\n"
     ]
    }
   ],
   "source": [
    "plate_properties = get_flow_plate_properties(run_id, transcriptic_email, transcriptic_token, work_dir, download_data=False)"
   ]
  },
  {
   "cell_type": "code",
   "execution_count": null,
   "metadata": {},
   "outputs": [],
   "source": [
    "def make_row(well, info):\n",
    "    row = { \n",
    "        \"well\" : well,\n",
    "        \"file\" : info['file'],\n",
    "        \"checksum\" : info['checksum']\n",
    "        }\n",
    "    # Properties don't include sytox, so add manually\n",
    "    def well_stain(well):\n",
    "        if 'a' in well or 'b' in well or 'c' in well or 'd' in well:\n",
    "            return \"SYTOX Red Stain\"\n",
    "        else:\n",
    "            return None\n",
    "        \n",
    "    row['stain'] = well_stain(well) \n",
    "    \n",
    "    def expand_options(v):\n",
    "        print(v)\n",
    "        kv_pairs = {}\n",
    "        for option, value in v.items():"
   ]
  },
  {
   "cell_type": "code",
   "execution_count": 56,
   "metadata": {},
   "outputs": [
    {
     "data": {
      "text/html": [
       "<div>\n",
       "<style scoped>\n",
       "    .dataframe tbody tr th:only-of-type {\n",
       "        vertical-align: middle;\n",
       "    }\n",
       "\n",
       "    .dataframe tbody tr th {\n",
       "        vertical-align: top;\n",
       "    }\n",
       "\n",
       "    .dataframe thead th {\n",
       "        text-align: right;\n",
       "    }\n",
       "</style>\n",
       "<table border=\"1\" class=\"dataframe\">\n",
       "  <thead>\n",
       "    <tr style=\"text-align: right;\">\n",
       "      <th></th>\n",
       "      <th>Container Type</th>\n",
       "      <th>Control</th>\n",
       "      <th>Culture_Volume</th>\n",
       "      <th>Media</th>\n",
       "      <th>Replicate</th>\n",
       "      <th>Storage (C)</th>\n",
       "      <th>Strain</th>\n",
       "      <th>checksum</th>\n",
       "      <th>filename</th>\n",
       "      <th>kill</th>\n",
       "      <th>kill_volume</th>\n",
       "      <th>plate_id</th>\n",
       "      <th>source</th>\n",
       "      <th>stain</th>\n",
       "      <th>well</th>\n",
       "      <th>experiment_id</th>\n",
       "    </tr>\n",
       "  </thead>\n",
       "  <tbody>\n",
       "    <tr>\n",
       "      <th>0</th>\n",
       "      <td>96-pcr</td>\n",
       "      <td>{}</td>\n",
       "      <td>{'qty': 1000.0, 'units': 'uL'}</td>\n",
       "      <td>{'YPAD': {'item_id': 378596, 'item_concentrati...</td>\n",
       "      <td>3/8</td>\n",
       "      <td>cold_80</td>\n",
       "      <td>{'S288c_a': {'item_id': 389331, 'item_concentr...</td>\n",
       "      <td>afe43f51e8ab4acf2274d2a339c877c50942ddd0</td>\n",
       "      <td>data/transcriptic/fcs/CellDeath-EtOH-07-25-201...</td>\n",
       "      <td>Ethanol</td>\n",
       "      <td>29.0</td>\n",
       "      <td>394511</td>\n",
       "      <td>[{'id': 393948}]</td>\n",
       "      <td>SYTOX Red Stain</td>\n",
       "      <td>c8</td>\n",
       "      <td>r1dd37mcxv5pf4</td>\n",
       "    </tr>\n",
       "    <tr>\n",
       "      <th>1</th>\n",
       "      <td>96-pcr</td>\n",
       "      <td>{}</td>\n",
       "      <td>{'qty': 1000.0, 'units': 'uL'}</td>\n",
       "      <td>{'YPAD': {'item_id': 378596, 'item_concentrati...</td>\n",
       "      <td>1/8</td>\n",
       "      <td>cold_80</td>\n",
       "      <td>{'S288c_a': {'item_id': 389331, 'item_concentr...</td>\n",
       "      <td>081314b58568f60ffe805f7d75bc680e2873f94f</td>\n",
       "      <td>data/transcriptic/fcs/CellDeath-EtOH-07-25-201...</td>\n",
       "      <td>Ethanol</td>\n",
       "      <td>980.0</td>\n",
       "      <td>394511</td>\n",
       "      <td>[{'id': 393923}]</td>\n",
       "      <td>SYTOX Red Stain</td>\n",
       "      <td>a1</td>\n",
       "      <td>r1dd37mcxv5pf4</td>\n",
       "    </tr>\n",
       "    <tr>\n",
       "      <th>2</th>\n",
       "      <td>96-pcr</td>\n",
       "      <td>{}</td>\n",
       "      <td>{'qty': 1000.0, 'units': 'uL'}</td>\n",
       "      <td>{'YPAD': {'item_id': 378596, 'item_concentrati...</td>\n",
       "      <td>3/8</td>\n",
       "      <td>cold_80</td>\n",
       "      <td>{'S288c_a': {'item_id': 389331, 'item_concentr...</td>\n",
       "      <td>d8dba1d96a606cf0605d4ab02ca33ce75c929605</td>\n",
       "      <td>data/transcriptic/fcs/CellDeath-EtOH-07-25-201...</td>\n",
       "      <td>Ethanol</td>\n",
       "      <td>0.0</td>\n",
       "      <td>394511</td>\n",
       "      <td>[{'id': 393949}]</td>\n",
       "      <td>SYTOX Red Stain</td>\n",
       "      <td>c9</td>\n",
       "      <td>r1dd37mcxv5pf4</td>\n",
       "    </tr>\n",
       "    <tr>\n",
       "      <th>3</th>\n",
       "      <td>96-pcr</td>\n",
       "      <td>{}</td>\n",
       "      <td>{'qty': 1000.0, 'units': 'uL'}</td>\n",
       "      <td>{'YPAD': {'item_id': 378596, 'item_concentrati...</td>\n",
       "      <td>1/8</td>\n",
       "      <td>cold_80</td>\n",
       "      <td>{'S288c_a': {'item_id': 389331, 'item_concentr...</td>\n",
       "      <td>5d5805371b237efff255eef909da8052589c6b0c</td>\n",
       "      <td>data/transcriptic/fcs/CellDeath-EtOH-07-25-201...</td>\n",
       "      <td>Ethanol</td>\n",
       "      <td>370.0</td>\n",
       "      <td>394511</td>\n",
       "      <td>[{'id': 393925}]</td>\n",
       "      <td>SYTOX Red Stain</td>\n",
       "      <td>a3</td>\n",
       "      <td>r1dd37mcxv5pf4</td>\n",
       "    </tr>\n",
       "    <tr>\n",
       "      <th>4</th>\n",
       "      <td>96-pcr</td>\n",
       "      <td>{}</td>\n",
       "      <td>{'qty': 1000.0, 'units': 'uL'}</td>\n",
       "      <td>{'YPAD': {'item_id': 378596, 'item_concentrati...</td>\n",
       "      <td>1/8</td>\n",
       "      <td>cold_80</td>\n",
       "      <td>{'S288c_a': {'item_id': 389331, 'item_concentr...</td>\n",
       "      <td>a1deb04c2d208f29c6764b26fc0fe8eea87d2dc7</td>\n",
       "      <td>data/transcriptic/fcs/CellDeath-EtOH-07-25-201...</td>\n",
       "      <td>Ethanol</td>\n",
       "      <td>570.0</td>\n",
       "      <td>394511</td>\n",
       "      <td>[{'id': 393924}]</td>\n",
       "      <td>SYTOX Red Stain</td>\n",
       "      <td>a2</td>\n",
       "      <td>r1dd37mcxv5pf4</td>\n",
       "    </tr>\n",
       "    <tr>\n",
       "      <th>5</th>\n",
       "      <td>96-pcr</td>\n",
       "      <td>{}</td>\n",
       "      <td>{'qty': 1000.0, 'units': 'uL'}</td>\n",
       "      <td>{'YPAD': {'item_id': 378596, 'item_concentrati...</td>\n",
       "      <td>1/8</td>\n",
       "      <td>cold_80</td>\n",
       "      <td>{'S288c_a': {'item_id': 389331, 'item_concentr...</td>\n",
       "      <td>e11d90db2a7e91499b10b7b998b88071ea2f1314</td>\n",
       "      <td>data/transcriptic/fcs/CellDeath-EtOH-07-25-201...</td>\n",
       "      <td>Ethanol</td>\n",
       "      <td>105.0</td>\n",
       "      <td>394511</td>\n",
       "      <td>[{'id': 393928}]</td>\n",
       "      <td>SYTOX Red Stain</td>\n",
       "      <td>a6</td>\n",
       "      <td>r1dd37mcxv5pf4</td>\n",
       "    </tr>\n",
       "    <tr>\n",
       "      <th>6</th>\n",
       "      <td>96-pcr</td>\n",
       "      <td>{}</td>\n",
       "      <td>{'qty': 1000.0, 'units': 'uL'}</td>\n",
       "      <td>{'YPAD': {'item_id': 378596, 'item_concentrati...</td>\n",
       "      <td>1/8</td>\n",
       "      <td>cold_80</td>\n",
       "      <td>{'S288c_a': {'item_id': 389331, 'item_concentr...</td>\n",
       "      <td>01aca22eff88dfe90cc7278e6eaed3d5f1f810f0</td>\n",
       "      <td>data/transcriptic/fcs/CellDeath-EtOH-07-25-201...</td>\n",
       "      <td>Ethanol</td>\n",
       "      <td>64.0</td>\n",
       "      <td>394511</td>\n",
       "      <td>[{'id': 393929}]</td>\n",
       "      <td>SYTOX Red Stain</td>\n",
       "      <td>a7</td>\n",
       "      <td>r1dd37mcxv5pf4</td>\n",
       "    </tr>\n",
       "    <tr>\n",
       "      <th>7</th>\n",
       "      <td>96-pcr</td>\n",
       "      <td>{}</td>\n",
       "      <td>{'qty': 1000.0, 'units': 'uL'}</td>\n",
       "      <td>{'YPAD': {'item_id': 378596, 'item_concentrati...</td>\n",
       "      <td>1/8</td>\n",
       "      <td>cold_80</td>\n",
       "      <td>{'S288c_a': {'item_id': 389331, 'item_concentr...</td>\n",
       "      <td>ea6a2b4e3c5b20eddb56cf6242a0e89117290831</td>\n",
       "      <td>data/transcriptic/fcs/CellDeath-EtOH-07-25-201...</td>\n",
       "      <td>Ethanol</td>\n",
       "      <td>170.0</td>\n",
       "      <td>394511</td>\n",
       "      <td>[{'id': 393927}]</td>\n",
       "      <td>SYTOX Red Stain</td>\n",
       "      <td>a5</td>\n",
       "      <td>r1dd37mcxv5pf4</td>\n",
       "    </tr>\n",
       "    <tr>\n",
       "      <th>8</th>\n",
       "      <td>96-pcr</td>\n",
       "      <td>{}</td>\n",
       "      <td>{'qty': 1000.0, 'units': 'uL'}</td>\n",
       "      <td>{'YPAD': {'item_id': 378596, 'item_concentrati...</td>\n",
       "      <td>2/8</td>\n",
       "      <td>cold_80</td>\n",
       "      <td>{'S288c_a': {'item_id': 389331, 'item_concentr...</td>\n",
       "      <td>6c6844a3f17a3fba1cad6b194b2b844bf75d6118</td>\n",
       "      <td>data/transcriptic/fcs/CellDeath-EtOH-07-25-201...</td>\n",
       "      <td>Ethanol</td>\n",
       "      <td>0.0</td>\n",
       "      <td>394511</td>\n",
       "      <td>[{'id': 393940}]</td>\n",
       "      <td>SYTOX Red Stain</td>\n",
       "      <td>b9</td>\n",
       "      <td>r1dd37mcxv5pf4</td>\n",
       "    </tr>\n",
       "    <tr>\n",
       "      <th>9</th>\n",
       "      <td>96-pcr</td>\n",
       "      <td>{}</td>\n",
       "      <td>{'qty': 1000.0, 'units': 'uL'}</td>\n",
       "      <td>{'YPAD': {'item_id': 378596, 'item_concentrati...</td>\n",
       "      <td>2/8</td>\n",
       "      <td>cold_80</td>\n",
       "      <td>{'S288c_a': {'item_id': 389331, 'item_concentr...</td>\n",
       "      <td>9b18418dd47914f6bbb22d1331fd87f014a2f001</td>\n",
       "      <td>data/transcriptic/fcs/CellDeath-EtOH-07-25-201...</td>\n",
       "      <td>Ethanol</td>\n",
       "      <td>29.0</td>\n",
       "      <td>394511</td>\n",
       "      <td>[{'id': 393939}]</td>\n",
       "      <td>SYTOX Red Stain</td>\n",
       "      <td>b8</td>\n",
       "      <td>r1dd37mcxv5pf4</td>\n",
       "    </tr>\n",
       "    <tr>\n",
       "      <th>10</th>\n",
       "      <td>96-pcr</td>\n",
       "      <td>{}</td>\n",
       "      <td>{'qty': 1000.0, 'units': 'uL'}</td>\n",
       "      <td>{'YPAD': {'item_id': 378596, 'item_concentrati...</td>\n",
       "      <td>1/8</td>\n",
       "      <td>cold_80</td>\n",
       "      <td>{'S288c_a': {'item_id': 389331, 'item_concentr...</td>\n",
       "      <td>cafc11af8e7293f5b2d5d070bae9acfc9c29e3c8</td>\n",
       "      <td>data/transcriptic/fcs/CellDeath-EtOH-07-25-201...</td>\n",
       "      <td>Ethanol</td>\n",
       "      <td>250.0</td>\n",
       "      <td>394511</td>\n",
       "      <td>[{'id': 393926}]</td>\n",
       "      <td>SYTOX Red Stain</td>\n",
       "      <td>a4</td>\n",
       "      <td>r1dd37mcxv5pf4</td>\n",
       "    </tr>\n",
       "    <tr>\n",
       "      <th>11</th>\n",
       "      <td>96-pcr</td>\n",
       "      <td>{}</td>\n",
       "      <td>{'qty': 1000.0, 'units': 'uL'}</td>\n",
       "      <td>{'YPAD': {'item_id': 378596, 'item_concentrati...</td>\n",
       "      <td>6/8</td>\n",
       "      <td>cold_80</td>\n",
       "      <td>{'S288c_a': {'item_id': 389331, 'item_concentr...</td>\n",
       "      <td>153c4f71762643a9095fe1907a8be7a29bb70653</td>\n",
       "      <td>data/transcriptic/fcs/CellDeath-EtOH-07-25-201...</td>\n",
       "      <td>Ethanol</td>\n",
       "      <td>64.0</td>\n",
       "      <td>394511</td>\n",
       "      <td>[{'id': 393974}]</td>\n",
       "      <td>None</td>\n",
       "      <td>f7</td>\n",
       "      <td>r1dd37mcxv5pf4</td>\n",
       "    </tr>\n",
       "    <tr>\n",
       "      <th>12</th>\n",
       "      <td>96-pcr</td>\n",
       "      <td>{}</td>\n",
       "      <td>{'qty': 1000.0, 'units': 'uL'}</td>\n",
       "      <td>{'YPAD': {'item_id': 378596, 'item_concentrati...</td>\n",
       "      <td>7/8</td>\n",
       "      <td>cold_80</td>\n",
       "      <td>{'S288c_a': {'item_id': 389331, 'item_concentr...</td>\n",
       "      <td>cbaf8cec6852835681ddc97de81263a2aceb1437</td>\n",
       "      <td>data/transcriptic/fcs/CellDeath-EtOH-07-25-201...</td>\n",
       "      <td>Ethanol</td>\n",
       "      <td>370.0</td>\n",
       "      <td>394511</td>\n",
       "      <td>[{'id': 393979}]</td>\n",
       "      <td>None</td>\n",
       "      <td>g3</td>\n",
       "      <td>r1dd37mcxv5pf4</td>\n",
       "    </tr>\n",
       "    <tr>\n",
       "      <th>13</th>\n",
       "      <td>NaN</td>\n",
       "      <td>NaN</td>\n",
       "      <td>NaN</td>\n",
       "      <td>NaN</td>\n",
       "      <td>NaN</td>\n",
       "      <td>NaN</td>\n",
       "      <td>NaN</td>\n",
       "      <td>83b27fd219b6956ddc7410af0315525fcb31121f</td>\n",
       "      <td>data/transcriptic/fcs/CellDeath-EtOH-07-25-201...</td>\n",
       "      <td>NaN</td>\n",
       "      <td>NaN</td>\n",
       "      <td>NaN</td>\n",
       "      <td>NaN</td>\n",
       "      <td>None</td>\n",
       "      <td>h12</td>\n",
       "      <td>r1dd37mcxv5pf4</td>\n",
       "    </tr>\n",
       "    <tr>\n",
       "      <th>14</th>\n",
       "      <td>96-pcr</td>\n",
       "      <td>{}</td>\n",
       "      <td>{'qty': 1000.0, 'units': 'uL'}</td>\n",
       "      <td>{'YPAD': {'item_id': 378596, 'item_concentrati...</td>\n",
       "      <td>7/8</td>\n",
       "      <td>cold_80</td>\n",
       "      <td>{'S288c_a': {'item_id': 389331, 'item_concentr...</td>\n",
       "      <td>7a7c0b5b4488e15249bb5915d2cbb20ec8d21e09</td>\n",
       "      <td>data/transcriptic/fcs/CellDeath-EtOH-07-25-201...</td>\n",
       "      <td>Ethanol</td>\n",
       "      <td>570.0</td>\n",
       "      <td>394511</td>\n",
       "      <td>[{'id': 393978}]</td>\n",
       "      <td>None</td>\n",
       "      <td>g2</td>\n",
       "      <td>r1dd37mcxv5pf4</td>\n",
       "    </tr>\n",
       "    <tr>\n",
       "      <th>15</th>\n",
       "      <td>96-pcr</td>\n",
       "      <td>{}</td>\n",
       "      <td>{'qty': 1000.0, 'units': 'uL'}</td>\n",
       "      <td>{'YPAD': {'item_id': 378596, 'item_concentrati...</td>\n",
       "      <td>6/8</td>\n",
       "      <td>cold_80</td>\n",
       "      <td>{'S288c_a': {'item_id': 389331, 'item_concentr...</td>\n",
       "      <td>b822e5b27740a839846c51f33f4e75ae898c00e5</td>\n",
       "      <td>data/transcriptic/fcs/CellDeath-EtOH-07-25-201...</td>\n",
       "      <td>Ethanol</td>\n",
       "      <td>105.0</td>\n",
       "      <td>394511</td>\n",
       "      <td>[{'id': 393973}]</td>\n",
       "      <td>None</td>\n",
       "      <td>f6</td>\n",
       "      <td>r1dd37mcxv5pf4</td>\n",
       "    </tr>\n",
       "    <tr>\n",
       "      <th>16</th>\n",
       "      <td>96-pcr</td>\n",
       "      <td>{}</td>\n",
       "      <td>{'qty': 1000.0, 'units': 'uL'}</td>\n",
       "      <td>{'YPAD': {'item_id': 378596, 'item_concentrati...</td>\n",
       "      <td>5/8</td>\n",
       "      <td>cold_80</td>\n",
       "      <td>{'S288c_a': {'item_id': 389331, 'item_concentr...</td>\n",
       "      <td>0225004128a16fa6fdbbf66edfaef3c427c1e9c0</td>\n",
       "      <td>data/transcriptic/fcs/CellDeath-EtOH-07-25-201...</td>\n",
       "      <td>Ethanol</td>\n",
       "      <td>29.0</td>\n",
       "      <td>394511</td>\n",
       "      <td>[{'id': 393966}]</td>\n",
       "      <td>None</td>\n",
       "      <td>e8</td>\n",
       "      <td>r1dd37mcxv5pf4</td>\n",
       "    </tr>\n",
       "    <tr>\n",
       "      <th>17</th>\n",
       "      <td>96-pcr</td>\n",
       "      <td>{}</td>\n",
       "      <td>{'qty': 1000.0, 'units': 'uL'}</td>\n",
       "      <td>{'YPAD': {'item_id': 378596, 'item_concentrati...</td>\n",
       "      <td>6/8</td>\n",
       "      <td>cold_80</td>\n",
       "      <td>{'S288c_a': {'item_id': 389331, 'item_concentr...</td>\n",
       "      <td>890b933781037bb1bf9abe161d168ffaa023680f</td>\n",
       "      <td>data/transcriptic/fcs/CellDeath-EtOH-07-25-201...</td>\n",
       "      <td>Ethanol</td>\n",
       "      <td>250.0</td>\n",
       "      <td>394511</td>\n",
       "      <td>[{'id': 393971}]</td>\n",
       "      <td>None</td>\n",
       "      <td>f4</td>\n",
       "      <td>r1dd37mcxv5pf4</td>\n",
       "    </tr>\n",
       "    <tr>\n",
       "      <th>18</th>\n",
       "      <td>NaN</td>\n",
       "      <td>NaN</td>\n",
       "      <td>NaN</td>\n",
       "      <td>NaN</td>\n",
       "      <td>NaN</td>\n",
       "      <td>NaN</td>\n",
       "      <td>NaN</td>\n",
       "      <td>27d227ac5c89fc4618ff6af54be87653c85b6d3b</td>\n",
       "      <td>data/transcriptic/fcs/CellDeath-EtOH-07-25-201...</td>\n",
       "      <td>NaN</td>\n",
       "      <td>NaN</td>\n",
       "      <td>NaN</td>\n",
       "      <td>NaN</td>\n",
       "      <td>None</td>\n",
       "      <td>h10</td>\n",
       "      <td>r1dd37mcxv5pf4</td>\n",
       "    </tr>\n",
       "    <tr>\n",
       "      <th>19</th>\n",
       "      <td>NaN</td>\n",
       "      <td>NaN</td>\n",
       "      <td>NaN</td>\n",
       "      <td>NaN</td>\n",
       "      <td>NaN</td>\n",
       "      <td>NaN</td>\n",
       "      <td>NaN</td>\n",
       "      <td>5e24f3fa58547d506366dafbdd64091a3b697186</td>\n",
       "      <td>data/transcriptic/fcs/CellDeath-EtOH-07-25-201...</td>\n",
       "      <td>NaN</td>\n",
       "      <td>NaN</td>\n",
       "      <td>NaN</td>\n",
       "      <td>NaN</td>\n",
       "      <td>None</td>\n",
       "      <td>h11</td>\n",
       "      <td>r1dd37mcxv5pf4</td>\n",
       "    </tr>\n",
       "    <tr>\n",
       "      <th>20</th>\n",
       "      <td>96-pcr</td>\n",
       "      <td>{}</td>\n",
       "      <td>{'qty': 1000.0, 'units': 'uL'}</td>\n",
       "      <td>{'YPAD': {'item_id': 378596, 'item_concentrati...</td>\n",
       "      <td>6/8</td>\n",
       "      <td>cold_80</td>\n",
       "      <td>{'S288c_a': {'item_id': 389331, 'item_concentr...</td>\n",
       "      <td>83701b2afa400cc6db7e575d04b2e1feba067cca</td>\n",
       "      <td>data/transcriptic/fcs/CellDeath-EtOH-07-25-201...</td>\n",
       "      <td>Ethanol</td>\n",
       "      <td>170.0</td>\n",
       "      <td>394511</td>\n",
       "      <td>[{'id': 393972}]</td>\n",
       "      <td>None</td>\n",
       "      <td>f5</td>\n",
       "      <td>r1dd37mcxv5pf4</td>\n",
       "    </tr>\n",
       "    <tr>\n",
       "      <th>21</th>\n",
       "      <td>96-pcr</td>\n",
       "      <td>{}</td>\n",
       "      <td>{'qty': 1000.0, 'units': 'uL'}</td>\n",
       "      <td>{'YPAD': {'item_id': 378596, 'item_concentrati...</td>\n",
       "      <td>7/8</td>\n",
       "      <td>cold_80</td>\n",
       "      <td>{'S288c_a': {'item_id': 389331, 'item_concentr...</td>\n",
       "      <td>f0c5f46e0a85faaf23917d6ba1d471dae758031a</td>\n",
       "      <td>data/transcriptic/fcs/CellDeath-EtOH-07-25-201...</td>\n",
       "      <td>Ethanol</td>\n",
       "      <td>980.0</td>\n",
       "      <td>394511</td>\n",
       "      <td>[{'id': 393977}]</td>\n",
       "      <td>None</td>\n",
       "      <td>g1</td>\n",
       "      <td>r1dd37mcxv5pf4</td>\n",
       "    </tr>\n",
       "    <tr>\n",
       "      <th>22</th>\n",
       "      <td>96-pcr</td>\n",
       "      <td>{}</td>\n",
       "      <td>{'qty': 1000.0, 'units': 'uL'}</td>\n",
       "      <td>{'YPAD': {'item_id': 378596, 'item_concentrati...</td>\n",
       "      <td>5/8</td>\n",
       "      <td>cold_80</td>\n",
       "      <td>{'S288c_a': {'item_id': 389331, 'item_concentr...</td>\n",
       "      <td>7648359887d0c495e0edd406827ced5c34e381ca</td>\n",
       "      <td>data/transcriptic/fcs/CellDeath-EtOH-07-25-201...</td>\n",
       "      <td>Ethanol</td>\n",
       "      <td>0.0</td>\n",
       "      <td>394511</td>\n",
       "      <td>[{'id': 393967}]</td>\n",
       "      <td>None</td>\n",
       "      <td>e9</td>\n",
       "      <td>r1dd37mcxv5pf4</td>\n",
       "    </tr>\n",
       "    <tr>\n",
       "      <th>23</th>\n",
       "      <td>96-pcr</td>\n",
       "      <td>{}</td>\n",
       "      <td>{'qty': 1000.0, 'units': 'uL'}</td>\n",
       "      <td>{'YPAD': {'item_id': 378596, 'item_concentrati...</td>\n",
       "      <td>7/8</td>\n",
       "      <td>cold_80</td>\n",
       "      <td>{'S288c_a': {'item_id': 389331, 'item_concentr...</td>\n",
       "      <td>d0c7c280de826d792070a32d97cf3bf8ff3688bc</td>\n",
       "      <td>data/transcriptic/fcs/CellDeath-EtOH-07-25-201...</td>\n",
       "      <td>Ethanol</td>\n",
       "      <td>170.0</td>\n",
       "      <td>394511</td>\n",
       "      <td>[{'id': 393981}]</td>\n",
       "      <td>None</td>\n",
       "      <td>g5</td>\n",
       "      <td>r1dd37mcxv5pf4</td>\n",
       "    </tr>\n",
       "    <tr>\n",
       "      <th>24</th>\n",
       "      <td>96-pcr</td>\n",
       "      <td>{}</td>\n",
       "      <td>{'qty': 1000.0, 'units': 'uL'}</td>\n",
       "      <td>{'YPAD': {'item_id': 378596, 'item_concentrati...</td>\n",
       "      <td>6/8</td>\n",
       "      <td>cold_80</td>\n",
       "      <td>{'S288c_a': {'item_id': 389331, 'item_concentr...</td>\n",
       "      <td>36e73bd202cf71077a04a19bf63ec4703fd81771</td>\n",
       "      <td>data/transcriptic/fcs/CellDeath-EtOH-07-25-201...</td>\n",
       "      <td>Ethanol</td>\n",
       "      <td>980.0</td>\n",
       "      <td>394511</td>\n",
       "      <td>[{'id': 393968}]</td>\n",
       "      <td>None</td>\n",
       "      <td>f1</td>\n",
       "      <td>r1dd37mcxv5pf4</td>\n",
       "    </tr>\n",
       "    <tr>\n",
       "      <th>25</th>\n",
       "      <td>96-pcr</td>\n",
       "      <td>{}</td>\n",
       "      <td>{'qty': 1000.0, 'units': 'uL'}</td>\n",
       "      <td>{'YPAD': {'item_id': 378596, 'item_concentrati...</td>\n",
       "      <td>4/8</td>\n",
       "      <td>cold_80</td>\n",
       "      <td>{'S288c_a': {'item_id': 389331, 'item_concentr...</td>\n",
       "      <td>6be0ce198b7277cccc9deff083f03b5da5b32eed</td>\n",
       "      <td>data/transcriptic/fcs/CellDeath-EtOH-07-25-201...</td>\n",
       "      <td>Ethanol</td>\n",
       "      <td>0.0</td>\n",
       "      <td>394511</td>\n",
       "      <td>[{'id': 393958}]</td>\n",
       "      <td>SYTOX Red Stain</td>\n",
       "      <td>d9</td>\n",
       "      <td>r1dd37mcxv5pf4</td>\n",
       "    </tr>\n",
       "    <tr>\n",
       "      <th>26</th>\n",
       "      <td>96-pcr</td>\n",
       "      <td>{}</td>\n",
       "      <td>{'qty': 1000.0, 'units': 'uL'}</td>\n",
       "      <td>{'YPAD': {'item_id': 378596, 'item_concentrati...</td>\n",
       "      <td>4/8</td>\n",
       "      <td>cold_80</td>\n",
       "      <td>{'S288c_a': {'item_id': 389331, 'item_concentr...</td>\n",
       "      <td>eb507f153700d43ab21587f435d82c0fce02d717</td>\n",
       "      <td>data/transcriptic/fcs/CellDeath-EtOH-07-25-201...</td>\n",
       "      <td>Ethanol</td>\n",
       "      <td>29.0</td>\n",
       "      <td>394511</td>\n",
       "      <td>[{'id': 393957}]</td>\n",
       "      <td>SYTOX Red Stain</td>\n",
       "      <td>d8</td>\n",
       "      <td>r1dd37mcxv5pf4</td>\n",
       "    </tr>\n",
       "    <tr>\n",
       "      <th>27</th>\n",
       "      <td>96-pcr</td>\n",
       "      <td>{}</td>\n",
       "      <td>{'qty': 1000.0, 'units': 'uL'}</td>\n",
       "      <td>{'YPAD': {'item_id': 378596, 'item_concentrati...</td>\n",
       "      <td>7/8</td>\n",
       "      <td>cold_80</td>\n",
       "      <td>{'S288c_a': {'item_id': 389331, 'item_concentr...</td>\n",
       "      <td>09c87be42ff13a8b76e502ff57d40a2494b103cd</td>\n",
       "      <td>data/transcriptic/fcs/CellDeath-EtOH-07-25-201...</td>\n",
       "      <td>Ethanol</td>\n",
       "      <td>250.0</td>\n",
       "      <td>394511</td>\n",
       "      <td>[{'id': 393980}]</td>\n",
       "      <td>None</td>\n",
       "      <td>g4</td>\n",
       "      <td>r1dd37mcxv5pf4</td>\n",
       "    </tr>\n",
       "    <tr>\n",
       "      <th>28</th>\n",
       "      <td>96-pcr</td>\n",
       "      <td>{}</td>\n",
       "      <td>{'qty': 1000.0, 'units': 'uL'}</td>\n",
       "      <td>{'YPAD': {'item_id': 378596, 'item_concentrati...</td>\n",
       "      <td>8/8</td>\n",
       "      <td>cold_80</td>\n",
       "      <td>{'S288c_a': {'item_id': 389331, 'item_concentr...</td>\n",
       "      <td>7e11aeb42bf9b46b1200cacf0fd5f307f29029ce</td>\n",
       "      <td>data/transcriptic/fcs/CellDeath-EtOH-07-25-201...</td>\n",
       "      <td>Ethanol</td>\n",
       "      <td>0.0</td>\n",
       "      <td>394511</td>\n",
       "      <td>[{'id': 393994}]</td>\n",
       "      <td>None</td>\n",
       "      <td>h9</td>\n",
       "      <td>r1dd37mcxv5pf4</td>\n",
       "    </tr>\n",
       "    <tr>\n",
       "      <th>29</th>\n",
       "      <td>96-pcr</td>\n",
       "      <td>{}</td>\n",
       "      <td>{'qty': 1000.0, 'units': 'uL'}</td>\n",
       "      <td>{'YPAD': {'item_id': 378596, 'item_concentrati...</td>\n",
       "      <td>6/8</td>\n",
       "      <td>cold_80</td>\n",
       "      <td>{'S288c_a': {'item_id': 389331, 'item_concentr...</td>\n",
       "      <td>a673a83a6c2b8ae93af926474f1cd86b6652e85f</td>\n",
       "      <td>data/transcriptic/fcs/CellDeath-EtOH-07-25-201...</td>\n",
       "      <td>Ethanol</td>\n",
       "      <td>570.0</td>\n",
       "      <td>394511</td>\n",
       "      <td>[{'id': 393969}]</td>\n",
       "      <td>None</td>\n",
       "      <td>f2</td>\n",
       "      <td>r1dd37mcxv5pf4</td>\n",
       "    </tr>\n",
       "    <tr>\n",
       "      <th>...</th>\n",
       "      <td>...</td>\n",
       "      <td>...</td>\n",
       "      <td>...</td>\n",
       "      <td>...</td>\n",
       "      <td>...</td>\n",
       "      <td>...</td>\n",
       "      <td>...</td>\n",
       "      <td>...</td>\n",
       "      <td>...</td>\n",
       "      <td>...</td>\n",
       "      <td>...</td>\n",
       "      <td>...</td>\n",
       "      <td>...</td>\n",
       "      <td>...</td>\n",
       "      <td>...</td>\n",
       "      <td>...</td>\n",
       "    </tr>\n",
       "    <tr>\n",
       "      <th>66</th>\n",
       "      <td>96-pcr</td>\n",
       "      <td>{}</td>\n",
       "      <td>{'qty': 1000.0, 'units': 'uL'}</td>\n",
       "      <td>{'YPAD': {'item_id': 378596, 'item_concentrati...</td>\n",
       "      <td>4/8</td>\n",
       "      <td>cold_80</td>\n",
       "      <td>{'S288c_a': {'item_id': 389331, 'item_concentr...</td>\n",
       "      <td>d5279adbee101008e4b66c51cee3cf2f89da4a9f</td>\n",
       "      <td>data/transcriptic/fcs/CellDeath-EtOH-07-25-201...</td>\n",
       "      <td>Ethanol</td>\n",
       "      <td>570.0</td>\n",
       "      <td>394511</td>\n",
       "      <td>[{'id': 393951}]</td>\n",
       "      <td>SYTOX Red Stain</td>\n",
       "      <td>d2</td>\n",
       "      <td>r1dd37mcxv5pf4</td>\n",
       "    </tr>\n",
       "    <tr>\n",
       "      <th>67</th>\n",
       "      <td>96-pcr</td>\n",
       "      <td>{}</td>\n",
       "      <td>{'qty': 1000.0, 'units': 'uL'}</td>\n",
       "      <td>{'YPAD': {'item_id': 378596, 'item_concentrati...</td>\n",
       "      <td>8/8</td>\n",
       "      <td>cold_80</td>\n",
       "      <td>{'S288c_a': {'item_id': 389331, 'item_concentr...</td>\n",
       "      <td>1ebf94ce68c4a6cce9e8ef2e2e5f9a32ba7fa7ae</td>\n",
       "      <td>data/transcriptic/fcs/CellDeath-EtOH-07-25-201...</td>\n",
       "      <td>Ethanol</td>\n",
       "      <td>980.0</td>\n",
       "      <td>394511</td>\n",
       "      <td>[{'id': 393986}]</td>\n",
       "      <td>None</td>\n",
       "      <td>h1</td>\n",
       "      <td>r1dd37mcxv5pf4</td>\n",
       "    </tr>\n",
       "    <tr>\n",
       "      <th>68</th>\n",
       "      <td>96-pcr</td>\n",
       "      <td>{}</td>\n",
       "      <td>{'qty': 1000.0, 'units': 'uL'}</td>\n",
       "      <td>{'YPAD': {'item_id': 378596, 'item_concentrati...</td>\n",
       "      <td>1/8</td>\n",
       "      <td>cold_80</td>\n",
       "      <td>{'S288c_a': {'item_id': 389331, 'item_concentr...</td>\n",
       "      <td>ef1e2e6abc65fafe221fcc95b4bdd8cbca95cc5b</td>\n",
       "      <td>data/transcriptic/fcs/CellDeath-EtOH-07-25-201...</td>\n",
       "      <td>Ethanol</td>\n",
       "      <td>0.0</td>\n",
       "      <td>394511</td>\n",
       "      <td>[{'id': 393931}]</td>\n",
       "      <td>SYTOX Red Stain</td>\n",
       "      <td>a9</td>\n",
       "      <td>r1dd37mcxv5pf4</td>\n",
       "    </tr>\n",
       "    <tr>\n",
       "      <th>69</th>\n",
       "      <td>96-pcr</td>\n",
       "      <td>{}</td>\n",
       "      <td>{'qty': 1000.0, 'units': 'uL'}</td>\n",
       "      <td>{'YPAD': {'item_id': 378596, 'item_concentrati...</td>\n",
       "      <td>2/8</td>\n",
       "      <td>cold_80</td>\n",
       "      <td>{'S288c_a': {'item_id': 389331, 'item_concentr...</td>\n",
       "      <td>e9f9e2f83e03b75c59a6a0a27917f3646e2b136c</td>\n",
       "      <td>data/transcriptic/fcs/CellDeath-EtOH-07-25-201...</td>\n",
       "      <td>Ethanol</td>\n",
       "      <td>170.0</td>\n",
       "      <td>394511</td>\n",
       "      <td>[{'id': 393936}]</td>\n",
       "      <td>SYTOX Red Stain</td>\n",
       "      <td>b5</td>\n",
       "      <td>r1dd37mcxv5pf4</td>\n",
       "    </tr>\n",
       "    <tr>\n",
       "      <th>70</th>\n",
       "      <td>96-pcr</td>\n",
       "      <td>{}</td>\n",
       "      <td>{'qty': 1000.0, 'units': 'uL'}</td>\n",
       "      <td>{'YPAD': {'item_id': 378596, 'item_concentrati...</td>\n",
       "      <td>3/8</td>\n",
       "      <td>cold_80</td>\n",
       "      <td>{'S288c_a': {'item_id': 389331, 'item_concentr...</td>\n",
       "      <td>52a9ea89025e6273773a0a394317a442deb39c54</td>\n",
       "      <td>data/transcriptic/fcs/CellDeath-EtOH-07-25-201...</td>\n",
       "      <td>Ethanol</td>\n",
       "      <td>980.0</td>\n",
       "      <td>394511</td>\n",
       "      <td>[{'id': 393941}]</td>\n",
       "      <td>SYTOX Red Stain</td>\n",
       "      <td>c1</td>\n",
       "      <td>r1dd37mcxv5pf4</td>\n",
       "    </tr>\n",
       "    <tr>\n",
       "      <th>71</th>\n",
       "      <td>NaN</td>\n",
       "      <td>NaN</td>\n",
       "      <td>NaN</td>\n",
       "      <td>NaN</td>\n",
       "      <td>NaN</td>\n",
       "      <td>NaN</td>\n",
       "      <td>NaN</td>\n",
       "      <td>d3e6d244764df80032b3c5af735a0f3b80648514</td>\n",
       "      <td>data/transcriptic/fcs/CellDeath-EtOH-07-25-201...</td>\n",
       "      <td>NaN</td>\n",
       "      <td>NaN</td>\n",
       "      <td>NaN</td>\n",
       "      <td>NaN</td>\n",
       "      <td>SYTOX Red Stain</td>\n",
       "      <td>c12</td>\n",
       "      <td>r1dd37mcxv5pf4</td>\n",
       "    </tr>\n",
       "    <tr>\n",
       "      <th>72</th>\n",
       "      <td>NaN</td>\n",
       "      <td>NaN</td>\n",
       "      <td>NaN</td>\n",
       "      <td>NaN</td>\n",
       "      <td>NaN</td>\n",
       "      <td>NaN</td>\n",
       "      <td>NaN</td>\n",
       "      <td>c84b36e652788507ea519087559230af11e6aefa</td>\n",
       "      <td>data/transcriptic/fcs/CellDeath-EtOH-07-25-201...</td>\n",
       "      <td>NaN</td>\n",
       "      <td>NaN</td>\n",
       "      <td>NaN</td>\n",
       "      <td>NaN</td>\n",
       "      <td>SYTOX Red Stain</td>\n",
       "      <td>a10</td>\n",
       "      <td>r1dd37mcxv5pf4</td>\n",
       "    </tr>\n",
       "    <tr>\n",
       "      <th>73</th>\n",
       "      <td>NaN</td>\n",
       "      <td>NaN</td>\n",
       "      <td>NaN</td>\n",
       "      <td>NaN</td>\n",
       "      <td>NaN</td>\n",
       "      <td>NaN</td>\n",
       "      <td>NaN</td>\n",
       "      <td>472a36fa08575b116694eebb6055d876c8fecf45</td>\n",
       "      <td>data/transcriptic/fcs/CellDeath-EtOH-07-25-201...</td>\n",
       "      <td>NaN</td>\n",
       "      <td>NaN</td>\n",
       "      <td>NaN</td>\n",
       "      <td>NaN</td>\n",
       "      <td>SYTOX Red Stain</td>\n",
       "      <td>a11</td>\n",
       "      <td>r1dd37mcxv5pf4</td>\n",
       "    </tr>\n",
       "    <tr>\n",
       "      <th>74</th>\n",
       "      <td>96-pcr</td>\n",
       "      <td>{}</td>\n",
       "      <td>{'qty': 1000.0, 'units': 'uL'}</td>\n",
       "      <td>{'YPAD': {'item_id': 378596, 'item_concentrati...</td>\n",
       "      <td>2/8</td>\n",
       "      <td>cold_80</td>\n",
       "      <td>{'S288c_a': {'item_id': 389331, 'item_concentr...</td>\n",
       "      <td>6e89db7761326455c056b1195452e182a5d6d68c</td>\n",
       "      <td>data/transcriptic/fcs/CellDeath-EtOH-07-25-201...</td>\n",
       "      <td>Ethanol</td>\n",
       "      <td>250.0</td>\n",
       "      <td>394511</td>\n",
       "      <td>[{'id': 393935}]</td>\n",
       "      <td>SYTOX Red Stain</td>\n",
       "      <td>b4</td>\n",
       "      <td>r1dd37mcxv5pf4</td>\n",
       "    </tr>\n",
       "    <tr>\n",
       "      <th>75</th>\n",
       "      <td>96-pcr</td>\n",
       "      <td>{}</td>\n",
       "      <td>{'qty': 1000.0, 'units': 'uL'}</td>\n",
       "      <td>{'YPAD': {'item_id': 378596, 'item_concentrati...</td>\n",
       "      <td>1/8</td>\n",
       "      <td>cold_80</td>\n",
       "      <td>{'S288c_a': {'item_id': 389331, 'item_concentr...</td>\n",
       "      <td>30862a10d544081d914ec3f4d969b1a90cc5112b</td>\n",
       "      <td>data/transcriptic/fcs/CellDeath-EtOH-07-25-201...</td>\n",
       "      <td>Ethanol</td>\n",
       "      <td>29.0</td>\n",
       "      <td>394511</td>\n",
       "      <td>[{'id': 393930}]</td>\n",
       "      <td>SYTOX Red Stain</td>\n",
       "      <td>a8</td>\n",
       "      <td>r1dd37mcxv5pf4</td>\n",
       "    </tr>\n",
       "    <tr>\n",
       "      <th>76</th>\n",
       "      <td>96-pcr</td>\n",
       "      <td>{}</td>\n",
       "      <td>{'qty': 1000.0, 'units': 'uL'}</td>\n",
       "      <td>{'YPAD': {'item_id': 378596, 'item_concentrati...</td>\n",
       "      <td>3/8</td>\n",
       "      <td>cold_80</td>\n",
       "      <td>{'S288c_a': {'item_id': 389331, 'item_concentr...</td>\n",
       "      <td>335b4e89139b15ff3058a9585bf9b5eb5a4bef8a</td>\n",
       "      <td>data/transcriptic/fcs/CellDeath-EtOH-07-25-201...</td>\n",
       "      <td>Ethanol</td>\n",
       "      <td>570.0</td>\n",
       "      <td>394511</td>\n",
       "      <td>[{'id': 393942}]</td>\n",
       "      <td>SYTOX Red Stain</td>\n",
       "      <td>c2</td>\n",
       "      <td>r1dd37mcxv5pf4</td>\n",
       "    </tr>\n",
       "    <tr>\n",
       "      <th>77</th>\n",
       "      <td>96-pcr</td>\n",
       "      <td>{}</td>\n",
       "      <td>{'qty': 1000.0, 'units': 'uL'}</td>\n",
       "      <td>{'YPAD': {'item_id': 378596, 'item_concentrati...</td>\n",
       "      <td>2/8</td>\n",
       "      <td>cold_80</td>\n",
       "      <td>{'S288c_a': {'item_id': 389331, 'item_concentr...</td>\n",
       "      <td>d2e70f236853b3ca23394bbdaa3db7c66ddbef8f</td>\n",
       "      <td>data/transcriptic/fcs/CellDeath-EtOH-07-25-201...</td>\n",
       "      <td>Ethanol</td>\n",
       "      <td>105.0</td>\n",
       "      <td>394511</td>\n",
       "      <td>[{'id': 393937}]</td>\n",
       "      <td>SYTOX Red Stain</td>\n",
       "      <td>b6</td>\n",
       "      <td>r1dd37mcxv5pf4</td>\n",
       "    </tr>\n",
       "    <tr>\n",
       "      <th>78</th>\n",
       "      <td>NaN</td>\n",
       "      <td>NaN</td>\n",
       "      <td>NaN</td>\n",
       "      <td>NaN</td>\n",
       "      <td>NaN</td>\n",
       "      <td>NaN</td>\n",
       "      <td>NaN</td>\n",
       "      <td>437fd2751d6b50cec521bb1f08778c68600731e6</td>\n",
       "      <td>data/transcriptic/fcs/CellDeath-EtOH-07-25-201...</td>\n",
       "      <td>NaN</td>\n",
       "      <td>NaN</td>\n",
       "      <td>NaN</td>\n",
       "      <td>NaN</td>\n",
       "      <td>SYTOX Red Stain</td>\n",
       "      <td>c11</td>\n",
       "      <td>r1dd37mcxv5pf4</td>\n",
       "    </tr>\n",
       "    <tr>\n",
       "      <th>79</th>\n",
       "      <td>NaN</td>\n",
       "      <td>NaN</td>\n",
       "      <td>NaN</td>\n",
       "      <td>NaN</td>\n",
       "      <td>NaN</td>\n",
       "      <td>NaN</td>\n",
       "      <td>NaN</td>\n",
       "      <td>44768e8a796020afbe61b94600531057d3d6574a</td>\n",
       "      <td>data/transcriptic/fcs/CellDeath-EtOH-07-25-201...</td>\n",
       "      <td>NaN</td>\n",
       "      <td>NaN</td>\n",
       "      <td>NaN</td>\n",
       "      <td>NaN</td>\n",
       "      <td>SYTOX Red Stain</td>\n",
       "      <td>a12</td>\n",
       "      <td>r1dd37mcxv5pf4</td>\n",
       "    </tr>\n",
       "    <tr>\n",
       "      <th>80</th>\n",
       "      <td>NaN</td>\n",
       "      <td>NaN</td>\n",
       "      <td>NaN</td>\n",
       "      <td>NaN</td>\n",
       "      <td>NaN</td>\n",
       "      <td>NaN</td>\n",
       "      <td>NaN</td>\n",
       "      <td>782e97d54436ce55d0ce1c10d6cc4e2ac1cd6f1f</td>\n",
       "      <td>data/transcriptic/fcs/CellDeath-EtOH-07-25-201...</td>\n",
       "      <td>NaN</td>\n",
       "      <td>NaN</td>\n",
       "      <td>NaN</td>\n",
       "      <td>NaN</td>\n",
       "      <td>SYTOX Red Stain</td>\n",
       "      <td>c10</td>\n",
       "      <td>r1dd37mcxv5pf4</td>\n",
       "    </tr>\n",
       "    <tr>\n",
       "      <th>81</th>\n",
       "      <td>96-pcr</td>\n",
       "      <td>{}</td>\n",
       "      <td>{'qty': 1000.0, 'units': 'uL'}</td>\n",
       "      <td>{'YPAD': {'item_id': 378596, 'item_concentrati...</td>\n",
       "      <td>2/8</td>\n",
       "      <td>cold_80</td>\n",
       "      <td>{'S288c_a': {'item_id': 389331, 'item_concentr...</td>\n",
       "      <td>dc731c99d5b9d641e8ccc95ae535e322bd2c9cba</td>\n",
       "      <td>data/transcriptic/fcs/CellDeath-EtOH-07-25-201...</td>\n",
       "      <td>Ethanol</td>\n",
       "      <td>64.0</td>\n",
       "      <td>394511</td>\n",
       "      <td>[{'id': 393938}]</td>\n",
       "      <td>SYTOX Red Stain</td>\n",
       "      <td>b7</td>\n",
       "      <td>r1dd37mcxv5pf4</td>\n",
       "    </tr>\n",
       "    <tr>\n",
       "      <th>82</th>\n",
       "      <td>96-pcr</td>\n",
       "      <td>{}</td>\n",
       "      <td>{'qty': 1000.0, 'units': 'uL'}</td>\n",
       "      <td>{'YPAD': {'item_id': 378596, 'item_concentrati...</td>\n",
       "      <td>3/8</td>\n",
       "      <td>cold_80</td>\n",
       "      <td>{'S288c_a': {'item_id': 389331, 'item_concentr...</td>\n",
       "      <td>1f4293957678d23e7aee27c2ff2551a92211b517</td>\n",
       "      <td>data/transcriptic/fcs/CellDeath-EtOH-07-25-201...</td>\n",
       "      <td>Ethanol</td>\n",
       "      <td>370.0</td>\n",
       "      <td>394511</td>\n",
       "      <td>[{'id': 393943}]</td>\n",
       "      <td>SYTOX Red Stain</td>\n",
       "      <td>c3</td>\n",
       "      <td>r1dd37mcxv5pf4</td>\n",
       "    </tr>\n",
       "    <tr>\n",
       "      <th>83</th>\n",
       "      <td>NaN</td>\n",
       "      <td>NaN</td>\n",
       "      <td>NaN</td>\n",
       "      <td>NaN</td>\n",
       "      <td>NaN</td>\n",
       "      <td>NaN</td>\n",
       "      <td>NaN</td>\n",
       "      <td>21392407c506165f5b9072f6d2b527c372cae8a3</td>\n",
       "      <td>data/transcriptic/fcs/CellDeath-EtOH-07-25-201...</td>\n",
       "      <td>NaN</td>\n",
       "      <td>NaN</td>\n",
       "      <td>NaN</td>\n",
       "      <td>NaN</td>\n",
       "      <td>None</td>\n",
       "      <td>g10</td>\n",
       "      <td>r1dd37mcxv5pf4</td>\n",
       "    </tr>\n",
       "    <tr>\n",
       "      <th>84</th>\n",
       "      <td>96-pcr</td>\n",
       "      <td>{}</td>\n",
       "      <td>{'qty': 1000.0, 'units': 'uL'}</td>\n",
       "      <td>{'YPAD': {'item_id': 378596, 'item_concentrati...</td>\n",
       "      <td>3/8</td>\n",
       "      <td>cold_80</td>\n",
       "      <td>{'S288c_a': {'item_id': 389331, 'item_concentr...</td>\n",
       "      <td>31b0ea7b94e18bbdf3c706e85684edcd2c99eb6d</td>\n",
       "      <td>data/transcriptic/fcs/CellDeath-EtOH-07-25-201...</td>\n",
       "      <td>Ethanol</td>\n",
       "      <td>64.0</td>\n",
       "      <td>394511</td>\n",
       "      <td>[{'id': 393947}]</td>\n",
       "      <td>SYTOX Red Stain</td>\n",
       "      <td>c7</td>\n",
       "      <td>r1dd37mcxv5pf4</td>\n",
       "    </tr>\n",
       "    <tr>\n",
       "      <th>85</th>\n",
       "      <td>96-pcr</td>\n",
       "      <td>{}</td>\n",
       "      <td>{'qty': 1000.0, 'units': 'uL'}</td>\n",
       "      <td>{'YPAD': {'item_id': 378596, 'item_concentrati...</td>\n",
       "      <td>2/8</td>\n",
       "      <td>cold_80</td>\n",
       "      <td>{'S288c_a': {'item_id': 389331, 'item_concentr...</td>\n",
       "      <td>ba55e9e360df0c7296cdd19251975895ed2315fb</td>\n",
       "      <td>data/transcriptic/fcs/CellDeath-EtOH-07-25-201...</td>\n",
       "      <td>Ethanol</td>\n",
       "      <td>370.0</td>\n",
       "      <td>394511</td>\n",
       "      <td>[{'id': 393934}]</td>\n",
       "      <td>SYTOX Red Stain</td>\n",
       "      <td>b3</td>\n",
       "      <td>r1dd37mcxv5pf4</td>\n",
       "    </tr>\n",
       "    <tr>\n",
       "      <th>86</th>\n",
       "      <td>NaN</td>\n",
       "      <td>NaN</td>\n",
       "      <td>NaN</td>\n",
       "      <td>NaN</td>\n",
       "      <td>NaN</td>\n",
       "      <td>NaN</td>\n",
       "      <td>NaN</td>\n",
       "      <td>1643fa26a9b1c0087e498decd3f4f125c32bffe4</td>\n",
       "      <td>data/transcriptic/fcs/CellDeath-EtOH-07-25-201...</td>\n",
       "      <td>NaN</td>\n",
       "      <td>NaN</td>\n",
       "      <td>NaN</td>\n",
       "      <td>NaN</td>\n",
       "      <td>None</td>\n",
       "      <td>e12</td>\n",
       "      <td>r1dd37mcxv5pf4</td>\n",
       "    </tr>\n",
       "    <tr>\n",
       "      <th>87</th>\n",
       "      <td>96-pcr</td>\n",
       "      <td>{}</td>\n",
       "      <td>{'qty': 1000.0, 'units': 'uL'}</td>\n",
       "      <td>{'YPAD': {'item_id': 378596, 'item_concentrati...</td>\n",
       "      <td>2/8</td>\n",
       "      <td>cold_80</td>\n",
       "      <td>{'S288c_a': {'item_id': 389331, 'item_concentr...</td>\n",
       "      <td>54fae35b5071193b9d645c51b7e2025bdd14fa88</td>\n",
       "      <td>data/transcriptic/fcs/CellDeath-EtOH-07-25-201...</td>\n",
       "      <td>Ethanol</td>\n",
       "      <td>570.0</td>\n",
       "      <td>394511</td>\n",
       "      <td>[{'id': 393933}]</td>\n",
       "      <td>SYTOX Red Stain</td>\n",
       "      <td>b2</td>\n",
       "      <td>r1dd37mcxv5pf4</td>\n",
       "    </tr>\n",
       "    <tr>\n",
       "      <th>88</th>\n",
       "      <td>96-pcr</td>\n",
       "      <td>{}</td>\n",
       "      <td>{'qty': 1000.0, 'units': 'uL'}</td>\n",
       "      <td>{'YPAD': {'item_id': 378596, 'item_concentrati...</td>\n",
       "      <td>3/8</td>\n",
       "      <td>cold_80</td>\n",
       "      <td>{'S288c_a': {'item_id': 389331, 'item_concentr...</td>\n",
       "      <td>6fc02eb0d7d738bb8f5ea717c75204861c905b0e</td>\n",
       "      <td>data/transcriptic/fcs/CellDeath-EtOH-07-25-201...</td>\n",
       "      <td>Ethanol</td>\n",
       "      <td>105.0</td>\n",
       "      <td>394511</td>\n",
       "      <td>[{'id': 393946}]</td>\n",
       "      <td>SYTOX Red Stain</td>\n",
       "      <td>c6</td>\n",
       "      <td>r1dd37mcxv5pf4</td>\n",
       "    </tr>\n",
       "    <tr>\n",
       "      <th>89</th>\n",
       "      <td>NaN</td>\n",
       "      <td>NaN</td>\n",
       "      <td>NaN</td>\n",
       "      <td>NaN</td>\n",
       "      <td>NaN</td>\n",
       "      <td>NaN</td>\n",
       "      <td>NaN</td>\n",
       "      <td>e44cce0315aef190cbc6273006b723a115515ada</td>\n",
       "      <td>data/transcriptic/fcs/CellDeath-EtOH-07-25-201...</td>\n",
       "      <td>NaN</td>\n",
       "      <td>NaN</td>\n",
       "      <td>NaN</td>\n",
       "      <td>NaN</td>\n",
       "      <td>None</td>\n",
       "      <td>g11</td>\n",
       "      <td>r1dd37mcxv5pf4</td>\n",
       "    </tr>\n",
       "    <tr>\n",
       "      <th>90</th>\n",
       "      <td>96-pcr</td>\n",
       "      <td>{}</td>\n",
       "      <td>{'qty': 1000.0, 'units': 'uL'}</td>\n",
       "      <td>{'YPAD': {'item_id': 378596, 'item_concentrati...</td>\n",
       "      <td>3/8</td>\n",
       "      <td>cold_80</td>\n",
       "      <td>{'S288c_a': {'item_id': 389331, 'item_concentr...</td>\n",
       "      <td>b9ad6eadf2d8e5e4d04d053fd0e8dce3730cb874</td>\n",
       "      <td>data/transcriptic/fcs/CellDeath-EtOH-07-25-201...</td>\n",
       "      <td>Ethanol</td>\n",
       "      <td>250.0</td>\n",
       "      <td>394511</td>\n",
       "      <td>[{'id': 393944}]</td>\n",
       "      <td>SYTOX Red Stain</td>\n",
       "      <td>c4</td>\n",
       "      <td>r1dd37mcxv5pf4</td>\n",
       "    </tr>\n",
       "    <tr>\n",
       "      <th>91</th>\n",
       "      <td>NaN</td>\n",
       "      <td>NaN</td>\n",
       "      <td>NaN</td>\n",
       "      <td>NaN</td>\n",
       "      <td>NaN</td>\n",
       "      <td>NaN</td>\n",
       "      <td>NaN</td>\n",
       "      <td>682ec45d28952f008a558c28b095f9efe979bc1c</td>\n",
       "      <td>data/transcriptic/fcs/CellDeath-EtOH-07-25-201...</td>\n",
       "      <td>NaN</td>\n",
       "      <td>NaN</td>\n",
       "      <td>NaN</td>\n",
       "      <td>NaN</td>\n",
       "      <td>None</td>\n",
       "      <td>e11</td>\n",
       "      <td>r1dd37mcxv5pf4</td>\n",
       "    </tr>\n",
       "    <tr>\n",
       "      <th>92</th>\n",
       "      <td>NaN</td>\n",
       "      <td>NaN</td>\n",
       "      <td>NaN</td>\n",
       "      <td>NaN</td>\n",
       "      <td>NaN</td>\n",
       "      <td>NaN</td>\n",
       "      <td>NaN</td>\n",
       "      <td>8227fcf7863f8eb4270043cc36b640845197f0d7</td>\n",
       "      <td>data/transcriptic/fcs/CellDeath-EtOH-07-25-201...</td>\n",
       "      <td>NaN</td>\n",
       "      <td>NaN</td>\n",
       "      <td>NaN</td>\n",
       "      <td>NaN</td>\n",
       "      <td>None</td>\n",
       "      <td>e10</td>\n",
       "      <td>r1dd37mcxv5pf4</td>\n",
       "    </tr>\n",
       "    <tr>\n",
       "      <th>93</th>\n",
       "      <td>96-pcr</td>\n",
       "      <td>{}</td>\n",
       "      <td>{'qty': 1000.0, 'units': 'uL'}</td>\n",
       "      <td>{'YPAD': {'item_id': 378596, 'item_concentrati...</td>\n",
       "      <td>3/8</td>\n",
       "      <td>cold_80</td>\n",
       "      <td>{'S288c_a': {'item_id': 389331, 'item_concentr...</td>\n",
       "      <td>546f1d97d011192e9b5371fecc04b21c398413af</td>\n",
       "      <td>data/transcriptic/fcs/CellDeath-EtOH-07-25-201...</td>\n",
       "      <td>Ethanol</td>\n",
       "      <td>170.0</td>\n",
       "      <td>394511</td>\n",
       "      <td>[{'id': 393945}]</td>\n",
       "      <td>SYTOX Red Stain</td>\n",
       "      <td>c5</td>\n",
       "      <td>r1dd37mcxv5pf4</td>\n",
       "    </tr>\n",
       "    <tr>\n",
       "      <th>94</th>\n",
       "      <td>96-pcr</td>\n",
       "      <td>{}</td>\n",
       "      <td>{'qty': 1000.0, 'units': 'uL'}</td>\n",
       "      <td>{'YPAD': {'item_id': 378596, 'item_concentrati...</td>\n",
       "      <td>2/8</td>\n",
       "      <td>cold_80</td>\n",
       "      <td>{'S288c_a': {'item_id': 389331, 'item_concentr...</td>\n",
       "      <td>b737130328e63747c64752b668a1b487fd8b2955</td>\n",
       "      <td>data/transcriptic/fcs/CellDeath-EtOH-07-25-201...</td>\n",
       "      <td>Ethanol</td>\n",
       "      <td>980.0</td>\n",
       "      <td>394511</td>\n",
       "      <td>[{'id': 393932}]</td>\n",
       "      <td>SYTOX Red Stain</td>\n",
       "      <td>b1</td>\n",
       "      <td>r1dd37mcxv5pf4</td>\n",
       "    </tr>\n",
       "    <tr>\n",
       "      <th>95</th>\n",
       "      <td>NaN</td>\n",
       "      <td>NaN</td>\n",
       "      <td>NaN</td>\n",
       "      <td>NaN</td>\n",
       "      <td>NaN</td>\n",
       "      <td>NaN</td>\n",
       "      <td>NaN</td>\n",
       "      <td>53f15a6a962ccb099c5b6b00e687fd18717a8316</td>\n",
       "      <td>data/transcriptic/fcs/CellDeath-EtOH-07-25-201...</td>\n",
       "      <td>NaN</td>\n",
       "      <td>NaN</td>\n",
       "      <td>NaN</td>\n",
       "      <td>NaN</td>\n",
       "      <td>None</td>\n",
       "      <td>g12</td>\n",
       "      <td>r1dd37mcxv5pf4</td>\n",
       "    </tr>\n",
       "  </tbody>\n",
       "</table>\n",
       "<p>96 rows × 16 columns</p>\n",
       "</div>"
      ],
      "text/plain": [
       "   Container Type Control                  Culture_Volume  \\\n",
       "0          96-pcr      {}  {'qty': 1000.0, 'units': 'uL'}   \n",
       "1          96-pcr      {}  {'qty': 1000.0, 'units': 'uL'}   \n",
       "2          96-pcr      {}  {'qty': 1000.0, 'units': 'uL'}   \n",
       "3          96-pcr      {}  {'qty': 1000.0, 'units': 'uL'}   \n",
       "4          96-pcr      {}  {'qty': 1000.0, 'units': 'uL'}   \n",
       "..            ...     ...                             ...   \n",
       "91            NaN     NaN                             NaN   \n",
       "92            NaN     NaN                             NaN   \n",
       "93         96-pcr      {}  {'qty': 1000.0, 'units': 'uL'}   \n",
       "94         96-pcr      {}  {'qty': 1000.0, 'units': 'uL'}   \n",
       "95            NaN     NaN                             NaN   \n",
       "\n",
       "                                                Media Replicate Storage (C)  \\\n",
       "0   {'YPAD': {'item_id': 378596, 'item_concentrati...       3/8     cold_80   \n",
       "1   {'YPAD': {'item_id': 378596, 'item_concentrati...       1/8     cold_80   \n",
       "2   {'YPAD': {'item_id': 378596, 'item_concentrati...       3/8     cold_80   \n",
       "3   {'YPAD': {'item_id': 378596, 'item_concentrati...       1/8     cold_80   \n",
       "4   {'YPAD': {'item_id': 378596, 'item_concentrati...       1/8     cold_80   \n",
       "..                                                ...       ...         ...   \n",
       "91                                                NaN       NaN         NaN   \n",
       "92                                                NaN       NaN         NaN   \n",
       "93  {'YPAD': {'item_id': 378596, 'item_concentrati...       3/8     cold_80   \n",
       "94  {'YPAD': {'item_id': 378596, 'item_concentrati...       2/8     cold_80   \n",
       "95                                                NaN       NaN         NaN   \n",
       "\n",
       "                                               Strain  \\\n",
       "0   {'S288c_a': {'item_id': 389331, 'item_concentr...   \n",
       "1   {'S288c_a': {'item_id': 389331, 'item_concentr...   \n",
       "2   {'S288c_a': {'item_id': 389331, 'item_concentr...   \n",
       "3   {'S288c_a': {'item_id': 389331, 'item_concentr...   \n",
       "4   {'S288c_a': {'item_id': 389331, 'item_concentr...   \n",
       "..                                                ...   \n",
       "91                                                NaN   \n",
       "92                                                NaN   \n",
       "93  {'S288c_a': {'item_id': 389331, 'item_concentr...   \n",
       "94  {'S288c_a': {'item_id': 389331, 'item_concentr...   \n",
       "95                                                NaN   \n",
       "\n",
       "                                    checksum  \\\n",
       "0   afe43f51e8ab4acf2274d2a339c877c50942ddd0   \n",
       "1   081314b58568f60ffe805f7d75bc680e2873f94f   \n",
       "2   d8dba1d96a606cf0605d4ab02ca33ce75c929605   \n",
       "3   5d5805371b237efff255eef909da8052589c6b0c   \n",
       "4   a1deb04c2d208f29c6764b26fc0fe8eea87d2dc7   \n",
       "..                                       ...   \n",
       "91  682ec45d28952f008a558c28b095f9efe979bc1c   \n",
       "92  8227fcf7863f8eb4270043cc36b640845197f0d7   \n",
       "93  546f1d97d011192e9b5371fecc04b21c398413af   \n",
       "94  b737130328e63747c64752b668a1b487fd8b2955   \n",
       "95  53f15a6a962ccb099c5b6b00e687fd18717a8316   \n",
       "\n",
       "                                             filename     kill  kill_volume  \\\n",
       "0   data/transcriptic/fcs/CellDeath-EtOH-07-25-201...  Ethanol         29.0   \n",
       "1   data/transcriptic/fcs/CellDeath-EtOH-07-25-201...  Ethanol        980.0   \n",
       "2   data/transcriptic/fcs/CellDeath-EtOH-07-25-201...  Ethanol          0.0   \n",
       "3   data/transcriptic/fcs/CellDeath-EtOH-07-25-201...  Ethanol        370.0   \n",
       "4   data/transcriptic/fcs/CellDeath-EtOH-07-25-201...  Ethanol        570.0   \n",
       "..                                                ...      ...          ...   \n",
       "91  data/transcriptic/fcs/CellDeath-EtOH-07-25-201...      NaN          NaN   \n",
       "92  data/transcriptic/fcs/CellDeath-EtOH-07-25-201...      NaN          NaN   \n",
       "93  data/transcriptic/fcs/CellDeath-EtOH-07-25-201...  Ethanol        170.0   \n",
       "94  data/transcriptic/fcs/CellDeath-EtOH-07-25-201...  Ethanol        980.0   \n",
       "95  data/transcriptic/fcs/CellDeath-EtOH-07-25-201...      NaN          NaN   \n",
       "\n",
       "   plate_id            source            stain well   experiment_id  \n",
       "0    394511  [{'id': 393948}]  SYTOX Red Stain   c8  r1dd37mcxv5pf4  \n",
       "1    394511  [{'id': 393923}]  SYTOX Red Stain   a1  r1dd37mcxv5pf4  \n",
       "2    394511  [{'id': 393949}]  SYTOX Red Stain   c9  r1dd37mcxv5pf4  \n",
       "3    394511  [{'id': 393925}]  SYTOX Red Stain   a3  r1dd37mcxv5pf4  \n",
       "4    394511  [{'id': 393924}]  SYTOX Red Stain   a2  r1dd37mcxv5pf4  \n",
       "..      ...               ...              ...  ...             ...  \n",
       "91      NaN               NaN             None  e11  r1dd37mcxv5pf4  \n",
       "92      NaN               NaN             None  e10  r1dd37mcxv5pf4  \n",
       "93   394511  [{'id': 393945}]  SYTOX Red Stain   c5  r1dd37mcxv5pf4  \n",
       "94   394511  [{'id': 393932}]  SYTOX Red Stain   b1  r1dd37mcxv5pf4  \n",
       "95      NaN               NaN             None  g12  r1dd37mcxv5pf4  \n",
       "\n",
       "[96 rows x 16 columns]"
      ]
     },
     "execution_count": 56,
     "metadata": {},
     "output_type": "execute_result"
    }
   ],
   "source": [
    "\n",
    "\n",
    "def make_row(well, info):\n",
    "    row = { \n",
    "        \"well\" : well,\n",
    "        \"filename\" : info['file'],\n",
    "        \"checksum\" : info['checksum']\n",
    "        }\n",
    "    # Properties don't include sytox, so add manually\n",
    "    def well_stain(well):\n",
    "        if 'a' in well or 'b' in well or 'c' in well or 'd' in well:\n",
    "            return \"SYTOX Red Stain\"\n",
    "        else:\n",
    "            return None\n",
    "        \n",
    "    row['stain'] = well_stain(well) \n",
    "    \n",
    "    def expand_options(v):\n",
    "        #print(v)\n",
    "        kv_pairs = {}\n",
    "        for option, value in v.items():\n",
    "            if option == 'Reagents':\n",
    "                #print(option)\n",
    "                for reagent, properties in value.items():\n",
    "                    if reagent == 'Ethanol':\n",
    "                        kv_pairs['kill'] = reagent\n",
    "                        kv_pairs['kill_volume'] = properties['final_concentration']['qty']\n",
    "        return kv_pairs\n",
    "    \n",
    "    for k, v in info['properties'].items():\n",
    "        if k == 'Options':\n",
    "            row.update(expand_options(ast.literal_eval(v)))\n",
    "        else:\n",
    "            row[k] = str(v)\n",
    "    return row\n",
    "\n",
    "def make_meta_dataframe(run_id, plate_properties):\n",
    "    data_df = pd.DataFrame()\n",
    "    for well, info in plate_properties.items():\n",
    "        row = make_row(well, info)\n",
    "        data_df = data_df.append(row, ignore_index=True)\n",
    "        \n",
    "    data_df['experiment_id'] = run_id\n",
    "    return data_df\n",
    "        \n",
    "meta_df = make_meta_dataframe(run_id, plate_properties)\n",
    "meta_df"
   ]
  },
  {
   "cell_type": "code",
   "execution_count": 66,
   "metadata": {},
   "outputs": [
    {
     "name": "stdout",
     "output_type": "stream",
     "text": [
      "record[filename]: data/transcriptic/fcs/CellDeath-EtOH-07-25-2019-Run1_Sytox-YeastGates_SytoxYG-Plate_C8.fcs\n",
      ".\n",
      "data/transcriptic/fcs/CellDeath-EtOH-07-25-2019-Run1_Sytox-YeastGates_SytoxYG-Plate_C8.fcs\n",
      "record[filename]: data/transcriptic/fcs/CellDeath-EtOH-07-25-2019-Run1_Sytox-YeastGates_SytoxYG-Plate_A1.fcs\n",
      ".\n",
      "data/transcriptic/fcs/CellDeath-EtOH-07-25-2019-Run1_Sytox-YeastGates_SytoxYG-Plate_A1.fcs\n",
      "record[filename]: data/transcriptic/fcs/CellDeath-EtOH-07-25-2019-Run1_Sytox-YeastGates_SytoxYG-Plate_C9.fcs\n",
      ".\n",
      "data/transcriptic/fcs/CellDeath-EtOH-07-25-2019-Run1_Sytox-YeastGates_SytoxYG-Plate_C9.fcs\n",
      "record[filename]: data/transcriptic/fcs/CellDeath-EtOH-07-25-2019-Run1_Sytox-YeastGates_SytoxYG-Plate_A3.fcs\n",
      ".\n",
      "data/transcriptic/fcs/CellDeath-EtOH-07-25-2019-Run1_Sytox-YeastGates_SytoxYG-Plate_A3.fcs\n",
      "record[filename]: data/transcriptic/fcs/CellDeath-EtOH-07-25-2019-Run1_Sytox-YeastGates_SytoxYG-Plate_A2.fcs\n",
      ".\n",
      "data/transcriptic/fcs/CellDeath-EtOH-07-25-2019-Run1_Sytox-YeastGates_SytoxYG-Plate_A2.fcs\n",
      "record[filename]: data/transcriptic/fcs/CellDeath-EtOH-07-25-2019-Run1_Sytox-YeastGates_SytoxYG-Plate_A6.fcs\n",
      ".\n",
      "data/transcriptic/fcs/CellDeath-EtOH-07-25-2019-Run1_Sytox-YeastGates_SytoxYG-Plate_A6.fcs\n",
      "record[filename]: data/transcriptic/fcs/CellDeath-EtOH-07-25-2019-Run1_Sytox-YeastGates_SytoxYG-Plate_A7.fcs\n",
      ".\n",
      "data/transcriptic/fcs/CellDeath-EtOH-07-25-2019-Run1_Sytox-YeastGates_SytoxYG-Plate_A7.fcs\n",
      "record[filename]: data/transcriptic/fcs/CellDeath-EtOH-07-25-2019-Run1_Sytox-YeastGates_SytoxYG-Plate_A5.fcs\n",
      ".\n",
      "data/transcriptic/fcs/CellDeath-EtOH-07-25-2019-Run1_Sytox-YeastGates_SytoxYG-Plate_A5.fcs\n",
      "record[filename]: data/transcriptic/fcs/CellDeath-EtOH-07-25-2019-Run1_Sytox-YeastGates_SytoxYG-Plate_B9.fcs\n",
      ".\n",
      "data/transcriptic/fcs/CellDeath-EtOH-07-25-2019-Run1_Sytox-YeastGates_SytoxYG-Plate_B9.fcs\n",
      "record[filename]: data/transcriptic/fcs/CellDeath-EtOH-07-25-2019-Run1_Sytox-YeastGates_SytoxYG-Plate_B8.fcs\n",
      ".\n",
      "data/transcriptic/fcs/CellDeath-EtOH-07-25-2019-Run1_Sytox-YeastGates_SytoxYG-Plate_B8.fcs\n",
      "record[filename]: data/transcriptic/fcs/CellDeath-EtOH-07-25-2019-Run1_Sytox-YeastGates_SytoxYG-Plate_A4.fcs\n",
      ".\n",
      "data/transcriptic/fcs/CellDeath-EtOH-07-25-2019-Run1_Sytox-YeastGates_SytoxYG-Plate_A4.fcs\n",
      "record[filename]: data/transcriptic/fcs/CellDeath-EtOH-07-25-2019-Run1_Sytox-YeastGates_SytoxYG-Plate_F7.fcs\n",
      ".\n",
      "data/transcriptic/fcs/CellDeath-EtOH-07-25-2019-Run1_Sytox-YeastGates_SytoxYG-Plate_F7.fcs\n",
      "record[filename]: data/transcriptic/fcs/CellDeath-EtOH-07-25-2019-Run1_Sytox-YeastGates_SytoxYG-Plate_G3.fcs\n",
      ".\n",
      "data/transcriptic/fcs/CellDeath-EtOH-07-25-2019-Run1_Sytox-YeastGates_SytoxYG-Plate_G3.fcs\n",
      "record[filename]: data/transcriptic/fcs/CellDeath-EtOH-07-25-2019-Run1_Sytox-YeastGates_SytoxYG-Plate_H12.fcs\n",
      ".\n",
      "data/transcriptic/fcs/CellDeath-EtOH-07-25-2019-Run1_Sytox-YeastGates_SytoxYG-Plate_H12.fcs\n",
      "record[filename]: data/transcriptic/fcs/CellDeath-EtOH-07-25-2019-Run1_Sytox-YeastGates_SytoxYG-Plate_G2.fcs\n",
      ".\n",
      "data/transcriptic/fcs/CellDeath-EtOH-07-25-2019-Run1_Sytox-YeastGates_SytoxYG-Plate_G2.fcs\n",
      "record[filename]: data/transcriptic/fcs/CellDeath-EtOH-07-25-2019-Run1_Sytox-YeastGates_SytoxYG-Plate_F6.fcs\n",
      ".\n",
      "data/transcriptic/fcs/CellDeath-EtOH-07-25-2019-Run1_Sytox-YeastGates_SytoxYG-Plate_F6.fcs\n",
      "record[filename]: data/transcriptic/fcs/CellDeath-EtOH-07-25-2019-Run1_Sytox-YeastGates_SytoxYG-Plate_E8.fcs\n",
      ".\n",
      "data/transcriptic/fcs/CellDeath-EtOH-07-25-2019-Run1_Sytox-YeastGates_SytoxYG-Plate_E8.fcs\n",
      "record[filename]: data/transcriptic/fcs/CellDeath-EtOH-07-25-2019-Run1_Sytox-YeastGates_SytoxYG-Plate_F4.fcs\n",
      ".\n",
      "data/transcriptic/fcs/CellDeath-EtOH-07-25-2019-Run1_Sytox-YeastGates_SytoxYG-Plate_F4.fcs\n",
      "record[filename]: data/transcriptic/fcs/CellDeath-EtOH-07-25-2019-Run1_Sytox-YeastGates_SytoxYG-Plate_H10.fcs\n",
      ".\n",
      "data/transcriptic/fcs/CellDeath-EtOH-07-25-2019-Run1_Sytox-YeastGates_SytoxYG-Plate_H10.fcs\n",
      "record[filename]: data/transcriptic/fcs/CellDeath-EtOH-07-25-2019-Run1_Sytox-YeastGates_SytoxYG-Plate_H11.fcs\n",
      ".\n",
      "data/transcriptic/fcs/CellDeath-EtOH-07-25-2019-Run1_Sytox-YeastGates_SytoxYG-Plate_H11.fcs\n",
      "record[filename]: data/transcriptic/fcs/CellDeath-EtOH-07-25-2019-Run1_Sytox-YeastGates_SytoxYG-Plate_F5.fcs\n",
      ".\n",
      "data/transcriptic/fcs/CellDeath-EtOH-07-25-2019-Run1_Sytox-YeastGates_SytoxYG-Plate_F5.fcs\n",
      "record[filename]: data/transcriptic/fcs/CellDeath-EtOH-07-25-2019-Run1_Sytox-YeastGates_SytoxYG-Plate_G1.fcs\n",
      ".\n",
      "data/transcriptic/fcs/CellDeath-EtOH-07-25-2019-Run1_Sytox-YeastGates_SytoxYG-Plate_G1.fcs\n",
      "record[filename]: data/transcriptic/fcs/CellDeath-EtOH-07-25-2019-Run1_Sytox-YeastGates_SytoxYG-Plate_E9.fcs\n",
      ".\n",
      "data/transcriptic/fcs/CellDeath-EtOH-07-25-2019-Run1_Sytox-YeastGates_SytoxYG-Plate_E9.fcs\n",
      "record[filename]: data/transcriptic/fcs/CellDeath-EtOH-07-25-2019-Run1_Sytox-YeastGates_SytoxYG-Plate_G5.fcs\n",
      ".\n",
      "data/transcriptic/fcs/CellDeath-EtOH-07-25-2019-Run1_Sytox-YeastGates_SytoxYG-Plate_G5.fcs\n",
      "record[filename]: data/transcriptic/fcs/CellDeath-EtOH-07-25-2019-Run1_Sytox-YeastGates_SytoxYG-Plate_F1.fcs\n",
      ".\n",
      "data/transcriptic/fcs/CellDeath-EtOH-07-25-2019-Run1_Sytox-YeastGates_SytoxYG-Plate_F1.fcs\n",
      "record[filename]: data/transcriptic/fcs/CellDeath-EtOH-07-25-2019-Run1_Sytox-YeastGates_SytoxYG-Plate_D9.fcs\n",
      ".\n",
      "data/transcriptic/fcs/CellDeath-EtOH-07-25-2019-Run1_Sytox-YeastGates_SytoxYG-Plate_D9.fcs\n",
      "record[filename]: data/transcriptic/fcs/CellDeath-EtOH-07-25-2019-Run1_Sytox-YeastGates_SytoxYG-Plate_D8.fcs\n",
      ".\n",
      "data/transcriptic/fcs/CellDeath-EtOH-07-25-2019-Run1_Sytox-YeastGates_SytoxYG-Plate_D8.fcs\n",
      "record[filename]: data/transcriptic/fcs/CellDeath-EtOH-07-25-2019-Run1_Sytox-YeastGates_SytoxYG-Plate_G4.fcs\n",
      ".\n",
      "data/transcriptic/fcs/CellDeath-EtOH-07-25-2019-Run1_Sytox-YeastGates_SytoxYG-Plate_G4.fcs\n",
      "record[filename]: data/transcriptic/fcs/CellDeath-EtOH-07-25-2019-Run1_Sytox-YeastGates_SytoxYG-Plate_H9.fcs\n",
      ".\n",
      "data/transcriptic/fcs/CellDeath-EtOH-07-25-2019-Run1_Sytox-YeastGates_SytoxYG-Plate_H9.fcs\n",
      "record[filename]: data/transcriptic/fcs/CellDeath-EtOH-07-25-2019-Run1_Sytox-YeastGates_SytoxYG-Plate_F2.fcs\n",
      ".\n",
      "data/transcriptic/fcs/CellDeath-EtOH-07-25-2019-Run1_Sytox-YeastGates_SytoxYG-Plate_F2.fcs\n",
      "record[filename]: data/transcriptic/fcs/CellDeath-EtOH-07-25-2019-Run1_Sytox-YeastGates_SytoxYG-Plate_G6.fcs\n",
      ".\n",
      "data/transcriptic/fcs/CellDeath-EtOH-07-25-2019-Run1_Sytox-YeastGates_SytoxYG-Plate_G6.fcs\n",
      "record[filename]: data/transcriptic/fcs/CellDeath-EtOH-07-25-2019-Run1_Sytox-YeastGates_SytoxYG-Plate_G7.fcs\n",
      ".\n",
      "data/transcriptic/fcs/CellDeath-EtOH-07-25-2019-Run1_Sytox-YeastGates_SytoxYG-Plate_G7.fcs\n",
      "record[filename]: data/transcriptic/fcs/CellDeath-EtOH-07-25-2019-Run1_Sytox-YeastGates_SytoxYG-Plate_F3.fcs\n",
      ".\n",
      "data/transcriptic/fcs/CellDeath-EtOH-07-25-2019-Run1_Sytox-YeastGates_SytoxYG-Plate_F3.fcs\n",
      "record[filename]: data/transcriptic/fcs/CellDeath-EtOH-07-25-2019-Run1_Sytox-YeastGates_SytoxYG-Plate_H8.fcs\n",
      ".\n",
      "data/transcriptic/fcs/CellDeath-EtOH-07-25-2019-Run1_Sytox-YeastGates_SytoxYG-Plate_H8.fcs\n",
      "record[filename]: data/transcriptic/fcs/CellDeath-EtOH-07-25-2019-Run1_Sytox-YeastGates_SytoxYG-Plate_H5.fcs\n",
      ".\n",
      "data/transcriptic/fcs/CellDeath-EtOH-07-25-2019-Run1_Sytox-YeastGates_SytoxYG-Plate_H5.fcs\n",
      "record[filename]: data/transcriptic/fcs/CellDeath-EtOH-07-25-2019-Run1_Sytox-YeastGates_SytoxYG-Plate_D6.fcs\n",
      ".\n",
      "data/transcriptic/fcs/CellDeath-EtOH-07-25-2019-Run1_Sytox-YeastGates_SytoxYG-Plate_D6.fcs\n",
      "record[filename]: data/transcriptic/fcs/CellDeath-EtOH-07-25-2019-Run1_Sytox-YeastGates_SytoxYG-Plate_E2.fcs\n",
      ".\n",
      "data/transcriptic/fcs/CellDeath-EtOH-07-25-2019-Run1_Sytox-YeastGates_SytoxYG-Plate_E2.fcs\n",
      "record[filename]: data/transcriptic/fcs/CellDeath-EtOH-07-25-2019-Run1_Sytox-YeastGates_SytoxYG-Plate_B11.fcs\n",
      ".\n",
      "data/transcriptic/fcs/CellDeath-EtOH-07-25-2019-Run1_Sytox-YeastGates_SytoxYG-Plate_B11.fcs\n",
      "record[filename]: data/transcriptic/fcs/CellDeath-EtOH-07-25-2019-Run1_Sytox-YeastGates_SytoxYG-Plate_B10.fcs\n",
      ".\n",
      "data/transcriptic/fcs/CellDeath-EtOH-07-25-2019-Run1_Sytox-YeastGates_SytoxYG-Plate_B10.fcs\n",
      "record[filename]: data/transcriptic/fcs/CellDeath-EtOH-07-25-2019-Run1_Sytox-YeastGates_SytoxYG-Plate_E3.fcs\n",
      ".\n",
      "data/transcriptic/fcs/CellDeath-EtOH-07-25-2019-Run1_Sytox-YeastGates_SytoxYG-Plate_E3.fcs\n",
      "record[filename]: data/transcriptic/fcs/CellDeath-EtOH-07-25-2019-Run1_Sytox-YeastGates_SytoxYG-Plate_D7.fcs\n",
      ".\n",
      "data/transcriptic/fcs/CellDeath-EtOH-07-25-2019-Run1_Sytox-YeastGates_SytoxYG-Plate_D7.fcs\n",
      "record[filename]: data/transcriptic/fcs/CellDeath-EtOH-07-25-2019-Run1_Sytox-YeastGates_SytoxYG-Plate_H4.fcs\n",
      ".\n",
      "data/transcriptic/fcs/CellDeath-EtOH-07-25-2019-Run1_Sytox-YeastGates_SytoxYG-Plate_H4.fcs\n",
      "record[filename]: data/transcriptic/fcs/CellDeath-EtOH-07-25-2019-Run1_Sytox-YeastGates_SytoxYG-Plate_H6.fcs\n",
      ".\n",
      "data/transcriptic/fcs/CellDeath-EtOH-07-25-2019-Run1_Sytox-YeastGates_SytoxYG-Plate_H6.fcs\n"
     ]
    },
    {
     "name": "stdout",
     "output_type": "stream",
     "text": [
      "record[filename]: data/transcriptic/fcs/CellDeath-EtOH-07-25-2019-Run1_Sytox-YeastGates_SytoxYG-Plate_G9.fcs\n",
      ".\n",
      "data/transcriptic/fcs/CellDeath-EtOH-07-25-2019-Run1_Sytox-YeastGates_SytoxYG-Plate_G9.fcs\n",
      "record[filename]: data/transcriptic/fcs/CellDeath-EtOH-07-25-2019-Run1_Sytox-YeastGates_SytoxYG-Plate_E1.fcs\n",
      ".\n",
      "data/transcriptic/fcs/CellDeath-EtOH-07-25-2019-Run1_Sytox-YeastGates_SytoxYG-Plate_E1.fcs\n",
      "record[filename]: data/transcriptic/fcs/CellDeath-EtOH-07-25-2019-Run1_Sytox-YeastGates_SytoxYG-Plate_D5.fcs\n",
      ".\n",
      "data/transcriptic/fcs/CellDeath-EtOH-07-25-2019-Run1_Sytox-YeastGates_SytoxYG-Plate_D5.fcs\n",
      "record[filename]: data/transcriptic/fcs/CellDeath-EtOH-07-25-2019-Run1_Sytox-YeastGates_SytoxYG-Plate_B12.fcs\n",
      ".\n",
      "data/transcriptic/fcs/CellDeath-EtOH-07-25-2019-Run1_Sytox-YeastGates_SytoxYG-Plate_B12.fcs\n",
      "record[filename]: data/transcriptic/fcs/CellDeath-EtOH-07-25-2019-Run1_Sytox-YeastGates_SytoxYG-Plate_D4.fcs\n",
      ".\n",
      "data/transcriptic/fcs/CellDeath-EtOH-07-25-2019-Run1_Sytox-YeastGates_SytoxYG-Plate_D4.fcs\n",
      "record[filename]: data/transcriptic/fcs/CellDeath-EtOH-07-25-2019-Run1_Sytox-YeastGates_SytoxYG-Plate_G8.fcs\n",
      ".\n",
      "data/transcriptic/fcs/CellDeath-EtOH-07-25-2019-Run1_Sytox-YeastGates_SytoxYG-Plate_G8.fcs\n",
      "record[filename]: data/transcriptic/fcs/CellDeath-EtOH-07-25-2019-Run1_Sytox-YeastGates_SytoxYG-Plate_H7.fcs\n",
      ".\n",
      "data/transcriptic/fcs/CellDeath-EtOH-07-25-2019-Run1_Sytox-YeastGates_SytoxYG-Plate_H7.fcs\n",
      "record[filename]: data/transcriptic/fcs/CellDeath-EtOH-07-25-2019-Run1_Sytox-YeastGates_SytoxYG-Plate_H3.fcs\n",
      ".\n",
      "data/transcriptic/fcs/CellDeath-EtOH-07-25-2019-Run1_Sytox-YeastGates_SytoxYG-Plate_H3.fcs\n",
      "record[filename]: data/transcriptic/fcs/CellDeath-EtOH-07-25-2019-Run1_Sytox-YeastGates_SytoxYG-Plate_E4.fcs\n",
      ".\n",
      "data/transcriptic/fcs/CellDeath-EtOH-07-25-2019-Run1_Sytox-YeastGates_SytoxYG-Plate_E4.fcs\n",
      "record[filename]: data/transcriptic/fcs/CellDeath-EtOH-07-25-2019-Run1_Sytox-YeastGates_SytoxYG-Plate_F8.fcs\n",
      ".\n",
      "data/transcriptic/fcs/CellDeath-EtOH-07-25-2019-Run1_Sytox-YeastGates_SytoxYG-Plate_F8.fcs\n",
      "record[filename]: data/transcriptic/fcs/CellDeath-EtOH-07-25-2019-Run1_Sytox-YeastGates_SytoxYG-Plate_D11.fcs\n",
      ".\n",
      "data/transcriptic/fcs/CellDeath-EtOH-07-25-2019-Run1_Sytox-YeastGates_SytoxYG-Plate_D11.fcs\n",
      "record[filename]: data/transcriptic/fcs/CellDeath-EtOH-07-25-2019-Run1_Sytox-YeastGates_SytoxYG-Plate_F12.fcs\n",
      ".\n",
      "data/transcriptic/fcs/CellDeath-EtOH-07-25-2019-Run1_Sytox-YeastGates_SytoxYG-Plate_F12.fcs\n",
      "record[filename]: data/transcriptic/fcs/CellDeath-EtOH-07-25-2019-Run1_Sytox-YeastGates_SytoxYG-Plate_D10.fcs\n",
      ".\n",
      "data/transcriptic/fcs/CellDeath-EtOH-07-25-2019-Run1_Sytox-YeastGates_SytoxYG-Plate_D10.fcs\n",
      "record[filename]: data/transcriptic/fcs/CellDeath-EtOH-07-25-2019-Run1_Sytox-YeastGates_SytoxYG-Plate_F9.fcs\n",
      ".\n",
      "data/transcriptic/fcs/CellDeath-EtOH-07-25-2019-Run1_Sytox-YeastGates_SytoxYG-Plate_F9.fcs\n",
      "record[filename]: data/transcriptic/fcs/CellDeath-EtOH-07-25-2019-Run1_Sytox-YeastGates_SytoxYG-Plate_D1.fcs\n",
      ".\n",
      "data/transcriptic/fcs/CellDeath-EtOH-07-25-2019-Run1_Sytox-YeastGates_SytoxYG-Plate_D1.fcs\n",
      "record[filename]: data/transcriptic/fcs/CellDeath-EtOH-07-25-2019-Run1_Sytox-YeastGates_SytoxYG-Plate_E5.fcs\n",
      ".\n",
      "data/transcriptic/fcs/CellDeath-EtOH-07-25-2019-Run1_Sytox-YeastGates_SytoxYG-Plate_E5.fcs\n",
      "record[filename]: data/transcriptic/fcs/CellDeath-EtOH-07-25-2019-Run1_Sytox-YeastGates_SytoxYG-Plate_H2.fcs\n",
      ".\n",
      "data/transcriptic/fcs/CellDeath-EtOH-07-25-2019-Run1_Sytox-YeastGates_SytoxYG-Plate_H2.fcs\n",
      "record[filename]: data/transcriptic/fcs/CellDeath-EtOH-07-25-2019-Run1_Sytox-YeastGates_SytoxYG-Plate_D3.fcs\n",
      ".\n",
      "data/transcriptic/fcs/CellDeath-EtOH-07-25-2019-Run1_Sytox-YeastGates_SytoxYG-Plate_D3.fcs\n",
      "record[filename]: data/transcriptic/fcs/CellDeath-EtOH-07-25-2019-Run1_Sytox-YeastGates_SytoxYG-Plate_E7.fcs\n",
      ".\n",
      "data/transcriptic/fcs/CellDeath-EtOH-07-25-2019-Run1_Sytox-YeastGates_SytoxYG-Plate_E7.fcs\n",
      "record[filename]: data/transcriptic/fcs/CellDeath-EtOH-07-25-2019-Run1_Sytox-YeastGates_SytoxYG-Plate_D12.fcs\n",
      ".\n",
      "data/transcriptic/fcs/CellDeath-EtOH-07-25-2019-Run1_Sytox-YeastGates_SytoxYG-Plate_D12.fcs\n",
      "record[filename]: data/transcriptic/fcs/CellDeath-EtOH-07-25-2019-Run1_Sytox-YeastGates_SytoxYG-Plate_F10.fcs\n",
      ".\n",
      "data/transcriptic/fcs/CellDeath-EtOH-07-25-2019-Run1_Sytox-YeastGates_SytoxYG-Plate_F10.fcs\n",
      "record[filename]: data/transcriptic/fcs/CellDeath-EtOH-07-25-2019-Run1_Sytox-YeastGates_SytoxYG-Plate_F11.fcs\n",
      ".\n",
      "data/transcriptic/fcs/CellDeath-EtOH-07-25-2019-Run1_Sytox-YeastGates_SytoxYG-Plate_F11.fcs\n",
      "record[filename]: data/transcriptic/fcs/CellDeath-EtOH-07-25-2019-Run1_Sytox-YeastGates_SytoxYG-Plate_E6.fcs\n",
      ".\n",
      "data/transcriptic/fcs/CellDeath-EtOH-07-25-2019-Run1_Sytox-YeastGates_SytoxYG-Plate_E6.fcs\n",
      "record[filename]: data/transcriptic/fcs/CellDeath-EtOH-07-25-2019-Run1_Sytox-YeastGates_SytoxYG-Plate_D2.fcs\n",
      ".\n",
      "data/transcriptic/fcs/CellDeath-EtOH-07-25-2019-Run1_Sytox-YeastGates_SytoxYG-Plate_D2.fcs\n",
      "record[filename]: data/transcriptic/fcs/CellDeath-EtOH-07-25-2019-Run1_Sytox-YeastGates_SytoxYG-Plate_H1.fcs\n",
      ".\n",
      "data/transcriptic/fcs/CellDeath-EtOH-07-25-2019-Run1_Sytox-YeastGates_SytoxYG-Plate_H1.fcs\n",
      "record[filename]: data/transcriptic/fcs/CellDeath-EtOH-07-25-2019-Run1_Sytox-YeastGates_SytoxYG-Plate_A9.fcs\n",
      ".\n",
      "data/transcriptic/fcs/CellDeath-EtOH-07-25-2019-Run1_Sytox-YeastGates_SytoxYG-Plate_A9.fcs\n",
      "record[filename]: data/transcriptic/fcs/CellDeath-EtOH-07-25-2019-Run1_Sytox-YeastGates_SytoxYG-Plate_B5.fcs\n",
      ".\n",
      "data/transcriptic/fcs/CellDeath-EtOH-07-25-2019-Run1_Sytox-YeastGates_SytoxYG-Plate_B5.fcs\n",
      "record[filename]: data/transcriptic/fcs/CellDeath-EtOH-07-25-2019-Run1_Sytox-YeastGates_SytoxYG-Plate_C1.fcs\n",
      ".\n",
      "data/transcriptic/fcs/CellDeath-EtOH-07-25-2019-Run1_Sytox-YeastGates_SytoxYG-Plate_C1.fcs\n",
      "record[filename]: data/transcriptic/fcs/CellDeath-EtOH-07-25-2019-Run1_Sytox-YeastGates_SytoxYG-Plate_C12.fcs\n",
      ".\n",
      "data/transcriptic/fcs/CellDeath-EtOH-07-25-2019-Run1_Sytox-YeastGates_SytoxYG-Plate_C12.fcs\n",
      "record[filename]: data/transcriptic/fcs/CellDeath-EtOH-07-25-2019-Run1_Sytox-YeastGates_SytoxYG-Plate_A10.fcs\n",
      ".\n",
      "data/transcriptic/fcs/CellDeath-EtOH-07-25-2019-Run1_Sytox-YeastGates_SytoxYG-Plate_A10.fcs\n",
      "record[filename]: data/transcriptic/fcs/CellDeath-EtOH-07-25-2019-Run1_Sytox-YeastGates_SytoxYG-Plate_A11.fcs\n",
      ".\n",
      "data/transcriptic/fcs/CellDeath-EtOH-07-25-2019-Run1_Sytox-YeastGates_SytoxYG-Plate_A11.fcs\n",
      "record[filename]: data/transcriptic/fcs/CellDeath-EtOH-07-25-2019-Run1_Sytox-YeastGates_SytoxYG-Plate_B4.fcs\n",
      ".\n",
      "data/transcriptic/fcs/CellDeath-EtOH-07-25-2019-Run1_Sytox-YeastGates_SytoxYG-Plate_B4.fcs\n",
      "record[filename]: data/transcriptic/fcs/CellDeath-EtOH-07-25-2019-Run1_Sytox-YeastGates_SytoxYG-Plate_A8.fcs\n",
      ".\n",
      "data/transcriptic/fcs/CellDeath-EtOH-07-25-2019-Run1_Sytox-YeastGates_SytoxYG-Plate_A8.fcs\n",
      "record[filename]: data/transcriptic/fcs/CellDeath-EtOH-07-25-2019-Run1_Sytox-YeastGates_SytoxYG-Plate_C2.fcs\n",
      ".\n",
      "data/transcriptic/fcs/CellDeath-EtOH-07-25-2019-Run1_Sytox-YeastGates_SytoxYG-Plate_C2.fcs\n",
      "record[filename]: data/transcriptic/fcs/CellDeath-EtOH-07-25-2019-Run1_Sytox-YeastGates_SytoxYG-Plate_B6.fcs\n",
      ".\n",
      "data/transcriptic/fcs/CellDeath-EtOH-07-25-2019-Run1_Sytox-YeastGates_SytoxYG-Plate_B6.fcs\n",
      "record[filename]: data/transcriptic/fcs/CellDeath-EtOH-07-25-2019-Run1_Sytox-YeastGates_SytoxYG-Plate_C11.fcs\n",
      ".\n",
      "data/transcriptic/fcs/CellDeath-EtOH-07-25-2019-Run1_Sytox-YeastGates_SytoxYG-Plate_C11.fcs\n",
      "record[filename]: data/transcriptic/fcs/CellDeath-EtOH-07-25-2019-Run1_Sytox-YeastGates_SytoxYG-Plate_A12.fcs\n",
      ".\n",
      "data/transcriptic/fcs/CellDeath-EtOH-07-25-2019-Run1_Sytox-YeastGates_SytoxYG-Plate_A12.fcs\n",
      "record[filename]: data/transcriptic/fcs/CellDeath-EtOH-07-25-2019-Run1_Sytox-YeastGates_SytoxYG-Plate_C10.fcs\n",
      ".\n",
      "data/transcriptic/fcs/CellDeath-EtOH-07-25-2019-Run1_Sytox-YeastGates_SytoxYG-Plate_C10.fcs\n",
      "record[filename]: data/transcriptic/fcs/CellDeath-EtOH-07-25-2019-Run1_Sytox-YeastGates_SytoxYG-Plate_B7.fcs\n",
      ".\n",
      "data/transcriptic/fcs/CellDeath-EtOH-07-25-2019-Run1_Sytox-YeastGates_SytoxYG-Plate_B7.fcs\n",
      "record[filename]: data/transcriptic/fcs/CellDeath-EtOH-07-25-2019-Run1_Sytox-YeastGates_SytoxYG-Plate_C3.fcs\n",
      ".\n",
      "data/transcriptic/fcs/CellDeath-EtOH-07-25-2019-Run1_Sytox-YeastGates_SytoxYG-Plate_C3.fcs\n",
      "record[filename]: data/transcriptic/fcs/CellDeath-EtOH-07-25-2019-Run1_Sytox-YeastGates_SytoxYG-Plate_G10.fcs\n",
      ".\n",
      "data/transcriptic/fcs/CellDeath-EtOH-07-25-2019-Run1_Sytox-YeastGates_SytoxYG-Plate_G10.fcs\n"
     ]
    },
    {
     "name": "stdout",
     "output_type": "stream",
     "text": [
      "record[filename]: data/transcriptic/fcs/CellDeath-EtOH-07-25-2019-Run1_Sytox-YeastGates_SytoxYG-Plate_C7.fcs\n",
      ".\n",
      "data/transcriptic/fcs/CellDeath-EtOH-07-25-2019-Run1_Sytox-YeastGates_SytoxYG-Plate_C7.fcs\n",
      "record[filename]: data/transcriptic/fcs/CellDeath-EtOH-07-25-2019-Run1_Sytox-YeastGates_SytoxYG-Plate_B3.fcs\n",
      ".\n",
      "data/transcriptic/fcs/CellDeath-EtOH-07-25-2019-Run1_Sytox-YeastGates_SytoxYG-Plate_B3.fcs\n",
      "record[filename]: data/transcriptic/fcs/CellDeath-EtOH-07-25-2019-Run1_Sytox-YeastGates_SytoxYG-Plate_E12.fcs\n",
      ".\n",
      "data/transcriptic/fcs/CellDeath-EtOH-07-25-2019-Run1_Sytox-YeastGates_SytoxYG-Plate_E12.fcs\n",
      "record[filename]: data/transcriptic/fcs/CellDeath-EtOH-07-25-2019-Run1_Sytox-YeastGates_SytoxYG-Plate_B2.fcs\n",
      ".\n",
      "data/transcriptic/fcs/CellDeath-EtOH-07-25-2019-Run1_Sytox-YeastGates_SytoxYG-Plate_B2.fcs\n",
      "record[filename]: data/transcriptic/fcs/CellDeath-EtOH-07-25-2019-Run1_Sytox-YeastGates_SytoxYG-Plate_C6.fcs\n",
      ".\n",
      "data/transcriptic/fcs/CellDeath-EtOH-07-25-2019-Run1_Sytox-YeastGates_SytoxYG-Plate_C6.fcs\n",
      "record[filename]: data/transcriptic/fcs/CellDeath-EtOH-07-25-2019-Run1_Sytox-YeastGates_SytoxYG-Plate_G11.fcs\n",
      ".\n",
      "data/transcriptic/fcs/CellDeath-EtOH-07-25-2019-Run1_Sytox-YeastGates_SytoxYG-Plate_G11.fcs\n",
      "record[filename]: data/transcriptic/fcs/CellDeath-EtOH-07-25-2019-Run1_Sytox-YeastGates_SytoxYG-Plate_C4.fcs\n",
      ".\n",
      "data/transcriptic/fcs/CellDeath-EtOH-07-25-2019-Run1_Sytox-YeastGates_SytoxYG-Plate_C4.fcs\n",
      "record[filename]: data/transcriptic/fcs/CellDeath-EtOH-07-25-2019-Run1_Sytox-YeastGates_SytoxYG-Plate_E11.fcs\n",
      ".\n",
      "data/transcriptic/fcs/CellDeath-EtOH-07-25-2019-Run1_Sytox-YeastGates_SytoxYG-Plate_E11.fcs\n",
      "record[filename]: data/transcriptic/fcs/CellDeath-EtOH-07-25-2019-Run1_Sytox-YeastGates_SytoxYG-Plate_E10.fcs\n",
      ".\n",
      "data/transcriptic/fcs/CellDeath-EtOH-07-25-2019-Run1_Sytox-YeastGates_SytoxYG-Plate_E10.fcs\n",
      "record[filename]: data/transcriptic/fcs/CellDeath-EtOH-07-25-2019-Run1_Sytox-YeastGates_SytoxYG-Plate_C5.fcs\n",
      ".\n",
      "data/transcriptic/fcs/CellDeath-EtOH-07-25-2019-Run1_Sytox-YeastGates_SytoxYG-Plate_C5.fcs\n",
      "record[filename]: data/transcriptic/fcs/CellDeath-EtOH-07-25-2019-Run1_Sytox-YeastGates_SytoxYG-Plate_B1.fcs\n",
      ".\n",
      "data/transcriptic/fcs/CellDeath-EtOH-07-25-2019-Run1_Sytox-YeastGates_SytoxYG-Plate_B1.fcs\n",
      "record[filename]: data/transcriptic/fcs/CellDeath-EtOH-07-25-2019-Run1_Sytox-YeastGates_SytoxYG-Plate_G12.fcs\n",
      ".\n",
      "data/transcriptic/fcs/CellDeath-EtOH-07-25-2019-Run1_Sytox-YeastGates_SytoxYG-Plate_G12.fcs\n"
     ]
    }
   ],
   "source": [
    "data_dir='.'\n",
    "df = pipeline.get_data_and_metadata_df(meta_df, data_dir, fraction=None, max_records=30000)"
   ]
  },
  {
   "cell_type": "code",
   "execution_count": 67,
   "metadata": {},
   "outputs": [
    {
     "data": {
      "text/plain": [
       "array(['SYTOX Red Stain', None], dtype=object)"
      ]
     },
     "execution_count": 67,
     "metadata": {},
     "output_type": "execute_result"
    }
   ],
   "source": [
    "df.stain.unique()"
   ]
  },
  {
   "cell_type": "code",
   "execution_count": 64,
   "metadata": {
    "scrolled": true
   },
   "outputs": [
    {
     "name": "stdout",
     "output_type": "stream",
     "text": [
      "{'experiment_id': 'r1dd37mcxv5pf4', 'random_state': 0, 'live_volume': 0.0, 'dead_volume': 980.0, 'stain': 'SYTOX Red Stain'}\n",
      "{'experiment_id': 'r1dd37mcxv5pf4', 'random_state': 0, 'live_volume': 0.0, 'dead_volume': 980.0, 'stain': None}\n",
      "data_columns: ['Container Type', 'Control', 'Culture_Volume', 'Media', 'Replicate', 'Storage (C)', 'Strain', 'checksum', 'filename', 'kill', 'kill_volume', 'plate_id', 'source', 'stain', 'well', 'experiment_id', 'Time', 'FSC-A', 'SSC-A', 'BL1-A', 'RL1-A', 'FSC-H', 'SSC-H', 'BL1-H', 'RL1-H', 'FSC-W', 'SSC-W', 'BL1-W', 'RL1-W']\n"
     ]
    },
    {
     "name": "stderr",
     "output_type": "stream",
     "text": [
      "/Users/danbryce/Documents/sift/xplan/external/xplan/xplan-to-autoprotocol-reactor/xplan-dev-env/xplan-dev-env/lib/python3.7/site-packages/pandas/core/indexing.py:480: SettingWithCopyWarning: \n",
      "A value is trying to be set on a copy of a slice from a DataFrame.\n",
      "Try using .loc[row_indexer,col_indexer] = value instead\n",
      "\n",
      "See the caveats in the documentation: http://pandas.pydata.org/pandas-docs/stable/user_guide/indexing.html#returning-a-view-versus-a-copy\n",
      "  self.obj[item] = s\n"
     ]
    },
    {
     "name": "stdout",
     "output_type": "stream",
     "text": [
      "['FSC-A', 'SSC-A', 'BL1-A', 'RL1-A', 'FSC-H', 'SSC-H', 'BL1-H', 'RL1-H', 'FSC-W', 'SSC-W', 'BL1-W', 'RL1-W']\n",
      "\n",
      "<harness.test_harness_class.TestHarness object at 0x15b7ebef0>\n"
     ]
    },
    {
     "name": "stderr",
     "output_type": "stream",
     "text": [
      "/Users/danbryce/Documents/sift/xplan/external/xplan/xplan-to-autoprotocol-reactor/xplan-dev-env/xplan-dev-env/lib/python3.7/site-packages/pandas/core/indexing.py:362: SettingWithCopyWarning: \n",
      "A value is trying to be set on a copy of a slice from a DataFrame.\n",
      "Try using .loc[row_indexer,col_indexer] = value instead\n",
      "\n",
      "See the caveats in the documentation: http://pandas.pydata.org/pandas-docs/stable/user_guide/indexing.html#returning-a-view-versus-a-copy\n",
      "  self.obj[key] = _infer_fill_value(value)\n"
     ]
    },
    {
     "name": "stdout",
     "output_type": "stream",
     "text": [
      "HI\n",
      "----------------------------------------------------------------------------------------------------\n",
      "Starting run at time 22:31:18\n",
      "Normalizing training and testing splits...\n",
      "Starting Classification training...\n",
      "Training time was: 40.89 seconds\n",
      "Testing time was: 0.64 seconds\n",
      "\n",
      "          Run ID        Date      Time                    Model Name Model Author Num Classes  Accuracy  Balanced Accuracy  AUC Score  Average Precision  F1 Score  Precision  Recall Samples In Train Samples In Test                                                                                      Model Description Column Predicted Num Features Used                                                                                       Data and Split Description Normalized Num Features Normalized Feature Extraction Was Untested Data Predicted\n",
      "0  QgDA8YOg58WPP  2019-07-28  22:31:18  random_forest_classification  Hamed        2           0.994     0.994              1.0        1.0                0.994     0.993      0.996   192000           48000           Random Forest: n_estimators=361, max_features=auto, criterion=entropy, min_samples_leaf=13, n_jobs=-1  class_label      12                {'experiment_id': 'r1dd37mcxv5pf4', 'random_state': 0, 'live_volume': 0.0, 'dead_volume': 980.0, 'stain': None}  True       12                      False              False                     \n",
      "\n",
      "Run finished at 22:32:02. Total run time = 43.25 seconds\n",
      "^^^^^^^^^^^^^^^^^^^^^^^^^^^^^^^^^^^^^^^^^^^^^^^^^^^^^^^^^^^^^^^^^^^^^^^^^^^^^^^^^^^^^^^^^^^^^^^^^^^^\n",
      "\n",
      "\n",
      "\n",
      "\n",
      "HI\n",
      "{'experiment_id': 'r1dd37mcxv5pf4', 'random_state': 0, 'live_volume': 0.0, 'dead_volume': 570.0, 'stain': 'SYTOX Red Stain'}\n",
      "data_columns: ['Container Type', 'Control', 'Culture_Volume', 'Media', 'Replicate', 'Storage (C)', 'Strain', 'checksum', 'filename', 'kill', 'kill_volume', 'plate_id', 'source', 'stain', 'well', 'experiment_id', 'Time', 'FSC-A', 'SSC-A', 'BL1-A', 'RL1-A', 'FSC-H', 'SSC-H', 'BL1-H', 'RL1-H', 'FSC-W', 'SSC-W', 'BL1-W', 'RL1-W']\n"
     ]
    },
    {
     "name": "stderr",
     "output_type": "stream",
     "text": [
      "/Users/danbryce/Documents/sift/xplan/external/xplan/xplan-to-autoprotocol-reactor/xplan-dev-env/xplan-dev-env/lib/python3.7/site-packages/pandas/core/indexing.py:480: SettingWithCopyWarning: \n",
      "A value is trying to be set on a copy of a slice from a DataFrame.\n",
      "Try using .loc[row_indexer,col_indexer] = value instead\n",
      "\n",
      "See the caveats in the documentation: http://pandas.pydata.org/pandas-docs/stable/user_guide/indexing.html#returning-a-view-versus-a-copy\n",
      "  self.obj[item] = s\n"
     ]
    },
    {
     "name": "stdout",
     "output_type": "stream",
     "text": [
      "['FSC-A', 'SSC-A', 'BL1-A', 'RL1-A', 'FSC-H', 'SSC-H', 'BL1-H', 'RL1-H', 'FSC-W', 'SSC-W', 'BL1-W', 'RL1-W']\n",
      "\n",
      "<harness.test_harness_class.TestHarness object at 0x1417a1a58>\n"
     ]
    },
    {
     "name": "stderr",
     "output_type": "stream",
     "text": [
      "/Users/danbryce/Documents/sift/xplan/external/xplan/xplan-to-autoprotocol-reactor/xplan-dev-env/xplan-dev-env/lib/python3.7/site-packages/pandas/core/indexing.py:362: SettingWithCopyWarning: \n",
      "A value is trying to be set on a copy of a slice from a DataFrame.\n",
      "Try using .loc[row_indexer,col_indexer] = value instead\n",
      "\n",
      "See the caveats in the documentation: http://pandas.pydata.org/pandas-docs/stable/user_guide/indexing.html#returning-a-view-versus-a-copy\n",
      "  self.obj[key] = _infer_fill_value(value)\n"
     ]
    },
    {
     "name": "stdout",
     "output_type": "stream",
     "text": [
      "HI\n",
      "----------------------------------------------------------------------------------------------------\n",
      "Starting run at time 22:32:08\n",
      "Normalizing training and testing splits...\n",
      "Starting Classification training...\n",
      "Training time was: 37.54 seconds\n",
      "Testing time was: 0.65 seconds\n",
      "\n",
      "         Run ID        Date      Time                    Model Name Model Author Num Classes  Accuracy  Balanced Accuracy  AUC Score  Average Precision  F1 Score  Precision  Recall Samples In Train Samples In Test                                                                                      Model Description Column Predicted Num Features Used                                                                                                    Data and Split Description Normalized Num Features Normalized Feature Extraction Was Untested Data Predicted\n",
      "0  ED9mX65zBJQY  2019-07-28  22:32:08  random_forest_classification  Hamed        2           0.997     0.997              1.0        1.0                0.997     0.999      0.996   192000           48000           Random Forest: n_estimators=361, max_features=auto, criterion=entropy, min_samples_leaf=13, n_jobs=-1  class_label      12                {'experiment_id': 'r1dd37mcxv5pf4', 'random_state': 0, 'live_volume': 0.0, 'dead_volume': 570.0, 'stain': 'SYTOX Red Stain'}  True       12                      False              False                     \n",
      "\n",
      "Run finished at 22:32:48. Total run time = 40.04 seconds\n",
      "^^^^^^^^^^^^^^^^^^^^^^^^^^^^^^^^^^^^^^^^^^^^^^^^^^^^^^^^^^^^^^^^^^^^^^^^^^^^^^^^^^^^^^^^^^^^^^^^^^^^\n",
      "\n",
      "\n",
      "\n",
      "\n",
      "HI\n",
      "{'experiment_id': 'r1dd37mcxv5pf4', 'random_state': 0, 'live_volume': 0.0, 'dead_volume': 570.0, 'stain': None}\n",
      "data_columns: ['Container Type', 'Control', 'Culture_Volume', 'Media', 'Replicate', 'Storage (C)', 'Strain', 'checksum', 'filename', 'kill', 'kill_volume', 'plate_id', 'source', 'stain', 'well', 'experiment_id', 'Time', 'FSC-A', 'SSC-A', 'BL1-A', 'RL1-A', 'FSC-H', 'SSC-H', 'BL1-H', 'RL1-H', 'FSC-W', 'SSC-W', 'BL1-W', 'RL1-W']\n"
     ]
    },
    {
     "name": "stderr",
     "output_type": "stream",
     "text": [
      "/Users/danbryce/Documents/sift/xplan/external/xplan/xplan-to-autoprotocol-reactor/xplan-dev-env/xplan-dev-env/lib/python3.7/site-packages/pandas/core/indexing.py:480: SettingWithCopyWarning: \n",
      "A value is trying to be set on a copy of a slice from a DataFrame.\n",
      "Try using .loc[row_indexer,col_indexer] = value instead\n",
      "\n",
      "See the caveats in the documentation: http://pandas.pydata.org/pandas-docs/stable/user_guide/indexing.html#returning-a-view-versus-a-copy\n",
      "  self.obj[item] = s\n"
     ]
    },
    {
     "name": "stdout",
     "output_type": "stream",
     "text": [
      "['FSC-A', 'SSC-A', 'BL1-A', 'RL1-A', 'FSC-H', 'SSC-H', 'BL1-H', 'RL1-H', 'FSC-W', 'SSC-W', 'BL1-W', 'RL1-W']\n",
      "\n",
      "<harness.test_harness_class.TestHarness object at 0x13dcbf0b8>\n"
     ]
    },
    {
     "name": "stderr",
     "output_type": "stream",
     "text": [
      "/Users/danbryce/Documents/sift/xplan/external/xplan/xplan-to-autoprotocol-reactor/xplan-dev-env/xplan-dev-env/lib/python3.7/site-packages/pandas/core/indexing.py:362: SettingWithCopyWarning: \n",
      "A value is trying to be set on a copy of a slice from a DataFrame.\n",
      "Try using .loc[row_indexer,col_indexer] = value instead\n",
      "\n",
      "See the caveats in the documentation: http://pandas.pydata.org/pandas-docs/stable/user_guide/indexing.html#returning-a-view-versus-a-copy\n",
      "  self.obj[key] = _infer_fill_value(value)\n"
     ]
    },
    {
     "name": "stdout",
     "output_type": "stream",
     "text": [
      "HI\n",
      "----------------------------------------------------------------------------------------------------\n",
      "Starting run at time 22:32:54\n",
      "Normalizing training and testing splits...\n",
      "Starting Classification training...\n",
      "Training time was: 46.54 seconds\n",
      "Testing time was: 0.95 seconds\n",
      "\n",
      "          Run ID        Date      Time                    Model Name Model Author Num Classes  Accuracy  Balanced Accuracy  AUC Score  Average Precision  F1 Score  Precision  Recall Samples In Train Samples In Test                                                                                      Model Description Column Predicted Num Features Used                                                                                       Data and Split Description Normalized Num Features Normalized Feature Extraction Was Untested Data Predicted\n",
      "0  a3Z6vg3ej76Ok  2019-07-28  22:32:54  random_forest_classification  Hamed        2           0.977     0.977              0.997      0.996              0.978     0.972      0.984   183965           45992           Random Forest: n_estimators=361, max_features=auto, criterion=entropy, min_samples_leaf=13, n_jobs=-1  class_label      12                {'experiment_id': 'r1dd37mcxv5pf4', 'random_state': 0, 'live_volume': 0.0, 'dead_volume': 570.0, 'stain': None}  True       12                      False              False                     \n",
      "\n",
      "Run finished at 22:33:43. Total run time = 49.21 seconds\n",
      "^^^^^^^^^^^^^^^^^^^^^^^^^^^^^^^^^^^^^^^^^^^^^^^^^^^^^^^^^^^^^^^^^^^^^^^^^^^^^^^^^^^^^^^^^^^^^^^^^^^^\n",
      "\n",
      "\n",
      "\n",
      "\n",
      "HI\n",
      "{'experiment_id': 'r1dd37mcxv5pf4', 'random_state': 0, 'live_volume': 0.0, 'dead_volume': 370.0, 'stain': 'SYTOX Red Stain'}\n",
      "data_columns: ['Container Type', 'Control', 'Culture_Volume', 'Media', 'Replicate', 'Storage (C)', 'Strain', 'checksum', 'filename', 'kill', 'kill_volume', 'plate_id', 'source', 'stain', 'well', 'experiment_id', 'Time', 'FSC-A', 'SSC-A', 'BL1-A', 'RL1-A', 'FSC-H', 'SSC-H', 'BL1-H', 'RL1-H', 'FSC-W', 'SSC-W', 'BL1-W', 'RL1-W']\n"
     ]
    },
    {
     "name": "stderr",
     "output_type": "stream",
     "text": [
      "/Users/danbryce/Documents/sift/xplan/external/xplan/xplan-to-autoprotocol-reactor/xplan-dev-env/xplan-dev-env/lib/python3.7/site-packages/pandas/core/indexing.py:480: SettingWithCopyWarning: \n",
      "A value is trying to be set on a copy of a slice from a DataFrame.\n",
      "Try using .loc[row_indexer,col_indexer] = value instead\n",
      "\n",
      "See the caveats in the documentation: http://pandas.pydata.org/pandas-docs/stable/user_guide/indexing.html#returning-a-view-versus-a-copy\n",
      "  self.obj[item] = s\n"
     ]
    },
    {
     "name": "stdout",
     "output_type": "stream",
     "text": [
      "['FSC-A', 'SSC-A', 'BL1-A', 'RL1-A', 'FSC-H', 'SSC-H', 'BL1-H', 'RL1-H', 'FSC-W', 'SSC-W', 'BL1-W', 'RL1-W']\n",
      "\n",
      "<harness.test_harness_class.TestHarness object at 0x12c301940>\n"
     ]
    },
    {
     "name": "stderr",
     "output_type": "stream",
     "text": [
      "/Users/danbryce/Documents/sift/xplan/external/xplan/xplan-to-autoprotocol-reactor/xplan-dev-env/xplan-dev-env/lib/python3.7/site-packages/pandas/core/indexing.py:362: SettingWithCopyWarning: \n",
      "A value is trying to be set on a copy of a slice from a DataFrame.\n",
      "Try using .loc[row_indexer,col_indexer] = value instead\n",
      "\n",
      "See the caveats in the documentation: http://pandas.pydata.org/pandas-docs/stable/user_guide/indexing.html#returning-a-view-versus-a-copy\n",
      "  self.obj[key] = _infer_fill_value(value)\n"
     ]
    },
    {
     "name": "stdout",
     "output_type": "stream",
     "text": [
      "HI\n",
      "----------------------------------------------------------------------------------------------------\n",
      "Starting run at time 22:33:49\n",
      "Normalizing training and testing splits...\n",
      "Starting Classification training...\n",
      "Training time was: 33.14 seconds\n",
      "Testing time was: 0.64 seconds\n",
      "\n",
      "          Run ID        Date      Time                    Model Name Model Author Num Classes  Accuracy  Balanced Accuracy  AUC Score  Average Precision  F1 Score  Precision  Recall Samples In Train Samples In Test                                                                                      Model Description Column Predicted Num Features Used                                                                                                    Data and Split Description Normalized Num Features Normalized Feature Extraction Was Untested Data Predicted\n",
      "0  QMD3Q6GY6Rmm3  2019-07-28  22:33:49  random_forest_classification  Hamed        2           0.997     0.997              1.0        1.0                0.997     0.999      0.996   175331           43833           Random Forest: n_estimators=361, max_features=auto, criterion=entropy, min_samples_leaf=13, n_jobs=-1  class_label      12                {'experiment_id': 'r1dd37mcxv5pf4', 'random_state': 0, 'live_volume': 0.0, 'dead_volume': 370.0, 'stain': 'SYTOX Red Stain'}  True       12                      False              False                     \n",
      "\n",
      "Run finished at 22:34:24. Total run time = 35.48 seconds\n",
      "^^^^^^^^^^^^^^^^^^^^^^^^^^^^^^^^^^^^^^^^^^^^^^^^^^^^^^^^^^^^^^^^^^^^^^^^^^^^^^^^^^^^^^^^^^^^^^^^^^^^\n",
      "\n",
      "\n",
      "\n",
      "\n",
      "HI\n",
      "{'experiment_id': 'r1dd37mcxv5pf4', 'random_state': 0, 'live_volume': 0.0, 'dead_volume': 370.0, 'stain': None}\n",
      "data_columns: ['Container Type', 'Control', 'Culture_Volume', 'Media', 'Replicate', 'Storage (C)', 'Strain', 'checksum', 'filename', 'kill', 'kill_volume', 'plate_id', 'source', 'stain', 'well', 'experiment_id', 'Time', 'FSC-A', 'SSC-A', 'BL1-A', 'RL1-A', 'FSC-H', 'SSC-H', 'BL1-H', 'RL1-H', 'FSC-W', 'SSC-W', 'BL1-W', 'RL1-W']\n"
     ]
    },
    {
     "name": "stderr",
     "output_type": "stream",
     "text": [
      "/Users/danbryce/Documents/sift/xplan/external/xplan/xplan-to-autoprotocol-reactor/xplan-dev-env/xplan-dev-env/lib/python3.7/site-packages/pandas/core/indexing.py:480: SettingWithCopyWarning: \n",
      "A value is trying to be set on a copy of a slice from a DataFrame.\n",
      "Try using .loc[row_indexer,col_indexer] = value instead\n",
      "\n",
      "See the caveats in the documentation: http://pandas.pydata.org/pandas-docs/stable/user_guide/indexing.html#returning-a-view-versus-a-copy\n",
      "  self.obj[item] = s\n"
     ]
    },
    {
     "name": "stdout",
     "output_type": "stream",
     "text": [
      "['FSC-A', 'SSC-A', 'BL1-A', 'RL1-A', 'FSC-H', 'SSC-H', 'BL1-H', 'RL1-H', 'FSC-W', 'SSC-W', 'BL1-W', 'RL1-W']\n",
      "\n",
      "<harness.test_harness_class.TestHarness object at 0x12cc502e8>\n"
     ]
    },
    {
     "name": "stderr",
     "output_type": "stream",
     "text": [
      "/Users/danbryce/Documents/sift/xplan/external/xplan/xplan-to-autoprotocol-reactor/xplan-dev-env/xplan-dev-env/lib/python3.7/site-packages/pandas/core/indexing.py:362: SettingWithCopyWarning: \n",
      "A value is trying to be set on a copy of a slice from a DataFrame.\n",
      "Try using .loc[row_indexer,col_indexer] = value instead\n",
      "\n",
      "See the caveats in the documentation: http://pandas.pydata.org/pandas-docs/stable/user_guide/indexing.html#returning-a-view-versus-a-copy\n",
      "  self.obj[key] = _infer_fill_value(value)\n"
     ]
    },
    {
     "name": "stdout",
     "output_type": "stream",
     "text": [
      "HI\n",
      "----------------------------------------------------------------------------------------------------\n",
      "Starting run at time 22:34:30\n",
      "Normalizing training and testing splits...\n",
      "Starting Classification training...\n",
      "Training time was: 38.48 seconds\n",
      "Testing time was: 0.95 seconds\n",
      "\n",
      "          Run ID        Date      Time                    Model Name Model Author Num Classes  Accuracy  Balanced Accuracy  AUC Score  Average Precision  F1 Score  Precision  Recall Samples In Train Samples In Test                                                                                      Model Description Column Predicted Num Features Used                                                                                       Data and Split Description Normalized Num Features Normalized Feature Extraction Was Untested Data Predicted\n",
      "0  ERYLOwqPo8Eg8  2019-07-28  22:34:30  random_forest_classification  Hamed        2           0.975     0.973              0.994      0.994              0.978     0.974      0.982   166786           41697           Random Forest: n_estimators=361, max_features=auto, criterion=entropy, min_samples_leaf=13, n_jobs=-1  class_label      12                {'experiment_id': 'r1dd37mcxv5pf4', 'random_state': 0, 'live_volume': 0.0, 'dead_volume': 370.0, 'stain': None}  True       12                      False              False                     \n",
      "\n",
      "Run finished at 22:35:11. Total run time = 40.96 seconds\n",
      "^^^^^^^^^^^^^^^^^^^^^^^^^^^^^^^^^^^^^^^^^^^^^^^^^^^^^^^^^^^^^^^^^^^^^^^^^^^^^^^^^^^^^^^^^^^^^^^^^^^^\n",
      "\n",
      "\n",
      "\n",
      "\n",
      "HI\n",
      "{'experiment_id': 'r1dd37mcxv5pf4', 'random_state': 0, 'live_volume': 0.0, 'dead_volume': 250.0, 'stain': 'SYTOX Red Stain'}\n",
      "data_columns: ['Container Type', 'Control', 'Culture_Volume', 'Media', 'Replicate', 'Storage (C)', 'Strain', 'checksum', 'filename', 'kill', 'kill_volume', 'plate_id', 'source', 'stain', 'well', 'experiment_id', 'Time', 'FSC-A', 'SSC-A', 'BL1-A', 'RL1-A', 'FSC-H', 'SSC-H', 'BL1-H', 'RL1-H', 'FSC-W', 'SSC-W', 'BL1-W', 'RL1-W']\n"
     ]
    },
    {
     "name": "stderr",
     "output_type": "stream",
     "text": [
      "/Users/danbryce/Documents/sift/xplan/external/xplan/xplan-to-autoprotocol-reactor/xplan-dev-env/xplan-dev-env/lib/python3.7/site-packages/pandas/core/indexing.py:480: SettingWithCopyWarning: \n",
      "A value is trying to be set on a copy of a slice from a DataFrame.\n",
      "Try using .loc[row_indexer,col_indexer] = value instead\n",
      "\n",
      "See the caveats in the documentation: http://pandas.pydata.org/pandas-docs/stable/user_guide/indexing.html#returning-a-view-versus-a-copy\n",
      "  self.obj[item] = s\n"
     ]
    },
    {
     "name": "stdout",
     "output_type": "stream",
     "text": [
      "['FSC-A', 'SSC-A', 'BL1-A', 'RL1-A', 'FSC-H', 'SSC-H', 'BL1-H', 'RL1-H', 'FSC-W', 'SSC-W', 'BL1-W', 'RL1-W']\n",
      "\n",
      "<harness.test_harness_class.TestHarness object at 0x175fa16a0>\n"
     ]
    },
    {
     "name": "stderr",
     "output_type": "stream",
     "text": [
      "/Users/danbryce/Documents/sift/xplan/external/xplan/xplan-to-autoprotocol-reactor/xplan-dev-env/xplan-dev-env/lib/python3.7/site-packages/pandas/core/indexing.py:362: SettingWithCopyWarning: \n",
      "A value is trying to be set on a copy of a slice from a DataFrame.\n",
      "Try using .loc[row_indexer,col_indexer] = value instead\n",
      "\n",
      "See the caveats in the documentation: http://pandas.pydata.org/pandas-docs/stable/user_guide/indexing.html#returning-a-view-versus-a-copy\n",
      "  self.obj[key] = _infer_fill_value(value)\n"
     ]
    },
    {
     "name": "stdout",
     "output_type": "stream",
     "text": [
      "HI\n",
      "----------------------------------------------------------------------------------------------------\n",
      "Starting run at time 22:35:16\n",
      "Normalizing training and testing splits...\n",
      "Starting Classification training...\n",
      "Training time was: 26.82 seconds\n",
      "Testing time was: 0.65 seconds\n",
      "\n",
      "          Run ID        Date      Time                    Model Name Model Author Num Classes  Accuracy  Balanced Accuracy  AUC Score  Average Precision  F1 Score  Precision  Recall Samples In Train Samples In Test                                                                                      Model Description Column Predicted Num Features Used                                                                                                    Data and Split Description Normalized Num Features Normalized Feature Extraction Was Untested Data Predicted\n",
      "0  6pQlRWWzzAzyl  2019-07-28  22:35:16  random_forest_classification  Hamed        2           0.997     0.997              1.0        1.0                0.997     1.0        0.995   147452           36864           Random Forest: n_estimators=361, max_features=auto, criterion=entropy, min_samples_leaf=13, n_jobs=-1  class_label      12                {'experiment_id': 'r1dd37mcxv5pf4', 'random_state': 0, 'live_volume': 0.0, 'dead_volume': 250.0, 'stain': 'SYTOX Red Stain'}  True       12                      False              False                     \n",
      "\n",
      "Run finished at 22:35:44. Total run time = 28.87 seconds\n",
      "^^^^^^^^^^^^^^^^^^^^^^^^^^^^^^^^^^^^^^^^^^^^^^^^^^^^^^^^^^^^^^^^^^^^^^^^^^^^^^^^^^^^^^^^^^^^^^^^^^^^\n",
      "\n",
      "\n",
      "\n",
      "\n",
      "HI\n",
      "{'experiment_id': 'r1dd37mcxv5pf4', 'random_state': 0, 'live_volume': 0.0, 'dead_volume': 250.0, 'stain': None}\n",
      "data_columns: ['Container Type', 'Control', 'Culture_Volume', 'Media', 'Replicate', 'Storage (C)', 'Strain', 'checksum', 'filename', 'kill', 'kill_volume', 'plate_id', 'source', 'stain', 'well', 'experiment_id', 'Time', 'FSC-A', 'SSC-A', 'BL1-A', 'RL1-A', 'FSC-H', 'SSC-H', 'BL1-H', 'RL1-H', 'FSC-W', 'SSC-W', 'BL1-W', 'RL1-W']\n"
     ]
    },
    {
     "name": "stderr",
     "output_type": "stream",
     "text": [
      "/Users/danbryce/Documents/sift/xplan/external/xplan/xplan-to-autoprotocol-reactor/xplan-dev-env/xplan-dev-env/lib/python3.7/site-packages/pandas/core/indexing.py:480: SettingWithCopyWarning: \n",
      "A value is trying to be set on a copy of a slice from a DataFrame.\n",
      "Try using .loc[row_indexer,col_indexer] = value instead\n",
      "\n",
      "See the caveats in the documentation: http://pandas.pydata.org/pandas-docs/stable/user_guide/indexing.html#returning-a-view-versus-a-copy\n",
      "  self.obj[item] = s\n"
     ]
    },
    {
     "name": "stdout",
     "output_type": "stream",
     "text": [
      "['FSC-A', 'SSC-A', 'BL1-A', 'RL1-A', 'FSC-H', 'SSC-H', 'BL1-H', 'RL1-H', 'FSC-W', 'SSC-W', 'BL1-W', 'RL1-W']\n",
      "\n",
      "<harness.test_harness_class.TestHarness object at 0x12c301b00>\n"
     ]
    },
    {
     "name": "stderr",
     "output_type": "stream",
     "text": [
      "/Users/danbryce/Documents/sift/xplan/external/xplan/xplan-to-autoprotocol-reactor/xplan-dev-env/xplan-dev-env/lib/python3.7/site-packages/pandas/core/indexing.py:362: SettingWithCopyWarning: \n",
      "A value is trying to be set on a copy of a slice from a DataFrame.\n",
      "Try using .loc[row_indexer,col_indexer] = value instead\n",
      "\n",
      "See the caveats in the documentation: http://pandas.pydata.org/pandas-docs/stable/user_guide/indexing.html#returning-a-view-versus-a-copy\n",
      "  self.obj[key] = _infer_fill_value(value)\n"
     ]
    },
    {
     "name": "stdout",
     "output_type": "stream",
     "text": [
      "HI\n",
      "----------------------------------------------------------------------------------------------------\n",
      "Starting run at time 22:35:49\n",
      "Normalizing training and testing splits...\n",
      "Starting Classification training...\n",
      "Training time was: 32.84 seconds\n",
      "Testing time was: 0.84 seconds\n",
      "\n",
      "          Run ID        Date      Time                    Model Name Model Author Num Classes  Accuracy  Balanced Accuracy  AUC Score  Average Precision  F1 Score  Precision  Recall Samples In Train Samples In Test                                                                                      Model Description Column Predicted Num Features Used                                                                                       Data and Split Description Normalized Num Features Normalized Feature Extraction Was Untested Data Predicted\n",
      "0  QOJQMVM8AJbek  2019-07-28  22:35:49  random_forest_classification  Hamed        2           0.962     0.958              0.991      0.995              0.972     0.974      0.969   142361           35591           Random Forest: n_estimators=361, max_features=auto, criterion=entropy, min_samples_leaf=13, n_jobs=-1  class_label      12                {'experiment_id': 'r1dd37mcxv5pf4', 'random_state': 0, 'live_volume': 0.0, 'dead_volume': 250.0, 'stain': None}  True       12                      False              False                     \n",
      "\n",
      "Run finished at 22:36:24. Total run time = 35.25 seconds\n",
      "^^^^^^^^^^^^^^^^^^^^^^^^^^^^^^^^^^^^^^^^^^^^^^^^^^^^^^^^^^^^^^^^^^^^^^^^^^^^^^^^^^^^^^^^^^^^^^^^^^^^\n",
      "\n",
      "\n",
      "\n",
      "\n",
      "HI\n",
      "{'experiment_id': 'r1dd37mcxv5pf4', 'random_state': 0, 'live_volume': 0.0, 'dead_volume': 170.0, 'stain': 'SYTOX Red Stain'}\n",
      "data_columns: ['Container Type', 'Control', 'Culture_Volume', 'Media', 'Replicate', 'Storage (C)', 'Strain', 'checksum', 'filename', 'kill', 'kill_volume', 'plate_id', 'source', 'stain', 'well', 'experiment_id', 'Time', 'FSC-A', 'SSC-A', 'BL1-A', 'RL1-A', 'FSC-H', 'SSC-H', 'BL1-H', 'RL1-H', 'FSC-W', 'SSC-W', 'BL1-W', 'RL1-W']\n"
     ]
    },
    {
     "name": "stderr",
     "output_type": "stream",
     "text": [
      "/Users/danbryce/Documents/sift/xplan/external/xplan/xplan-to-autoprotocol-reactor/xplan-dev-env/xplan-dev-env/lib/python3.7/site-packages/pandas/core/indexing.py:480: SettingWithCopyWarning: \n",
      "A value is trying to be set on a copy of a slice from a DataFrame.\n",
      "Try using .loc[row_indexer,col_indexer] = value instead\n",
      "\n",
      "See the caveats in the documentation: http://pandas.pydata.org/pandas-docs/stable/user_guide/indexing.html#returning-a-view-versus-a-copy\n",
      "  self.obj[item] = s\n"
     ]
    },
    {
     "name": "stdout",
     "output_type": "stream",
     "text": [
      "['FSC-A', 'SSC-A', 'BL1-A', 'RL1-A', 'FSC-H', 'SSC-H', 'BL1-H', 'RL1-H', 'FSC-W', 'SSC-W', 'BL1-W', 'RL1-W']\n",
      "\n",
      "<harness.test_harness_class.TestHarness object at 0x1b1c41cc0>\n"
     ]
    },
    {
     "name": "stderr",
     "output_type": "stream",
     "text": [
      "/Users/danbryce/Documents/sift/xplan/external/xplan/xplan-to-autoprotocol-reactor/xplan-dev-env/xplan-dev-env/lib/python3.7/site-packages/pandas/core/indexing.py:362: SettingWithCopyWarning: \n",
      "A value is trying to be set on a copy of a slice from a DataFrame.\n",
      "Try using .loc[row_indexer,col_indexer] = value instead\n",
      "\n",
      "See the caveats in the documentation: http://pandas.pydata.org/pandas-docs/stable/user_guide/indexing.html#returning-a-view-versus-a-copy\n",
      "  self.obj[key] = _infer_fill_value(value)\n"
     ]
    },
    {
     "name": "stdout",
     "output_type": "stream",
     "text": [
      "HI\n",
      "----------------------------------------------------------------------------------------------------\n",
      "Starting run at time 22:36:30\n",
      "Normalizing training and testing splits...\n",
      "Starting Classification training...\n",
      "Training time was: 44.92 seconds\n",
      "Testing time was: 0.86 seconds\n",
      "\n",
      "          Run ID        Date      Time                    Model Name Model Author Num Classes  Accuracy  Balanced Accuracy  AUC Score  Average Precision  F1 Score  Precision  Recall Samples In Train Samples In Test                                                                                      Model Description Column Predicted Num Features Used                                                                                                    Data and Split Description Normalized Num Features Normalized Feature Extraction Was Untested Data Predicted\n",
      "0  6aZAq8MdMBde3  2019-07-28  22:36:30  random_forest_classification  Hamed        2           0.997     0.997              0.999      0.999              0.997     0.999      0.995   192000           48000           Random Forest: n_estimators=361, max_features=auto, criterion=entropy, min_samples_leaf=13, n_jobs=-1  class_label      12                {'experiment_id': 'r1dd37mcxv5pf4', 'random_state': 0, 'live_volume': 0.0, 'dead_volume': 170.0, 'stain': 'SYTOX Red Stain'}  True       12                      False              False                     \n",
      "\n",
      "Run finished at 22:37:18. Total run time = 47.50 seconds\n",
      "^^^^^^^^^^^^^^^^^^^^^^^^^^^^^^^^^^^^^^^^^^^^^^^^^^^^^^^^^^^^^^^^^^^^^^^^^^^^^^^^^^^^^^^^^^^^^^^^^^^^\n",
      "\n",
      "\n",
      "\n",
      "\n",
      "HI\n",
      "{'experiment_id': 'r1dd37mcxv5pf4', 'random_state': 0, 'live_volume': 0.0, 'dead_volume': 170.0, 'stain': None}\n",
      "data_columns: ['Container Type', 'Control', 'Culture_Volume', 'Media', 'Replicate', 'Storage (C)', 'Strain', 'checksum', 'filename', 'kill', 'kill_volume', 'plate_id', 'source', 'stain', 'well', 'experiment_id', 'Time', 'FSC-A', 'SSC-A', 'BL1-A', 'RL1-A', 'FSC-H', 'SSC-H', 'BL1-H', 'RL1-H', 'FSC-W', 'SSC-W', 'BL1-W', 'RL1-W']\n"
     ]
    },
    {
     "name": "stderr",
     "output_type": "stream",
     "text": [
      "/Users/danbryce/Documents/sift/xplan/external/xplan/xplan-to-autoprotocol-reactor/xplan-dev-env/xplan-dev-env/lib/python3.7/site-packages/pandas/core/indexing.py:480: SettingWithCopyWarning: \n",
      "A value is trying to be set on a copy of a slice from a DataFrame.\n",
      "Try using .loc[row_indexer,col_indexer] = value instead\n",
      "\n",
      "See the caveats in the documentation: http://pandas.pydata.org/pandas-docs/stable/user_guide/indexing.html#returning-a-view-versus-a-copy\n",
      "  self.obj[item] = s\n"
     ]
    },
    {
     "name": "stdout",
     "output_type": "stream",
     "text": [
      "['FSC-A', 'SSC-A', 'BL1-A', 'RL1-A', 'FSC-H', 'SSC-H', 'BL1-H', 'RL1-H', 'FSC-W', 'SSC-W', 'BL1-W', 'RL1-W']\n",
      "\n",
      "<harness.test_harness_class.TestHarness object at 0x181547780>\n"
     ]
    },
    {
     "name": "stderr",
     "output_type": "stream",
     "text": [
      "/Users/danbryce/Documents/sift/xplan/external/xplan/xplan-to-autoprotocol-reactor/xplan-dev-env/xplan-dev-env/lib/python3.7/site-packages/pandas/core/indexing.py:362: SettingWithCopyWarning: \n",
      "A value is trying to be set on a copy of a slice from a DataFrame.\n",
      "Try using .loc[row_indexer,col_indexer] = value instead\n",
      "\n",
      "See the caveats in the documentation: http://pandas.pydata.org/pandas-docs/stable/user_guide/indexing.html#returning-a-view-versus-a-copy\n",
      "  self.obj[key] = _infer_fill_value(value)\n"
     ]
    },
    {
     "name": "stdout",
     "output_type": "stream",
     "text": [
      "HI\n",
      "----------------------------------------------------------------------------------------------------\n",
      "Starting run at time 22:37:24\n",
      "Normalizing training and testing splits...\n",
      "Starting Classification training...\n",
      "Training time was: 45.67 seconds\n",
      "Testing time was: 1.29 seconds\n",
      "\n",
      "          Run ID        Date      Time                    Model Name Model Author Num Classes  Accuracy  Balanced Accuracy  AUC Score  Average Precision  F1 Score  Precision  Recall Samples In Train Samples In Test                                                                                      Model Description Column Predicted Num Features Used                                                                                       Data and Split Description Normalized Num Features Normalized Feature Extraction Was Untested Data Predicted\n",
      "0  aYYBBo7beV1Vo  2019-07-28  22:37:24  random_forest_classification  Hamed        2           0.919     0.919              0.974      0.972              0.92      0.911      0.929   192000           48000           Random Forest: n_estimators=361, max_features=auto, criterion=entropy, min_samples_leaf=13, n_jobs=-1  class_label      12                {'experiment_id': 'r1dd37mcxv5pf4', 'random_state': 0, 'live_volume': 0.0, 'dead_volume': 170.0, 'stain': None}  True       12                      False              False                     \n",
      "\n",
      "Run finished at 22:38:13. Total run time = 48.73 seconds\n",
      "^^^^^^^^^^^^^^^^^^^^^^^^^^^^^^^^^^^^^^^^^^^^^^^^^^^^^^^^^^^^^^^^^^^^^^^^^^^^^^^^^^^^^^^^^^^^^^^^^^^^\n",
      "\n",
      "\n",
      "\n",
      "\n",
      "HI\n",
      "{'experiment_id': 'r1dd37mcxv5pf4', 'random_state': 0, 'live_volume': 0.0, 'dead_volume': 105.0, 'stain': 'SYTOX Red Stain'}\n",
      "data_columns: ['Container Type', 'Control', 'Culture_Volume', 'Media', 'Replicate', 'Storage (C)', 'Strain', 'checksum', 'filename', 'kill', 'kill_volume', 'plate_id', 'source', 'stain', 'well', 'experiment_id', 'Time', 'FSC-A', 'SSC-A', 'BL1-A', 'RL1-A', 'FSC-H', 'SSC-H', 'BL1-H', 'RL1-H', 'FSC-W', 'SSC-W', 'BL1-W', 'RL1-W']\n"
     ]
    },
    {
     "name": "stderr",
     "output_type": "stream",
     "text": [
      "/Users/danbryce/Documents/sift/xplan/external/xplan/xplan-to-autoprotocol-reactor/xplan-dev-env/xplan-dev-env/lib/python3.7/site-packages/pandas/core/indexing.py:480: SettingWithCopyWarning: \n",
      "A value is trying to be set on a copy of a slice from a DataFrame.\n",
      "Try using .loc[row_indexer,col_indexer] = value instead\n",
      "\n",
      "See the caveats in the documentation: http://pandas.pydata.org/pandas-docs/stable/user_guide/indexing.html#returning-a-view-versus-a-copy\n",
      "  self.obj[item] = s\n"
     ]
    },
    {
     "name": "stdout",
     "output_type": "stream",
     "text": [
      "['FSC-A', 'SSC-A', 'BL1-A', 'RL1-A', 'FSC-H', 'SSC-H', 'BL1-H', 'RL1-H', 'FSC-W', 'SSC-W', 'BL1-W', 'RL1-W']\n",
      "\n",
      "<harness.test_harness_class.TestHarness object at 0x1759880b8>\n"
     ]
    },
    {
     "name": "stderr",
     "output_type": "stream",
     "text": [
      "/Users/danbryce/Documents/sift/xplan/external/xplan/xplan-to-autoprotocol-reactor/xplan-dev-env/xplan-dev-env/lib/python3.7/site-packages/pandas/core/indexing.py:362: SettingWithCopyWarning: \n",
      "A value is trying to be set on a copy of a slice from a DataFrame.\n",
      "Try using .loc[row_indexer,col_indexer] = value instead\n",
      "\n",
      "See the caveats in the documentation: http://pandas.pydata.org/pandas-docs/stable/user_guide/indexing.html#returning-a-view-versus-a-copy\n",
      "  self.obj[key] = _infer_fill_value(value)\n"
     ]
    },
    {
     "name": "stdout",
     "output_type": "stream",
     "text": [
      "HI\n",
      "----------------------------------------------------------------------------------------------------\n",
      "Starting run at time 22:38:19\n",
      "Normalizing training and testing splits...\n",
      "Starting Classification training...\n",
      "Training time was: 36.47 seconds\n",
      "Testing time was: 0.67 seconds\n",
      "\n",
      "          Run ID        Date      Time                    Model Name Model Author Num Classes  Accuracy  Balanced Accuracy  AUC Score  Average Precision  F1 Score  Precision  Recall Samples In Train Samples In Test                                                                                      Model Description Column Predicted Num Features Used                                                                                                    Data and Split Description Normalized Num Features Normalized Feature Extraction Was Untested Data Predicted\n",
      "0  6d7y8B8BDNJGG  2019-07-28  22:38:19  random_forest_classification  Hamed        2           0.998     0.998              0.999      1.0                0.998     0.999      0.996   192000           48000           Random Forest: n_estimators=361, max_features=auto, criterion=entropy, min_samples_leaf=13, n_jobs=-1  class_label      12                {'experiment_id': 'r1dd37mcxv5pf4', 'random_state': 0, 'live_volume': 0.0, 'dead_volume': 105.0, 'stain': 'SYTOX Red Stain'}  True       12                      False              False                     \n",
      "\n",
      "Run finished at 22:38:58. Total run time = 39.06 seconds\n",
      "^^^^^^^^^^^^^^^^^^^^^^^^^^^^^^^^^^^^^^^^^^^^^^^^^^^^^^^^^^^^^^^^^^^^^^^^^^^^^^^^^^^^^^^^^^^^^^^^^^^^\n",
      "\n",
      "\n",
      "\n",
      "\n",
      "HI\n",
      "{'experiment_id': 'r1dd37mcxv5pf4', 'random_state': 0, 'live_volume': 0.0, 'dead_volume': 105.0, 'stain': None}\n",
      "data_columns: ['Container Type', 'Control', 'Culture_Volume', 'Media', 'Replicate', 'Storage (C)', 'Strain', 'checksum', 'filename', 'kill', 'kill_volume', 'plate_id', 'source', 'stain', 'well', 'experiment_id', 'Time', 'FSC-A', 'SSC-A', 'BL1-A', 'RL1-A', 'FSC-H', 'SSC-H', 'BL1-H', 'RL1-H', 'FSC-W', 'SSC-W', 'BL1-W', 'RL1-W']\n"
     ]
    },
    {
     "name": "stderr",
     "output_type": "stream",
     "text": [
      "/Users/danbryce/Documents/sift/xplan/external/xplan/xplan-to-autoprotocol-reactor/xplan-dev-env/xplan-dev-env/lib/python3.7/site-packages/pandas/core/indexing.py:480: SettingWithCopyWarning: \n",
      "A value is trying to be set on a copy of a slice from a DataFrame.\n",
      "Try using .loc[row_indexer,col_indexer] = value instead\n",
      "\n",
      "See the caveats in the documentation: http://pandas.pydata.org/pandas-docs/stable/user_guide/indexing.html#returning-a-view-versus-a-copy\n",
      "  self.obj[item] = s\n"
     ]
    },
    {
     "name": "stdout",
     "output_type": "stream",
     "text": [
      "['FSC-A', 'SSC-A', 'BL1-A', 'RL1-A', 'FSC-H', 'SSC-H', 'BL1-H', 'RL1-H', 'FSC-W', 'SSC-W', 'BL1-W', 'RL1-W']\n",
      "\n",
      "<harness.test_harness_class.TestHarness object at 0x1ce80dac8>\n"
     ]
    },
    {
     "name": "stderr",
     "output_type": "stream",
     "text": [
      "/Users/danbryce/Documents/sift/xplan/external/xplan/xplan-to-autoprotocol-reactor/xplan-dev-env/xplan-dev-env/lib/python3.7/site-packages/pandas/core/indexing.py:362: SettingWithCopyWarning: \n",
      "A value is trying to be set on a copy of a slice from a DataFrame.\n",
      "Try using .loc[row_indexer,col_indexer] = value instead\n",
      "\n",
      "See the caveats in the documentation: http://pandas.pydata.org/pandas-docs/stable/user_guide/indexing.html#returning-a-view-versus-a-copy\n",
      "  self.obj[key] = _infer_fill_value(value)\n"
     ]
    },
    {
     "name": "stdout",
     "output_type": "stream",
     "text": [
      "HI\n",
      "----------------------------------------------------------------------------------------------------\n",
      "Starting run at time 22:39:04\n",
      "Normalizing training and testing splits...\n",
      "Starting Classification training...\n",
      "Training time was: 44.66 seconds\n",
      "Testing time was: 1.09 seconds\n",
      "\n",
      "         Run ID        Date      Time                    Model Name Model Author Num Classes  Accuracy  Balanced Accuracy  AUC Score  Average Precision  F1 Score  Precision  Recall Samples In Train Samples In Test                                                                                      Model Description Column Predicted Num Features Used                                                                                       Data and Split Description Normalized Num Features Normalized Feature Extraction Was Untested Data Predicted\n",
      "0  Qb1wQg5Y2Oxe  2019-07-28  22:39:04  random_forest_classification  Hamed        2           0.938     0.938              0.984      0.982              0.939     0.928      0.95    192000           48000           Random Forest: n_estimators=361, max_features=auto, criterion=entropy, min_samples_leaf=13, n_jobs=-1  class_label      12                {'experiment_id': 'r1dd37mcxv5pf4', 'random_state': 0, 'live_volume': 0.0, 'dead_volume': 105.0, 'stain': None}  True       12                      False              False                     \n",
      "\n",
      "Run finished at 22:39:51. Total run time = 47.48 seconds\n",
      "^^^^^^^^^^^^^^^^^^^^^^^^^^^^^^^^^^^^^^^^^^^^^^^^^^^^^^^^^^^^^^^^^^^^^^^^^^^^^^^^^^^^^^^^^^^^^^^^^^^^\n",
      "\n",
      "\n",
      "\n",
      "\n",
      "HI\n",
      "{'experiment_id': 'r1dd37mcxv5pf4', 'random_state': 0, 'live_volume': 0.0, 'dead_volume': 64.0, 'stain': 'SYTOX Red Stain'}\n",
      "data_columns: ['Container Type', 'Control', 'Culture_Volume', 'Media', 'Replicate', 'Storage (C)', 'Strain', 'checksum', 'filename', 'kill', 'kill_volume', 'plate_id', 'source', 'stain', 'well', 'experiment_id', 'Time', 'FSC-A', 'SSC-A', 'BL1-A', 'RL1-A', 'FSC-H', 'SSC-H', 'BL1-H', 'RL1-H', 'FSC-W', 'SSC-W', 'BL1-W', 'RL1-W']\n"
     ]
    },
    {
     "name": "stderr",
     "output_type": "stream",
     "text": [
      "/Users/danbryce/Documents/sift/xplan/external/xplan/xplan-to-autoprotocol-reactor/xplan-dev-env/xplan-dev-env/lib/python3.7/site-packages/pandas/core/indexing.py:480: SettingWithCopyWarning: \n",
      "A value is trying to be set on a copy of a slice from a DataFrame.\n",
      "Try using .loc[row_indexer,col_indexer] = value instead\n",
      "\n",
      "See the caveats in the documentation: http://pandas.pydata.org/pandas-docs/stable/user_guide/indexing.html#returning-a-view-versus-a-copy\n",
      "  self.obj[item] = s\n"
     ]
    },
    {
     "name": "stdout",
     "output_type": "stream",
     "text": [
      "['FSC-A', 'SSC-A', 'BL1-A', 'RL1-A', 'FSC-H', 'SSC-H', 'BL1-H', 'RL1-H', 'FSC-W', 'SSC-W', 'BL1-W', 'RL1-W']\n",
      "\n",
      "<harness.test_harness_class.TestHarness object at 0x189949160>\n"
     ]
    },
    {
     "name": "stderr",
     "output_type": "stream",
     "text": [
      "/Users/danbryce/Documents/sift/xplan/external/xplan/xplan-to-autoprotocol-reactor/xplan-dev-env/xplan-dev-env/lib/python3.7/site-packages/pandas/core/indexing.py:362: SettingWithCopyWarning: \n",
      "A value is trying to be set on a copy of a slice from a DataFrame.\n",
      "Try using .loc[row_indexer,col_indexer] = value instead\n",
      "\n",
      "See the caveats in the documentation: http://pandas.pydata.org/pandas-docs/stable/user_guide/indexing.html#returning-a-view-versus-a-copy\n",
      "  self.obj[key] = _infer_fill_value(value)\n"
     ]
    },
    {
     "name": "stdout",
     "output_type": "stream",
     "text": [
      "HI\n",
      "----------------------------------------------------------------------------------------------------\n",
      "Starting run at time 22:39:57\n",
      "Normalizing training and testing splits...\n",
      "Starting Classification training...\n",
      "Training time was: 49.26 seconds\n",
      "Testing time was: 1.39 seconds\n",
      "\n",
      "          Run ID        Date      Time                    Model Name Model Author Num Classes  Accuracy  Balanced Accuracy  AUC Score  Average Precision  F1 Score  Precision  Recall Samples In Train Samples In Test                                                                                      Model Description Column Predicted Num Features Used                                                                                                   Data and Split Description Normalized Num Features Normalized Feature Extraction Was Untested Data Predicted\n",
      "0  QW1zQlA1EX8PP  2019-07-28  22:39:57  random_forest_classification  Hamed        2           0.856     0.856              0.925      0.906              0.864     0.816      0.919   192000           48000           Random Forest: n_estimators=361, max_features=auto, criterion=entropy, min_samples_leaf=13, n_jobs=-1  class_label      12                {'experiment_id': 'r1dd37mcxv5pf4', 'random_state': 0, 'live_volume': 0.0, 'dead_volume': 64.0, 'stain': 'SYTOX Red Stain'}  True       12                      False              False                     \n",
      "\n",
      "Run finished at 22:40:50. Total run time = 52.38 seconds\n",
      "^^^^^^^^^^^^^^^^^^^^^^^^^^^^^^^^^^^^^^^^^^^^^^^^^^^^^^^^^^^^^^^^^^^^^^^^^^^^^^^^^^^^^^^^^^^^^^^^^^^^\n",
      "\n",
      "\n",
      "\n",
      "\n",
      "HI\n",
      "{'experiment_id': 'r1dd37mcxv5pf4', 'random_state': 0, 'live_volume': 0.0, 'dead_volume': 64.0, 'stain': None}\n",
      "data_columns: ['Container Type', 'Control', 'Culture_Volume', 'Media', 'Replicate', 'Storage (C)', 'Strain', 'checksum', 'filename', 'kill', 'kill_volume', 'plate_id', 'source', 'stain', 'well', 'experiment_id', 'Time', 'FSC-A', 'SSC-A', 'BL1-A', 'RL1-A', 'FSC-H', 'SSC-H', 'BL1-H', 'RL1-H', 'FSC-W', 'SSC-W', 'BL1-W', 'RL1-W']\n"
     ]
    },
    {
     "name": "stderr",
     "output_type": "stream",
     "text": [
      "/Users/danbryce/Documents/sift/xplan/external/xplan/xplan-to-autoprotocol-reactor/xplan-dev-env/xplan-dev-env/lib/python3.7/site-packages/pandas/core/indexing.py:480: SettingWithCopyWarning: \n",
      "A value is trying to be set on a copy of a slice from a DataFrame.\n",
      "Try using .loc[row_indexer,col_indexer] = value instead\n",
      "\n",
      "See the caveats in the documentation: http://pandas.pydata.org/pandas-docs/stable/user_guide/indexing.html#returning-a-view-versus-a-copy\n",
      "  self.obj[item] = s\n"
     ]
    },
    {
     "name": "stdout",
     "output_type": "stream",
     "text": [
      "['FSC-A', 'SSC-A', 'BL1-A', 'RL1-A', 'FSC-H', 'SSC-H', 'BL1-H', 'RL1-H', 'FSC-W', 'SSC-W', 'BL1-W', 'RL1-W']\n",
      "\n",
      "<harness.test_harness_class.TestHarness object at 0x15ba19198>\n"
     ]
    },
    {
     "name": "stderr",
     "output_type": "stream",
     "text": [
      "/Users/danbryce/Documents/sift/xplan/external/xplan/xplan-to-autoprotocol-reactor/xplan-dev-env/xplan-dev-env/lib/python3.7/site-packages/pandas/core/indexing.py:362: SettingWithCopyWarning: \n",
      "A value is trying to be set on a copy of a slice from a DataFrame.\n",
      "Try using .loc[row_indexer,col_indexer] = value instead\n",
      "\n",
      "See the caveats in the documentation: http://pandas.pydata.org/pandas-docs/stable/user_guide/indexing.html#returning-a-view-versus-a-copy\n",
      "  self.obj[key] = _infer_fill_value(value)\n"
     ]
    },
    {
     "name": "stdout",
     "output_type": "stream",
     "text": [
      "HI\n",
      "----------------------------------------------------------------------------------------------------\n",
      "Starting run at time 22:40:56\n",
      "Normalizing training and testing splits...\n",
      "Starting Classification training...\n",
      "Training time was: 45.34 seconds\n",
      "Testing time was: 1.29 seconds\n",
      "\n",
      "          Run ID        Date      Time                    Model Name Model Author Num Classes  Accuracy  Balanced Accuracy  AUC Score  Average Precision  F1 Score  Precision  Recall Samples In Train Samples In Test                                                                                      Model Description Column Predicted Num Features Used                                                                                      Data and Split Description Normalized Num Features Normalized Feature Extraction Was Untested Data Predicted\n",
      "0  aMw2X6No7e16d  2019-07-28  22:40:56  random_forest_classification  Hamed        2           0.795     0.795              0.876      0.86               0.805     0.767      0.846   192000           48000           Random Forest: n_estimators=361, max_features=auto, criterion=entropy, min_samples_leaf=13, n_jobs=-1  class_label      12                {'experiment_id': 'r1dd37mcxv5pf4', 'random_state': 0, 'live_volume': 0.0, 'dead_volume': 64.0, 'stain': None}  True       12                      False              False                     \n",
      "\n",
      "Run finished at 22:41:45. Total run time = 48.65 seconds\n",
      "^^^^^^^^^^^^^^^^^^^^^^^^^^^^^^^^^^^^^^^^^^^^^^^^^^^^^^^^^^^^^^^^^^^^^^^^^^^^^^^^^^^^^^^^^^^^^^^^^^^^\n",
      "\n",
      "\n",
      "\n",
      "\n",
      "HI\n",
      "{'experiment_id': 'r1dd37mcxv5pf4', 'random_state': 0, 'live_volume': 0.0, 'dead_volume': 29, 'stain': 'SYTOX Red Stain'}\n",
      "data_columns: ['Container Type', 'Control', 'Culture_Volume', 'Media', 'Replicate', 'Storage (C)', 'Strain', 'checksum', 'filename', 'kill', 'kill_volume', 'plate_id', 'source', 'stain', 'well', 'experiment_id', 'Time', 'FSC-A', 'SSC-A', 'BL1-A', 'RL1-A', 'FSC-H', 'SSC-H', 'BL1-H', 'RL1-H', 'FSC-W', 'SSC-W', 'BL1-W', 'RL1-W']\n"
     ]
    },
    {
     "name": "stderr",
     "output_type": "stream",
     "text": [
      "/Users/danbryce/Documents/sift/xplan/external/xplan/xplan-to-autoprotocol-reactor/xplan-dev-env/xplan-dev-env/lib/python3.7/site-packages/pandas/core/indexing.py:480: SettingWithCopyWarning: \n",
      "A value is trying to be set on a copy of a slice from a DataFrame.\n",
      "Try using .loc[row_indexer,col_indexer] = value instead\n",
      "\n",
      "See the caveats in the documentation: http://pandas.pydata.org/pandas-docs/stable/user_guide/indexing.html#returning-a-view-versus-a-copy\n",
      "  self.obj[item] = s\n"
     ]
    },
    {
     "name": "stdout",
     "output_type": "stream",
     "text": [
      "['FSC-A', 'SSC-A', 'BL1-A', 'RL1-A', 'FSC-H', 'SSC-H', 'BL1-H', 'RL1-H', 'FSC-W', 'SSC-W', 'BL1-W', 'RL1-W']\n",
      "\n",
      "<harness.test_harness_class.TestHarness object at 0x1d2c9c4a8>\n"
     ]
    },
    {
     "name": "stderr",
     "output_type": "stream",
     "text": [
      "/Users/danbryce/Documents/sift/xplan/external/xplan/xplan-to-autoprotocol-reactor/xplan-dev-env/xplan-dev-env/lib/python3.7/site-packages/pandas/core/indexing.py:362: SettingWithCopyWarning: \n",
      "A value is trying to be set on a copy of a slice from a DataFrame.\n",
      "Try using .loc[row_indexer,col_indexer] = value instead\n",
      "\n",
      "See the caveats in the documentation: http://pandas.pydata.org/pandas-docs/stable/user_guide/indexing.html#returning-a-view-versus-a-copy\n",
      "  self.obj[key] = _infer_fill_value(value)\n"
     ]
    },
    {
     "name": "stdout",
     "output_type": "stream",
     "text": [
      "HI\n",
      "----------------------------------------------------------------------------------------------------\n",
      "Starting run at time 22:41:51\n",
      "Normalizing training and testing splits...\n",
      "Starting Classification training...\n",
      "Training time was: 59.11 seconds\n",
      "Testing time was: 1.72 seconds\n",
      "\n",
      "          Run ID        Date      Time                    Model Name Model Author Num Classes  Accuracy  Balanced Accuracy  AUC Score  Average Precision  F1 Score  Precision  Recall Samples In Train Samples In Test                                                                                      Model Description Column Predicted Num Features Used                                                                                                 Data and Split Description Normalized Num Features Normalized Feature Extraction Was Untested Data Predicted\n",
      "0  agQdGbxB5XoGw  2019-07-28  22:41:51  random_forest_classification  Hamed        2           0.647     0.647              0.708      0.674              0.672     0.628      0.724   192000           48000           Random Forest: n_estimators=361, max_features=auto, criterion=entropy, min_samples_leaf=13, n_jobs=-1  class_label      12                {'experiment_id': 'r1dd37mcxv5pf4', 'random_state': 0, 'live_volume': 0.0, 'dead_volume': 29, 'stain': 'SYTOX Red Stain'}  True       12                      False              False                     \n",
      "\n",
      "Run finished at 22:42:54. Total run time = 62.58 seconds\n",
      "^^^^^^^^^^^^^^^^^^^^^^^^^^^^^^^^^^^^^^^^^^^^^^^^^^^^^^^^^^^^^^^^^^^^^^^^^^^^^^^^^^^^^^^^^^^^^^^^^^^^\n",
      "\n",
      "\n",
      "\n",
      "\n",
      "HI\n",
      "{'experiment_id': 'r1dd37mcxv5pf4', 'random_state': 0, 'live_volume': 0.0, 'dead_volume': 29, 'stain': None}\n",
      "data_columns: ['Container Type', 'Control', 'Culture_Volume', 'Media', 'Replicate', 'Storage (C)', 'Strain', 'checksum', 'filename', 'kill', 'kill_volume', 'plate_id', 'source', 'stain', 'well', 'experiment_id', 'Time', 'FSC-A', 'SSC-A', 'BL1-A', 'RL1-A', 'FSC-H', 'SSC-H', 'BL1-H', 'RL1-H', 'FSC-W', 'SSC-W', 'BL1-W', 'RL1-W']\n"
     ]
    },
    {
     "name": "stderr",
     "output_type": "stream",
     "text": [
      "/Users/danbryce/Documents/sift/xplan/external/xplan/xplan-to-autoprotocol-reactor/xplan-dev-env/xplan-dev-env/lib/python3.7/site-packages/pandas/core/indexing.py:480: SettingWithCopyWarning: \n",
      "A value is trying to be set on a copy of a slice from a DataFrame.\n",
      "Try using .loc[row_indexer,col_indexer] = value instead\n",
      "\n",
      "See the caveats in the documentation: http://pandas.pydata.org/pandas-docs/stable/user_guide/indexing.html#returning-a-view-versus-a-copy\n",
      "  self.obj[item] = s\n"
     ]
    },
    {
     "name": "stdout",
     "output_type": "stream",
     "text": [
      "['FSC-A', 'SSC-A', 'BL1-A', 'RL1-A', 'FSC-H', 'SSC-H', 'BL1-H', 'RL1-H', 'FSC-W', 'SSC-W', 'BL1-W', 'RL1-W']\n",
      "\n",
      "<harness.test_harness_class.TestHarness object at 0x1d25497f0>\n"
     ]
    },
    {
     "name": "stderr",
     "output_type": "stream",
     "text": [
      "/Users/danbryce/Documents/sift/xplan/external/xplan/xplan-to-autoprotocol-reactor/xplan-dev-env/xplan-dev-env/lib/python3.7/site-packages/pandas/core/indexing.py:362: SettingWithCopyWarning: \n",
      "A value is trying to be set on a copy of a slice from a DataFrame.\n",
      "Try using .loc[row_indexer,col_indexer] = value instead\n",
      "\n",
      "See the caveats in the documentation: http://pandas.pydata.org/pandas-docs/stable/user_guide/indexing.html#returning-a-view-versus-a-copy\n",
      "  self.obj[key] = _infer_fill_value(value)\n"
     ]
    },
    {
     "name": "stdout",
     "output_type": "stream",
     "text": [
      "HI\n",
      "----------------------------------------------------------------------------------------------------\n",
      "Starting run at time 22:43:00\n",
      "Normalizing training and testing splits...\n",
      "Starting Classification training...\n",
      "Training time was: 47.32 seconds\n",
      "Testing time was: 1.59 seconds\n",
      "\n",
      "          Run ID        Date      Time                    Model Name Model Author Num Classes  Accuracy  Balanced Accuracy  AUC Score  Average Precision  F1 Score  Precision  Recall Samples In Train Samples In Test                                                                                      Model Description Column Predicted Num Features Used                                                                                    Data and Split Description Normalized Num Features Normalized Feature Extraction Was Untested Data Predicted\n",
      "0  ENV8g573z5AEx  2019-07-28  22:43:00  random_forest_classification  Hamed        2           0.638     0.638              0.691      0.674              0.639     0.637      0.642   192000           48000           Random Forest: n_estimators=361, max_features=auto, criterion=entropy, min_samples_leaf=13, n_jobs=-1  class_label      12                {'experiment_id': 'r1dd37mcxv5pf4', 'random_state': 0, 'live_volume': 0.0, 'dead_volume': 29, 'stain': None}  True       12                      False              False                     \n",
      "\n",
      "Run finished at 22:43:50. Total run time = 50.58 seconds\n",
      "^^^^^^^^^^^^^^^^^^^^^^^^^^^^^^^^^^^^^^^^^^^^^^^^^^^^^^^^^^^^^^^^^^^^^^^^^^^^^^^^^^^^^^^^^^^^^^^^^^^^\n",
      "\n",
      "\n",
      "\n",
      "\n",
      "HI\n",
      "{'experiment_id': 'r1dd37mcxv5pf4', 'random_state': 1, 'live_volume': 0.0, 'dead_volume': 980.0, 'stain': 'SYTOX Red Stain'}\n",
      "data_columns: ['Container Type', 'Control', 'Culture_Volume', 'Media', 'Replicate', 'Storage (C)', 'Strain', 'checksum', 'filename', 'kill', 'kill_volume', 'plate_id', 'source', 'stain', 'well', 'experiment_id', 'Time', 'FSC-A', 'SSC-A', 'BL1-A', 'RL1-A', 'FSC-H', 'SSC-H', 'BL1-H', 'RL1-H', 'FSC-W', 'SSC-W', 'BL1-W', 'RL1-W']\n"
     ]
    },
    {
     "name": "stderr",
     "output_type": "stream",
     "text": [
      "/Users/danbryce/Documents/sift/xplan/external/xplan/xplan-to-autoprotocol-reactor/xplan-dev-env/xplan-dev-env/lib/python3.7/site-packages/pandas/core/indexing.py:480: SettingWithCopyWarning: \n",
      "A value is trying to be set on a copy of a slice from a DataFrame.\n",
      "Try using .loc[row_indexer,col_indexer] = value instead\n",
      "\n",
      "See the caveats in the documentation: http://pandas.pydata.org/pandas-docs/stable/user_guide/indexing.html#returning-a-view-versus-a-copy\n",
      "  self.obj[item] = s\n"
     ]
    },
    {
     "name": "stdout",
     "output_type": "stream",
     "text": [
      "['FSC-A', 'SSC-A', 'BL1-A', 'RL1-A', 'FSC-H', 'SSC-H', 'BL1-H', 'RL1-H', 'FSC-W', 'SSC-W', 'BL1-W', 'RL1-W']\n",
      "\n",
      "<harness.test_harness_class.TestHarness object at 0x1d2549a58>\n"
     ]
    },
    {
     "name": "stderr",
     "output_type": "stream",
     "text": [
      "/Users/danbryce/Documents/sift/xplan/external/xplan/xplan-to-autoprotocol-reactor/xplan-dev-env/xplan-dev-env/lib/python3.7/site-packages/pandas/core/indexing.py:362: SettingWithCopyWarning: \n",
      "A value is trying to be set on a copy of a slice from a DataFrame.\n",
      "Try using .loc[row_indexer,col_indexer] = value instead\n",
      "\n",
      "See the caveats in the documentation: http://pandas.pydata.org/pandas-docs/stable/user_guide/indexing.html#returning-a-view-versus-a-copy\n",
      "  self.obj[key] = _infer_fill_value(value)\n"
     ]
    },
    {
     "name": "stdout",
     "output_type": "stream",
     "text": [
      "HI\n",
      "----------------------------------------------------------------------------------------------------\n",
      "Starting run at time 22:43:56\n",
      "Normalizing training and testing splits...\n",
      "Starting Classification training...\n",
      "Training time was: 31.76 seconds\n",
      "Testing time was: 0.67 seconds\n",
      "\n",
      "          Run ID        Date      Time                    Model Name Model Author Num Classes  Accuracy  Balanced Accuracy  AUC Score  Average Precision  F1 Score  Precision  Recall Samples In Train Samples In Test                                                                                      Model Description Column Predicted Num Features Used                                                                                                    Data and Split Description Normalized Num Features Normalized Feature Extraction Was Untested Data Predicted\n",
      "0  E6DGzPYyyzzaz  2019-07-28  22:43:56  random_forest_classification  Hamed        2           0.998     0.998              1.0        1.0                0.998     0.998      0.998   192000           48000           Random Forest: n_estimators=361, max_features=auto, criterion=entropy, min_samples_leaf=13, n_jobs=-1  class_label      12                {'experiment_id': 'r1dd37mcxv5pf4', 'random_state': 1, 'live_volume': 0.0, 'dead_volume': 980.0, 'stain': 'SYTOX Red Stain'}  True       12                      False              False                     \n",
      "\n",
      "Run finished at 22:44:31. Total run time = 34.42 seconds\n",
      "^^^^^^^^^^^^^^^^^^^^^^^^^^^^^^^^^^^^^^^^^^^^^^^^^^^^^^^^^^^^^^^^^^^^^^^^^^^^^^^^^^^^^^^^^^^^^^^^^^^^\n",
      "\n",
      "\n",
      "\n",
      "\n",
      "HI\n",
      "{'experiment_id': 'r1dd37mcxv5pf4', 'random_state': 1, 'live_volume': 0.0, 'dead_volume': 980.0, 'stain': None}\n",
      "data_columns: ['Container Type', 'Control', 'Culture_Volume', 'Media', 'Replicate', 'Storage (C)', 'Strain', 'checksum', 'filename', 'kill', 'kill_volume', 'plate_id', 'source', 'stain', 'well', 'experiment_id', 'Time', 'FSC-A', 'SSC-A', 'BL1-A', 'RL1-A', 'FSC-H', 'SSC-H', 'BL1-H', 'RL1-H', 'FSC-W', 'SSC-W', 'BL1-W', 'RL1-W']\n"
     ]
    },
    {
     "name": "stderr",
     "output_type": "stream",
     "text": [
      "/Users/danbryce/Documents/sift/xplan/external/xplan/xplan-to-autoprotocol-reactor/xplan-dev-env/xplan-dev-env/lib/python3.7/site-packages/pandas/core/indexing.py:480: SettingWithCopyWarning: \n",
      "A value is trying to be set on a copy of a slice from a DataFrame.\n",
      "Try using .loc[row_indexer,col_indexer] = value instead\n",
      "\n",
      "See the caveats in the documentation: http://pandas.pydata.org/pandas-docs/stable/user_guide/indexing.html#returning-a-view-versus-a-copy\n",
      "  self.obj[item] = s\n"
     ]
    },
    {
     "name": "stdout",
     "output_type": "stream",
     "text": [
      "['FSC-A', 'SSC-A', 'BL1-A', 'RL1-A', 'FSC-H', 'SSC-H', 'BL1-H', 'RL1-H', 'FSC-W', 'SSC-W', 'BL1-W', 'RL1-W']\n",
      "\n",
      "<harness.test_harness_class.TestHarness object at 0x1d6ecd978>\n"
     ]
    },
    {
     "name": "stderr",
     "output_type": "stream",
     "text": [
      "/Users/danbryce/Documents/sift/xplan/external/xplan/xplan-to-autoprotocol-reactor/xplan-dev-env/xplan-dev-env/lib/python3.7/site-packages/pandas/core/indexing.py:362: SettingWithCopyWarning: \n",
      "A value is trying to be set on a copy of a slice from a DataFrame.\n",
      "Try using .loc[row_indexer,col_indexer] = value instead\n",
      "\n",
      "See the caveats in the documentation: http://pandas.pydata.org/pandas-docs/stable/user_guide/indexing.html#returning-a-view-versus-a-copy\n",
      "  self.obj[key] = _infer_fill_value(value)\n"
     ]
    },
    {
     "name": "stdout",
     "output_type": "stream",
     "text": [
      "HI\n",
      "----------------------------------------------------------------------------------------------------\n",
      "Starting run at time 22:44:37\n",
      "Normalizing training and testing splits...\n",
      "Starting Classification training...\n",
      "Training time was: 36.04 seconds\n",
      "Testing time was: 0.67 seconds\n",
      "\n",
      "          Run ID        Date      Time                    Model Name Model Author Num Classes  Accuracy  Balanced Accuracy  AUC Score  Average Precision  F1 Score  Precision  Recall Samples In Train Samples In Test                                                                                      Model Description Column Predicted Num Features Used                                                                                       Data and Split Description Normalized Num Features Normalized Feature Extraction Was Untested Data Predicted\n",
      "0  5O3pEm6Mp3eYG  2019-07-28  22:44:37  random_forest_classification  Hamed        2           0.994     0.994              1.0        1.0                0.994     0.992      0.996   192000           48000           Random Forest: n_estimators=361, max_features=auto, criterion=entropy, min_samples_leaf=13, n_jobs=-1  class_label      12                {'experiment_id': 'r1dd37mcxv5pf4', 'random_state': 1, 'live_volume': 0.0, 'dead_volume': 980.0, 'stain': None}  True       12                      False              False                     \n",
      "\n",
      "Run finished at 22:45:15. Total run time = 38.44 seconds\n",
      "^^^^^^^^^^^^^^^^^^^^^^^^^^^^^^^^^^^^^^^^^^^^^^^^^^^^^^^^^^^^^^^^^^^^^^^^^^^^^^^^^^^^^^^^^^^^^^^^^^^^\n",
      "\n",
      "\n",
      "\n",
      "\n",
      "HI\n",
      "{'experiment_id': 'r1dd37mcxv5pf4', 'random_state': 1, 'live_volume': 0.0, 'dead_volume': 570.0, 'stain': 'SYTOX Red Stain'}\n",
      "data_columns: ['Container Type', 'Control', 'Culture_Volume', 'Media', 'Replicate', 'Storage (C)', 'Strain', 'checksum', 'filename', 'kill', 'kill_volume', 'plate_id', 'source', 'stain', 'well', 'experiment_id', 'Time', 'FSC-A', 'SSC-A', 'BL1-A', 'RL1-A', 'FSC-H', 'SSC-H', 'BL1-H', 'RL1-H', 'FSC-W', 'SSC-W', 'BL1-W', 'RL1-W']\n"
     ]
    },
    {
     "name": "stderr",
     "output_type": "stream",
     "text": [
      "/Users/danbryce/Documents/sift/xplan/external/xplan/xplan-to-autoprotocol-reactor/xplan-dev-env/xplan-dev-env/lib/python3.7/site-packages/pandas/core/indexing.py:480: SettingWithCopyWarning: \n",
      "A value is trying to be set on a copy of a slice from a DataFrame.\n",
      "Try using .loc[row_indexer,col_indexer] = value instead\n",
      "\n",
      "See the caveats in the documentation: http://pandas.pydata.org/pandas-docs/stable/user_guide/indexing.html#returning-a-view-versus-a-copy\n",
      "  self.obj[item] = s\n"
     ]
    },
    {
     "name": "stdout",
     "output_type": "stream",
     "text": [
      "['FSC-A', 'SSC-A', 'BL1-A', 'RL1-A', 'FSC-H', 'SSC-H', 'BL1-H', 'RL1-H', 'FSC-W', 'SSC-W', 'BL1-W', 'RL1-W']\n",
      "\n",
      "<harness.test_harness_class.TestHarness object at 0x18a18c978>\n"
     ]
    },
    {
     "name": "stderr",
     "output_type": "stream",
     "text": [
      "/Users/danbryce/Documents/sift/xplan/external/xplan/xplan-to-autoprotocol-reactor/xplan-dev-env/xplan-dev-env/lib/python3.7/site-packages/pandas/core/indexing.py:362: SettingWithCopyWarning: \n",
      "A value is trying to be set on a copy of a slice from a DataFrame.\n",
      "Try using .loc[row_indexer,col_indexer] = value instead\n",
      "\n",
      "See the caveats in the documentation: http://pandas.pydata.org/pandas-docs/stable/user_guide/indexing.html#returning-a-view-versus-a-copy\n",
      "  self.obj[key] = _infer_fill_value(value)\n"
     ]
    },
    {
     "name": "stdout",
     "output_type": "stream",
     "text": [
      "HI\n",
      "----------------------------------------------------------------------------------------------------\n",
      "Starting run at time 22:45:21\n",
      "Normalizing training and testing splits...\n",
      "Starting Classification training...\n",
      "Training time was: 33.18 seconds\n",
      "Testing time was: 0.67 seconds\n",
      "\n",
      "          Run ID        Date      Time                    Model Name Model Author Num Classes  Accuracy  Balanced Accuracy  AUC Score  Average Precision  F1 Score  Precision  Recall Samples In Train Samples In Test                                                                                      Model Description Column Predicted Num Features Used                                                                                                    Data and Split Description Normalized Num Features Normalized Feature Extraction Was Untested Data Predicted\n",
      "0  aAOo1562Oydqw  2019-07-28  22:45:21  random_forest_classification  Hamed        2           0.998     0.998              1.0        1.0                0.998     0.999      0.996   192000           48000           Random Forest: n_estimators=361, max_features=auto, criterion=entropy, min_samples_leaf=13, n_jobs=-1  class_label      12                {'experiment_id': 'r1dd37mcxv5pf4', 'random_state': 1, 'live_volume': 0.0, 'dead_volume': 570.0, 'stain': 'SYTOX Red Stain'}  True       12                      False              False                     \n",
      "\n",
      "Run finished at 22:45:57. Total run time = 35.57 seconds\n",
      "^^^^^^^^^^^^^^^^^^^^^^^^^^^^^^^^^^^^^^^^^^^^^^^^^^^^^^^^^^^^^^^^^^^^^^^^^^^^^^^^^^^^^^^^^^^^^^^^^^^^\n",
      "\n",
      "\n",
      "\n",
      "\n",
      "HI\n",
      "{'experiment_id': 'r1dd37mcxv5pf4', 'random_state': 1, 'live_volume': 0.0, 'dead_volume': 570.0, 'stain': None}\n",
      "data_columns: ['Container Type', 'Control', 'Culture_Volume', 'Media', 'Replicate', 'Storage (C)', 'Strain', 'checksum', 'filename', 'kill', 'kill_volume', 'plate_id', 'source', 'stain', 'well', 'experiment_id', 'Time', 'FSC-A', 'SSC-A', 'BL1-A', 'RL1-A', 'FSC-H', 'SSC-H', 'BL1-H', 'RL1-H', 'FSC-W', 'SSC-W', 'BL1-W', 'RL1-W']\n"
     ]
    },
    {
     "name": "stderr",
     "output_type": "stream",
     "text": [
      "/Users/danbryce/Documents/sift/xplan/external/xplan/xplan-to-autoprotocol-reactor/xplan-dev-env/xplan-dev-env/lib/python3.7/site-packages/pandas/core/indexing.py:480: SettingWithCopyWarning: \n",
      "A value is trying to be set on a copy of a slice from a DataFrame.\n",
      "Try using .loc[row_indexer,col_indexer] = value instead\n",
      "\n",
      "See the caveats in the documentation: http://pandas.pydata.org/pandas-docs/stable/user_guide/indexing.html#returning-a-view-versus-a-copy\n",
      "  self.obj[item] = s\n"
     ]
    },
    {
     "name": "stdout",
     "output_type": "stream",
     "text": [
      "['FSC-A', 'SSC-A', 'BL1-A', 'RL1-A', 'FSC-H', 'SSC-H', 'BL1-H', 'RL1-H', 'FSC-W', 'SSC-W', 'BL1-W', 'RL1-W']\n",
      "\n",
      "<harness.test_harness_class.TestHarness object at 0x182145f28>\n"
     ]
    },
    {
     "name": "stderr",
     "output_type": "stream",
     "text": [
      "/Users/danbryce/Documents/sift/xplan/external/xplan/xplan-to-autoprotocol-reactor/xplan-dev-env/xplan-dev-env/lib/python3.7/site-packages/pandas/core/indexing.py:362: SettingWithCopyWarning: \n",
      "A value is trying to be set on a copy of a slice from a DataFrame.\n",
      "Try using .loc[row_indexer,col_indexer] = value instead\n",
      "\n",
      "See the caveats in the documentation: http://pandas.pydata.org/pandas-docs/stable/user_guide/indexing.html#returning-a-view-versus-a-copy\n",
      "  self.obj[key] = _infer_fill_value(value)\n"
     ]
    },
    {
     "name": "stdout",
     "output_type": "stream",
     "text": [
      "HI\n",
      "----------------------------------------------------------------------------------------------------\n",
      "Starting run at time 22:46:03\n",
      "Normalizing training and testing splits...\n",
      "Starting Classification training...\n",
      "Training time was: 42.19 seconds\n",
      "Testing time was: 1.05 seconds\n",
      "\n",
      "         Run ID        Date      Time                    Model Name Model Author Num Classes  Accuracy  Balanced Accuracy  AUC Score  Average Precision  F1 Score  Precision  Recall Samples In Train Samples In Test                                                                                      Model Description Column Predicted Num Features Used                                                                                       Data and Split Description Normalized Num Features Normalized Feature Extraction Was Untested Data Predicted\n",
      "0  aPk7M3yOapRo  2019-07-28  22:46:03  random_forest_classification  Hamed        2           0.978     0.977              0.997      0.997              0.979     0.974      0.984   183965           45992           Random Forest: n_estimators=361, max_features=auto, criterion=entropy, min_samples_leaf=13, n_jobs=-1  class_label      12                {'experiment_id': 'r1dd37mcxv5pf4', 'random_state': 1, 'live_volume': 0.0, 'dead_volume': 570.0, 'stain': None}  True       12                      False              False                     \n",
      "\n",
      "Run finished at 22:46:48. Total run time = 44.85 seconds\n",
      "^^^^^^^^^^^^^^^^^^^^^^^^^^^^^^^^^^^^^^^^^^^^^^^^^^^^^^^^^^^^^^^^^^^^^^^^^^^^^^^^^^^^^^^^^^^^^^^^^^^^\n",
      "\n",
      "\n",
      "\n",
      "\n",
      "HI\n",
      "{'experiment_id': 'r1dd37mcxv5pf4', 'random_state': 1, 'live_volume': 0.0, 'dead_volume': 370.0, 'stain': 'SYTOX Red Stain'}\n"
     ]
    },
    {
     "name": "stderr",
     "output_type": "stream",
     "text": [
      "/Users/danbryce/Documents/sift/xplan/external/xplan/xplan-to-autoprotocol-reactor/xplan-dev-env/xplan-dev-env/lib/python3.7/site-packages/pandas/core/indexing.py:480: SettingWithCopyWarning: \n",
      "A value is trying to be set on a copy of a slice from a DataFrame.\n",
      "Try using .loc[row_indexer,col_indexer] = value instead\n",
      "\n",
      "See the caveats in the documentation: http://pandas.pydata.org/pandas-docs/stable/user_guide/indexing.html#returning-a-view-versus-a-copy\n",
      "  self.obj[item] = s\n"
     ]
    },
    {
     "name": "stdout",
     "output_type": "stream",
     "text": [
      "data_columns: ['Container Type', 'Control', 'Culture_Volume', 'Media', 'Replicate', 'Storage (C)', 'Strain', 'checksum', 'filename', 'kill', 'kill_volume', 'plate_id', 'source', 'stain', 'well', 'experiment_id', 'Time', 'FSC-A', 'SSC-A', 'BL1-A', 'RL1-A', 'FSC-H', 'SSC-H', 'BL1-H', 'RL1-H', 'FSC-W', 'SSC-W', 'BL1-W', 'RL1-W']\n",
      "['FSC-A', 'SSC-A', 'BL1-A', 'RL1-A', 'FSC-H', 'SSC-H', 'BL1-H', 'RL1-H', 'FSC-W', 'SSC-W', 'BL1-W', 'RL1-W']\n",
      "\n",
      "<harness.test_harness_class.TestHarness object at 0x15b9d6dd8>\n"
     ]
    },
    {
     "name": "stderr",
     "output_type": "stream",
     "text": [
      "/Users/danbryce/Documents/sift/xplan/external/xplan/xplan-to-autoprotocol-reactor/xplan-dev-env/xplan-dev-env/lib/python3.7/site-packages/pandas/core/indexing.py:362: SettingWithCopyWarning: \n",
      "A value is trying to be set on a copy of a slice from a DataFrame.\n",
      "Try using .loc[row_indexer,col_indexer] = value instead\n",
      "\n",
      "See the caveats in the documentation: http://pandas.pydata.org/pandas-docs/stable/user_guide/indexing.html#returning-a-view-versus-a-copy\n",
      "  self.obj[key] = _infer_fill_value(value)\n"
     ]
    },
    {
     "name": "stdout",
     "output_type": "stream",
     "text": [
      "HI\n",
      "----------------------------------------------------------------------------------------------------\n",
      "Starting run at time 22:46:53\n",
      "Normalizing training and testing splits...\n",
      "Starting Classification training...\n",
      "Training time was: 27.66 seconds\n",
      "Testing time was: 0.66 seconds\n",
      "\n",
      "          Run ID        Date      Time                    Model Name Model Author Num Classes  Accuracy  Balanced Accuracy  AUC Score  Average Precision  F1 Score  Precision  Recall Samples In Train Samples In Test                                                                                      Model Description Column Predicted Num Features Used                                                                                                    Data and Split Description Normalized Num Features Normalized Feature Extraction Was Untested Data Predicted\n",
      "0  aLvOdbZAMDzjV  2019-07-28  22:46:53  random_forest_classification  Hamed        2           0.997     0.997              1.0        1.0                0.997     0.999      0.996   175331           43833           Random Forest: n_estimators=361, max_features=auto, criterion=entropy, min_samples_leaf=13, n_jobs=-1  class_label      12                {'experiment_id': 'r1dd37mcxv5pf4', 'random_state': 1, 'live_volume': 0.0, 'dead_volume': 370.0, 'stain': 'SYTOX Red Stain'}  True       12                      False              False                     \n",
      "\n",
      "Run finished at 22:47:23. Total run time = 29.87 seconds\n",
      "^^^^^^^^^^^^^^^^^^^^^^^^^^^^^^^^^^^^^^^^^^^^^^^^^^^^^^^^^^^^^^^^^^^^^^^^^^^^^^^^^^^^^^^^^^^^^^^^^^^^\n",
      "\n",
      "\n",
      "\n",
      "\n",
      "HI\n",
      "{'experiment_id': 'r1dd37mcxv5pf4', 'random_state': 1, 'live_volume': 0.0, 'dead_volume': 370.0, 'stain': None}\n",
      "data_columns: ['Container Type', 'Control', 'Culture_Volume', 'Media', 'Replicate', 'Storage (C)', 'Strain', 'checksum', 'filename', 'kill', 'kill_volume', 'plate_id', 'source', 'stain', 'well', 'experiment_id', 'Time', 'FSC-A', 'SSC-A', 'BL1-A', 'RL1-A', 'FSC-H', 'SSC-H', 'BL1-H', 'RL1-H', 'FSC-W', 'SSC-W', 'BL1-W', 'RL1-W']\n"
     ]
    },
    {
     "name": "stderr",
     "output_type": "stream",
     "text": [
      "/Users/danbryce/Documents/sift/xplan/external/xplan/xplan-to-autoprotocol-reactor/xplan-dev-env/xplan-dev-env/lib/python3.7/site-packages/pandas/core/indexing.py:480: SettingWithCopyWarning: \n",
      "A value is trying to be set on a copy of a slice from a DataFrame.\n",
      "Try using .loc[row_indexer,col_indexer] = value instead\n",
      "\n",
      "See the caveats in the documentation: http://pandas.pydata.org/pandas-docs/stable/user_guide/indexing.html#returning-a-view-versus-a-copy\n",
      "  self.obj[item] = s\n"
     ]
    },
    {
     "name": "stdout",
     "output_type": "stream",
     "text": [
      "['FSC-A', 'SSC-A', 'BL1-A', 'RL1-A', 'FSC-H', 'SSC-H', 'BL1-H', 'RL1-H', 'FSC-W', 'SSC-W', 'BL1-W', 'RL1-W']\n",
      "\n",
      "<harness.test_harness_class.TestHarness object at 0x19d8f1240>\n"
     ]
    },
    {
     "name": "stderr",
     "output_type": "stream",
     "text": [
      "/Users/danbryce/Documents/sift/xplan/external/xplan/xplan-to-autoprotocol-reactor/xplan-dev-env/xplan-dev-env/lib/python3.7/site-packages/pandas/core/indexing.py:362: SettingWithCopyWarning: \n",
      "A value is trying to be set on a copy of a slice from a DataFrame.\n",
      "Try using .loc[row_indexer,col_indexer] = value instead\n",
      "\n",
      "See the caveats in the documentation: http://pandas.pydata.org/pandas-docs/stable/user_guide/indexing.html#returning-a-view-versus-a-copy\n",
      "  self.obj[key] = _infer_fill_value(value)\n"
     ]
    },
    {
     "name": "stdout",
     "output_type": "stream",
     "text": [
      "HI\n",
      "----------------------------------------------------------------------------------------------------\n",
      "Starting run at time 22:47:28\n",
      "Normalizing training and testing splits...\n",
      "Starting Classification training...\n",
      "Training time was: 38.98 seconds\n",
      "Testing time was: 0.87 seconds\n",
      "\n",
      "          Run ID        Date      Time                    Model Name Model Author Num Classes  Accuracy  Balanced Accuracy  AUC Score  Average Precision  F1 Score  Precision  Recall Samples In Train Samples In Test                                                                                      Model Description Column Predicted Num Features Used                                                                                       Data and Split Description Normalized Num Features Normalized Feature Extraction Was Untested Data Predicted\n",
      "0  Qza5oqLGYZdv1  2019-07-28  22:47:28  random_forest_classification  Hamed        2           0.974     0.972              0.995      0.996              0.977     0.974      0.98    166786           41697           Random Forest: n_estimators=361, max_features=auto, criterion=entropy, min_samples_leaf=13, n_jobs=-1  class_label      12                {'experiment_id': 'r1dd37mcxv5pf4', 'random_state': 1, 'live_volume': 0.0, 'dead_volume': 370.0, 'stain': None}  True       12                      False              False                     \n",
      "\n",
      "Run finished at 22:48:10. Total run time = 41.40 seconds\n",
      "^^^^^^^^^^^^^^^^^^^^^^^^^^^^^^^^^^^^^^^^^^^^^^^^^^^^^^^^^^^^^^^^^^^^^^^^^^^^^^^^^^^^^^^^^^^^^^^^^^^^\n",
      "\n",
      "\n",
      "\n",
      "\n",
      "HI\n",
      "{'experiment_id': 'r1dd37mcxv5pf4', 'random_state': 1, 'live_volume': 0.0, 'dead_volume': 250.0, 'stain': 'SYTOX Red Stain'}\n",
      "data_columns: ['Container Type', 'Control', 'Culture_Volume', 'Media', 'Replicate', 'Storage (C)', 'Strain', 'checksum', 'filename', 'kill', 'kill_volume', 'plate_id', 'source', 'stain', 'well', 'experiment_id', 'Time', 'FSC-A', 'SSC-A', 'BL1-A', 'RL1-A', 'FSC-H', 'SSC-H', 'BL1-H', 'RL1-H', 'FSC-W', 'SSC-W', 'BL1-W', 'RL1-W']\n"
     ]
    },
    {
     "name": "stderr",
     "output_type": "stream",
     "text": [
      "/Users/danbryce/Documents/sift/xplan/external/xplan/xplan-to-autoprotocol-reactor/xplan-dev-env/xplan-dev-env/lib/python3.7/site-packages/pandas/core/indexing.py:480: SettingWithCopyWarning: \n",
      "A value is trying to be set on a copy of a slice from a DataFrame.\n",
      "Try using .loc[row_indexer,col_indexer] = value instead\n",
      "\n",
      "See the caveats in the documentation: http://pandas.pydata.org/pandas-docs/stable/user_guide/indexing.html#returning-a-view-versus-a-copy\n",
      "  self.obj[item] = s\n"
     ]
    },
    {
     "name": "stdout",
     "output_type": "stream",
     "text": [
      "['FSC-A', 'SSC-A', 'BL1-A', 'RL1-A', 'FSC-H', 'SSC-H', 'BL1-H', 'RL1-H', 'FSC-W', 'SSC-W', 'BL1-W', 'RL1-W']\n",
      "\n",
      "<harness.test_harness_class.TestHarness object at 0x1d6eb0e10>\n"
     ]
    },
    {
     "name": "stderr",
     "output_type": "stream",
     "text": [
      "/Users/danbryce/Documents/sift/xplan/external/xplan/xplan-to-autoprotocol-reactor/xplan-dev-env/xplan-dev-env/lib/python3.7/site-packages/pandas/core/indexing.py:362: SettingWithCopyWarning: \n",
      "A value is trying to be set on a copy of a slice from a DataFrame.\n",
      "Try using .loc[row_indexer,col_indexer] = value instead\n",
      "\n",
      "See the caveats in the documentation: http://pandas.pydata.org/pandas-docs/stable/user_guide/indexing.html#returning-a-view-versus-a-copy\n",
      "  self.obj[key] = _infer_fill_value(value)\n"
     ]
    },
    {
     "name": "stdout",
     "output_type": "stream",
     "text": [
      "HI\n",
      "----------------------------------------------------------------------------------------------------\n",
      "Starting run at time 22:48:14\n",
      "Normalizing training and testing splits...\n",
      "Starting Classification training...\n",
      "Training time was: 24.83 seconds\n",
      "Testing time was: 0.55 seconds\n",
      "\n",
      "          Run ID        Date      Time                    Model Name Model Author Num Classes  Accuracy  Balanced Accuracy  AUC Score  Average Precision  F1 Score  Precision  Recall Samples In Train Samples In Test                                                                                      Model Description Column Predicted Num Features Used                                                                                                    Data and Split Description Normalized Num Features Normalized Feature Extraction Was Untested Data Predicted\n",
      "0  5WlXyaxqRyAZN  2019-07-28  22:48:14  random_forest_classification  Hamed        2           0.996     0.997              1.0        1.0                0.997     1.0        0.995   147452           36864           Random Forest: n_estimators=361, max_features=auto, criterion=entropy, min_samples_leaf=13, n_jobs=-1  class_label      12                {'experiment_id': 'r1dd37mcxv5pf4', 'random_state': 1, 'live_volume': 0.0, 'dead_volume': 250.0, 'stain': 'SYTOX Red Stain'}  True       12                      False              False                     \n",
      "\n",
      "Run finished at 22:48:41. Total run time = 26.78 seconds\n",
      "^^^^^^^^^^^^^^^^^^^^^^^^^^^^^^^^^^^^^^^^^^^^^^^^^^^^^^^^^^^^^^^^^^^^^^^^^^^^^^^^^^^^^^^^^^^^^^^^^^^^\n",
      "\n",
      "\n",
      "\n",
      "\n",
      "HI\n",
      "{'experiment_id': 'r1dd37mcxv5pf4', 'random_state': 1, 'live_volume': 0.0, 'dead_volume': 250.0, 'stain': None}\n",
      "data_columns: ['Container Type', 'Control', 'Culture_Volume', 'Media', 'Replicate', 'Storage (C)', 'Strain', 'checksum', 'filename', 'kill', 'kill_volume', 'plate_id', 'source', 'stain', 'well', 'experiment_id', 'Time', 'FSC-A', 'SSC-A', 'BL1-A', 'RL1-A', 'FSC-H', 'SSC-H', 'BL1-H', 'RL1-H', 'FSC-W', 'SSC-W', 'BL1-W', 'RL1-W']\n"
     ]
    },
    {
     "name": "stderr",
     "output_type": "stream",
     "text": [
      "/Users/danbryce/Documents/sift/xplan/external/xplan/xplan-to-autoprotocol-reactor/xplan-dev-env/xplan-dev-env/lib/python3.7/site-packages/pandas/core/indexing.py:480: SettingWithCopyWarning: \n",
      "A value is trying to be set on a copy of a slice from a DataFrame.\n",
      "Try using .loc[row_indexer,col_indexer] = value instead\n",
      "\n",
      "See the caveats in the documentation: http://pandas.pydata.org/pandas-docs/stable/user_guide/indexing.html#returning-a-view-versus-a-copy\n",
      "  self.obj[item] = s\n"
     ]
    },
    {
     "name": "stdout",
     "output_type": "stream",
     "text": [
      "['FSC-A', 'SSC-A', 'BL1-A', 'RL1-A', 'FSC-H', 'SSC-H', 'BL1-H', 'RL1-H', 'FSC-W', 'SSC-W', 'BL1-W', 'RL1-W']\n",
      "\n",
      "<harness.test_harness_class.TestHarness object at 0x18a399c18>\n"
     ]
    },
    {
     "name": "stderr",
     "output_type": "stream",
     "text": [
      "/Users/danbryce/Documents/sift/xplan/external/xplan/xplan-to-autoprotocol-reactor/xplan-dev-env/xplan-dev-env/lib/python3.7/site-packages/pandas/core/indexing.py:362: SettingWithCopyWarning: \n",
      "A value is trying to be set on a copy of a slice from a DataFrame.\n",
      "Try using .loc[row_indexer,col_indexer] = value instead\n",
      "\n",
      "See the caveats in the documentation: http://pandas.pydata.org/pandas-docs/stable/user_guide/indexing.html#returning-a-view-versus-a-copy\n",
      "  self.obj[key] = _infer_fill_value(value)\n"
     ]
    },
    {
     "name": "stdout",
     "output_type": "stream",
     "text": [
      "HI\n",
      "----------------------------------------------------------------------------------------------------\n",
      "Starting run at time 22:48:45\n",
      "Normalizing training and testing splits...\n",
      "Starting Classification training...\n",
      "Training time was: 31.41 seconds\n",
      "Testing time was: 0.85 seconds\n",
      "\n",
      "          Run ID        Date      Time                    Model Name Model Author Num Classes  Accuracy  Balanced Accuracy  AUC Score  Average Precision  F1 Score  Precision  Recall Samples In Train Samples In Test                                                                                      Model Description Column Predicted Num Features Used                                                                                       Data and Split Description Normalized Num Features Normalized Feature Extraction Was Untested Data Predicted\n",
      "0  ab59BdOe659Pb  2019-07-28  22:48:45  random_forest_classification  Hamed        2           0.96      0.957              0.991      0.995              0.971     0.975      0.966   142361           35591           Random Forest: n_estimators=361, max_features=auto, criterion=entropy, min_samples_leaf=13, n_jobs=-1  class_label      12                {'experiment_id': 'r1dd37mcxv5pf4', 'random_state': 1, 'live_volume': 0.0, 'dead_volume': 250.0, 'stain': None}  True       12                      False              False                     \n",
      "\n",
      "Run finished at 22:49:19. Total run time = 33.68 seconds\n",
      "^^^^^^^^^^^^^^^^^^^^^^^^^^^^^^^^^^^^^^^^^^^^^^^^^^^^^^^^^^^^^^^^^^^^^^^^^^^^^^^^^^^^^^^^^^^^^^^^^^^^\n",
      "\n",
      "\n",
      "\n",
      "\n",
      "HI\n",
      "{'experiment_id': 'r1dd37mcxv5pf4', 'random_state': 1, 'live_volume': 0.0, 'dead_volume': 170.0, 'stain': 'SYTOX Red Stain'}\n",
      "data_columns: ['Container Type', 'Control', 'Culture_Volume', 'Media', 'Replicate', 'Storage (C)', 'Strain', 'checksum', 'filename', 'kill', 'kill_volume', 'plate_id', 'source', 'stain', 'well', 'experiment_id', 'Time', 'FSC-A', 'SSC-A', 'BL1-A', 'RL1-A', 'FSC-H', 'SSC-H', 'BL1-H', 'RL1-H', 'FSC-W', 'SSC-W', 'BL1-W', 'RL1-W']\n"
     ]
    },
    {
     "name": "stderr",
     "output_type": "stream",
     "text": [
      "/Users/danbryce/Documents/sift/xplan/external/xplan/xplan-to-autoprotocol-reactor/xplan-dev-env/xplan-dev-env/lib/python3.7/site-packages/pandas/core/indexing.py:480: SettingWithCopyWarning: \n",
      "A value is trying to be set on a copy of a slice from a DataFrame.\n",
      "Try using .loc[row_indexer,col_indexer] = value instead\n",
      "\n",
      "See the caveats in the documentation: http://pandas.pydata.org/pandas-docs/stable/user_guide/indexing.html#returning-a-view-versus-a-copy\n",
      "  self.obj[item] = s\n"
     ]
    },
    {
     "name": "stdout",
     "output_type": "stream",
     "text": [
      "['FSC-A', 'SSC-A', 'BL1-A', 'RL1-A', 'FSC-H', 'SSC-H', 'BL1-H', 'RL1-H', 'FSC-W', 'SSC-W', 'BL1-W', 'RL1-W']\n",
      "\n",
      "<harness.test_harness_class.TestHarness object at 0x1821a06d8>\n"
     ]
    },
    {
     "name": "stderr",
     "output_type": "stream",
     "text": [
      "/Users/danbryce/Documents/sift/xplan/external/xplan/xplan-to-autoprotocol-reactor/xplan-dev-env/xplan-dev-env/lib/python3.7/site-packages/pandas/core/indexing.py:362: SettingWithCopyWarning: \n",
      "A value is trying to be set on a copy of a slice from a DataFrame.\n",
      "Try using .loc[row_indexer,col_indexer] = value instead\n",
      "\n",
      "See the caveats in the documentation: http://pandas.pydata.org/pandas-docs/stable/user_guide/indexing.html#returning-a-view-versus-a-copy\n",
      "  self.obj[key] = _infer_fill_value(value)\n"
     ]
    },
    {
     "name": "stdout",
     "output_type": "stream",
     "text": [
      "HI\n",
      "----------------------------------------------------------------------------------------------------\n",
      "Starting run at time 22:49:25\n",
      "Normalizing training and testing splits...\n",
      "Starting Classification training...\n",
      "Training time was: 42.21 seconds\n",
      "Testing time was: 0.77 seconds\n",
      "\n",
      "          Run ID        Date      Time                    Model Name Model Author Num Classes  Accuracy  Balanced Accuracy  AUC Score  Average Precision  F1 Score  Precision  Recall Samples In Train Samples In Test                                                                                      Model Description Column Predicted Num Features Used                                                                                                    Data and Split Description Normalized Num Features Normalized Feature Extraction Was Untested Data Predicted\n",
      "0  EWobN8pAr85RJ  2019-07-28  22:49:25  random_forest_classification  Hamed        2           0.997     0.997              1.0        0.999              0.997     0.998      0.995   192000           48000           Random Forest: n_estimators=361, max_features=auto, criterion=entropy, min_samples_leaf=13, n_jobs=-1  class_label      12                {'experiment_id': 'r1dd37mcxv5pf4', 'random_state': 1, 'live_volume': 0.0, 'dead_volume': 170.0, 'stain': 'SYTOX Red Stain'}  True       12                      False              False                     \n",
      "\n",
      "Run finished at 22:50:10. Total run time = 44.64 seconds\n",
      "^^^^^^^^^^^^^^^^^^^^^^^^^^^^^^^^^^^^^^^^^^^^^^^^^^^^^^^^^^^^^^^^^^^^^^^^^^^^^^^^^^^^^^^^^^^^^^^^^^^^\n",
      "\n",
      "\n",
      "\n",
      "\n",
      "HI\n",
      "{'experiment_id': 'r1dd37mcxv5pf4', 'random_state': 1, 'live_volume': 0.0, 'dead_volume': 170.0, 'stain': None}\n",
      "data_columns: ['Container Type', 'Control', 'Culture_Volume', 'Media', 'Replicate', 'Storage (C)', 'Strain', 'checksum', 'filename', 'kill', 'kill_volume', 'plate_id', 'source', 'stain', 'well', 'experiment_id', 'Time', 'FSC-A', 'SSC-A', 'BL1-A', 'RL1-A', 'FSC-H', 'SSC-H', 'BL1-H', 'RL1-H', 'FSC-W', 'SSC-W', 'BL1-W', 'RL1-W']\n"
     ]
    },
    {
     "name": "stderr",
     "output_type": "stream",
     "text": [
      "/Users/danbryce/Documents/sift/xplan/external/xplan/xplan-to-autoprotocol-reactor/xplan-dev-env/xplan-dev-env/lib/python3.7/site-packages/pandas/core/indexing.py:480: SettingWithCopyWarning: \n",
      "A value is trying to be set on a copy of a slice from a DataFrame.\n",
      "Try using .loc[row_indexer,col_indexer] = value instead\n",
      "\n",
      "See the caveats in the documentation: http://pandas.pydata.org/pandas-docs/stable/user_guide/indexing.html#returning-a-view-versus-a-copy\n",
      "  self.obj[item] = s\n"
     ]
    },
    {
     "name": "stdout",
     "output_type": "stream",
     "text": [
      "['FSC-A', 'SSC-A', 'BL1-A', 'RL1-A', 'FSC-H', 'SSC-H', 'BL1-H', 'RL1-H', 'FSC-W', 'SSC-W', 'BL1-W', 'RL1-W']\n",
      "\n",
      "<harness.test_harness_class.TestHarness object at 0x19d8e8080>\n"
     ]
    },
    {
     "name": "stderr",
     "output_type": "stream",
     "text": [
      "/Users/danbryce/Documents/sift/xplan/external/xplan/xplan-to-autoprotocol-reactor/xplan-dev-env/xplan-dev-env/lib/python3.7/site-packages/pandas/core/indexing.py:362: SettingWithCopyWarning: \n",
      "A value is trying to be set on a copy of a slice from a DataFrame.\n",
      "Try using .loc[row_indexer,col_indexer] = value instead\n",
      "\n",
      "See the caveats in the documentation: http://pandas.pydata.org/pandas-docs/stable/user_guide/indexing.html#returning-a-view-versus-a-copy\n",
      "  self.obj[key] = _infer_fill_value(value)\n"
     ]
    },
    {
     "name": "stdout",
     "output_type": "stream",
     "text": [
      "HI\n",
      "----------------------------------------------------------------------------------------------------\n",
      "Starting run at time 22:50:16\n",
      "Normalizing training and testing splits...\n",
      "Starting Classification training...\n",
      "Training time was: 43.18 seconds\n",
      "Testing time was: 1.30 seconds\n",
      "\n",
      "          Run ID        Date      Time                    Model Name Model Author Num Classes  Accuracy  Balanced Accuracy  AUC Score  Average Precision  F1 Score  Precision  Recall Samples In Train Samples In Test                                                                                      Model Description Column Predicted Num Features Used                                                                                       Data and Split Description Normalized Num Features Normalized Feature Extraction Was Untested Data Predicted\n",
      "0  5rp7xR8wp35qb  2019-07-28  22:50:16  random_forest_classification  Hamed        2           0.918     0.918              0.973      0.971              0.919     0.91       0.928   192000           48000           Random Forest: n_estimators=361, max_features=auto, criterion=entropy, min_samples_leaf=13, n_jobs=-1  class_label      12                {'experiment_id': 'r1dd37mcxv5pf4', 'random_state': 1, 'live_volume': 0.0, 'dead_volume': 170.0, 'stain': None}  True       12                      False              False                     \n",
      "\n",
      "Run finished at 22:51:02. Total run time = 46.19 seconds\n",
      "^^^^^^^^^^^^^^^^^^^^^^^^^^^^^^^^^^^^^^^^^^^^^^^^^^^^^^^^^^^^^^^^^^^^^^^^^^^^^^^^^^^^^^^^^^^^^^^^^^^^\n",
      "\n",
      "\n",
      "\n",
      "\n",
      "HI\n",
      "{'experiment_id': 'r1dd37mcxv5pf4', 'random_state': 1, 'live_volume': 0.0, 'dead_volume': 105.0, 'stain': 'SYTOX Red Stain'}\n",
      "data_columns: ['Container Type', 'Control', 'Culture_Volume', 'Media', 'Replicate', 'Storage (C)', 'Strain', 'checksum', 'filename', 'kill', 'kill_volume', 'plate_id', 'source', 'stain', 'well', 'experiment_id', 'Time', 'FSC-A', 'SSC-A', 'BL1-A', 'RL1-A', 'FSC-H', 'SSC-H', 'BL1-H', 'RL1-H', 'FSC-W', 'SSC-W', 'BL1-W', 'RL1-W']\n"
     ]
    },
    {
     "name": "stderr",
     "output_type": "stream",
     "text": [
      "/Users/danbryce/Documents/sift/xplan/external/xplan/xplan-to-autoprotocol-reactor/xplan-dev-env/xplan-dev-env/lib/python3.7/site-packages/pandas/core/indexing.py:480: SettingWithCopyWarning: \n",
      "A value is trying to be set on a copy of a slice from a DataFrame.\n",
      "Try using .loc[row_indexer,col_indexer] = value instead\n",
      "\n",
      "See the caveats in the documentation: http://pandas.pydata.org/pandas-docs/stable/user_guide/indexing.html#returning-a-view-versus-a-copy\n",
      "  self.obj[item] = s\n"
     ]
    },
    {
     "name": "stdout",
     "output_type": "stream",
     "text": [
      "['FSC-A', 'SSC-A', 'BL1-A', 'RL1-A', 'FSC-H', 'SSC-H', 'BL1-H', 'RL1-H', 'FSC-W', 'SSC-W', 'BL1-W', 'RL1-W']\n",
      "\n",
      "<harness.test_harness_class.TestHarness object at 0x1e564fb70>\n"
     ]
    },
    {
     "name": "stderr",
     "output_type": "stream",
     "text": [
      "/Users/danbryce/Documents/sift/xplan/external/xplan/xplan-to-autoprotocol-reactor/xplan-dev-env/xplan-dev-env/lib/python3.7/site-packages/pandas/core/indexing.py:362: SettingWithCopyWarning: \n",
      "A value is trying to be set on a copy of a slice from a DataFrame.\n",
      "Try using .loc[row_indexer,col_indexer] = value instead\n",
      "\n",
      "See the caveats in the documentation: http://pandas.pydata.org/pandas-docs/stable/user_guide/indexing.html#returning-a-view-versus-a-copy\n",
      "  self.obj[key] = _infer_fill_value(value)\n"
     ]
    },
    {
     "name": "stdout",
     "output_type": "stream",
     "text": [
      "HI\n",
      "----------------------------------------------------------------------------------------------------\n",
      "Starting run at time 22:51:08\n",
      "Normalizing training and testing splits...\n",
      "Starting Classification training...\n",
      "Training time was: 36.41 seconds\n",
      "Testing time was: 0.67 seconds\n",
      "\n",
      "          Run ID        Date      Time                    Model Name Model Author Num Classes  Accuracy  Balanced Accuracy  AUC Score  Average Precision  F1 Score  Precision  Recall Samples In Train Samples In Test                                                                                      Model Description Column Predicted Num Features Used                                                                                                    Data and Split Description Normalized Num Features Normalized Feature Extraction Was Untested Data Predicted\n",
      "0  ErY5lgEWjd77z  2019-07-28  22:51:08  random_forest_classification  Hamed        2           0.998     0.998              1.0        1.0                0.998     0.999      0.996   192000           48000           Random Forest: n_estimators=361, max_features=auto, criterion=entropy, min_samples_leaf=13, n_jobs=-1  class_label      12                {'experiment_id': 'r1dd37mcxv5pf4', 'random_state': 1, 'live_volume': 0.0, 'dead_volume': 105.0, 'stain': 'SYTOX Red Stain'}  True       12                      False              False                     \n",
      "\n",
      "Run finished at 22:51:47. Total run time = 38.75 seconds\n",
      "^^^^^^^^^^^^^^^^^^^^^^^^^^^^^^^^^^^^^^^^^^^^^^^^^^^^^^^^^^^^^^^^^^^^^^^^^^^^^^^^^^^^^^^^^^^^^^^^^^^^\n",
      "\n",
      "\n",
      "\n",
      "\n",
      "HI\n",
      "{'experiment_id': 'r1dd37mcxv5pf4', 'random_state': 1, 'live_volume': 0.0, 'dead_volume': 105.0, 'stain': None}\n",
      "data_columns: ['Container Type', 'Control', 'Culture_Volume', 'Media', 'Replicate', 'Storage (C)', 'Strain', 'checksum', 'filename', 'kill', 'kill_volume', 'plate_id', 'source', 'stain', 'well', 'experiment_id', 'Time', 'FSC-A', 'SSC-A', 'BL1-A', 'RL1-A', 'FSC-H', 'SSC-H', 'BL1-H', 'RL1-H', 'FSC-W', 'SSC-W', 'BL1-W', 'RL1-W']\n"
     ]
    },
    {
     "name": "stderr",
     "output_type": "stream",
     "text": [
      "/Users/danbryce/Documents/sift/xplan/external/xplan/xplan-to-autoprotocol-reactor/xplan-dev-env/xplan-dev-env/lib/python3.7/site-packages/pandas/core/indexing.py:480: SettingWithCopyWarning: \n",
      "A value is trying to be set on a copy of a slice from a DataFrame.\n",
      "Try using .loc[row_indexer,col_indexer] = value instead\n",
      "\n",
      "See the caveats in the documentation: http://pandas.pydata.org/pandas-docs/stable/user_guide/indexing.html#returning-a-view-versus-a-copy\n",
      "  self.obj[item] = s\n"
     ]
    },
    {
     "name": "stdout",
     "output_type": "stream",
     "text": [
      "['FSC-A', 'SSC-A', 'BL1-A', 'RL1-A', 'FSC-H', 'SSC-H', 'BL1-H', 'RL1-H', 'FSC-W', 'SSC-W', 'BL1-W', 'RL1-W']\n",
      "\n",
      "<harness.test_harness_class.TestHarness object at 0x203d73470>\n"
     ]
    },
    {
     "name": "stderr",
     "output_type": "stream",
     "text": [
      "/Users/danbryce/Documents/sift/xplan/external/xplan/xplan-to-autoprotocol-reactor/xplan-dev-env/xplan-dev-env/lib/python3.7/site-packages/pandas/core/indexing.py:362: SettingWithCopyWarning: \n",
      "A value is trying to be set on a copy of a slice from a DataFrame.\n",
      "Try using .loc[row_indexer,col_indexer] = value instead\n",
      "\n",
      "See the caveats in the documentation: http://pandas.pydata.org/pandas-docs/stable/user_guide/indexing.html#returning-a-view-versus-a-copy\n",
      "  self.obj[key] = _infer_fill_value(value)\n"
     ]
    },
    {
     "name": "stdout",
     "output_type": "stream",
     "text": [
      "HI\n",
      "----------------------------------------------------------------------------------------------------\n",
      "Starting run at time 22:51:53\n",
      "Normalizing training and testing splits...\n",
      "Starting Classification training...\n",
      "Training time was: 41.05 seconds\n",
      "Testing time was: 1.07 seconds\n",
      "\n",
      "          Run ID        Date      Time                    Model Name Model Author Num Classes  Accuracy  Balanced Accuracy  AUC Score  Average Precision  F1 Score  Precision  Recall Samples In Train Samples In Test                                                                                      Model Description Column Predicted Num Features Used                                                                                       Data and Split Description Normalized Num Features Normalized Feature Extraction Was Untested Data Predicted\n",
      "0  6bRZxRZWkOJXW  2019-07-28  22:51:53  random_forest_classification  Hamed        2           0.936     0.936              0.983      0.982              0.937     0.924      0.95    192000           48000           Random Forest: n_estimators=361, max_features=auto, criterion=entropy, min_samples_leaf=13, n_jobs=-1  class_label      12                {'experiment_id': 'r1dd37mcxv5pf4', 'random_state': 1, 'live_volume': 0.0, 'dead_volume': 105.0, 'stain': None}  True       12                      False              False                     \n",
      "\n",
      "Run finished at 22:52:36. Total run time = 43.75 seconds\n",
      "^^^^^^^^^^^^^^^^^^^^^^^^^^^^^^^^^^^^^^^^^^^^^^^^^^^^^^^^^^^^^^^^^^^^^^^^^^^^^^^^^^^^^^^^^^^^^^^^^^^^\n",
      "\n",
      "\n",
      "\n",
      "\n",
      "HI\n",
      "{'experiment_id': 'r1dd37mcxv5pf4', 'random_state': 1, 'live_volume': 0.0, 'dead_volume': 64.0, 'stain': 'SYTOX Red Stain'}\n",
      "data_columns: ['Container Type', 'Control', 'Culture_Volume', 'Media', 'Replicate', 'Storage (C)', 'Strain', 'checksum', 'filename', 'kill', 'kill_volume', 'plate_id', 'source', 'stain', 'well', 'experiment_id', 'Time', 'FSC-A', 'SSC-A', 'BL1-A', 'RL1-A', 'FSC-H', 'SSC-H', 'BL1-H', 'RL1-H', 'FSC-W', 'SSC-W', 'BL1-W', 'RL1-W']\n"
     ]
    },
    {
     "name": "stderr",
     "output_type": "stream",
     "text": [
      "/Users/danbryce/Documents/sift/xplan/external/xplan/xplan-to-autoprotocol-reactor/xplan-dev-env/xplan-dev-env/lib/python3.7/site-packages/pandas/core/indexing.py:480: SettingWithCopyWarning: \n",
      "A value is trying to be set on a copy of a slice from a DataFrame.\n",
      "Try using .loc[row_indexer,col_indexer] = value instead\n",
      "\n",
      "See the caveats in the documentation: http://pandas.pydata.org/pandas-docs/stable/user_guide/indexing.html#returning-a-view-versus-a-copy\n",
      "  self.obj[item] = s\n"
     ]
    },
    {
     "name": "stdout",
     "output_type": "stream",
     "text": [
      "['FSC-A', 'SSC-A', 'BL1-A', 'RL1-A', 'FSC-H', 'SSC-H', 'BL1-H', 'RL1-H', 'FSC-W', 'SSC-W', 'BL1-W', 'RL1-W']\n",
      "\n",
      "<harness.test_harness_class.TestHarness object at 0x19da248d0>\n"
     ]
    },
    {
     "name": "stderr",
     "output_type": "stream",
     "text": [
      "/Users/danbryce/Documents/sift/xplan/external/xplan/xplan-to-autoprotocol-reactor/xplan-dev-env/xplan-dev-env/lib/python3.7/site-packages/pandas/core/indexing.py:362: SettingWithCopyWarning: \n",
      "A value is trying to be set on a copy of a slice from a DataFrame.\n",
      "Try using .loc[row_indexer,col_indexer] = value instead\n",
      "\n",
      "See the caveats in the documentation: http://pandas.pydata.org/pandas-docs/stable/user_guide/indexing.html#returning-a-view-versus-a-copy\n",
      "  self.obj[key] = _infer_fill_value(value)\n"
     ]
    },
    {
     "name": "stdout",
     "output_type": "stream",
     "text": [
      "HI\n",
      "----------------------------------------------------------------------------------------------------\n",
      "Starting run at time 22:52:42\n",
      "Normalizing training and testing splits...\n",
      "Starting Classification training...\n",
      "Training time was: 47.55 seconds\n",
      "Testing time was: 1.28 seconds\n",
      "\n",
      "          Run ID        Date      Time                    Model Name Model Author Num Classes  Accuracy  Balanced Accuracy  AUC Score  Average Precision  F1 Score  Precision  Recall Samples In Train Samples In Test                                                                                      Model Description Column Predicted Num Features Used                                                                                                   Data and Split Description Normalized Num Features Normalized Feature Extraction Was Untested Data Predicted\n",
      "0  Qgve9m768OQR7  2019-07-28  22:52:42  random_forest_classification  Hamed        2           0.856     0.856              0.926      0.908              0.864     0.82       0.912   192000           48000           Random Forest: n_estimators=361, max_features=auto, criterion=entropy, min_samples_leaf=13, n_jobs=-1  class_label      12                {'experiment_id': 'r1dd37mcxv5pf4', 'random_state': 1, 'live_volume': 0.0, 'dead_volume': 64.0, 'stain': 'SYTOX Red Stain'}  True       12                      False              False                     \n",
      "\n",
      "Run finished at 22:53:33. Total run time = 50.61 seconds\n",
      "^^^^^^^^^^^^^^^^^^^^^^^^^^^^^^^^^^^^^^^^^^^^^^^^^^^^^^^^^^^^^^^^^^^^^^^^^^^^^^^^^^^^^^^^^^^^^^^^^^^^\n",
      "\n",
      "\n",
      "\n",
      "\n",
      "HI\n",
      "{'experiment_id': 'r1dd37mcxv5pf4', 'random_state': 1, 'live_volume': 0.0, 'dead_volume': 64.0, 'stain': None}\n"
     ]
    },
    {
     "name": "stderr",
     "output_type": "stream",
     "text": [
      "/Users/danbryce/Documents/sift/xplan/external/xplan/xplan-to-autoprotocol-reactor/xplan-dev-env/xplan-dev-env/lib/python3.7/site-packages/pandas/core/indexing.py:480: SettingWithCopyWarning: \n",
      "A value is trying to be set on a copy of a slice from a DataFrame.\n",
      "Try using .loc[row_indexer,col_indexer] = value instead\n",
      "\n",
      "See the caveats in the documentation: http://pandas.pydata.org/pandas-docs/stable/user_guide/indexing.html#returning-a-view-versus-a-copy\n",
      "  self.obj[item] = s\n"
     ]
    },
    {
     "name": "stdout",
     "output_type": "stream",
     "text": [
      "data_columns: ['Container Type', 'Control', 'Culture_Volume', 'Media', 'Replicate', 'Storage (C)', 'Strain', 'checksum', 'filename', 'kill', 'kill_volume', 'plate_id', 'source', 'stain', 'well', 'experiment_id', 'Time', 'FSC-A', 'SSC-A', 'BL1-A', 'RL1-A', 'FSC-H', 'SSC-H', 'BL1-H', 'RL1-H', 'FSC-W', 'SSC-W', 'BL1-W', 'RL1-W']\n",
      "['FSC-A', 'SSC-A', 'BL1-A', 'RL1-A', 'FSC-H', 'SSC-H', 'BL1-H', 'RL1-H', 'FSC-W', 'SSC-W', 'BL1-W', 'RL1-W']\n",
      "\n",
      "<harness.test_harness_class.TestHarness object at 0x1817e18d0>\n"
     ]
    },
    {
     "name": "stderr",
     "output_type": "stream",
     "text": [
      "/Users/danbryce/Documents/sift/xplan/external/xplan/xplan-to-autoprotocol-reactor/xplan-dev-env/xplan-dev-env/lib/python3.7/site-packages/pandas/core/indexing.py:362: SettingWithCopyWarning: \n",
      "A value is trying to be set on a copy of a slice from a DataFrame.\n",
      "Try using .loc[row_indexer,col_indexer] = value instead\n",
      "\n",
      "See the caveats in the documentation: http://pandas.pydata.org/pandas-docs/stable/user_guide/indexing.html#returning-a-view-versus-a-copy\n",
      "  self.obj[key] = _infer_fill_value(value)\n"
     ]
    },
    {
     "name": "stdout",
     "output_type": "stream",
     "text": [
      "HI\n",
      "----------------------------------------------------------------------------------------------------\n",
      "Starting run at time 22:53:39\n",
      "Normalizing training and testing splits...\n",
      "Starting Classification training...\n",
      "Training time was: 43.51 seconds\n",
      "Testing time was: 1.30 seconds\n",
      "\n",
      "          Run ID        Date      Time                    Model Name Model Author Num Classes  Accuracy  Balanced Accuracy  AUC Score  Average Precision  F1 Score  Precision  Recall Samples In Train Samples In Test                                                                                      Model Description Column Predicted Num Features Used                                                                                      Data and Split Description Normalized Num Features Normalized Feature Extraction Was Untested Data Predicted\n",
      "0  QoWayr61rrRND  2019-07-28  22:53:39  random_forest_classification  Hamed        2           0.795     0.795              0.875      0.858              0.805     0.766      0.848   192000           48000           Random Forest: n_estimators=361, max_features=auto, criterion=entropy, min_samples_leaf=13, n_jobs=-1  class_label      12                {'experiment_id': 'r1dd37mcxv5pf4', 'random_state': 1, 'live_volume': 0.0, 'dead_volume': 64.0, 'stain': None}  True       12                      False              False                     \n",
      "\n",
      "Run finished at 22:54:26. Total run time = 46.52 seconds\n",
      "^^^^^^^^^^^^^^^^^^^^^^^^^^^^^^^^^^^^^^^^^^^^^^^^^^^^^^^^^^^^^^^^^^^^^^^^^^^^^^^^^^^^^^^^^^^^^^^^^^^^\n",
      "\n",
      "\n",
      "\n",
      "\n",
      "HI\n",
      "{'experiment_id': 'r1dd37mcxv5pf4', 'random_state': 1, 'live_volume': 0.0, 'dead_volume': 29, 'stain': 'SYTOX Red Stain'}\n",
      "data_columns: ['Container Type', 'Control', 'Culture_Volume', 'Media', 'Replicate', 'Storage (C)', 'Strain', 'checksum', 'filename', 'kill', 'kill_volume', 'plate_id', 'source', 'stain', 'well', 'experiment_id', 'Time', 'FSC-A', 'SSC-A', 'BL1-A', 'RL1-A', 'FSC-H', 'SSC-H', 'BL1-H', 'RL1-H', 'FSC-W', 'SSC-W', 'BL1-W', 'RL1-W']\n"
     ]
    },
    {
     "name": "stderr",
     "output_type": "stream",
     "text": [
      "/Users/danbryce/Documents/sift/xplan/external/xplan/xplan-to-autoprotocol-reactor/xplan-dev-env/xplan-dev-env/lib/python3.7/site-packages/pandas/core/indexing.py:480: SettingWithCopyWarning: \n",
      "A value is trying to be set on a copy of a slice from a DataFrame.\n",
      "Try using .loc[row_indexer,col_indexer] = value instead\n",
      "\n",
      "See the caveats in the documentation: http://pandas.pydata.org/pandas-docs/stable/user_guide/indexing.html#returning-a-view-versus-a-copy\n",
      "  self.obj[item] = s\n"
     ]
    },
    {
     "name": "stdout",
     "output_type": "stream",
     "text": [
      "['FSC-A', 'SSC-A', 'BL1-A', 'RL1-A', 'FSC-H', 'SSC-H', 'BL1-H', 'RL1-H', 'FSC-W', 'SSC-W', 'BL1-W', 'RL1-W']\n",
      "\n",
      "<harness.test_harness_class.TestHarness object at 0x181d95c50>\n"
     ]
    },
    {
     "name": "stderr",
     "output_type": "stream",
     "text": [
      "/Users/danbryce/Documents/sift/xplan/external/xplan/xplan-to-autoprotocol-reactor/xplan-dev-env/xplan-dev-env/lib/python3.7/site-packages/pandas/core/indexing.py:362: SettingWithCopyWarning: \n",
      "A value is trying to be set on a copy of a slice from a DataFrame.\n",
      "Try using .loc[row_indexer,col_indexer] = value instead\n",
      "\n",
      "See the caveats in the documentation: http://pandas.pydata.org/pandas-docs/stable/user_guide/indexing.html#returning-a-view-versus-a-copy\n",
      "  self.obj[key] = _infer_fill_value(value)\n"
     ]
    },
    {
     "name": "stdout",
     "output_type": "stream",
     "text": [
      "HI\n",
      "----------------------------------------------------------------------------------------------------\n",
      "Starting run at time 22:54:32\n",
      "Normalizing training and testing splits...\n",
      "Starting Classification training...\n",
      "Training time was: 53.83 seconds\n",
      "Testing time was: 1.58 seconds\n",
      "\n",
      "          Run ID        Date      Time                    Model Name Model Author Num Classes  Accuracy  Balanced Accuracy  AUC Score  Average Precision  F1 Score  Precision  Recall Samples In Train Samples In Test                                                                                      Model Description Column Predicted Num Features Used                                                                                                 Data and Split Description Normalized Num Features Normalized Feature Extraction Was Untested Data Predicted\n",
      "0  EQAxyAAR7mWLM  2019-07-28  22:54:32  random_forest_classification  Hamed        2           0.648     0.648              0.709      0.675              0.673     0.628      0.725   192000           48000           Random Forest: n_estimators=361, max_features=auto, criterion=entropy, min_samples_leaf=13, n_jobs=-1  class_label      12                {'experiment_id': 'r1dd37mcxv5pf4', 'random_state': 1, 'live_volume': 0.0, 'dead_volume': 29, 'stain': 'SYTOX Red Stain'}  True       12                      False              False                     \n",
      "\n",
      "Run finished at 22:55:29. Total run time = 57.08 seconds\n",
      "^^^^^^^^^^^^^^^^^^^^^^^^^^^^^^^^^^^^^^^^^^^^^^^^^^^^^^^^^^^^^^^^^^^^^^^^^^^^^^^^^^^^^^^^^^^^^^^^^^^^\n",
      "\n",
      "\n",
      "\n",
      "\n",
      "HI\n",
      "{'experiment_id': 'r1dd37mcxv5pf4', 'random_state': 1, 'live_volume': 0.0, 'dead_volume': 29, 'stain': None}\n",
      "data_columns: ['Container Type', 'Control', 'Culture_Volume', 'Media', 'Replicate', 'Storage (C)', 'Strain', 'checksum', 'filename', 'kill', 'kill_volume', 'plate_id', 'source', 'stain', 'well', 'experiment_id', 'Time', 'FSC-A', 'SSC-A', 'BL1-A', 'RL1-A', 'FSC-H', 'SSC-H', 'BL1-H', 'RL1-H', 'FSC-W', 'SSC-W', 'BL1-W', 'RL1-W']\n"
     ]
    },
    {
     "name": "stderr",
     "output_type": "stream",
     "text": [
      "/Users/danbryce/Documents/sift/xplan/external/xplan/xplan-to-autoprotocol-reactor/xplan-dev-env/xplan-dev-env/lib/python3.7/site-packages/pandas/core/indexing.py:480: SettingWithCopyWarning: \n",
      "A value is trying to be set on a copy of a slice from a DataFrame.\n",
      "Try using .loc[row_indexer,col_indexer] = value instead\n",
      "\n",
      "See the caveats in the documentation: http://pandas.pydata.org/pandas-docs/stable/user_guide/indexing.html#returning-a-view-versus-a-copy\n",
      "  self.obj[item] = s\n"
     ]
    },
    {
     "name": "stdout",
     "output_type": "stream",
     "text": [
      "['FSC-A', 'SSC-A', 'BL1-A', 'RL1-A', 'FSC-H', 'SSC-H', 'BL1-H', 'RL1-H', 'FSC-W', 'SSC-W', 'BL1-W', 'RL1-W']\n",
      "\n",
      "<harness.test_harness_class.TestHarness object at 0x181d97f28>\n"
     ]
    },
    {
     "name": "stderr",
     "output_type": "stream",
     "text": [
      "/Users/danbryce/Documents/sift/xplan/external/xplan/xplan-to-autoprotocol-reactor/xplan-dev-env/xplan-dev-env/lib/python3.7/site-packages/pandas/core/indexing.py:362: SettingWithCopyWarning: \n",
      "A value is trying to be set on a copy of a slice from a DataFrame.\n",
      "Try using .loc[row_indexer,col_indexer] = value instead\n",
      "\n",
      "See the caveats in the documentation: http://pandas.pydata.org/pandas-docs/stable/user_guide/indexing.html#returning-a-view-versus-a-copy\n",
      "  self.obj[key] = _infer_fill_value(value)\n"
     ]
    },
    {
     "name": "stdout",
     "output_type": "stream",
     "text": [
      "HI\n",
      "----------------------------------------------------------------------------------------------------\n",
      "Starting run at time 22:55:35\n",
      "Normalizing training and testing splits...\n",
      "Starting Classification training...\n",
      "Training time was: 47.24 seconds\n",
      "Testing time was: 1.49 seconds\n",
      "\n",
      "          Run ID        Date      Time                    Model Name Model Author Num Classes  Accuracy  Balanced Accuracy  AUC Score  Average Precision  F1 Score  Precision  Recall Samples In Train Samples In Test                                                                                      Model Description Column Predicted Num Features Used                                                                                    Data and Split Description Normalized Num Features Normalized Feature Extraction Was Untested Data Predicted\n",
      "0  6qlaX1vrdlqEY  2019-07-28  22:55:35  random_forest_classification  Hamed        2           0.634     0.634              0.687      0.672              0.637     0.631      0.644   192000           48000           Random Forest: n_estimators=361, max_features=auto, criterion=entropy, min_samples_leaf=13, n_jobs=-1  class_label      12                {'experiment_id': 'r1dd37mcxv5pf4', 'random_state': 1, 'live_volume': 0.0, 'dead_volume': 29, 'stain': None}  True       12                      False              False                     \n",
      "\n",
      "Run finished at 22:56:26. Total run time = 50.50 seconds\n",
      "^^^^^^^^^^^^^^^^^^^^^^^^^^^^^^^^^^^^^^^^^^^^^^^^^^^^^^^^^^^^^^^^^^^^^^^^^^^^^^^^^^^^^^^^^^^^^^^^^^^^\n",
      "\n",
      "\n",
      "\n",
      "\n",
      "HI\n",
      "{'experiment_id': 'r1dd37mcxv5pf4', 'random_state': 2, 'live_volume': 0.0, 'dead_volume': 980.0, 'stain': 'SYTOX Red Stain'}\n",
      "data_columns: ['Container Type', 'Control', 'Culture_Volume', 'Media', 'Replicate', 'Storage (C)', 'Strain', 'checksum', 'filename', 'kill', 'kill_volume', 'plate_id', 'source', 'stain', 'well', 'experiment_id', 'Time', 'FSC-A', 'SSC-A', 'BL1-A', 'RL1-A', 'FSC-H', 'SSC-H', 'BL1-H', 'RL1-H', 'FSC-W', 'SSC-W', 'BL1-W', 'RL1-W']\n"
     ]
    },
    {
     "name": "stderr",
     "output_type": "stream",
     "text": [
      "/Users/danbryce/Documents/sift/xplan/external/xplan/xplan-to-autoprotocol-reactor/xplan-dev-env/xplan-dev-env/lib/python3.7/site-packages/pandas/core/indexing.py:480: SettingWithCopyWarning: \n",
      "A value is trying to be set on a copy of a slice from a DataFrame.\n",
      "Try using .loc[row_indexer,col_indexer] = value instead\n",
      "\n",
      "See the caveats in the documentation: http://pandas.pydata.org/pandas-docs/stable/user_guide/indexing.html#returning-a-view-versus-a-copy\n",
      "  self.obj[item] = s\n"
     ]
    },
    {
     "name": "stdout",
     "output_type": "stream",
     "text": [
      "['FSC-A', 'SSC-A', 'BL1-A', 'RL1-A', 'FSC-H', 'SSC-H', 'BL1-H', 'RL1-H', 'FSC-W', 'SSC-W', 'BL1-W', 'RL1-W']\n",
      "\n",
      "<harness.test_harness_class.TestHarness object at 0x17a172278>\n"
     ]
    },
    {
     "name": "stderr",
     "output_type": "stream",
     "text": [
      "/Users/danbryce/Documents/sift/xplan/external/xplan/xplan-to-autoprotocol-reactor/xplan-dev-env/xplan-dev-env/lib/python3.7/site-packages/pandas/core/indexing.py:362: SettingWithCopyWarning: \n",
      "A value is trying to be set on a copy of a slice from a DataFrame.\n",
      "Try using .loc[row_indexer,col_indexer] = value instead\n",
      "\n",
      "See the caveats in the documentation: http://pandas.pydata.org/pandas-docs/stable/user_guide/indexing.html#returning-a-view-versus-a-copy\n",
      "  self.obj[key] = _infer_fill_value(value)\n"
     ]
    },
    {
     "name": "stdout",
     "output_type": "stream",
     "text": [
      "HI\n",
      "----------------------------------------------------------------------------------------------------\n",
      "Starting run at time 22:56:31\n",
      "Normalizing training and testing splits...\n",
      "Starting Classification training...\n",
      "Training time was: 31.03 seconds\n",
      "Testing time was: 0.68 seconds\n",
      "\n",
      "          Run ID        Date      Time                    Model Name Model Author Num Classes  Accuracy  Balanced Accuracy  AUC Score  Average Precision  F1 Score  Precision  Recall Samples In Train Samples In Test                                                                                      Model Description Column Predicted Num Features Used                                                                                                    Data and Split Description Normalized Num Features Normalized Feature Extraction Was Untested Data Predicted\n",
      "0  5poMzPyykqYky  2019-07-28  22:56:31  random_forest_classification  Hamed        2           0.998     0.998              1.0        1.0                0.998     0.998      0.998   192000           48000           Random Forest: n_estimators=361, max_features=auto, criterion=entropy, min_samples_leaf=13, n_jobs=-1  class_label      12                {'experiment_id': 'r1dd37mcxv5pf4', 'random_state': 2, 'live_volume': 0.0, 'dead_volume': 980.0, 'stain': 'SYTOX Red Stain'}  True       12                      False              False                     \n",
      "\n",
      "Run finished at 22:57:05. Total run time = 33.43 seconds\n",
      "^^^^^^^^^^^^^^^^^^^^^^^^^^^^^^^^^^^^^^^^^^^^^^^^^^^^^^^^^^^^^^^^^^^^^^^^^^^^^^^^^^^^^^^^^^^^^^^^^^^^\n",
      "\n",
      "\n",
      "\n",
      "\n",
      "HI\n",
      "{'experiment_id': 'r1dd37mcxv5pf4', 'random_state': 2, 'live_volume': 0.0, 'dead_volume': 980.0, 'stain': None}\n",
      "data_columns: ['Container Type', 'Control', 'Culture_Volume', 'Media', 'Replicate', 'Storage (C)', 'Strain', 'checksum', 'filename', 'kill', 'kill_volume', 'plate_id', 'source', 'stain', 'well', 'experiment_id', 'Time', 'FSC-A', 'SSC-A', 'BL1-A', 'RL1-A', 'FSC-H', 'SSC-H', 'BL1-H', 'RL1-H', 'FSC-W', 'SSC-W', 'BL1-W', 'RL1-W']\n"
     ]
    },
    {
     "name": "stderr",
     "output_type": "stream",
     "text": [
      "/Users/danbryce/Documents/sift/xplan/external/xplan/xplan-to-autoprotocol-reactor/xplan-dev-env/xplan-dev-env/lib/python3.7/site-packages/pandas/core/indexing.py:480: SettingWithCopyWarning: \n",
      "A value is trying to be set on a copy of a slice from a DataFrame.\n",
      "Try using .loc[row_indexer,col_indexer] = value instead\n",
      "\n",
      "See the caveats in the documentation: http://pandas.pydata.org/pandas-docs/stable/user_guide/indexing.html#returning-a-view-versus-a-copy\n",
      "  self.obj[item] = s\n"
     ]
    },
    {
     "name": "stdout",
     "output_type": "stream",
     "text": [
      "['FSC-A', 'SSC-A', 'BL1-A', 'RL1-A', 'FSC-H', 'SSC-H', 'BL1-H', 'RL1-H', 'FSC-W', 'SSC-W', 'BL1-W', 'RL1-W']\n",
      "\n",
      "<harness.test_harness_class.TestHarness object at 0x1c9faf2b0>\n"
     ]
    },
    {
     "name": "stderr",
     "output_type": "stream",
     "text": [
      "/Users/danbryce/Documents/sift/xplan/external/xplan/xplan-to-autoprotocol-reactor/xplan-dev-env/xplan-dev-env/lib/python3.7/site-packages/pandas/core/indexing.py:362: SettingWithCopyWarning: \n",
      "A value is trying to be set on a copy of a slice from a DataFrame.\n",
      "Try using .loc[row_indexer,col_indexer] = value instead\n",
      "\n",
      "See the caveats in the documentation: http://pandas.pydata.org/pandas-docs/stable/user_guide/indexing.html#returning-a-view-versus-a-copy\n",
      "  self.obj[key] = _infer_fill_value(value)\n"
     ]
    },
    {
     "name": "stdout",
     "output_type": "stream",
     "text": [
      "HI\n",
      "----------------------------------------------------------------------------------------------------\n",
      "Starting run at time 22:57:11\n",
      "Normalizing training and testing splits...\n",
      "Starting Classification training...\n",
      "Training time was: 35.37 seconds\n",
      "Testing time was: 0.67 seconds\n",
      "\n",
      "          Run ID        Date      Time                    Model Name Model Author Num Classes  Accuracy  Balanced Accuracy  AUC Score  Average Precision  F1 Score  Precision  Recall Samples In Train Samples In Test                                                                                      Model Description Column Predicted Num Features Used                                                                                       Data and Split Description Normalized Num Features Normalized Feature Extraction Was Untested Data Predicted\n",
      "0  ENqbYVoGj223Y  2019-07-28  22:57:11  random_forest_classification  Hamed        2           0.995     0.995              1.0        1.0                0.995     0.993      0.997   192000           48000           Random Forest: n_estimators=361, max_features=auto, criterion=entropy, min_samples_leaf=13, n_jobs=-1  class_label      12                {'experiment_id': 'r1dd37mcxv5pf4', 'random_state': 2, 'live_volume': 0.0, 'dead_volume': 980.0, 'stain': None}  True       12                      False              False                     \n",
      "\n",
      "Run finished at 22:57:49. Total run time = 37.77 seconds\n",
      "^^^^^^^^^^^^^^^^^^^^^^^^^^^^^^^^^^^^^^^^^^^^^^^^^^^^^^^^^^^^^^^^^^^^^^^^^^^^^^^^^^^^^^^^^^^^^^^^^^^^\n",
      "\n",
      "\n",
      "\n",
      "\n",
      "HI\n",
      "{'experiment_id': 'r1dd37mcxv5pf4', 'random_state': 2, 'live_volume': 0.0, 'dead_volume': 570.0, 'stain': 'SYTOX Red Stain'}\n",
      "data_columns: ['Container Type', 'Control', 'Culture_Volume', 'Media', 'Replicate', 'Storage (C)', 'Strain', 'checksum', 'filename', 'kill', 'kill_volume', 'plate_id', 'source', 'stain', 'well', 'experiment_id', 'Time', 'FSC-A', 'SSC-A', 'BL1-A', 'RL1-A', 'FSC-H', 'SSC-H', 'BL1-H', 'RL1-H', 'FSC-W', 'SSC-W', 'BL1-W', 'RL1-W']\n"
     ]
    },
    {
     "name": "stderr",
     "output_type": "stream",
     "text": [
      "/Users/danbryce/Documents/sift/xplan/external/xplan/xplan-to-autoprotocol-reactor/xplan-dev-env/xplan-dev-env/lib/python3.7/site-packages/pandas/core/indexing.py:480: SettingWithCopyWarning: \n",
      "A value is trying to be set on a copy of a slice from a DataFrame.\n",
      "Try using .loc[row_indexer,col_indexer] = value instead\n",
      "\n",
      "See the caveats in the documentation: http://pandas.pydata.org/pandas-docs/stable/user_guide/indexing.html#returning-a-view-versus-a-copy\n",
      "  self.obj[item] = s\n"
     ]
    },
    {
     "name": "stdout",
     "output_type": "stream",
     "text": [
      "['FSC-A', 'SSC-A', 'BL1-A', 'RL1-A', 'FSC-H', 'SSC-H', 'BL1-H', 'RL1-H', 'FSC-W', 'SSC-W', 'BL1-W', 'RL1-W']\n",
      "\n",
      "<harness.test_harness_class.TestHarness object at 0x1d2792f28>\n"
     ]
    },
    {
     "name": "stderr",
     "output_type": "stream",
     "text": [
      "/Users/danbryce/Documents/sift/xplan/external/xplan/xplan-to-autoprotocol-reactor/xplan-dev-env/xplan-dev-env/lib/python3.7/site-packages/pandas/core/indexing.py:362: SettingWithCopyWarning: \n",
      "A value is trying to be set on a copy of a slice from a DataFrame.\n",
      "Try using .loc[row_indexer,col_indexer] = value instead\n",
      "\n",
      "See the caveats in the documentation: http://pandas.pydata.org/pandas-docs/stable/user_guide/indexing.html#returning-a-view-versus-a-copy\n",
      "  self.obj[key] = _infer_fill_value(value)\n"
     ]
    },
    {
     "name": "stdout",
     "output_type": "stream",
     "text": [
      "HI\n",
      "----------------------------------------------------------------------------------------------------\n",
      "Starting run at time 22:57:55\n",
      "Normalizing training and testing splits...\n",
      "Starting Classification training...\n",
      "Training time was: 30.60 seconds\n",
      "Testing time was: 0.66 seconds\n",
      "\n",
      "          Run ID        Date      Time                    Model Name Model Author Num Classes  Accuracy  Balanced Accuracy  AUC Score  Average Precision  F1 Score  Precision  Recall Samples In Train Samples In Test                                                                                      Model Description Column Predicted Num Features Used                                                                                                    Data and Split Description Normalized Num Features Normalized Feature Extraction Was Untested Data Predicted\n",
      "0  QyyMNg3VVroj7  2019-07-28  22:57:55  random_forest_classification  Hamed        2           0.998     0.998              1.0        1.0                0.998     0.999      0.996   192000           48000           Random Forest: n_estimators=361, max_features=auto, criterion=entropy, min_samples_leaf=13, n_jobs=-1  class_label      12                {'experiment_id': 'r1dd37mcxv5pf4', 'random_state': 2, 'live_volume': 0.0, 'dead_volume': 570.0, 'stain': 'SYTOX Red Stain'}  True       12                      False              False                     \n",
      "\n",
      "Run finished at 22:58:28. Total run time = 32.98 seconds\n",
      "^^^^^^^^^^^^^^^^^^^^^^^^^^^^^^^^^^^^^^^^^^^^^^^^^^^^^^^^^^^^^^^^^^^^^^^^^^^^^^^^^^^^^^^^^^^^^^^^^^^^\n",
      "\n",
      "\n",
      "\n",
      "\n",
      "HI\n",
      "{'experiment_id': 'r1dd37mcxv5pf4', 'random_state': 2, 'live_volume': 0.0, 'dead_volume': 570.0, 'stain': None}\n",
      "data_columns: ['Container Type', 'Control', 'Culture_Volume', 'Media', 'Replicate', 'Storage (C)', 'Strain', 'checksum', 'filename', 'kill', 'kill_volume', 'plate_id', 'source', 'stain', 'well', 'experiment_id', 'Time', 'FSC-A', 'SSC-A', 'BL1-A', 'RL1-A', 'FSC-H', 'SSC-H', 'BL1-H', 'RL1-H', 'FSC-W', 'SSC-W', 'BL1-W', 'RL1-W']\n"
     ]
    },
    {
     "name": "stderr",
     "output_type": "stream",
     "text": [
      "/Users/danbryce/Documents/sift/xplan/external/xplan/xplan-to-autoprotocol-reactor/xplan-dev-env/xplan-dev-env/lib/python3.7/site-packages/pandas/core/indexing.py:480: SettingWithCopyWarning: \n",
      "A value is trying to be set on a copy of a slice from a DataFrame.\n",
      "Try using .loc[row_indexer,col_indexer] = value instead\n",
      "\n",
      "See the caveats in the documentation: http://pandas.pydata.org/pandas-docs/stable/user_guide/indexing.html#returning-a-view-versus-a-copy\n",
      "  self.obj[item] = s\n"
     ]
    },
    {
     "name": "stdout",
     "output_type": "stream",
     "text": [
      "['FSC-A', 'SSC-A', 'BL1-A', 'RL1-A', 'FSC-H', 'SSC-H', 'BL1-H', 'RL1-H', 'FSC-W', 'SSC-W', 'BL1-W', 'RL1-W']\n",
      "\n",
      "<harness.test_harness_class.TestHarness object at 0x1db3fff28>\n"
     ]
    },
    {
     "name": "stderr",
     "output_type": "stream",
     "text": [
      "/Users/danbryce/Documents/sift/xplan/external/xplan/xplan-to-autoprotocol-reactor/xplan-dev-env/xplan-dev-env/lib/python3.7/site-packages/pandas/core/indexing.py:362: SettingWithCopyWarning: \n",
      "A value is trying to be set on a copy of a slice from a DataFrame.\n",
      "Try using .loc[row_indexer,col_indexer] = value instead\n",
      "\n",
      "See the caveats in the documentation: http://pandas.pydata.org/pandas-docs/stable/user_guide/indexing.html#returning-a-view-versus-a-copy\n",
      "  self.obj[key] = _infer_fill_value(value)\n"
     ]
    },
    {
     "name": "stdout",
     "output_type": "stream",
     "text": [
      "HI\n",
      "----------------------------------------------------------------------------------------------------\n",
      "Starting run at time 22:58:33\n",
      "Normalizing training and testing splits...\n",
      "Starting Classification training...\n",
      "Training time was: 41.11 seconds\n",
      "Testing time was: 0.88 seconds\n",
      "\n",
      "          Run ID        Date      Time                    Model Name Model Author Num Classes  Accuracy  Balanced Accuracy  AUC Score  Average Precision  F1 Score  Precision  Recall Samples In Train Samples In Test                                                                                      Model Description Column Predicted Num Features Used                                                                                       Data and Split Description Normalized Num Features Normalized Feature Extraction Was Untested Data Predicted\n",
      "0  59XApja8Y2Elw  2019-07-28  22:58:33  random_forest_classification  Hamed        2           0.978     0.978              0.997      0.997              0.979     0.973      0.986   183965           45992           Random Forest: n_estimators=361, max_features=auto, criterion=entropy, min_samples_leaf=13, n_jobs=-1  class_label      12                {'experiment_id': 'r1dd37mcxv5pf4', 'random_state': 2, 'live_volume': 0.0, 'dead_volume': 570.0, 'stain': None}  True       12                      False              False                     \n",
      "\n",
      "Run finished at 22:59:17. Total run time = 43.62 seconds\n",
      "^^^^^^^^^^^^^^^^^^^^^^^^^^^^^^^^^^^^^^^^^^^^^^^^^^^^^^^^^^^^^^^^^^^^^^^^^^^^^^^^^^^^^^^^^^^^^^^^^^^^\n",
      "\n",
      "\n",
      "\n",
      "\n",
      "HI\n",
      "{'experiment_id': 'r1dd37mcxv5pf4', 'random_state': 2, 'live_volume': 0.0, 'dead_volume': 370.0, 'stain': 'SYTOX Red Stain'}\n",
      "data_columns: ['Container Type', 'Control', 'Culture_Volume', 'Media', 'Replicate', 'Storage (C)', 'Strain', 'checksum', 'filename', 'kill', 'kill_volume', 'plate_id', 'source', 'stain', 'well', 'experiment_id', 'Time', 'FSC-A', 'SSC-A', 'BL1-A', 'RL1-A', 'FSC-H', 'SSC-H', 'BL1-H', 'RL1-H', 'FSC-W', 'SSC-W', 'BL1-W', 'RL1-W']\n"
     ]
    },
    {
     "name": "stderr",
     "output_type": "stream",
     "text": [
      "/Users/danbryce/Documents/sift/xplan/external/xplan/xplan-to-autoprotocol-reactor/xplan-dev-env/xplan-dev-env/lib/python3.7/site-packages/pandas/core/indexing.py:480: SettingWithCopyWarning: \n",
      "A value is trying to be set on a copy of a slice from a DataFrame.\n",
      "Try using .loc[row_indexer,col_indexer] = value instead\n",
      "\n",
      "See the caveats in the documentation: http://pandas.pydata.org/pandas-docs/stable/user_guide/indexing.html#returning-a-view-versus-a-copy\n",
      "  self.obj[item] = s\n"
     ]
    },
    {
     "name": "stdout",
     "output_type": "stream",
     "text": [
      "['FSC-A', 'SSC-A', 'BL1-A', 'RL1-A', 'FSC-H', 'SSC-H', 'BL1-H', 'RL1-H', 'FSC-W', 'SSC-W', 'BL1-W', 'RL1-W']\n",
      "\n",
      "<harness.test_harness_class.TestHarness object at 0x19d8f8fd0>\n"
     ]
    },
    {
     "name": "stderr",
     "output_type": "stream",
     "text": [
      "/Users/danbryce/Documents/sift/xplan/external/xplan/xplan-to-autoprotocol-reactor/xplan-dev-env/xplan-dev-env/lib/python3.7/site-packages/pandas/core/indexing.py:362: SettingWithCopyWarning: \n",
      "A value is trying to be set on a copy of a slice from a DataFrame.\n",
      "Try using .loc[row_indexer,col_indexer] = value instead\n",
      "\n",
      "See the caveats in the documentation: http://pandas.pydata.org/pandas-docs/stable/user_guide/indexing.html#returning-a-view-versus-a-copy\n",
      "  self.obj[key] = _infer_fill_value(value)\n"
     ]
    },
    {
     "name": "stdout",
     "output_type": "stream",
     "text": [
      "HI\n",
      "----------------------------------------------------------------------------------------------------\n",
      "Starting run at time 22:59:23\n",
      "Normalizing training and testing splits...\n",
      "Starting Classification training...\n",
      "Training time was: 26.16 seconds\n",
      "Testing time was: 0.66 seconds\n",
      "\n",
      "          Run ID        Date      Time                    Model Name Model Author Num Classes  Accuracy  Balanced Accuracy  AUC Score  Average Precision  F1 Score  Precision  Recall Samples In Train Samples In Test                                                                                      Model Description Column Predicted Num Features Used                                                                                                    Data and Split Description Normalized Num Features Normalized Feature Extraction Was Untested Data Predicted\n",
      "0  5MQEX7B7EaNzb  2019-07-28  22:59:23  random_forest_classification  Hamed        2           0.997     0.998              1.0        1.0                0.998     0.999      0.996   175331           43833           Random Forest: n_estimators=361, max_features=auto, criterion=entropy, min_samples_leaf=13, n_jobs=-1  class_label      12                {'experiment_id': 'r1dd37mcxv5pf4', 'random_state': 2, 'live_volume': 0.0, 'dead_volume': 370.0, 'stain': 'SYTOX Red Stain'}  True       12                      False              False                     \n",
      "\n",
      "Run finished at 22:59:51. Total run time = 28.36 seconds\n",
      "^^^^^^^^^^^^^^^^^^^^^^^^^^^^^^^^^^^^^^^^^^^^^^^^^^^^^^^^^^^^^^^^^^^^^^^^^^^^^^^^^^^^^^^^^^^^^^^^^^^^\n",
      "\n",
      "\n",
      "\n",
      "\n",
      "HI\n",
      "{'experiment_id': 'r1dd37mcxv5pf4', 'random_state': 2, 'live_volume': 0.0, 'dead_volume': 370.0, 'stain': None}\n",
      "data_columns: ['Container Type', 'Control', 'Culture_Volume', 'Media', 'Replicate', 'Storage (C)', 'Strain', 'checksum', 'filename', 'kill', 'kill_volume', 'plate_id', 'source', 'stain', 'well', 'experiment_id', 'Time', 'FSC-A', 'SSC-A', 'BL1-A', 'RL1-A', 'FSC-H', 'SSC-H', 'BL1-H', 'RL1-H', 'FSC-W', 'SSC-W', 'BL1-W', 'RL1-W']\n"
     ]
    },
    {
     "name": "stderr",
     "output_type": "stream",
     "text": [
      "/Users/danbryce/Documents/sift/xplan/external/xplan/xplan-to-autoprotocol-reactor/xplan-dev-env/xplan-dev-env/lib/python3.7/site-packages/pandas/core/indexing.py:480: SettingWithCopyWarning: \n",
      "A value is trying to be set on a copy of a slice from a DataFrame.\n",
      "Try using .loc[row_indexer,col_indexer] = value instead\n",
      "\n",
      "See the caveats in the documentation: http://pandas.pydata.org/pandas-docs/stable/user_guide/indexing.html#returning-a-view-versus-a-copy\n",
      "  self.obj[item] = s\n"
     ]
    },
    {
     "name": "stdout",
     "output_type": "stream",
     "text": [
      "['FSC-A', 'SSC-A', 'BL1-A', 'RL1-A', 'FSC-H', 'SSC-H', 'BL1-H', 'RL1-H', 'FSC-W', 'SSC-W', 'BL1-W', 'RL1-W']\n",
      "\n",
      "<harness.test_harness_class.TestHarness object at 0x1d6eb00b8>\n"
     ]
    },
    {
     "name": "stderr",
     "output_type": "stream",
     "text": [
      "/Users/danbryce/Documents/sift/xplan/external/xplan/xplan-to-autoprotocol-reactor/xplan-dev-env/xplan-dev-env/lib/python3.7/site-packages/pandas/core/indexing.py:362: SettingWithCopyWarning: \n",
      "A value is trying to be set on a copy of a slice from a DataFrame.\n",
      "Try using .loc[row_indexer,col_indexer] = value instead\n",
      "\n",
      "See the caveats in the documentation: http://pandas.pydata.org/pandas-docs/stable/user_guide/indexing.html#returning-a-view-versus-a-copy\n",
      "  self.obj[key] = _infer_fill_value(value)\n"
     ]
    },
    {
     "name": "stdout",
     "output_type": "stream",
     "text": [
      "HI\n",
      "----------------------------------------------------------------------------------------------------\n",
      "Starting run at time 22:59:56\n",
      "Normalizing training and testing splits...\n",
      "Starting Classification training...\n",
      "Training time was: 37.35 seconds\n",
      "Testing time was: 0.87 seconds\n",
      "\n",
      "          Run ID        Date      Time                    Model Name Model Author Num Classes  Accuracy  Balanced Accuracy  AUC Score  Average Precision  F1 Score  Precision  Recall Samples In Train Samples In Test                                                                                      Model Description Column Predicted Num Features Used                                                                                       Data and Split Description Normalized Num Features Normalized Feature Extraction Was Untested Data Predicted\n",
      "0  aAk2DZzgReXWw  2019-07-28  22:59:56  random_forest_classification  Hamed        2           0.972     0.97               0.995      0.995              0.976     0.971      0.98    166786           41697           Random Forest: n_estimators=361, max_features=auto, criterion=entropy, min_samples_leaf=13, n_jobs=-1  class_label      12                {'experiment_id': 'r1dd37mcxv5pf4', 'random_state': 2, 'live_volume': 0.0, 'dead_volume': 370.0, 'stain': None}  True       12                      False              False                     \n",
      "\n",
      "Run finished at 23:00:36. Total run time = 39.78 seconds\n",
      "^^^^^^^^^^^^^^^^^^^^^^^^^^^^^^^^^^^^^^^^^^^^^^^^^^^^^^^^^^^^^^^^^^^^^^^^^^^^^^^^^^^^^^^^^^^^^^^^^^^^\n",
      "\n",
      "\n",
      "\n",
      "\n",
      "HI\n",
      "{'experiment_id': 'r1dd37mcxv5pf4', 'random_state': 2, 'live_volume': 0.0, 'dead_volume': 250.0, 'stain': 'SYTOX Red Stain'}\n",
      "data_columns: ['Container Type', 'Control', 'Culture_Volume', 'Media', 'Replicate', 'Storage (C)', 'Strain', 'checksum', 'filename', 'kill', 'kill_volume', 'plate_id', 'source', 'stain', 'well', 'experiment_id', 'Time', 'FSC-A', 'SSC-A', 'BL1-A', 'RL1-A', 'FSC-H', 'SSC-H', 'BL1-H', 'RL1-H', 'FSC-W', 'SSC-W', 'BL1-W', 'RL1-W']\n"
     ]
    },
    {
     "name": "stderr",
     "output_type": "stream",
     "text": [
      "/Users/danbryce/Documents/sift/xplan/external/xplan/xplan-to-autoprotocol-reactor/xplan-dev-env/xplan-dev-env/lib/python3.7/site-packages/pandas/core/indexing.py:480: SettingWithCopyWarning: \n",
      "A value is trying to be set on a copy of a slice from a DataFrame.\n",
      "Try using .loc[row_indexer,col_indexer] = value instead\n",
      "\n",
      "See the caveats in the documentation: http://pandas.pydata.org/pandas-docs/stable/user_guide/indexing.html#returning-a-view-versus-a-copy\n",
      "  self.obj[item] = s\n"
     ]
    },
    {
     "name": "stdout",
     "output_type": "stream",
     "text": [
      "['FSC-A', 'SSC-A', 'BL1-A', 'RL1-A', 'FSC-H', 'SSC-H', 'BL1-H', 'RL1-H', 'FSC-W', 'SSC-W', 'BL1-W', 'RL1-W']\n",
      "\n",
      "<harness.test_harness_class.TestHarness object at 0x273c58eb8>\n"
     ]
    },
    {
     "name": "stderr",
     "output_type": "stream",
     "text": [
      "/Users/danbryce/Documents/sift/xplan/external/xplan/xplan-to-autoprotocol-reactor/xplan-dev-env/xplan-dev-env/lib/python3.7/site-packages/pandas/core/indexing.py:362: SettingWithCopyWarning: \n",
      "A value is trying to be set on a copy of a slice from a DataFrame.\n",
      "Try using .loc[row_indexer,col_indexer] = value instead\n",
      "\n",
      "See the caveats in the documentation: http://pandas.pydata.org/pandas-docs/stable/user_guide/indexing.html#returning-a-view-versus-a-copy\n",
      "  self.obj[key] = _infer_fill_value(value)\n"
     ]
    },
    {
     "name": "stdout",
     "output_type": "stream",
     "text": [
      "HI\n",
      "----------------------------------------------------------------------------------------------------\n",
      "Starting run at time 23:00:41\n",
      "Normalizing training and testing splits...\n",
      "Starting Classification training...\n",
      "Training time was: 26.14 seconds\n",
      "Testing time was: 0.56 seconds\n",
      "\n",
      "         Run ID        Date      Time                    Model Name Model Author Num Classes  Accuracy  Balanced Accuracy  AUC Score  Average Precision  F1 Score  Precision  Recall Samples In Train Samples In Test                                                                                      Model Description Column Predicted Num Features Used                                                                                                    Data and Split Description Normalized Num Features Normalized Feature Extraction Was Untested Data Predicted\n",
      "0  aBGbAX2yomYm  2019-07-28  23:00:41  random_forest_classification  Hamed        2           0.997     0.997              1.0        1.0                0.998     0.999      0.996   147452           36864           Random Forest: n_estimators=361, max_features=auto, criterion=entropy, min_samples_leaf=13, n_jobs=-1  class_label      12                {'experiment_id': 'r1dd37mcxv5pf4', 'random_state': 2, 'live_volume': 0.0, 'dead_volume': 250.0, 'stain': 'SYTOX Red Stain'}  True       12                      False              False                     \n",
      "\n",
      "Run finished at 23:01:09. Total run time = 28.13 seconds\n",
      "^^^^^^^^^^^^^^^^^^^^^^^^^^^^^^^^^^^^^^^^^^^^^^^^^^^^^^^^^^^^^^^^^^^^^^^^^^^^^^^^^^^^^^^^^^^^^^^^^^^^\n",
      "\n",
      "\n",
      "\n",
      "\n",
      "HI\n",
      "{'experiment_id': 'r1dd37mcxv5pf4', 'random_state': 2, 'live_volume': 0.0, 'dead_volume': 250.0, 'stain': None}\n",
      "data_columns: ['Container Type', 'Control', 'Culture_Volume', 'Media', 'Replicate', 'Storage (C)', 'Strain', 'checksum', 'filename', 'kill', 'kill_volume', 'plate_id', 'source', 'stain', 'well', 'experiment_id', 'Time', 'FSC-A', 'SSC-A', 'BL1-A', 'RL1-A', 'FSC-H', 'SSC-H', 'BL1-H', 'RL1-H', 'FSC-W', 'SSC-W', 'BL1-W', 'RL1-W']\n"
     ]
    },
    {
     "name": "stderr",
     "output_type": "stream",
     "text": [
      "/Users/danbryce/Documents/sift/xplan/external/xplan/xplan-to-autoprotocol-reactor/xplan-dev-env/xplan-dev-env/lib/python3.7/site-packages/pandas/core/indexing.py:480: SettingWithCopyWarning: \n",
      "A value is trying to be set on a copy of a slice from a DataFrame.\n",
      "Try using .loc[row_indexer,col_indexer] = value instead\n",
      "\n",
      "See the caveats in the documentation: http://pandas.pydata.org/pandas-docs/stable/user_guide/indexing.html#returning-a-view-versus-a-copy\n",
      "  self.obj[item] = s\n"
     ]
    },
    {
     "name": "stdout",
     "output_type": "stream",
     "text": [
      "['FSC-A', 'SSC-A', 'BL1-A', 'RL1-A', 'FSC-H', 'SSC-H', 'BL1-H', 'RL1-H', 'FSC-W', 'SSC-W', 'BL1-W', 'RL1-W']\n",
      "\n",
      "<harness.test_harness_class.TestHarness object at 0x1c97cdbe0>\n"
     ]
    },
    {
     "name": "stderr",
     "output_type": "stream",
     "text": [
      "/Users/danbryce/Documents/sift/xplan/external/xplan/xplan-to-autoprotocol-reactor/xplan-dev-env/xplan-dev-env/lib/python3.7/site-packages/pandas/core/indexing.py:362: SettingWithCopyWarning: \n",
      "A value is trying to be set on a copy of a slice from a DataFrame.\n",
      "Try using .loc[row_indexer,col_indexer] = value instead\n",
      "\n",
      "See the caveats in the documentation: http://pandas.pydata.org/pandas-docs/stable/user_guide/indexing.html#returning-a-view-versus-a-copy\n",
      "  self.obj[key] = _infer_fill_value(value)\n"
     ]
    },
    {
     "name": "stdout",
     "output_type": "stream",
     "text": [
      "HI\n",
      "----------------------------------------------------------------------------------------------------\n",
      "Starting run at time 23:01:13\n",
      "Normalizing training and testing splits...\n",
      "Starting Classification training...\n",
      "Training time was: 30.24 seconds\n",
      "Testing time was: 0.86 seconds\n",
      "\n",
      "          Run ID        Date      Time                    Model Name Model Author Num Classes  Accuracy  Balanced Accuracy  AUC Score  Average Precision  F1 Score  Precision  Recall Samples In Train Samples In Test                                                                                      Model Description Column Predicted Num Features Used                                                                                       Data and Split Description Normalized Num Features Normalized Feature Extraction Was Untested Data Predicted\n",
      "0  Qoe77yYpWBg1k  2019-07-28  23:01:13  random_forest_classification  Hamed        2           0.961     0.958              0.991      0.995              0.971     0.974      0.968   142361           35591           Random Forest: n_estimators=361, max_features=auto, criterion=entropy, min_samples_leaf=13, n_jobs=-1  class_label      12                {'experiment_id': 'r1dd37mcxv5pf4', 'random_state': 2, 'live_volume': 0.0, 'dead_volume': 250.0, 'stain': None}  True       12                      False              False                     \n",
      "\n",
      "Run finished at 23:01:46. Total run time = 32.48 seconds\n",
      "^^^^^^^^^^^^^^^^^^^^^^^^^^^^^^^^^^^^^^^^^^^^^^^^^^^^^^^^^^^^^^^^^^^^^^^^^^^^^^^^^^^^^^^^^^^^^^^^^^^^\n",
      "\n",
      "\n",
      "\n",
      "\n",
      "HI\n",
      "{'experiment_id': 'r1dd37mcxv5pf4', 'random_state': 2, 'live_volume': 0.0, 'dead_volume': 170.0, 'stain': 'SYTOX Red Stain'}\n",
      "data_columns: ['Container Type', 'Control', 'Culture_Volume', 'Media', 'Replicate', 'Storage (C)', 'Strain', 'checksum', 'filename', 'kill', 'kill_volume', 'plate_id', 'source', 'stain', 'well', 'experiment_id', 'Time', 'FSC-A', 'SSC-A', 'BL1-A', 'RL1-A', 'FSC-H', 'SSC-H', 'BL1-H', 'RL1-H', 'FSC-W', 'SSC-W', 'BL1-W', 'RL1-W']\n"
     ]
    },
    {
     "name": "stderr",
     "output_type": "stream",
     "text": [
      "/Users/danbryce/Documents/sift/xplan/external/xplan/xplan-to-autoprotocol-reactor/xplan-dev-env/xplan-dev-env/lib/python3.7/site-packages/pandas/core/indexing.py:480: SettingWithCopyWarning: \n",
      "A value is trying to be set on a copy of a slice from a DataFrame.\n",
      "Try using .loc[row_indexer,col_indexer] = value instead\n",
      "\n",
      "See the caveats in the documentation: http://pandas.pydata.org/pandas-docs/stable/user_guide/indexing.html#returning-a-view-versus-a-copy\n",
      "  self.obj[item] = s\n"
     ]
    },
    {
     "name": "stdout",
     "output_type": "stream",
     "text": [
      "['FSC-A', 'SSC-A', 'BL1-A', 'RL1-A', 'FSC-H', 'SSC-H', 'BL1-H', 'RL1-H', 'FSC-W', 'SSC-W', 'BL1-W', 'RL1-W']\n",
      "\n",
      "<harness.test_harness_class.TestHarness object at 0x223fdea58>\n"
     ]
    },
    {
     "name": "stderr",
     "output_type": "stream",
     "text": [
      "/Users/danbryce/Documents/sift/xplan/external/xplan/xplan-to-autoprotocol-reactor/xplan-dev-env/xplan-dev-env/lib/python3.7/site-packages/pandas/core/indexing.py:362: SettingWithCopyWarning: \n",
      "A value is trying to be set on a copy of a slice from a DataFrame.\n",
      "Try using .loc[row_indexer,col_indexer] = value instead\n",
      "\n",
      "See the caveats in the documentation: http://pandas.pydata.org/pandas-docs/stable/user_guide/indexing.html#returning-a-view-versus-a-copy\n",
      "  self.obj[key] = _infer_fill_value(value)\n"
     ]
    },
    {
     "name": "stdout",
     "output_type": "stream",
     "text": [
      "HI\n",
      "----------------------------------------------------------------------------------------------------\n",
      "Starting run at time 23:01:52\n",
      "Normalizing training and testing splits...\n",
      "Starting Classification training...\n",
      "Training time was: 43.51 seconds\n",
      "Testing time was: 0.88 seconds\n",
      "\n",
      "          Run ID        Date      Time                    Model Name Model Author Num Classes  Accuracy  Balanced Accuracy  AUC Score  Average Precision  F1 Score  Precision  Recall Samples In Train Samples In Test                                                                                      Model Description Column Predicted Num Features Used                                                                                                    Data and Split Description Normalized Num Features Normalized Feature Extraction Was Untested Data Predicted\n",
      "0  66dg1Q59Qqqz3  2019-07-28  23:01:52  random_forest_classification  Hamed        2           0.997     0.997              1.0        1.0                0.997     0.999      0.996   192000           48000           Random Forest: n_estimators=361, max_features=auto, criterion=entropy, min_samples_leaf=13, n_jobs=-1  class_label      12                {'experiment_id': 'r1dd37mcxv5pf4', 'random_state': 2, 'live_volume': 0.0, 'dead_volume': 170.0, 'stain': 'SYTOX Red Stain'}  True       12                      False              False                     \n",
      "\n",
      "Run finished at 23:02:38. Total run time = 46.14 seconds\n",
      "^^^^^^^^^^^^^^^^^^^^^^^^^^^^^^^^^^^^^^^^^^^^^^^^^^^^^^^^^^^^^^^^^^^^^^^^^^^^^^^^^^^^^^^^^^^^^^^^^^^^\n",
      "\n",
      "\n",
      "\n",
      "\n",
      "HI\n",
      "{'experiment_id': 'r1dd37mcxv5pf4', 'random_state': 2, 'live_volume': 0.0, 'dead_volume': 170.0, 'stain': None}\n",
      "data_columns: ['Container Type', 'Control', 'Culture_Volume', 'Media', 'Replicate', 'Storage (C)', 'Strain', 'checksum', 'filename', 'kill', 'kill_volume', 'plate_id', 'source', 'stain', 'well', 'experiment_id', 'Time', 'FSC-A', 'SSC-A', 'BL1-A', 'RL1-A', 'FSC-H', 'SSC-H', 'BL1-H', 'RL1-H', 'FSC-W', 'SSC-W', 'BL1-W', 'RL1-W']\n"
     ]
    },
    {
     "name": "stderr",
     "output_type": "stream",
     "text": [
      "/Users/danbryce/Documents/sift/xplan/external/xplan/xplan-to-autoprotocol-reactor/xplan-dev-env/xplan-dev-env/lib/python3.7/site-packages/pandas/core/indexing.py:480: SettingWithCopyWarning: \n",
      "A value is trying to be set on a copy of a slice from a DataFrame.\n",
      "Try using .loc[row_indexer,col_indexer] = value instead\n",
      "\n",
      "See the caveats in the documentation: http://pandas.pydata.org/pandas-docs/stable/user_guide/indexing.html#returning-a-view-versus-a-copy\n",
      "  self.obj[item] = s\n"
     ]
    },
    {
     "name": "stdout",
     "output_type": "stream",
     "text": [
      "['FSC-A', 'SSC-A', 'BL1-A', 'RL1-A', 'FSC-H', 'SSC-H', 'BL1-H', 'RL1-H', 'FSC-W', 'SSC-W', 'BL1-W', 'RL1-W']\n",
      "\n",
      "<harness.test_harness_class.TestHarness object at 0x3b18baf60>\n"
     ]
    },
    {
     "name": "stderr",
     "output_type": "stream",
     "text": [
      "/Users/danbryce/Documents/sift/xplan/external/xplan/xplan-to-autoprotocol-reactor/xplan-dev-env/xplan-dev-env/lib/python3.7/site-packages/pandas/core/indexing.py:362: SettingWithCopyWarning: \n",
      "A value is trying to be set on a copy of a slice from a DataFrame.\n",
      "Try using .loc[row_indexer,col_indexer] = value instead\n",
      "\n",
      "See the caveats in the documentation: http://pandas.pydata.org/pandas-docs/stable/user_guide/indexing.html#returning-a-view-versus-a-copy\n",
      "  self.obj[key] = _infer_fill_value(value)\n"
     ]
    },
    {
     "name": "stdout",
     "output_type": "stream",
     "text": [
      "HI\n",
      "----------------------------------------------------------------------------------------------------\n",
      "Starting run at time 23:02:44\n",
      "Normalizing training and testing splits...\n",
      "Starting Classification training...\n",
      "Training time was: 45.97 seconds\n",
      "Testing time was: 1.29 seconds\n",
      "\n",
      "          Run ID        Date      Time                    Model Name Model Author Num Classes  Accuracy  Balanced Accuracy  AUC Score  Average Precision  F1 Score  Precision  Recall Samples In Train Samples In Test                                                                                      Model Description Column Predicted Num Features Used                                                                                       Data and Split Description Normalized Num Features Normalized Feature Extraction Was Untested Data Predicted\n",
      "0  ab7YvvpRm65xB  2019-07-28  23:02:44  random_forest_classification  Hamed        2           0.918     0.918              0.973      0.971              0.919     0.909      0.93    192000           48000           Random Forest: n_estimators=361, max_features=auto, criterion=entropy, min_samples_leaf=13, n_jobs=-1  class_label      12                {'experiment_id': 'r1dd37mcxv5pf4', 'random_state': 2, 'live_volume': 0.0, 'dead_volume': 170.0, 'stain': None}  True       12                      False              False                     \n",
      "\n",
      "Run finished at 23:03:33. Total run time = 49.04 seconds\n",
      "^^^^^^^^^^^^^^^^^^^^^^^^^^^^^^^^^^^^^^^^^^^^^^^^^^^^^^^^^^^^^^^^^^^^^^^^^^^^^^^^^^^^^^^^^^^^^^^^^^^^\n",
      "\n",
      "\n",
      "\n",
      "\n",
      "HI\n",
      "{'experiment_id': 'r1dd37mcxv5pf4', 'random_state': 2, 'live_volume': 0.0, 'dead_volume': 105.0, 'stain': 'SYTOX Red Stain'}\n",
      "data_columns: ['Container Type', 'Control', 'Culture_Volume', 'Media', 'Replicate', 'Storage (C)', 'Strain', 'checksum', 'filename', 'kill', 'kill_volume', 'plate_id', 'source', 'stain', 'well', 'experiment_id', 'Time', 'FSC-A', 'SSC-A', 'BL1-A', 'RL1-A', 'FSC-H', 'SSC-H', 'BL1-H', 'RL1-H', 'FSC-W', 'SSC-W', 'BL1-W', 'RL1-W']\n"
     ]
    },
    {
     "name": "stderr",
     "output_type": "stream",
     "text": [
      "/Users/danbryce/Documents/sift/xplan/external/xplan/xplan-to-autoprotocol-reactor/xplan-dev-env/xplan-dev-env/lib/python3.7/site-packages/pandas/core/indexing.py:480: SettingWithCopyWarning: \n",
      "A value is trying to be set on a copy of a slice from a DataFrame.\n",
      "Try using .loc[row_indexer,col_indexer] = value instead\n",
      "\n",
      "See the caveats in the documentation: http://pandas.pydata.org/pandas-docs/stable/user_guide/indexing.html#returning-a-view-versus-a-copy\n",
      "  self.obj[item] = s\n"
     ]
    },
    {
     "name": "stdout",
     "output_type": "stream",
     "text": [
      "['FSC-A', 'SSC-A', 'BL1-A', 'RL1-A', 'FSC-H', 'SSC-H', 'BL1-H', 'RL1-H', 'FSC-W', 'SSC-W', 'BL1-W', 'RL1-W']\n",
      "\n",
      "<harness.test_harness_class.TestHarness object at 0x30896e198>\n"
     ]
    },
    {
     "name": "stderr",
     "output_type": "stream",
     "text": [
      "/Users/danbryce/Documents/sift/xplan/external/xplan/xplan-to-autoprotocol-reactor/xplan-dev-env/xplan-dev-env/lib/python3.7/site-packages/pandas/core/indexing.py:362: SettingWithCopyWarning: \n",
      "A value is trying to be set on a copy of a slice from a DataFrame.\n",
      "Try using .loc[row_indexer,col_indexer] = value instead\n",
      "\n",
      "See the caveats in the documentation: http://pandas.pydata.org/pandas-docs/stable/user_guide/indexing.html#returning-a-view-versus-a-copy\n",
      "  self.obj[key] = _infer_fill_value(value)\n"
     ]
    },
    {
     "name": "stdout",
     "output_type": "stream",
     "text": [
      "HI\n",
      "----------------------------------------------------------------------------------------------------\n",
      "Starting run at time 23:03:39\n",
      "Normalizing training and testing splits...\n",
      "Starting Classification training...\n",
      "Training time was: 34.23 seconds\n",
      "Testing time was: 0.66 seconds\n",
      "\n",
      "          Run ID        Date      Time                    Model Name Model Author Num Classes  Accuracy  Balanced Accuracy  AUC Score  Average Precision  F1 Score  Precision  Recall Samples In Train Samples In Test                                                                                      Model Description Column Predicted Num Features Used                                                                                                    Data and Split Description Normalized Num Features Normalized Feature Extraction Was Untested Data Predicted\n",
      "0  6ppzvEgMm6XD3  2019-07-28  23:03:39  random_forest_classification  Hamed        2           0.998     0.998              1.0        1.0                0.998     0.999      0.997   192000           48000           Random Forest: n_estimators=361, max_features=auto, criterion=entropy, min_samples_leaf=13, n_jobs=-1  class_label      12                {'experiment_id': 'r1dd37mcxv5pf4', 'random_state': 2, 'live_volume': 0.0, 'dead_volume': 105.0, 'stain': 'SYTOX Red Stain'}  True       12                      False              False                     \n",
      "\n",
      "Run finished at 23:04:16. Total run time = 36.51 seconds\n",
      "^^^^^^^^^^^^^^^^^^^^^^^^^^^^^^^^^^^^^^^^^^^^^^^^^^^^^^^^^^^^^^^^^^^^^^^^^^^^^^^^^^^^^^^^^^^^^^^^^^^^\n",
      "\n",
      "\n",
      "\n",
      "\n",
      "HI\n",
      "{'experiment_id': 'r1dd37mcxv5pf4', 'random_state': 2, 'live_volume': 0.0, 'dead_volume': 105.0, 'stain': None}\n",
      "data_columns: ['Container Type', 'Control', 'Culture_Volume', 'Media', 'Replicate', 'Storage (C)', 'Strain', 'checksum', 'filename', 'kill', 'kill_volume', 'plate_id', 'source', 'stain', 'well', 'experiment_id', 'Time', 'FSC-A', 'SSC-A', 'BL1-A', 'RL1-A', 'FSC-H', 'SSC-H', 'BL1-H', 'RL1-H', 'FSC-W', 'SSC-W', 'BL1-W', 'RL1-W']\n"
     ]
    },
    {
     "name": "stderr",
     "output_type": "stream",
     "text": [
      "/Users/danbryce/Documents/sift/xplan/external/xplan/xplan-to-autoprotocol-reactor/xplan-dev-env/xplan-dev-env/lib/python3.7/site-packages/pandas/core/indexing.py:480: SettingWithCopyWarning: \n",
      "A value is trying to be set on a copy of a slice from a DataFrame.\n",
      "Try using .loc[row_indexer,col_indexer] = value instead\n",
      "\n",
      "See the caveats in the documentation: http://pandas.pydata.org/pandas-docs/stable/user_guide/indexing.html#returning-a-view-versus-a-copy\n",
      "  self.obj[item] = s\n"
     ]
    },
    {
     "name": "stdout",
     "output_type": "stream",
     "text": [
      "['FSC-A', 'SSC-A', 'BL1-A', 'RL1-A', 'FSC-H', 'SSC-H', 'BL1-H', 'RL1-H', 'FSC-W', 'SSC-W', 'BL1-W', 'RL1-W']\n",
      "\n",
      "<harness.test_harness_class.TestHarness object at 0x325de3630>\n"
     ]
    },
    {
     "name": "stderr",
     "output_type": "stream",
     "text": [
      "/Users/danbryce/Documents/sift/xplan/external/xplan/xplan-to-autoprotocol-reactor/xplan-dev-env/xplan-dev-env/lib/python3.7/site-packages/pandas/core/indexing.py:362: SettingWithCopyWarning: \n",
      "A value is trying to be set on a copy of a slice from a DataFrame.\n",
      "Try using .loc[row_indexer,col_indexer] = value instead\n",
      "\n",
      "See the caveats in the documentation: http://pandas.pydata.org/pandas-docs/stable/user_guide/indexing.html#returning-a-view-versus-a-copy\n",
      "  self.obj[key] = _infer_fill_value(value)\n"
     ]
    },
    {
     "name": "stdout",
     "output_type": "stream",
     "text": [
      "HI\n",
      "----------------------------------------------------------------------------------------------------\n",
      "Starting run at time 23:04:22\n",
      "Normalizing training and testing splits...\n",
      "Starting Classification training...\n",
      "Training time was: 42.74 seconds\n",
      "Testing time was: 1.08 seconds\n",
      "\n",
      "          Run ID        Date      Time                    Model Name Model Author Num Classes  Accuracy  Balanced Accuracy  AUC Score  Average Precision  F1 Score  Precision  Recall Samples In Train Samples In Test                                                                                      Model Description Column Predicted Num Features Used                                                                                       Data and Split Description Normalized Num Features Normalized Feature Extraction Was Untested Data Predicted\n",
      "0  6DQz8GmBbXJEY  2019-07-28  23:04:22  random_forest_classification  Hamed        2           0.937     0.937              0.984      0.982              0.938     0.925      0.951   192000           48000           Random Forest: n_estimators=361, max_features=auto, criterion=entropy, min_samples_leaf=13, n_jobs=-1  class_label      12                {'experiment_id': 'r1dd37mcxv5pf4', 'random_state': 2, 'live_volume': 0.0, 'dead_volume': 105.0, 'stain': None}  True       12                      False              False                     \n",
      "\n",
      "Run finished at 23:05:13. Total run time = 50.98 seconds\n",
      "^^^^^^^^^^^^^^^^^^^^^^^^^^^^^^^^^^^^^^^^^^^^^^^^^^^^^^^^^^^^^^^^^^^^^^^^^^^^^^^^^^^^^^^^^^^^^^^^^^^^\n",
      "\n",
      "\n",
      "\n",
      "\n",
      "HI\n",
      "{'experiment_id': 'r1dd37mcxv5pf4', 'random_state': 2, 'live_volume': 0.0, 'dead_volume': 64.0, 'stain': 'SYTOX Red Stain'}\n",
      "data_columns: ['Container Type', 'Control', 'Culture_Volume', 'Media', 'Replicate', 'Storage (C)', 'Strain', 'checksum', 'filename', 'kill', 'kill_volume', 'plate_id', 'source', 'stain', 'well', 'experiment_id', 'Time', 'FSC-A', 'SSC-A', 'BL1-A', 'RL1-A', 'FSC-H', 'SSC-H', 'BL1-H', 'RL1-H', 'FSC-W', 'SSC-W', 'BL1-W', 'RL1-W']\n"
     ]
    },
    {
     "name": "stderr",
     "output_type": "stream",
     "text": [
      "/Users/danbryce/Documents/sift/xplan/external/xplan/xplan-to-autoprotocol-reactor/xplan-dev-env/xplan-dev-env/lib/python3.7/site-packages/pandas/core/indexing.py:480: SettingWithCopyWarning: \n",
      "A value is trying to be set on a copy of a slice from a DataFrame.\n",
      "Try using .loc[row_indexer,col_indexer] = value instead\n",
      "\n",
      "See the caveats in the documentation: http://pandas.pydata.org/pandas-docs/stable/user_guide/indexing.html#returning-a-view-versus-a-copy\n",
      "  self.obj[item] = s\n"
     ]
    },
    {
     "name": "stdout",
     "output_type": "stream",
     "text": [
      "['FSC-A', 'SSC-A', 'BL1-A', 'RL1-A', 'FSC-H', 'SSC-H', 'BL1-H', 'RL1-H', 'FSC-W', 'SSC-W', 'BL1-W', 'RL1-W']\n",
      "\n",
      "<harness.test_harness_class.TestHarness object at 0x325dd8ac8>\n"
     ]
    },
    {
     "name": "stderr",
     "output_type": "stream",
     "text": [
      "/Users/danbryce/Documents/sift/xplan/external/xplan/xplan-to-autoprotocol-reactor/xplan-dev-env/xplan-dev-env/lib/python3.7/site-packages/pandas/core/indexing.py:362: SettingWithCopyWarning: \n",
      "A value is trying to be set on a copy of a slice from a DataFrame.\n",
      "Try using .loc[row_indexer,col_indexer] = value instead\n",
      "\n",
      "See the caveats in the documentation: http://pandas.pydata.org/pandas-docs/stable/user_guide/indexing.html#returning-a-view-versus-a-copy\n",
      "  self.obj[key] = _infer_fill_value(value)\n"
     ]
    },
    {
     "name": "stdout",
     "output_type": "stream",
     "text": [
      "HI\n",
      "----------------------------------------------------------------------------------------------------\n",
      "Starting run at time 23:05:19\n",
      "Normalizing training and testing splits...\n",
      "Starting Classification training...\n",
      "Training time was: 47.26 seconds\n",
      "Testing time was: 1.28 seconds\n",
      "\n",
      "          Run ID        Date      Time                    Model Name Model Author Num Classes  Accuracy  Balanced Accuracy  AUC Score  Average Precision  F1 Score  Precision  Recall Samples In Train Samples In Test                                                                                      Model Description Column Predicted Num Features Used                                                                                                   Data and Split Description Normalized Num Features Normalized Feature Extraction Was Untested Data Predicted\n",
      "0  6aBverGr7OpyJ  2019-07-28  23:05:19  random_forest_classification  Hamed        2           0.858     0.858              0.926      0.907              0.866     0.82       0.918   192000           48000           Random Forest: n_estimators=361, max_features=auto, criterion=entropy, min_samples_leaf=13, n_jobs=-1  class_label      12                {'experiment_id': 'r1dd37mcxv5pf4', 'random_state': 2, 'live_volume': 0.0, 'dead_volume': 64.0, 'stain': 'SYTOX Red Stain'}  True       12                      False              False                     \n",
      "\n",
      "Run finished at 23:06:09. Total run time = 50.21 seconds\n",
      "^^^^^^^^^^^^^^^^^^^^^^^^^^^^^^^^^^^^^^^^^^^^^^^^^^^^^^^^^^^^^^^^^^^^^^^^^^^^^^^^^^^^^^^^^^^^^^^^^^^^\n",
      "\n",
      "\n",
      "\n",
      "\n",
      "HI\n",
      "{'experiment_id': 'r1dd37mcxv5pf4', 'random_state': 2, 'live_volume': 0.0, 'dead_volume': 64.0, 'stain': None}\n",
      "data_columns: ['Container Type', 'Control', 'Culture_Volume', 'Media', 'Replicate', 'Storage (C)', 'Strain', 'checksum', 'filename', 'kill', 'kill_volume', 'plate_id', 'source', 'stain', 'well', 'experiment_id', 'Time', 'FSC-A', 'SSC-A', 'BL1-A', 'RL1-A', 'FSC-H', 'SSC-H', 'BL1-H', 'RL1-H', 'FSC-W', 'SSC-W', 'BL1-W', 'RL1-W']\n"
     ]
    },
    {
     "name": "stderr",
     "output_type": "stream",
     "text": [
      "/Users/danbryce/Documents/sift/xplan/external/xplan/xplan-to-autoprotocol-reactor/xplan-dev-env/xplan-dev-env/lib/python3.7/site-packages/pandas/core/indexing.py:480: SettingWithCopyWarning: \n",
      "A value is trying to be set on a copy of a slice from a DataFrame.\n",
      "Try using .loc[row_indexer,col_indexer] = value instead\n",
      "\n",
      "See the caveats in the documentation: http://pandas.pydata.org/pandas-docs/stable/user_guide/indexing.html#returning-a-view-versus-a-copy\n",
      "  self.obj[item] = s\n"
     ]
    },
    {
     "name": "stdout",
     "output_type": "stream",
     "text": [
      "['FSC-A', 'SSC-A', 'BL1-A', 'RL1-A', 'FSC-H', 'SSC-H', 'BL1-H', 'RL1-H', 'FSC-W', 'SSC-W', 'BL1-W', 'RL1-W']\n",
      "\n",
      "<harness.test_harness_class.TestHarness object at 0x11faa4320>\n"
     ]
    },
    {
     "name": "stderr",
     "output_type": "stream",
     "text": [
      "/Users/danbryce/Documents/sift/xplan/external/xplan/xplan-to-autoprotocol-reactor/xplan-dev-env/xplan-dev-env/lib/python3.7/site-packages/pandas/core/indexing.py:362: SettingWithCopyWarning: \n",
      "A value is trying to be set on a copy of a slice from a DataFrame.\n",
      "Try using .loc[row_indexer,col_indexer] = value instead\n",
      "\n",
      "See the caveats in the documentation: http://pandas.pydata.org/pandas-docs/stable/user_guide/indexing.html#returning-a-view-versus-a-copy\n",
      "  self.obj[key] = _infer_fill_value(value)\n"
     ]
    },
    {
     "name": "stdout",
     "output_type": "stream",
     "text": [
      "HI\n",
      "----------------------------------------------------------------------------------------------------\n",
      "Starting run at time 23:06:15\n",
      "Normalizing training and testing splits...\n",
      "Starting Classification training...\n",
      "Training time was: 42.94 seconds\n",
      "Testing time was: 1.28 seconds\n",
      "\n",
      "          Run ID        Date      Time                    Model Name Model Author Num Classes  Accuracy  Balanced Accuracy  AUC Score  Average Precision  F1 Score  Precision  Recall Samples In Train Samples In Test                                                                                      Model Description Column Predicted Num Features Used                                                                                      Data and Split Description Normalized Num Features Normalized Feature Extraction Was Untested Data Predicted\n",
      "0  Q6V8pRPEYZpao  2019-07-28  23:06:15  random_forest_classification  Hamed        2           0.795     0.795              0.876      0.861              0.805     0.766      0.848   192000           48000           Random Forest: n_estimators=361, max_features=auto, criterion=entropy, min_samples_leaf=13, n_jobs=-1  class_label      12                {'experiment_id': 'r1dd37mcxv5pf4', 'random_state': 2, 'live_volume': 0.0, 'dead_volume': 64.0, 'stain': None}  True       12                      False              False                     \n",
      "\n",
      "Run finished at 23:07:00. Total run time = 45.90 seconds\n",
      "^^^^^^^^^^^^^^^^^^^^^^^^^^^^^^^^^^^^^^^^^^^^^^^^^^^^^^^^^^^^^^^^^^^^^^^^^^^^^^^^^^^^^^^^^^^^^^^^^^^^\n",
      "\n",
      "\n",
      "\n",
      "\n",
      "HI\n",
      "{'experiment_id': 'r1dd37mcxv5pf4', 'random_state': 2, 'live_volume': 0.0, 'dead_volume': 29, 'stain': 'SYTOX Red Stain'}\n",
      "data_columns: ['Container Type', 'Control', 'Culture_Volume', 'Media', 'Replicate', 'Storage (C)', 'Strain', 'checksum', 'filename', 'kill', 'kill_volume', 'plate_id', 'source', 'stain', 'well', 'experiment_id', 'Time', 'FSC-A', 'SSC-A', 'BL1-A', 'RL1-A', 'FSC-H', 'SSC-H', 'BL1-H', 'RL1-H', 'FSC-W', 'SSC-W', 'BL1-W', 'RL1-W']\n"
     ]
    },
    {
     "name": "stderr",
     "output_type": "stream",
     "text": [
      "/Users/danbryce/Documents/sift/xplan/external/xplan/xplan-to-autoprotocol-reactor/xplan-dev-env/xplan-dev-env/lib/python3.7/site-packages/pandas/core/indexing.py:480: SettingWithCopyWarning: \n",
      "A value is trying to be set on a copy of a slice from a DataFrame.\n",
      "Try using .loc[row_indexer,col_indexer] = value instead\n",
      "\n",
      "See the caveats in the documentation: http://pandas.pydata.org/pandas-docs/stable/user_guide/indexing.html#returning-a-view-versus-a-copy\n",
      "  self.obj[item] = s\n"
     ]
    },
    {
     "name": "stdout",
     "output_type": "stream",
     "text": [
      "['FSC-A', 'SSC-A', 'BL1-A', 'RL1-A', 'FSC-H', 'SSC-H', 'BL1-H', 'RL1-H', 'FSC-W', 'SSC-W', 'BL1-W', 'RL1-W']\n",
      "\n",
      "<harness.test_harness_class.TestHarness object at 0x15d73a438>\n"
     ]
    },
    {
     "name": "stderr",
     "output_type": "stream",
     "text": [
      "/Users/danbryce/Documents/sift/xplan/external/xplan/xplan-to-autoprotocol-reactor/xplan-dev-env/xplan-dev-env/lib/python3.7/site-packages/pandas/core/indexing.py:362: SettingWithCopyWarning: \n",
      "A value is trying to be set on a copy of a slice from a DataFrame.\n",
      "Try using .loc[row_indexer,col_indexer] = value instead\n",
      "\n",
      "See the caveats in the documentation: http://pandas.pydata.org/pandas-docs/stable/user_guide/indexing.html#returning-a-view-versus-a-copy\n",
      "  self.obj[key] = _infer_fill_value(value)\n"
     ]
    },
    {
     "name": "stdout",
     "output_type": "stream",
     "text": [
      "HI\n",
      "----------------------------------------------------------------------------------------------------\n",
      "Starting run at time 23:07:06\n",
      "Normalizing training and testing splits...\n",
      "Starting Classification training...\n",
      "Training time was: 59.55 seconds\n",
      "Testing time was: 1.67 seconds\n",
      "\n",
      "          Run ID        Date      Time                    Model Name Model Author Num Classes  Accuracy  Balanced Accuracy  AUC Score  Average Precision  F1 Score  Precision  Recall Samples In Train Samples In Test                                                                                      Model Description Column Predicted Num Features Used                                                                                                 Data and Split Description Normalized Num Features Normalized Feature Extraction Was Untested Data Predicted\n",
      "0  Epl3Eww2lWw8e  2019-07-28  23:07:06  random_forest_classification  Hamed        2           0.649     0.649              0.711      0.678              0.674     0.629      0.726   192000           48000           Random Forest: n_estimators=361, max_features=auto, criterion=entropy, min_samples_leaf=13, n_jobs=-1  class_label      12                {'experiment_id': 'r1dd37mcxv5pf4', 'random_state': 2, 'live_volume': 0.0, 'dead_volume': 29, 'stain': 'SYTOX Red Stain'}  True       12                      False              False                     \n",
      "\n",
      "Run finished at 23:08:09. Total run time = 63.01 seconds\n",
      "^^^^^^^^^^^^^^^^^^^^^^^^^^^^^^^^^^^^^^^^^^^^^^^^^^^^^^^^^^^^^^^^^^^^^^^^^^^^^^^^^^^^^^^^^^^^^^^^^^^^\n",
      "\n",
      "\n",
      "\n",
      "\n",
      "HI\n",
      "{'experiment_id': 'r1dd37mcxv5pf4', 'random_state': 2, 'live_volume': 0.0, 'dead_volume': 29, 'stain': None}\n",
      "data_columns: ['Container Type', 'Control', 'Culture_Volume', 'Media', 'Replicate', 'Storage (C)', 'Strain', 'checksum', 'filename', 'kill', 'kill_volume', 'plate_id', 'source', 'stain', 'well', 'experiment_id', 'Time', 'FSC-A', 'SSC-A', 'BL1-A', 'RL1-A', 'FSC-H', 'SSC-H', 'BL1-H', 'RL1-H', 'FSC-W', 'SSC-W', 'BL1-W', 'RL1-W']\n"
     ]
    },
    {
     "name": "stderr",
     "output_type": "stream",
     "text": [
      "/Users/danbryce/Documents/sift/xplan/external/xplan/xplan-to-autoprotocol-reactor/xplan-dev-env/xplan-dev-env/lib/python3.7/site-packages/pandas/core/indexing.py:480: SettingWithCopyWarning: \n",
      "A value is trying to be set on a copy of a slice from a DataFrame.\n",
      "Try using .loc[row_indexer,col_indexer] = value instead\n",
      "\n",
      "See the caveats in the documentation: http://pandas.pydata.org/pandas-docs/stable/user_guide/indexing.html#returning-a-view-versus-a-copy\n",
      "  self.obj[item] = s\n"
     ]
    },
    {
     "name": "stdout",
     "output_type": "stream",
     "text": [
      "['FSC-A', 'SSC-A', 'BL1-A', 'RL1-A', 'FSC-H', 'SSC-H', 'BL1-H', 'RL1-H', 'FSC-W', 'SSC-W', 'BL1-W', 'RL1-W']\n",
      "\n",
      "<harness.test_harness_class.TestHarness object at 0x12b9c8b00>\n"
     ]
    },
    {
     "name": "stderr",
     "output_type": "stream",
     "text": [
      "/Users/danbryce/Documents/sift/xplan/external/xplan/xplan-to-autoprotocol-reactor/xplan-dev-env/xplan-dev-env/lib/python3.7/site-packages/pandas/core/indexing.py:362: SettingWithCopyWarning: \n",
      "A value is trying to be set on a copy of a slice from a DataFrame.\n",
      "Try using .loc[row_indexer,col_indexer] = value instead\n",
      "\n",
      "See the caveats in the documentation: http://pandas.pydata.org/pandas-docs/stable/user_guide/indexing.html#returning-a-view-versus-a-copy\n",
      "  self.obj[key] = _infer_fill_value(value)\n"
     ]
    },
    {
     "name": "stdout",
     "output_type": "stream",
     "text": [
      "HI\n",
      "----------------------------------------------------------------------------------------------------\n",
      "Starting run at time 23:08:16\n",
      "Normalizing training and testing splits...\n",
      "Starting Classification training...\n",
      "Training time was: 52.60 seconds\n",
      "Testing time was: 1.47 seconds\n",
      "\n",
      "          Run ID        Date      Time                    Model Name Model Author Num Classes  Accuracy  Balanced Accuracy  AUC Score  Average Precision  F1 Score  Precision  Recall Samples In Train Samples In Test                                                                                      Model Description Column Predicted Num Features Used                                                                                    Data and Split Description Normalized Num Features Normalized Feature Extraction Was Untested Data Predicted\n",
      "0  52gx7AQj7895G  2019-07-28  23:08:16  random_forest_classification  Hamed        2           0.634     0.634              0.685      0.669              0.637     0.632      0.642   192000           48000           Random Forest: n_estimators=361, max_features=auto, criterion=entropy, min_samples_leaf=13, n_jobs=-1  class_label      12                {'experiment_id': 'r1dd37mcxv5pf4', 'random_state': 2, 'live_volume': 0.0, 'dead_volume': 29, 'stain': None}  True       12                      False              False                     \n",
      "\n",
      "Run finished at 23:09:12. Total run time = 56.11 seconds\n",
      "^^^^^^^^^^^^^^^^^^^^^^^^^^^^^^^^^^^^^^^^^^^^^^^^^^^^^^^^^^^^^^^^^^^^^^^^^^^^^^^^^^^^^^^^^^^^^^^^^^^^\n",
      "\n",
      "\n",
      "\n",
      "\n",
      "HI\n",
      "{'experiment_id': 'r1dd37mcxv5pf4', 'random_state': 3, 'live_volume': 0.0, 'dead_volume': 980.0, 'stain': 'SYTOX Red Stain'}\n",
      "data_columns: ['Container Type', 'Control', 'Culture_Volume', 'Media', 'Replicate', 'Storage (C)', 'Strain', 'checksum', 'filename', 'kill', 'kill_volume', 'plate_id', 'source', 'stain', 'well', 'experiment_id', 'Time', 'FSC-A', 'SSC-A', 'BL1-A', 'RL1-A', 'FSC-H', 'SSC-H', 'BL1-H', 'RL1-H', 'FSC-W', 'SSC-W', 'BL1-W', 'RL1-W']\n"
     ]
    },
    {
     "name": "stderr",
     "output_type": "stream",
     "text": [
      "/Users/danbryce/Documents/sift/xplan/external/xplan/xplan-to-autoprotocol-reactor/xplan-dev-env/xplan-dev-env/lib/python3.7/site-packages/pandas/core/indexing.py:480: SettingWithCopyWarning: \n",
      "A value is trying to be set on a copy of a slice from a DataFrame.\n",
      "Try using .loc[row_indexer,col_indexer] = value instead\n",
      "\n",
      "See the caveats in the documentation: http://pandas.pydata.org/pandas-docs/stable/user_guide/indexing.html#returning-a-view-versus-a-copy\n",
      "  self.obj[item] = s\n"
     ]
    },
    {
     "name": "stdout",
     "output_type": "stream",
     "text": [
      "['FSC-A', 'SSC-A', 'BL1-A', 'RL1-A', 'FSC-H', 'SSC-H', 'BL1-H', 'RL1-H', 'FSC-W', 'SSC-W', 'BL1-W', 'RL1-W']\n",
      "\n",
      "<harness.test_harness_class.TestHarness object at 0x13d9690f0>\n"
     ]
    },
    {
     "name": "stderr",
     "output_type": "stream",
     "text": [
      "/Users/danbryce/Documents/sift/xplan/external/xplan/xplan-to-autoprotocol-reactor/xplan-dev-env/xplan-dev-env/lib/python3.7/site-packages/pandas/core/indexing.py:362: SettingWithCopyWarning: \n",
      "A value is trying to be set on a copy of a slice from a DataFrame.\n",
      "Try using .loc[row_indexer,col_indexer] = value instead\n",
      "\n",
      "See the caveats in the documentation: http://pandas.pydata.org/pandas-docs/stable/user_guide/indexing.html#returning-a-view-versus-a-copy\n",
      "  self.obj[key] = _infer_fill_value(value)\n"
     ]
    },
    {
     "name": "stdout",
     "output_type": "stream",
     "text": [
      "HI\n",
      "----------------------------------------------------------------------------------------------------\n",
      "Starting run at time 23:09:18\n",
      "Normalizing training and testing splits...\n",
      "Starting Classification training...\n",
      "Training time was: 36.76 seconds\n",
      "Testing time was: 0.65 seconds\n",
      "\n",
      "          Run ID        Date      Time                    Model Name Model Author Num Classes  Accuracy  Balanced Accuracy  AUC Score  Average Precision  F1 Score  Precision  Recall Samples In Train Samples In Test                                                                                      Model Description Column Predicted Num Features Used                                                                                                    Data and Split Description Normalized Num Features Normalized Feature Extraction Was Untested Data Predicted\n",
      "0  66e9PdGOa6BYO  2019-07-28  23:09:18  random_forest_classification  Hamed        2           0.998     0.998              1.0        1.0                0.998     0.999      0.998   192000           48000           Random Forest: n_estimators=361, max_features=auto, criterion=entropy, min_samples_leaf=13, n_jobs=-1  class_label      12                {'experiment_id': 'r1dd37mcxv5pf4', 'random_state': 3, 'live_volume': 0.0, 'dead_volume': 980.0, 'stain': 'SYTOX Red Stain'}  True       12                      False              False                     \n",
      "\n",
      "Run finished at 23:09:58. Total run time = 39.20 seconds\n",
      "^^^^^^^^^^^^^^^^^^^^^^^^^^^^^^^^^^^^^^^^^^^^^^^^^^^^^^^^^^^^^^^^^^^^^^^^^^^^^^^^^^^^^^^^^^^^^^^^^^^^\n",
      "\n",
      "\n",
      "\n",
      "\n",
      "HI\n",
      "{'experiment_id': 'r1dd37mcxv5pf4', 'random_state': 3, 'live_volume': 0.0, 'dead_volume': 980.0, 'stain': None}\n",
      "data_columns: ['Container Type', 'Control', 'Culture_Volume', 'Media', 'Replicate', 'Storage (C)', 'Strain', 'checksum', 'filename', 'kill', 'kill_volume', 'plate_id', 'source', 'stain', 'well', 'experiment_id', 'Time', 'FSC-A', 'SSC-A', 'BL1-A', 'RL1-A', 'FSC-H', 'SSC-H', 'BL1-H', 'RL1-H', 'FSC-W', 'SSC-W', 'BL1-W', 'RL1-W']\n"
     ]
    },
    {
     "name": "stderr",
     "output_type": "stream",
     "text": [
      "/Users/danbryce/Documents/sift/xplan/external/xplan/xplan-to-autoprotocol-reactor/xplan-dev-env/xplan-dev-env/lib/python3.7/site-packages/pandas/core/indexing.py:480: SettingWithCopyWarning: \n",
      "A value is trying to be set on a copy of a slice from a DataFrame.\n",
      "Try using .loc[row_indexer,col_indexer] = value instead\n",
      "\n",
      "See the caveats in the documentation: http://pandas.pydata.org/pandas-docs/stable/user_guide/indexing.html#returning-a-view-versus-a-copy\n",
      "  self.obj[item] = s\n"
     ]
    },
    {
     "name": "stdout",
     "output_type": "stream",
     "text": [
      "['FSC-A', 'SSC-A', 'BL1-A', 'RL1-A', 'FSC-H', 'SSC-H', 'BL1-H', 'RL1-H', 'FSC-W', 'SSC-W', 'BL1-W', 'RL1-W']\n",
      "\n",
      "<harness.test_harness_class.TestHarness object at 0x1e5a250b8>\n"
     ]
    },
    {
     "name": "stderr",
     "output_type": "stream",
     "text": [
      "/Users/danbryce/Documents/sift/xplan/external/xplan/xplan-to-autoprotocol-reactor/xplan-dev-env/xplan-dev-env/lib/python3.7/site-packages/pandas/core/indexing.py:362: SettingWithCopyWarning: \n",
      "A value is trying to be set on a copy of a slice from a DataFrame.\n",
      "Try using .loc[row_indexer,col_indexer] = value instead\n",
      "\n",
      "See the caveats in the documentation: http://pandas.pydata.org/pandas-docs/stable/user_guide/indexing.html#returning-a-view-versus-a-copy\n",
      "  self.obj[key] = _infer_fill_value(value)\n"
     ]
    },
    {
     "name": "stdout",
     "output_type": "stream",
     "text": [
      "HI\n",
      "----------------------------------------------------------------------------------------------------\n",
      "Starting run at time 23:10:04\n",
      "Normalizing training and testing splits...\n",
      "Starting Classification training...\n",
      "Training time was: 37.95 seconds\n",
      "Testing time was: 0.76 seconds\n",
      "\n",
      "          Run ID        Date      Time                    Model Name Model Author Num Classes  Accuracy  Balanced Accuracy  AUC Score  Average Precision  F1 Score  Precision  Recall Samples In Train Samples In Test                                                                                      Model Description Column Predicted Num Features Used                                                                                       Data and Split Description Normalized Num Features Normalized Feature Extraction Was Untested Data Predicted\n",
      "0  6qyrLeNAkOwv3  2019-07-28  23:10:04  random_forest_classification  Hamed        2           0.995     0.995              1.0        1.0                0.995     0.992      0.997   192000           48000           Random Forest: n_estimators=361, max_features=auto, criterion=entropy, min_samples_leaf=13, n_jobs=-1  class_label      12                {'experiment_id': 'r1dd37mcxv5pf4', 'random_state': 3, 'live_volume': 0.0, 'dead_volume': 980.0, 'stain': None}  True       12                      False              False                     \n",
      "\n",
      "Run finished at 23:10:44. Total run time = 40.36 seconds\n",
      "^^^^^^^^^^^^^^^^^^^^^^^^^^^^^^^^^^^^^^^^^^^^^^^^^^^^^^^^^^^^^^^^^^^^^^^^^^^^^^^^^^^^^^^^^^^^^^^^^^^^\n",
      "\n",
      "\n",
      "\n",
      "\n",
      "HI\n",
      "{'experiment_id': 'r1dd37mcxv5pf4', 'random_state': 3, 'live_volume': 0.0, 'dead_volume': 570.0, 'stain': 'SYTOX Red Stain'}\n",
      "data_columns: ['Container Type', 'Control', 'Culture_Volume', 'Media', 'Replicate', 'Storage (C)', 'Strain', 'checksum', 'filename', 'kill', 'kill_volume', 'plate_id', 'source', 'stain', 'well', 'experiment_id', 'Time', 'FSC-A', 'SSC-A', 'BL1-A', 'RL1-A', 'FSC-H', 'SSC-H', 'BL1-H', 'RL1-H', 'FSC-W', 'SSC-W', 'BL1-W', 'RL1-W']\n"
     ]
    },
    {
     "name": "stderr",
     "output_type": "stream",
     "text": [
      "/Users/danbryce/Documents/sift/xplan/external/xplan/xplan-to-autoprotocol-reactor/xplan-dev-env/xplan-dev-env/lib/python3.7/site-packages/pandas/core/indexing.py:480: SettingWithCopyWarning: \n",
      "A value is trying to be set on a copy of a slice from a DataFrame.\n",
      "Try using .loc[row_indexer,col_indexer] = value instead\n",
      "\n",
      "See the caveats in the documentation: http://pandas.pydata.org/pandas-docs/stable/user_guide/indexing.html#returning-a-view-versus-a-copy\n",
      "  self.obj[item] = s\n"
     ]
    },
    {
     "name": "stdout",
     "output_type": "stream",
     "text": [
      "['FSC-A', 'SSC-A', 'BL1-A', 'RL1-A', 'FSC-H', 'SSC-H', 'BL1-H', 'RL1-H', 'FSC-W', 'SSC-W', 'BL1-W', 'RL1-W']\n",
      "\n",
      "<harness.test_harness_class.TestHarness object at 0x15e746ba8>\n"
     ]
    },
    {
     "name": "stderr",
     "output_type": "stream",
     "text": [
      "/Users/danbryce/Documents/sift/xplan/external/xplan/xplan-to-autoprotocol-reactor/xplan-dev-env/xplan-dev-env/lib/python3.7/site-packages/pandas/core/indexing.py:362: SettingWithCopyWarning: \n",
      "A value is trying to be set on a copy of a slice from a DataFrame.\n",
      "Try using .loc[row_indexer,col_indexer] = value instead\n",
      "\n",
      "See the caveats in the documentation: http://pandas.pydata.org/pandas-docs/stable/user_guide/indexing.html#returning-a-view-versus-a-copy\n",
      "  self.obj[key] = _infer_fill_value(value)\n"
     ]
    },
    {
     "name": "stdout",
     "output_type": "stream",
     "text": [
      "HI\n",
      "----------------------------------------------------------------------------------------------------\n",
      "Starting run at time 23:10:51\n",
      "Normalizing training and testing splits...\n",
      "Starting Classification training...\n",
      "Training time was: 36.10 seconds\n",
      "Testing time was: 0.75 seconds\n",
      "\n",
      "          Run ID        Date      Time                    Model Name Model Author Num Classes  Accuracy  Balanced Accuracy  AUC Score  Average Precision  F1 Score  Precision  Recall Samples In Train Samples In Test                                                                                      Model Description Column Predicted Num Features Used                                                                                                    Data and Split Description Normalized Num Features Normalized Feature Extraction Was Untested Data Predicted\n",
      "0  EW6V1eWP2aVQ1  2019-07-28  23:10:51  random_forest_classification  Hamed        2           0.997     0.997              1.0        1.0                0.997     0.999      0.996   192000           48000           Random Forest: n_estimators=361, max_features=auto, criterion=entropy, min_samples_leaf=13, n_jobs=-1  class_label      12                {'experiment_id': 'r1dd37mcxv5pf4', 'random_state': 3, 'live_volume': 0.0, 'dead_volume': 570.0, 'stain': 'SYTOX Red Stain'}  True       12                      False              False                     \n",
      "\n",
      "Run finished at 23:11:30. Total run time = 38.80 seconds\n",
      "^^^^^^^^^^^^^^^^^^^^^^^^^^^^^^^^^^^^^^^^^^^^^^^^^^^^^^^^^^^^^^^^^^^^^^^^^^^^^^^^^^^^^^^^^^^^^^^^^^^^\n",
      "\n",
      "\n",
      "\n",
      "\n",
      "HI\n",
      "{'experiment_id': 'r1dd37mcxv5pf4', 'random_state': 3, 'live_volume': 0.0, 'dead_volume': 570.0, 'stain': None}\n",
      "data_columns: ['Container Type', 'Control', 'Culture_Volume', 'Media', 'Replicate', 'Storage (C)', 'Strain', 'checksum', 'filename', 'kill', 'kill_volume', 'plate_id', 'source', 'stain', 'well', 'experiment_id', 'Time', 'FSC-A', 'SSC-A', 'BL1-A', 'RL1-A', 'FSC-H', 'SSC-H', 'BL1-H', 'RL1-H', 'FSC-W', 'SSC-W', 'BL1-W', 'RL1-W']\n"
     ]
    },
    {
     "name": "stderr",
     "output_type": "stream",
     "text": [
      "/Users/danbryce/Documents/sift/xplan/external/xplan/xplan-to-autoprotocol-reactor/xplan-dev-env/xplan-dev-env/lib/python3.7/site-packages/pandas/core/indexing.py:480: SettingWithCopyWarning: \n",
      "A value is trying to be set on a copy of a slice from a DataFrame.\n",
      "Try using .loc[row_indexer,col_indexer] = value instead\n",
      "\n",
      "See the caveats in the documentation: http://pandas.pydata.org/pandas-docs/stable/user_guide/indexing.html#returning-a-view-versus-a-copy\n",
      "  self.obj[item] = s\n"
     ]
    },
    {
     "name": "stdout",
     "output_type": "stream",
     "text": [
      "['FSC-A', 'SSC-A', 'BL1-A', 'RL1-A', 'FSC-H', 'SSC-H', 'BL1-H', 'RL1-H', 'FSC-W', 'SSC-W', 'BL1-W', 'RL1-W']\n",
      "\n",
      "<harness.test_harness_class.TestHarness object at 0x143682400>\n"
     ]
    },
    {
     "name": "stderr",
     "output_type": "stream",
     "text": [
      "/Users/danbryce/Documents/sift/xplan/external/xplan/xplan-to-autoprotocol-reactor/xplan-dev-env/xplan-dev-env/lib/python3.7/site-packages/pandas/core/indexing.py:362: SettingWithCopyWarning: \n",
      "A value is trying to be set on a copy of a slice from a DataFrame.\n",
      "Try using .loc[row_indexer,col_indexer] = value instead\n",
      "\n",
      "See the caveats in the documentation: http://pandas.pydata.org/pandas-docs/stable/user_guide/indexing.html#returning-a-view-versus-a-copy\n",
      "  self.obj[key] = _infer_fill_value(value)\n"
     ]
    },
    {
     "name": "stdout",
     "output_type": "stream",
     "text": [
      "HI\n",
      "----------------------------------------------------------------------------------------------------\n",
      "Starting run at time 23:11:36\n",
      "Normalizing training and testing splits...\n",
      "Starting Classification training...\n",
      "Training time was: 46.78 seconds\n",
      "Testing time was: 0.85 seconds\n",
      "\n",
      "          Run ID        Date      Time                    Model Name Model Author Num Classes  Accuracy  Balanced Accuracy  AUC Score  Average Precision  F1 Score  Precision  Recall Samples In Train Samples In Test                                                                                      Model Description Column Predicted Num Features Used                                                                                       Data and Split Description Normalized Num Features Normalized Feature Extraction Was Untested Data Predicted\n",
      "0  6DrO8RbMLXgXw  2019-07-28  23:11:36  random_forest_classification  Hamed        2           0.978     0.978              0.997      0.997              0.979     0.974      0.985   183965           45992           Random Forest: n_estimators=361, max_features=auto, criterion=entropy, min_samples_leaf=13, n_jobs=-1  class_label      12                {'experiment_id': 'r1dd37mcxv5pf4', 'random_state': 3, 'live_volume': 0.0, 'dead_volume': 570.0, 'stain': None}  True       12                      False              False                     \n",
      "\n",
      "Run finished at 23:12:25. Total run time = 49.27 seconds\n",
      "^^^^^^^^^^^^^^^^^^^^^^^^^^^^^^^^^^^^^^^^^^^^^^^^^^^^^^^^^^^^^^^^^^^^^^^^^^^^^^^^^^^^^^^^^^^^^^^^^^^^\n",
      "\n",
      "\n",
      "\n",
      "\n",
      "HI\n",
      "{'experiment_id': 'r1dd37mcxv5pf4', 'random_state': 3, 'live_volume': 0.0, 'dead_volume': 370.0, 'stain': 'SYTOX Red Stain'}\n",
      "data_columns: ['Container Type', 'Control', 'Culture_Volume', 'Media', 'Replicate', 'Storage (C)', 'Strain', 'checksum', 'filename', 'kill', 'kill_volume', 'plate_id', 'source', 'stain', 'well', 'experiment_id', 'Time', 'FSC-A', 'SSC-A', 'BL1-A', 'RL1-A', 'FSC-H', 'SSC-H', 'BL1-H', 'RL1-H', 'FSC-W', 'SSC-W', 'BL1-W', 'RL1-W']\n"
     ]
    },
    {
     "name": "stderr",
     "output_type": "stream",
     "text": [
      "/Users/danbryce/Documents/sift/xplan/external/xplan/xplan-to-autoprotocol-reactor/xplan-dev-env/xplan-dev-env/lib/python3.7/site-packages/pandas/core/indexing.py:480: SettingWithCopyWarning: \n",
      "A value is trying to be set on a copy of a slice from a DataFrame.\n",
      "Try using .loc[row_indexer,col_indexer] = value instead\n",
      "\n",
      "See the caveats in the documentation: http://pandas.pydata.org/pandas-docs/stable/user_guide/indexing.html#returning-a-view-versus-a-copy\n",
      "  self.obj[item] = s\n"
     ]
    },
    {
     "name": "stdout",
     "output_type": "stream",
     "text": [
      "['FSC-A', 'SSC-A', 'BL1-A', 'RL1-A', 'FSC-H', 'SSC-H', 'BL1-H', 'RL1-H', 'FSC-W', 'SSC-W', 'BL1-W', 'RL1-W']\n",
      "\n",
      "<harness.test_harness_class.TestHarness object at 0x1e5a4c630>\n"
     ]
    },
    {
     "name": "stderr",
     "output_type": "stream",
     "text": [
      "/Users/danbryce/Documents/sift/xplan/external/xplan/xplan-to-autoprotocol-reactor/xplan-dev-env/xplan-dev-env/lib/python3.7/site-packages/pandas/core/indexing.py:362: SettingWithCopyWarning: \n",
      "A value is trying to be set on a copy of a slice from a DataFrame.\n",
      "Try using .loc[row_indexer,col_indexer] = value instead\n",
      "\n",
      "See the caveats in the documentation: http://pandas.pydata.org/pandas-docs/stable/user_guide/indexing.html#returning-a-view-versus-a-copy\n",
      "  self.obj[key] = _infer_fill_value(value)\n"
     ]
    },
    {
     "name": "stdout",
     "output_type": "stream",
     "text": [
      "HI\n",
      "----------------------------------------------------------------------------------------------------\n",
      "Starting run at time 23:12:31\n",
      "Normalizing training and testing splits...\n",
      "Starting Classification training...\n",
      "Training time was: 30.20 seconds\n",
      "Testing time was: 0.64 seconds\n",
      "\n",
      "          Run ID        Date      Time                    Model Name Model Author Num Classes  Accuracy  Balanced Accuracy  AUC Score  Average Precision  F1 Score  Precision  Recall Samples In Train Samples In Test                                                                                      Model Description Column Predicted Num Features Used                                                                                                    Data and Split Description Normalized Num Features Normalized Feature Extraction Was Untested Data Predicted\n",
      "0  5ow3MyzYQ93db  2019-07-28  23:12:31  random_forest_classification  Hamed        2           0.997     0.997              1.0        1.0                0.997     0.999      0.996   175331           43833           Random Forest: n_estimators=361, max_features=auto, criterion=entropy, min_samples_leaf=13, n_jobs=-1  class_label      12                {'experiment_id': 'r1dd37mcxv5pf4', 'random_state': 3, 'live_volume': 0.0, 'dead_volume': 370.0, 'stain': 'SYTOX Red Stain'}  True       12                      False              False                     \n",
      "\n",
      "Run finished at 23:13:04. Total run time = 32.44 seconds\n",
      "^^^^^^^^^^^^^^^^^^^^^^^^^^^^^^^^^^^^^^^^^^^^^^^^^^^^^^^^^^^^^^^^^^^^^^^^^^^^^^^^^^^^^^^^^^^^^^^^^^^^\n",
      "\n",
      "\n",
      "\n",
      "\n",
      "HI\n",
      "{'experiment_id': 'r1dd37mcxv5pf4', 'random_state': 3, 'live_volume': 0.0, 'dead_volume': 370.0, 'stain': None}\n",
      "data_columns: ['Container Type', 'Control', 'Culture_Volume', 'Media', 'Replicate', 'Storage (C)', 'Strain', 'checksum', 'filename', 'kill', 'kill_volume', 'plate_id', 'source', 'stain', 'well', 'experiment_id', 'Time', 'FSC-A', 'SSC-A', 'BL1-A', 'RL1-A', 'FSC-H', 'SSC-H', 'BL1-H', 'RL1-H', 'FSC-W', 'SSC-W', 'BL1-W', 'RL1-W']\n"
     ]
    },
    {
     "name": "stderr",
     "output_type": "stream",
     "text": [
      "/Users/danbryce/Documents/sift/xplan/external/xplan/xplan-to-autoprotocol-reactor/xplan-dev-env/xplan-dev-env/lib/python3.7/site-packages/pandas/core/indexing.py:480: SettingWithCopyWarning: \n",
      "A value is trying to be set on a copy of a slice from a DataFrame.\n",
      "Try using .loc[row_indexer,col_indexer] = value instead\n",
      "\n",
      "See the caveats in the documentation: http://pandas.pydata.org/pandas-docs/stable/user_guide/indexing.html#returning-a-view-versus-a-copy\n",
      "  self.obj[item] = s\n"
     ]
    },
    {
     "name": "stdout",
     "output_type": "stream",
     "text": [
      "['FSC-A', 'SSC-A', 'BL1-A', 'RL1-A', 'FSC-H', 'SSC-H', 'BL1-H', 'RL1-H', 'FSC-W', 'SSC-W', 'BL1-W', 'RL1-W']\n",
      "\n",
      "<harness.test_harness_class.TestHarness object at 0x1348bbeb8>\n"
     ]
    },
    {
     "name": "stderr",
     "output_type": "stream",
     "text": [
      "/Users/danbryce/Documents/sift/xplan/external/xplan/xplan-to-autoprotocol-reactor/xplan-dev-env/xplan-dev-env/lib/python3.7/site-packages/pandas/core/indexing.py:362: SettingWithCopyWarning: \n",
      "A value is trying to be set on a copy of a slice from a DataFrame.\n",
      "Try using .loc[row_indexer,col_indexer] = value instead\n",
      "\n",
      "See the caveats in the documentation: http://pandas.pydata.org/pandas-docs/stable/user_guide/indexing.html#returning-a-view-versus-a-copy\n",
      "  self.obj[key] = _infer_fill_value(value)\n"
     ]
    },
    {
     "name": "stdout",
     "output_type": "stream",
     "text": [
      "HI\n",
      "----------------------------------------------------------------------------------------------------\n",
      "Starting run at time 23:13:09\n",
      "Normalizing training and testing splits...\n",
      "Starting Classification training...\n",
      "Training time was: 43.65 seconds\n",
      "Testing time was: 0.84 seconds\n",
      "\n",
      "          Run ID        Date      Time                    Model Name Model Author Num Classes  Accuracy  Balanced Accuracy  AUC Score  Average Precision  F1 Score  Precision  Recall Samples In Train Samples In Test                                                                                      Model Description Column Predicted Num Features Used                                                                                       Data and Split Description Normalized Num Features Normalized Feature Extraction Was Untested Data Predicted\n",
      "0  Q69agapZpVqPk  2019-07-28  23:13:09  random_forest_classification  Hamed        2           0.973     0.972              0.995      0.995              0.976     0.973      0.98    166786           41697           Random Forest: n_estimators=361, max_features=auto, criterion=entropy, min_samples_leaf=13, n_jobs=-1  class_label      12                {'experiment_id': 'r1dd37mcxv5pf4', 'random_state': 3, 'live_volume': 0.0, 'dead_volume': 370.0, 'stain': None}  True       12                      False              False                     \n",
      "\n",
      "Run finished at 23:13:55. Total run time = 46.44 seconds\n",
      "^^^^^^^^^^^^^^^^^^^^^^^^^^^^^^^^^^^^^^^^^^^^^^^^^^^^^^^^^^^^^^^^^^^^^^^^^^^^^^^^^^^^^^^^^^^^^^^^^^^^\n",
      "\n",
      "\n",
      "\n",
      "\n",
      "HI\n",
      "{'experiment_id': 'r1dd37mcxv5pf4', 'random_state': 3, 'live_volume': 0.0, 'dead_volume': 250.0, 'stain': 'SYTOX Red Stain'}\n",
      "data_columns: ['Container Type', 'Control', 'Culture_Volume', 'Media', 'Replicate', 'Storage (C)', 'Strain', 'checksum', 'filename', 'kill', 'kill_volume', 'plate_id', 'source', 'stain', 'well', 'experiment_id', 'Time', 'FSC-A', 'SSC-A', 'BL1-A', 'RL1-A', 'FSC-H', 'SSC-H', 'BL1-H', 'RL1-H', 'FSC-W', 'SSC-W', 'BL1-W', 'RL1-W']\n"
     ]
    },
    {
     "name": "stderr",
     "output_type": "stream",
     "text": [
      "/Users/danbryce/Documents/sift/xplan/external/xplan/xplan-to-autoprotocol-reactor/xplan-dev-env/xplan-dev-env/lib/python3.7/site-packages/pandas/core/indexing.py:480: SettingWithCopyWarning: \n",
      "A value is trying to be set on a copy of a slice from a DataFrame.\n",
      "Try using .loc[row_indexer,col_indexer] = value instead\n",
      "\n",
      "See the caveats in the documentation: http://pandas.pydata.org/pandas-docs/stable/user_guide/indexing.html#returning-a-view-versus-a-copy\n",
      "  self.obj[item] = s\n"
     ]
    },
    {
     "name": "stdout",
     "output_type": "stream",
     "text": [
      "['FSC-A', 'SSC-A', 'BL1-A', 'RL1-A', 'FSC-H', 'SSC-H', 'BL1-H', 'RL1-H', 'FSC-W', 'SSC-W', 'BL1-W', 'RL1-W']\n",
      "\n",
      "<harness.test_harness_class.TestHarness object at 0x17b5dfe48>\n"
     ]
    },
    {
     "name": "stderr",
     "output_type": "stream",
     "text": [
      "/Users/danbryce/Documents/sift/xplan/external/xplan/xplan-to-autoprotocol-reactor/xplan-dev-env/xplan-dev-env/lib/python3.7/site-packages/pandas/core/indexing.py:362: SettingWithCopyWarning: \n",
      "A value is trying to be set on a copy of a slice from a DataFrame.\n",
      "Try using .loc[row_indexer,col_indexer] = value instead\n",
      "\n",
      "See the caveats in the documentation: http://pandas.pydata.org/pandas-docs/stable/user_guide/indexing.html#returning-a-view-versus-a-copy\n",
      "  self.obj[key] = _infer_fill_value(value)\n"
     ]
    },
    {
     "name": "stdout",
     "output_type": "stream",
     "text": [
      "HI\n",
      "----------------------------------------------------------------------------------------------------\n",
      "Starting run at time 23:14:00\n",
      "Normalizing training and testing splits...\n",
      "Starting Classification training...\n",
      "Training time was: 31.00 seconds\n",
      "Testing time was: 0.65 seconds\n",
      "\n",
      "          Run ID        Date      Time                    Model Name Model Author Num Classes  Accuracy  Balanced Accuracy  AUC Score  Average Precision  F1 Score  Precision  Recall Samples In Train Samples In Test                                                                                      Model Description Column Predicted Num Features Used                                                                                                    Data and Split Description Normalized Num Features Normalized Feature Extraction Was Untested Data Predicted\n",
      "0  6dWx3wL2xlelG  2019-07-28  23:14:00  random_forest_classification  Hamed        2           0.996     0.997              1.0        1.0                0.997     1.0        0.995   147452           36864           Random Forest: n_estimators=361, max_features=auto, criterion=entropy, min_samples_leaf=13, n_jobs=-1  class_label      12                {'experiment_id': 'r1dd37mcxv5pf4', 'random_state': 3, 'live_volume': 0.0, 'dead_volume': 250.0, 'stain': 'SYTOX Red Stain'}  True       12                      False              False                     \n",
      "\n",
      "Run finished at 23:14:33. Total run time = 33.04 seconds\n",
      "^^^^^^^^^^^^^^^^^^^^^^^^^^^^^^^^^^^^^^^^^^^^^^^^^^^^^^^^^^^^^^^^^^^^^^^^^^^^^^^^^^^^^^^^^^^^^^^^^^^^\n",
      "\n",
      "\n",
      "\n",
      "\n",
      "HI\n",
      "{'experiment_id': 'r1dd37mcxv5pf4', 'random_state': 3, 'live_volume': 0.0, 'dead_volume': 250.0, 'stain': None}\n",
      "data_columns: ['Container Type', 'Control', 'Culture_Volume', 'Media', 'Replicate', 'Storage (C)', 'Strain', 'checksum', 'filename', 'kill', 'kill_volume', 'plate_id', 'source', 'stain', 'well', 'experiment_id', 'Time', 'FSC-A', 'SSC-A', 'BL1-A', 'RL1-A', 'FSC-H', 'SSC-H', 'BL1-H', 'RL1-H', 'FSC-W', 'SSC-W', 'BL1-W', 'RL1-W']\n"
     ]
    },
    {
     "name": "stderr",
     "output_type": "stream",
     "text": [
      "/Users/danbryce/Documents/sift/xplan/external/xplan/xplan-to-autoprotocol-reactor/xplan-dev-env/xplan-dev-env/lib/python3.7/site-packages/pandas/core/indexing.py:480: SettingWithCopyWarning: \n",
      "A value is trying to be set on a copy of a slice from a DataFrame.\n",
      "Try using .loc[row_indexer,col_indexer] = value instead\n",
      "\n",
      "See the caveats in the documentation: http://pandas.pydata.org/pandas-docs/stable/user_guide/indexing.html#returning-a-view-versus-a-copy\n",
      "  self.obj[item] = s\n"
     ]
    },
    {
     "name": "stdout",
     "output_type": "stream",
     "text": [
      "['FSC-A', 'SSC-A', 'BL1-A', 'RL1-A', 'FSC-H', 'SSC-H', 'BL1-H', 'RL1-H', 'FSC-W', 'SSC-W', 'BL1-W', 'RL1-W']\n",
      "\n",
      "<harness.test_harness_class.TestHarness object at 0x13d972cc0>\n"
     ]
    },
    {
     "name": "stderr",
     "output_type": "stream",
     "text": [
      "/Users/danbryce/Documents/sift/xplan/external/xplan/xplan-to-autoprotocol-reactor/xplan-dev-env/xplan-dev-env/lib/python3.7/site-packages/pandas/core/indexing.py:362: SettingWithCopyWarning: \n",
      "A value is trying to be set on a copy of a slice from a DataFrame.\n",
      "Try using .loc[row_indexer,col_indexer] = value instead\n",
      "\n",
      "See the caveats in the documentation: http://pandas.pydata.org/pandas-docs/stable/user_guide/indexing.html#returning-a-view-versus-a-copy\n",
      "  self.obj[key] = _infer_fill_value(value)\n"
     ]
    },
    {
     "name": "stdout",
     "output_type": "stream",
     "text": [
      "HI\n",
      "----------------------------------------------------------------------------------------------------\n",
      "Starting run at time 23:14:39\n",
      "Normalizing training and testing splits...\n",
      "Starting Classification training...\n",
      "Training time was: 38.64 seconds\n",
      "Testing time was: 0.84 seconds\n",
      "\n",
      "         Run ID        Date      Time                    Model Name Model Author Num Classes  Accuracy  Balanced Accuracy  AUC Score  Average Precision  F1 Score  Precision  Recall Samples In Train Samples In Test                                                                                      Model Description Column Predicted Num Features Used                                                                                       Data and Split Description Normalized Num Features Normalized Feature Extraction Was Untested Data Predicted\n",
      "0  6WpleXWNmRoq  2019-07-28  23:14:39  random_forest_classification  Hamed        2           0.962     0.957              0.99       0.994              0.971     0.973      0.97    142361           35591           Random Forest: n_estimators=361, max_features=auto, criterion=entropy, min_samples_leaf=13, n_jobs=-1  class_label      12                {'experiment_id': 'r1dd37mcxv5pf4', 'random_state': 3, 'live_volume': 0.0, 'dead_volume': 250.0, 'stain': None}  True       12                      False              False                     \n",
      "\n",
      "Run finished at 23:15:20. Total run time = 41.03 seconds\n",
      "^^^^^^^^^^^^^^^^^^^^^^^^^^^^^^^^^^^^^^^^^^^^^^^^^^^^^^^^^^^^^^^^^^^^^^^^^^^^^^^^^^^^^^^^^^^^^^^^^^^^\n",
      "\n",
      "\n",
      "\n",
      "\n",
      "HI\n",
      "{'experiment_id': 'r1dd37mcxv5pf4', 'random_state': 3, 'live_volume': 0.0, 'dead_volume': 170.0, 'stain': 'SYTOX Red Stain'}\n",
      "data_columns: ['Container Type', 'Control', 'Culture_Volume', 'Media', 'Replicate', 'Storage (C)', 'Strain', 'checksum', 'filename', 'kill', 'kill_volume', 'plate_id', 'source', 'stain', 'well', 'experiment_id', 'Time', 'FSC-A', 'SSC-A', 'BL1-A', 'RL1-A', 'FSC-H', 'SSC-H', 'BL1-H', 'RL1-H', 'FSC-W', 'SSC-W', 'BL1-W', 'RL1-W']\n"
     ]
    },
    {
     "name": "stderr",
     "output_type": "stream",
     "text": [
      "/Users/danbryce/Documents/sift/xplan/external/xplan/xplan-to-autoprotocol-reactor/xplan-dev-env/xplan-dev-env/lib/python3.7/site-packages/pandas/core/indexing.py:480: SettingWithCopyWarning: \n",
      "A value is trying to be set on a copy of a slice from a DataFrame.\n",
      "Try using .loc[row_indexer,col_indexer] = value instead\n",
      "\n",
      "See the caveats in the documentation: http://pandas.pydata.org/pandas-docs/stable/user_guide/indexing.html#returning-a-view-versus-a-copy\n",
      "  self.obj[item] = s\n"
     ]
    },
    {
     "name": "stdout",
     "output_type": "stream",
     "text": [
      "['FSC-A', 'SSC-A', 'BL1-A', 'RL1-A', 'FSC-H', 'SSC-H', 'BL1-H', 'RL1-H', 'FSC-W', 'SSC-W', 'BL1-W', 'RL1-W']\n",
      "\n",
      "<harness.test_harness_class.TestHarness object at 0x32e4a9710>\n"
     ]
    },
    {
     "name": "stderr",
     "output_type": "stream",
     "text": [
      "/Users/danbryce/Documents/sift/xplan/external/xplan/xplan-to-autoprotocol-reactor/xplan-dev-env/xplan-dev-env/lib/python3.7/site-packages/pandas/core/indexing.py:362: SettingWithCopyWarning: \n",
      "A value is trying to be set on a copy of a slice from a DataFrame.\n",
      "Try using .loc[row_indexer,col_indexer] = value instead\n",
      "\n",
      "See the caveats in the documentation: http://pandas.pydata.org/pandas-docs/stable/user_guide/indexing.html#returning-a-view-versus-a-copy\n",
      "  self.obj[key] = _infer_fill_value(value)\n"
     ]
    },
    {
     "name": "stdout",
     "output_type": "stream",
     "text": [
      "HI\n",
      "----------------------------------------------------------------------------------------------------\n",
      "Starting run at time 23:15:26\n",
      "Normalizing training and testing splits...\n",
      "Starting Classification training...\n",
      "Training time was: 47.49 seconds\n",
      "Testing time was: 0.99 seconds\n",
      "\n",
      "          Run ID        Date      Time                    Model Name Model Author Num Classes  Accuracy  Balanced Accuracy  AUC Score  Average Precision  F1 Score  Precision  Recall Samples In Train Samples In Test                                                                                      Model Description Column Predicted Num Features Used                                                                                                    Data and Split Description Normalized Num Features Normalized Feature Extraction Was Untested Data Predicted\n",
      "0  6W53bXkN6vOlO  2019-07-28  23:15:26  random_forest_classification  Hamed        2           0.997     0.997              0.999      0.999              0.997     0.999      0.995   192000           48000           Random Forest: n_estimators=361, max_features=auto, criterion=entropy, min_samples_leaf=13, n_jobs=-1  class_label      12                {'experiment_id': 'r1dd37mcxv5pf4', 'random_state': 3, 'live_volume': 0.0, 'dead_volume': 170.0, 'stain': 'SYTOX Red Stain'}  True       12                      False              False                     \n",
      "\n",
      "Run finished at 23:16:17. Total run time = 50.31 seconds\n",
      "^^^^^^^^^^^^^^^^^^^^^^^^^^^^^^^^^^^^^^^^^^^^^^^^^^^^^^^^^^^^^^^^^^^^^^^^^^^^^^^^^^^^^^^^^^^^^^^^^^^^\n",
      "\n",
      "\n",
      "\n",
      "\n",
      "HI\n",
      "{'experiment_id': 'r1dd37mcxv5pf4', 'random_state': 3, 'live_volume': 0.0, 'dead_volume': 170.0, 'stain': None}\n",
      "data_columns: ['Container Type', 'Control', 'Culture_Volume', 'Media', 'Replicate', 'Storage (C)', 'Strain', 'checksum', 'filename', 'kill', 'kill_volume', 'plate_id', 'source', 'stain', 'well', 'experiment_id', 'Time', 'FSC-A', 'SSC-A', 'BL1-A', 'RL1-A', 'FSC-H', 'SSC-H', 'BL1-H', 'RL1-H', 'FSC-W', 'SSC-W', 'BL1-W', 'RL1-W']\n"
     ]
    },
    {
     "name": "stderr",
     "output_type": "stream",
     "text": [
      "/Users/danbryce/Documents/sift/xplan/external/xplan/xplan-to-autoprotocol-reactor/xplan-dev-env/xplan-dev-env/lib/python3.7/site-packages/pandas/core/indexing.py:480: SettingWithCopyWarning: \n",
      "A value is trying to be set on a copy of a slice from a DataFrame.\n",
      "Try using .loc[row_indexer,col_indexer] = value instead\n",
      "\n",
      "See the caveats in the documentation: http://pandas.pydata.org/pandas-docs/stable/user_guide/indexing.html#returning-a-view-versus-a-copy\n",
      "  self.obj[item] = s\n"
     ]
    },
    {
     "name": "stdout",
     "output_type": "stream",
     "text": [
      "['FSC-A', 'SSC-A', 'BL1-A', 'RL1-A', 'FSC-H', 'SSC-H', 'BL1-H', 'RL1-H', 'FSC-W', 'SSC-W', 'BL1-W', 'RL1-W']\n",
      "\n",
      "<harness.test_harness_class.TestHarness object at 0x1b1a33a58>\n"
     ]
    },
    {
     "name": "stderr",
     "output_type": "stream",
     "text": [
      "/Users/danbryce/Documents/sift/xplan/external/xplan/xplan-to-autoprotocol-reactor/xplan-dev-env/xplan-dev-env/lib/python3.7/site-packages/pandas/core/indexing.py:362: SettingWithCopyWarning: \n",
      "A value is trying to be set on a copy of a slice from a DataFrame.\n",
      "Try using .loc[row_indexer,col_indexer] = value instead\n",
      "\n",
      "See the caveats in the documentation: http://pandas.pydata.org/pandas-docs/stable/user_guide/indexing.html#returning-a-view-versus-a-copy\n",
      "  self.obj[key] = _infer_fill_value(value)\n"
     ]
    },
    {
     "name": "stdout",
     "output_type": "stream",
     "text": [
      "HI\n",
      "----------------------------------------------------------------------------------------------------\n",
      "Starting run at time 23:16:23\n",
      "Normalizing training and testing splits...\n",
      "Starting Classification training...\n",
      "Training time was: 50.99 seconds\n",
      "Testing time was: 1.26 seconds\n",
      "\n",
      "          Run ID        Date      Time                    Model Name Model Author Num Classes  Accuracy  Balanced Accuracy  AUC Score  Average Precision  F1 Score  Precision  Recall Samples In Train Samples In Test                                                                                      Model Description Column Predicted Num Features Used                                                                                       Data and Split Description Normalized Num Features Normalized Feature Extraction Was Untested Data Predicted\n",
      "0  66M2JPDkdqroN  2019-07-28  23:16:23  random_forest_classification  Hamed        2           0.92      0.92               0.974      0.972              0.921     0.911      0.93    192000           48000           Random Forest: n_estimators=361, max_features=auto, criterion=entropy, min_samples_leaf=13, n_jobs=-1  class_label      12                {'experiment_id': 'r1dd37mcxv5pf4', 'random_state': 3, 'live_volume': 0.0, 'dead_volume': 170.0, 'stain': None}  True       12                      False              False                     \n",
      "\n",
      "Run finished at 23:17:17. Total run time = 54.07 seconds\n",
      "^^^^^^^^^^^^^^^^^^^^^^^^^^^^^^^^^^^^^^^^^^^^^^^^^^^^^^^^^^^^^^^^^^^^^^^^^^^^^^^^^^^^^^^^^^^^^^^^^^^^\n",
      "\n",
      "\n",
      "\n",
      "\n",
      "HI\n",
      "{'experiment_id': 'r1dd37mcxv5pf4', 'random_state': 3, 'live_volume': 0.0, 'dead_volume': 105.0, 'stain': 'SYTOX Red Stain'}\n",
      "data_columns: ['Container Type', 'Control', 'Culture_Volume', 'Media', 'Replicate', 'Storage (C)', 'Strain', 'checksum', 'filename', 'kill', 'kill_volume', 'plate_id', 'source', 'stain', 'well', 'experiment_id', 'Time', 'FSC-A', 'SSC-A', 'BL1-A', 'RL1-A', 'FSC-H', 'SSC-H', 'BL1-H', 'RL1-H', 'FSC-W', 'SSC-W', 'BL1-W', 'RL1-W']\n"
     ]
    },
    {
     "name": "stderr",
     "output_type": "stream",
     "text": [
      "/Users/danbryce/Documents/sift/xplan/external/xplan/xplan-to-autoprotocol-reactor/xplan-dev-env/xplan-dev-env/lib/python3.7/site-packages/pandas/core/indexing.py:480: SettingWithCopyWarning: \n",
      "A value is trying to be set on a copy of a slice from a DataFrame.\n",
      "Try using .loc[row_indexer,col_indexer] = value instead\n",
      "\n",
      "See the caveats in the documentation: http://pandas.pydata.org/pandas-docs/stable/user_guide/indexing.html#returning-a-view-versus-a-copy\n",
      "  self.obj[item] = s\n"
     ]
    },
    {
     "name": "stdout",
     "output_type": "stream",
     "text": [
      "['FSC-A', 'SSC-A', 'BL1-A', 'RL1-A', 'FSC-H', 'SSC-H', 'BL1-H', 'RL1-H', 'FSC-W', 'SSC-W', 'BL1-W', 'RL1-W']\n",
      "\n",
      "<harness.test_harness_class.TestHarness object at 0x19d7edf28>\n"
     ]
    },
    {
     "name": "stderr",
     "output_type": "stream",
     "text": [
      "/Users/danbryce/Documents/sift/xplan/external/xplan/xplan-to-autoprotocol-reactor/xplan-dev-env/xplan-dev-env/lib/python3.7/site-packages/pandas/core/indexing.py:362: SettingWithCopyWarning: \n",
      "A value is trying to be set on a copy of a slice from a DataFrame.\n",
      "Try using .loc[row_indexer,col_indexer] = value instead\n",
      "\n",
      "See the caveats in the documentation: http://pandas.pydata.org/pandas-docs/stable/user_guide/indexing.html#returning-a-view-versus-a-copy\n",
      "  self.obj[key] = _infer_fill_value(value)\n"
     ]
    },
    {
     "name": "stdout",
     "output_type": "stream",
     "text": [
      "HI\n",
      "----------------------------------------------------------------------------------------------------\n",
      "Starting run at time 23:17:24\n",
      "Normalizing training and testing splits...\n",
      "Starting Classification training...\n",
      "Training time was: 39.44 seconds\n",
      "Testing time was: 0.75 seconds\n",
      "\n",
      "          Run ID        Date      Time                    Model Name Model Author Num Classes  Accuracy  Balanced Accuracy  AUC Score  Average Precision  F1 Score  Precision  Recall Samples In Train Samples In Test                                                                                      Model Description Column Predicted Num Features Used                                                                                                    Data and Split Description Normalized Num Features Normalized Feature Extraction Was Untested Data Predicted\n",
      "0  Q7dXjl7AP6jrk  2019-07-28  23:17:24  random_forest_classification  Hamed        2           0.997     0.997              0.999      0.999              0.997     0.999      0.996   192000           48000           Random Forest: n_estimators=361, max_features=auto, criterion=entropy, min_samples_leaf=13, n_jobs=-1  class_label      12                {'experiment_id': 'r1dd37mcxv5pf4', 'random_state': 3, 'live_volume': 0.0, 'dead_volume': 105.0, 'stain': 'SYTOX Red Stain'}  True       12                      False              False                     \n",
      "\n",
      "Run finished at 23:18:06. Total run time = 42.06 seconds\n",
      "^^^^^^^^^^^^^^^^^^^^^^^^^^^^^^^^^^^^^^^^^^^^^^^^^^^^^^^^^^^^^^^^^^^^^^^^^^^^^^^^^^^^^^^^^^^^^^^^^^^^\n",
      "\n",
      "\n",
      "\n",
      "\n",
      "HI\n",
      "{'experiment_id': 'r1dd37mcxv5pf4', 'random_state': 3, 'live_volume': 0.0, 'dead_volume': 105.0, 'stain': None}\n",
      "data_columns: ['Container Type', 'Control', 'Culture_Volume', 'Media', 'Replicate', 'Storage (C)', 'Strain', 'checksum', 'filename', 'kill', 'kill_volume', 'plate_id', 'source', 'stain', 'well', 'experiment_id', 'Time', 'FSC-A', 'SSC-A', 'BL1-A', 'RL1-A', 'FSC-H', 'SSC-H', 'BL1-H', 'RL1-H', 'FSC-W', 'SSC-W', 'BL1-W', 'RL1-W']\n"
     ]
    },
    {
     "name": "stderr",
     "output_type": "stream",
     "text": [
      "/Users/danbryce/Documents/sift/xplan/external/xplan/xplan-to-autoprotocol-reactor/xplan-dev-env/xplan-dev-env/lib/python3.7/site-packages/pandas/core/indexing.py:480: SettingWithCopyWarning: \n",
      "A value is trying to be set on a copy of a slice from a DataFrame.\n",
      "Try using .loc[row_indexer,col_indexer] = value instead\n",
      "\n",
      "See the caveats in the documentation: http://pandas.pydata.org/pandas-docs/stable/user_guide/indexing.html#returning-a-view-versus-a-copy\n",
      "  self.obj[item] = s\n"
     ]
    },
    {
     "name": "stdout",
     "output_type": "stream",
     "text": [
      "['FSC-A', 'SSC-A', 'BL1-A', 'RL1-A', 'FSC-H', 'SSC-H', 'BL1-H', 'RL1-H', 'FSC-W', 'SSC-W', 'BL1-W', 'RL1-W']\n"
     ]
    },
    {
     "name": "stderr",
     "output_type": "stream",
     "text": [
      "/Users/danbryce/Documents/sift/xplan/external/xplan/xplan-to-autoprotocol-reactor/xplan-dev-env/xplan-dev-env/lib/python3.7/site-packages/pandas/core/indexing.py:362: SettingWithCopyWarning: \n",
      "A value is trying to be set on a copy of a slice from a DataFrame.\n",
      "Try using .loc[row_indexer,col_indexer] = value instead\n",
      "\n",
      "See the caveats in the documentation: http://pandas.pydata.org/pandas-docs/stable/user_guide/indexing.html#returning-a-view-versus-a-copy\n",
      "  self.obj[key] = _infer_fill_value(value)\n"
     ]
    },
    {
     "name": "stdout",
     "output_type": "stream",
     "text": [
      "\n",
      "<harness.test_harness_class.TestHarness object at 0x1591b3898>\n",
      "HI\n",
      "----------------------------------------------------------------------------------------------------\n",
      "Starting run at time 23:18:13\n",
      "Normalizing training and testing splits...\n",
      "Starting Classification training...\n",
      "Training time was: 48.62 seconds\n",
      "Testing time was: 1.68 seconds\n",
      "\n",
      "          Run ID        Date      Time                    Model Name Model Author Num Classes  Accuracy  Balanced Accuracy  AUC Score  Average Precision  F1 Score  Precision  Recall Samples In Train Samples In Test                                                                                      Model Description Column Predicted Num Features Used                                                                                       Data and Split Description Normalized Num Features Normalized Feature Extraction Was Untested Data Predicted\n",
      "0  5pg8Z3pRMV6a8  2019-07-28  23:18:13  random_forest_classification  Hamed        2           0.938     0.938              0.984      0.982              0.939     0.928      0.95    192000           48000           Random Forest: n_estimators=361, max_features=auto, criterion=entropy, min_samples_leaf=13, n_jobs=-1  class_label      12                {'experiment_id': 'r1dd37mcxv5pf4', 'random_state': 3, 'live_volume': 0.0, 'dead_volume': 105.0, 'stain': None}  True       12                      False              False                     \n",
      "\n",
      "Run finished at 23:19:05. Total run time = 52.14 seconds\n",
      "^^^^^^^^^^^^^^^^^^^^^^^^^^^^^^^^^^^^^^^^^^^^^^^^^^^^^^^^^^^^^^^^^^^^^^^^^^^^^^^^^^^^^^^^^^^^^^^^^^^^\n",
      "\n",
      "\n",
      "\n",
      "\n",
      "HI\n",
      "{'experiment_id': 'r1dd37mcxv5pf4', 'random_state': 3, 'live_volume': 0.0, 'dead_volume': 64.0, 'stain': 'SYTOX Red Stain'}\n",
      "data_columns: ['Container Type', 'Control', 'Culture_Volume', 'Media', 'Replicate', 'Storage (C)', 'Strain', 'checksum', 'filename', 'kill', 'kill_volume', 'plate_id', 'source', 'stain', 'well', 'experiment_id', 'Time', 'FSC-A', 'SSC-A', 'BL1-A', 'RL1-A', 'FSC-H', 'SSC-H', 'BL1-H', 'RL1-H', 'FSC-W', 'SSC-W', 'BL1-W', 'RL1-W']\n"
     ]
    },
    {
     "name": "stderr",
     "output_type": "stream",
     "text": [
      "/Users/danbryce/Documents/sift/xplan/external/xplan/xplan-to-autoprotocol-reactor/xplan-dev-env/xplan-dev-env/lib/python3.7/site-packages/pandas/core/indexing.py:480: SettingWithCopyWarning: \n",
      "A value is trying to be set on a copy of a slice from a DataFrame.\n",
      "Try using .loc[row_indexer,col_indexer] = value instead\n",
      "\n",
      "See the caveats in the documentation: http://pandas.pydata.org/pandas-docs/stable/user_guide/indexing.html#returning-a-view-versus-a-copy\n",
      "  self.obj[item] = s\n"
     ]
    },
    {
     "name": "stdout",
     "output_type": "stream",
     "text": [
      "['FSC-A', 'SSC-A', 'BL1-A', 'RL1-A', 'FSC-H', 'SSC-H', 'BL1-H', 'RL1-H', 'FSC-W', 'SSC-W', 'BL1-W', 'RL1-W']\n",
      "\n",
      "<harness.test_harness_class.TestHarness object at 0x1bed13f60>\n"
     ]
    },
    {
     "name": "stderr",
     "output_type": "stream",
     "text": [
      "/Users/danbryce/Documents/sift/xplan/external/xplan/xplan-to-autoprotocol-reactor/xplan-dev-env/xplan-dev-env/lib/python3.7/site-packages/pandas/core/indexing.py:362: SettingWithCopyWarning: \n",
      "A value is trying to be set on a copy of a slice from a DataFrame.\n",
      "Try using .loc[row_indexer,col_indexer] = value instead\n",
      "\n",
      "See the caveats in the documentation: http://pandas.pydata.org/pandas-docs/stable/user_guide/indexing.html#returning-a-view-versus-a-copy\n",
      "  self.obj[key] = _infer_fill_value(value)\n"
     ]
    },
    {
     "name": "stdout",
     "output_type": "stream",
     "text": [
      "HI\n",
      "----------------------------------------------------------------------------------------------------\n",
      "Starting run at time 23:19:11\n",
      "Normalizing training and testing splits...\n",
      "Starting Classification training...\n",
      "Training time was: 54.51 seconds\n",
      "Testing time was: 1.48 seconds\n",
      "\n",
      "          Run ID        Date      Time                    Model Name Model Author Num Classes  Accuracy  Balanced Accuracy  AUC Score  Average Precision  F1 Score  Precision  Recall Samples In Train Samples In Test                                                                                      Model Description Column Predicted Num Features Used                                                                                                   Data and Split Description Normalized Num Features Normalized Feature Extraction Was Untested Data Predicted\n",
      "0  EzbLWmWpojXOP  2019-07-28  23:19:11  random_forest_classification  Hamed        2           0.857     0.857              0.926      0.908              0.865     0.819      0.916   192000           48000           Random Forest: n_estimators=361, max_features=auto, criterion=entropy, min_samples_leaf=13, n_jobs=-1  class_label      12                {'experiment_id': 'r1dd37mcxv5pf4', 'random_state': 3, 'live_volume': 0.0, 'dead_volume': 64.0, 'stain': 'SYTOX Red Stain'}  True       12                      False              False                     \n",
      "\n",
      "Run finished at 23:20:09. Total run time = 57.88 seconds\n",
      "^^^^^^^^^^^^^^^^^^^^^^^^^^^^^^^^^^^^^^^^^^^^^^^^^^^^^^^^^^^^^^^^^^^^^^^^^^^^^^^^^^^^^^^^^^^^^^^^^^^^\n",
      "\n",
      "\n",
      "\n",
      "\n",
      "HI\n",
      "{'experiment_id': 'r1dd37mcxv5pf4', 'random_state': 3, 'live_volume': 0.0, 'dead_volume': 64.0, 'stain': None}\n",
      "data_columns: ['Container Type', 'Control', 'Culture_Volume', 'Media', 'Replicate', 'Storage (C)', 'Strain', 'checksum', 'filename', 'kill', 'kill_volume', 'plate_id', 'source', 'stain', 'well', 'experiment_id', 'Time', 'FSC-A', 'SSC-A', 'BL1-A', 'RL1-A', 'FSC-H', 'SSC-H', 'BL1-H', 'RL1-H', 'FSC-W', 'SSC-W', 'BL1-W', 'RL1-W']\n"
     ]
    },
    {
     "name": "stderr",
     "output_type": "stream",
     "text": [
      "/Users/danbryce/Documents/sift/xplan/external/xplan/xplan-to-autoprotocol-reactor/xplan-dev-env/xplan-dev-env/lib/python3.7/site-packages/pandas/core/indexing.py:480: SettingWithCopyWarning: \n",
      "A value is trying to be set on a copy of a slice from a DataFrame.\n",
      "Try using .loc[row_indexer,col_indexer] = value instead\n",
      "\n",
      "See the caveats in the documentation: http://pandas.pydata.org/pandas-docs/stable/user_guide/indexing.html#returning-a-view-versus-a-copy\n",
      "  self.obj[item] = s\n"
     ]
    },
    {
     "name": "stdout",
     "output_type": "stream",
     "text": [
      "['FSC-A', 'SSC-A', 'BL1-A', 'RL1-A', 'FSC-H', 'SSC-H', 'BL1-H', 'RL1-H', 'FSC-W', 'SSC-W', 'BL1-W', 'RL1-W']\n",
      "\n",
      "<harness.test_harness_class.TestHarness object at 0x2f499d588>\n"
     ]
    },
    {
     "name": "stderr",
     "output_type": "stream",
     "text": [
      "/Users/danbryce/Documents/sift/xplan/external/xplan/xplan-to-autoprotocol-reactor/xplan-dev-env/xplan-dev-env/lib/python3.7/site-packages/pandas/core/indexing.py:362: SettingWithCopyWarning: \n",
      "A value is trying to be set on a copy of a slice from a DataFrame.\n",
      "Try using .loc[row_indexer,col_indexer] = value instead\n",
      "\n",
      "See the caveats in the documentation: http://pandas.pydata.org/pandas-docs/stable/user_guide/indexing.html#returning-a-view-versus-a-copy\n",
      "  self.obj[key] = _infer_fill_value(value)\n"
     ]
    },
    {
     "name": "stdout",
     "output_type": "stream",
     "text": [
      "HI\n",
      "----------------------------------------------------------------------------------------------------\n",
      "Starting run at time 23:20:16\n",
      "Normalizing training and testing splits...\n",
      "Starting Classification training...\n",
      "Training time was: 49.56 seconds\n",
      "Testing time was: 1.89 seconds\n",
      "\n",
      "          Run ID        Date      Time                    Model Name Model Author Num Classes  Accuracy  Balanced Accuracy  AUC Score  Average Precision  F1 Score  Precision  Recall Samples In Train Samples In Test                                                                                      Model Description Column Predicted Num Features Used                                                                                      Data and Split Description Normalized Num Features Normalized Feature Extraction Was Untested Data Predicted\n",
      "0  6bgoYN9Vl2ejw  2019-07-28  23:20:16  random_forest_classification  Hamed        2           0.794     0.794              0.874      0.858              0.804     0.764      0.849   192000           48000           Random Forest: n_estimators=361, max_features=auto, criterion=entropy, min_samples_leaf=13, n_jobs=-1  class_label      12                {'experiment_id': 'r1dd37mcxv5pf4', 'random_state': 3, 'live_volume': 0.0, 'dead_volume': 64.0, 'stain': None}  True       12                      False              False                     \n",
      "\n",
      "Run finished at 23:21:09. Total run time = 53.30 seconds\n",
      "^^^^^^^^^^^^^^^^^^^^^^^^^^^^^^^^^^^^^^^^^^^^^^^^^^^^^^^^^^^^^^^^^^^^^^^^^^^^^^^^^^^^^^^^^^^^^^^^^^^^\n",
      "\n",
      "\n",
      "\n",
      "\n",
      "HI\n",
      "{'experiment_id': 'r1dd37mcxv5pf4', 'random_state': 3, 'live_volume': 0.0, 'dead_volume': 29, 'stain': 'SYTOX Red Stain'}\n",
      "data_columns: ['Container Type', 'Control', 'Culture_Volume', 'Media', 'Replicate', 'Storage (C)', 'Strain', 'checksum', 'filename', 'kill', 'kill_volume', 'plate_id', 'source', 'stain', 'well', 'experiment_id', 'Time', 'FSC-A', 'SSC-A', 'BL1-A', 'RL1-A', 'FSC-H', 'SSC-H', 'BL1-H', 'RL1-H', 'FSC-W', 'SSC-W', 'BL1-W', 'RL1-W']\n"
     ]
    },
    {
     "name": "stderr",
     "output_type": "stream",
     "text": [
      "/Users/danbryce/Documents/sift/xplan/external/xplan/xplan-to-autoprotocol-reactor/xplan-dev-env/xplan-dev-env/lib/python3.7/site-packages/pandas/core/indexing.py:480: SettingWithCopyWarning: \n",
      "A value is trying to be set on a copy of a slice from a DataFrame.\n",
      "Try using .loc[row_indexer,col_indexer] = value instead\n",
      "\n",
      "See the caveats in the documentation: http://pandas.pydata.org/pandas-docs/stable/user_guide/indexing.html#returning-a-view-versus-a-copy\n",
      "  self.obj[item] = s\n"
     ]
    },
    {
     "name": "stdout",
     "output_type": "stream",
     "text": [
      "['FSC-A', 'SSC-A', 'BL1-A', 'RL1-A', 'FSC-H', 'SSC-H', 'BL1-H', 'RL1-H', 'FSC-W', 'SSC-W', 'BL1-W', 'RL1-W']\n",
      "\n",
      "<harness.test_harness_class.TestHarness object at 0x1ba4bfba8>\n"
     ]
    },
    {
     "name": "stderr",
     "output_type": "stream",
     "text": [
      "/Users/danbryce/Documents/sift/xplan/external/xplan/xplan-to-autoprotocol-reactor/xplan-dev-env/xplan-dev-env/lib/python3.7/site-packages/pandas/core/indexing.py:362: SettingWithCopyWarning: \n",
      "A value is trying to be set on a copy of a slice from a DataFrame.\n",
      "Try using .loc[row_indexer,col_indexer] = value instead\n",
      "\n",
      "See the caveats in the documentation: http://pandas.pydata.org/pandas-docs/stable/user_guide/indexing.html#returning-a-view-versus-a-copy\n",
      "  self.obj[key] = _infer_fill_value(value)\n"
     ]
    },
    {
     "name": "stdout",
     "output_type": "stream",
     "text": [
      "HI\n",
      "----------------------------------------------------------------------------------------------------\n",
      "Starting run at time 23:21:15\n",
      "Normalizing training and testing splits...\n",
      "Starting Classification training...\n",
      "Training time was: 65.87 seconds\n",
      "Testing time was: 1.77 seconds\n",
      "\n",
      "          Run ID        Date      Time                    Model Name Model Author Num Classes  Accuracy  Balanced Accuracy  AUC Score  Average Precision  F1 Score  Precision  Recall Samples In Train Samples In Test                                                                                      Model Description Column Predicted Num Features Used                                                                                                 Data and Split Description Normalized Num Features Normalized Feature Extraction Was Untested Data Predicted\n",
      "0  Ep6qyyDvpXpZ8  2019-07-28  23:21:15  random_forest_classification  Hamed        2           0.65      0.65               0.71       0.677              0.674     0.63       0.725   192000           48000           Random Forest: n_estimators=361, max_features=auto, criterion=entropy, min_samples_leaf=13, n_jobs=-1  class_label      12                {'experiment_id': 'r1dd37mcxv5pf4', 'random_state': 3, 'live_volume': 0.0, 'dead_volume': 29, 'stain': 'SYTOX Red Stain'}  True       12                      False              False                     \n",
      "\n",
      "Run finished at 23:22:25. Total run time = 69.56 seconds\n",
      "^^^^^^^^^^^^^^^^^^^^^^^^^^^^^^^^^^^^^^^^^^^^^^^^^^^^^^^^^^^^^^^^^^^^^^^^^^^^^^^^^^^^^^^^^^^^^^^^^^^^\n",
      "\n",
      "\n",
      "\n",
      "\n",
      "HI\n",
      "{'experiment_id': 'r1dd37mcxv5pf4', 'random_state': 3, 'live_volume': 0.0, 'dead_volume': 29, 'stain': None}\n",
      "data_columns: ['Container Type', 'Control', 'Culture_Volume', 'Media', 'Replicate', 'Storage (C)', 'Strain', 'checksum', 'filename', 'kill', 'kill_volume', 'plate_id', 'source', 'stain', 'well', 'experiment_id', 'Time', 'FSC-A', 'SSC-A', 'BL1-A', 'RL1-A', 'FSC-H', 'SSC-H', 'BL1-H', 'RL1-H', 'FSC-W', 'SSC-W', 'BL1-W', 'RL1-W']\n"
     ]
    },
    {
     "name": "stderr",
     "output_type": "stream",
     "text": [
      "/Users/danbryce/Documents/sift/xplan/external/xplan/xplan-to-autoprotocol-reactor/xplan-dev-env/xplan-dev-env/lib/python3.7/site-packages/pandas/core/indexing.py:480: SettingWithCopyWarning: \n",
      "A value is trying to be set on a copy of a slice from a DataFrame.\n",
      "Try using .loc[row_indexer,col_indexer] = value instead\n",
      "\n",
      "See the caveats in the documentation: http://pandas.pydata.org/pandas-docs/stable/user_guide/indexing.html#returning-a-view-versus-a-copy\n",
      "  self.obj[item] = s\n"
     ]
    },
    {
     "name": "stdout",
     "output_type": "stream",
     "text": [
      "['FSC-A', 'SSC-A', 'BL1-A', 'RL1-A', 'FSC-H', 'SSC-H', 'BL1-H', 'RL1-H', 'FSC-W', 'SSC-W', 'BL1-W', 'RL1-W']\n",
      "\n",
      "<harness.test_harness_class.TestHarness object at 0x19d23bef0>\n"
     ]
    },
    {
     "name": "stderr",
     "output_type": "stream",
     "text": [
      "/Users/danbryce/Documents/sift/xplan/external/xplan/xplan-to-autoprotocol-reactor/xplan-dev-env/xplan-dev-env/lib/python3.7/site-packages/pandas/core/indexing.py:362: SettingWithCopyWarning: \n",
      "A value is trying to be set on a copy of a slice from a DataFrame.\n",
      "Try using .loc[row_indexer,col_indexer] = value instead\n",
      "\n",
      "See the caveats in the documentation: http://pandas.pydata.org/pandas-docs/stable/user_guide/indexing.html#returning-a-view-versus-a-copy\n",
      "  self.obj[key] = _infer_fill_value(value)\n"
     ]
    },
    {
     "name": "stdout",
     "output_type": "stream",
     "text": [
      "HI\n",
      "----------------------------------------------------------------------------------------------------\n",
      "Starting run at time 23:22:31\n",
      "Normalizing training and testing splits...\n",
      "Starting Classification training...\n",
      "Training time was: 54.80 seconds\n",
      "Testing time was: 1.57 seconds\n",
      "\n",
      "          Run ID        Date      Time                    Model Name Model Author Num Classes  Accuracy  Balanced Accuracy  AUC Score  Average Precision  F1 Score  Precision  Recall Samples In Train Samples In Test                                                                                      Model Description Column Predicted Num Features Used                                                                                    Data and Split Description Normalized Num Features Normalized Feature Extraction Was Untested Data Predicted\n",
      "0  QoNwakJdPk2ok  2019-07-28  23:22:31  random_forest_classification  Hamed        2           0.634     0.634              0.688      0.672              0.637     0.632      0.642   192000           48000           Random Forest: n_estimators=361, max_features=auto, criterion=entropy, min_samples_leaf=13, n_jobs=-1  class_label      12                {'experiment_id': 'r1dd37mcxv5pf4', 'random_state': 3, 'live_volume': 0.0, 'dead_volume': 29, 'stain': None}  True       12                      False              False                     \n",
      "\n",
      "Run finished at 23:23:29. Total run time = 58.17 seconds\n",
      "^^^^^^^^^^^^^^^^^^^^^^^^^^^^^^^^^^^^^^^^^^^^^^^^^^^^^^^^^^^^^^^^^^^^^^^^^^^^^^^^^^^^^^^^^^^^^^^^^^^^\n",
      "\n",
      "\n",
      "\n",
      "\n",
      "HI\n",
      "{'experiment_id': 'r1dd37mcxv5pf4', 'random_state': 4, 'live_volume': 0.0, 'dead_volume': 980.0, 'stain': 'SYTOX Red Stain'}\n",
      "data_columns: ['Container Type', 'Control', 'Culture_Volume', 'Media', 'Replicate', 'Storage (C)', 'Strain', 'checksum', 'filename', 'kill', 'kill_volume', 'plate_id', 'source', 'stain', 'well', 'experiment_id', 'Time', 'FSC-A', 'SSC-A', 'BL1-A', 'RL1-A', 'FSC-H', 'SSC-H', 'BL1-H', 'RL1-H', 'FSC-W', 'SSC-W', 'BL1-W', 'RL1-W']\n"
     ]
    },
    {
     "name": "stderr",
     "output_type": "stream",
     "text": [
      "/Users/danbryce/Documents/sift/xplan/external/xplan/xplan-to-autoprotocol-reactor/xplan-dev-env/xplan-dev-env/lib/python3.7/site-packages/pandas/core/indexing.py:480: SettingWithCopyWarning: \n",
      "A value is trying to be set on a copy of a slice from a DataFrame.\n",
      "Try using .loc[row_indexer,col_indexer] = value instead\n",
      "\n",
      "See the caveats in the documentation: http://pandas.pydata.org/pandas-docs/stable/user_guide/indexing.html#returning-a-view-versus-a-copy\n",
      "  self.obj[item] = s\n"
     ]
    },
    {
     "name": "stdout",
     "output_type": "stream",
     "text": [
      "['FSC-A', 'SSC-A', 'BL1-A', 'RL1-A', 'FSC-H', 'SSC-H', 'BL1-H', 'RL1-H', 'FSC-W', 'SSC-W', 'BL1-W', 'RL1-W']\n",
      "\n",
      "<harness.test_harness_class.TestHarness object at 0x1ba266a90>\n"
     ]
    },
    {
     "name": "stderr",
     "output_type": "stream",
     "text": [
      "/Users/danbryce/Documents/sift/xplan/external/xplan/xplan-to-autoprotocol-reactor/xplan-dev-env/xplan-dev-env/lib/python3.7/site-packages/pandas/core/indexing.py:362: SettingWithCopyWarning: \n",
      "A value is trying to be set on a copy of a slice from a DataFrame.\n",
      "Try using .loc[row_indexer,col_indexer] = value instead\n",
      "\n",
      "See the caveats in the documentation: http://pandas.pydata.org/pandas-docs/stable/user_guide/indexing.html#returning-a-view-versus-a-copy\n",
      "  self.obj[key] = _infer_fill_value(value)\n"
     ]
    },
    {
     "name": "stdout",
     "output_type": "stream",
     "text": [
      "HI\n",
      "----------------------------------------------------------------------------------------------------\n",
      "Starting run at time 23:23:36\n",
      "Normalizing training and testing splits...\n",
      "Starting Classification training...\n",
      "Training time was: 33.75 seconds\n",
      "Testing time was: 0.65 seconds\n",
      "\n",
      "          Run ID        Date      Time                    Model Name Model Author Num Classes  Accuracy  Balanced Accuracy  AUC Score  Average Precision  F1 Score  Precision  Recall Samples In Train Samples In Test                                                                                      Model Description Column Predicted Num Features Used                                                                                                    Data and Split Description Normalized Num Features Normalized Feature Extraction Was Untested Data Predicted\n",
      "0  Em36JaYo3PBqx  2019-07-28  23:23:36  random_forest_classification  Hamed        2           0.999     0.999              1.0        1.0                0.999     0.999      0.998   192000           48000           Random Forest: n_estimators=361, max_features=auto, criterion=entropy, min_samples_leaf=13, n_jobs=-1  class_label      12                {'experiment_id': 'r1dd37mcxv5pf4', 'random_state': 4, 'live_volume': 0.0, 'dead_volume': 980.0, 'stain': 'SYTOX Red Stain'}  True       12                      False              False                     \n",
      "\n",
      "Run finished at 23:24:12. Total run time = 36.13 seconds\n",
      "^^^^^^^^^^^^^^^^^^^^^^^^^^^^^^^^^^^^^^^^^^^^^^^^^^^^^^^^^^^^^^^^^^^^^^^^^^^^^^^^^^^^^^^^^^^^^^^^^^^^\n",
      "\n",
      "\n",
      "\n",
      "\n",
      "HI\n",
      "{'experiment_id': 'r1dd37mcxv5pf4', 'random_state': 4, 'live_volume': 0.0, 'dead_volume': 980.0, 'stain': None}\n",
      "data_columns: ['Container Type', 'Control', 'Culture_Volume', 'Media', 'Replicate', 'Storage (C)', 'Strain', 'checksum', 'filename', 'kill', 'kill_volume', 'plate_id', 'source', 'stain', 'well', 'experiment_id', 'Time', 'FSC-A', 'SSC-A', 'BL1-A', 'RL1-A', 'FSC-H', 'SSC-H', 'BL1-H', 'RL1-H', 'FSC-W', 'SSC-W', 'BL1-W', 'RL1-W']\n"
     ]
    },
    {
     "name": "stderr",
     "output_type": "stream",
     "text": [
      "/Users/danbryce/Documents/sift/xplan/external/xplan/xplan-to-autoprotocol-reactor/xplan-dev-env/xplan-dev-env/lib/python3.7/site-packages/pandas/core/indexing.py:480: SettingWithCopyWarning: \n",
      "A value is trying to be set on a copy of a slice from a DataFrame.\n",
      "Try using .loc[row_indexer,col_indexer] = value instead\n",
      "\n",
      "See the caveats in the documentation: http://pandas.pydata.org/pandas-docs/stable/user_guide/indexing.html#returning-a-view-versus-a-copy\n",
      "  self.obj[item] = s\n"
     ]
    },
    {
     "name": "stdout",
     "output_type": "stream",
     "text": [
      "['FSC-A', 'SSC-A', 'BL1-A', 'RL1-A', 'FSC-H', 'SSC-H', 'BL1-H', 'RL1-H', 'FSC-W', 'SSC-W', 'BL1-W', 'RL1-W']\n",
      "\n",
      "<harness.test_harness_class.TestHarness object at 0x172975f28>\n"
     ]
    },
    {
     "name": "stderr",
     "output_type": "stream",
     "text": [
      "/Users/danbryce/Documents/sift/xplan/external/xplan/xplan-to-autoprotocol-reactor/xplan-dev-env/xplan-dev-env/lib/python3.7/site-packages/pandas/core/indexing.py:362: SettingWithCopyWarning: \n",
      "A value is trying to be set on a copy of a slice from a DataFrame.\n",
      "Try using .loc[row_indexer,col_indexer] = value instead\n",
      "\n",
      "See the caveats in the documentation: http://pandas.pydata.org/pandas-docs/stable/user_guide/indexing.html#returning-a-view-versus-a-copy\n",
      "  self.obj[key] = _infer_fill_value(value)\n"
     ]
    },
    {
     "name": "stdout",
     "output_type": "stream",
     "text": [
      "HI\n",
      "----------------------------------------------------------------------------------------------------\n",
      "Starting run at time 23:24:18\n",
      "Normalizing training and testing splits...\n",
      "Starting Classification training...\n",
      "Training time was: 38.14 seconds\n",
      "Testing time was: 0.66 seconds\n",
      "\n",
      "          Run ID        Date      Time                    Model Name Model Author Num Classes  Accuracy  Balanced Accuracy  AUC Score  Average Precision  F1 Score  Precision  Recall Samples In Train Samples In Test                                                                                      Model Description Column Predicted Num Features Used                                                                                       Data and Split Description Normalized Num Features Normalized Feature Extraction Was Untested Data Predicted\n",
      "0  EMEJv3yE8gk7x  2019-07-28  23:24:18  random_forest_classification  Hamed        2           0.994     0.994              1.0        1.0                0.994     0.993      0.996   192000           48000           Random Forest: n_estimators=361, max_features=auto, criterion=entropy, min_samples_leaf=13, n_jobs=-1  class_label      12                {'experiment_id': 'r1dd37mcxv5pf4', 'random_state': 4, 'live_volume': 0.0, 'dead_volume': 980.0, 'stain': None}  True       12                      False              False                     \n",
      "\n",
      "Run finished at 23:24:58. Total run time = 40.53 seconds\n",
      "^^^^^^^^^^^^^^^^^^^^^^^^^^^^^^^^^^^^^^^^^^^^^^^^^^^^^^^^^^^^^^^^^^^^^^^^^^^^^^^^^^^^^^^^^^^^^^^^^^^^\n",
      "\n",
      "\n",
      "\n",
      "\n",
      "HI\n",
      "{'experiment_id': 'r1dd37mcxv5pf4', 'random_state': 4, 'live_volume': 0.0, 'dead_volume': 570.0, 'stain': 'SYTOX Red Stain'}\n",
      "data_columns: ['Container Type', 'Control', 'Culture_Volume', 'Media', 'Replicate', 'Storage (C)', 'Strain', 'checksum', 'filename', 'kill', 'kill_volume', 'plate_id', 'source', 'stain', 'well', 'experiment_id', 'Time', 'FSC-A', 'SSC-A', 'BL1-A', 'RL1-A', 'FSC-H', 'SSC-H', 'BL1-H', 'RL1-H', 'FSC-W', 'SSC-W', 'BL1-W', 'RL1-W']\n"
     ]
    },
    {
     "name": "stderr",
     "output_type": "stream",
     "text": [
      "/Users/danbryce/Documents/sift/xplan/external/xplan/xplan-to-autoprotocol-reactor/xplan-dev-env/xplan-dev-env/lib/python3.7/site-packages/pandas/core/indexing.py:480: SettingWithCopyWarning: \n",
      "A value is trying to be set on a copy of a slice from a DataFrame.\n",
      "Try using .loc[row_indexer,col_indexer] = value instead\n",
      "\n",
      "See the caveats in the documentation: http://pandas.pydata.org/pandas-docs/stable/user_guide/indexing.html#returning-a-view-versus-a-copy\n",
      "  self.obj[item] = s\n"
     ]
    },
    {
     "name": "stdout",
     "output_type": "stream",
     "text": [
      "['FSC-A', 'SSC-A', 'BL1-A', 'RL1-A', 'FSC-H', 'SSC-H', 'BL1-H', 'RL1-H', 'FSC-W', 'SSC-W', 'BL1-W', 'RL1-W']\n",
      "\n",
      "<harness.test_harness_class.TestHarness object at 0x19cf4cc18>\n"
     ]
    },
    {
     "name": "stderr",
     "output_type": "stream",
     "text": [
      "/Users/danbryce/Documents/sift/xplan/external/xplan/xplan-to-autoprotocol-reactor/xplan-dev-env/xplan-dev-env/lib/python3.7/site-packages/pandas/core/indexing.py:362: SettingWithCopyWarning: \n",
      "A value is trying to be set on a copy of a slice from a DataFrame.\n",
      "Try using .loc[row_indexer,col_indexer] = value instead\n",
      "\n",
      "See the caveats in the documentation: http://pandas.pydata.org/pandas-docs/stable/user_guide/indexing.html#returning-a-view-versus-a-copy\n",
      "  self.obj[key] = _infer_fill_value(value)\n"
     ]
    },
    {
     "name": "stdout",
     "output_type": "stream",
     "text": [
      "HI\n",
      "----------------------------------------------------------------------------------------------------\n",
      "Starting run at time 23:25:04\n",
      "Normalizing training and testing splits...\n",
      "Starting Classification training...\n",
      "Training time was: 34.94 seconds\n",
      "Testing time was: 0.65 seconds\n",
      "\n",
      "          Run ID        Date      Time                    Model Name Model Author Num Classes  Accuracy  Balanced Accuracy  AUC Score  Average Precision  F1 Score  Precision  Recall Samples In Train Samples In Test                                                                                      Model Description Column Predicted Num Features Used                                                                                                    Data and Split Description Normalized Num Features Normalized Feature Extraction Was Untested Data Predicted\n",
      "0  QRWEVEPypXNxe  2019-07-28  23:25:04  random_forest_classification  Hamed        2           0.997     0.997              1.0        1.0                0.997     0.999      0.995   192000           48000           Random Forest: n_estimators=361, max_features=auto, criterion=entropy, min_samples_leaf=13, n_jobs=-1  class_label      12                {'experiment_id': 'r1dd37mcxv5pf4', 'random_state': 4, 'live_volume': 0.0, 'dead_volume': 570.0, 'stain': 'SYTOX Red Stain'}  True       12                      False              False                     \n",
      "\n",
      "Run finished at 23:25:42. Total run time = 37.36 seconds\n",
      "^^^^^^^^^^^^^^^^^^^^^^^^^^^^^^^^^^^^^^^^^^^^^^^^^^^^^^^^^^^^^^^^^^^^^^^^^^^^^^^^^^^^^^^^^^^^^^^^^^^^\n",
      "\n",
      "\n",
      "\n",
      "\n",
      "HI\n",
      "{'experiment_id': 'r1dd37mcxv5pf4', 'random_state': 4, 'live_volume': 0.0, 'dead_volume': 570.0, 'stain': None}\n",
      "data_columns: ['Container Type', 'Control', 'Culture_Volume', 'Media', 'Replicate', 'Storage (C)', 'Strain', 'checksum', 'filename', 'kill', 'kill_volume', 'plate_id', 'source', 'stain', 'well', 'experiment_id', 'Time', 'FSC-A', 'SSC-A', 'BL1-A', 'RL1-A', 'FSC-H', 'SSC-H', 'BL1-H', 'RL1-H', 'FSC-W', 'SSC-W', 'BL1-W', 'RL1-W']\n"
     ]
    },
    {
     "name": "stderr",
     "output_type": "stream",
     "text": [
      "/Users/danbryce/Documents/sift/xplan/external/xplan/xplan-to-autoprotocol-reactor/xplan-dev-env/xplan-dev-env/lib/python3.7/site-packages/pandas/core/indexing.py:480: SettingWithCopyWarning: \n",
      "A value is trying to be set on a copy of a slice from a DataFrame.\n",
      "Try using .loc[row_indexer,col_indexer] = value instead\n",
      "\n",
      "See the caveats in the documentation: http://pandas.pydata.org/pandas-docs/stable/user_guide/indexing.html#returning-a-view-versus-a-copy\n",
      "  self.obj[item] = s\n"
     ]
    },
    {
     "name": "stdout",
     "output_type": "stream",
     "text": [
      "['FSC-A', 'SSC-A', 'BL1-A', 'RL1-A', 'FSC-H', 'SSC-H', 'BL1-H', 'RL1-H', 'FSC-W', 'SSC-W', 'BL1-W', 'RL1-W']\n",
      "\n",
      "<harness.test_harness_class.TestHarness object at 0x142c09208>\n"
     ]
    },
    {
     "name": "stderr",
     "output_type": "stream",
     "text": [
      "/Users/danbryce/Documents/sift/xplan/external/xplan/xplan-to-autoprotocol-reactor/xplan-dev-env/xplan-dev-env/lib/python3.7/site-packages/pandas/core/indexing.py:362: SettingWithCopyWarning: \n",
      "A value is trying to be set on a copy of a slice from a DataFrame.\n",
      "Try using .loc[row_indexer,col_indexer] = value instead\n",
      "\n",
      "See the caveats in the documentation: http://pandas.pydata.org/pandas-docs/stable/user_guide/indexing.html#returning-a-view-versus-a-copy\n",
      "  self.obj[key] = _infer_fill_value(value)\n"
     ]
    },
    {
     "name": "stdout",
     "output_type": "stream",
     "text": [
      "HI\n",
      "----------------------------------------------------------------------------------------------------\n",
      "Starting run at time 23:25:48\n",
      "Normalizing training and testing splits...\n",
      "Starting Classification training...\n",
      "Training time was: 45.65 seconds\n",
      "Testing time was: 0.87 seconds\n",
      "\n",
      "          Run ID        Date      Time                    Model Name Model Author Num Classes  Accuracy  Balanced Accuracy  AUC Score  Average Precision  F1 Score  Precision  Recall Samples In Train Samples In Test                                                                                      Model Description Column Predicted Num Features Used                                                                                       Data and Split Description Normalized Num Features Normalized Feature Extraction Was Untested Data Predicted\n",
      "0  QOZPZJ1wNYPbe  2019-07-28  23:25:48  random_forest_classification  Hamed        2           0.977     0.977              0.997      0.997              0.978     0.972      0.984   183965           45992           Random Forest: n_estimators=361, max_features=auto, criterion=entropy, min_samples_leaf=13, n_jobs=-1  class_label      12                {'experiment_id': 'r1dd37mcxv5pf4', 'random_state': 4, 'live_volume': 0.0, 'dead_volume': 570.0, 'stain': None}  True       12                      False              False                     \n",
      "\n",
      "Run finished at 23:26:36. Total run time = 48.24 seconds\n",
      "^^^^^^^^^^^^^^^^^^^^^^^^^^^^^^^^^^^^^^^^^^^^^^^^^^^^^^^^^^^^^^^^^^^^^^^^^^^^^^^^^^^^^^^^^^^^^^^^^^^^\n",
      "\n",
      "\n",
      "\n",
      "\n",
      "HI\n",
      "{'experiment_id': 'r1dd37mcxv5pf4', 'random_state': 4, 'live_volume': 0.0, 'dead_volume': 370.0, 'stain': 'SYTOX Red Stain'}\n",
      "data_columns: ['Container Type', 'Control', 'Culture_Volume', 'Media', 'Replicate', 'Storage (C)', 'Strain', 'checksum', 'filename', 'kill', 'kill_volume', 'plate_id', 'source', 'stain', 'well', 'experiment_id', 'Time', 'FSC-A', 'SSC-A', 'BL1-A', 'RL1-A', 'FSC-H', 'SSC-H', 'BL1-H', 'RL1-H', 'FSC-W', 'SSC-W', 'BL1-W', 'RL1-W']\n"
     ]
    },
    {
     "name": "stderr",
     "output_type": "stream",
     "text": [
      "/Users/danbryce/Documents/sift/xplan/external/xplan/xplan-to-autoprotocol-reactor/xplan-dev-env/xplan-dev-env/lib/python3.7/site-packages/pandas/core/indexing.py:480: SettingWithCopyWarning: \n",
      "A value is trying to be set on a copy of a slice from a DataFrame.\n",
      "Try using .loc[row_indexer,col_indexer] = value instead\n",
      "\n",
      "See the caveats in the documentation: http://pandas.pydata.org/pandas-docs/stable/user_guide/indexing.html#returning-a-view-versus-a-copy\n",
      "  self.obj[item] = s\n"
     ]
    },
    {
     "name": "stdout",
     "output_type": "stream",
     "text": [
      "['FSC-A', 'SSC-A', 'BL1-A', 'RL1-A', 'FSC-H', 'SSC-H', 'BL1-H', 'RL1-H', 'FSC-W', 'SSC-W', 'BL1-W', 'RL1-W']\n",
      "\n",
      "<harness.test_harness_class.TestHarness object at 0x29d40aeb8>\n"
     ]
    },
    {
     "name": "stderr",
     "output_type": "stream",
     "text": [
      "/Users/danbryce/Documents/sift/xplan/external/xplan/xplan-to-autoprotocol-reactor/xplan-dev-env/xplan-dev-env/lib/python3.7/site-packages/pandas/core/indexing.py:362: SettingWithCopyWarning: \n",
      "A value is trying to be set on a copy of a slice from a DataFrame.\n",
      "Try using .loc[row_indexer,col_indexer] = value instead\n",
      "\n",
      "See the caveats in the documentation: http://pandas.pydata.org/pandas-docs/stable/user_guide/indexing.html#returning-a-view-versus-a-copy\n",
      "  self.obj[key] = _infer_fill_value(value)\n"
     ]
    },
    {
     "name": "stdout",
     "output_type": "stream",
     "text": [
      "HI\n",
      "----------------------------------------------------------------------------------------------------\n",
      "Starting run at time 23:26:42\n",
      "Normalizing training and testing splits...\n",
      "Starting Classification training...\n",
      "Training time was: 29.07 seconds\n",
      "Testing time was: 0.65 seconds\n",
      "\n",
      "          Run ID        Date      Time                    Model Name Model Author Num Classes  Accuracy  Balanced Accuracy  AUC Score  Average Precision  F1 Score  Precision  Recall Samples In Train Samples In Test                                                                                      Model Description Column Predicted Num Features Used                                                                                                    Data and Split Description Normalized Num Features Normalized Feature Extraction Was Untested Data Predicted\n",
      "0  QyN3J5legvYgo  2019-07-28  23:26:42  random_forest_classification  Hamed        2           0.997     0.997              1.0        1.0                0.997     0.999      0.996   175331           43833           Random Forest: n_estimators=361, max_features=auto, criterion=entropy, min_samples_leaf=13, n_jobs=-1  class_label      12                {'experiment_id': 'r1dd37mcxv5pf4', 'random_state': 4, 'live_volume': 0.0, 'dead_volume': 370.0, 'stain': 'SYTOX Red Stain'}  True       12                      False              False                     \n",
      "\n",
      "Run finished at 23:27:13. Total run time = 31.36 seconds\n",
      "^^^^^^^^^^^^^^^^^^^^^^^^^^^^^^^^^^^^^^^^^^^^^^^^^^^^^^^^^^^^^^^^^^^^^^^^^^^^^^^^^^^^^^^^^^^^^^^^^^^^\n",
      "\n",
      "\n",
      "\n",
      "\n",
      "HI\n",
      "{'experiment_id': 'r1dd37mcxv5pf4', 'random_state': 4, 'live_volume': 0.0, 'dead_volume': 370.0, 'stain': None}\n",
      "data_columns: ['Container Type', 'Control', 'Culture_Volume', 'Media', 'Replicate', 'Storage (C)', 'Strain', 'checksum', 'filename', 'kill', 'kill_volume', 'plate_id', 'source', 'stain', 'well', 'experiment_id', 'Time', 'FSC-A', 'SSC-A', 'BL1-A', 'RL1-A', 'FSC-H', 'SSC-H', 'BL1-H', 'RL1-H', 'FSC-W', 'SSC-W', 'BL1-W', 'RL1-W']\n"
     ]
    },
    {
     "name": "stderr",
     "output_type": "stream",
     "text": [
      "/Users/danbryce/Documents/sift/xplan/external/xplan/xplan-to-autoprotocol-reactor/xplan-dev-env/xplan-dev-env/lib/python3.7/site-packages/pandas/core/indexing.py:480: SettingWithCopyWarning: \n",
      "A value is trying to be set on a copy of a slice from a DataFrame.\n",
      "Try using .loc[row_indexer,col_indexer] = value instead\n",
      "\n",
      "See the caveats in the documentation: http://pandas.pydata.org/pandas-docs/stable/user_guide/indexing.html#returning-a-view-versus-a-copy\n",
      "  self.obj[item] = s\n"
     ]
    },
    {
     "name": "stdout",
     "output_type": "stream",
     "text": [
      "['FSC-A', 'SSC-A', 'BL1-A', 'RL1-A', 'FSC-H', 'SSC-H', 'BL1-H', 'RL1-H', 'FSC-W', 'SSC-W', 'BL1-W', 'RL1-W']\n",
      "\n",
      "<harness.test_harness_class.TestHarness object at 0x292124b38>\n"
     ]
    },
    {
     "name": "stderr",
     "output_type": "stream",
     "text": [
      "/Users/danbryce/Documents/sift/xplan/external/xplan/xplan-to-autoprotocol-reactor/xplan-dev-env/xplan-dev-env/lib/python3.7/site-packages/pandas/core/indexing.py:362: SettingWithCopyWarning: \n",
      "A value is trying to be set on a copy of a slice from a DataFrame.\n",
      "Try using .loc[row_indexer,col_indexer] = value instead\n",
      "\n",
      "See the caveats in the documentation: http://pandas.pydata.org/pandas-docs/stable/user_guide/indexing.html#returning-a-view-versus-a-copy\n",
      "  self.obj[key] = _infer_fill_value(value)\n"
     ]
    },
    {
     "name": "stdout",
     "output_type": "stream",
     "text": [
      "HI\n",
      "----------------------------------------------------------------------------------------------------\n",
      "Starting run at time 23:27:19\n",
      "Normalizing training and testing splits...\n",
      "Starting Classification training...\n",
      "Training time was: 42.38 seconds\n",
      "Testing time was: 0.95 seconds\n",
      "\n",
      "          Run ID        Date      Time                    Model Name Model Author Num Classes  Accuracy  Balanced Accuracy  AUC Score  Average Precision  F1 Score  Precision  Recall Samples In Train Samples In Test                                                                                      Model Description Column Predicted Num Features Used                                                                                       Data and Split Description Normalized Num Features Normalized Feature Extraction Was Untested Data Predicted\n",
      "0  aWxBvxe3WXBqw  2019-07-28  23:27:19  random_forest_classification  Hamed        2           0.973     0.971              0.995      0.995              0.976     0.972      0.98    166786           41697           Random Forest: n_estimators=361, max_features=auto, criterion=entropy, min_samples_leaf=13, n_jobs=-1  class_label      12                {'experiment_id': 'r1dd37mcxv5pf4', 'random_state': 4, 'live_volume': 0.0, 'dead_volume': 370.0, 'stain': None}  True       12                      False              False                     \n",
      "\n",
      "Run finished at 23:28:04. Total run time = 45.26 seconds\n",
      "^^^^^^^^^^^^^^^^^^^^^^^^^^^^^^^^^^^^^^^^^^^^^^^^^^^^^^^^^^^^^^^^^^^^^^^^^^^^^^^^^^^^^^^^^^^^^^^^^^^^\n",
      "\n",
      "\n",
      "\n",
      "\n",
      "HI\n",
      "{'experiment_id': 'r1dd37mcxv5pf4', 'random_state': 4, 'live_volume': 0.0, 'dead_volume': 250.0, 'stain': 'SYTOX Red Stain'}\n",
      "data_columns: ['Container Type', 'Control', 'Culture_Volume', 'Media', 'Replicate', 'Storage (C)', 'Strain', 'checksum', 'filename', 'kill', 'kill_volume', 'plate_id', 'source', 'stain', 'well', 'experiment_id', 'Time', 'FSC-A', 'SSC-A', 'BL1-A', 'RL1-A', 'FSC-H', 'SSC-H', 'BL1-H', 'RL1-H', 'FSC-W', 'SSC-W', 'BL1-W', 'RL1-W']\n"
     ]
    },
    {
     "name": "stderr",
     "output_type": "stream",
     "text": [
      "/Users/danbryce/Documents/sift/xplan/external/xplan/xplan-to-autoprotocol-reactor/xplan-dev-env/xplan-dev-env/lib/python3.7/site-packages/pandas/core/indexing.py:480: SettingWithCopyWarning: \n",
      "A value is trying to be set on a copy of a slice from a DataFrame.\n",
      "Try using .loc[row_indexer,col_indexer] = value instead\n",
      "\n",
      "See the caveats in the documentation: http://pandas.pydata.org/pandas-docs/stable/user_guide/indexing.html#returning-a-view-versus-a-copy\n",
      "  self.obj[item] = s\n"
     ]
    },
    {
     "name": "stdout",
     "output_type": "stream",
     "text": [
      "['FSC-A', 'SSC-A', 'BL1-A', 'RL1-A', 'FSC-H', 'SSC-H', 'BL1-H', 'RL1-H', 'FSC-W', 'SSC-W', 'BL1-W', 'RL1-W']\n",
      "\n",
      "<harness.test_harness_class.TestHarness object at 0x29b0915c0>\n"
     ]
    },
    {
     "name": "stderr",
     "output_type": "stream",
     "text": [
      "/Users/danbryce/Documents/sift/xplan/external/xplan/xplan-to-autoprotocol-reactor/xplan-dev-env/xplan-dev-env/lib/python3.7/site-packages/pandas/core/indexing.py:362: SettingWithCopyWarning: \n",
      "A value is trying to be set on a copy of a slice from a DataFrame.\n",
      "Try using .loc[row_indexer,col_indexer] = value instead\n",
      "\n",
      "See the caveats in the documentation: http://pandas.pydata.org/pandas-docs/stable/user_guide/indexing.html#returning-a-view-versus-a-copy\n",
      "  self.obj[key] = _infer_fill_value(value)\n"
     ]
    },
    {
     "name": "stdout",
     "output_type": "stream",
     "text": [
      "HI\n",
      "----------------------------------------------------------------------------------------------------\n",
      "Starting run at time 23:28:09\n",
      "Normalizing training and testing splits...\n",
      "Starting Classification training...\n",
      "Training time was: 28.71 seconds\n",
      "Testing time was: 0.64 seconds\n",
      "\n",
      "          Run ID        Date      Time                    Model Name Model Author Num Classes  Accuracy  Balanced Accuracy  AUC Score  Average Precision  F1 Score  Precision  Recall Samples In Train Samples In Test                                                                                      Model Description Column Predicted Num Features Used                                                                                                    Data and Split Description Normalized Num Features Normalized Feature Extraction Was Untested Data Predicted\n",
      "0  QPkdbWm2EWYl3  2019-07-28  23:28:09  random_forest_classification  Hamed        2           0.996     0.997              1.0        1.0                0.997     0.999      0.995   147452           36864           Random Forest: n_estimators=361, max_features=auto, criterion=entropy, min_samples_leaf=13, n_jobs=-1  class_label      12                {'experiment_id': 'r1dd37mcxv5pf4', 'random_state': 4, 'live_volume': 0.0, 'dead_volume': 250.0, 'stain': 'SYTOX Red Stain'}  True       12                      False              False                     \n",
      "\n",
      "Run finished at 23:28:40. Total run time = 30.77 seconds\n",
      "^^^^^^^^^^^^^^^^^^^^^^^^^^^^^^^^^^^^^^^^^^^^^^^^^^^^^^^^^^^^^^^^^^^^^^^^^^^^^^^^^^^^^^^^^^^^^^^^^^^^\n",
      "\n",
      "\n",
      "\n",
      "\n",
      "HI\n",
      "{'experiment_id': 'r1dd37mcxv5pf4', 'random_state': 4, 'live_volume': 0.0, 'dead_volume': 250.0, 'stain': None}\n",
      "data_columns: ['Container Type', 'Control', 'Culture_Volume', 'Media', 'Replicate', 'Storage (C)', 'Strain', 'checksum', 'filename', 'kill', 'kill_volume', 'plate_id', 'source', 'stain', 'well', 'experiment_id', 'Time', 'FSC-A', 'SSC-A', 'BL1-A', 'RL1-A', 'FSC-H', 'SSC-H', 'BL1-H', 'RL1-H', 'FSC-W', 'SSC-W', 'BL1-W', 'RL1-W']\n"
     ]
    },
    {
     "name": "stderr",
     "output_type": "stream",
     "text": [
      "/Users/danbryce/Documents/sift/xplan/external/xplan/xplan-to-autoprotocol-reactor/xplan-dev-env/xplan-dev-env/lib/python3.7/site-packages/pandas/core/indexing.py:480: SettingWithCopyWarning: \n",
      "A value is trying to be set on a copy of a slice from a DataFrame.\n",
      "Try using .loc[row_indexer,col_indexer] = value instead\n",
      "\n",
      "See the caveats in the documentation: http://pandas.pydata.org/pandas-docs/stable/user_guide/indexing.html#returning-a-view-versus-a-copy\n",
      "  self.obj[item] = s\n"
     ]
    },
    {
     "name": "stdout",
     "output_type": "stream",
     "text": [
      "['FSC-A', 'SSC-A', 'BL1-A', 'RL1-A', 'FSC-H', 'SSC-H', 'BL1-H', 'RL1-H', 'FSC-W', 'SSC-W', 'BL1-W', 'RL1-W']\n",
      "\n",
      "<harness.test_harness_class.TestHarness object at 0x2915f1390>\n"
     ]
    },
    {
     "name": "stderr",
     "output_type": "stream",
     "text": [
      "/Users/danbryce/Documents/sift/xplan/external/xplan/xplan-to-autoprotocol-reactor/xplan-dev-env/xplan-dev-env/lib/python3.7/site-packages/pandas/core/indexing.py:362: SettingWithCopyWarning: \n",
      "A value is trying to be set on a copy of a slice from a DataFrame.\n",
      "Try using .loc[row_indexer,col_indexer] = value instead\n",
      "\n",
      "See the caveats in the documentation: http://pandas.pydata.org/pandas-docs/stable/user_guide/indexing.html#returning-a-view-versus-a-copy\n",
      "  self.obj[key] = _infer_fill_value(value)\n"
     ]
    },
    {
     "name": "stdout",
     "output_type": "stream",
     "text": [
      "HI\n",
      "----------------------------------------------------------------------------------------------------\n",
      "Starting run at time 23:28:44\n",
      "Normalizing training and testing splits...\n",
      "Starting Classification training...\n",
      "Training time was: 39.46 seconds\n",
      "Testing time was: 0.83 seconds\n",
      "\n",
      "          Run ID        Date      Time                    Model Name Model Author Num Classes  Accuracy  Balanced Accuracy  AUC Score  Average Precision  F1 Score  Precision  Recall Samples In Train Samples In Test                                                                                      Model Description Column Predicted Num Features Used                                                                                       Data and Split Description Normalized Num Features Normalized Feature Extraction Was Untested Data Predicted\n",
      "0  EpAL7mZ21z9g8  2019-07-28  23:28:44  random_forest_classification  Hamed        2           0.963     0.959              0.991      0.995              0.972     0.975      0.969   142361           35591           Random Forest: n_estimators=361, max_features=auto, criterion=entropy, min_samples_leaf=13, n_jobs=-1  class_label      12                {'experiment_id': 'r1dd37mcxv5pf4', 'random_state': 4, 'live_volume': 0.0, 'dead_volume': 250.0, 'stain': None}  True       12                      False              False                     \n",
      "\n",
      "Run finished at 23:29:26. Total run time = 41.79 seconds\n",
      "^^^^^^^^^^^^^^^^^^^^^^^^^^^^^^^^^^^^^^^^^^^^^^^^^^^^^^^^^^^^^^^^^^^^^^^^^^^^^^^^^^^^^^^^^^^^^^^^^^^^\n",
      "\n",
      "\n",
      "\n",
      "\n",
      "HI\n",
      "{'experiment_id': 'r1dd37mcxv5pf4', 'random_state': 4, 'live_volume': 0.0, 'dead_volume': 170.0, 'stain': 'SYTOX Red Stain'}\n",
      "data_columns: ['Container Type', 'Control', 'Culture_Volume', 'Media', 'Replicate', 'Storage (C)', 'Strain', 'checksum', 'filename', 'kill', 'kill_volume', 'plate_id', 'source', 'stain', 'well', 'experiment_id', 'Time', 'FSC-A', 'SSC-A', 'BL1-A', 'RL1-A', 'FSC-H', 'SSC-H', 'BL1-H', 'RL1-H', 'FSC-W', 'SSC-W', 'BL1-W', 'RL1-W']\n"
     ]
    },
    {
     "name": "stderr",
     "output_type": "stream",
     "text": [
      "/Users/danbryce/Documents/sift/xplan/external/xplan/xplan-to-autoprotocol-reactor/xplan-dev-env/xplan-dev-env/lib/python3.7/site-packages/pandas/core/indexing.py:480: SettingWithCopyWarning: \n",
      "A value is trying to be set on a copy of a slice from a DataFrame.\n",
      "Try using .loc[row_indexer,col_indexer] = value instead\n",
      "\n",
      "See the caveats in the documentation: http://pandas.pydata.org/pandas-docs/stable/user_guide/indexing.html#returning-a-view-versus-a-copy\n",
      "  self.obj[item] = s\n"
     ]
    },
    {
     "name": "stdout",
     "output_type": "stream",
     "text": [
      "['FSC-A', 'SSC-A', 'BL1-A', 'RL1-A', 'FSC-H', 'SSC-H', 'BL1-H', 'RL1-H', 'FSC-W', 'SSC-W', 'BL1-W', 'RL1-W']\n",
      "\n",
      "<harness.test_harness_class.TestHarness object at 0x2a34aaf98>\n"
     ]
    },
    {
     "name": "stderr",
     "output_type": "stream",
     "text": [
      "/Users/danbryce/Documents/sift/xplan/external/xplan/xplan-to-autoprotocol-reactor/xplan-dev-env/xplan-dev-env/lib/python3.7/site-packages/pandas/core/indexing.py:362: SettingWithCopyWarning: \n",
      "A value is trying to be set on a copy of a slice from a DataFrame.\n",
      "Try using .loc[row_indexer,col_indexer] = value instead\n",
      "\n",
      "See the caveats in the documentation: http://pandas.pydata.org/pandas-docs/stable/user_guide/indexing.html#returning-a-view-versus-a-copy\n",
      "  self.obj[key] = _infer_fill_value(value)\n"
     ]
    },
    {
     "name": "stdout",
     "output_type": "stream",
     "text": [
      "HI\n",
      "----------------------------------------------------------------------------------------------------\n",
      "Starting run at time 23:29:33\n",
      "Normalizing training and testing splits...\n",
      "Starting Classification training...\n",
      "Training time was: 51.84 seconds\n",
      "Testing time was: 0.84 seconds\n",
      "\n",
      "          Run ID        Date      Time                    Model Name Model Author Num Classes  Accuracy  Balanced Accuracy  AUC Score  Average Precision  F1 Score  Precision  Recall Samples In Train Samples In Test                                                                                      Model Description Column Predicted Num Features Used                                                                                                    Data and Split Description Normalized Num Features Normalized Feature Extraction Was Untested Data Predicted\n",
      "0  EYaRMq85okBQ1  2019-07-28  23:29:33  random_forest_classification  Hamed        2           0.997     0.997              1.0        0.999              0.997     0.999      0.995   192000           48000           Random Forest: n_estimators=361, max_features=auto, criterion=entropy, min_samples_leaf=13, n_jobs=-1  class_label      12                {'experiment_id': 'r1dd37mcxv5pf4', 'random_state': 4, 'live_volume': 0.0, 'dead_volume': 170.0, 'stain': 'SYTOX Red Stain'}  True       12                      False              False                     \n",
      "\n",
      "Run finished at 23:30:28. Total run time = 54.83 seconds\n",
      "^^^^^^^^^^^^^^^^^^^^^^^^^^^^^^^^^^^^^^^^^^^^^^^^^^^^^^^^^^^^^^^^^^^^^^^^^^^^^^^^^^^^^^^^^^^^^^^^^^^^\n",
      "\n",
      "\n",
      "\n",
      "\n",
      "HI\n",
      "{'experiment_id': 'r1dd37mcxv5pf4', 'random_state': 4, 'live_volume': 0.0, 'dead_volume': 170.0, 'stain': None}\n",
      "data_columns: ['Container Type', 'Control', 'Culture_Volume', 'Media', 'Replicate', 'Storage (C)', 'Strain', 'checksum', 'filename', 'kill', 'kill_volume', 'plate_id', 'source', 'stain', 'well', 'experiment_id', 'Time', 'FSC-A', 'SSC-A', 'BL1-A', 'RL1-A', 'FSC-H', 'SSC-H', 'BL1-H', 'RL1-H', 'FSC-W', 'SSC-W', 'BL1-W', 'RL1-W']\n"
     ]
    },
    {
     "name": "stderr",
     "output_type": "stream",
     "text": [
      "/Users/danbryce/Documents/sift/xplan/external/xplan/xplan-to-autoprotocol-reactor/xplan-dev-env/xplan-dev-env/lib/python3.7/site-packages/pandas/core/indexing.py:480: SettingWithCopyWarning: \n",
      "A value is trying to be set on a copy of a slice from a DataFrame.\n",
      "Try using .loc[row_indexer,col_indexer] = value instead\n",
      "\n",
      "See the caveats in the documentation: http://pandas.pydata.org/pandas-docs/stable/user_guide/indexing.html#returning-a-view-versus-a-copy\n",
      "  self.obj[item] = s\n"
     ]
    },
    {
     "name": "stdout",
     "output_type": "stream",
     "text": [
      "['FSC-A', 'SSC-A', 'BL1-A', 'RL1-A', 'FSC-H', 'SSC-H', 'BL1-H', 'RL1-H', 'FSC-W', 'SSC-W', 'BL1-W', 'RL1-W']\n",
      "\n",
      "<harness.test_harness_class.TestHarness object at 0x1348d7710>\n"
     ]
    },
    {
     "name": "stderr",
     "output_type": "stream",
     "text": [
      "/Users/danbryce/Documents/sift/xplan/external/xplan/xplan-to-autoprotocol-reactor/xplan-dev-env/xplan-dev-env/lib/python3.7/site-packages/pandas/core/indexing.py:362: SettingWithCopyWarning: \n",
      "A value is trying to be set on a copy of a slice from a DataFrame.\n",
      "Try using .loc[row_indexer,col_indexer] = value instead\n",
      "\n",
      "See the caveats in the documentation: http://pandas.pydata.org/pandas-docs/stable/user_guide/indexing.html#returning-a-view-versus-a-copy\n",
      "  self.obj[key] = _infer_fill_value(value)\n"
     ]
    },
    {
     "name": "stdout",
     "output_type": "stream",
     "text": [
      "HI\n",
      "----------------------------------------------------------------------------------------------------\n",
      "Starting run at time 23:30:34\n",
      "Normalizing training and testing splits...\n",
      "Starting Classification training...\n",
      "Training time was: 52.43 seconds\n",
      "Testing time was: 1.26 seconds\n",
      "\n",
      "          Run ID        Date      Time                    Model Name Model Author Num Classes  Accuracy  Balanced Accuracy  AUC Score  Average Precision  F1 Score  Precision  Recall Samples In Train Samples In Test                                                                                      Model Description Column Predicted Num Features Used                                                                                       Data and Split Description Normalized Num Features Normalized Feature Extraction Was Untested Data Predicted\n",
      "0  66voL3j7V2VZl  2019-07-28  23:30:34  random_forest_classification  Hamed        2           0.921     0.921              0.974      0.971              0.921     0.911      0.933   192000           48000           Random Forest: n_estimators=361, max_features=auto, criterion=entropy, min_samples_leaf=13, n_jobs=-1  class_label      12                {'experiment_id': 'r1dd37mcxv5pf4', 'random_state': 4, 'live_volume': 0.0, 'dead_volume': 170.0, 'stain': None}  True       12                      False              False                     \n",
      "\n",
      "Run finished at 23:31:30. Total run time = 55.55 seconds\n",
      "^^^^^^^^^^^^^^^^^^^^^^^^^^^^^^^^^^^^^^^^^^^^^^^^^^^^^^^^^^^^^^^^^^^^^^^^^^^^^^^^^^^^^^^^^^^^^^^^^^^^\n",
      "\n",
      "\n",
      "\n",
      "\n",
      "HI\n",
      "{'experiment_id': 'r1dd37mcxv5pf4', 'random_state': 4, 'live_volume': 0.0, 'dead_volume': 105.0, 'stain': 'SYTOX Red Stain'}\n",
      "data_columns: ['Container Type', 'Control', 'Culture_Volume', 'Media', 'Replicate', 'Storage (C)', 'Strain', 'checksum', 'filename', 'kill', 'kill_volume', 'plate_id', 'source', 'stain', 'well', 'experiment_id', 'Time', 'FSC-A', 'SSC-A', 'BL1-A', 'RL1-A', 'FSC-H', 'SSC-H', 'BL1-H', 'RL1-H', 'FSC-W', 'SSC-W', 'BL1-W', 'RL1-W']\n"
     ]
    },
    {
     "name": "stderr",
     "output_type": "stream",
     "text": [
      "/Users/danbryce/Documents/sift/xplan/external/xplan/xplan-to-autoprotocol-reactor/xplan-dev-env/xplan-dev-env/lib/python3.7/site-packages/pandas/core/indexing.py:480: SettingWithCopyWarning: \n",
      "A value is trying to be set on a copy of a slice from a DataFrame.\n",
      "Try using .loc[row_indexer,col_indexer] = value instead\n",
      "\n",
      "See the caveats in the documentation: http://pandas.pydata.org/pandas-docs/stable/user_guide/indexing.html#returning-a-view-versus-a-copy\n",
      "  self.obj[item] = s\n"
     ]
    },
    {
     "name": "stdout",
     "output_type": "stream",
     "text": [
      "['FSC-A', 'SSC-A', 'BL1-A', 'RL1-A', 'FSC-H', 'SSC-H', 'BL1-H', 'RL1-H', 'FSC-W', 'SSC-W', 'BL1-W', 'RL1-W']\n",
      "\n",
      "<harness.test_harness_class.TestHarness object at 0x2bab7de80>\n"
     ]
    },
    {
     "name": "stderr",
     "output_type": "stream",
     "text": [
      "/Users/danbryce/Documents/sift/xplan/external/xplan/xplan-to-autoprotocol-reactor/xplan-dev-env/xplan-dev-env/lib/python3.7/site-packages/pandas/core/indexing.py:362: SettingWithCopyWarning: \n",
      "A value is trying to be set on a copy of a slice from a DataFrame.\n",
      "Try using .loc[row_indexer,col_indexer] = value instead\n",
      "\n",
      "See the caveats in the documentation: http://pandas.pydata.org/pandas-docs/stable/user_guide/indexing.html#returning-a-view-versus-a-copy\n",
      "  self.obj[key] = _infer_fill_value(value)\n"
     ]
    },
    {
     "name": "stdout",
     "output_type": "stream",
     "text": [
      "HI\n",
      "----------------------------------------------------------------------------------------------------\n",
      "Starting run at time 23:31:36\n",
      "Normalizing training and testing splits...\n",
      "Starting Classification training...\n",
      "Training time was: 43.47 seconds\n",
      "Testing time was: 0.75 seconds\n",
      "\n",
      "          Run ID        Date      Time                    Model Name Model Author Num Classes  Accuracy  Balanced Accuracy  AUC Score  Average Precision  F1 Score  Precision  Recall Samples In Train Samples In Test                                                                                      Model Description Column Predicted Num Features Used                                                                                                    Data and Split Description Normalized Num Features Normalized Feature Extraction Was Untested Data Predicted\n",
      "0  ab2QBY1JQNO1V  2019-07-28  23:31:36  random_forest_classification  Hamed        2           0.997     0.997              1.0        1.0                0.997     0.999      0.996   192000           48000           Random Forest: n_estimators=361, max_features=auto, criterion=entropy, min_samples_leaf=13, n_jobs=-1  class_label      12                {'experiment_id': 'r1dd37mcxv5pf4', 'random_state': 4, 'live_volume': 0.0, 'dead_volume': 105.0, 'stain': 'SYTOX Red Stain'}  True       12                      False              False                     \n",
      "\n",
      "Run finished at 23:32:22. Total run time = 46.01 seconds\n",
      "^^^^^^^^^^^^^^^^^^^^^^^^^^^^^^^^^^^^^^^^^^^^^^^^^^^^^^^^^^^^^^^^^^^^^^^^^^^^^^^^^^^^^^^^^^^^^^^^^^^^\n",
      "\n",
      "\n",
      "\n",
      "\n",
      "HI\n",
      "{'experiment_id': 'r1dd37mcxv5pf4', 'random_state': 4, 'live_volume': 0.0, 'dead_volume': 105.0, 'stain': None}\n",
      "data_columns: ['Container Type', 'Control', 'Culture_Volume', 'Media', 'Replicate', 'Storage (C)', 'Strain', 'checksum', 'filename', 'kill', 'kill_volume', 'plate_id', 'source', 'stain', 'well', 'experiment_id', 'Time', 'FSC-A', 'SSC-A', 'BL1-A', 'RL1-A', 'FSC-H', 'SSC-H', 'BL1-H', 'RL1-H', 'FSC-W', 'SSC-W', 'BL1-W', 'RL1-W']\n"
     ]
    },
    {
     "name": "stderr",
     "output_type": "stream",
     "text": [
      "/Users/danbryce/Documents/sift/xplan/external/xplan/xplan-to-autoprotocol-reactor/xplan-dev-env/xplan-dev-env/lib/python3.7/site-packages/pandas/core/indexing.py:480: SettingWithCopyWarning: \n",
      "A value is trying to be set on a copy of a slice from a DataFrame.\n",
      "Try using .loc[row_indexer,col_indexer] = value instead\n",
      "\n",
      "See the caveats in the documentation: http://pandas.pydata.org/pandas-docs/stable/user_guide/indexing.html#returning-a-view-versus-a-copy\n",
      "  self.obj[item] = s\n"
     ]
    },
    {
     "name": "stdout",
     "output_type": "stream",
     "text": [
      "['FSC-A', 'SSC-A', 'BL1-A', 'RL1-A', 'FSC-H', 'SSC-H', 'BL1-H', 'RL1-H', 'FSC-W', 'SSC-W', 'BL1-W', 'RL1-W']\n"
     ]
    },
    {
     "name": "stderr",
     "output_type": "stream",
     "text": [
      "/Users/danbryce/Documents/sift/xplan/external/xplan/xplan-to-autoprotocol-reactor/xplan-dev-env/xplan-dev-env/lib/python3.7/site-packages/pandas/core/indexing.py:362: SettingWithCopyWarning: \n",
      "A value is trying to be set on a copy of a slice from a DataFrame.\n",
      "Try using .loc[row_indexer,col_indexer] = value instead\n",
      "\n",
      "See the caveats in the documentation: http://pandas.pydata.org/pandas-docs/stable/user_guide/indexing.html#returning-a-view-versus-a-copy\n",
      "  self.obj[key] = _infer_fill_value(value)\n"
     ]
    },
    {
     "name": "stdout",
     "output_type": "stream",
     "text": [
      "\n",
      "<harness.test_harness_class.TestHarness object at 0x142bf2e48>\n",
      "HI\n",
      "----------------------------------------------------------------------------------------------------\n",
      "Starting run at time 23:32:28\n",
      "Normalizing training and testing splits...\n",
      "Starting Classification training...\n",
      "Training time was: 52.80 seconds\n",
      "Testing time was: 1.26 seconds\n",
      "\n",
      "          Run ID        Date      Time                    Model Name Model Author Num Classes  Accuracy  Balanced Accuracy  AUC Score  Average Precision  F1 Score  Precision  Recall Samples In Train Samples In Test                                                                                      Model Description Column Predicted Num Features Used                                                                                       Data and Split Description Normalized Num Features Normalized Feature Extraction Was Untested Data Predicted\n",
      "0  6pJ2yr61D5lrw  2019-07-28  23:32:28  random_forest_classification  Hamed        2           0.94      0.94               0.984      0.982              0.941     0.928      0.954   192000           48000           Random Forest: n_estimators=361, max_features=auto, criterion=entropy, min_samples_leaf=13, n_jobs=-1  class_label      12                {'experiment_id': 'r1dd37mcxv5pf4', 'random_state': 4, 'live_volume': 0.0, 'dead_volume': 105.0, 'stain': None}  True       12                      False              False                     \n",
      "\n",
      "Run finished at 23:33:24. Total run time = 55.89 seconds\n",
      "^^^^^^^^^^^^^^^^^^^^^^^^^^^^^^^^^^^^^^^^^^^^^^^^^^^^^^^^^^^^^^^^^^^^^^^^^^^^^^^^^^^^^^^^^^^^^^^^^^^^\n",
      "\n",
      "\n",
      "\n",
      "\n",
      "HI\n",
      "{'experiment_id': 'r1dd37mcxv5pf4', 'random_state': 4, 'live_volume': 0.0, 'dead_volume': 64.0, 'stain': 'SYTOX Red Stain'}\n",
      "data_columns: ['Container Type', 'Control', 'Culture_Volume', 'Media', 'Replicate', 'Storage (C)', 'Strain', 'checksum', 'filename', 'kill', 'kill_volume', 'plate_id', 'source', 'stain', 'well', 'experiment_id', 'Time', 'FSC-A', 'SSC-A', 'BL1-A', 'RL1-A', 'FSC-H', 'SSC-H', 'BL1-H', 'RL1-H', 'FSC-W', 'SSC-W', 'BL1-W', 'RL1-W']\n"
     ]
    },
    {
     "name": "stderr",
     "output_type": "stream",
     "text": [
      "/Users/danbryce/Documents/sift/xplan/external/xplan/xplan-to-autoprotocol-reactor/xplan-dev-env/xplan-dev-env/lib/python3.7/site-packages/pandas/core/indexing.py:480: SettingWithCopyWarning: \n",
      "A value is trying to be set on a copy of a slice from a DataFrame.\n",
      "Try using .loc[row_indexer,col_indexer] = value instead\n",
      "\n",
      "See the caveats in the documentation: http://pandas.pydata.org/pandas-docs/stable/user_guide/indexing.html#returning-a-view-versus-a-copy\n",
      "  self.obj[item] = s\n"
     ]
    },
    {
     "name": "stdout",
     "output_type": "stream",
     "text": [
      "['FSC-A', 'SSC-A', 'BL1-A', 'RL1-A', 'FSC-H', 'SSC-H', 'BL1-H', 'RL1-H', 'FSC-W', 'SSC-W', 'BL1-W', 'RL1-W']\n",
      "\n",
      "<harness.test_harness_class.TestHarness object at 0x2c5793fd0>\n"
     ]
    },
    {
     "name": "stderr",
     "output_type": "stream",
     "text": [
      "/Users/danbryce/Documents/sift/xplan/external/xplan/xplan-to-autoprotocol-reactor/xplan-dev-env/xplan-dev-env/lib/python3.7/site-packages/pandas/core/indexing.py:362: SettingWithCopyWarning: \n",
      "A value is trying to be set on a copy of a slice from a DataFrame.\n",
      "Try using .loc[row_indexer,col_indexer] = value instead\n",
      "\n",
      "See the caveats in the documentation: http://pandas.pydata.org/pandas-docs/stable/user_guide/indexing.html#returning-a-view-versus-a-copy\n",
      "  self.obj[key] = _infer_fill_value(value)\n"
     ]
    },
    {
     "name": "stdout",
     "output_type": "stream",
     "text": [
      "HI\n",
      "----------------------------------------------------------------------------------------------------\n",
      "Starting run at time 23:33:31\n",
      "Normalizing training and testing splits...\n",
      "Starting Classification training...\n",
      "Training time was: 60.44 seconds\n",
      "Testing time was: 1.46 seconds\n",
      "\n",
      "          Run ID        Date      Time                    Model Name Model Author Num Classes  Accuracy  Balanced Accuracy  AUC Score  Average Precision  F1 Score  Precision  Recall Samples In Train Samples In Test                                                                                      Model Description Column Predicted Num Features Used                                                                                                   Data and Split Description Normalized Num Features Normalized Feature Extraction Was Untested Data Predicted\n",
      "0  amqkx9g3W6vLd  2019-07-28  23:33:31  random_forest_classification  Hamed        2           0.856     0.856              0.926      0.908              0.864     0.819      0.915   192000           48000           Random Forest: n_estimators=361, max_features=auto, criterion=entropy, min_samples_leaf=13, n_jobs=-1  class_label      12                {'experiment_id': 'r1dd37mcxv5pf4', 'random_state': 4, 'live_volume': 0.0, 'dead_volume': 64.0, 'stain': 'SYTOX Red Stain'}  True       12                      False              False                     \n",
      "\n",
      "Run finished at 23:34:34. Total run time = 63.82 seconds\n",
      "^^^^^^^^^^^^^^^^^^^^^^^^^^^^^^^^^^^^^^^^^^^^^^^^^^^^^^^^^^^^^^^^^^^^^^^^^^^^^^^^^^^^^^^^^^^^^^^^^^^^\n",
      "\n",
      "\n",
      "\n",
      "\n",
      "HI\n",
      "{'experiment_id': 'r1dd37mcxv5pf4', 'random_state': 4, 'live_volume': 0.0, 'dead_volume': 64.0, 'stain': None}\n",
      "data_columns: ['Container Type', 'Control', 'Culture_Volume', 'Media', 'Replicate', 'Storage (C)', 'Strain', 'checksum', 'filename', 'kill', 'kill_volume', 'plate_id', 'source', 'stain', 'well', 'experiment_id', 'Time', 'FSC-A', 'SSC-A', 'BL1-A', 'RL1-A', 'FSC-H', 'SSC-H', 'BL1-H', 'RL1-H', 'FSC-W', 'SSC-W', 'BL1-W', 'RL1-W']\n"
     ]
    },
    {
     "name": "stderr",
     "output_type": "stream",
     "text": [
      "/Users/danbryce/Documents/sift/xplan/external/xplan/xplan-to-autoprotocol-reactor/xplan-dev-env/xplan-dev-env/lib/python3.7/site-packages/pandas/core/indexing.py:480: SettingWithCopyWarning: \n",
      "A value is trying to be set on a copy of a slice from a DataFrame.\n",
      "Try using .loc[row_indexer,col_indexer] = value instead\n",
      "\n",
      "See the caveats in the documentation: http://pandas.pydata.org/pandas-docs/stable/user_guide/indexing.html#returning-a-view-versus-a-copy\n",
      "  self.obj[item] = s\n"
     ]
    },
    {
     "name": "stdout",
     "output_type": "stream",
     "text": [
      "['FSC-A', 'SSC-A', 'BL1-A', 'RL1-A', 'FSC-H', 'SSC-H', 'BL1-H', 'RL1-H', 'FSC-W', 'SSC-W', 'BL1-W', 'RL1-W']\n",
      "\n",
      "<harness.test_harness_class.TestHarness object at 0x2c543bef0>\n"
     ]
    },
    {
     "name": "stderr",
     "output_type": "stream",
     "text": [
      "/Users/danbryce/Documents/sift/xplan/external/xplan/xplan-to-autoprotocol-reactor/xplan-dev-env/xplan-dev-env/lib/python3.7/site-packages/pandas/core/indexing.py:362: SettingWithCopyWarning: \n",
      "A value is trying to be set on a copy of a slice from a DataFrame.\n",
      "Try using .loc[row_indexer,col_indexer] = value instead\n",
      "\n",
      "See the caveats in the documentation: http://pandas.pydata.org/pandas-docs/stable/user_guide/indexing.html#returning-a-view-versus-a-copy\n",
      "  self.obj[key] = _infer_fill_value(value)\n"
     ]
    },
    {
     "name": "stdout",
     "output_type": "stream",
     "text": [
      "HI\n",
      "----------------------------------------------------------------------------------------------------\n",
      "Starting run at time 23:34:41\n",
      "Normalizing training and testing splits...\n",
      "Starting Classification training...\n",
      "Training time was: 49.88 seconds\n",
      "Testing time was: 1.46 seconds\n",
      "\n",
      "          Run ID        Date      Time                    Model Name Model Author Num Classes  Accuracy  Balanced Accuracy  AUC Score  Average Precision  F1 Score  Precision  Recall Samples In Train Samples In Test                                                                                      Model Description Column Predicted Num Features Used                                                                                      Data and Split Description Normalized Num Features Normalized Feature Extraction Was Untested Data Predicted\n",
      "0  5OZ1Q58pyDN7w  2019-07-28  23:34:41  random_forest_classification  Hamed        2           0.797     0.797              0.877      0.861              0.808     0.768      0.851   192000           48000           Random Forest: n_estimators=361, max_features=auto, criterion=entropy, min_samples_leaf=13, n_jobs=-1  class_label      12                {'experiment_id': 'r1dd37mcxv5pf4', 'random_state': 4, 'live_volume': 0.0, 'dead_volume': 64.0, 'stain': None}  True       12                      False              False                     \n",
      "\n",
      "Run finished at 23:35:34. Total run time = 53.19 seconds\n",
      "^^^^^^^^^^^^^^^^^^^^^^^^^^^^^^^^^^^^^^^^^^^^^^^^^^^^^^^^^^^^^^^^^^^^^^^^^^^^^^^^^^^^^^^^^^^^^^^^^^^^\n",
      "\n",
      "\n",
      "\n",
      "\n",
      "HI\n",
      "{'experiment_id': 'r1dd37mcxv5pf4', 'random_state': 4, 'live_volume': 0.0, 'dead_volume': 29, 'stain': 'SYTOX Red Stain'}\n",
      "data_columns: ['Container Type', 'Control', 'Culture_Volume', 'Media', 'Replicate', 'Storage (C)', 'Strain', 'checksum', 'filename', 'kill', 'kill_volume', 'plate_id', 'source', 'stain', 'well', 'experiment_id', 'Time', 'FSC-A', 'SSC-A', 'BL1-A', 'RL1-A', 'FSC-H', 'SSC-H', 'BL1-H', 'RL1-H', 'FSC-W', 'SSC-W', 'BL1-W', 'RL1-W']\n"
     ]
    },
    {
     "name": "stderr",
     "output_type": "stream",
     "text": [
      "/Users/danbryce/Documents/sift/xplan/external/xplan/xplan-to-autoprotocol-reactor/xplan-dev-env/xplan-dev-env/lib/python3.7/site-packages/pandas/core/indexing.py:480: SettingWithCopyWarning: \n",
      "A value is trying to be set on a copy of a slice from a DataFrame.\n",
      "Try using .loc[row_indexer,col_indexer] = value instead\n",
      "\n",
      "See the caveats in the documentation: http://pandas.pydata.org/pandas-docs/stable/user_guide/indexing.html#returning-a-view-versus-a-copy\n",
      "  self.obj[item] = s\n"
     ]
    },
    {
     "name": "stdout",
     "output_type": "stream",
     "text": [
      "['FSC-A', 'SSC-A', 'BL1-A', 'RL1-A', 'FSC-H', 'SSC-H', 'BL1-H', 'RL1-H', 'FSC-W', 'SSC-W', 'BL1-W', 'RL1-W']\n",
      "\n",
      "<harness.test_harness_class.TestHarness object at 0x2ee11a748>\n"
     ]
    },
    {
     "name": "stderr",
     "output_type": "stream",
     "text": [
      "/Users/danbryce/Documents/sift/xplan/external/xplan/xplan-to-autoprotocol-reactor/xplan-dev-env/xplan-dev-env/lib/python3.7/site-packages/pandas/core/indexing.py:362: SettingWithCopyWarning: \n",
      "A value is trying to be set on a copy of a slice from a DataFrame.\n",
      "Try using .loc[row_indexer,col_indexer] = value instead\n",
      "\n",
      "See the caveats in the documentation: http://pandas.pydata.org/pandas-docs/stable/user_guide/indexing.html#returning-a-view-versus-a-copy\n",
      "  self.obj[key] = _infer_fill_value(value)\n"
     ]
    },
    {
     "name": "stdout",
     "output_type": "stream",
     "text": [
      "HI\n",
      "----------------------------------------------------------------------------------------------------\n",
      "Starting run at time 23:35:41\n",
      "Normalizing training and testing splits...\n",
      "Starting Classification training...\n",
      "Training time was: 62.62 seconds\n",
      "Testing time was: 1.57 seconds\n",
      "\n",
      "          Run ID        Date      Time                    Model Name Model Author Num Classes  Accuracy  Balanced Accuracy  AUC Score  Average Precision  F1 Score  Precision  Recall Samples In Train Samples In Test                                                                                      Model Description Column Predicted Num Features Used                                                                                                 Data and Split Description Normalized Num Features Normalized Feature Extraction Was Untested Data Predicted\n",
      "0  5ZyJ9Xak7e2xw  2019-07-28  23:35:41  random_forest_classification  Hamed        2           0.647     0.647              0.709      0.677              0.673     0.627      0.726   192000           48000           Random Forest: n_estimators=361, max_features=auto, criterion=entropy, min_samples_leaf=13, n_jobs=-1  class_label      12                {'experiment_id': 'r1dd37mcxv5pf4', 'random_state': 4, 'live_volume': 0.0, 'dead_volume': 29, 'stain': 'SYTOX Red Stain'}  True       12                      False              False                     \n",
      "\n",
      "Run finished at 23:36:47. Total run time = 65.97 seconds\n",
      "^^^^^^^^^^^^^^^^^^^^^^^^^^^^^^^^^^^^^^^^^^^^^^^^^^^^^^^^^^^^^^^^^^^^^^^^^^^^^^^^^^^^^^^^^^^^^^^^^^^^\n",
      "\n",
      "\n",
      "\n",
      "\n",
      "HI\n",
      "{'experiment_id': 'r1dd37mcxv5pf4', 'random_state': 4, 'live_volume': 0.0, 'dead_volume': 29, 'stain': None}\n",
      "data_columns: ['Container Type', 'Control', 'Culture_Volume', 'Media', 'Replicate', 'Storage (C)', 'Strain', 'checksum', 'filename', 'kill', 'kill_volume', 'plate_id', 'source', 'stain', 'well', 'experiment_id', 'Time', 'FSC-A', 'SSC-A', 'BL1-A', 'RL1-A', 'FSC-H', 'SSC-H', 'BL1-H', 'RL1-H', 'FSC-W', 'SSC-W', 'BL1-W', 'RL1-W']\n"
     ]
    },
    {
     "name": "stderr",
     "output_type": "stream",
     "text": [
      "/Users/danbryce/Documents/sift/xplan/external/xplan/xplan-to-autoprotocol-reactor/xplan-dev-env/xplan-dev-env/lib/python3.7/site-packages/pandas/core/indexing.py:480: SettingWithCopyWarning: \n",
      "A value is trying to be set on a copy of a slice from a DataFrame.\n",
      "Try using .loc[row_indexer,col_indexer] = value instead\n",
      "\n",
      "See the caveats in the documentation: http://pandas.pydata.org/pandas-docs/stable/user_guide/indexing.html#returning-a-view-versus-a-copy\n",
      "  self.obj[item] = s\n"
     ]
    },
    {
     "name": "stdout",
     "output_type": "stream",
     "text": [
      "['FSC-A', 'SSC-A', 'BL1-A', 'RL1-A', 'FSC-H', 'SSC-H', 'BL1-H', 'RL1-H', 'FSC-W', 'SSC-W', 'BL1-W', 'RL1-W']\n",
      "\n",
      "<harness.test_harness_class.TestHarness object at 0x31d7ba278>\n"
     ]
    },
    {
     "name": "stderr",
     "output_type": "stream",
     "text": [
      "/Users/danbryce/Documents/sift/xplan/external/xplan/xplan-to-autoprotocol-reactor/xplan-dev-env/xplan-dev-env/lib/python3.7/site-packages/pandas/core/indexing.py:362: SettingWithCopyWarning: \n",
      "A value is trying to be set on a copy of a slice from a DataFrame.\n",
      "Try using .loc[row_indexer,col_indexer] = value instead\n",
      "\n",
      "See the caveats in the documentation: http://pandas.pydata.org/pandas-docs/stable/user_guide/indexing.html#returning-a-view-versus-a-copy\n",
      "  self.obj[key] = _infer_fill_value(value)\n"
     ]
    },
    {
     "name": "stdout",
     "output_type": "stream",
     "text": [
      "HI\n",
      "----------------------------------------------------------------------------------------------------\n",
      "Starting run at time 23:36:53\n",
      "Normalizing training and testing splits...\n",
      "Starting Classification training...\n",
      "Training time was: 52.32 seconds\n",
      "Testing time was: 1.77 seconds\n",
      "\n",
      "          Run ID        Date      Time                    Model Name Model Author Num Classes  Accuracy  Balanced Accuracy  AUC Score  Average Precision  F1 Score  Precision  Recall Samples In Train Samples In Test                                                                                      Model Description Column Predicted Num Features Used                                                                                    Data and Split Description Normalized Num Features Normalized Feature Extraction Was Untested Data Predicted\n",
      "0  52LjE9Q3LRJMM  2019-07-28  23:36:53  random_forest_classification  Hamed        2           0.638     0.638              0.691      0.673              0.64      0.637      0.643   192000           48000           Random Forest: n_estimators=361, max_features=auto, criterion=entropy, min_samples_leaf=13, n_jobs=-1  class_label      12                {'experiment_id': 'r1dd37mcxv5pf4', 'random_state': 4, 'live_volume': 0.0, 'dead_volume': 29, 'stain': None}  True       12                      False              False                     \n",
      "\n",
      "Run finished at 23:37:49. Total run time = 55.99 seconds\n",
      "^^^^^^^^^^^^^^^^^^^^^^^^^^^^^^^^^^^^^^^^^^^^^^^^^^^^^^^^^^^^^^^^^^^^^^^^^^^^^^^^^^^^^^^^^^^^^^^^^^^^\n",
      "\n",
      "\n",
      "\n",
      "\n",
      "HI\n"
     ]
    }
   ],
   "source": [
    "\n",
    "blda.train_models_for_stats(df, \n",
    "                            data_dir=work_dir, \n",
    "                            fcs_columns=['FSC-A', 'SSC-A', 'BL1-A', 'RL1-A', 'FSC-H', \n",
    "                                      'SSC-H', 'BL1-H', 'RL1-H', 'FSC-W', 'SSC-W',\n",
    "                                      'BL1-W', 'RL1-W'])\n"
   ]
  },
  {
   "cell_type": "code",
   "execution_count": 105,
   "metadata": {},
   "outputs": [
    {
     "name": "stdout",
     "output_type": "stream",
     "text": [
      "SYTOX Red Stain\n",
      "{'experiment_id': 'r1dd37mcxv5pf4', 'random_state': 0, 'live_volume': 0, 'dead_volume': 980.0, 'stain': 'SYTOX Red Stain', 'prediction': True}\n",
      "data_columns: ['Container Type', 'Control', 'Culture_Volume', 'Media', 'Replicate', 'Storage (C)', 'Strain', 'checksum', 'filename', 'kill', 'kill_volume', 'plate_id', 'source', 'stain', 'well', 'experiment_id', 'Time', 'FSC-A', 'SSC-A', 'BL1-A', 'RL1-A', 'FSC-H', 'SSC-H', 'BL1-H', 'RL1-H', 'FSC-W', 'SSC-W', 'BL1-W', 'RL1-W', 'index']\n"
     ]
    },
    {
     "name": "stderr",
     "output_type": "stream",
     "text": [
      "/Users/danbryce/Documents/sift/xplan/external/xplan/xplan-to-autoprotocol-reactor/xplan-dev-env/xplan-dev-env/lib/python3.7/site-packages/pandas/core/indexing.py:480: SettingWithCopyWarning: \n",
      "A value is trying to be set on a copy of a slice from a DataFrame.\n",
      "Try using .loc[row_indexer,col_indexer] = value instead\n",
      "\n",
      "See the caveats in the documentation: http://pandas.pydata.org/pandas-docs/stable/user_guide/indexing.html#returning-a-view-versus-a-copy\n",
      "  self.obj[item] = s\n"
     ]
    },
    {
     "name": "stdout",
     "output_type": "stream",
     "text": [
      "['FSC-A', 'SSC-A', 'BL1-A', 'RL1-A', 'FSC-H', 'SSC-H', 'BL1-H', 'RL1-H', 'FSC-W', 'SSC-W', 'BL1-W', 'RL1-W']\n",
      "\n",
      "<harness.test_harness_class.TestHarness object at 0x181cac7f0>\n",
      "----------------------------------------------------------------------------------------------------\n",
      "Starting run at time 11:39:45\n",
      "Normalizing training and testing splits...\n",
      "Starting Classification training...\n",
      "Training time was: 29.51 seconds\n",
      "Testing time was: 0.66 seconds\n",
      "Prediction time of untested data was: 12.722727298736572\n",
      "\n",
      "          Run ID        Date      Time                    Model Name Model Author Num Classes  Accuracy  Balanced Accuracy  AUC Score  Average Precision  F1 Score  Precision  Recall Samples In Train Samples In Test                                                                                      Model Description Column Predicted Num Features Used                                                                                                                      Data and Split Description Normalized Num Features Normalized Feature Extraction Was Untested Data Predicted\n",
      "0  aPVpNDjlG6o9R  2019-07-30  11:39:45  random_forest_classification  Hamed        2           0.998     0.998              1.0        1.0                0.998     0.999      0.998   192000           48000           Random Forest: n_estimators=361, max_features=auto, criterion=entropy, min_samples_leaf=13, n_jobs=-1  class_label      12                {'experiment_id': 'r1dd37mcxv5pf4', 'random_state': 0, 'live_volume': 0, 'dead_volume': 980.0, 'stain': 'SYTOX Red Stain', 'prediction': True}  True       12                      False              True                      \n",
      "\n",
      "Run finished at 11:40:38. Total run time = 53.70 seconds\n",
      "^^^^^^^^^^^^^^^^^^^^^^^^^^^^^^^^^^^^^^^^^^^^^^^^^^^^^^^^^^^^^^^^^^^^^^^^^^^^^^^^^^^^^^^^^^^^^^^^^^^^\n",
      "\n",
      "\n",
      "\n",
      "\n",
      "None\n",
      "{'experiment_id': 'r1dd37mcxv5pf4', 'random_state': 0, 'live_volume': 0, 'dead_volume': 980.0, 'stain': None, 'prediction': True}\n",
      "data_columns: ['Container Type', 'Control', 'Culture_Volume', 'Media', 'Replicate', 'Storage (C)', 'Strain', 'checksum', 'filename', 'kill', 'kill_volume', 'plate_id', 'source', 'stain', 'well', 'experiment_id', 'Time', 'FSC-A', 'SSC-A', 'BL1-A', 'RL1-A', 'FSC-H', 'SSC-H', 'BL1-H', 'RL1-H', 'FSC-W', 'SSC-W', 'BL1-W', 'RL1-W', 'index']\n"
     ]
    },
    {
     "name": "stderr",
     "output_type": "stream",
     "text": [
      "/Users/danbryce/Documents/sift/xplan/external/xplan/xplan-to-autoprotocol-reactor/xplan-dev-env/xplan-dev-env/lib/python3.7/site-packages/pandas/core/indexing.py:480: SettingWithCopyWarning: \n",
      "A value is trying to be set on a copy of a slice from a DataFrame.\n",
      "Try using .loc[row_indexer,col_indexer] = value instead\n",
      "\n",
      "See the caveats in the documentation: http://pandas.pydata.org/pandas-docs/stable/user_guide/indexing.html#returning-a-view-versus-a-copy\n",
      "  self.obj[item] = s\n"
     ]
    },
    {
     "name": "stdout",
     "output_type": "stream",
     "text": [
      "['FSC-A', 'SSC-A', 'BL1-A', 'RL1-A', 'FSC-H', 'SSC-H', 'BL1-H', 'RL1-H', 'FSC-W', 'SSC-W', 'BL1-W', 'RL1-W']\n",
      "\n",
      "<harness.test_harness_class.TestHarness object at 0x2ee5fb908>\n",
      "----------------------------------------------------------------------------------------------------\n",
      "Starting run at time 11:40:47\n",
      "Normalizing training and testing splits...\n",
      "Starting Classification training...\n",
      "Training time was: 35.19 seconds\n",
      "Testing time was: 0.65 seconds\n",
      "Prediction time of untested data was: 14.104676961898804\n",
      "\n",
      "          Run ID        Date      Time                    Model Name Model Author Num Classes  Accuracy  Balanced Accuracy  AUC Score  Average Precision  F1 Score  Precision  Recall Samples In Train Samples In Test                                                                                      Model Description Column Predicted Num Features Used                                                                                                         Data and Split Description Normalized Num Features Normalized Feature Extraction Was Untested Data Predicted\n",
      "0  ERWWzq6b3873J  2019-07-30  11:40:47  random_forest_classification  Hamed        2           0.994     0.994              1.0        1.0                0.994     0.993      0.996   192000           48000           Random Forest: n_estimators=361, max_features=auto, criterion=entropy, min_samples_leaf=13, n_jobs=-1  class_label      12                {'experiment_id': 'r1dd37mcxv5pf4', 'random_state': 0, 'live_volume': 0, 'dead_volume': 980.0, 'stain': None, 'prediction': True}  True       12                      False              True                      \n",
      "\n",
      "Run finished at 11:41:47. Total run time = 60.20 seconds\n",
      "^^^^^^^^^^^^^^^^^^^^^^^^^^^^^^^^^^^^^^^^^^^^^^^^^^^^^^^^^^^^^^^^^^^^^^^^^^^^^^^^^^^^^^^^^^^^^^^^^^^^\n",
      "\n",
      "\n",
      "\n",
      "\n"
     ]
    }
   ],
   "source": [
    "pred_df = blda.train_models_for_prediction(df, data_dir=work_dir,\n",
    "                                 fcs_columns=['FSC-A', 'SSC-A', 'BL1-A', 'RL1-A', 'FSC-H', \n",
    "                                      'SSC-H', 'BL1-H', 'RL1-H', 'FSC-W', 'SSC-W',\n",
    "                                      'BL1-W', 'RL1-W'],\n",
    "                                           combine_stains=False,\n",
    "                                          overwrite=True,\n",
    "                                          output_col = 'live')\n",
    "pred_df.to_csv(os.path.join(work_dir, 'data.csv'))"
   ]
  },
  {
   "cell_type": "code",
   "execution_count": 106,
   "metadata": {},
   "outputs": [
    {
     "name": "stdout",
     "output_type": "stream",
     "text": [
      "SYTOX Red Stain\n",
      "{'experiment_id': 'r1dd37mcxv5pf4', 'random_state': 0, 'live_volume': 0, 'dead_volume': 980.0, 'stain': 'SYTOX Red Stain', 'prediction': True, 'channels': ['SSC-A', 'SSC-H', 'SSC-W']}\n",
      "data_columns: ['Container Type', 'Control', 'Culture_Volume', 'Media', 'Replicate', 'Storage (C)', 'Strain', 'checksum', 'filename', 'kill', 'kill_volume', 'plate_id', 'source', 'stain', 'well', 'experiment_id', 'Time', 'FSC-A', 'SSC-A', 'BL1-A', 'RL1-A', 'FSC-H', 'SSC-H', 'BL1-H', 'RL1-H', 'FSC-W', 'SSC-W', 'BL1-W', 'RL1-W', 'index']\n"
     ]
    },
    {
     "name": "stderr",
     "output_type": "stream",
     "text": [
      "/Users/danbryce/Documents/sift/xplan/external/xplan/xplan-to-autoprotocol-reactor/xplan-dev-env/xplan-dev-env/lib/python3.7/site-packages/pandas/core/indexing.py:480: SettingWithCopyWarning: \n",
      "A value is trying to be set on a copy of a slice from a DataFrame.\n",
      "Try using .loc[row_indexer,col_indexer] = value instead\n",
      "\n",
      "See the caveats in the documentation: http://pandas.pydata.org/pandas-docs/stable/user_guide/indexing.html#returning-a-view-versus-a-copy\n",
      "  self.obj[item] = s\n"
     ]
    },
    {
     "name": "stdout",
     "output_type": "stream",
     "text": [
      "['SSC-A', 'SSC-H', 'SSC-W']\n",
      "\n",
      "<harness.test_harness_class.TestHarness object at 0x2a3312d68>\n",
      "----------------------------------------------------------------------------------------------------\n",
      "Starting run at time 11:46:21\n",
      "Normalizing training and testing splits...\n",
      "Starting Classification training...\n",
      "Training time was: 28.02 seconds\n",
      "Testing time was: 0.83 seconds\n",
      "Prediction time of untested data was: 18.304264783859253\n",
      "\n",
      "          Run ID        Date      Time                    Model Name Model Author Num Classes  Accuracy  Balanced Accuracy  AUC Score  Average Precision  F1 Score  Precision  Recall Samples In Train Samples In Test                                                                                      Model Description Column Predicted Num Features Used                                                                                                                                                               Data and Split Description Normalized Num Features Normalized Feature Extraction Was Untested Data Predicted\n",
      "0  a3Bb16mloEPbo  2019-07-30  11:46:21  random_forest_classification  Hamed        2           0.989     0.989              0.998      0.997              0.989     0.983      0.995   192000           48000           Random Forest: n_estimators=361, max_features=auto, criterion=entropy, min_samples_leaf=13, n_jobs=-1  class_label      3                 {'experiment_id': 'r1dd37mcxv5pf4', 'random_state': 0, 'live_volume': 0, 'dead_volume': 980.0, 'stain': 'SYTOX Red Stain', 'prediction': True, 'channels': ['SSC-A', 'SSC-H', 'SSC-W']}  True       3                       False              True                      \n",
      "\n",
      "Run finished at 11:47:18. Total run time = 56.64 seconds\n",
      "^^^^^^^^^^^^^^^^^^^^^^^^^^^^^^^^^^^^^^^^^^^^^^^^^^^^^^^^^^^^^^^^^^^^^^^^^^^^^^^^^^^^^^^^^^^^^^^^^^^^\n",
      "\n",
      "\n",
      "\n",
      "\n",
      "None\n",
      "{'experiment_id': 'r1dd37mcxv5pf4', 'random_state': 0, 'live_volume': 0, 'dead_volume': 980.0, 'stain': None, 'prediction': True, 'channels': ['SSC-A', 'SSC-H', 'SSC-W']}\n",
      "data_columns: ['Container Type', 'Control', 'Culture_Volume', 'Media', 'Replicate', 'Storage (C)', 'Strain', 'checksum', 'filename', 'kill', 'kill_volume', 'plate_id', 'source', 'stain', 'well', 'experiment_id', 'Time', 'FSC-A', 'SSC-A', 'BL1-A', 'RL1-A', 'FSC-H', 'SSC-H', 'BL1-H', 'RL1-H', 'FSC-W', 'SSC-W', 'BL1-W', 'RL1-W', 'index']\n"
     ]
    },
    {
     "name": "stderr",
     "output_type": "stream",
     "text": [
      "/Users/danbryce/Documents/sift/xplan/external/xplan/xplan-to-autoprotocol-reactor/xplan-dev-env/xplan-dev-env/lib/python3.7/site-packages/pandas/core/indexing.py:480: SettingWithCopyWarning: \n",
      "A value is trying to be set on a copy of a slice from a DataFrame.\n",
      "Try using .loc[row_indexer,col_indexer] = value instead\n",
      "\n",
      "See the caveats in the documentation: http://pandas.pydata.org/pandas-docs/stable/user_guide/indexing.html#returning-a-view-versus-a-copy\n",
      "  self.obj[item] = s\n"
     ]
    },
    {
     "name": "stdout",
     "output_type": "stream",
     "text": [
      "['SSC-A', 'SSC-H', 'SSC-W']\n",
      "\n",
      "<harness.test_harness_class.TestHarness object at 0x2a3312160>\n",
      "----------------------------------------------------------------------------------------------------\n",
      "Starting run at time 11:47:26\n",
      "Normalizing training and testing splits...\n",
      "Starting Classification training...\n",
      "Training time was: 25.12 seconds\n",
      "Testing time was: 0.83 seconds\n",
      "Prediction time of untested data was: 20.649171113967896\n",
      "\n",
      "          Run ID        Date      Time                    Model Name Model Author Num Classes  Accuracy  Balanced Accuracy  AUC Score  Average Precision  F1 Score  Precision  Recall Samples In Train Samples In Test                                                                                      Model Description Column Predicted Num Features Used                                                                                                                                                  Data and Split Description Normalized Num Features Normalized Feature Extraction Was Untested Data Predicted\n",
      "0  EMv1AWBpzQr7x  2019-07-30  11:47:26  random_forest_classification  Hamed        2           0.985     0.985              0.997      0.996              0.985     0.979      0.993   192000           48000           Random Forest: n_estimators=361, max_features=auto, criterion=entropy, min_samples_leaf=13, n_jobs=-1  class_label      3                 {'experiment_id': 'r1dd37mcxv5pf4', 'random_state': 0, 'live_volume': 0, 'dead_volume': 980.0, 'stain': None, 'prediction': True, 'channels': ['SSC-A', 'SSC-H', 'SSC-W']}  True       3                       False              True                      \n",
      "\n",
      "Run finished at 11:48:22. Total run time = 55.87 seconds\n",
      "^^^^^^^^^^^^^^^^^^^^^^^^^^^^^^^^^^^^^^^^^^^^^^^^^^^^^^^^^^^^^^^^^^^^^^^^^^^^^^^^^^^^^^^^^^^^^^^^^^^^\n",
      "\n",
      "\n",
      "\n",
      "\n"
     ]
    }
   ],
   "source": [
    "# Train on just side scatter\n",
    "pred_df = blda.train_models_for_prediction(df, data_dir=work_dir,\n",
    "                                 fcs_columns=[ 'SSC-A','SSC-H', 'SSC-W'],\n",
    "                                           combine_stains=False,\n",
    "                                          overwrite=True,\n",
    "                                          additional_description={\n",
    "                                              'channels' : [ 'SSC-A','SSC-H', 'SSC-W']\n",
    "                                          },\n",
    "                                          output_col = 'live_ss')\n",
    "pred_df.to_csv(os.path.join(work_dir, 'data.csv'))"
   ]
  },
  {
   "cell_type": "code",
   "execution_count": 107,
   "metadata": {},
   "outputs": [
    {
     "data": {
      "text/plain": [
       "Index(['Container Type', 'Control', 'Culture_Volume', 'Media', 'Replicate', 'Storage (C)', 'Strain', 'checksum', 'filename', 'kill', 'kill_volume', 'plate_id', 'source', 'stain', 'well', 'experiment_id', 'Time', 'FSC-A', 'SSC-A', 'BL1-A', 'RL1-A', 'FSC-H', 'SSC-H', 'BL1-H', 'RL1-H', 'FSC-W', 'SSC-W', 'BL1-W', 'RL1-W', 'index', 'live_ss'], dtype='object')"
      ]
     },
     "execution_count": 107,
     "metadata": {},
     "output_type": "execute_result"
    }
   ],
   "source": [
    "pred_df.columns"
   ]
  },
  {
   "cell_type": "code",
   "execution_count": 98,
   "metadata": {},
   "outputs": [
    {
     "data": {
      "text/plain": [
       "1098660"
      ]
     },
     "execution_count": 98,
     "metadata": {},
     "output_type": "execute_result"
    }
   ],
   "source": [
    "len(pred_df.loc[pred_df.stain == 'SYTOX Red Stain'])"
   ]
  },
  {
   "cell_type": "code",
   "execution_count": null,
   "metadata": {},
   "outputs": [],
   "source": []
  }
 ],
 "metadata": {
  "kernelspec": {
   "display_name": "Python 3",
   "language": "python",
   "name": "python3"
  },
  "language_info": {
   "codemirror_mode": {
    "name": "ipython",
    "version": 3
   },
   "file_extension": ".py",
   "mimetype": "text/x-python",
   "name": "python",
   "nbconvert_exporter": "python",
   "pygments_lexer": "ipython3",
   "version": "3.7.0"
  }
 },
 "nbformat": 4,
 "nbformat_minor": 2
}
