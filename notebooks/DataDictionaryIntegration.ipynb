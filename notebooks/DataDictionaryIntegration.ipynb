{
 "cells": [
  {
   "cell_type": "code",
   "execution_count": 2,
   "metadata": {},
   "outputs": [],
   "source": [
    "from pysd2cat.data import data_dictionary as dd"
   ]
  },
  {
   "cell_type": "code",
   "execution_count": 3,
   "metadata": {},
   "outputs": [],
   "source": [
    "from sbol import *\n",
    "from synbiohub_adapter.query_synbiohub import *\n",
    "from synbiohub_adapter.SynBioHubUtil import *\n",
    "from synbiohub_adapter.SynBioHubUtil import SD2Constants\n",
    "\n",
    "def get_sbh_query():\n",
    "    sbh_query = SynBioHubQuery(SD2Constants.SD2_SERVER)\n",
    "    sbh_query.login(\"sd2e\", \"***REMOVED***\")\n",
    "    return sbh_query\n",
    "\n",
    "def get_uri_handle(uri):\n",
    "    sbh_query = get_sbh_query()\n",
    "    # Are we parsing a URI directly, not an internal lab id?\n",
    "    query =\"\"\"PREFIX sbol: <http://sbols.org/v2#>\n",
    "    PREFIX dcterms: <http://purl.org/dc/terms/>\n",
    "    PREFIX sd2: <http://sd2e.org#>\n",
    "    SELECT ?id WHERE {{\n",
    "        <https://hub.sd2e.org/user/sd2e/design/design_collection/1> sbol:member ?identity .\n",
    "        ?identity <http://sd2e.org#Transcriptic_UID> ?id .\n",
    "        VALUES (?identity) {{ (<{}>) }}\n",
    "    }}\"\"\".format(uri)\n",
    "\n",
    "    designs = sbh_query.fetch_SPARQL(SD2Constants.SD2_SERVER, query)\n",
    "\n",
    "    # format return\n",
    "    designs = sbh_query.format_query_result(designs, ['id'])\n",
    "    return designs[0]\n"
   ]
  },
  {
   "cell_type": "code",
   "execution_count": 4,
   "metadata": {},
   "outputs": [
    {
     "data": {
      "text/plain": [
       "'6390'"
      ]
     },
     "execution_count": 4,
     "metadata": {},
     "output_type": "execute_result"
    }
   ],
   "source": [
    "\n",
    "# URI\n",
    "uri = \"https://hub.sd2e.org/user/sd2e/design/UWBF_6390/1\"\n",
    "get_uri_handle(uri)"
   ]
  }
 ],
 "metadata": {
  "kernelspec": {
   "display_name": "xplan-dev-env",
   "language": "python",
   "name": "xplan-dev-env"
  },
  "language_info": {
   "codemirror_mode": {
    "name": "ipython",
    "version": 3
   },
   "file_extension": ".py",
   "mimetype": "text/x-python",
   "name": "python",
   "nbconvert_exporter": "python",
   "pygments_lexer": "ipython3",
   "version": "3.7.0"
  }
 },
 "nbformat": 4,
 "nbformat_minor": 2
}
